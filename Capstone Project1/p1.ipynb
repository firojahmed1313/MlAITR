{
 "cells": [
  {
   "cell_type": "code",
   "execution_count": 29,
   "metadata": {},
   "outputs": [],
   "source": [
    "#pip install numpy"
   ]
  },
  {
   "cell_type": "code",
   "execution_count": 30,
   "metadata": {},
   "outputs": [],
   "source": [
    "#pip install pandas"
   ]
  },
  {
   "cell_type": "code",
   "execution_count": 31,
   "metadata": {},
   "outputs": [],
   "source": [
    "#pip install matplotlib"
   ]
  },
  {
   "cell_type": "code",
   "execution_count": 32,
   "metadata": {},
   "outputs": [],
   "source": [
    "import numpy as np\n",
    "import pandas as pd\n",
    "import matplotlib as mp\n"
   ]
  },
  {
   "cell_type": "code",
   "execution_count": 33,
   "metadata": {},
   "outputs": [
    {
     "name": "stdout",
     "output_type": "stream",
     "text": [
      "   loan_id   no_of_dependents      education  self_employed   income_annum  \\\n",
      "0        1                  2       Graduate             No      9600000.0   \n",
      "1        1                  2       Graduate             No      9600000.0   \n",
      "2        1                  2       Graduate             No      9600000.0   \n",
      "3        2                  0   Not Graduate            Yes      4100000.0   \n",
      "4        3                  3       Graduate             No      9100000.0   \n",
      "\n",
      "    loan_amount   loan_term   cibil_score   residential_assets_value  \\\n",
      "0    29900000.0          12           778                  2400000.0   \n",
      "1    29900000.0          12           778                  2400000.0   \n",
      "2    29900000.0          12           778                  2400000.0   \n",
      "3    12200000.0           8           417                  2700000.0   \n",
      "4    29700000.0          20           506                  7100000.0   \n",
      "\n",
      "    commercial_assets_value   luxury_assets_value   bank_asset_value  \\\n",
      "0                17600000.0            22700000.0          8000000.0   \n",
      "1                17600000.0            22700000.0          8000000.0   \n",
      "2                17600000.0            22700000.0          8000000.0   \n",
      "3                 2200000.0             8800000.0          3300000.0   \n",
      "4                 4500000.0            33300000.0         12800000.0   \n",
      "\n",
      "   loan_status  \n",
      "0     Approved  \n",
      "1     Approved  \n",
      "2     Approved  \n",
      "3     Rejected  \n",
      "4     Rejected  \n",
      "      loan_id   no_of_dependents      education  self_employed   income_annum  \\\n",
      "4266     4265                  5       Graduate            Yes      1000000.0   \n",
      "4267     4266                  0   Not Graduate            Yes      3300000.0   \n",
      "4268     4267                  2   Not Graduate             No      6500000.0   \n",
      "4269     4268                  1   Not Graduate             No      4100000.0   \n",
      "4270     4269                  1       Graduate             No      9200000.0   \n",
      "\n",
      "       loan_amount   loan_term   cibil_score   residential_assets_value  \\\n",
      "4266     2300000.0          12           317                  2800000.0   \n",
      "4267    11300000.0          20           559                  4200000.0   \n",
      "4268    23900000.0          18           457                  1200000.0   \n",
      "4269    12800000.0           8           780                  8200000.0   \n",
      "4270    29700000.0          10           607                 17800000.0   \n",
      "\n",
      "       commercial_assets_value   luxury_assets_value   bank_asset_value  \\\n",
      "4266                  500000.0             3300000.0           800000.0   \n",
      "4267                 2900000.0            11000000.0          1900000.0   \n",
      "4268                12400000.0            18100000.0          7300000.0   \n",
      "4269                  700000.0            14100000.0          5800000.0   \n",
      "4270                11800000.0            35700000.0         12000000.0   \n",
      "\n",
      "      loan_status  \n",
      "4266     Rejected  \n",
      "4267     Approved  \n",
      "4268     Rejected  \n",
      "4269     Approved  \n",
      "4270     Approved  \n"
     ]
    }
   ],
   "source": [
    "data=pd.read_csv(\"Loan.csv\")\n",
    "print(data.head())\n",
    "print(data.tail())"
   ]
  },
  {
   "cell_type": "code",
   "execution_count": 34,
   "metadata": {},
   "outputs": [
    {
     "name": "stdout",
     "output_type": "stream",
     "text": [
      "   loan_application_id  financially_dependent_count highest_education  \\\n",
      "0                    1                            2          Graduate   \n",
      "1                    1                            2          Graduate   \n",
      "2                    1                            2          Graduate   \n",
      "3                    2                            0      Not Graduate   \n",
      "4                    3                            3          Graduate   \n",
      "\n",
      "  employment_status  annual_income  loan_principal  loan_duration_months  \\\n",
      "0                No      9600000.0      29900000.0                    12   \n",
      "1                No      9600000.0      29900000.0                    12   \n",
      "2                No      9600000.0      29900000.0                    12   \n",
      "3               Yes      4100000.0      12200000.0                     8   \n",
      "4                No      9100000.0      29700000.0                    20   \n",
      "\n",
      "   credit_score  primary_residence_value  commercial_property_value  \\\n",
      "0           778                2400000.0                 17600000.0   \n",
      "1           778                2400000.0                 17600000.0   \n",
      "2           778                2400000.0                 17600000.0   \n",
      "3           417                2700000.0                  2200000.0   \n",
      "4           506                7100000.0                  4500000.0   \n",
      "\n",
      "   high_value_assets  liquid_assets loan_approval_decision  \n",
      "0         22700000.0      8000000.0               Approved  \n",
      "1         22700000.0      8000000.0               Approved  \n",
      "2         22700000.0      8000000.0               Approved  \n",
      "3          8800000.0      3300000.0               Rejected  \n",
      "4         33300000.0     12800000.0               Rejected  \n"
     ]
    }
   ],
   "source": [
    "data=data.rename(\n",
    "    columns={\n",
    "        'loan_id':'loan_application_id',\n",
    "        ' no_of_dependents':'financially_dependent_count',\n",
    "        ' education':'highest_education',\n",
    "        ' self_employed':'employment_status',\n",
    "        ' income_annum':'annual_income',\n",
    "        ' loan_amount':'loan_principal',\n",
    "        ' loan_term':'loan_duration_months',\n",
    "        ' cibil_score':'credit_score',\n",
    "        ' residential_assets_value':'primary_residence_value',\n",
    "        ' commercial_assets_value':'commercial_property_value',\n",
    "        ' luxury_assets_value':'high_value_assets',\n",
    "        ' bank_asset_value':'liquid_assets',\n",
    "        ' loan_status':'loan_approval_decision'   \n",
    "    }\n",
    ")\n",
    "print(data.head())"
   ]
  },
  {
   "cell_type": "code",
   "execution_count": 35,
   "metadata": {},
   "outputs": [
    {
     "name": "stdout",
     "output_type": "stream",
     "text": [
      "Number of Rows is 4271 \n",
      "Number of Columns is 13\n"
     ]
    }
   ],
   "source": [
    "r,c=data.shape\n",
    "print(f'Number of Rows is {r} \\nNumber of Columns is {c}')"
   ]
  },
  {
   "cell_type": "code",
   "execution_count": 36,
   "metadata": {},
   "outputs": [
    {
     "name": "stdout",
     "output_type": "stream",
     "text": [
      "<class 'pandas.core.frame.DataFrame'>\n",
      "RangeIndex: 4271 entries, 0 to 4270\n",
      "Data columns (total 13 columns):\n",
      " #   Column                       Non-Null Count  Dtype  \n",
      "---  ------                       --------------  -----  \n",
      " 0   loan_application_id          4271 non-null   int64  \n",
      " 1   financially_dependent_count  4271 non-null   int64  \n",
      " 2   highest_education            4269 non-null   object \n",
      " 3   employment_status            4271 non-null   object \n",
      " 4   annual_income                4269 non-null   float64\n",
      " 5   loan_principal               4270 non-null   float64\n",
      " 6   loan_duration_months         4271 non-null   int64  \n",
      " 7   credit_score                 4271 non-null   int64  \n",
      " 8   primary_residence_value      4269 non-null   float64\n",
      " 9   commercial_property_value    4269 non-null   float64\n",
      " 10  high_value_assets            4270 non-null   float64\n",
      " 11  liquid_assets                4270 non-null   float64\n",
      " 12  loan_approval_decision       4271 non-null   object \n",
      "dtypes: float64(6), int64(4), object(3)\n",
      "memory usage: 433.9+ KB\n",
      "None\n"
     ]
    }
   ],
   "source": [
    "info_col=data.info()\n",
    "print(info_col)"
   ]
  },
  {
   "cell_type": "code",
   "execution_count": 37,
   "metadata": {},
   "outputs": [
    {
     "name": "stdout",
     "output_type": "stream",
     "text": [
      "['highest_education', 'annual_income', 'loan_principal', 'primary_residence_value', 'commercial_property_value', 'high_value_assets', 'liquid_assets']\n"
     ]
    }
   ],
   "source": [
    "print(data.columns[data.isna().any()].tolist())"
   ]
  },
  {
   "cell_type": "code",
   "execution_count": 38,
   "metadata": {},
   "outputs": [
    {
     "name": "stdout",
     "output_type": "stream",
     "text": [
      "loan_application_id            0\n",
      "financially_dependent_count    0\n",
      "highest_education              2\n",
      "employment_status              0\n",
      "annual_income                  2\n",
      "loan_principal                 1\n",
      "loan_duration_months           0\n",
      "credit_score                   0\n",
      "primary_residence_value        2\n",
      "commercial_property_value      2\n",
      "high_value_assets              1\n",
      "liquid_assets                  1\n",
      "loan_approval_decision         0\n",
      "dtype: int64\n"
     ]
    }
   ],
   "source": [
    "print(data.isnull().sum())"
   ]
  },
  {
   "cell_type": "code",
   "execution_count": 39,
   "metadata": {},
   "outputs": [],
   "source": [
    "data['annual_income']=data['annual_income'].fillna(data['annual_income'].median())\n",
    "data['highest_education']=data['highest_education'].fillna(data['highest_education'].mode()[0])\n",
    "data['loan_principal']=data['loan_principal'].fillna(data['loan_principal'].median())\n",
    "data['loan_principal']=data['loan_principal'].fillna(data['loan_principal'].median())\n",
    "data['primary_residence_value']=data['primary_residence_value'].fillna(data['primary_residence_value'].mean())\n",
    "data['commercial_property_value']=data['commercial_property_value'].fillna(data['commercial_property_value'].mean())\n",
    "data['high_value_assets']=data['high_value_assets'].fillna(data['high_value_assets'].median())\n",
    "data['liquid_assets']=data['liquid_assets'].fillna(data['liquid_assets'].median())\n"
   ]
  },
  {
   "cell_type": "code",
   "execution_count": 40,
   "metadata": {},
   "outputs": [
    {
     "name": "stdout",
     "output_type": "stream",
     "text": [
      "   loan_application_id  financially_dependent_count highest_education  \\\n",
      "1                    1                            2          Graduate   \n",
      "2                    1                            2          Graduate   \n",
      "\n",
      "  employment_status  annual_income  loan_principal  loan_duration_months  \\\n",
      "1                No      9600000.0      29900000.0                    12   \n",
      "2                No      9600000.0      29900000.0                    12   \n",
      "\n",
      "   credit_score  primary_residence_value  commercial_property_value  \\\n",
      "1           778                2400000.0                 17600000.0   \n",
      "2           778                2400000.0                 17600000.0   \n",
      "\n",
      "   high_value_assets  liquid_assets loan_approval_decision  \n",
      "1         22700000.0      8000000.0               Approved  \n",
      "2         22700000.0      8000000.0               Approved  \n"
     ]
    }
   ],
   "source": [
    "duplicate = data[data.duplicated()]\n",
    "print(duplicate)"
   ]
  },
  {
   "cell_type": "code",
   "execution_count": 41,
   "metadata": {},
   "outputs": [],
   "source": [
    "data.drop_duplicates(inplace=True)\n"
   ]
  },
  {
   "cell_type": "code",
   "execution_count": 42,
   "metadata": {},
   "outputs": [],
   "source": [
    "data['highest_education']=data['highest_education'].apply(lambda x: 1 if x==' Graduate' else 0)\n",
    "data['loan_approval_decision']=data['loan_approval_decision'].apply(lambda x: 1 if x==' Approved' else 0)\n",
    "data['employment_status']=data['employment_status'].apply(lambda x: 1 if x==' Yes' else 0)\n"
   ]
  },
  {
   "cell_type": "code",
   "execution_count": 43,
   "metadata": {},
   "outputs": [
    {
     "name": "stdout",
     "output_type": "stream",
     "text": [
      "Empty DataFrame\n",
      "Columns: [loan_application_id, financially_dependent_count, highest_education, employment_status, annual_income, loan_principal, loan_duration_months, credit_score, primary_residence_value, commercial_property_value, high_value_assets, liquid_assets, loan_approval_decision]\n",
      "Index: []\n"
     ]
    }
   ],
   "source": [
    "z_scores = (data['liquid_assets'] - data['liquid_assets'].mean()) / data['liquid_assets'].std()\n",
    "outliers = data[np.abs(z_scores) > 3] \n",
    "print(outliers)\n",
    "data['liquid_assets'] = np.where(np.abs(z_scores) > 3, data['liquid_assets'].median(), data['liquid_assets'])\n"
   ]
  },
  {
   "cell_type": "code",
   "execution_count": 44,
   "metadata": {},
   "outputs": [
    {
     "name": "stdout",
     "output_type": "stream",
     "text": [
      "      loan_application_id  financially_dependent_count  highest_education  \\\n",
      "0                       1                            2                  1   \n",
      "159                   158                            5                  0   \n",
      "233                   232                            2                  1   \n",
      "260                   259                            0                  1   \n",
      "325                   324                            3                  0   \n",
      "369                   368                            1                  0   \n",
      "556                   555                            3                  0   \n",
      "793                   792                            4                  1   \n",
      "897                   896                            0                  1   \n",
      "907                   906                            5                  0   \n",
      "1031                 1030                            2                  0   \n",
      "1133                 1132                            0                  0   \n",
      "1196                 1195                            4                  0   \n",
      "1256                 1255                            5                  0   \n",
      "1274                 1273                            5                  0   \n",
      "1306                 1305                            2                  1   \n",
      "1611                 1610                            5                  0   \n",
      "1763                 1762                            2                  0   \n",
      "1770                 1769                            4                  0   \n",
      "1814                 1813                            5                  0   \n",
      "2006                 2005                            2                  0   \n",
      "2304                 2303                            5                  1   \n",
      "2351                 2350                            0                  1   \n",
      "2916                 2915                            3                  0   \n",
      "2935                 2934                            0                  1   \n",
      "2942                 2941                            1                  1   \n",
      "2978                 2977                            3                  0   \n",
      "3002                 3001                            1                  0   \n",
      "3441                 3440                            5                  0   \n",
      "3543                 3542                            3                  0   \n",
      "3792                 3791                            1                  0   \n",
      "3829                 3828                            1                  1   \n",
      "3884                 3883                            1                  1   \n",
      "3951                 3950                            1                  0   \n",
      "4012                 4011                            3                  1   \n",
      "4122                 4121                            3                  1   \n",
      "4207                 4206                            2                  0   \n",
      "\n",
      "      employment_status  annual_income  loan_principal  loan_duration_months  \\\n",
      "0                     0      9600000.0      29900000.0                    12   \n",
      "159                   1      9900000.0      33300000.0                     6   \n",
      "233                   0      9800000.0      32400000.0                     2   \n",
      "260                   0      9800000.0      38800000.0                     8   \n",
      "325                   1      9500000.0      24200000.0                     8   \n",
      "369                   1      9400000.0      29800000.0                    10   \n",
      "556                   1      9500000.0      22800000.0                     6   \n",
      "793                   1      9300000.0      35500000.0                     6   \n",
      "897                   0      9400000.0      27900000.0                     6   \n",
      "907                   0      9700000.0      37000000.0                    14   \n",
      "1031                  1      9500000.0      37000000.0                     8   \n",
      "1133                  0      9900000.0      27000000.0                    16   \n",
      "1196                  1      9000000.0      21500000.0                    14   \n",
      "1256                  1      9800000.0      35700000.0                    10   \n",
      "1274                  0      9900000.0      35800000.0                    20   \n",
      "1306                  1      9400000.0      24800000.0                    14   \n",
      "1611                  1      9800000.0      23200000.0                    10   \n",
      "1763                  1      9800000.0      32700000.0                     2   \n",
      "1770                  0      9900000.0      29100000.0                    18   \n",
      "1814                  0      9000000.0      35200000.0                     2   \n",
      "2006                  0      9900000.0      31600000.0                    16   \n",
      "2304                  1      9700000.0      30100000.0                    12   \n",
      "2351                  0      9200000.0      22500000.0                    10   \n",
      "2916                  1      9900000.0      36500000.0                    16   \n",
      "2935                  0      9600000.0      23200000.0                    18   \n",
      "2942                  1      9600000.0      34100000.0                    20   \n",
      "2978                  1      9400000.0      30900000.0                    20   \n",
      "3002                  1      9900000.0      25700000.0                     2   \n",
      "3441                  1      9700000.0      27400000.0                     2   \n",
      "3543                  0      8800000.0      24900000.0                    16   \n",
      "3792                  0      9600000.0      32400000.0                    20   \n",
      "3829                  1      9600000.0      35900000.0                     8   \n",
      "3884                  1      9700000.0      34300000.0                    20   \n",
      "3951                  1      9100000.0      23600000.0                    20   \n",
      "4012                  1      9000000.0      18600000.0                    16   \n",
      "4122                  0      9100000.0      19900000.0                     2   \n",
      "4207                  0      8900000.0      17800000.0                    20   \n",
      "\n",
      "      credit_score  primary_residence_value  commercial_property_value  \\\n",
      "0              778                2400000.0                 17600000.0   \n",
      "159            364                5300000.0                 18700000.0   \n",
      "233            543               24200000.0                 17500000.0   \n",
      "260            652               23200000.0                 19000000.0   \n",
      "325            879                3100000.0                 17200000.0   \n",
      "369            377               24100000.0                 18500000.0   \n",
      "556            319                 200000.0                 18800000.0   \n",
      "793            547                2800000.0                 17800000.0   \n",
      "897            456               21400000.0                 18500000.0   \n",
      "907            459               28700000.0                 17900000.0   \n",
      "1031           887               21800000.0                 18300000.0   \n",
      "1133           566                3500000.0                 17300000.0   \n",
      "1196           508               16600000.0                 17300000.0   \n",
      "1256           726                9400000.0                 18900000.0   \n",
      "1274           470                9500000.0                 18400000.0   \n",
      "1306           513               24200000.0                 18200000.0   \n",
      "1611           416               11000000.0                 17300000.0   \n",
      "1763           304                4700000.0                 19000000.0   \n",
      "1770           772               24100000.0                 19400000.0   \n",
      "1814           437               18400000.0                 17800000.0   \n",
      "2006           892                4200000.0                 17500000.0   \n",
      "2304           434               19600000.0                 17900000.0   \n",
      "2351           317               14200000.0                 17400000.0   \n",
      "2916           562               17300000.0                 18500000.0   \n",
      "2935           389                1000000.0                 17600000.0   \n",
      "2942           828               26100000.0                 19000000.0   \n",
      "2978           873               22800000.0                 17700000.0   \n",
      "3002           340               15600000.0                 18800000.0   \n",
      "3441           328                      0.0                 18400000.0   \n",
      "3543           668               16700000.0                 17200000.0   \n",
      "3792           447               15400000.0                 18400000.0   \n",
      "3829           534               24500000.0                 17700000.0   \n",
      "3884           756               15700000.0                 18500000.0   \n",
      "3951           535                2800000.0                 17600000.0   \n",
      "4012           518               18400000.0                 17600000.0   \n",
      "4122           711                2200000.0                 17900000.0   \n",
      "4207           603                3300000.0                 17600000.0   \n",
      "\n",
      "      high_value_assets  liquid_assets  loan_approval_decision  \n",
      "0            22700000.0      8000000.0                       1  \n",
      "159          27800000.0      8300000.0                       0  \n",
      "233          25700000.0      7700000.0                       1  \n",
      "260          29700000.0      5400000.0                       1  \n",
      "325          26400000.0     12700000.0                       1  \n",
      "369          30900000.0     11700000.0                       0  \n",
      "556          34100000.0      9400000.0                       0  \n",
      "793          27000000.0     13900000.0                       0  \n",
      "897          35600000.0      7800000.0                       0  \n",
      "907          22800000.0      5600000.0                       0  \n",
      "1031         19200000.0     11700000.0                       1  \n",
      "1133         36900000.0     11500000.0                       1  \n",
      "1196         24300000.0     13100000.0                       0  \n",
      "1256         31200000.0     12000000.0                       1  \n",
      "1274         39100000.0     14700000.0                       0  \n",
      "1306         37200000.0      7500000.0                       0  \n",
      "1611         21600000.0      8500000.0                       0  \n",
      "1763         24500000.0      8600000.0                       1  \n",
      "1770         26800000.0     11700000.0                       1  \n",
      "1814         18300000.0     10400000.0                       1  \n",
      "2006         31400000.0     12700000.0                       1  \n",
      "2304         21000000.0      6900000.0                       0  \n",
      "2351         28500000.0     10700000.0                       0  \n",
      "2916         22300000.0      9800000.0                       1  \n",
      "2935         22200000.0      8800000.0                       0  \n",
      "2942         20800000.0     12400000.0                       1  \n",
      "2978         19300000.0      9000000.0                       1  \n",
      "3002         29500000.0     11800000.0                       0  \n",
      "3441         22000000.0      7900000.0                       0  \n",
      "3543         30000000.0     10500000.0                       1  \n",
      "3792         19800000.0      4700000.0                       0  \n",
      "3829         31900000.0      5400000.0                       0  \n",
      "3884         26800000.0     14100000.0                       1  \n",
      "3951         26400000.0      4500000.0                       0  \n",
      "4012         28900000.0     10300000.0                       0  \n",
      "4122         24300000.0     13000000.0                       1  \n",
      "4207         29000000.0     13100000.0                       1  \n"
     ]
    }
   ],
   "source": [
    "Q1 = data['commercial_property_value'].quantile(0.25)\n",
    "Q3 = data['commercial_property_value'].quantile(0.75)\n",
    "IQR = Q3 - Q1\n",
    "lower_bound = Q1 - 1.5 * IQR\n",
    "upper_bound = Q3 + 1.5 * IQR\n",
    "outliers = data[(data['commercial_property_value'] < lower_bound) | (data['commercial_property_value'] > upper_bound)]\n",
    "print(outliers)\n",
    "data['commercial_property_value'] = np.where((data['commercial_property_value'] < lower_bound) | (data['commercial_property_value'] > upper_bound), data['commercial_property_value'].median(), data['commercial_property_value'])\n",
    "#print(data)"
   ]
  },
  {
   "cell_type": "code",
   "execution_count": 45,
   "metadata": {},
   "outputs": [
    {
     "name": "stdout",
     "output_type": "stream",
     "text": [
      "      loan_application_id  financially_dependent_count  highest_education  \\\n",
      "716                   715                            4                  0   \n",
      "894                   893                            4                  1   \n",
      "907                   906                            5                  0   \n",
      "989                   988                            5                  1   \n",
      "1470                 1469                            3                  0   \n",
      "1593                 1592                            1                  1   \n",
      "1967                 1966                            0                  0   \n",
      "1999                 1998                            0                  1   \n",
      "2320                 2319                            2                  0   \n",
      "2588                 2587                            1                  0   \n",
      "2830                 2829                            4                  1   \n",
      "2929                 2928                            4                  1   \n",
      "3121                 3120                            4                  0   \n",
      "3236                 3235                            1                  0   \n",
      "3784                 3783                            5                  1   \n",
      "4044                 4043                            4                  1   \n",
      "4076                 4075                            4                  0   \n",
      "\n",
      "      employment_status  annual_income  loan_principal  loan_duration_months  \\\n",
      "716                   0      9900000.0      22700000.0                    12   \n",
      "894                   0      9300000.0      24900000.0                    14   \n",
      "907                   0      9700000.0      37000000.0                    14   \n",
      "989                   0      9400000.0      25800000.0                    14   \n",
      "1470                  1      9500000.0      25500000.0                    12   \n",
      "1593                  0      9500000.0      23000000.0                    10   \n",
      "1967                  0      9900000.0      22300000.0                    20   \n",
      "1999                  0      9300000.0      20300000.0                    14   \n",
      "2320                  1      9600000.0      29800000.0                    16   \n",
      "2588                  1      9800000.0      36000000.0                    12   \n",
      "2830                  1      9200000.0      18600000.0                     2   \n",
      "2929                  0      9400000.0      32200000.0                     6   \n",
      "3121                  0      9800000.0      29400000.0                     8   \n",
      "3236                  0      9900000.0      23400000.0                    16   \n",
      "3784                  1      9500000.0      21700000.0                    16   \n",
      "4044                  0      9300000.0      34900000.0                     6   \n",
      "4076                  1      9400000.0      25700000.0                    14   \n",
      "\n",
      "      credit_score  primary_residence_value  commercial_property_value  \\\n",
      "716            567               28300000.0                  9900000.0   \n",
      "894            455               27600000.0                  4700000.0   \n",
      "907            459               28700000.0                  3700000.0   \n",
      "989            625               28200000.0                 15400000.0   \n",
      "1470           881               27000000.0                 14100000.0   \n",
      "1593           627               28500000.0                 11500000.0   \n",
      "1967           613               28400000.0                  8900000.0   \n",
      "1999           759               27000000.0                 11600000.0   \n",
      "2320           499               28500000.0                  6300000.0   \n",
      "2588           629               28000000.0                  4100000.0   \n",
      "2830           889               26900000.0                  4200000.0   \n",
      "2929           898               27600000.0                 11800000.0   \n",
      "3121           592               29100000.0                 16700000.0   \n",
      "3236           687               28200000.0                  3700000.0   \n",
      "3784           307               27500000.0                  2700000.0   \n",
      "4044           837               27400000.0                   800000.0   \n",
      "4076           845               27300000.0                  4100000.0   \n",
      "\n",
      "      high_value_assets  liquid_assets  loan_approval_decision  \n",
      "716          29700000.0      5400000.0                       1  \n",
      "894          35100000.0     13900000.0                       0  \n",
      "907          22800000.0      5600000.0                       0  \n",
      "989          30800000.0     11100000.0                       1  \n",
      "1470         21600000.0      8900000.0                       1  \n",
      "1593         21700000.0      9100000.0                       1  \n",
      "1967         23600000.0      4900000.0                       1  \n",
      "1999         26500000.0     10900000.0                       1  \n",
      "2320         31800000.0      7400000.0                       0  \n",
      "2588         29800000.0     11200000.0                       1  \n",
      "2830         33300000.0      9700000.0                       1  \n",
      "2929         19500000.0      8600000.0                       1  \n",
      "3121         35900000.0      9000000.0                       1  \n",
      "3236         29600000.0      8200000.0                       1  \n",
      "3784         28500000.0      9700000.0                       0  \n",
      "4044         21400000.0      8500000.0                       1  \n",
      "4076         26500000.0     12200000.0                       1  \n",
      "\n",
      "Data After Replacing Outliers with Median Salary:\n"
     ]
    }
   ],
   "source": [
    "median = data['primary_residence_value'].median()\n",
    "mad = (np.abs(data['primary_residence_value'] - median)).median()\n",
    "modified_z_scores = 0.6745 * (data['primary_residence_value'] - median) / mad\n",
    "outliers = data[modified_z_scores > 3.5]  \n",
    "print(outliers)\n",
    "data['primary_residence_value'] = np.where(modified_z_scores > 3.5, data['primary_residence_value'].median(), data['primary_residence_value'])\n",
    "print(\"\\nData After Replacing Outliers with Median Salary:\")\n",
    "#print(data)"
   ]
  },
  {
   "cell_type": "code",
   "execution_count": 46,
   "metadata": {},
   "outputs": [],
   "source": [
    "data.to_csv(\"output.csv\", index=False)"
   ]
  }
 ],
 "metadata": {
  "kernelspec": {
   "display_name": "Python 3",
   "language": "python",
   "name": "python3"
  },
  "language_info": {
   "codemirror_mode": {
    "name": "ipython",
    "version": 3
   },
   "file_extension": ".py",
   "mimetype": "text/x-python",
   "name": "python",
   "nbconvert_exporter": "python",
   "pygments_lexer": "ipython3",
   "version": "3.12.7"
  }
 },
 "nbformat": 4,
 "nbformat_minor": 2
}
