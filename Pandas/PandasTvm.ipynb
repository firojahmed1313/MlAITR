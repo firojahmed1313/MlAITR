{
  "nbformat": 4,
  "nbformat_minor": 0,
  "metadata": {
    "colab": {
      "provenance": [],
      "authorship_tag": "ABX9TyN+z9DMesPTdH7ujBG2KTKG"
    },
    "kernelspec": {
      "name": "python3",
      "display_name": "Python 3"
    },
    "language_info": {
      "name": "python"
    }
  },
  "cells": [
    {
      "cell_type": "code",
      "execution_count": 225,
      "metadata": {
        "id": "KBFmLfLffmKL"
      },
      "outputs": [],
      "source": [
        "import pandas as pd\n"
      ]
    },
    {
      "cell_type": "markdown",
      "source": [
        "# ***Creating a Series***"
      ],
      "metadata": {
        "id": "BvSF8RhwgN0W"
      }
    },
    {
      "cell_type": "code",
      "source": [
        "data = [10, 20, 30, 40]\n",
        "series = pd.Series(data)\n",
        "print(series)\n",
        "series = pd.Series(data, index=['a', 'b', 'c', 'd'])\n",
        "print(series)"
      ],
      "metadata": {
        "colab": {
          "base_uri": "https://localhost:8080/"
        },
        "id": "kk2y7o9xgU0h",
        "outputId": "cd971f9c-603d-43e7-df74-8083b0add63a"
      },
      "execution_count": 68,
      "outputs": [
        {
          "output_type": "stream",
          "name": "stdout",
          "text": [
            "0    10\n",
            "1    20\n",
            "2    30\n",
            "3    40\n",
            "dtype: int64\n",
            "a    10\n",
            "b    20\n",
            "c    30\n",
            "d    40\n",
            "dtype: int64\n"
          ]
        }
      ]
    },
    {
      "cell_type": "code",
      "source": [
        "data_dict = {'a': 1, 'b': 2, 'c': 3}\n",
        "series_dict = pd.Series(data_dict)\n",
        "print(series_dict)\n"
      ],
      "metadata": {
        "colab": {
          "base_uri": "https://localhost:8080/"
        },
        "id": "iNvYes71gpwL",
        "outputId": "891237e9-424c-486c-8841-56d16efe2c99"
      },
      "execution_count": 70,
      "outputs": [
        {
          "output_type": "stream",
          "name": "stdout",
          "text": [
            "a    1\n",
            "b    2\n",
            "c    3\n",
            "dtype: int64\n"
          ]
        }
      ]
    },
    {
      "cell_type": "code",
      "source": [
        "import numpy as np\n",
        "\n",
        "data_array = np.array([100, 200, 300])\n",
        "series_array = pd.Series(data_array, index=['x', 'y', 'z'])\n",
        "print(series_array)\n"
      ],
      "metadata": {
        "colab": {
          "base_uri": "https://localhost:8080/"
        },
        "id": "EfRuKGV9g2ya",
        "outputId": "40684079-1f78-41f3-ddf0-d69364e11cd8"
      },
      "execution_count": 71,
      "outputs": [
        {
          "output_type": "stream",
          "name": "stdout",
          "text": [
            "x    100\n",
            "y    200\n",
            "z    300\n",
            "dtype: int64\n"
          ]
        }
      ]
    },
    {
      "cell_type": "markdown",
      "source": [
        "# ***Creating a DataFrame***"
      ],
      "metadata": {
        "id": "YVE4IgCrg90e"
      }
    },
    {
      "cell_type": "code",
      "source": [
        "data = {\n",
        "    'Name': ['Alice', 'Bob', 'Charlie'],\n",
        "    'Age': [25, 30, 35],\n",
        "    'Score': [85.5, 90.0, 95.5]\n",
        "}\n",
        "df = pd.DataFrame(data)\n",
        "print(df)"
      ],
      "metadata": {
        "colab": {
          "base_uri": "https://localhost:8080/"
        },
        "id": "tB1li_pVhACZ",
        "outputId": "2d35699a-08a4-4142-cdb0-4123a5604906"
      },
      "execution_count": 72,
      "outputs": [
        {
          "output_type": "stream",
          "name": "stdout",
          "text": [
            "      Name  Age  Score\n",
            "0    Alice   25   85.5\n",
            "1      Bob   30   90.0\n",
            "2  Charlie   35   95.5\n"
          ]
        }
      ]
    },
    {
      "cell_type": "code",
      "source": [
        "data_list = [\n",
        "    {'Name': 'Alice', 'Age': 25, 'Score': 85.5},\n",
        "    {'Name': 'Bob', 'Age': 30, 'Score': 90.0},\n",
        "    {'Name': 'Charlie', 'Age': 35, 'Score': 95.5}\n",
        "]\n",
        "df_list = pd.DataFrame(data_list)\n",
        "print(df_list)"
      ],
      "metadata": {
        "colab": {
          "base_uri": "https://localhost:8080/"
        },
        "id": "rRdsnHgshH-5",
        "outputId": "0d673772-a27e-4323-a9e8-60ead7ccd912"
      },
      "execution_count": 73,
      "outputs": [
        {
          "output_type": "stream",
          "name": "stdout",
          "text": [
            "      Name  Age  Score\n",
            "0    Alice   25   85.5\n",
            "1      Bob   30   90.0\n",
            "2  Charlie   35   95.5\n"
          ]
        }
      ]
    },
    {
      "cell_type": "code",
      "source": [
        "data_array = np.array([[1, 2, 3], [4, 5, 6], [7, 8, 9]])\n",
        "df_array = pd.DataFrame(data_array, columns=['A', 'B', 'C'])\n",
        "print(df_array)\n"
      ],
      "metadata": {
        "colab": {
          "base_uri": "https://localhost:8080/"
        },
        "id": "xOkmiFXAhM0n",
        "outputId": "cb197602-abdd-42e8-8981-b95d8b2d009a"
      },
      "execution_count": 74,
      "outputs": [
        {
          "output_type": "stream",
          "name": "stdout",
          "text": [
            "   A  B  C\n",
            "0  1  2  3\n",
            "1  4  5  6\n",
            "2  7  8  9\n"
          ]
        }
      ]
    },
    {
      "cell_type": "code",
      "source": [
        "new_data = {'Col1': [10, 20], 'Col2': [30, 40]}\n",
        "df1 = pd.DataFrame(new_data)\n",
        "df2 = pd.DataFrame(df1)\n",
        "print(df2)"
      ],
      "metadata": {
        "colab": {
          "base_uri": "https://localhost:8080/"
        },
        "id": "hw7_ZZxihSKl",
        "outputId": "dade6cac-e0ce-4ab0-8c39-ed6b3ed265dc"
      },
      "execution_count": 75,
      "outputs": [
        {
          "output_type": "stream",
          "name": "stdout",
          "text": [
            "   Col1  Col2\n",
            "0    10    30\n",
            "1    20    40\n"
          ]
        }
      ]
    },
    {
      "cell_type": "code",
      "source": [
        "data = {\n",
        "    'A': [1, 2, 3],\n",
        "    'B': [4, 5, 6],\n",
        "    'C': [7, 8, 9]\n",
        "}\n",
        "df3 = pd.DataFrame(data, index=['Row1', 'Row2', 'Row3'], columns=['A', 'B', 'C']) # DataFrame with custom index and columns\n",
        "print(df3)\n"
      ],
      "metadata": {
        "colab": {
          "base_uri": "https://localhost:8080/"
        },
        "id": "QXKSlkLmhZG8",
        "outputId": "5483c2cc-cf5f-4599-faf6-3d9b00b76807"
      },
      "execution_count": 76,
      "outputs": [
        {
          "output_type": "stream",
          "name": "stdout",
          "text": [
            "      A  B  C\n",
            "Row1  1  4  7\n",
            "Row2  2  5  8\n",
            "Row3  3  6  9\n"
          ]
        }
      ]
    },
    {
      "cell_type": "code",
      "source": [
        "empty_df = pd.DataFrame(columns=['Column1', 'Column2']) # Empty DataFrame\n",
        "print(empty_df)\n",
        "\n",
        "# Adding data\n",
        "empty_df.loc[0] = [1, 2]\n",
        "empty_df.loc[1] = [3, 4]\n",
        "print(empty_df)"
      ],
      "metadata": {
        "colab": {
          "base_uri": "https://localhost:8080/"
        },
        "id": "wo4FSK40hjAm",
        "outputId": "e3430476-55c1-4236-f1a2-e79eea3c9643"
      },
      "execution_count": 77,
      "outputs": [
        {
          "output_type": "stream",
          "name": "stdout",
          "text": [
            "Empty DataFrame\n",
            "Columns: [Column1, Column2]\n",
            "Index: []\n",
            "   Column1  Column2\n",
            "0        1        2\n",
            "1        3        4\n"
          ]
        }
      ]
    },
    {
      "cell_type": "markdown",
      "source": [
        "# **Indexing and Slicing**"
      ],
      "metadata": {
        "id": "0xG-5Vy8hwgy"
      }
    },
    {
      "cell_type": "code",
      "source": [],
      "metadata": {
        "id": "9i7u5Z4Ah0lX"
      },
      "execution_count": 77,
      "outputs": []
    },
    {
      "cell_type": "markdown",
      "source": [
        "## **Accessing Rows and Columns by Labels (.loc[])**"
      ],
      "metadata": {
        "id": "OoNfwD7Vh52N"
      }
    },
    {
      "cell_type": "code",
      "source": [
        "import pandas as pd\n",
        "\n",
        "# Sample DataFrame\n",
        "data = {\n",
        "    'Name': ['Alice', 'Bob', 'Charlie'],\n",
        "    'Age': [25, 30, 35],\n",
        "    'Score': [85.5, 90.0, 95.5]\n",
        "}\n",
        "df = pd.DataFrame(data, index=['A', 'B', 'C'])\n",
        "\n",
        "\n"
      ],
      "metadata": {
        "id": "jWE1BHeph9-b"
      },
      "execution_count": 78,
      "outputs": []
    },
    {
      "cell_type": "code",
      "source": [
        "# Access a single row\n",
        "print(df.loc['A'])\n",
        "\n",
        "# Access multiple rows\n",
        "print(df.loc[['A', 'C']])\n",
        "\n",
        "# Specific rows and columns\n",
        "print(df.loc['A', 'Age'])  # Single value\n",
        "print(df.loc[['A', 'C'], ['Name', 'Score']])  # Subset"
      ],
      "metadata": {
        "colab": {
          "base_uri": "https://localhost:8080/"
        },
        "id": "u1QpnY2diyJF",
        "outputId": "705c33c9-dd6d-4154-cfdf-ad3c31239337"
      },
      "execution_count": 79,
      "outputs": [
        {
          "output_type": "stream",
          "name": "stdout",
          "text": [
            "Name     Alice\n",
            "Age         25\n",
            "Score     85.5\n",
            "Name: A, dtype: object\n",
            "      Name  Age  Score\n",
            "A    Alice   25   85.5\n",
            "C  Charlie   35   95.5\n",
            "25\n",
            "      Name  Score\n",
            "A    Alice   85.5\n",
            "C  Charlie   95.5\n"
          ]
        }
      ]
    },
    {
      "cell_type": "markdown",
      "source": [
        "## **Accessing Rows and Columns by Positions (.iloc[])**"
      ],
      "metadata": {
        "id": "6p305BZxing4"
      }
    },
    {
      "cell_type": "code",
      "source": [
        "# Positional access\n",
        "# Single row\n",
        "print(df.iloc[0])\n",
        "\n",
        "# Multiple rows\n",
        "print(df.iloc[[0, 2]])"
      ],
      "metadata": {
        "colab": {
          "base_uri": "https://localhost:8080/"
        },
        "id": "GXZtyKSjip8a",
        "outputId": "f714b6e3-2662-46f4-e3d3-30d58fd1e422"
      },
      "execution_count": 80,
      "outputs": [
        {
          "output_type": "stream",
          "name": "stdout",
          "text": [
            "Name     Alice\n",
            "Age         25\n",
            "Score     85.5\n",
            "Name: A, dtype: object\n",
            "      Name  Age  Score\n",
            "A    Alice   25   85.5\n",
            "C  Charlie   35   95.5\n"
          ]
        }
      ]
    },
    {
      "cell_type": "code",
      "source": [
        "# Boolean indexing\n",
        "filtered = df[df['Age'] > 25]\n",
        "print(filtered)\n"
      ],
      "metadata": {
        "colab": {
          "base_uri": "https://localhost:8080/"
        },
        "id": "xpjBcc5SjDQQ",
        "outputId": "2b287cc1-1e51-4abf-92cf-80645f1510f5"
      },
      "execution_count": 81,
      "outputs": [
        {
          "output_type": "stream",
          "name": "stdout",
          "text": [
            "      Name  Age  Score\n",
            "B      Bob   30   90.0\n",
            "C  Charlie   35   95.5\n"
          ]
        }
      ]
    },
    {
      "cell_type": "markdown",
      "source": [
        "### **Combining Conditions**"
      ],
      "metadata": {
        "id": "qOVcdoqjjKiN"
      }
    },
    {
      "cell_type": "code",
      "source": [
        "filtered = df[(df['Age'] > 25) & (df['Score'] > 90)]\n",
        "print(filtered)\n"
      ],
      "metadata": {
        "colab": {
          "base_uri": "https://localhost:8080/"
        },
        "id": "UDGiAHipjQ7w",
        "outputId": "d48c98de-ed7a-462f-f53d-629c80bd9a17"
      },
      "execution_count": 82,
      "outputs": [
        {
          "output_type": "stream",
          "name": "stdout",
          "text": [
            "      Name  Age  Score\n",
            "C  Charlie   35   95.5\n"
          ]
        }
      ]
    },
    {
      "cell_type": "code",
      "source": [
        "filtered = df.loc[df['Age'] > 25, ['Name', 'Score']] # Select specific columns from filtered rows\n",
        "print(filtered)"
      ],
      "metadata": {
        "colab": {
          "base_uri": "https://localhost:8080/"
        },
        "id": "dGKToMLOjZnX",
        "outputId": "8c8c0f37-a57a-409b-9dc5-00be836c6f0b"
      },
      "execution_count": 83,
      "outputs": [
        {
          "output_type": "stream",
          "name": "stdout",
          "text": [
            "      Name  Score\n",
            "B      Bob   90.0\n",
            "C  Charlie   95.5\n"
          ]
        }
      ]
    },
    {
      "cell_type": "markdown",
      "source": [
        "## **Slicing Rows and Columns**"
      ],
      "metadata": {
        "id": "UKchnnRxjhww"
      }
    },
    {
      "cell_type": "code",
      "source": [
        "# Rows from index 0 to 1 (inclusive)\n",
        "print(df.iloc[0:2])"
      ],
      "metadata": {
        "colab": {
          "base_uri": "https://localhost:8080/"
        },
        "id": "h-xuDTNFjr3P",
        "outputId": "b43c4aac-09a4-4aa1-c0cd-23f99a8dfa13"
      },
      "execution_count": 84,
      "outputs": [
        {
          "output_type": "stream",
          "name": "stdout",
          "text": [
            "    Name  Age  Score\n",
            "A  Alice   25   85.5\n",
            "B    Bob   30   90.0\n"
          ]
        }
      ]
    },
    {
      "cell_type": "code",
      "source": [
        "# Columns from index 1 to the end\n",
        "print(df.iloc[:, 1:])"
      ],
      "metadata": {
        "colab": {
          "base_uri": "https://localhost:8080/"
        },
        "id": "ktmeCRTwj1vb",
        "outputId": "605f86b4-3e6a-49a4-a2f0-13b5c6874e38"
      },
      "execution_count": 85,
      "outputs": [
        {
          "output_type": "stream",
          "name": "stdout",
          "text": [
            "   Age  Score\n",
            "A   25   85.5\n",
            "B   30   90.0\n",
            "C   35   95.5\n"
          ]
        }
      ]
    },
    {
      "cell_type": "markdown",
      "source": [],
      "metadata": {
        "id": "35qzAb4Pj8wf"
      }
    },
    {
      "cell_type": "markdown",
      "source": [
        "# **DataFrame Operations**"
      ],
      "metadata": {
        "id": "oYN9W_CTj-rv"
      }
    },
    {
      "cell_type": "code",
      "source": [],
      "metadata": {
        "id": "m7VdwioMkAq1"
      },
      "execution_count": 85,
      "outputs": []
    },
    {
      "cell_type": "markdown",
      "source": [
        "## **Arithmetic Operations**"
      ],
      "metadata": {
        "id": "AjQhM7TYkGpm"
      }
    },
    {
      "cell_type": "code",
      "source": [
        "# Sample DataFrame\n",
        "data = {\n",
        "    'A': [1, 2, 3],\n",
        "    'B': [4, 5, 6]\n",
        "}\n",
        "df = pd.DataFrame(data)\n",
        "\n",
        "# Add 10 to each value in column A\n",
        "print(df)"
      ],
      "metadata": {
        "colab": {
          "base_uri": "https://localhost:8080/"
        },
        "id": "2Hgyd5TskJRP",
        "outputId": "072c1d24-68d6-4bf0-ed2c-5e0e4084e0d3"
      },
      "execution_count": 86,
      "outputs": [
        {
          "output_type": "stream",
          "name": "stdout",
          "text": [
            "   A  B\n",
            "0  1  4\n",
            "1  2  5\n",
            "2  3  6\n"
          ]
        }
      ]
    },
    {
      "cell_type": "code",
      "source": [
        "print(df)\n",
        "df['A'] = df['A'] + 10\n",
        "print(df)"
      ],
      "metadata": {
        "colab": {
          "base_uri": "https://localhost:8080/"
        },
        "id": "QGKAkwzDkV_R",
        "outputId": "66ea0bf6-943e-440d-cb93-dde096b71e8e"
      },
      "execution_count": 87,
      "outputs": [
        {
          "output_type": "stream",
          "name": "stdout",
          "text": [
            "   A  B\n",
            "0  1  4\n",
            "1  2  5\n",
            "2  3  6\n",
            "    A  B\n",
            "0  11  4\n",
            "1  12  5\n",
            "2  13  6\n"
          ]
        }
      ]
    },
    {
      "cell_type": "code",
      "source": [
        "# Multiply all elements by 2\n",
        "print(df)\n",
        "df = df * 2\n",
        "print(df)"
      ],
      "metadata": {
        "colab": {
          "base_uri": "https://localhost:8080/"
        },
        "id": "Ra6ngbe6kZit",
        "outputId": "782483a6-d474-4149-cba8-d94add00b6b0"
      },
      "execution_count": 88,
      "outputs": [
        {
          "output_type": "stream",
          "name": "stdout",
          "text": [
            "    A  B\n",
            "0  11  4\n",
            "1  12  5\n",
            "2  13  6\n",
            "    A   B\n",
            "0  22   8\n",
            "1  24  10\n",
            "2  26  12\n"
          ]
        }
      ]
    },
    {
      "cell_type": "code",
      "source": [
        "# Add column A and B\n",
        "print(df)\n",
        "df['C'] = df['A'] + df['B']\n",
        "print(df)\n"
      ],
      "metadata": {
        "colab": {
          "base_uri": "https://localhost:8080/"
        },
        "id": "e_XwaU6wkdgl",
        "outputId": "6ab54297-75fb-4df2-9eb1-f8e7ce0d8633"
      },
      "execution_count": 89,
      "outputs": [
        {
          "output_type": "stream",
          "name": "stdout",
          "text": [
            "    A   B\n",
            "0  22   8\n",
            "1  24  10\n",
            "2  26  12\n",
            "    A   B   C\n",
            "0  22   8  30\n",
            "1  24  10  34\n",
            "2  26  12  38\n"
          ]
        }
      ]
    },
    {
      "cell_type": "code",
      "source": [
        "print(df)\n",
        "df['D'] = df['A'].div(df['B']) # Divide column A by column B\n",
        "print(df)\n"
      ],
      "metadata": {
        "colab": {
          "base_uri": "https://localhost:8080/"
        },
        "id": "Tjub0BwBkiyI",
        "outputId": "30459078-e332-4e3d-aaa0-49a950aa56b6"
      },
      "execution_count": 90,
      "outputs": [
        {
          "output_type": "stream",
          "name": "stdout",
          "text": [
            "    A   B   C\n",
            "0  22   8  30\n",
            "1  24  10  34\n",
            "2  26  12  38\n",
            "    A   B   C         D\n",
            "0  22   8  30  2.750000\n",
            "1  24  10  34  2.400000\n",
            "2  26  12  38  2.166667\n"
          ]
        }
      ]
    },
    {
      "cell_type": "markdown",
      "source": [
        "## **Filtering Data**"
      ],
      "metadata": {
        "id": "DHtGE2XGkoxS"
      }
    },
    {
      "cell_type": "code",
      "source": [
        "# Filter rows where column A > 23\n",
        "print(df)\n",
        "filtered = df[df['A'] > 23]\n",
        "print(filtered)"
      ],
      "metadata": {
        "colab": {
          "base_uri": "https://localhost:8080/"
        },
        "id": "S-a7l2p0kroh",
        "outputId": "b31b4be4-d08b-4864-ccbf-1c6d2f36671b"
      },
      "execution_count": 91,
      "outputs": [
        {
          "output_type": "stream",
          "name": "stdout",
          "text": [
            "    A   B   C         D\n",
            "0  22   8  30  2.750000\n",
            "1  24  10  34  2.400000\n",
            "2  26  12  38  2.166667\n",
            "    A   B   C         D\n",
            "1  24  10  34  2.400000\n",
            "2  26  12  38  2.166667\n"
          ]
        }
      ]
    },
    {
      "cell_type": "code",
      "source": [
        "# Filter rows where A > 23 and B < 12\n",
        "print(df)\n",
        "filtered = df[(df['A'] > 23) & (df['B'] < 12)]\n",
        "print(filtered)\n"
      ],
      "metadata": {
        "colab": {
          "base_uri": "https://localhost:8080/"
        },
        "id": "WTDhpAWtkz1G",
        "outputId": "ccc70839-36b0-465c-fb7a-5f1a60247daa"
      },
      "execution_count": 92,
      "outputs": [
        {
          "output_type": "stream",
          "name": "stdout",
          "text": [
            "    A   B   C         D\n",
            "0  22   8  30  2.750000\n",
            "1  24  10  34  2.400000\n",
            "2  26  12  38  2.166667\n",
            "    A   B   C    D\n",
            "1  24  10  34  2.4\n"
          ]
        }
      ]
    },
    {
      "cell_type": "code",
      "source": [
        "# Select rows where A > 23, but only display columns A and C\n",
        "print(df)\n",
        "filtered = df.loc[df['A'] > 23, ['A', 'C']]\n",
        "print(filtered)"
      ],
      "metadata": {
        "colab": {
          "base_uri": "https://localhost:8080/"
        },
        "id": "FJHzXMMrk5CM",
        "outputId": "56c8b2c5-648e-4938-a0bd-d2854bcd0fe3"
      },
      "execution_count": 93,
      "outputs": [
        {
          "output_type": "stream",
          "name": "stdout",
          "text": [
            "    A   B   C         D\n",
            "0  22   8  30  2.750000\n",
            "1  24  10  34  2.400000\n",
            "2  26  12  38  2.166667\n",
            "    A   C\n",
            "1  24  34\n",
            "2  26  38\n"
          ]
        }
      ]
    },
    {
      "cell_type": "code",
      "source": [
        "# Filter rows where Age > 30 and Score < 90\n",
        "print(df)\n",
        "filtered_df = df.query('A > 20 & B < 12') # | for OR & for AND ~ for NOT\n",
        "print(filtered_df)\n",
        "filtered_df = df[~(df['A'] > 22)]\n",
        "print(filtered_df)"
      ],
      "metadata": {
        "colab": {
          "base_uri": "https://localhost:8080/"
        },
        "id": "35j13KrzrxKT",
        "outputId": "a4040f3c-e21f-4070-cf56-ef7f91a72b06"
      },
      "execution_count": 94,
      "outputs": [
        {
          "output_type": "stream",
          "name": "stdout",
          "text": [
            "    A   B   C         D\n",
            "0  22   8  30  2.750000\n",
            "1  24  10  34  2.400000\n",
            "2  26  12  38  2.166667\n",
            "    A   B   C     D\n",
            "0  22   8  30  2.75\n",
            "1  24  10  34  2.40\n",
            "    A  B   C     D\n",
            "0  22  8  30  2.75\n"
          ]
        }
      ]
    },
    {
      "cell_type": "code",
      "source": [
        "# Filter rows where Name is 'Alice' or 'Charlie'\n",
        "print(df)\n",
        "filtered_df = df[df['A'].isin([22, 26])]\n",
        "print(filtered_df)\n"
      ],
      "metadata": {
        "colab": {
          "base_uri": "https://localhost:8080/"
        },
        "id": "-rZabJjossSn",
        "outputId": "eb0c1378-437f-4f80-e1be-9760a21c8306"
      },
      "execution_count": 95,
      "outputs": [
        {
          "output_type": "stream",
          "name": "stdout",
          "text": [
            "    A   B   C         D\n",
            "0  22   8  30  2.750000\n",
            "1  24  10  34  2.400000\n",
            "2  26  12  38  2.166667\n",
            "    A   B   C         D\n",
            "0  22   8  30  2.750000\n",
            "2  26  12  38  2.166667\n"
          ]
        }
      ]
    },
    {
      "cell_type": "code",
      "source": [
        "# Sample DataFrame\n",
        "data = {\n",
        "    'Name': ['Alice', 'Bob', 'Charlie', 'David'],\n",
        "    'Age': [25, 30, 35, 40],\n",
        "    'Score': [85, 90, 78, 88]\n",
        "}\n",
        "df3 = pd.DataFrame(data)\n",
        "print(df3)\n",
        "# Filter rows where Name starts with 'A'\n",
        "filtered_df = df3[df3['Name'].str.startswith('A')]\n",
        "print(filtered_df)\n",
        "# Filter rows where Name contains 'o'\n",
        "filtered_df = df3[df3['Name'].str.contains('o')]\n",
        "print(filtered_df)\n",
        "\n"
      ],
      "metadata": {
        "colab": {
          "base_uri": "https://localhost:8080/"
        },
        "id": "tfhWVgybtQyX",
        "outputId": "27cc24ea-ef7d-4ab3-b620-f40b59551107"
      },
      "execution_count": 96,
      "outputs": [
        {
          "output_type": "stream",
          "name": "stdout",
          "text": [
            "      Name  Age  Score\n",
            "0    Alice   25     85\n",
            "1      Bob   30     90\n",
            "2  Charlie   35     78\n",
            "3    David   40     88\n",
            "    Name  Age  Score\n",
            "0  Alice   25     85\n",
            "  Name  Age  Score\n",
            "1  Bob   30     90\n"
          ]
        }
      ]
    },
    {
      "cell_type": "code",
      "source": [
        "# Filter rows where Age is between 25 and 35\n",
        "print(df3)\n",
        "filtered_df = df3[df3['Age'].between(25, 35)]\n",
        "print(filtered_df)\n"
      ],
      "metadata": {
        "colab": {
          "base_uri": "https://localhost:8080/"
        },
        "id": "pejKbScztpTM",
        "outputId": "005762a5-07f4-4189-d70b-22d0bde21997"
      },
      "execution_count": 97,
      "outputs": [
        {
          "output_type": "stream",
          "name": "stdout",
          "text": [
            "      Name  Age  Score\n",
            "0    Alice   25     85\n",
            "1      Bob   30     90\n",
            "2  Charlie   35     78\n",
            "3    David   40     88\n",
            "      Name  Age  Score\n",
            "0    Alice   25     85\n",
            "1      Bob   30     90\n",
            "2  Charlie   35     78\n"
          ]
        }
      ]
    },
    {
      "cell_type": "code",
      "source": [
        "# Check if any row has a Score > 90\n",
        "has_high_score = (df3['Score'] > 90).any()\n",
        "print(has_high_score)  # Output: False\n",
        "\n",
        "# Check if all rows have Age > 20\n",
        "all_above_20 = (df3['Age'] > 20).all()\n",
        "print(all_above_20)  # Output: True\n"
      ],
      "metadata": {
        "colab": {
          "base_uri": "https://localhost:8080/"
        },
        "id": "E9K6lr_0t4mH",
        "outputId": "f2ddae08-3d30-4dd6-cfbb-f16424d272d4"
      },
      "execution_count": 98,
      "outputs": [
        {
          "output_type": "stream",
          "name": "stdout",
          "text": [
            "False\n",
            "True\n"
          ]
        }
      ]
    },
    {
      "cell_type": "code",
      "source": [
        "# Filter rows where Age > 25 and select only the Name and Score columns\n",
        "print(df3)\n",
        "filtered_df = df3[df3['Age'] > 25][['Name', 'Score']]\n",
        "print(filtered_df)"
      ],
      "metadata": {
        "colab": {
          "base_uri": "https://localhost:8080/"
        },
        "id": "E9VLwVuYublm",
        "outputId": "2f5f5dcc-2d17-43b7-8bd4-3adf1798b18b"
      },
      "execution_count": 99,
      "outputs": [
        {
          "output_type": "stream",
          "name": "stdout",
          "text": [
            "      Name  Age  Score\n",
            "0    Alice   25     85\n",
            "1      Bob   30     90\n",
            "2  Charlie   35     78\n",
            "3    David   40     88\n",
            "      Name  Score\n",
            "1      Bob     90\n",
            "2  Charlie     78\n",
            "3    David     88\n"
          ]
        }
      ]
    },
    {
      "cell_type": "markdown",
      "source": [
        "## **Applying Functions**"
      ],
      "metadata": {
        "id": "aUQNLukok9mo"
      }
    },
    {
      "cell_type": "code",
      "source": [
        "# Square each element in column A\n",
        "print(df)\n",
        "df['A'] = df['B'].apply(lambda x: x ** 2)\n",
        "print(df)"
      ],
      "metadata": {
        "colab": {
          "base_uri": "https://localhost:8080/"
        },
        "id": "QsRIxDlJlALI",
        "outputId": "7042250c-2bfe-4890-8443-01b4dc780828"
      },
      "execution_count": 100,
      "outputs": [
        {
          "output_type": "stream",
          "name": "stdout",
          "text": [
            "    A   B   C         D\n",
            "0  22   8  30  2.750000\n",
            "1  24  10  34  2.400000\n",
            "2  26  12  38  2.166667\n",
            "     A   B   C         D\n",
            "0   64   8  30  2.750000\n",
            "1  100  10  34  2.400000\n",
            "2  144  12  38  2.166667\n"
          ]
        }
      ]
    },
    {
      "cell_type": "code",
      "source": [
        "# Multiply each element by 2\n",
        "print(df)\n",
        "df = df.map(lambda x: x * 2)\n",
        "print(df)\n"
      ],
      "metadata": {
        "colab": {
          "base_uri": "https://localhost:8080/"
        },
        "id": "6LePVpshlPvP",
        "outputId": "540aa2bc-ac85-45d9-f8a6-47ecdaca7394"
      },
      "execution_count": 101,
      "outputs": [
        {
          "output_type": "stream",
          "name": "stdout",
          "text": [
            "     A   B   C         D\n",
            "0   64   8  30  2.750000\n",
            "1  100  10  34  2.400000\n",
            "2  144  12  38  2.166667\n",
            "     A   B   C         D\n",
            "0  128  16  60  5.500000\n",
            "1  200  20  68  4.800000\n",
            "2  288  24  76  4.333333\n"
          ]
        }
      ]
    },
    {
      "cell_type": "markdown",
      "source": [
        "## **Basic Statistics**"
      ],
      "metadata": {
        "id": "I09nqdKYlfYU"
      }
    },
    {
      "cell_type": "code",
      "source": [
        "print(df)\n",
        "print(df.describe())  # Summary statistics\n",
        "print(df['A'].mean())  # Mean of column A\n",
        "print(df['B'].sum())   # Sum of column B"
      ],
      "metadata": {
        "colab": {
          "base_uri": "https://localhost:8080/"
        },
        "id": "PTJ9LNkElh18",
        "outputId": "34f06a7b-7473-4074-a495-7df0382bd018"
      },
      "execution_count": 102,
      "outputs": [
        {
          "output_type": "stream",
          "name": "stdout",
          "text": [
            "     A   B   C         D\n",
            "0  128  16  60  5.500000\n",
            "1  200  20  68  4.800000\n",
            "2  288  24  76  4.333333\n",
            "                A     B     C         D\n",
            "count    3.000000   3.0   3.0  3.000000\n",
            "mean   205.333333  20.0  68.0  4.877778\n",
            "std     80.133222   4.0   8.0  0.587209\n",
            "min    128.000000  16.0  60.0  4.333333\n",
            "25%    164.000000  18.0  64.0  4.566667\n",
            "50%    200.000000  20.0  68.0  4.800000\n",
            "75%    244.000000  22.0  72.0  5.150000\n",
            "max    288.000000  24.0  76.0  5.500000\n",
            "205.33333333333334\n",
            "60\n"
          ]
        }
      ]
    },
    {
      "cell_type": "markdown",
      "source": [
        "## **Sorting Data**"
      ],
      "metadata": {
        "id": "_8T9eGqslpFV"
      }
    },
    {
      "cell_type": "code",
      "source": [
        "print(df)\n",
        "sorted_df = df.sort_values(by='A', ascending=False)\n",
        "print(sorted_df)\n"
      ],
      "metadata": {
        "colab": {
          "base_uri": "https://localhost:8080/"
        },
        "id": "z2_19nK7lteB",
        "outputId": "47aacce1-11ee-49ae-c707-12425f88c400"
      },
      "execution_count": 103,
      "outputs": [
        {
          "output_type": "stream",
          "name": "stdout",
          "text": [
            "     A   B   C         D\n",
            "0  128  16  60  5.500000\n",
            "1  200  20  68  4.800000\n",
            "2  288  24  76  4.333333\n",
            "     A   B   C         D\n",
            "2  288  24  76  4.333333\n",
            "1  200  20  68  4.800000\n",
            "0  128  16  60  5.500000\n"
          ]
        }
      ]
    },
    {
      "cell_type": "code",
      "source": [
        "# Sort by 'A' (ascending) and 'B' (descending)\n",
        "print(df)\n",
        "sorted_df = df.sort_values(by=['A', 'B'], ascending=[True, False])\n",
        "print(sorted_df)\n"
      ],
      "metadata": {
        "colab": {
          "base_uri": "https://localhost:8080/"
        },
        "id": "Ze4o3igQu41n",
        "outputId": "94b974b8-f4d5-476d-9626-4ae80fd76407"
      },
      "execution_count": 104,
      "outputs": [
        {
          "output_type": "stream",
          "name": "stdout",
          "text": [
            "     A   B   C         D\n",
            "0  128  16  60  5.500000\n",
            "1  200  20  68  4.800000\n",
            "2  288  24  76  4.333333\n",
            "     A   B   C         D\n",
            "0  128  16  60  5.500000\n",
            "1  200  20  68  4.800000\n",
            "2  288  24  76  4.333333\n"
          ]
        }
      ]
    },
    {
      "cell_type": "code",
      "source": [
        "# Sort by 'Score' and reset the index\n",
        "print(df)\n",
        "sorted_df = df.sort_values(by='B', ascending=False)\n",
        "print(sorted_df)\n",
        "sorted_df = df.sort_values(by='B', ascending=False, ignore_index=True)\n",
        "print(sorted_df)\n"
      ],
      "metadata": {
        "colab": {
          "base_uri": "https://localhost:8080/"
        },
        "id": "ZYq2DhTKvFD0",
        "outputId": "68861b98-f1ea-46e9-e728-9f86864ba052"
      },
      "execution_count": 105,
      "outputs": [
        {
          "output_type": "stream",
          "name": "stdout",
          "text": [
            "     A   B   C         D\n",
            "0  128  16  60  5.500000\n",
            "1  200  20  68  4.800000\n",
            "2  288  24  76  4.333333\n",
            "     A   B   C         D\n",
            "2  288  24  76  4.333333\n",
            "1  200  20  68  4.800000\n",
            "0  128  16  60  5.500000\n",
            "     A   B   C         D\n",
            "0  288  24  76  4.333333\n",
            "1  200  20  68  4.800000\n",
            "2  128  16  60  5.500000\n"
          ]
        }
      ]
    },
    {
      "cell_type": "code",
      "source": [
        "# Add missing values\n",
        "df.loc[3] = [23, None, None,2.34545]\n",
        "print(df)\n",
        "# Sort by 'B' with missing values last\n",
        "sorted_df = df.sort_values(by='B')\n",
        "print(sorted_df)\n",
        "sorted_df = df.sort_values(by='B', na_position='last')\n",
        "print(sorted_df)"
      ],
      "metadata": {
        "colab": {
          "base_uri": "https://localhost:8080/"
        },
        "id": "ZXeMuuFvvkx8",
        "outputId": "f68d652e-832c-4311-b0ec-1e843a8cbb4d"
      },
      "execution_count": 106,
      "outputs": [
        {
          "output_type": "stream",
          "name": "stdout",
          "text": [
            "       A     B     C         D\n",
            "0  128.0  16.0  60.0  5.500000\n",
            "1  200.0  20.0  68.0  4.800000\n",
            "2  288.0  24.0  76.0  4.333333\n",
            "3   23.0   NaN   NaN  2.345450\n",
            "       A     B     C         D\n",
            "0  128.0  16.0  60.0  5.500000\n",
            "1  200.0  20.0  68.0  4.800000\n",
            "2  288.0  24.0  76.0  4.333333\n",
            "3   23.0   NaN   NaN  2.345450\n",
            "       A     B     C         D\n",
            "0  128.0  16.0  60.0  5.500000\n",
            "1  200.0  20.0  68.0  4.800000\n",
            "2  288.0  24.0  76.0  4.333333\n",
            "3   23.0   NaN   NaN  2.345450\n"
          ]
        }
      ]
    },
    {
      "cell_type": "code",
      "source": [
        "print(df)\n",
        "sorted_df = df.sort_index()\n",
        "print(sorted_df)\n"
      ],
      "metadata": {
        "colab": {
          "base_uri": "https://localhost:8080/"
        },
        "id": "lYHor_SClx5e",
        "outputId": "2239d52d-6b34-44aa-d4e3-b8169ae8c77f"
      },
      "execution_count": 107,
      "outputs": [
        {
          "output_type": "stream",
          "name": "stdout",
          "text": [
            "       A     B     C         D\n",
            "0  128.0  16.0  60.0  5.500000\n",
            "1  200.0  20.0  68.0  4.800000\n",
            "2  288.0  24.0  76.0  4.333333\n",
            "3   23.0   NaN   NaN  2.345450\n",
            "       A     B     C         D\n",
            "0  128.0  16.0  60.0  5.500000\n",
            "1  200.0  20.0  68.0  4.800000\n",
            "2  288.0  24.0  76.0  4.333333\n",
            "3   23.0   NaN   NaN  2.345450\n"
          ]
        }
      ]
    },
    {
      "cell_type": "code",
      "source": [
        "# Sort rows by index in descending order\n",
        "print(df)\n",
        "sorted_df = df.sort_index(ascending=False, ignore_index=True)\n",
        "print(sorted_df)"
      ],
      "metadata": {
        "colab": {
          "base_uri": "https://localhost:8080/"
        },
        "id": "2eHwsT0bwUqe",
        "outputId": "624561df-c4e9-42b0-9306-6a8a10d41e94"
      },
      "execution_count": 108,
      "outputs": [
        {
          "output_type": "stream",
          "name": "stdout",
          "text": [
            "       A     B     C         D\n",
            "0  128.0  16.0  60.0  5.500000\n",
            "1  200.0  20.0  68.0  4.800000\n",
            "2  288.0  24.0  76.0  4.333333\n",
            "3   23.0   NaN   NaN  2.345450\n",
            "       A     B     C         D\n",
            "0   23.0   NaN   NaN  2.345450\n",
            "1  288.0  24.0  76.0  4.333333\n",
            "2  200.0  20.0  68.0  4.800000\n",
            "3  128.0  16.0  60.0  5.500000\n"
          ]
        }
      ]
    },
    {
      "cell_type": "code",
      "source": [
        "# Sort columns alphabetically\n",
        "print(df3)\n",
        "sorted_df = df3.sort_index(axis=1)\n",
        "print(sorted_df)"
      ],
      "metadata": {
        "colab": {
          "base_uri": "https://localhost:8080/"
        },
        "id": "I-K7fVu7wwG0",
        "outputId": "bedbe63f-db2b-4d26-ab2b-4c965f16a326"
      },
      "execution_count": 109,
      "outputs": [
        {
          "output_type": "stream",
          "name": "stdout",
          "text": [
            "      Name  Age  Score\n",
            "0    Alice   25     85\n",
            "1      Bob   30     90\n",
            "2  Charlie   35     78\n",
            "3    David   40     88\n",
            "   Age     Name  Score\n",
            "0   25    Alice     85\n",
            "1   30      Bob     90\n",
            "2   35  Charlie     78\n",
            "3   40    David     88\n"
          ]
        }
      ]
    },
    {
      "cell_type": "code",
      "source": [
        "data = {\n",
        "    'Name': ['Charlie', 'Bob', 'Alice', 'David'],\n",
        "    'Age': [25, 30, 35, 40],\n",
        "    'Score': [85, 90, 78, 88]\n",
        "}\n",
        "df3 = pd.DataFrame(data)\n",
        "print(df3)"
      ],
      "metadata": {
        "colab": {
          "base_uri": "https://localhost:8080/"
        },
        "id": "60K0oy4mxAVh",
        "outputId": "8634a29d-c9d0-44e8-8e33-6af58f120a40"
      },
      "execution_count": 110,
      "outputs": [
        {
          "output_type": "stream",
          "name": "stdout",
          "text": [
            "      Name  Age  Score\n",
            "0  Charlie   25     85\n",
            "1      Bob   30     90\n",
            "2    Alice   35     78\n",
            "3    David   40     88\n"
          ]
        }
      ]
    },
    {
      "cell_type": "code",
      "source": [
        "# Sort by the length of names\n",
        "print(df3)\n",
        "sorted_df = df3.sort_values(by='Name', key=lambda col: col.str.len())\n",
        "print(sorted_df)\n"
      ],
      "metadata": {
        "colab": {
          "base_uri": "https://localhost:8080/"
        },
        "id": "jYaCbNfexERC",
        "outputId": "f1f861a4-e4a4-416c-aadd-21ace22578c8"
      },
      "execution_count": 111,
      "outputs": [
        {
          "output_type": "stream",
          "name": "stdout",
          "text": [
            "      Name  Age  Score\n",
            "0  Charlie   25     85\n",
            "1      Bob   30     90\n",
            "2    Alice   35     78\n",
            "3    David   40     88\n",
            "      Name  Age  Score\n",
            "1      Bob   30     90\n",
            "2    Alice   35     78\n",
            "3    David   40     88\n",
            "0  Charlie   25     85\n"
          ]
        }
      ]
    },
    {
      "cell_type": "markdown",
      "source": [
        "# ***Data Cleaning and Manipulation***"
      ],
      "metadata": {
        "id": "mJ7tNThqmlRs"
      }
    },
    {
      "cell_type": "markdown",
      "source": [
        "# **Handling Missing Data in Pandas**"
      ],
      "metadata": {
        "id": "3E6gfr4nmndo"
      }
    },
    {
      "cell_type": "code",
      "source": [],
      "metadata": {
        "id": "uKiDNwVdmqrP"
      },
      "execution_count": 111,
      "outputs": []
    },
    {
      "cell_type": "markdown",
      "source": [
        "## **Identifying Missing Data**"
      ],
      "metadata": {
        "id": "_NcApXygmvX1"
      }
    },
    {
      "cell_type": "code",
      "source": [
        "data = {\n",
        "    'Name': ['Alice', 'Bob', None],\n",
        "    'Age': [25, None, 30],\n",
        "    'Score': [85.5, 90.0, None]\n",
        "}\n",
        "df = pd.DataFrame(data)\n",
        "\n",
        "print(df)"
      ],
      "metadata": {
        "colab": {
          "base_uri": "https://localhost:8080/"
        },
        "id": "JD8mjBxDmyqB",
        "outputId": "5e83d27c-af6c-4838-b331-7bd793d55b9a"
      },
      "execution_count": 112,
      "outputs": [
        {
          "output_type": "stream",
          "name": "stdout",
          "text": [
            "    Name   Age  Score\n",
            "0  Alice  25.0   85.5\n",
            "1    Bob   NaN   90.0\n",
            "2   None  30.0    NaN\n"
          ]
        }
      ]
    },
    {
      "cell_type": "code",
      "source": [
        "# Identify missing values\n",
        "print(df.isnull())"
      ],
      "metadata": {
        "colab": {
          "base_uri": "https://localhost:8080/"
        },
        "id": "8ppXITdwm_0e",
        "outputId": "7e8ca56b-2d13-48d5-a0e1-ba00351b77e8"
      },
      "execution_count": 113,
      "outputs": [
        {
          "output_type": "stream",
          "name": "stdout",
          "text": [
            "    Name    Age  Score\n",
            "0  False  False  False\n",
            "1  False   True  False\n",
            "2   True  False   True\n"
          ]
        }
      ]
    },
    {
      "cell_type": "code",
      "source": [
        "print(df.notnull()) # Identify non-missing values\n"
      ],
      "metadata": {
        "colab": {
          "base_uri": "https://localhost:8080/"
        },
        "id": "knZJnEmBnFZO",
        "outputId": "ace13e15-1bd1-49d3-e657-f70c748ca3cc"
      },
      "execution_count": 114,
      "outputs": [
        {
          "output_type": "stream",
          "name": "stdout",
          "text": [
            "    Name    Age  Score\n",
            "0   True   True   True\n",
            "1   True  False   True\n",
            "2  False   True  False\n"
          ]
        }
      ]
    },
    {
      "cell_type": "code",
      "source": [
        "print(df.isnull().sum()) # Count missing values in each column"
      ],
      "metadata": {
        "colab": {
          "base_uri": "https://localhost:8080/"
        },
        "id": "H_Gkb1YJnMKq",
        "outputId": "946b45fc-cd64-4ebf-922e-64cff4964b98"
      },
      "execution_count": 115,
      "outputs": [
        {
          "output_type": "stream",
          "name": "stdout",
          "text": [
            "Name     1\n",
            "Age      1\n",
            "Score    1\n",
            "dtype: int64\n"
          ]
        }
      ]
    },
    {
      "cell_type": "markdown",
      "source": [
        "## **Removing Missing Data**"
      ],
      "metadata": {
        "id": "UadIlVkgnR8v"
      }
    },
    {
      "cell_type": "code",
      "source": [
        "# Drop rows with any missing values\n",
        "print(df)\n",
        "cleaned_df = df.dropna()\n",
        "print(cleaned_df)"
      ],
      "metadata": {
        "colab": {
          "base_uri": "https://localhost:8080/"
        },
        "id": "_dfKOW-inUjy",
        "outputId": "fc18b8cc-df95-4a3b-e773-e55ea552cb9f"
      },
      "execution_count": 116,
      "outputs": [
        {
          "output_type": "stream",
          "name": "stdout",
          "text": [
            "    Name   Age  Score\n",
            "0  Alice  25.0   85.5\n",
            "1    Bob   NaN   90.0\n",
            "2   None  30.0    NaN\n",
            "    Name   Age  Score\n",
            "0  Alice  25.0   85.5\n"
          ]
        }
      ]
    },
    {
      "cell_type": "code",
      "source": [
        "print(df)\n",
        "cleaned_df = df.dropna(axis=1) # Drop columns with any missing values\n",
        "print(cleaned_df)"
      ],
      "metadata": {
        "colab": {
          "base_uri": "https://localhost:8080/"
        },
        "id": "kQYjWPYEneWY",
        "outputId": "7d598cdd-c24f-4309-c4cd-e714c3d46fd8"
      },
      "execution_count": 117,
      "outputs": [
        {
          "output_type": "stream",
          "name": "stdout",
          "text": [
            "    Name   Age  Score\n",
            "0  Alice  25.0   85.5\n",
            "1    Bob   NaN   90.0\n",
            "2   None  30.0    NaN\n",
            "Empty DataFrame\n",
            "Columns: []\n",
            "Index: [0, 1, 2]\n"
          ]
        }
      ]
    },
    {
      "cell_type": "code",
      "source": [
        "# Keep rows with at least 2 non-missing values4\n",
        "print(df)\n",
        "cleaned_df = df.dropna(thresh=2)\n",
        "print(cleaned_df)"
      ],
      "metadata": {
        "colab": {
          "base_uri": "https://localhost:8080/"
        },
        "id": "YzH_rngUn0Au",
        "outputId": "435e1978-a1df-4e22-f39d-cf36dc2dafa7"
      },
      "execution_count": 118,
      "outputs": [
        {
          "output_type": "stream",
          "name": "stdout",
          "text": [
            "    Name   Age  Score\n",
            "0  Alice  25.0   85.5\n",
            "1    Bob   NaN   90.0\n",
            "2   None  30.0    NaN\n",
            "    Name   Age  Score\n",
            "0  Alice  25.0   85.5\n",
            "1    Bob   NaN   90.0\n"
          ]
        }
      ]
    },
    {
      "cell_type": "markdown",
      "source": [
        "## **Filling Missing Data**"
      ],
      "metadata": {
        "id": "lPaO8fxHn9NB"
      }
    },
    {
      "cell_type": "code",
      "source": [
        "# Fill missing values with 0\n",
        "print(df)\n",
        "filled_df = df.fillna(0)\n",
        "print(filled_df)\n"
      ],
      "metadata": {
        "colab": {
          "base_uri": "https://localhost:8080/"
        },
        "id": "5TokPOOWn_86",
        "outputId": "03e4ce65-ac94-4c70-fc2a-f1d13e983451"
      },
      "execution_count": 119,
      "outputs": [
        {
          "output_type": "stream",
          "name": "stdout",
          "text": [
            "    Name   Age  Score\n",
            "0  Alice  25.0   85.5\n",
            "1    Bob   NaN   90.0\n",
            "2   None  30.0    NaN\n",
            "    Name   Age  Score\n",
            "0  Alice  25.0   85.5\n",
            "1    Bob   0.0   90.0\n",
            "2      0  30.0    0.0\n"
          ]
        }
      ]
    },
    {
      "cell_type": "code",
      "source": [
        "print(df)\n",
        "# Fill missing values in Age with the mean\n",
        "df['Age'] = df['Age'].fillna(df['Age'].mean())\n",
        "\n",
        "# Fill missing values in Score with the median\n",
        "df['Score'] = df['Score'].fillna(df['Score'].median())\n",
        "print(df)\n"
      ],
      "metadata": {
        "colab": {
          "base_uri": "https://localhost:8080/"
        },
        "id": "9AN_zsGXoYL8",
        "outputId": "3fa5d1d3-b0c0-4b94-8696-bda5ac272292"
      },
      "execution_count": 120,
      "outputs": [
        {
          "output_type": "stream",
          "name": "stdout",
          "text": [
            "    Name   Age  Score\n",
            "0  Alice  25.0   85.5\n",
            "1    Bob   NaN   90.0\n",
            "2   None  30.0    NaN\n",
            "    Name   Age  Score\n",
            "0  Alice  25.0  85.50\n",
            "1    Bob  27.5  90.00\n",
            "2   None  30.0  87.75\n"
          ]
        }
      ]
    },
    {
      "cell_type": "code",
      "source": [
        "df = pd.DataFrame(data)\n",
        "print(df)\n",
        "# Forward fill (propagate the last valid value forward)\n",
        "df['Name'] = df['Name'].ffill()\n",
        "print(df)\n"
      ],
      "metadata": {
        "colab": {
          "base_uri": "https://localhost:8080/"
        },
        "id": "RvfPIqoBokfF",
        "outputId": "6981d290-6384-416d-9b64-d04fa0bf803e"
      },
      "execution_count": 121,
      "outputs": [
        {
          "output_type": "stream",
          "name": "stdout",
          "text": [
            "    Name   Age  Score\n",
            "0  Alice  25.0   85.5\n",
            "1    Bob   NaN   90.0\n",
            "2   None  30.0    NaN\n",
            "    Name   Age  Score\n",
            "0  Alice  25.0   85.5\n",
            "1    Bob   NaN   90.0\n",
            "2    Bob  30.0    NaN\n"
          ]
        }
      ]
    },
    {
      "cell_type": "code",
      "source": [
        "# Backward fill (propagate the next valid value backward)\n",
        "df = pd.DataFrame(data)\n",
        "print(df)\n",
        "df['Age'] = df['Age'].bfill()\n",
        "print(df)\n"
      ],
      "metadata": {
        "colab": {
          "base_uri": "https://localhost:8080/"
        },
        "id": "2BxTEQLJpPKa",
        "outputId": "cc218b62-23f8-4a95-84ae-f3529d70760b"
      },
      "execution_count": 122,
      "outputs": [
        {
          "output_type": "stream",
          "name": "stdout",
          "text": [
            "    Name   Age  Score\n",
            "0  Alice  25.0   85.5\n",
            "1    Bob   NaN   90.0\n",
            "2   None  30.0    NaN\n",
            "    Name   Age  Score\n",
            "0  Alice  25.0   85.5\n",
            "1    Bob  30.0   90.0\n",
            "2   None  30.0    NaN\n"
          ]
        }
      ]
    },
    {
      "cell_type": "markdown",
      "source": [
        "## **Interpolating Missing Data**"
      ],
      "metadata": {
        "id": "ZZQiZX0KpsgO"
      }
    },
    {
      "cell_type": "code",
      "source": [
        "# Linear interpolation for numeric columns\n",
        "df = pd.DataFrame(data)\n",
        "print(df)\n",
        "df['Age'] = df['Age'].interpolate(method='linear')\n",
        "print(df)"
      ],
      "metadata": {
        "colab": {
          "base_uri": "https://localhost:8080/"
        },
        "id": "BQj4A_RapupC",
        "outputId": "6a5b6d72-82bf-4ac6-bfa0-c72e44265477"
      },
      "execution_count": 123,
      "outputs": [
        {
          "output_type": "stream",
          "name": "stdout",
          "text": [
            "    Name   Age  Score\n",
            "0  Alice  25.0   85.5\n",
            "1    Bob   NaN   90.0\n",
            "2   None  30.0    NaN\n",
            "    Name   Age  Score\n",
            "0  Alice  25.0   85.5\n",
            "1    Bob  27.5   90.0\n",
            "2   None  30.0    NaN\n"
          ]
        }
      ]
    },
    {
      "cell_type": "markdown",
      "source": [
        "# **Renaming Columns and Index**"
      ],
      "metadata": {
        "id": "f31vgDL6qDdg"
      }
    },
    {
      "cell_type": "code",
      "source": [
        "data = {\n",
        "    'old_name1': [1, 2, 3],\n",
        "    'old_name2': [4, 5, 6]\n",
        "}\n",
        "df = pd.DataFrame(data)\n",
        "print(df)"
      ],
      "metadata": {
        "colab": {
          "base_uri": "https://localhost:8080/"
        },
        "id": "F_YEcHaHqFkM",
        "outputId": "da63caa5-095b-45cb-a5b4-84aa5ac6e7da"
      },
      "execution_count": 124,
      "outputs": [
        {
          "output_type": "stream",
          "name": "stdout",
          "text": [
            "   old_name1  old_name2\n",
            "0          1          4\n",
            "1          2          5\n",
            "2          3          6\n"
          ]
        }
      ]
    },
    {
      "cell_type": "code",
      "source": [
        "df = df.rename(columns={'old_name1': 'new_name1', 'old_name2': 'new_name2'})\n",
        "print(df)\n"
      ],
      "metadata": {
        "colab": {
          "base_uri": "https://localhost:8080/"
        },
        "id": "B0qtvCDuqUkL",
        "outputId": "7c9364db-a2e5-46e2-d75c-24f969a15d0a"
      },
      "execution_count": 125,
      "outputs": [
        {
          "output_type": "stream",
          "name": "stdout",
          "text": [
            "   new_name1  new_name2\n",
            "0          1          4\n",
            "1          2          5\n",
            "2          3          6\n"
          ]
        }
      ]
    },
    {
      "cell_type": "code",
      "source": [
        "# Rename index labels\n",
        "df = df.rename(index={0: 'first', 1: 'second', 2: 'third'})\n",
        "print(df)\n"
      ],
      "metadata": {
        "colab": {
          "base_uri": "https://localhost:8080/"
        },
        "id": "sqSw-vdFqadJ",
        "outputId": "046bf77d-e6b5-4230-a817-0393fa6888ec"
      },
      "execution_count": 126,
      "outputs": [
        {
          "output_type": "stream",
          "name": "stdout",
          "text": [
            "        new_name1  new_name2\n",
            "first           1          4\n",
            "second          2          5\n",
            "third           3          6\n"
          ]
        }
      ]
    },
    {
      "cell_type": "code",
      "source": [
        "# Convert column names to uppercase\n",
        "print(df)\n",
        "df = df.rename(columns=str.upper)\n",
        "print(df)"
      ],
      "metadata": {
        "colab": {
          "base_uri": "https://localhost:8080/"
        },
        "id": "iA8_FkPUqewd",
        "outputId": "7f5ded8d-9caa-46b6-fa2d-2deb84942dd4"
      },
      "execution_count": 127,
      "outputs": [
        {
          "output_type": "stream",
          "name": "stdout",
          "text": [
            "        new_name1  new_name2\n",
            "first           1          4\n",
            "second          2          5\n",
            "third           3          6\n",
            "        NEW_NAME1  NEW_NAME2\n",
            "first           1          4\n",
            "second          2          5\n",
            "third           3          6\n"
          ]
        }
      ]
    },
    {
      "cell_type": "code",
      "source": [
        "# Add a prefix to index labels\n",
        "print(df)\n",
        "df = df.rename(index=lambda x: f\"row_{x}\")\n",
        "print(df)\n"
      ],
      "metadata": {
        "colab": {
          "base_uri": "https://localhost:8080/"
        },
        "id": "noW0Q2Quqqru",
        "outputId": "18657bc4-a4e1-4b1b-dfb8-f6443f8efc31"
      },
      "execution_count": 128,
      "outputs": [
        {
          "output_type": "stream",
          "name": "stdout",
          "text": [
            "        NEW_NAME1  NEW_NAME2\n",
            "first           1          4\n",
            "second          2          5\n",
            "third           3          6\n",
            "            NEW_NAME1  NEW_NAME2\n",
            "row_first           1          4\n",
            "row_second          2          5\n",
            "row_third           3          6\n"
          ]
        }
      ]
    },
    {
      "cell_type": "code",
      "source": [
        "# Rename all columns\n",
        "print(df)\n",
        "df.columns = ['Column1', 'Column2']\n",
        "print(df)\n"
      ],
      "metadata": {
        "colab": {
          "base_uri": "https://localhost:8080/"
        },
        "id": "G7oCekthqydQ",
        "outputId": "7129fca8-84a8-47f9-bf51-5cc4ff77b07e"
      },
      "execution_count": 129,
      "outputs": [
        {
          "output_type": "stream",
          "name": "stdout",
          "text": [
            "            NEW_NAME1  NEW_NAME2\n",
            "row_first           1          4\n",
            "row_second          2          5\n",
            "row_third           3          6\n",
            "            Column1  Column2\n",
            "row_first         1        4\n",
            "row_second        2        5\n",
            "row_third         3        6\n"
          ]
        }
      ]
    },
    {
      "cell_type": "code",
      "source": [
        "# Rename all index labels\n",
        "print(df)\n",
        "df.index = ['Index1', 'Index2', 'Index3']\n",
        "print(df)\n"
      ],
      "metadata": {
        "colab": {
          "base_uri": "https://localhost:8080/"
        },
        "id": "UUDfrXUmq5Qr",
        "outputId": "b152423b-bd85-40df-8293-cb3ac434b5c7"
      },
      "execution_count": 130,
      "outputs": [
        {
          "output_type": "stream",
          "name": "stdout",
          "text": [
            "            Column1  Column2\n",
            "row_first         1        4\n",
            "row_second        2        5\n",
            "row_third         3        6\n",
            "        Column1  Column2\n",
            "Index1        1        4\n",
            "Index2        2        5\n",
            "Index3        3        6\n"
          ]
        }
      ]
    },
    {
      "cell_type": "code",
      "source": [
        "# Rename columns in place\n",
        "print(df)\n",
        "df.rename(columns={'Column1': 'C1', 'Column2': 'C2'}, inplace=True)\n",
        "print(df)\n"
      ],
      "metadata": {
        "colab": {
          "base_uri": "https://localhost:8080/"
        },
        "id": "BEHEo_TbrFHm",
        "outputId": "ee0b9c40-e090-400c-da94-a3ae32261f65"
      },
      "execution_count": 131,
      "outputs": [
        {
          "output_type": "stream",
          "name": "stdout",
          "text": [
            "        Column1  Column2\n",
            "Index1        1        4\n",
            "Index2        2        5\n",
            "Index3        3        6\n",
            "        C1  C2\n",
            "Index1   1   4\n",
            "Index2   2   5\n",
            "Index3   3   6\n"
          ]
        }
      ]
    },
    {
      "cell_type": "code",
      "source": [
        "print(df)\n",
        "df = df.reset_index() # Reset index labels\n",
        "print(df)\n"
      ],
      "metadata": {
        "colab": {
          "base_uri": "https://localhost:8080/"
        },
        "id": "T_562NfXrPeV",
        "outputId": "75948d5c-2c23-4f14-c028-b9a9b631e661"
      },
      "execution_count": 132,
      "outputs": [
        {
          "output_type": "stream",
          "name": "stdout",
          "text": [
            "        C1  C2\n",
            "Index1   1   4\n",
            "Index2   2   5\n",
            "Index3   3   6\n",
            "    index  C1  C2\n",
            "0  Index1   1   4\n",
            "1  Index2   2   5\n",
            "2  Index3   3   6\n"
          ]
        }
      ]
    },
    {
      "cell_type": "markdown",
      "source": [
        "# **Aggregation and Grouping**\n"
      ],
      "metadata": {
        "id": "MwgK27jzrc-U"
      }
    },
    {
      "cell_type": "markdown",
      "source": [
        "# **Grouping Data**"
      ],
      "metadata": {
        "id": "I1mypiX_xzOK"
      }
    },
    {
      "cell_type": "code",
      "source": [
        "# Sample DataFrame\n",
        "data = {\n",
        "    'Category': ['A', 'B', 'A', 'B', 'C'],\n",
        "    'Value': [10, 20, 30, 40, 50],\n",
        "    'Quantity': [1, 2, 3, 4, 5]\n",
        "}\n",
        "df = pd.DataFrame(data)\n",
        "print(df)"
      ],
      "metadata": {
        "colab": {
          "base_uri": "https://localhost:8080/"
        },
        "id": "nqwtIUpex5OC",
        "outputId": "7c4176a3-5cbf-4c2d-c924-04a9f38c4738"
      },
      "execution_count": 133,
      "outputs": [
        {
          "output_type": "stream",
          "name": "stdout",
          "text": [
            "  Category  Value  Quantity\n",
            "0        A     10         1\n",
            "1        B     20         2\n",
            "2        A     30         3\n",
            "3        B     40         4\n",
            "4        C     50         5\n"
          ]
        }
      ]
    },
    {
      "cell_type": "code",
      "source": [
        "# Group by 'Category' and calculate the sum of 'Value'\n",
        "print(df)\n",
        "grouped = df.groupby('Category')['Value'].sum()\n",
        "print(grouped)"
      ],
      "metadata": {
        "colab": {
          "base_uri": "https://localhost:8080/"
        },
        "id": "blaL2gG8rfhx",
        "outputId": "905db557-a071-4332-f7f8-d1d77b81018d"
      },
      "execution_count": 134,
      "outputs": [
        {
          "output_type": "stream",
          "name": "stdout",
          "text": [
            "  Category  Value  Quantity\n",
            "0        A     10         1\n",
            "1        B     20         2\n",
            "2        A     30         3\n",
            "3        B     40         4\n",
            "4        C     50         5\n",
            "Category\n",
            "A    40\n",
            "B    60\n",
            "C    50\n",
            "Name: Value, dtype: int64\n"
          ]
        }
      ]
    },
    {
      "cell_type": "code",
      "source": [
        "# Group by 'Category' and 'Quantity' and calculate the sum of 'Value'\n",
        "print(df)\n",
        "grouped = df.groupby(['Category', 'Quantity'])['Value'].sum()\n",
        "print(grouped)"
      ],
      "metadata": {
        "colab": {
          "base_uri": "https://localhost:8080/"
        },
        "id": "QPmZjCcKyGoX",
        "outputId": "cd57b065-a209-4614-a95a-0ef796e3437c"
      },
      "execution_count": 135,
      "outputs": [
        {
          "output_type": "stream",
          "name": "stdout",
          "text": [
            "  Category  Value  Quantity\n",
            "0        A     10         1\n",
            "1        B     20         2\n",
            "2        A     30         3\n",
            "3        B     40         4\n",
            "4        C     50         5\n",
            "Category  Quantity\n",
            "A         1           10\n",
            "          3           30\n",
            "B         2           20\n",
            "          4           40\n",
            "C         5           50\n",
            "Name: Value, dtype: int64\n"
          ]
        }
      ]
    },
    {
      "cell_type": "code",
      "source": [
        "# Add a column with the mean value of each group\n",
        "print(df)\n",
        "df['GroupMean'] = df.groupby('Category')['Value'].transform('mean')\n",
        "print(df)\n"
      ],
      "metadata": {
        "colab": {
          "base_uri": "https://localhost:8080/"
        },
        "id": "7bs97n7lznvF",
        "outputId": "e48da0d9-c4cf-4144-e8e3-44e283ec30cd"
      },
      "execution_count": 136,
      "outputs": [
        {
          "output_type": "stream",
          "name": "stdout",
          "text": [
            "  Category  Value  Quantity\n",
            "0        A     10         1\n",
            "1        B     20         2\n",
            "2        A     30         3\n",
            "3        B     40         4\n",
            "4        C     50         5\n",
            "  Category  Value  Quantity  GroupMean\n",
            "0        A     10         1       20.0\n",
            "1        B     20         2       30.0\n",
            "2        A     30         3       20.0\n",
            "3        B     40         4       30.0\n",
            "4        C     50         5       50.0\n"
          ]
        }
      ]
    },
    {
      "cell_type": "code",
      "source": [
        "# Keep only groups where the sum of 'Value' is greater than 50\n",
        "print(df)\n",
        "filtered = df.groupby('Category').filter(lambda group: group['Value'].sum() > 50)\n",
        "print(filtered)\n"
      ],
      "metadata": {
        "colab": {
          "base_uri": "https://localhost:8080/"
        },
        "id": "5whw8xuGzxyT",
        "outputId": "557507ae-e55b-43cf-ea12-00b0a964d386"
      },
      "execution_count": 137,
      "outputs": [
        {
          "output_type": "stream",
          "name": "stdout",
          "text": [
            "  Category  Value  Quantity  GroupMean\n",
            "0        A     10         1       20.0\n",
            "1        B     20         2       30.0\n",
            "2        A     30         3       20.0\n",
            "3        B     40         4       30.0\n",
            "4        C     50         5       50.0\n",
            "  Category  Value  Quantity  GroupMean\n",
            "1        B     20         2       30.0\n",
            "3        B     40         4       30.0\n"
          ]
        }
      ]
    },
    {
      "cell_type": "code",
      "source": [
        "# Set 'Category' as the index and group by it\n",
        "df = df.set_index('Category')\n",
        "grouped = df.groupby(level=0).sum()\n",
        "print(grouped)"
      ],
      "metadata": {
        "colab": {
          "base_uri": "https://localhost:8080/"
        },
        "id": "BFdvcXsAz6DV",
        "outputId": "30ff9f06-4477-4eac-a469-e523501a90d3"
      },
      "execution_count": 138,
      "outputs": [
        {
          "output_type": "stream",
          "name": "stdout",
          "text": [
            "          Value  Quantity  GroupMean\n",
            "Category                            \n",
            "A            40         4       40.0\n",
            "B            60         6       60.0\n",
            "C            50         5       50.0\n"
          ]
        }
      ]
    },
    {
      "cell_type": "markdown",
      "source": [
        "# **Aggregation Functions**"
      ],
      "metadata": {
        "id": "0Z43sC6CySyA"
      }
    },
    {
      "cell_type": "code",
      "source": [
        "# Apply aggregations to the entire DataFrame\n",
        "print(df)\n",
        "print(df.sum())   # Sum of all numeric columns\n",
        "print(df.mean())  # Mean of all numeric columns\n",
        "print(df.median())  # Median of all numeric columns\n",
        "print(df.min())   # Min of all numeric columns\n",
        "print(df.max())   # Max of all numeric columns\n",
        "print(df.std())   # Standard deviation of all numeric columns\n",
        "print(df.count()) # Count of non-null values in all columns\n",
        "print(df.var()) # Variance of all numeric columns\n",
        "print(df.prod()) # Product of all numeric columns\n",
        "print(df['Value'].sum())  # Sum of 'Value' column\n",
        "print(df[['Value', 'Quantity']].mean())"
      ],
      "metadata": {
        "colab": {
          "base_uri": "https://localhost:8080/"
        },
        "id": "W2f1sKLh0NCq",
        "outputId": "d2b8ff37-f14b-414b-ba18-21d2db3b255a"
      },
      "execution_count": 139,
      "outputs": [
        {
          "output_type": "stream",
          "name": "stdout",
          "text": [
            "          Value  Quantity  GroupMean\n",
            "Category                            \n",
            "A            10         1       20.0\n",
            "B            20         2       30.0\n",
            "A            30         3       20.0\n",
            "B            40         4       30.0\n",
            "C            50         5       50.0\n",
            "Value        150.0\n",
            "Quantity      15.0\n",
            "GroupMean    150.0\n",
            "dtype: float64\n",
            "Value        30.0\n",
            "Quantity      3.0\n",
            "GroupMean    30.0\n",
            "dtype: float64\n",
            "Value        30.0\n",
            "Quantity      3.0\n",
            "GroupMean    30.0\n",
            "dtype: float64\n",
            "Value        10.0\n",
            "Quantity      1.0\n",
            "GroupMean    20.0\n",
            "dtype: float64\n",
            "Value        50.0\n",
            "Quantity      5.0\n",
            "GroupMean    50.0\n",
            "dtype: float64\n",
            "Value        15.811388\n",
            "Quantity      1.581139\n",
            "GroupMean    12.247449\n",
            "dtype: float64\n",
            "Value        5\n",
            "Quantity     5\n",
            "GroupMean    5\n",
            "dtype: int64\n",
            "Value        250.0\n",
            "Quantity       2.5\n",
            "GroupMean    150.0\n",
            "dtype: float64\n",
            "Value        12000000.0\n",
            "Quantity          120.0\n",
            "GroupMean    18000000.0\n",
            "dtype: float64\n",
            "150\n",
            "Value       30.0\n",
            "Quantity     3.0\n",
            "dtype: float64\n"
          ]
        }
      ]
    },
    {
      "cell_type": "code",
      "source": [
        "# Group by 'Category' and apply multiple aggregations to 'Value'\n",
        "print(df)\n",
        "grouped = df.groupby('Category')['Value'].agg(['sum', 'mean', 'count'])\n",
        "print(grouped)"
      ],
      "metadata": {
        "colab": {
          "base_uri": "https://localhost:8080/"
        },
        "id": "ZNBghQjmyUo5",
        "outputId": "2ece82e5-49b1-42d8-cbf6-2847e734bed6"
      },
      "execution_count": 140,
      "outputs": [
        {
          "output_type": "stream",
          "name": "stdout",
          "text": [
            "          Value  Quantity  GroupMean\n",
            "Category                            \n",
            "A            10         1       20.0\n",
            "B            20         2       30.0\n",
            "A            30         3       20.0\n",
            "B            40         4       30.0\n",
            "C            50         5       50.0\n",
            "          sum  mean  count\n",
            "Category                  \n",
            "A          40  20.0      2\n",
            "B          60  30.0      2\n",
            "C          50  50.0      1\n"
          ]
        }
      ]
    },
    {
      "cell_type": "code",
      "source": [
        "# Group by 'Category' and calculate the range of 'Value'\n",
        "print(df)\n",
        "def value_range(series):\n",
        "    return series.max() - series.min()\n",
        "\n",
        "grouped = df.groupby('Category')['Value'].agg(value_range)\n",
        "print(grouped)"
      ],
      "metadata": {
        "colab": {
          "base_uri": "https://localhost:8080/"
        },
        "id": "sAvcCEi2yLK4",
        "outputId": "eafa8ba5-f03b-4c26-f76b-91e7a9ef024b"
      },
      "execution_count": 141,
      "outputs": [
        {
          "output_type": "stream",
          "name": "stdout",
          "text": [
            "          Value  Quantity  GroupMean\n",
            "Category                            \n",
            "A            10         1       20.0\n",
            "B            20         2       30.0\n",
            "A            30         3       20.0\n",
            "B            40         4       30.0\n",
            "C            50         5       50.0\n",
            "Category\n",
            "A    20\n",
            "B    20\n",
            "C     0\n",
            "Name: Value, dtype: int64\n"
          ]
        }
      ]
    },
    {
      "cell_type": "code",
      "source": [
        "print(df)\n",
        "grouped = df.groupby('Category')\n",
        "for name, group in grouped:\n",
        "    print(f\"Group: {name}\")\n",
        "    print(group)\n"
      ],
      "metadata": {
        "colab": {
          "base_uri": "https://localhost:8080/"
        },
        "id": "jDyHNt8dyzmg",
        "outputId": "0519e2a5-f62b-445a-f56a-f496c946f73e"
      },
      "execution_count": 142,
      "outputs": [
        {
          "output_type": "stream",
          "name": "stdout",
          "text": [
            "          Value  Quantity  GroupMean\n",
            "Category                            \n",
            "A            10         1       20.0\n",
            "B            20         2       30.0\n",
            "A            30         3       20.0\n",
            "B            40         4       30.0\n",
            "C            50         5       50.0\n",
            "Group: A\n",
            "          Value  Quantity  GroupMean\n",
            "Category                            \n",
            "A            10         1       20.0\n",
            "A            30         3       20.0\n",
            "Group: B\n",
            "          Value  Quantity  GroupMean\n",
            "Category                            \n",
            "B            20         2       30.0\n",
            "B            40         4       30.0\n",
            "Group: C\n",
            "          Value  Quantity  GroupMean\n",
            "Category                            \n",
            "C            50         5       50.0\n"
          ]
        }
      ]
    },
    {
      "cell_type": "code",
      "source": [
        "# Group by 'Category' and reset the index\n",
        "print(df)\n",
        "grouped = df.groupby('Category')['Value'].sum().reset_index()\n",
        "print(grouped)\n"
      ],
      "metadata": {
        "colab": {
          "base_uri": "https://localhost:8080/"
        },
        "id": "_x-xbeTozAuD",
        "outputId": "99d21607-f913-4919-9a9b-72871f916f24"
      },
      "execution_count": 143,
      "outputs": [
        {
          "output_type": "stream",
          "name": "stdout",
          "text": [
            "          Value  Quantity  GroupMean\n",
            "Category                            \n",
            "A            10         1       20.0\n",
            "B            20         2       30.0\n",
            "A            30         3       20.0\n",
            "B            40         4       30.0\n",
            "C            50         5       50.0\n",
            "  Category  Value\n",
            "0        A     40\n",
            "1        B     60\n",
            "2        C     50\n"
          ]
        }
      ]
    },
    {
      "cell_type": "code",
      "source": [
        "# Apply different aggregations to 'Value' and 'Quantity'\n",
        "print(df)\n",
        "grouped = df.groupby('Category').agg({\n",
        "    'Value': 'sum',\n",
        "    'Quantity': 'mean'\n",
        "})\n",
        "print(grouped)\n"
      ],
      "metadata": {
        "colab": {
          "base_uri": "https://localhost:8080/"
        },
        "id": "5YaJQ_PrzKiB",
        "outputId": "084aac2f-8d4b-4c71-ddd0-1a8c075a087e"
      },
      "execution_count": 144,
      "outputs": [
        {
          "output_type": "stream",
          "name": "stdout",
          "text": [
            "          Value  Quantity  GroupMean\n",
            "Category                            \n",
            "A            10         1       20.0\n",
            "B            20         2       30.0\n",
            "A            30         3       20.0\n",
            "B            40         4       30.0\n",
            "C            50         5       50.0\n",
            "          Value  Quantity\n",
            "Category                 \n",
            "A            40       2.0\n",
            "B            60       3.0\n",
            "C            50       5.0\n"
          ]
        }
      ]
    },
    {
      "cell_type": "code",
      "source": [],
      "metadata": {
        "id": "LKp3TXwmzS_A"
      },
      "execution_count": 144,
      "outputs": []
    },
    {
      "cell_type": "code",
      "source": [],
      "metadata": {
        "id": "A27eRZH4ze2E"
      },
      "execution_count": 144,
      "outputs": []
    },
    {
      "cell_type": "markdown",
      "source": [
        "# **Pivot Tables in Pandas**"
      ],
      "metadata": {
        "id": "Cgdg-alS1dfc"
      }
    },
    {
      "cell_type": "code",
      "source": [
        "# Sample DataFrame\n",
        "data = {\n",
        "    'Region': ['East', 'West', 'East', 'West', 'East', 'West'],\n",
        "    'Product': ['A', 'A', 'B', 'B', 'C', 'C'],\n",
        "    'Sales': [100, 150, 200, 250, 300, 350],\n",
        "}\n",
        "df = pd.DataFrame(data)\n",
        "print(df)\n",
        "# Create a pivot table\n",
        "pivot_table = df.pivot_table(\n",
        "    values='Sales',\n",
        "    index='Region',\n",
        "    columns='Product',\n",
        "    aggfunc='sum'\n",
        ")\n",
        "print(pivot_table)"
      ],
      "metadata": {
        "colab": {
          "base_uri": "https://localhost:8080/"
        },
        "id": "WGa2ADws1fo6",
        "outputId": "7612fbd1-468e-4ecb-ae0b-7ffaaa32253b"
      },
      "execution_count": 145,
      "outputs": [
        {
          "output_type": "stream",
          "name": "stdout",
          "text": [
            "  Region Product  Sales\n",
            "0   East       A    100\n",
            "1   West       A    150\n",
            "2   East       B    200\n",
            "3   West       B    250\n",
            "4   East       C    300\n",
            "5   West       C    350\n",
            "Product    A    B    C\n",
            "Region                \n",
            "East     100  200  300\n",
            "West     150  250  350\n"
          ]
        }
      ]
    },
    {
      "cell_type": "code",
      "source": [
        "# Create a pivot table with multiple aggregation functions\n",
        "pivot_table = df.pivot_table(\n",
        "    values='Sales',\n",
        "    index='Region',\n",
        "    columns='Product',\n",
        "    aggfunc=['sum', 'mean']\n",
        ")\n",
        "print(pivot_table)"
      ],
      "metadata": {
        "colab": {
          "base_uri": "https://localhost:8080/"
        },
        "id": "nFv-Ym8K11Di",
        "outputId": "2d08e961-a5c7-4e8c-8bf8-2d6d4183eedd"
      },
      "execution_count": 146,
      "outputs": [
        {
          "output_type": "stream",
          "name": "stdout",
          "text": [
            "         sum             mean              \n",
            "Product    A    B    C      A      B      C\n",
            "Region                                     \n",
            "East     100  200  300  100.0  200.0  300.0\n",
            "West     150  250  350  150.0  250.0  350.0\n"
          ]
        }
      ]
    },
    {
      "cell_type": "code",
      "source": [
        "pivot_table = df.pivot_table(\n",
        "    values='Sales',\n",
        "    index='Region',\n",
        "    columns='Product',\n",
        "    aggfunc='sum',\n",
        "    fill_value=0\n",
        ") # Fill missing values with 0\n",
        "print(pivot_table)"
      ],
      "metadata": {
        "colab": {
          "base_uri": "https://localhost:8080/"
        },
        "id": "Qp6iHaxY180h",
        "outputId": "7ca86cfd-1586-41e5-99d6-0f88d5bf4ead"
      },
      "execution_count": 147,
      "outputs": [
        {
          "output_type": "stream",
          "name": "stdout",
          "text": [
            "Product    A    B    C\n",
            "Region                \n",
            "East     100  200  300\n",
            "West     150  250  350\n"
          ]
        }
      ]
    },
    {
      "cell_type": "code",
      "source": [
        "pivot_table = df.pivot_table(\n",
        "    values='Sales',\n",
        "    index='Region',\n",
        "    columns='Product',\n",
        "    aggfunc='sum',\n",
        "    margins=True\n",
        ") # Add row and column totals\n",
        "print(pivot_table)\n"
      ],
      "metadata": {
        "colab": {
          "base_uri": "https://localhost:8080/"
        },
        "id": "NngpTAMT2C0h",
        "outputId": "654821ef-5111-4dec-bc76-0717f5b9d2c4"
      },
      "execution_count": 148,
      "outputs": [
        {
          "output_type": "stream",
          "name": "stdout",
          "text": [
            "Product    A    B    C   All\n",
            "Region                      \n",
            "East     100  200  300   600\n",
            "West     150  250  350   750\n",
            "All      250  450  650  1350\n"
          ]
        }
      ]
    },
    {
      "cell_type": "code",
      "source": [
        "# Sample DataFrame with additional grouping by Year\n",
        "data = {\n",
        "    'Year': [2020, 2020, 2021, 2021, 2021],\n",
        "    'Region': ['East', 'West', 'East', 'West', 'East'],\n",
        "    'Product': ['A', 'A', 'B', 'B', 'C'],\n",
        "    'Sales': [100, 150, 200, 250, 300],\n",
        "}\n",
        "df = pd.DataFrame(data)\n",
        "\n",
        "# Create a multi-level pivot table with both 'Year' and 'Region' as indexes\n",
        "pivot_table = df.pivot_table(\n",
        "    values='Sales',\n",
        "    index=['Year', 'Region'],\n",
        "    columns='Product',\n",
        "    aggfunc='sum'\n",
        ")\n",
        "print(pivot_table)\n"
      ],
      "metadata": {
        "colab": {
          "base_uri": "https://localhost:8080/"
        },
        "id": "61-l75_F2NHl",
        "outputId": "f8890496-0f7c-47a5-ab96-b6193397ad88"
      },
      "execution_count": 149,
      "outputs": [
        {
          "output_type": "stream",
          "name": "stdout",
          "text": [
            "Product          A      B      C\n",
            "Year Region                     \n",
            "2020 East    100.0    NaN    NaN\n",
            "     West    150.0    NaN    NaN\n",
            "2021 East      NaN  200.0  300.0\n",
            "     West      NaN  250.0    NaN\n"
          ]
        }
      ]
    },
    {
      "cell_type": "code",
      "source": [
        "# Define a custom aggregation function to find the range (max - min)\n",
        "def value_range(series):\n",
        "    return series.max() - series.min()\n",
        "\n",
        "# Create a pivot table with custom aggregation\n",
        "pivot_table = df.pivot_table(\n",
        "    values='Sales',\n",
        "    index='Region',\n",
        "    columns='Product',\n",
        "    aggfunc=value_range\n",
        ")\n",
        "print(pivot_table)\n"
      ],
      "metadata": {
        "colab": {
          "base_uri": "https://localhost:8080/"
        },
        "id": "VAa5RQRd2VvR",
        "outputId": "7688530f-b728-47f7-fe37-05e50547aea6"
      },
      "execution_count": 150,
      "outputs": [
        {
          "output_type": "stream",
          "name": "stdout",
          "text": [
            "Product    A    B    C\n",
            "Region                \n",
            "East     0.0  0.0  0.0\n",
            "West     0.0  0.0  NaN\n"
          ]
        }
      ]
    },
    {
      "cell_type": "markdown",
      "source": [
        "# ***Merging and Joining***"
      ],
      "metadata": {
        "id": "nl_QjODq2e94"
      }
    },
    {
      "cell_type": "markdown",
      "source": [
        "# **Merging DataFrames**"
      ],
      "metadata": {
        "id": "UQ_2RFos2hWt"
      }
    },
    {
      "cell_type": "markdown",
      "source": [],
      "metadata": {
        "id": "XyxbbWA63KJ0"
      }
    },
    {
      "cell_type": "code",
      "source": [
        "df1 = pd.DataFrame({\n",
        "    'ID': [1, 2, 3],\n",
        "    'Name': ['Alice', 'Bob', 'Charlie']\n",
        "})\n",
        "\n",
        "df2 = pd.DataFrame({\n",
        "    'ID': [2, 3, 4],\n",
        "    'Score': [85, 90, 95]\n",
        "})\n",
        "\n"
      ],
      "metadata": {
        "id": "fkMNb0Zg2k-f"
      },
      "execution_count": 151,
      "outputs": []
    },
    {
      "cell_type": "code",
      "source": [
        "# Inner Join\n",
        "result = pd.merge(df1, df2, on='ID')\n",
        "print(result)"
      ],
      "metadata": {
        "colab": {
          "base_uri": "https://localhost:8080/"
        },
        "id": "h2_2KvEM21IG",
        "outputId": "2b99baef-9302-458c-80b7-af31676a2d41"
      },
      "execution_count": 152,
      "outputs": [
        {
          "output_type": "stream",
          "name": "stdout",
          "text": [
            "   ID     Name  Score\n",
            "0   2      Bob     85\n",
            "1   3  Charlie     90\n"
          ]
        }
      ]
    },
    {
      "cell_type": "code",
      "source": [
        "result = pd.merge(df1, df2, on='ID', how='outer') # Outer Join\n",
        "print(result)\n"
      ],
      "metadata": {
        "colab": {
          "base_uri": "https://localhost:8080/"
        },
        "id": "1S8XF9NV20XU",
        "outputId": "2ca68030-0079-4bea-80e7-314b956e401b"
      },
      "execution_count": 153,
      "outputs": [
        {
          "output_type": "stream",
          "name": "stdout",
          "text": [
            "   ID     Name  Score\n",
            "0   1    Alice    NaN\n",
            "1   2      Bob   85.0\n",
            "2   3  Charlie   90.0\n",
            "3   4      NaN   95.0\n"
          ]
        }
      ]
    },
    {
      "cell_type": "code",
      "source": [
        "result = pd.merge(df1, df2, on='ID', how='left')\n",
        "print(result)\n"
      ],
      "metadata": {
        "colab": {
          "base_uri": "https://localhost:8080/"
        },
        "id": "-oIkP_AF26bt",
        "outputId": "e30e079f-fb20-471a-991e-bd31909f09fc"
      },
      "execution_count": 154,
      "outputs": [
        {
          "output_type": "stream",
          "name": "stdout",
          "text": [
            "   ID     Name  Score\n",
            "0   1    Alice    NaN\n",
            "1   2      Bob   85.0\n",
            "2   3  Charlie   90.0\n"
          ]
        }
      ]
    },
    {
      "cell_type": "code",
      "source": [
        "result = pd.merge(df1, df2, on='ID', how='right')\n",
        "print(result)\n"
      ],
      "metadata": {
        "colab": {
          "base_uri": "https://localhost:8080/"
        },
        "id": "6cV_TCxG285S",
        "outputId": "8026bdb8-fdca-468a-bcef-dab4ce27a380"
      },
      "execution_count": 155,
      "outputs": [
        {
          "output_type": "stream",
          "name": "stdout",
          "text": [
            "   ID     Name  Score\n",
            "0   2      Bob     85\n",
            "1   3  Charlie     90\n",
            "2   4      NaN     95\n"
          ]
        }
      ]
    },
    {
      "cell_type": "code",
      "source": [
        "df3 = pd.DataFrame({\n",
        "    'User_ID': [2, 3, 4],\n",
        "    'Score': [85, 90, 95]\n",
        "})\n",
        "\n",
        "result = pd.merge(df1, df3, left_on='ID', right_on='User_ID') # Merge on 'ID' and 'User_ID'\n",
        "print(result)\n"
      ],
      "metadata": {
        "colab": {
          "base_uri": "https://localhost:8080/"
        },
        "id": "ytXkysDb3DVp",
        "outputId": "b08f5182-c91d-4ad6-8f79-c328355e08ac"
      },
      "execution_count": 156,
      "outputs": [
        {
          "output_type": "stream",
          "name": "stdout",
          "text": [
            "   ID     Name  User_ID  Score\n",
            "0   2      Bob        2     85\n",
            "1   3  Charlie        3     90\n"
          ]
        }
      ]
    },
    {
      "cell_type": "code",
      "source": [
        "df4 = pd.DataFrame({\n",
        "    'Score': [85, 90, 95]\n",
        "}, index=[2, 3, 4])\n",
        "\n",
        "result = pd.merge(df1, df4, left_on='ID', right_index=True)\n",
        "print(result)"
      ],
      "metadata": {
        "colab": {
          "base_uri": "https://localhost:8080/"
        },
        "id": "Xrgamual3G36",
        "outputId": "1116f979-d916-4007-e721-3510b0a07b2d"
      },
      "execution_count": 157,
      "outputs": [
        {
          "output_type": "stream",
          "name": "stdout",
          "text": [
            "   ID     Name  Score\n",
            "1   2      Bob     85\n",
            "2   3  Charlie     90\n"
          ]
        }
      ]
    },
    {
      "cell_type": "markdown",
      "source": [
        "# **The .join() Method**"
      ],
      "metadata": {
        "id": "MXOYhyEd3NUc"
      }
    },
    {
      "cell_type": "code",
      "source": [
        "df1 = pd.DataFrame({\n",
        "    'Name': ['Alice', 'Bob', 'Charlie'],\n",
        "    'Age': [25, 30, 35]\n",
        "}, index=[1, 2, 3])\n",
        "\n",
        "df2 = pd.DataFrame({\n",
        "    'Score': [85, 90, 95]\n",
        "}, index=[2, 3, 4])\n",
        "\n"
      ],
      "metadata": {
        "id": "GGZ-tKet3Ukc"
      },
      "execution_count": 158,
      "outputs": []
    },
    {
      "cell_type": "code",
      "source": [
        "result = df1.join(df2)\n",
        "print(result)\n"
      ],
      "metadata": {
        "colab": {
          "base_uri": "https://localhost:8080/"
        },
        "id": "9T11iNAD3h_x",
        "outputId": "26550732-d4eb-46a8-dc75-197b07f60347"
      },
      "execution_count": 159,
      "outputs": [
        {
          "output_type": "stream",
          "name": "stdout",
          "text": [
            "      Name  Age  Score\n",
            "1    Alice   25    NaN\n",
            "2      Bob   30   85.0\n",
            "3  Charlie   35   90.0\n"
          ]
        }
      ]
    },
    {
      "cell_type": "code",
      "source": [
        "result = df1.join(df2, how='inner') # Inner join\n",
        "print(result)\n"
      ],
      "metadata": {
        "colab": {
          "base_uri": "https://localhost:8080/"
        },
        "id": "ZW1Y8_9X3gAq",
        "outputId": "9012b7e3-8038-4364-f88a-d226d66454ef"
      },
      "execution_count": 160,
      "outputs": [
        {
          "output_type": "stream",
          "name": "stdout",
          "text": [
            "      Name  Age  Score\n",
            "2      Bob   30     85\n",
            "3  Charlie   35     90\n"
          ]
        }
      ]
    },
    {
      "cell_type": "markdown",
      "source": [
        "# **Concatenation DataFrames**"
      ],
      "metadata": {
        "id": "ose8tSa33wjq"
      }
    },
    {
      "cell_type": "code",
      "source": [
        "# Sample DataFrames\n",
        "df1 = pd.DataFrame({\n",
        "    'A': [1, 2],\n",
        "    'B': [3, 4]\n",
        "})\n",
        "\n",
        "df2 = pd.DataFrame({\n",
        "    'A': [5, 6],\n",
        "    'B': [7, 8]\n",
        "})\n",
        "\n",
        "\n"
      ],
      "metadata": {
        "id": "D1MRRTqc346A"
      },
      "execution_count": 161,
      "outputs": []
    },
    {
      "cell_type": "code",
      "source": [
        "# Concatenate along rows\n",
        "result = pd.concat([df1, df2])\n",
        "print(result)"
      ],
      "metadata": {
        "colab": {
          "base_uri": "https://localhost:8080/"
        },
        "id": "mVjQgzEv39cT",
        "outputId": "2296a417-3bb5-4fc0-ca83-4b011a9d8d4c"
      },
      "execution_count": 162,
      "outputs": [
        {
          "output_type": "stream",
          "name": "stdout",
          "text": [
            "   A  B\n",
            "0  1  3\n",
            "1  2  4\n",
            "0  5  7\n",
            "1  6  8\n"
          ]
        }
      ]
    },
    {
      "cell_type": "code",
      "source": [
        "# Concatenate along columns\n",
        "result = pd.concat([df1, df2], axis=1)\n",
        "print(result)\n"
      ],
      "metadata": {
        "colab": {
          "base_uri": "https://localhost:8080/"
        },
        "id": "aa9HPsfD4A-9",
        "outputId": "bf5aa635-ad9a-48a1-fd1b-7ffd7a8089b6"
      },
      "execution_count": 163,
      "outputs": [
        {
          "output_type": "stream",
          "name": "stdout",
          "text": [
            "   A  B  A  B\n",
            "0  1  3  5  7\n",
            "1  2  4  6  8\n"
          ]
        }
      ]
    },
    {
      "cell_type": "code",
      "source": [
        "result = pd.concat([df1, df2], ignore_index=True)\n",
        "print(result)\n"
      ],
      "metadata": {
        "colab": {
          "base_uri": "https://localhost:8080/"
        },
        "id": "8qelbey_4D5T",
        "outputId": "74d8f5de-fc4d-4b61-88ef-d1fdc84ed6c3"
      },
      "execution_count": 164,
      "outputs": [
        {
          "output_type": "stream",
          "name": "stdout",
          "text": [
            "   A  B\n",
            "0  1  3\n",
            "1  2  4\n",
            "2  5  7\n",
            "3  6  8\n"
          ]
        }
      ]
    },
    {
      "cell_type": "code",
      "source": [
        "df3 = pd.DataFrame({\n",
        "    'A': [9, 10],\n",
        "    'C': [11, 12]\n",
        "})\n",
        "\n",
        "result = pd.concat([df1, df3])\n",
        "print(result)"
      ],
      "metadata": {
        "colab": {
          "base_uri": "https://localhost:8080/"
        },
        "id": "URQRiDYA4IOn",
        "outputId": "4b6dc4f1-6916-4e33-c931-ab271634761f"
      },
      "execution_count": 165,
      "outputs": [
        {
          "output_type": "stream",
          "name": "stdout",
          "text": [
            "    A    B     C\n",
            "0   1  3.0   NaN\n",
            "1   2  4.0   NaN\n",
            "0   9  NaN  11.0\n",
            "1  10  NaN  12.0\n"
          ]
        }
      ]
    },
    {
      "cell_type": "code",
      "source": [
        "result = pd.concat([df1, df3], join='inner')\n",
        "print(result)\n"
      ],
      "metadata": {
        "colab": {
          "base_uri": "https://localhost:8080/"
        },
        "id": "AC-6FHPV4Por",
        "outputId": "d64f5f86-344f-4c26-b376-384ee40b7e18"
      },
      "execution_count": 166,
      "outputs": [
        {
          "output_type": "stream",
          "name": "stdout",
          "text": [
            "    A\n",
            "0   1\n",
            "1   2\n",
            "0   9\n",
            "1  10\n"
          ]
        }
      ]
    },
    {
      "cell_type": "code",
      "source": [
        "result = pd.concat([df1, df2], keys=['First', 'Second'])\n",
        "print(result)\n"
      ],
      "metadata": {
        "colab": {
          "base_uri": "https://localhost:8080/"
        },
        "id": "xfGamWvr4XRR",
        "outputId": "0d412111-5c28-4e18-951e-e9c151ac9d41"
      },
      "execution_count": 167,
      "outputs": [
        {
          "output_type": "stream",
          "name": "stdout",
          "text": [
            "          A  B\n",
            "First  0  1  3\n",
            "       1  2  4\n",
            "Second 0  5  7\n",
            "       1  6  8\n"
          ]
        }
      ]
    },
    {
      "cell_type": "code",
      "source": [
        "df4 = pd.DataFrame({\n",
        "    'C': [13, 14]\n",
        "}, index=[1, 2])\n",
        "\n",
        "result = pd.concat([df1, df4], axis=1)\n",
        "print(result)"
      ],
      "metadata": {
        "colab": {
          "base_uri": "https://localhost:8080/"
        },
        "id": "AdmQJZXl4aDB",
        "outputId": "ab747880-34fb-4d84-d39d-4ee5ac110ad7"
      },
      "execution_count": 168,
      "outputs": [
        {
          "output_type": "stream",
          "name": "stdout",
          "text": [
            "     A    B     C\n",
            "0  1.0  3.0   NaN\n",
            "1  2.0  4.0  13.0\n",
            "2  NaN  NaN  14.0\n"
          ]
        }
      ]
    },
    {
      "cell_type": "markdown",
      "source": [
        "# **Time Series Analysis**"
      ],
      "metadata": {
        "id": "KTNSbhdt4gI5"
      }
    },
    {
      "cell_type": "markdown",
      "source": [
        "# **Datetime Operations**"
      ],
      "metadata": {
        "id": "z_oTQZOV4iBL"
      }
    },
    {
      "cell_type": "code",
      "source": [
        "# Converting strings to datetime\n",
        "dates = ['2025-01-01', '2025-01-02', '2025-01-03']\n",
        "datetime_series = pd.to_datetime(dates)\n",
        "\n",
        "print(datetime_series)\n"
      ],
      "metadata": {
        "colab": {
          "base_uri": "https://localhost:8080/"
        },
        "id": "cne9wOoZ4lGu",
        "outputId": "f66cb18e-a93f-4e15-d355-92682b330ffe"
      },
      "execution_count": 169,
      "outputs": [
        {
          "output_type": "stream",
          "name": "stdout",
          "text": [
            "DatetimeIndex(['2025-01-01', '2025-01-02', '2025-01-03'], dtype='datetime64[ns]', freq=None)\n"
          ]
        }
      ]
    },
    {
      "cell_type": "code",
      "source": [
        "# Generate a daily date range\n",
        "date_range = pd.date_range(start='2025-01-01', end='2025-01-10', freq='D')\n",
        "print(date_range)"
      ],
      "metadata": {
        "colab": {
          "base_uri": "https://localhost:8080/"
        },
        "id": "kZFum_YA4qEM",
        "outputId": "477b6571-deef-46bc-d2a0-097543666607"
      },
      "execution_count": 170,
      "outputs": [
        {
          "output_type": "stream",
          "name": "stdout",
          "text": [
            "DatetimeIndex(['2025-01-01', '2025-01-02', '2025-01-03', '2025-01-04',\n",
            "               '2025-01-05', '2025-01-06', '2025-01-07', '2025-01-08',\n",
            "               '2025-01-09', '2025-01-10'],\n",
            "              dtype='datetime64[ns]', freq='D')\n"
          ]
        }
      ]
    },
    {
      "cell_type": "code",
      "source": [
        "# Sample datetime series\n",
        "data = pd.Series(pd.date_range('2025-01-01', periods=5, freq='D'))\n",
        "\n",
        "# Extracting components\n",
        "print(\"Year:\", data.dt.year)\n",
        "print(\"Month:\", data.dt.month)\n",
        "print(\"Day:\", data.dt.day)\n",
        "print(\"Weekday:\", data.dt.weekday)"
      ],
      "metadata": {
        "colab": {
          "base_uri": "https://localhost:8080/"
        },
        "id": "aZY3tTcH4wCV",
        "outputId": "14a8a48b-6328-43a8-c816-eebdad9b880a"
      },
      "execution_count": 171,
      "outputs": [
        {
          "output_type": "stream",
          "name": "stdout",
          "text": [
            "Year: 0    2025\n",
            "1    2025\n",
            "2    2025\n",
            "3    2025\n",
            "4    2025\n",
            "dtype: int32\n",
            "Month: 0    1\n",
            "1    1\n",
            "2    1\n",
            "3    1\n",
            "4    1\n",
            "dtype: int32\n",
            "Day: 0    1\n",
            "1    2\n",
            "2    3\n",
            "3    4\n",
            "4    5\n",
            "dtype: int32\n",
            "Weekday: 0    2\n",
            "1    3\n",
            "2    4\n",
            "3    5\n",
            "4    6\n",
            "dtype: int32\n"
          ]
        }
      ]
    },
    {
      "cell_type": "code",
      "source": [
        "# Creating a DataFrame with datetime index\n",
        "df = pd.DataFrame({\n",
        "    'Value': [10, 20, 15, 25, 30]\n",
        "}, index=pd.date_range('2025-01-01', periods=5, freq='D'))\n",
        "\n",
        "print(df)"
      ],
      "metadata": {
        "colab": {
          "base_uri": "https://localhost:8080/"
        },
        "id": "uiWQpU7C40I-",
        "outputId": "a4d0c29c-1cdd-48b3-b2af-3cb6bc851476"
      },
      "execution_count": 172,
      "outputs": [
        {
          "output_type": "stream",
          "name": "stdout",
          "text": [
            "            Value\n",
            "2025-01-01     10\n",
            "2025-01-02     20\n",
            "2025-01-03     15\n",
            "2025-01-04     25\n",
            "2025-01-05     30\n"
          ]
        }
      ]
    },
    {
      "cell_type": "code",
      "source": [
        "# Resample to calculate weekly sum\n",
        "weekly = df.resample('W').sum()\n",
        "print(weekly)\n"
      ],
      "metadata": {
        "colab": {
          "base_uri": "https://localhost:8080/"
        },
        "id": "xCKzZ5x544IW",
        "outputId": "9a53918c-43aa-435f-baa8-7f2af53a8719"
      },
      "execution_count": 173,
      "outputs": [
        {
          "output_type": "stream",
          "name": "stdout",
          "text": [
            "            Value\n",
            "2025-01-05    100\n"
          ]
        }
      ]
    },
    {
      "cell_type": "code",
      "source": [
        "df2 = pd.DataFrame({\n",
        "    'Value': [50, 60]\n",
        "}, index=pd.date_range('2025-01-03', periods=2, freq='D'))\n",
        "print(df)\n",
        "# Combine data\n",
        "combined = df.add(df2, fill_value=0)\n",
        "print(combined)\n"
      ],
      "metadata": {
        "id": "krLZff2l6eF9",
        "colab": {
          "base_uri": "https://localhost:8080/"
        },
        "outputId": "ac469a55-a429-49ea-f2cd-51255a96403b"
      },
      "execution_count": 174,
      "outputs": [
        {
          "output_type": "stream",
          "name": "stdout",
          "text": [
            "            Value\n",
            "2025-01-01     10\n",
            "2025-01-02     20\n",
            "2025-01-03     15\n",
            "2025-01-04     25\n",
            "2025-01-05     30\n",
            "            Value\n",
            "2025-01-01   10.0\n",
            "2025-01-02   20.0\n",
            "2025-01-03   65.0\n",
            "2025-01-04   85.0\n",
            "2025-01-05   30.0\n"
          ]
        }
      ]
    },
    {
      "cell_type": "code",
      "source": [
        "# Shifting values\n",
        "print(df)\n",
        "df['Shifted'] = df['Value'].shift(1)\n",
        "print(df)\n"
      ],
      "metadata": {
        "colab": {
          "base_uri": "https://localhost:8080/"
        },
        "id": "9SKqBNHs478y",
        "outputId": "f653ca71-bf2a-4844-b7a7-a526d6e36a16"
      },
      "execution_count": 175,
      "outputs": [
        {
          "output_type": "stream",
          "name": "stdout",
          "text": [
            "            Value\n",
            "2025-01-01     10\n",
            "2025-01-02     20\n",
            "2025-01-03     15\n",
            "2025-01-04     25\n",
            "2025-01-05     30\n",
            "            Value  Shifted\n",
            "2025-01-01     10      NaN\n",
            "2025-01-02     20     10.0\n",
            "2025-01-03     15     20.0\n",
            "2025-01-04     25     15.0\n",
            "2025-01-05     30     25.0\n"
          ]
        }
      ]
    },
    {
      "cell_type": "code",
      "source": [
        "# Calculate a rolling mean with a window of 2\n",
        "print(df)\n",
        "df['Rolling_Mean'] = df['Value'].rolling(window=2).mean()\n",
        "print(df)\n"
      ],
      "metadata": {
        "colab": {
          "base_uri": "https://localhost:8080/"
        },
        "id": "UzwaqgeT4_31",
        "outputId": "af4b784f-f80b-450c-ce30-61f72ca43737"
      },
      "execution_count": 176,
      "outputs": [
        {
          "output_type": "stream",
          "name": "stdout",
          "text": [
            "            Value  Shifted\n",
            "2025-01-01     10      NaN\n",
            "2025-01-02     20     10.0\n",
            "2025-01-03     15     20.0\n",
            "2025-01-04     25     15.0\n",
            "2025-01-05     30     25.0\n",
            "            Value  Shifted  Rolling_Mean\n",
            "2025-01-01     10      NaN           NaN\n",
            "2025-01-02     20     10.0          15.0\n",
            "2025-01-03     15     20.0          17.5\n",
            "2025-01-04     25     15.0          20.0\n",
            "2025-01-05     30     25.0          27.5\n"
          ]
        }
      ]
    },
    {
      "cell_type": "code",
      "source": [
        "# Reindexing with a full date range\n",
        "print(df)\n",
        "full_range = pd.date_range('2025-01-01', '2025-01-10', freq='D')\n",
        "df = df.reindex(full_range)\n",
        "df['Value'] = df['Value'].fillna(0)  # Fill missing values\n",
        "print(df)\n"
      ],
      "metadata": {
        "colab": {
          "base_uri": "https://localhost:8080/"
        },
        "id": "e4u9yx3w5Xso",
        "outputId": "15f87741-9a18-490d-c1e9-f273d74083aa"
      },
      "execution_count": 177,
      "outputs": [
        {
          "output_type": "stream",
          "name": "stdout",
          "text": [
            "            Value  Shifted  Rolling_Mean\n",
            "2025-01-01     10      NaN           NaN\n",
            "2025-01-02     20     10.0          15.0\n",
            "2025-01-03     15     20.0          17.5\n",
            "2025-01-04     25     15.0          20.0\n",
            "2025-01-05     30     25.0          27.5\n",
            "            Value  Shifted  Rolling_Mean\n",
            "2025-01-01   10.0      NaN           NaN\n",
            "2025-01-02   20.0     10.0          15.0\n",
            "2025-01-03   15.0     20.0          17.5\n",
            "2025-01-04   25.0     15.0          20.0\n",
            "2025-01-05   30.0     25.0          27.5\n",
            "2025-01-06    0.0      NaN           NaN\n",
            "2025-01-07    0.0      NaN           NaN\n",
            "2025-01-08    0.0      NaN           NaN\n",
            "2025-01-09    0.0      NaN           NaN\n",
            "2025-01-10    0.0      NaN           NaN\n"
          ]
        }
      ]
    },
    {
      "cell_type": "code",
      "source": [
        "# Localizing timezone\n",
        "print(df)\n",
        "df.index = df.index.tz_localize('UTC')\n",
        "print(df)\n",
        "# Converting timezone\n",
        "df.index = df.index.tz_convert('US/Eastern')\n",
        "print(df)"
      ],
      "metadata": {
        "colab": {
          "base_uri": "https://localhost:8080/"
        },
        "id": "lfsHIbzq5mP3",
        "outputId": "5f6d8b59-4942-49f6-f986-0320d4ae05f2"
      },
      "execution_count": 178,
      "outputs": [
        {
          "output_type": "stream",
          "name": "stdout",
          "text": [
            "            Value  Shifted  Rolling_Mean\n",
            "2025-01-01   10.0      NaN           NaN\n",
            "2025-01-02   20.0     10.0          15.0\n",
            "2025-01-03   15.0     20.0          17.5\n",
            "2025-01-04   25.0     15.0          20.0\n",
            "2025-01-05   30.0     25.0          27.5\n",
            "2025-01-06    0.0      NaN           NaN\n",
            "2025-01-07    0.0      NaN           NaN\n",
            "2025-01-08    0.0      NaN           NaN\n",
            "2025-01-09    0.0      NaN           NaN\n",
            "2025-01-10    0.0      NaN           NaN\n",
            "                           Value  Shifted  Rolling_Mean\n",
            "2025-01-01 00:00:00+00:00   10.0      NaN           NaN\n",
            "2025-01-02 00:00:00+00:00   20.0     10.0          15.0\n",
            "2025-01-03 00:00:00+00:00   15.0     20.0          17.5\n",
            "2025-01-04 00:00:00+00:00   25.0     15.0          20.0\n",
            "2025-01-05 00:00:00+00:00   30.0     25.0          27.5\n",
            "2025-01-06 00:00:00+00:00    0.0      NaN           NaN\n",
            "2025-01-07 00:00:00+00:00    0.0      NaN           NaN\n",
            "2025-01-08 00:00:00+00:00    0.0      NaN           NaN\n",
            "2025-01-09 00:00:00+00:00    0.0      NaN           NaN\n",
            "2025-01-10 00:00:00+00:00    0.0      NaN           NaN\n",
            "                           Value  Shifted  Rolling_Mean\n",
            "2024-12-31 19:00:00-05:00   10.0      NaN           NaN\n",
            "2025-01-01 19:00:00-05:00   20.0     10.0          15.0\n",
            "2025-01-02 19:00:00-05:00   15.0     20.0          17.5\n",
            "2025-01-03 19:00:00-05:00   25.0     15.0          20.0\n",
            "2025-01-04 19:00:00-05:00   30.0     25.0          27.5\n",
            "2025-01-05 19:00:00-05:00    0.0      NaN           NaN\n",
            "2025-01-06 19:00:00-05:00    0.0      NaN           NaN\n",
            "2025-01-07 19:00:00-05:00    0.0      NaN           NaN\n",
            "2025-01-08 19:00:00-05:00    0.0      NaN           NaN\n",
            "2025-01-09 19:00:00-05:00    0.0      NaN           NaN\n"
          ]
        }
      ]
    },
    {
      "cell_type": "markdown",
      "source": [
        "# **Resampling and Shifting**"
      ],
      "metadata": {
        "id": "SyhIT2Ky6psT"
      }
    },
    {
      "cell_type": "code",
      "source": [
        "# Sample time-series data\n",
        "data = pd.DataFrame({\n",
        "    'Value': [10, 20, 30, 40, 50, 60]\n",
        "}, index=pd.date_range('2025-01-01', periods=6, freq='D'))\n",
        "\n",
        "# Downsample to weekly frequency and calculate the sum\n",
        "weekly = data.resample('W').sum()\n",
        "print(weekly)\n"
      ],
      "metadata": {
        "colab": {
          "base_uri": "https://localhost:8080/"
        },
        "id": "p_PsU0UK6rU8",
        "outputId": "83f64152-b2ef-49e5-896b-5666ee4e8d3f"
      },
      "execution_count": 179,
      "outputs": [
        {
          "output_type": "stream",
          "name": "stdout",
          "text": [
            "            Value\n",
            "2025-01-05    150\n",
            "2025-01-12     60\n"
          ]
        }
      ]
    },
    {
      "cell_type": "code",
      "source": [
        "# Upsample to daily frequency (filling with NaN)\n",
        "print(weekly)\n",
        "upsampled = weekly.resample('D').asfreq()\n",
        "print(upsampled)\n"
      ],
      "metadata": {
        "colab": {
          "base_uri": "https://localhost:8080/"
        },
        "id": "TgKtfRX27Bl0",
        "outputId": "1d3855bd-5cbb-4c01-acd0-5af37531135f"
      },
      "execution_count": 180,
      "outputs": [
        {
          "output_type": "stream",
          "name": "stdout",
          "text": [
            "            Value\n",
            "2025-01-05    150\n",
            "2025-01-12     60\n",
            "            Value\n",
            "2025-01-05  150.0\n",
            "2025-01-06    NaN\n",
            "2025-01-07    NaN\n",
            "2025-01-08    NaN\n",
            "2025-01-09    NaN\n",
            "2025-01-10    NaN\n",
            "2025-01-11    NaN\n",
            "2025-01-12   60.0\n"
          ]
        }
      ]
    },
    {
      "cell_type": "code",
      "source": [
        "# Calculate the mean for weekly frequency\n",
        "weekly_mean = data.resample('W').mean()\n",
        "print(weekly_mean)\n"
      ],
      "metadata": {
        "colab": {
          "base_uri": "https://localhost:8080/"
        },
        "id": "Ak7yYoQ57XJk",
        "outputId": "22939ed8-0a6d-4ab7-f1c4-1fa7142aa124"
      },
      "execution_count": 181,
      "outputs": [
        {
          "output_type": "stream",
          "name": "stdout",
          "text": [
            "            Value\n",
            "2025-01-05   30.0\n",
            "2025-01-12   60.0\n"
          ]
        }
      ]
    },
    {
      "cell_type": "code",
      "source": [
        "# Apply custom aggregation (e.g., sum of squares)\n",
        "custom = data.resample('W').apply(lambda x: (x**2).sum())\n",
        "print(custom)\n"
      ],
      "metadata": {
        "colab": {
          "base_uri": "https://localhost:8080/"
        },
        "id": "lXlpiXuW7a6I",
        "outputId": "1dce8b04-3a16-4b18-f820-c2c93ccff338"
      },
      "execution_count": 182,
      "outputs": [
        {
          "output_type": "stream",
          "name": "stdout",
          "text": [
            "            Value\n",
            "2025-01-05   5500\n",
            "2025-01-12   3600\n"
          ]
        }
      ]
    },
    {
      "cell_type": "code",
      "source": [
        "# Shift data forward by 1 period\n",
        "print(data)\n",
        "shifted_forward = data.shift(1)\n",
        "print(shifted_forward)\n"
      ],
      "metadata": {
        "colab": {
          "base_uri": "https://localhost:8080/"
        },
        "id": "8J1LGya87dj-",
        "outputId": "7c269f7e-707c-43db-e7fe-cbbfd35b8335"
      },
      "execution_count": 183,
      "outputs": [
        {
          "output_type": "stream",
          "name": "stdout",
          "text": [
            "            Value\n",
            "2025-01-01     10\n",
            "2025-01-02     20\n",
            "2025-01-03     30\n",
            "2025-01-04     40\n",
            "2025-01-05     50\n",
            "2025-01-06     60\n",
            "            Value\n",
            "2025-01-01    NaN\n",
            "2025-01-02   10.0\n",
            "2025-01-03   20.0\n",
            "2025-01-04   30.0\n",
            "2025-01-05   40.0\n",
            "2025-01-06   50.0\n"
          ]
        }
      ]
    },
    {
      "cell_type": "code",
      "source": [
        "# Shift index by 2 days\n",
        "#shifted_by_days = data.tshift(2, freq='D')\n",
        "#print(shifted_by_days)"
      ],
      "metadata": {
        "id": "02pL6CjaDaZP"
      },
      "execution_count": 184,
      "outputs": []
    },
    {
      "cell_type": "code",
      "source": [
        "# Add lagged and leading columns\n",
        "data['Lagged'] = data['Value'].shift(1)\n",
        "data['Leading'] = data['Value'].shift(-1)\n",
        "print(data)\n"
      ],
      "metadata": {
        "colab": {
          "base_uri": "https://localhost:8080/"
        },
        "id": "u9yRikuGDrhn",
        "outputId": "75f466cf-a123-4ae9-f95e-529e2ebe92a1"
      },
      "execution_count": 185,
      "outputs": [
        {
          "output_type": "stream",
          "name": "stdout",
          "text": [
            "            Value  Lagged  Leading\n",
            "2025-01-01     10     NaN     20.0\n",
            "2025-01-02     20    10.0     30.0\n",
            "2025-01-03     30    20.0     40.0\n",
            "2025-01-04     40    30.0     50.0\n",
            "2025-01-05     50    40.0     60.0\n",
            "2025-01-06     60    50.0      NaN\n"
          ]
        }
      ]
    },
    {
      "cell_type": "code",
      "source": [
        "# Resample to monthly frequency and shift by one month\n",
        "monthly_shifted = data.resample('ME').sum().shift(1)\n",
        "print(monthly_shifted)\n"
      ],
      "metadata": {
        "colab": {
          "base_uri": "https://localhost:8080/"
        },
        "id": "_V0_yHT_DukM",
        "outputId": "6644e176-d918-48e4-ef4a-b7a394ffd7b4"
      },
      "execution_count": 186,
      "outputs": [
        {
          "output_type": "stream",
          "name": "stdout",
          "text": [
            "            Value  Lagged  Leading\n",
            "2025-01-31    NaN     NaN      NaN\n"
          ]
        }
      ]
    },
    {
      "cell_type": "markdown",
      "source": [
        "# **Date Range Generation**"
      ],
      "metadata": {
        "id": "lVx_FyNzD_Yj"
      }
    },
    {
      "cell_type": "code",
      "source": [
        "# Generate a daily date range\n",
        "dates = pd.date_range(start='2025-01-01', end='2025-01-10', freq='D')\n",
        "print(dates)\n"
      ],
      "metadata": {
        "colab": {
          "base_uri": "https://localhost:8080/"
        },
        "id": "k1K8GTV7EBDy",
        "outputId": "a4647008-bcad-485f-c33f-e560af5bcb7c"
      },
      "execution_count": 187,
      "outputs": [
        {
          "output_type": "stream",
          "name": "stdout",
          "text": [
            "DatetimeIndex(['2025-01-01', '2025-01-02', '2025-01-03', '2025-01-04',\n",
            "               '2025-01-05', '2025-01-06', '2025-01-07', '2025-01-08',\n",
            "               '2025-01-09', '2025-01-10'],\n",
            "              dtype='datetime64[ns]', freq='D')\n"
          ]
        }
      ]
    },
    {
      "cell_type": "code",
      "source": [
        "# Generate a date range with a fixed number of periods\n",
        "dates = pd.date_range(start='2025-01-01', periods=5, freq='D')\n",
        "print(dates)\n"
      ],
      "metadata": {
        "colab": {
          "base_uri": "https://localhost:8080/"
        },
        "id": "AC_eOTOdEFml",
        "outputId": "3be40f02-b625-41d0-e17c-d7289464e3d7"
      },
      "execution_count": 188,
      "outputs": [
        {
          "output_type": "stream",
          "name": "stdout",
          "text": [
            "DatetimeIndex(['2025-01-01', '2025-01-02', '2025-01-03', '2025-01-04',\n",
            "               '2025-01-05'],\n",
            "              dtype='datetime64[ns]', freq='D')\n"
          ]
        }
      ]
    },
    {
      "cell_type": "code",
      "source": [
        "# Generate a date range ending on a specific date\n",
        "dates = pd.date_range(end='2025-01-10', periods=5, freq='D')\n",
        "print(dates)\n"
      ],
      "metadata": {
        "colab": {
          "base_uri": "https://localhost:8080/"
        },
        "id": "x9BVOK6ZEIK-",
        "outputId": "9a178feb-c1da-4eff-9f53-efca3ec7f088"
      },
      "execution_count": 189,
      "outputs": [
        {
          "output_type": "stream",
          "name": "stdout",
          "text": [
            "DatetimeIndex(['2025-01-06', '2025-01-07', '2025-01-08', '2025-01-09',\n",
            "               '2025-01-10'],\n",
            "              dtype='datetime64[ns]', freq='D')\n"
          ]
        }
      ]
    },
    {
      "cell_type": "code",
      "source": [
        "# Generate a range with timezone\n",
        "dates = pd.date_range(start='2025-01-01', periods=3, freq='D', tz='UTC')\n",
        "print(dates)\n"
      ],
      "metadata": {
        "colab": {
          "base_uri": "https://localhost:8080/"
        },
        "id": "_kih0BVgEM5h",
        "outputId": "d9e0a167-654d-458e-af4f-bf64a1a6f9aa"
      },
      "execution_count": 190,
      "outputs": [
        {
          "output_type": "stream",
          "name": "stdout",
          "text": [
            "DatetimeIndex(['2025-01-01 00:00:00+00:00', '2025-01-02 00:00:00+00:00',\n",
            "               '2025-01-03 00:00:00+00:00'],\n",
            "              dtype='datetime64[ns, UTC]', freq='D')\n"
          ]
        }
      ]
    },
    {
      "cell_type": "code",
      "source": [
        "# Create a DataFrame with a date range as the index\n",
        "data = pd.DataFrame({'Value': [10, 20, 30]}, index=pd.date_range('2025-01-01', periods=3, freq='D'))\n",
        "print(data)"
      ],
      "metadata": {
        "colab": {
          "base_uri": "https://localhost:8080/"
        },
        "id": "2LTlHgdbEQA5",
        "outputId": "6d969c67-bb8c-4038-fefe-1471d8f3369f"
      },
      "execution_count": 191,
      "outputs": [
        {
          "output_type": "stream",
          "name": "stdout",
          "text": [
            "            Value\n",
            "2025-01-01     10\n",
            "2025-01-02     20\n",
            "2025-01-03     30\n"
          ]
        }
      ]
    },
    {
      "cell_type": "markdown",
      "source": [
        "# ***Data Manipulation***"
      ],
      "metadata": {
        "id": "_e-opVnXEg0u"
      }
    },
    {
      "cell_type": "markdown",
      "source": [
        "# **String Manipulation**"
      ],
      "metadata": {
        "id": "ddY6-gPrEjhE"
      }
    },
    {
      "cell_type": "code",
      "source": [
        "# Sample data\n",
        "data = pd.DataFrame({\n",
        "    'Name': ['Alice', 'Bob', 'Charlie'],\n",
        "    'City': ['New York', 'Los Angeles', 'San Francisco']\n",
        "})\n",
        "\n",
        "# Access string methods\n",
        "print(data['Name'].str.upper())"
      ],
      "metadata": {
        "colab": {
          "base_uri": "https://localhost:8080/"
        },
        "id": "ULoV45CJEmtj",
        "outputId": "f2860e17-62c0-468d-ea10-2d05088c0d1f"
      },
      "execution_count": 192,
      "outputs": [
        {
          "output_type": "stream",
          "name": "stdout",
          "text": [
            "0      ALICE\n",
            "1        BOB\n",
            "2    CHARLIE\n",
            "Name: Name, dtype: object\n"
          ]
        }
      ]
    },
    {
      "cell_type": "code",
      "source": [
        "# Convert to lowercase\n",
        "data['Name_Lower'] = data['Name'].str.lower()\n",
        "print(data)\n",
        "\n",
        "# Convert to uppercase\n",
        "data['Name_Upper'] = data['Name'].str.upper()\n",
        "print(data)\n",
        "\n",
        "# Capitalize first letter\n",
        "data['Name_Cap'] = data['Name'].str.capitalize()\n",
        "print(data)\n"
      ],
      "metadata": {
        "colab": {
          "base_uri": "https://localhost:8080/"
        },
        "id": "vjnGKv-yEtlN",
        "outputId": "88d07ead-877f-4089-deca-78d4da63ab17"
      },
      "execution_count": 193,
      "outputs": [
        {
          "output_type": "stream",
          "name": "stdout",
          "text": [
            "      Name           City Name_Lower\n",
            "0    Alice       New York      alice\n",
            "1      Bob    Los Angeles        bob\n",
            "2  Charlie  San Francisco    charlie\n",
            "      Name           City Name_Lower Name_Upper\n",
            "0    Alice       New York      alice      ALICE\n",
            "1      Bob    Los Angeles        bob        BOB\n",
            "2  Charlie  San Francisco    charlie    CHARLIE\n",
            "      Name           City Name_Lower Name_Upper Name_Cap\n",
            "0    Alice       New York      alice      ALICE    Alice\n",
            "1      Bob    Los Angeles        bob        BOB      Bob\n",
            "2  Charlie  San Francisco    charlie    CHARLIE  Charlie\n"
          ]
        }
      ]
    },
    {
      "cell_type": "code",
      "source": [
        "# Remove leading and trailing whitespaces\n",
        "data['City_Trimmed'] = data['City'].str.strip()\n",
        "print(data)\n",
        "\n",
        "# Add padding\n",
        "data['City_Padded'] = data['City'].str.pad(20, side='left', fillchar='-')\n",
        "print(data)\n"
      ],
      "metadata": {
        "colab": {
          "base_uri": "https://localhost:8080/"
        },
        "id": "5rBW1B_WE4Lw",
        "outputId": "9834ecb9-859e-45b9-dcc0-d35817d59923"
      },
      "execution_count": 194,
      "outputs": [
        {
          "output_type": "stream",
          "name": "stdout",
          "text": [
            "      Name           City Name_Lower Name_Upper Name_Cap   City_Trimmed\n",
            "0    Alice       New York      alice      ALICE    Alice       New York\n",
            "1      Bob    Los Angeles        bob        BOB      Bob    Los Angeles\n",
            "2  Charlie  San Francisco    charlie    CHARLIE  Charlie  San Francisco\n",
            "      Name           City Name_Lower Name_Upper Name_Cap   City_Trimmed  \\\n",
            "0    Alice       New York      alice      ALICE    Alice       New York   \n",
            "1      Bob    Los Angeles        bob        BOB      Bob    Los Angeles   \n",
            "2  Charlie  San Francisco    charlie    CHARLIE  Charlie  San Francisco   \n",
            "\n",
            "            City_Padded  \n",
            "0  ------------New York  \n",
            "1  ---------Los Angeles  \n",
            "2  -------San Francisco  \n"
          ]
        }
      ]
    },
    {
      "cell_type": "code",
      "source": [
        "# Extract first 3 characters\n",
        "data['Name_Substr'] = data['Name'].str[:3]\n",
        "print(data)\n",
        "# Extract using a specific range\n",
        "data['City_Part'] = data['City'].str[4:8]\n",
        "print(data)\n"
      ],
      "metadata": {
        "colab": {
          "base_uri": "https://localhost:8080/"
        },
        "id": "wCwqawmzE9qI",
        "outputId": "0e277360-4156-402f-d2aa-8fbf842f4d16"
      },
      "execution_count": 195,
      "outputs": [
        {
          "output_type": "stream",
          "name": "stdout",
          "text": [
            "      Name           City Name_Lower Name_Upper Name_Cap   City_Trimmed  \\\n",
            "0    Alice       New York      alice      ALICE    Alice       New York   \n",
            "1      Bob    Los Angeles        bob        BOB      Bob    Los Angeles   \n",
            "2  Charlie  San Francisco    charlie    CHARLIE  Charlie  San Francisco   \n",
            "\n",
            "            City_Padded Name_Substr  \n",
            "0  ------------New York         Ali  \n",
            "1  ---------Los Angeles         Bob  \n",
            "2  -------San Francisco         Cha  \n",
            "      Name           City Name_Lower Name_Upper Name_Cap   City_Trimmed  \\\n",
            "0    Alice       New York      alice      ALICE    Alice       New York   \n",
            "1      Bob    Los Angeles        bob        BOB      Bob    Los Angeles   \n",
            "2  Charlie  San Francisco    charlie    CHARLIE  Charlie  San Francisco   \n",
            "\n",
            "            City_Padded Name_Substr City_Part  \n",
            "0  ------------New York         Ali      York  \n",
            "1  ---------Los Angeles         Bob      Ange  \n",
            "2  -------San Francisco         Cha      Fran  \n"
          ]
        }
      ]
    },
    {
      "cell_type": "code",
      "source": [
        "# Replace substrings\n",
        "data['City_Replaced'] = data['City'].str.replace(' ', '_', regex=False)\n",
        "print(data)"
      ],
      "metadata": {
        "colab": {
          "base_uri": "https://localhost:8080/"
        },
        "id": "WO1uFUzlFHzj",
        "outputId": "fb9a36f0-b5ff-4e11-a2e2-c5db1492599a"
      },
      "execution_count": 196,
      "outputs": [
        {
          "output_type": "stream",
          "name": "stdout",
          "text": [
            "      Name           City Name_Lower Name_Upper Name_Cap   City_Trimmed  \\\n",
            "0    Alice       New York      alice      ALICE    Alice       New York   \n",
            "1      Bob    Los Angeles        bob        BOB      Bob    Los Angeles   \n",
            "2  Charlie  San Francisco    charlie    CHARLIE  Charlie  San Francisco   \n",
            "\n",
            "            City_Padded Name_Substr City_Part  City_Replaced  \n",
            "0  ------------New York         Ali      York       New_York  \n",
            "1  ---------Los Angeles         Bob      Ange    Los_Angeles  \n",
            "2  -------San Francisco         Cha      Fran  San_Francisco  \n"
          ]
        }
      ]
    },
    {
      "cell_type": "code",
      "source": [
        "# Split strings into lists\n",
        "data['City_Split'] = data['City'].str.split(' ')\n",
        "print(data)\n",
        "\n",
        "# Join strings\n",
        "data['City_Joined'] = data['City_Split'].str.join('-')\n",
        "print(data)\n"
      ],
      "metadata": {
        "colab": {
          "base_uri": "https://localhost:8080/"
        },
        "id": "_6njoNjGFMVC",
        "outputId": "6f5f4ecb-9969-4521-eafb-f63e89a1e4d1"
      },
      "execution_count": 197,
      "outputs": [
        {
          "output_type": "stream",
          "name": "stdout",
          "text": [
            "      Name           City Name_Lower Name_Upper Name_Cap   City_Trimmed  \\\n",
            "0    Alice       New York      alice      ALICE    Alice       New York   \n",
            "1      Bob    Los Angeles        bob        BOB      Bob    Los Angeles   \n",
            "2  Charlie  San Francisco    charlie    CHARLIE  Charlie  San Francisco   \n",
            "\n",
            "            City_Padded Name_Substr City_Part  City_Replaced        City_Split  \n",
            "0  ------------New York         Ali      York       New_York       [New, York]  \n",
            "1  ---------Los Angeles         Bob      Ange    Los_Angeles    [Los, Angeles]  \n",
            "2  -------San Francisco         Cha      Fran  San_Francisco  [San, Francisco]  \n",
            "      Name           City Name_Lower Name_Upper Name_Cap   City_Trimmed  \\\n",
            "0    Alice       New York      alice      ALICE    Alice       New York   \n",
            "1      Bob    Los Angeles        bob        BOB      Bob    Los Angeles   \n",
            "2  Charlie  San Francisco    charlie    CHARLIE  Charlie  San Francisco   \n",
            "\n",
            "            City_Padded Name_Substr City_Part  City_Replaced  \\\n",
            "0  ------------New York         Ali      York       New_York   \n",
            "1  ---------Los Angeles         Bob      Ange    Los_Angeles   \n",
            "2  -------San Francisco         Cha      Fran  San_Francisco   \n",
            "\n",
            "         City_Split    City_Joined  \n",
            "0       [New, York]       New-York  \n",
            "1    [Los, Angeles]    Los-Angeles  \n",
            "2  [San, Francisco]  San-Francisco  \n"
          ]
        }
      ]
    },
    {
      "cell_type": "code",
      "source": [
        "# Check if strings start with a specific character\n",
        "data['Starts_With_S'] = data['Name'].str.startswith('S')\n",
        "print(data)\n",
        "# Check if strings contain digits\n",
        "data['Has_Digits'] = data['City'].str.isdigit()\n",
        "print(data)"
      ],
      "metadata": {
        "colab": {
          "base_uri": "https://localhost:8080/"
        },
        "id": "jby_YF0VFZaw",
        "outputId": "9065e38b-cdc5-44e2-deea-8f9dbb72f755"
      },
      "execution_count": 198,
      "outputs": [
        {
          "output_type": "stream",
          "name": "stdout",
          "text": [
            "      Name           City Name_Lower Name_Upper Name_Cap   City_Trimmed  \\\n",
            "0    Alice       New York      alice      ALICE    Alice       New York   \n",
            "1      Bob    Los Angeles        bob        BOB      Bob    Los Angeles   \n",
            "2  Charlie  San Francisco    charlie    CHARLIE  Charlie  San Francisco   \n",
            "\n",
            "            City_Padded Name_Substr City_Part  City_Replaced  \\\n",
            "0  ------------New York         Ali      York       New_York   \n",
            "1  ---------Los Angeles         Bob      Ange    Los_Angeles   \n",
            "2  -------San Francisco         Cha      Fran  San_Francisco   \n",
            "\n",
            "         City_Split    City_Joined  Starts_With_S  \n",
            "0       [New, York]       New-York          False  \n",
            "1    [Los, Angeles]    Los-Angeles          False  \n",
            "2  [San, Francisco]  San-Francisco          False  \n",
            "      Name           City Name_Lower Name_Upper Name_Cap   City_Trimmed  \\\n",
            "0    Alice       New York      alice      ALICE    Alice       New York   \n",
            "1      Bob    Los Angeles        bob        BOB      Bob    Los Angeles   \n",
            "2  Charlie  San Francisco    charlie    CHARLIE  Charlie  San Francisco   \n",
            "\n",
            "            City_Padded Name_Substr City_Part  City_Replaced  \\\n",
            "0  ------------New York         Ali      York       New_York   \n",
            "1  ---------Los Angeles         Bob      Ange    Los_Angeles   \n",
            "2  -------San Francisco         Cha      Fran  San_Francisco   \n",
            "\n",
            "         City_Split    City_Joined  Starts_With_S  Has_Digits  \n",
            "0       [New, York]       New-York          False       False  \n",
            "1    [Los, Angeles]    Los-Angeles          False       False  \n",
            "2  [San, Francisco]  San-Francisco          False       False  \n"
          ]
        }
      ]
    },
    {
      "cell_type": "code",
      "source": [
        "# Extract numbers from strings\n",
        "data['Extract_Number'] = data['City'].str.extract('(\\d+)')\n",
        "print(data)\n",
        "\n",
        "# Find all matches (returns lists of matches)\n",
        "data['Find_All'] = data['City'].str.findall('[A-Za-z]+')\n",
        "print(data)"
      ],
      "metadata": {
        "colab": {
          "base_uri": "https://localhost:8080/"
        },
        "id": "FGV55RKZFkkb",
        "outputId": "8090474f-0ccb-4e45-ac8a-acff6a1aa786"
      },
      "execution_count": 199,
      "outputs": [
        {
          "output_type": "stream",
          "name": "stdout",
          "text": [
            "      Name           City Name_Lower Name_Upper Name_Cap   City_Trimmed  \\\n",
            "0    Alice       New York      alice      ALICE    Alice       New York   \n",
            "1      Bob    Los Angeles        bob        BOB      Bob    Los Angeles   \n",
            "2  Charlie  San Francisco    charlie    CHARLIE  Charlie  San Francisco   \n",
            "\n",
            "            City_Padded Name_Substr City_Part  City_Replaced  \\\n",
            "0  ------------New York         Ali      York       New_York   \n",
            "1  ---------Los Angeles         Bob      Ange    Los_Angeles   \n",
            "2  -------San Francisco         Cha      Fran  San_Francisco   \n",
            "\n",
            "         City_Split    City_Joined  Starts_With_S  Has_Digits Extract_Number  \n",
            "0       [New, York]       New-York          False       False            NaN  \n",
            "1    [Los, Angeles]    Los-Angeles          False       False            NaN  \n",
            "2  [San, Francisco]  San-Francisco          False       False            NaN  \n",
            "      Name           City Name_Lower Name_Upper Name_Cap   City_Trimmed  \\\n",
            "0    Alice       New York      alice      ALICE    Alice       New York   \n",
            "1      Bob    Los Angeles        bob        BOB      Bob    Los Angeles   \n",
            "2  Charlie  San Francisco    charlie    CHARLIE  Charlie  San Francisco   \n",
            "\n",
            "            City_Padded Name_Substr City_Part  City_Replaced  \\\n",
            "0  ------------New York         Ali      York       New_York   \n",
            "1  ---------Los Angeles         Bob      Ange    Los_Angeles   \n",
            "2  -------San Francisco         Cha      Fran  San_Francisco   \n",
            "\n",
            "         City_Split    City_Joined  Starts_With_S  Has_Digits Extract_Number  \\\n",
            "0       [New, York]       New-York          False       False            NaN   \n",
            "1    [Los, Angeles]    Los-Angeles          False       False            NaN   \n",
            "2  [San, Francisco]  San-Francisco          False       False            NaN   \n",
            "\n",
            "           Find_All  \n",
            "0       [New, York]  \n",
            "1    [Los, Angeles]  \n",
            "2  [San, Francisco]  \n"
          ]
        }
      ]
    },
    {
      "cell_type": "code",
      "source": [
        "# Custom function\n",
        "data['Custom'] = data['Name'].apply(lambda x: x[::-1])  # Reverse string\n",
        "print(data)"
      ],
      "metadata": {
        "colab": {
          "base_uri": "https://localhost:8080/"
        },
        "id": "z7GOA2uXFtuu",
        "outputId": "89fbec19-9c06-471c-d562-d634d4303b04"
      },
      "execution_count": 200,
      "outputs": [
        {
          "output_type": "stream",
          "name": "stdout",
          "text": [
            "      Name           City Name_Lower Name_Upper Name_Cap   City_Trimmed  \\\n",
            "0    Alice       New York      alice      ALICE    Alice       New York   \n",
            "1      Bob    Los Angeles        bob        BOB      Bob    Los Angeles   \n",
            "2  Charlie  San Francisco    charlie    CHARLIE  Charlie  San Francisco   \n",
            "\n",
            "            City_Padded Name_Substr City_Part  City_Replaced  \\\n",
            "0  ------------New York         Ali      York       New_York   \n",
            "1  ---------Los Angeles         Bob      Ange    Los_Angeles   \n",
            "2  -------San Francisco         Cha      Fran  San_Francisco   \n",
            "\n",
            "         City_Split    City_Joined  Starts_With_S  Has_Digits Extract_Number  \\\n",
            "0       [New, York]       New-York          False       False            NaN   \n",
            "1    [Los, Angeles]    Los-Angeles          False       False            NaN   \n",
            "2  [San, Francisco]  San-Francisco          False       False            NaN   \n",
            "\n",
            "           Find_All   Custom  \n",
            "0       [New, York]    ecilA  \n",
            "1    [Los, Angeles]      boB  \n",
            "2  [San, Francisco]  eilrahC  \n"
          ]
        }
      ]
    },
    {
      "cell_type": "markdown",
      "source": [
        "# ***Window Functions***"
      ],
      "metadata": {
        "id": "l0XzY1N-GF6w"
      }
    },
    {
      "cell_type": "code",
      "source": [
        "data = pd.DataFrame({'Value': [1, 2, 3, 4, 5, 6]})\n",
        "data['Rolling_Mean'] = data['Value'].rolling(window=3).mean()\n",
        "print(data)"
      ],
      "metadata": {
        "colab": {
          "base_uri": "https://localhost:8080/"
        },
        "id": "EPeGxMu1GJUP",
        "outputId": "b83035f2-7b7a-4401-c33c-783cd3d0aa79"
      },
      "execution_count": 201,
      "outputs": [
        {
          "output_type": "stream",
          "name": "stdout",
          "text": [
            "   Value  Rolling_Mean\n",
            "0      1           NaN\n",
            "1      2           NaN\n",
            "2      3           2.0\n",
            "3      4           3.0\n",
            "4      5           4.0\n",
            "5      6           5.0\n"
          ]
        }
      ]
    },
    {
      "cell_type": "code",
      "source": [
        "data['Rolling_Sum'] = data['Value'].rolling(window=3).sum()\n",
        "print(data)\n"
      ],
      "metadata": {
        "colab": {
          "base_uri": "https://localhost:8080/"
        },
        "id": "hXaM5cKNGQhk",
        "outputId": "989afc83-9ce6-4fec-89b9-c274664f8825"
      },
      "execution_count": 202,
      "outputs": [
        {
          "output_type": "stream",
          "name": "stdout",
          "text": [
            "   Value  Rolling_Mean  Rolling_Sum\n",
            "0      1           NaN          NaN\n",
            "1      2           NaN          NaN\n",
            "2      3           2.0          6.0\n",
            "3      4           3.0          9.0\n",
            "4      5           4.0         12.0\n",
            "5      6           5.0         15.0\n"
          ]
        }
      ]
    },
    {
      "cell_type": "code",
      "source": [
        "data['Expanding_Mean'] = data['Value'].expanding().mean()\n",
        "print(data)"
      ],
      "metadata": {
        "colab": {
          "base_uri": "https://localhost:8080/"
        },
        "id": "6JezVNg1GVJG",
        "outputId": "a655c4bc-200a-4f6d-d969-5e147e75947a"
      },
      "execution_count": 203,
      "outputs": [
        {
          "output_type": "stream",
          "name": "stdout",
          "text": [
            "   Value  Rolling_Mean  Rolling_Sum  Expanding_Mean\n",
            "0      1           NaN          NaN             1.0\n",
            "1      2           NaN          NaN             1.5\n",
            "2      3           2.0          6.0             2.0\n",
            "3      4           3.0          9.0             2.5\n",
            "4      5           4.0         12.0             3.0\n",
            "5      6           5.0         15.0             3.5\n"
          ]
        }
      ]
    },
    {
      "cell_type": "code",
      "source": [
        "data['Expanding_Sum'] = data['Value'].expanding().sum()\n",
        "print(data)\n"
      ],
      "metadata": {
        "colab": {
          "base_uri": "https://localhost:8080/"
        },
        "id": "wfbNJAskGYbU",
        "outputId": "771cac8e-b405-40d2-aace-d32307ee6e5d"
      },
      "execution_count": 204,
      "outputs": [
        {
          "output_type": "stream",
          "name": "stdout",
          "text": [
            "   Value  Rolling_Mean  Rolling_Sum  Expanding_Mean  Expanding_Sum\n",
            "0      1           NaN          NaN             1.0            1.0\n",
            "1      2           NaN          NaN             1.5            3.0\n",
            "2      3           2.0          6.0             2.0            6.0\n",
            "3      4           3.0          9.0             2.5           10.0\n",
            "4      5           4.0         12.0             3.0           15.0\n",
            "5      6           5.0         15.0             3.5           21.0\n"
          ]
        }
      ]
    },
    {
      "cell_type": "code",
      "source": [
        "data['EWM_Mean'] = data['Value'].ewm(span=3, adjust=False).mean()\n",
        "print(data)\n"
      ],
      "metadata": {
        "colab": {
          "base_uri": "https://localhost:8080/"
        },
        "id": "HkyB5rBDGdyN",
        "outputId": "b3e1e4ad-2847-4ee0-e6a2-774bac781856"
      },
      "execution_count": 205,
      "outputs": [
        {
          "output_type": "stream",
          "name": "stdout",
          "text": [
            "   Value  Rolling_Mean  Rolling_Sum  Expanding_Mean  Expanding_Sum  EWM_Mean\n",
            "0      1           NaN          NaN             1.0            1.0   1.00000\n",
            "1      2           NaN          NaN             1.5            3.0   1.50000\n",
            "2      3           2.0          6.0             2.0            6.0   2.25000\n",
            "3      4           3.0          9.0             2.5           10.0   3.12500\n",
            "4      5           4.0         12.0             3.0           15.0   4.06250\n",
            "5      6           5.0         15.0             3.5           21.0   5.03125\n"
          ]
        }
      ]
    },
    {
      "cell_type": "code",
      "source": [
        "data['Rolling_Custom'] = data['Value'].rolling(window=3).agg(lambda x: x.max() - x.min())\n",
        "print(data)"
      ],
      "metadata": {
        "colab": {
          "base_uri": "https://localhost:8080/"
        },
        "id": "zH9LYLNAGhGq",
        "outputId": "3182826a-5d1a-4424-f5ba-ce36c06c25cb"
      },
      "execution_count": 206,
      "outputs": [
        {
          "output_type": "stream",
          "name": "stdout",
          "text": [
            "   Value  Rolling_Mean  Rolling_Sum  Expanding_Mean  Expanding_Sum  EWM_Mean  \\\n",
            "0      1           NaN          NaN             1.0            1.0   1.00000   \n",
            "1      2           NaN          NaN             1.5            3.0   1.50000   \n",
            "2      3           2.0          6.0             2.0            6.0   2.25000   \n",
            "3      4           3.0          9.0             2.5           10.0   3.12500   \n",
            "4      5           4.0         12.0             3.0           15.0   4.06250   \n",
            "5      6           5.0         15.0             3.5           21.0   5.03125   \n",
            "\n",
            "   Rolling_Custom  \n",
            "0             NaN  \n",
            "1             NaN  \n",
            "2             2.0  \n",
            "3             2.0  \n",
            "4             2.0  \n",
            "5             2.0  \n"
          ]
        }
      ]
    },
    {
      "cell_type": "code",
      "source": [
        "time_data = pd.DataFrame({\n",
        "    'Date': pd.date_range(start='2025-01-01', periods=10),\n",
        "    'Value': [1, 2, 3, 4, 5, 6, 7, 8, 9, 10]\n",
        "})\n",
        "\n",
        "time_data.set_index('Date', inplace=True)\n",
        "time_data['Rolling_Mean'] = time_data['Value'].rolling(window=3).mean()\n",
        "print(time_data)"
      ],
      "metadata": {
        "colab": {
          "base_uri": "https://localhost:8080/"
        },
        "id": "F5E9fB1qGkVv",
        "outputId": "cfb1d144-1be4-4384-b8bc-941b4eeb5820"
      },
      "execution_count": 207,
      "outputs": [
        {
          "output_type": "stream",
          "name": "stdout",
          "text": [
            "            Value  Rolling_Mean\n",
            "Date                           \n",
            "2025-01-01      1           NaN\n",
            "2025-01-02      2           NaN\n",
            "2025-01-03      3           2.0\n",
            "2025-01-04      4           3.0\n",
            "2025-01-05      5           4.0\n",
            "2025-01-06      6           5.0\n",
            "2025-01-07      7           6.0\n",
            "2025-01-08      8           7.0\n",
            "2025-01-09      9           8.0\n",
            "2025-01-10     10           9.0\n"
          ]
        }
      ]
    },
    {
      "cell_type": "markdown",
      "source": [
        "# **Apply Functions**"
      ],
      "metadata": {
        "id": "j2TuVsS1GrUt"
      }
    },
    {
      "cell_type": "code",
      "source": [
        "data = pd.Series([1, 2, 3, 4, 5])\n",
        "\n",
        "# Apply a function to square each element\n",
        "data_squared = data.apply(lambda x: x ** 2)\n",
        "print(data_squared)"
      ],
      "metadata": {
        "colab": {
          "base_uri": "https://localhost:8080/"
        },
        "id": "z5tp323tGt11",
        "outputId": "59fd85e0-a81b-4d9c-8cd6-887691fd17f7"
      },
      "execution_count": 208,
      "outputs": [
        {
          "output_type": "stream",
          "name": "stdout",
          "text": [
            "0     1\n",
            "1     4\n",
            "2     9\n",
            "3    16\n",
            "4    25\n",
            "dtype: int64\n"
          ]
        }
      ]
    },
    {
      "cell_type": "code",
      "source": [
        "# Apply a function to categorize values\n",
        "data_categorized = data.apply(lambda x: 'Even' if x % 2 == 0 else 'Odd')\n",
        "print(data_categorized)"
      ],
      "metadata": {
        "colab": {
          "base_uri": "https://localhost:8080/"
        },
        "id": "Ufeu85m8GzHw",
        "outputId": "73a0987a-dafb-43e3-e02e-b6672135d3ef"
      },
      "execution_count": 209,
      "outputs": [
        {
          "output_type": "stream",
          "name": "stdout",
          "text": [
            "0     Odd\n",
            "1    Even\n",
            "2     Odd\n",
            "3    Even\n",
            "4     Odd\n",
            "dtype: object\n"
          ]
        }
      ]
    },
    {
      "cell_type": "code",
      "source": [
        "df = pd.DataFrame({'A': [1, 2, 3], 'B': [4, 5, 6]})\n",
        "\n",
        "# Apply a function to each column\n",
        "result = df.apply(lambda x: x.sum(), axis=0)\n",
        "print(result)\n"
      ],
      "metadata": {
        "colab": {
          "base_uri": "https://localhost:8080/"
        },
        "id": "loCukyfLG2TE",
        "outputId": "3568d8d5-2f74-4a87-9f80-14dfed548ee0"
      },
      "execution_count": 210,
      "outputs": [
        {
          "output_type": "stream",
          "name": "stdout",
          "text": [
            "A     6\n",
            "B    15\n",
            "dtype: int64\n"
          ]
        }
      ]
    },
    {
      "cell_type": "code",
      "source": [
        "# Apply a function to each row\n",
        "result = df.apply(lambda x: x.sum(), axis=1)\n",
        "print(result)\n"
      ],
      "metadata": {
        "colab": {
          "base_uri": "https://localhost:8080/"
        },
        "id": "vhrX8fghG5Je",
        "outputId": "5e1dde15-3443-44a5-d73a-3305368bf433"
      },
      "execution_count": 211,
      "outputs": [
        {
          "output_type": "stream",
          "name": "stdout",
          "text": [
            "0    5\n",
            "1    7\n",
            "2    9\n",
            "dtype: int64\n"
          ]
        }
      ]
    },
    {
      "cell_type": "code",
      "source": [
        "# Add a new column based on row values\n",
        "df['C'] = df.apply(lambda x: x['A'] * x['B'], axis=1)\n",
        "print(df)"
      ],
      "metadata": {
        "colab": {
          "base_uri": "https://localhost:8080/"
        },
        "id": "ZqKAw5mCG7yR",
        "outputId": "abc1df1a-12d5-45ec-814d-027f93c5367d"
      },
      "execution_count": 212,
      "outputs": [
        {
          "output_type": "stream",
          "name": "stdout",
          "text": [
            "   A  B   C\n",
            "0  1  4   4\n",
            "1  2  5  10\n",
            "2  3  6  18\n"
          ]
        }
      ]
    },
    {
      "cell_type": "code",
      "source": [
        "# Apply a function to every element\n",
        "result = df.map(lambda x: x ** 2)\n",
        "print(result)\n"
      ],
      "metadata": {
        "colab": {
          "base_uri": "https://localhost:8080/"
        },
        "id": "ysIXZt9iHBJk",
        "outputId": "0f9db9d1-5739-4ea5-83a6-fdc552b2091e"
      },
      "execution_count": 213,
      "outputs": [
        {
          "output_type": "stream",
          "name": "stdout",
          "text": [
            "   A   B    C\n",
            "0  1  16   16\n",
            "1  4  25  100\n",
            "2  9  36  324\n"
          ]
        }
      ]
    },
    {
      "cell_type": "code",
      "source": [
        "# Custom function with multiple arguments\n",
        "def custom_function(x, factor):\n",
        "    return x * factor\n",
        "\n",
        "data_transformed = data.apply(custom_function, args=(10,))\n",
        "print(data_transformed)"
      ],
      "metadata": {
        "colab": {
          "base_uri": "https://localhost:8080/"
        },
        "id": "cJGJGYBoHHrL",
        "outputId": "014169e4-9d67-4169-84d8-597ef58bcca2"
      },
      "execution_count": 214,
      "outputs": [
        {
          "output_type": "stream",
          "name": "stdout",
          "text": [
            "0    10\n",
            "1    20\n",
            "2    30\n",
            "3    40\n",
            "4    50\n",
            "dtype: int64\n"
          ]
        }
      ]
    },
    {
      "cell_type": "markdown",
      "source": [
        "# **Read Data From Excel and csv**"
      ],
      "metadata": {
        "id": "PBowYLFsHhwg"
      }
    },
    {
      "cell_type": "code",
      "source": [
        "data = pd.read_csv(\"https://docs.google.com/spreadsheets/d/e/2PACX-1vStsdzk_-1KtqSH8EraxBtczeIYXBwAEFL1rMj9fPZRKIOba6Ks3-HoEBmEpj-AEsypmJw_RM7cai5v/pub?gid=0&single=true&output=csv\")\n",
        "\n"
      ],
      "metadata": {
        "id": "ZkTF47XqHr88"
      },
      "execution_count": 215,
      "outputs": []
    },
    {
      "cell_type": "code",
      "source": [
        "# View the first few rows\n",
        "print(data.head())"
      ],
      "metadata": {
        "colab": {
          "base_uri": "https://localhost:8080/"
        },
        "id": "8rjxSgrmHhXR",
        "outputId": "39f4c39d-e840-4154-ca71-c7fa86783fa8"
      },
      "execution_count": 216,
      "outputs": [
        {
          "output_type": "stream",
          "name": "stdout",
          "text": [
            "                           industry  level             size line_code  value\n",
            "0                             total      0   6–19 employees  C0300.01  15639\n",
            "1                             total      0  20–49 employees  C0300.01   2943\n",
            "2                             total      0  50–99 employees  C0300.01    639\n",
            "3                             total      0   100+ employees  C0300.01    555\n",
            "4  Agriculture, forestry, & fishing      1            total  C0300.01    348\n"
          ]
        }
      ]
    },
    {
      "cell_type": "code",
      "source": [
        "data = pd.read_csv(\"https://docs.google.com/spreadsheets/d/e/2PACX-1vStsdzk_-1KtqSH8EraxBtczeIYXBwAEFL1rMj9fPZRKIOba6Ks3-HoEBmEpj-AEsypmJw_RM7cai5v/pub?gid=0&single=true&output=csv\", sep=\";\")\n",
        "print(data)"
      ],
      "metadata": {
        "colab": {
          "base_uri": "https://localhost:8080/"
        },
        "id": "p2yH5X_lONje",
        "outputId": "550c48d9-3b0d-4fc6-c8c7-deb749a3e120"
      },
      "execution_count": 217,
      "outputs": [
        {
          "output_type": "stream",
          "name": "stdout",
          "text": [
            "                  industry,level,size,line_code,value\n",
            "0               total,0,6–19 employees,C0300.01,15639\n",
            "1               total,0,20–49 employees,C0300.01,2943\n",
            "2                total,0,50–99 employees,C0300.01,639\n",
            "3                 total,0,100+ employees,C0300.01,555\n",
            "4   Agriculture, forestry, & fishing,1,total,C0300...\n",
            "..                                                ...\n",
            "94               total,0,6–19 employees,C0300.03,4290\n",
            "95              total,0,20–49 employees,C0300.03,1062\n",
            "96               total,0,50–99 employees,C0300.03,438\n",
            "97                total,0,100+ employees,C0300.03,339\n",
            "98  Agriculture, forestry, & fishing,1,total,C0300...\n",
            "\n",
            "[99 rows x 1 columns]\n"
          ]
        }
      ]
    },
    {
      "cell_type": "code",
      "source": [
        "#data = pd.read_csv(\"https://docs.google.com/spreadsheets/d/e/2PACX-1vStsdzk_-1KtqSH8EraxBtczeIYXBwAEFL1rMj9fPZRKIOba6Ks3-HoEBmEpj-AEsypmJw_RM7cai5v/pub?gid=0&single=true&output=csv\", index_col=\"id\")"
      ],
      "metadata": {
        "id": "yEJU1_SfOjdm"
      },
      "execution_count": 218,
      "outputs": []
    },
    {
      "cell_type": "code",
      "source": [
        "data = pd.read_csv(\"https://docs.google.com/spreadsheets/d/e/2PACX-1vStsdzk_-1KtqSH8EraxBtczeIYXBwAEFL1rMj9fPZRKIOba6Ks3-HoEBmEpj-AEsypmJw_RM7cai5v/pub?gid=0&single=true&output=csv\", usecols=[\"level\", \"line_code\"])\n",
        "print(data)"
      ],
      "metadata": {
        "colab": {
          "base_uri": "https://localhost:8080/"
        },
        "id": "tp6-ctSvOxfI",
        "outputId": "afc558d8-4f2f-4603-b72c-3005591ff9d4"
      },
      "execution_count": 219,
      "outputs": [
        {
          "output_type": "stream",
          "name": "stdout",
          "text": [
            "    level line_code\n",
            "0       0  C0300.01\n",
            "1       0  C0300.01\n",
            "2       0  C0300.01\n",
            "3       0  C0300.01\n",
            "4       1  C0300.01\n",
            "..    ...       ...\n",
            "94      0  C0300.03\n",
            "95      0  C0300.03\n",
            "96      0  C0300.03\n",
            "97      0  C0300.03\n",
            "98      1  C0300.03\n",
            "\n",
            "[99 rows x 2 columns]\n"
          ]
        }
      ]
    },
    {
      "cell_type": "code",
      "source": [
        "data = pd.read_csv(\"https://docs.google.com/spreadsheets/d/e/2PACX-1vStsdzk_-1KtqSH8EraxBtczeIYXBwAEFL1rMj9fPZRKIOba6Ks3-HoEBmEpj-AEsypmJw_RM7cai5v/pub?gid=0&single=true&output=csv\", usecols=[\"level\", \"line_code\"],nrows=10)\n",
        "print(data)"
      ],
      "metadata": {
        "colab": {
          "base_uri": "https://localhost:8080/"
        },
        "id": "vT5463CZPEvm",
        "outputId": "f7f29408-b28e-43ac-ce19-4914e7b2c0a0"
      },
      "execution_count": 220,
      "outputs": [
        {
          "output_type": "stream",
          "name": "stdout",
          "text": [
            "   level line_code\n",
            "0      0  C0300.01\n",
            "1      0  C0300.01\n",
            "2      0  C0300.01\n",
            "3      0  C0300.01\n",
            "4      1  C0300.01\n",
            "5      2  C0300.01\n",
            "6      2  C0300.01\n",
            "7      2  C0300.01\n",
            "8      2  C0300.01\n",
            "9      1  C0300.01\n"
          ]
        }
      ]
    },
    {
      "cell_type": "code",
      "source": [
        "data = pd.read_csv(\"https://docs.google.com/spreadsheets/d/e/2PACX-1vStsdzk_-1KtqSH8EraxBtczeIYXBwAEFL1rMj9fPZRKIOba6Ks3-HoEBmEpj-AEsypmJw_RM7cai5v/pub?gid=0&single=true&output=csv\",nrows=10,na_values=[\"N/A\", \"null\",\"total\"])\n",
        "print(data)"
      ],
      "metadata": {
        "colab": {
          "base_uri": "https://localhost:8080/"
        },
        "id": "kPa6fFSXPZIA",
        "outputId": "49dfcd70-9316-41ad-acee-4eeb5ad84ab5"
      },
      "execution_count": 221,
      "outputs": [
        {
          "output_type": "stream",
          "name": "stdout",
          "text": [
            "                                            industry  level             size  \\\n",
            "0                                                NaN      0   6–19 employees   \n",
            "1                                                NaN      0  20–49 employees   \n",
            "2                                                NaN      0  50–99 employees   \n",
            "3                                                NaN      0   100+ employees   \n",
            "4                   Agriculture, forestry, & fishing      1              NaN   \n",
            "5                                        Agriculture      2              NaN   \n",
            "6                                 Commercial fishing      2              NaN   \n",
            "7                                 Forestry & logging      2              NaN   \n",
            "8  Agriculture, forestry, & fishing support services      2              NaN   \n",
            "9                                             Mining      1              NaN   \n",
            "\n",
            "  line_code  value  \n",
            "0  C0300.01  15639  \n",
            "1  C0300.01   2943  \n",
            "2  C0300.01    639  \n",
            "3  C0300.01    555  \n",
            "4  C0300.01    348  \n",
            "5  C0300.01    177  \n",
            "6  C0300.01      3  \n",
            "7  C0300.01     12  \n",
            "8  C0300.01    159  \n",
            "9  C0300.01     12  \n"
          ]
        }
      ]
    },
    {
      "cell_type": "code",
      "source": [
        "data[\"industry\"].fillna(\"Unknown\", inplace=True)\n",
        "\n",
        "# Fill missing Salary with the average\n",
        "#data[\"size\"].fillna(data[\"size\"].mean(), inplace=True)\n",
        "\n",
        "print(data)"
      ],
      "metadata": {
        "colab": {
          "base_uri": "https://localhost:8080/"
        },
        "id": "fTqHAX10QMqa",
        "outputId": "d82a5a20-e17c-44c9-ce58-d7f232d1e9f3"
      },
      "execution_count": 222,
      "outputs": [
        {
          "output_type": "stream",
          "name": "stdout",
          "text": [
            "                                            industry  level             size  \\\n",
            "0                                            Unknown      0   6–19 employees   \n",
            "1                                            Unknown      0  20–49 employees   \n",
            "2                                            Unknown      0  50–99 employees   \n",
            "3                                            Unknown      0   100+ employees   \n",
            "4                   Agriculture, forestry, & fishing      1              NaN   \n",
            "5                                        Agriculture      2              NaN   \n",
            "6                                 Commercial fishing      2              NaN   \n",
            "7                                 Forestry & logging      2              NaN   \n",
            "8  Agriculture, forestry, & fishing support services      2              NaN   \n",
            "9                                             Mining      1              NaN   \n",
            "\n",
            "  line_code  value  \n",
            "0  C0300.01  15639  \n",
            "1  C0300.01   2943  \n",
            "2  C0300.01    639  \n",
            "3  C0300.01    555  \n",
            "4  C0300.01    348  \n",
            "5  C0300.01    177  \n",
            "6  C0300.01      3  \n",
            "7  C0300.01     12  \n",
            "8  C0300.01    159  \n",
            "9  C0300.01     12  \n"
          ]
        },
        {
          "output_type": "stream",
          "name": "stderr",
          "text": [
            "<ipython-input-222-df7c99a4b0ba>:1: FutureWarning: A value is trying to be set on a copy of a DataFrame or Series through chained assignment using an inplace method.\n",
            "The behavior will change in pandas 3.0. This inplace method will never work because the intermediate object on which we are setting values always behaves as a copy.\n",
            "\n",
            "For example, when doing 'df[col].method(value, inplace=True)', try using 'df.method({col: value}, inplace=True)' or df[col] = df[col].method(value) instead, to perform the operation inplace on the original object.\n",
            "\n",
            "\n",
            "  data[\"industry\"].fillna(\"Unknown\", inplace=True)\n"
          ]
        }
      ]
    },
    {
      "cell_type": "code",
      "source": [
        "filtered_data = data[(data[\"level\"] > 1) & (data[\"value\"] > 100)]\n",
        "print(filtered_data)"
      ],
      "metadata": {
        "colab": {
          "base_uri": "https://localhost:8080/"
        },
        "id": "gdwVRMBiQgWl",
        "outputId": "1c0e1c7f-3cd3-42e3-cfcc-c737879da5e9"
      },
      "execution_count": 223,
      "outputs": [
        {
          "output_type": "stream",
          "name": "stdout",
          "text": [
            "                                            industry  level size line_code  \\\n",
            "5                                        Agriculture      2  NaN  C0300.01   \n",
            "8  Agriculture, forestry, & fishing support services      2  NaN  C0300.01   \n",
            "\n",
            "   value  \n",
            "5    177  \n",
            "8    159  \n"
          ]
        }
      ]
    },
    {
      "cell_type": "code",
      "source": [
        "data.to_csv(\"output.csv\")"
      ],
      "metadata": {
        "id": "qQuYufXJeS7s"
      },
      "execution_count": 224,
      "outputs": []
    }
  ]
}