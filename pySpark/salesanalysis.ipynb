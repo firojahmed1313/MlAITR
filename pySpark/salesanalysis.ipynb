{
  "nbformat": 4,
  "nbformat_minor": 0,
  "metadata": {
    "colab": {
      "provenance": [],
      "authorship_tag": "ABX9TyOQs0vtXiqRV7tkAQ2f7ea7",
      "include_colab_link": true
    },
    "kernelspec": {
      "name": "python3",
      "display_name": "Python 3"
    },
    "language_info": {
      "name": "python"
    }
  },
  "cells": [
    {
      "cell_type": "markdown",
      "metadata": {
        "id": "view-in-github",
        "colab_type": "text"
      },
      "source": [
        "<a href=\"https://colab.research.google.com/github/firojahmed1313/MlAITR/blob/main/pySpark/salesanalysis.ipynb\" target=\"_parent\"><img src=\"https://colab.research.google.com/assets/colab-badge.svg\" alt=\"Open In Colab\"/></a>"
      ]
    },
    {
      "cell_type": "code",
      "execution_count": 2,
      "metadata": {
        "id": "wYOq1YdVfGn5"
      },
      "outputs": [],
      "source": [
        "from pyspark.sql import SparkSession"
      ]
    },
    {
      "cell_type": "code",
      "source": [
        "spark = SparkSession.builder.master(\"local[*]\").appName(\"Salesanalysis\").getOrCreate()\n",
        "spark"
      ],
      "metadata": {
        "colab": {
          "base_uri": "https://localhost:8080/",
          "height": 219
        },
        "id": "mCONAUkth0UO",
        "outputId": "471a816d-2e1f-4d1b-8f64-3c4a8b687470"
      },
      "execution_count": 3,
      "outputs": [
        {
          "output_type": "execute_result",
          "data": {
            "text/plain": [
              "<pyspark.sql.session.SparkSession at 0x7943462483d0>"
            ],
            "text/html": [
              "\n",
              "            <div>\n",
              "                <p><b>SparkSession - in-memory</b></p>\n",
              "                \n",
              "        <div>\n",
              "            <p><b>SparkContext</b></p>\n",
              "\n",
              "            <p><a href=\"http://05c8435b21c8:4040\">Spark UI</a></p>\n",
              "\n",
              "            <dl>\n",
              "              <dt>Version</dt>\n",
              "                <dd><code>v3.5.5</code></dd>\n",
              "              <dt>Master</dt>\n",
              "                <dd><code>local[*]</code></dd>\n",
              "              <dt>AppName</dt>\n",
              "                <dd><code>Salesanalysis</code></dd>\n",
              "            </dl>\n",
              "        </div>\n",
              "        \n",
              "            </div>\n",
              "        "
            ]
          },
          "metadata": {},
          "execution_count": 3
        }
      ]
    },
    {
      "cell_type": "code",
      "source": [
        "from pyspark.sql.types import StructType, StructField, StringType, IntegerType,DateType, FloatType"
      ],
      "metadata": {
        "id": "Yr0giai1ljzg"
      },
      "execution_count": 4,
      "outputs": []
    },
    {
      "cell_type": "code",
      "source": [
        "schema=StructType([\n",
        "  StructField(\"product_id\",IntegerType(),True),\n",
        "  StructField(\"customer_id\",StringType(),True),\n",
        "  StructField(\"order_date\",DateType(),True),\n",
        "  StructField(\"country\",StringType(),True),\n",
        "  StructField(\"order_source\",StringType(),True)\n",
        "])"
      ],
      "metadata": {
        "id": "mTbqxKkymAlF"
      },
      "execution_count": 7,
      "outputs": []
    },
    {
      "cell_type": "code",
      "source": [
        "df = spark.read.csv(\"/content/sample_data/sales.csv\", header=False, sep=\",\", schema=schema)\n",
        "df.show()\n",
        "df.printSchema()"
      ],
      "metadata": {
        "colab": {
          "base_uri": "https://localhost:8080/"
        },
        "id": "-YIhURbxiCBK",
        "outputId": "4bfae11b-b422-4c86-d6af-5250b4263a31"
      },
      "execution_count": 8,
      "outputs": [
        {
          "output_type": "stream",
          "name": "stdout",
          "text": [
            "+----------+-----------+----------+-------+------------+\n",
            "|product_id|customer_id|order_date|country|order_source|\n",
            "+----------+-----------+----------+-------+------------+\n",
            "|         1|          A|2023-01-01|  India|      Swiggy|\n",
            "|         2|          A|2022-01-01|  India|      Swiggy|\n",
            "|         2|          A|2023-01-07|  India|      Swiggy|\n",
            "|         3|          A|2023-01-10|  India|  Restaurant|\n",
            "|         3|          A|2022-01-11|  India|      Swiggy|\n",
            "|         3|          A|2023-01-11|  India|  Restaurant|\n",
            "|         2|          B|2022-02-01|  India|      Swiggy|\n",
            "|         2|          B|2023-01-02|  India|      Swiggy|\n",
            "|         1|          B|2023-01-04|  India|  Restaurant|\n",
            "|         1|          B|2023-02-11|  India|      Swiggy|\n",
            "|         3|          B|2023-01-16|  India|      zomato|\n",
            "|         3|          B|2022-02-01|  India|      zomato|\n",
            "|         3|          C|2023-01-01|  India|      zomato|\n",
            "|         1|          C|2023-01-01|     UK|      Swiggy|\n",
            "|         6|          C|2022-01-07|     UK|      zomato|\n",
            "|         3|          D|2023-02-16|     UK|  Restaurant|\n",
            "|         5|          D|2022-02-01|     UK|      zomato|\n",
            "|         3|          E|2023-02-01|     UK|  Restaurant|\n",
            "|         4|          E|2023-02-01|     UK|      Swiggy|\n",
            "|         4|          E|2023-02-07|     UK|  Restaurant|\n",
            "+----------+-----------+----------+-------+------------+\n",
            "only showing top 20 rows\n",
            "\n",
            "root\n",
            " |-- product_id: integer (nullable = true)\n",
            " |-- customer_id: string (nullable = true)\n",
            " |-- order_date: date (nullable = true)\n",
            " |-- country: string (nullable = true)\n",
            " |-- order_source: string (nullable = true)\n",
            "\n"
          ]
        }
      ]
    },
    {
      "cell_type": "code",
      "source": [
        "schemaMenu=StructType([\n",
        "  StructField(\"product_id\",IntegerType(),True),\n",
        "  StructField(\"product_name\",StringType(),True),\n",
        "  StructField(\"price\",FloatType(),True)\n",
        "])"
      ],
      "metadata": {
        "id": "Pu7SfW9Xoa7-"
      },
      "execution_count": 9,
      "outputs": []
    },
    {
      "cell_type": "code",
      "source": [
        "dfMenu=spark.read.format(\"csv\").schema(schemaMenu).load(\"/content/sample_data/menu.csv\")\n",
        "dfMenu.show()\n",
        "dfMenu.printSchema()"
      ],
      "metadata": {
        "colab": {
          "base_uri": "https://localhost:8080/"
        },
        "id": "czb8k1stnTQx",
        "outputId": "34938627-5bc1-4215-bf3a-c74c0c40074e"
      },
      "execution_count": 10,
      "outputs": [
        {
          "output_type": "stream",
          "name": "stdout",
          "text": [
            "+----------+------------+-----+\n",
            "|product_id|product_name|price|\n",
            "+----------+------------+-----+\n",
            "|         1|       PIZZA|100.0|\n",
            "|         2|     Chowmin|150.0|\n",
            "|         3|    sandwich|120.0|\n",
            "|         4|        Dosa|110.0|\n",
            "|         5|     Biryani| 80.0|\n",
            "|         6|       Pasta|180.0|\n",
            "+----------+------------+-----+\n",
            "\n",
            "root\n",
            " |-- product_id: integer (nullable = true)\n",
            " |-- product_name: string (nullable = true)\n",
            " |-- price: float (nullable = true)\n",
            "\n"
          ]
        }
      ]
    },
    {
      "cell_type": "code",
      "source": [
        "from pyspark.sql.functions import month,year,dayofmonth,quarter"
      ],
      "metadata": {
        "id": "fl5OjsvfxElE"
      },
      "execution_count": 11,
      "outputs": []
    },
    {
      "cell_type": "code",
      "source": [
        "df=df.withColumn(\"order_mongth\",month(\"order_date\"))\n",
        "df=df.withColumn(\"order_year\",year(\"order_date\"))\n",
        "df=df.withColumn(\"order_day\",dayofmonth(\"order_date\"))\n",
        "df=df.withColumn(\"order_quarter\",quarter(\"order_date\"))\n",
        "df.show()"
      ],
      "metadata": {
        "id": "huOOaC3ipPFb",
        "colab": {
          "base_uri": "https://localhost:8080/"
        },
        "outputId": "2bc7de94-fb3b-44fb-8ebe-343d5b34a4cf"
      },
      "execution_count": 12,
      "outputs": [
        {
          "output_type": "stream",
          "name": "stdout",
          "text": [
            "+----------+-----------+----------+-------+------------+------------+----------+---------+-------------+\n",
            "|product_id|customer_id|order_date|country|order_source|order_mongth|order_year|order_day|order_quarter|\n",
            "+----------+-----------+----------+-------+------------+------------+----------+---------+-------------+\n",
            "|         1|          A|2023-01-01|  India|      Swiggy|           1|      2023|        1|            1|\n",
            "|         2|          A|2022-01-01|  India|      Swiggy|           1|      2022|        1|            1|\n",
            "|         2|          A|2023-01-07|  India|      Swiggy|           1|      2023|        7|            1|\n",
            "|         3|          A|2023-01-10|  India|  Restaurant|           1|      2023|       10|            1|\n",
            "|         3|          A|2022-01-11|  India|      Swiggy|           1|      2022|       11|            1|\n",
            "|         3|          A|2023-01-11|  India|  Restaurant|           1|      2023|       11|            1|\n",
            "|         2|          B|2022-02-01|  India|      Swiggy|           2|      2022|        1|            1|\n",
            "|         2|          B|2023-01-02|  India|      Swiggy|           1|      2023|        2|            1|\n",
            "|         1|          B|2023-01-04|  India|  Restaurant|           1|      2023|        4|            1|\n",
            "|         1|          B|2023-02-11|  India|      Swiggy|           2|      2023|       11|            1|\n",
            "|         3|          B|2023-01-16|  India|      zomato|           1|      2023|       16|            1|\n",
            "|         3|          B|2022-02-01|  India|      zomato|           2|      2022|        1|            1|\n",
            "|         3|          C|2023-01-01|  India|      zomato|           1|      2023|        1|            1|\n",
            "|         1|          C|2023-01-01|     UK|      Swiggy|           1|      2023|        1|            1|\n",
            "|         6|          C|2022-01-07|     UK|      zomato|           1|      2022|        7|            1|\n",
            "|         3|          D|2023-02-16|     UK|  Restaurant|           2|      2023|       16|            1|\n",
            "|         5|          D|2022-02-01|     UK|      zomato|           2|      2022|        1|            1|\n",
            "|         3|          E|2023-02-01|     UK|  Restaurant|           2|      2023|        1|            1|\n",
            "|         4|          E|2023-02-01|     UK|      Swiggy|           2|      2023|        1|            1|\n",
            "|         4|          E|2023-02-07|     UK|  Restaurant|           2|      2023|        7|            1|\n",
            "+----------+-----------+----------+-------+------------+------------+----------+---------+-------------+\n",
            "only showing top 20 rows\n",
            "\n"
          ]
        }
      ]
    },
    {
      "cell_type": "code",
      "source": [
        "df.join(dfMenu, df.product_id==dfMenu.product_id,\"leftouter\").show()"
      ],
      "metadata": {
        "colab": {
          "base_uri": "https://localhost:8080/"
        },
        "id": "OI_GE3c0Loct",
        "outputId": "923242b8-24d6-4bb9-bd74-44d6d76ce690"
      },
      "execution_count": 13,
      "outputs": [
        {
          "output_type": "stream",
          "name": "stdout",
          "text": [
            "+----------+-----------+----------+-------+------------+------------+----------+---------+-------------+----------+------------+-----+\n",
            "|product_id|customer_id|order_date|country|order_source|order_mongth|order_year|order_day|order_quarter|product_id|product_name|price|\n",
            "+----------+-----------+----------+-------+------------+------------+----------+---------+-------------+----------+------------+-----+\n",
            "|         1|          A|2023-01-01|  India|      Swiggy|           1|      2023|        1|            1|         1|       PIZZA|100.0|\n",
            "|         2|          A|2022-01-01|  India|      Swiggy|           1|      2022|        1|            1|         2|     Chowmin|150.0|\n",
            "|         2|          A|2023-01-07|  India|      Swiggy|           1|      2023|        7|            1|         2|     Chowmin|150.0|\n",
            "|         3|          A|2023-01-10|  India|  Restaurant|           1|      2023|       10|            1|         3|    sandwich|120.0|\n",
            "|         3|          A|2022-01-11|  India|      Swiggy|           1|      2022|       11|            1|         3|    sandwich|120.0|\n",
            "|         3|          A|2023-01-11|  India|  Restaurant|           1|      2023|       11|            1|         3|    sandwich|120.0|\n",
            "|         2|          B|2022-02-01|  India|      Swiggy|           2|      2022|        1|            1|         2|     Chowmin|150.0|\n",
            "|         2|          B|2023-01-02|  India|      Swiggy|           1|      2023|        2|            1|         2|     Chowmin|150.0|\n",
            "|         1|          B|2023-01-04|  India|  Restaurant|           1|      2023|        4|            1|         1|       PIZZA|100.0|\n",
            "|         1|          B|2023-02-11|  India|      Swiggy|           2|      2023|       11|            1|         1|       PIZZA|100.0|\n",
            "|         3|          B|2023-01-16|  India|      zomato|           1|      2023|       16|            1|         3|    sandwich|120.0|\n",
            "|         3|          B|2022-02-01|  India|      zomato|           2|      2022|        1|            1|         3|    sandwich|120.0|\n",
            "|         3|          C|2023-01-01|  India|      zomato|           1|      2023|        1|            1|         3|    sandwich|120.0|\n",
            "|         1|          C|2023-01-01|     UK|      Swiggy|           1|      2023|        1|            1|         1|       PIZZA|100.0|\n",
            "|         6|          C|2022-01-07|     UK|      zomato|           1|      2022|        7|            1|         6|       Pasta|180.0|\n",
            "|         3|          D|2023-02-16|     UK|  Restaurant|           2|      2023|       16|            1|         3|    sandwich|120.0|\n",
            "|         5|          D|2022-02-01|     UK|      zomato|           2|      2022|        1|            1|         5|     Biryani| 80.0|\n",
            "|         3|          E|2023-02-01|     UK|  Restaurant|           2|      2023|        1|            1|         3|    sandwich|120.0|\n",
            "|         4|          E|2023-02-01|     UK|      Swiggy|           2|      2023|        1|            1|         4|        Dosa|110.0|\n",
            "|         4|          E|2023-02-07|     UK|  Restaurant|           2|      2023|        7|            1|         4|        Dosa|110.0|\n",
            "+----------+-----------+----------+-------+------------+------------+----------+---------+-------------+----------+------------+-----+\n",
            "only showing top 20 rows\n",
            "\n"
          ]
        }
      ]
    },
    {
      "cell_type": "markdown",
      "source": [
        "***Total Amount spent by each customer***"
      ],
      "metadata": {
        "id": "qnjHg3SrqP-_"
      }
    },
    {
      "cell_type": "code",
      "source": [
        "df.join(dfMenu, df.product_id==dfMenu.product_id,\"leftouter\").groupBy(\"customer_id\").sum(\"price\").show()"
      ],
      "metadata": {
        "id": "fFBsbC_uqWxO",
        "colab": {
          "base_uri": "https://localhost:8080/"
        },
        "outputId": "57016d2c-e658-4e44-ea4a-08015138885b"
      },
      "execution_count": 14,
      "outputs": [
        {
          "output_type": "stream",
          "name": "stdout",
          "text": [
            "+-----------+----------+\n",
            "|customer_id|sum(price)|\n",
            "+-----------+----------+\n",
            "|          E|    2040.0|\n",
            "|          B|    4440.0|\n",
            "|          D|    1200.0|\n",
            "|          C|    2400.0|\n",
            "|          A|    4260.0|\n",
            "+-----------+----------+\n",
            "\n"
          ]
        }
      ]
    },
    {
      "cell_type": "markdown",
      "source": [
        "***Total Amount spent by each food category***"
      ],
      "metadata": {
        "id": "85ZeWyPdqXir"
      }
    },
    {
      "cell_type": "code",
      "source": [
        "df.join(dfMenu, df.product_id==dfMenu.product_id,\"leftouter\").groupBy(\"product_name\").sum(\"price\").show()"
      ],
      "metadata": {
        "id": "ev_Rw8irqdcy",
        "colab": {
          "base_uri": "https://localhost:8080/"
        },
        "outputId": "5b2be136-5fa7-4fdf-de04-2f37e73fcf7e"
      },
      "execution_count": 21,
      "outputs": [
        {
          "output_type": "stream",
          "name": "stdout",
          "text": [
            "+------------+----------+\n",
            "|product_name|sum(price)|\n",
            "+------------+----------+\n",
            "|       Pasta|    1080.0|\n",
            "|       PIZZA|    2100.0|\n",
            "|    sandwich|    5760.0|\n",
            "|     Biryani|     480.0|\n",
            "|     Chowmin|    3600.0|\n",
            "|        Dosa|    1320.0|\n",
            "+------------+----------+\n",
            "\n"
          ]
        }
      ]
    },
    {
      "cell_type": "markdown",
      "source": [
        "***Total Amount of sales in each month***"
      ],
      "metadata": {
        "id": "8BFKTjofqeWF"
      }
    },
    {
      "cell_type": "code",
      "source": [
        "df.join(dfMenu, df.product_id==dfMenu.product_id,\"leftouter\").groupBy(\"order_mongth\").sum(\"price\").show()"
      ],
      "metadata": {
        "id": "czjbbFIkqiEs",
        "colab": {
          "base_uri": "https://localhost:8080/"
        },
        "outputId": "0a38885f-3b93-48a4-d6a1-cbad2c6f5c5a"
      },
      "execution_count": 15,
      "outputs": [
        {
          "output_type": "stream",
          "name": "stdout",
          "text": [
            "+------------+----------+\n",
            "|order_mongth|sum(price)|\n",
            "+------------+----------+\n",
            "|           1|    2960.0|\n",
            "|           6|    2960.0|\n",
            "|           3|     910.0|\n",
            "|           5|    2960.0|\n",
            "|           7|     910.0|\n",
            "|          11|     910.0|\n",
            "|           2|    2730.0|\n",
            "+------------+----------+\n",
            "\n"
          ]
        }
      ]
    },
    {
      "cell_type": "markdown",
      "source": [
        "***Yearly sales***"
      ],
      "metadata": {
        "id": "PUjXFknhqihe"
      }
    },
    {
      "cell_type": "code",
      "source": [
        "df.join(dfMenu, df.product_id==dfMenu.product_id,\"leftouter\").groupBy(\"order_year\").sum(\"price\").show()"
      ],
      "metadata": {
        "id": "FNe_aGIWqpCP",
        "colab": {
          "base_uri": "https://localhost:8080/"
        },
        "outputId": "47190042-dde3-4ea0-ecca-de3cee236a40"
      },
      "execution_count": 16,
      "outputs": [
        {
          "output_type": "stream",
          "name": "stdout",
          "text": [
            "+----------+----------+\n",
            "|order_year|sum(price)|\n",
            "+----------+----------+\n",
            "|      2023|    9990.0|\n",
            "|      2022|    4350.0|\n",
            "+----------+----------+\n",
            "\n"
          ]
        }
      ]
    },
    {
      "cell_type": "markdown",
      "source": [
        "***Quaterly sales***"
      ],
      "metadata": {
        "id": "fAqD-bxkqp9K"
      }
    },
    {
      "cell_type": "code",
      "source": [
        "df.join(dfMenu, df.product_id==dfMenu.product_id,\"leftouter\").groupBy(\"order_quarter\").sum(\"price\").show()"
      ],
      "metadata": {
        "id": "LSKCldlxqtJe",
        "colab": {
          "base_uri": "https://localhost:8080/"
        },
        "outputId": "666dd55b-3e74-4b90-fad9-0c007bdec3ec"
      },
      "execution_count": 17,
      "outputs": [
        {
          "output_type": "stream",
          "name": "stdout",
          "text": [
            "+-------------+----------+\n",
            "|order_quarter|sum(price)|\n",
            "+-------------+----------+\n",
            "|            1|    6600.0|\n",
            "|            3|     910.0|\n",
            "|            4|     910.0|\n",
            "|            2|    5920.0|\n",
            "+-------------+----------+\n",
            "\n"
          ]
        }
      ]
    },
    {
      "cell_type": "markdown",
      "source": [
        "***Total number of order by each category***"
      ],
      "metadata": {
        "id": "YBiWsRI1qtl_"
      }
    },
    {
      "cell_type": "code",
      "source": [
        "df.join(dfMenu, df.product_id==dfMenu.product_id,\"leftouter\").groupBy(\"order_source\").sum(\"price\").show()"
      ],
      "metadata": {
        "id": "fCWGCSFWq3lJ",
        "colab": {
          "base_uri": "https://localhost:8080/"
        },
        "outputId": "aada1bbe-274f-4aa3-aeb8-c63462e62734"
      },
      "execution_count": 18,
      "outputs": [
        {
          "output_type": "stream",
          "name": "stdout",
          "text": [
            "+------------+----------+\n",
            "|order_source|sum(price)|\n",
            "+------------+----------+\n",
            "|      zomato|    4920.0|\n",
            "|      Swiggy|    6330.0|\n",
            "|  Restaurant|    3090.0|\n",
            "+------------+----------+\n",
            "\n"
          ]
        }
      ]
    },
    {
      "cell_type": "markdown",
      "source": [
        "***Top 5 ordered items***"
      ],
      "metadata": {
        "id": "g5OudjbQqvuc"
      }
    },
    {
      "cell_type": "code",
      "source": [
        "df.join(dfMenu, df.product_id==dfMenu.product_id,\"leftouter\").groupBy(\"product_name\").count().orderBy(\"count\",ascending=False).limit(5).show()"
      ],
      "metadata": {
        "id": "EJo7DaPVq874",
        "colab": {
          "base_uri": "https://localhost:8080/"
        },
        "outputId": "33ef9559-e418-44e0-d92f-7f974c24e2e1"
      },
      "execution_count": 24,
      "outputs": [
        {
          "output_type": "stream",
          "name": "stdout",
          "text": [
            "+------------+-----+\n",
            "|product_name|count|\n",
            "+------------+-----+\n",
            "|    sandwich|   48|\n",
            "|     Chowmin|   24|\n",
            "|       PIZZA|   21|\n",
            "|        Dosa|   12|\n",
            "|       Pasta|    6|\n",
            "+------------+-----+\n",
            "\n"
          ]
        }
      ]
    },
    {
      "cell_type": "markdown",
      "source": [
        "***Top ordered items***"
      ],
      "metadata": {
        "id": "z5MCnFfgq9X8"
      }
    },
    {
      "cell_type": "code",
      "source": [
        "df.join(dfMenu, df.product_id==dfMenu.product_id,\"leftouter\").groupBy(\"product_name\").count().orderBy(\"count\",ascending=False).limit(1).show()"
      ],
      "metadata": {
        "id": "AiATB245rAau",
        "colab": {
          "base_uri": "https://localhost:8080/"
        },
        "outputId": "aa943ed3-6750-414c-a170-9c0188a66dc8"
      },
      "execution_count": 25,
      "outputs": [
        {
          "output_type": "stream",
          "name": "stdout",
          "text": [
            "+------------+-----+\n",
            "|product_name|count|\n",
            "+------------+-----+\n",
            "|    sandwich|   48|\n",
            "+------------+-----+\n",
            "\n"
          ]
        }
      ]
    },
    {
      "cell_type": "markdown",
      "source": [
        "***Frequecy of customer visited in Restaurant***"
      ],
      "metadata": {
        "id": "4k8wyc2IrA3X"
      }
    },
    {
      "cell_type": "code",
      "source": [
        "from pyspark.sql.functions import count_distinct\n",
        "df.filter(df.order_source==\"Restaurant\").groupBy(\"customer_id\").agg(count_distinct(\"order_date\")).show()"
      ],
      "metadata": {
        "id": "oqB-8WyVrI7g",
        "colab": {
          "base_uri": "https://localhost:8080/"
        },
        "outputId": "04569384-90d2-4690-b53d-a62e66e4a43e"
      },
      "execution_count": 29,
      "outputs": [
        {
          "output_type": "stream",
          "name": "stdout",
          "text": [
            "+-----------+--------------------------+\n",
            "|customer_id|count(DISTINCT order_date)|\n",
            "+-----------+--------------------------+\n",
            "|          E|                         5|\n",
            "|          B|                         6|\n",
            "|          D|                         1|\n",
            "|          C|                         3|\n",
            "|          A|                         6|\n",
            "+-----------+--------------------------+\n",
            "\n"
          ]
        }
      ]
    },
    {
      "cell_type": "markdown",
      "source": [
        "***Total sales by each country***"
      ],
      "metadata": {
        "id": "ewKW5mPZrJWF"
      }
    },
    {
      "cell_type": "code",
      "source": [
        "df.join(dfMenu, df.product_id==dfMenu.product_id,\"leftouter\").groupBy(\"country\").sum(\"price\").show()"
      ],
      "metadata": {
        "id": "6BFSHeAMrMsG",
        "colab": {
          "base_uri": "https://localhost:8080/"
        },
        "outputId": "31883f18-54c9-48ef-e4e4-c3e6a53eb0d9"
      },
      "execution_count": 19,
      "outputs": [
        {
          "output_type": "stream",
          "name": "stdout",
          "text": [
            "+-------+----------+\n",
            "|country|sum(price)|\n",
            "+-------+----------+\n",
            "|  India|    4860.0|\n",
            "|    USA|    2460.0|\n",
            "|     UK|    7020.0|\n",
            "+-------+----------+\n",
            "\n"
          ]
        }
      ]
    },
    {
      "cell_type": "markdown",
      "source": [
        "***Total sales by order source***"
      ],
      "metadata": {
        "id": "rjflQMcVrNHL"
      }
    },
    {
      "cell_type": "code",
      "source": [
        "df.join(dfMenu, df.product_id==dfMenu.product_id,\"leftouter\").groupBy(\"order_source\").sum(\"price\").show()"
      ],
      "metadata": {
        "id": "p0-XXNMgrRSQ",
        "colab": {
          "base_uri": "https://localhost:8080/"
        },
        "outputId": "1303ecc2-199d-415e-ca8a-388fd2787051"
      },
      "execution_count": 20,
      "outputs": [
        {
          "output_type": "stream",
          "name": "stdout",
          "text": [
            "+------------+----------+\n",
            "|order_source|sum(price)|\n",
            "+------------+----------+\n",
            "|      zomato|    4920.0|\n",
            "|      Swiggy|    6330.0|\n",
            "|  Restaurant|    3090.0|\n",
            "+------------+----------+\n",
            "\n"
          ]
        }
      ]
    }
  ]
}