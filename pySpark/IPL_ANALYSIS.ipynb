{
  "nbformat": 4,
  "nbformat_minor": 0,
  "metadata": {
    "colab": {
      "provenance": [],
      "collapsed_sections": [
        "XENoeAB-4Inl",
        "SMFBtD_j4OkE",
        "c2WqOQYs4Y44"
      ],
      "authorship_tag": "ABX9TyP+jCwfZvuviYd8sOHic0sA",
      "include_colab_link": true
    },
    "kernelspec": {
      "name": "python3",
      "display_name": "Python 3"
    },
    "language_info": {
      "name": "python"
    }
  },
  "cells": [
    {
      "cell_type": "markdown",
      "metadata": {
        "id": "view-in-github",
        "colab_type": "text"
      },
      "source": [
        "<a href=\"https://colab.research.google.com/github/firojahmed1313/MlAITR/blob/main/pySpark/IPL_ANALYSIS.ipynb\" target=\"_parent\"><img src=\"https://colab.research.google.com/assets/colab-badge.svg\" alt=\"Open In Colab\"/></a>"
      ]
    },
    {
      "cell_type": "markdown",
      "source": [
        "### KPI"
      ],
      "metadata": {
        "id": "3rDNr27xWQro"
      }
    },
    {
      "cell_type": "markdown",
      "source": [
        "\n",
        "**Match-Level KPIs:**\n",
        "1. **Total Matches Played per Season**  \n",
        "   - Count of unique `id` per `season` in `match.csv`.  \n",
        "\n",
        "2. **Win Percentage of Teams**  \n",
        "   - `(Total Wins of a Team / Total Matches Played by the Team) * 100`  \n",
        "\n",
        "3. **Average Winning Margin (Runs & Wickets)**  \n",
        "   - If `result` is \"runs\", calculate the average `result_margin`.  \n",
        "   - If `result` is \"wickets\", calculate the average margin of wickets left.  \n",
        "\n",
        "4. **Batting First vs Bowling First Win Percentage**  \n",
        "   - Compare win rates of teams that won the toss and chose `toss_decision = \"bat\"` vs `\"field\"`.  \n",
        "\n",
        "**Batting KPIs (Using `deliveries.csv`):**\n",
        "5. **Top Run Scorers (Most Runs by Batter)**  \n",
        "   - Sum of `batsman_runs` grouped by `batter`.  \n",
        "\n",
        "6. **Batting Strike Rate (Player & Team Level)**  \n",
        "   - `Strike Rate = (Total Runs Scored / Total Balls Faced) * 100`  \n",
        "\n",
        "7. **Average Runs per Over by Team**  \n",
        "   - `Total Runs / Total Overs Faced` grouped by `batting_team`.  \n",
        "\n",
        "**Bowling KPIs:**\n",
        "8. **Top Wicket Takers**  \n",
        "   - Count of `is_wicket = 1` grouped by `bowler`.  \n",
        "\n",
        "9. **Bowling Economy (Runs Conceded per Over)**  \n",
        "   - `(Total Runs Given / Total Overs Bowled)` for each `bowler`.  \n",
        "\n",
        "10. **Dot Ball Percentage (Dot Balls / Total Balls Bowled)**  \n",
        "   - `(Count of deliveries where batsman_runs = 0) / (Total Balls Bowled) * 100`  \n",
        "\n",
        "---\n",
        "\n",
        "**Advanced Match-Level KPIs:**  \n",
        "1. **Clutch Performance Index (CPI) of Players**  \n",
        "   - Evaluates a player's performance in high-pressure situations (e.g., last 5 overs, chasing high targets).  \n",
        "   - Formula: `(Runs/Wickets Taken in last 5 overs) / (Total Runs/Wickets in the match) * 100`  \n",
        "\n",
        "2. **Toss Impact Factor**  \n",
        "   - Measures whether winning the toss influences match results.  \n",
        "   - `Win Percentage When Toss Won - Win Percentage When Toss Lost`.  \n",
        "\n",
        "3. **Impact of Toss Decision on Match Outcome**  \n",
        "   - Check if `toss_decision` (bat or field) affects win probability based on past matches.  \n",
        "\n",
        "4. **Home Advantage Analysis**  \n",
        "   - Calculate the win percentage of teams when playing in their home city.  \n",
        "\n",
        "---\n",
        "\n",
        "**Advanced Batting KPIs:**  \n",
        "5. **Boundary Frequency (Per Over & Per Batter)**  \n",
        "   - `Total Boundaries (4s & 6s) / Total Balls Faced`.  \n",
        "\n",
        "6. **Dot Ball Pressure Index (DBPI)**  \n",
        "   - Identifies batsmen under pressure due to dot balls.  \n",
        "   - `DBPI = (Total Dot Balls Faced / Total Balls Faced) * 100`.  \n",
        "\n",
        "7. **Batting Consistency Score**  \n",
        "   - Uses standard deviation of a player's scores to see if they are consistent or streaky.  \n",
        "   - Lower standard deviation → More consistent.  \n",
        "\n",
        "8. **Explosiveness Rating (Powerplay & Death Overs Performance)**  \n",
        "   - `(Runs Scored in Overs 16-20) / (Total Runs Scored in the Match) * 100`.  \n",
        "\n",
        "---\n",
        "\n",
        "**Advanced Bowling KPIs:**  \n",
        "9. **Death Over Economy Rate**  \n",
        "   - `Total Runs Conceded in Overs 16-20 / Total Overs Bowled in 16-20`.  \n",
        "\n",
        "10. **Bowler’s Pressure Index**  \n",
        "   - `(Total Runs Given in Last 5 Overs / Total Wickets Taken in Last 5 Overs)`.  \n",
        "   - Lower values mean the bowler performs well under pressure.  \n",
        "\n",
        "11. **Bowler’s Match Impact Factor**  \n",
        "   - `(Wickets Taken + (Total Runs Prevented vs Team's Average))`.  \n",
        "   - This shows if a bowler conceded fewer runs than the average team economy rate.  \n",
        "\n",
        "12. **Wicket Conversion Rate (WCR)**  \n",
        "   - `(Total Wickets Taken / Total Balls Bowled) * 100`.  \n",
        "\n",
        "---\n",
        "\n",
        "**Team-Level KPIs:**  \n",
        "13. **Middle Order Stability Score**  \n",
        "   - `(Runs Scored by Batters at Positions 4-7) / (Total Runs Scored by the Team) * 100`.  \n",
        "\n",
        "14. **Net Run Rate (NRR) Trends Per Season**  \n",
        "   - `(Total Runs Scored per Over - Total Runs Conceded per Over)`.  \n",
        "   - Analyzing how NRR trends change per season.  \n",
        "\n",
        "15. **Match Closer Effectiveness**  \n",
        "   - Evaluates a team's performance in close matches (victory margin < 10 runs or < 2 wickets).  \n",
        "\n",
        "---\n"
      ],
      "metadata": {
        "id": "1tRnpH52TV0E"
      }
    },
    {
      "cell_type": "code",
      "source": [],
      "metadata": {
        "id": "-Tz8KiHJTVWQ"
      },
      "execution_count": null,
      "outputs": []
    },
    {
      "cell_type": "markdown",
      "source": [
        "### Starting"
      ],
      "metadata": {
        "id": "MqMZ8LsfYOhm"
      }
    },
    {
      "cell_type": "code",
      "execution_count": 1,
      "metadata": {
        "id": "fT3tFwANshe1"
      },
      "outputs": [],
      "source": [
        "from pyspark.sql import SparkSession"
      ]
    },
    {
      "cell_type": "code",
      "source": [
        "spark = SparkSession.builder.appName(\"IPL\").getOrCreate()\n",
        "spark"
      ],
      "metadata": {
        "colab": {
          "base_uri": "https://localhost:8080/",
          "height": 219
        },
        "id": "y6tiy2ens7NT",
        "outputId": "d468d309-1fcd-431b-f6af-e36fff3b9a95"
      },
      "execution_count": 2,
      "outputs": [
        {
          "output_type": "execute_result",
          "data": {
            "text/plain": [
              "<pyspark.sql.session.SparkSession at 0x7c10b365c810>"
            ],
            "text/html": [
              "\n",
              "            <div>\n",
              "                <p><b>SparkSession - in-memory</b></p>\n",
              "                \n",
              "        <div>\n",
              "            <p><b>SparkContext</b></p>\n",
              "\n",
              "            <p><a href=\"http://e40688a9b85c:4040\">Spark UI</a></p>\n",
              "\n",
              "            <dl>\n",
              "              <dt>Version</dt>\n",
              "                <dd><code>v3.5.5</code></dd>\n",
              "              <dt>Master</dt>\n",
              "                <dd><code>local[*]</code></dd>\n",
              "              <dt>AppName</dt>\n",
              "                <dd><code>IPL</code></dd>\n",
              "            </dl>\n",
              "        </div>\n",
              "        \n",
              "            </div>\n",
              "        "
            ]
          },
          "metadata": {},
          "execution_count": 2
        }
      ]
    },
    {
      "cell_type": "code",
      "source": [
        "from pyspark.sql.types import StructType,StructField,StringType,IntegerType,DateType"
      ],
      "metadata": {
        "id": "WRlfjr6TOknd"
      },
      "execution_count": 3,
      "outputs": []
    },
    {
      "cell_type": "code",
      "source": [
        "MatchSchema = StructType([\n",
        "    StructField(\"id\",IntegerType(),True),\n",
        "    StructField(\"season\",StringType(),True),\n",
        "    StructField(\"city\",StringType(),True),\n",
        "    StructField(\"date\",DateType(),True),\n",
        "    StructField(\"match_type\",StringType(),True),\n",
        "    StructField(\"player_of_match\",StringType(),True),\n",
        "    StructField(\"venue\",StringType(),True),\n",
        "    StructField(\"team1\",StringType(),True),\n",
        "    StructField(\"team2\",StringType(),True),\n",
        "    StructField(\"toss_winner\",StringType(),True),\n",
        "    StructField(\"toss_decision\",StringType(),True),\n",
        "    StructField(\"winner\",StringType(),True),\n",
        "    StructField(\"result\",StringType(),True),\n",
        "    StructField(\"result_margin\",IntegerType(),True),\n",
        "    StructField(\"target_runs\",IntegerType(),True),\n",
        "    StructField(\"target_overs\",IntegerType(),True),\n",
        "    StructField(\"super_over\",StringType(),True),\n",
        "    StructField(\"method\",StringType(),True),\n",
        "    StructField(\"umpire1\",StringType(),True),\n",
        "    StructField(\"umpire2\",StringType(),True),\n",
        "])"
      ],
      "metadata": {
        "id": "1BO9EdKJOgpW"
      },
      "execution_count": 4,
      "outputs": []
    },
    {
      "cell_type": "code",
      "source": [
        "dfMatch=spark.read.format(\"csv\").option(\"header\",True).schema(MatchSchema).load(\"/content/sample_data/matches.csv\")\n",
        "dfMatch.show()\n",
        "dfMatch.printSchema()"
      ],
      "metadata": {
        "id": "xFotevlGs7vT",
        "colab": {
          "base_uri": "https://localhost:8080/"
        },
        "outputId": "91e42923-9aa1-438d-a7d6-ef32c5f32bfc"
      },
      "execution_count": 5,
      "outputs": [
        {
          "output_type": "stream",
          "name": "stdout",
          "text": [
            "+------+-------+----------+----------+----------+---------------+--------------------+--------------------+--------------------+--------------------+-------------+--------------------+-------+-------------+-----------+------------+----------+------+-----------+--------------+\n",
            "|    id| season|      city|      date|match_type|player_of_match|               venue|               team1|               team2|         toss_winner|toss_decision|              winner| result|result_margin|target_runs|target_overs|super_over|method|    umpire1|       umpire2|\n",
            "+------+-------+----------+----------+----------+---------------+--------------------+--------------------+--------------------+--------------------+-------------+--------------------+-------+-------------+-----------+------------+----------+------+-----------+--------------+\n",
            "|335982|2007/08| Bangalore|2008-04-18|    League|    BB McCullum|M Chinnaswamy Sta...|Royal Challengers...|Kolkata Knight Ri...|Royal Challengers...|        field|Kolkata Knight Ri...|   runs|          140|        223|          20|         N|    NA|  Asad Rauf|   RE Koertzen|\n",
            "|335983|2007/08|Chandigarh|2008-04-19|    League|     MEK Hussey|Punjab Cricket As...|     Kings XI Punjab| Chennai Super Kings| Chennai Super Kings|          bat| Chennai Super Kings|   runs|           33|        241|          20|         N|    NA|  MR Benson|    SL Shastri|\n",
            "|335984|2007/08|     Delhi|2008-04-19|    League|    MF Maharoof|    Feroz Shah Kotla|    Delhi Daredevils|    Rajasthan Royals|    Rajasthan Royals|          bat|    Delhi Daredevils|wickets|            9|        130|          20|         N|    NA|  Aleem Dar|GA Pratapkumar|\n",
            "|335985|2007/08|    Mumbai|2008-04-20|    League|     MV Boucher|    Wankhede Stadium|      Mumbai Indians|Royal Challengers...|      Mumbai Indians|          bat|Royal Challengers...|wickets|            5|        166|          20|         N|    NA|   SJ Davis|     DJ Harper|\n",
            "|335986|2007/08|   Kolkata|2008-04-20|    League|      DJ Hussey|        Eden Gardens|Kolkata Knight Ri...|     Deccan Chargers|     Deccan Chargers|          bat|Kolkata Knight Ri...|wickets|            5|        111|          20|         N|    NA|  BF Bowden|   K Hariharan|\n",
            "|335987|2007/08|    Jaipur|2008-04-21|    League|      SR Watson|Sawai Mansingh St...|    Rajasthan Royals|     Kings XI Punjab|     Kings XI Punjab|          bat|    Rajasthan Royals|wickets|            6|        167|          20|         N|    NA|  Aleem Dar|     RB Tiffin|\n",
            "|335988|2007/08| Hyderabad|2008-04-22|    League|       V Sehwag|Rajiv Gandhi Inte...|     Deccan Chargers|    Delhi Daredevils|     Deccan Chargers|          bat|    Delhi Daredevils|wickets|            9|        143|          20|         N|    NA|  IL Howell|     AM Saheba|\n",
            "|335989|2007/08|   Chennai|2008-04-23|    League|      ML Hayden|MA Chidambaram St...| Chennai Super Kings|      Mumbai Indians|      Mumbai Indians|        field| Chennai Super Kings|   runs|            6|        209|          20|         N|    NA|  DJ Harper|GA Pratapkumar|\n",
            "|335990|2007/08| Hyderabad|2008-04-24|    League|      YK Pathan|Rajiv Gandhi Inte...|     Deccan Chargers|    Rajasthan Royals|    Rajasthan Royals|        field|    Rajasthan Royals|wickets|            3|        215|          20|         N|    NA|  Asad Rauf|     MR Benson|\n",
            "|335991|2007/08|Chandigarh|2008-04-25|    League|  KC Sangakkara|Punjab Cricket As...|     Kings XI Punjab|      Mumbai Indians|      Mumbai Indians|        field|     Kings XI Punjab|   runs|           66|        183|          20|         N|    NA|  Aleem Dar|     AM Saheba|\n",
            "|335992|2007/08| Bangalore|2008-04-26|    League|      SR Watson|M Chinnaswamy Sta...|Royal Challengers...|    Rajasthan Royals|    Rajasthan Royals|        field|    Rajasthan Royals|wickets|            7|        136|          20|         N|    NA|  MR Benson|     IL Howell|\n",
            "|335993|2007/08|   Chennai|2008-04-26|    League|       JDP Oram|MA Chidambaram St...| Chennai Super Kings|Kolkata Knight Ri...|Kolkata Knight Ri...|          bat| Chennai Super Kings|wickets|            9|        148|          20|         N|    NA|  BF Bowden|AV Jayaprakash|\n",
            "|335994|2007/08|    Mumbai|2008-04-27|    League|   AC Gilchrist|Dr DY Patil Sport...|      Mumbai Indians|     Deccan Chargers|     Deccan Chargers|        field|     Deccan Chargers|wickets|           10|        155|          20|         N|    NA|  Asad Rauf|    SL Shastri|\n",
            "|335995|2007/08|Chandigarh|2008-04-27|    League|      SM Katich|Punjab Cricket As...|     Kings XI Punjab|    Delhi Daredevils|    Delhi Daredevils|          bat|     Kings XI Punjab|wickets|            4|        159|          20|         N|    NA|RE Koertzen|     I Shivram|\n",
            "|335996|2007/08| Bangalore|2008-04-28|    League|       MS Dhoni|M Chinnaswamy Sta...|Royal Challengers...| Chennai Super Kings| Chennai Super Kings|          bat| Chennai Super Kings|   runs|           13|        179|          20|         N|    NA|BR Doctrove|     RB Tiffin|\n",
            "|335997|2007/08|   Kolkata|2008-04-29|    League|  ST Jayasuriya|        Eden Gardens|Kolkata Knight Ri...|      Mumbai Indians|Kolkata Knight Ri...|          bat|      Mumbai Indians|wickets|            7|        138|          20|         N|    NA|  BF Bowden|AV Jayaprakash|\n",
            "|335998|2007/08|     Delhi|2008-04-30|    League|     GD McGrath|    Feroz Shah Kotla|    Delhi Daredevils|Royal Challengers...|Royal Challengers...|        field|    Delhi Daredevils|   runs|           10|        192|          20|         N|    NA|  Aleem Dar|     I Shivram|\n",
            "|335999|2007/08| Hyderabad|2008-05-01|    League|       SE Marsh|Rajiv Gandhi Inte...|     Deccan Chargers|     Kings XI Punjab|     Kings XI Punjab|        field|     Kings XI Punjab|wickets|            7|        165|          20|         N|    NA|BR Doctrove|     RB Tiffin|\n",
            "|336000|2007/08|    Jaipur|2008-05-01|    League|    SA Asnodkar|Sawai Mansingh St...|    Rajasthan Royals|Kolkata Knight Ri...|    Rajasthan Royals|          bat|    Rajasthan Royals|   runs|           45|        197|          20|         N|    NA|RE Koertzen|GA Pratapkumar|\n",
            "|336001|2007/08|   Chennai|2008-05-02|    League|       V Sehwag|MA Chidambaram St...| Chennai Super Kings|    Delhi Daredevils| Chennai Super Kings|          bat|    Delhi Daredevils|wickets|            8|        170|          20|         N|    NA|  BF Bowden|   K Hariharan|\n",
            "+------+-------+----------+----------+----------+---------------+--------------------+--------------------+--------------------+--------------------+-------------+--------------------+-------+-------------+-----------+------------+----------+------+-----------+--------------+\n",
            "only showing top 20 rows\n",
            "\n",
            "root\n",
            " |-- id: integer (nullable = true)\n",
            " |-- season: string (nullable = true)\n",
            " |-- city: string (nullable = true)\n",
            " |-- date: date (nullable = true)\n",
            " |-- match_type: string (nullable = true)\n",
            " |-- player_of_match: string (nullable = true)\n",
            " |-- venue: string (nullable = true)\n",
            " |-- team1: string (nullable = true)\n",
            " |-- team2: string (nullable = true)\n",
            " |-- toss_winner: string (nullable = true)\n",
            " |-- toss_decision: string (nullable = true)\n",
            " |-- winner: string (nullable = true)\n",
            " |-- result: string (nullable = true)\n",
            " |-- result_margin: integer (nullable = true)\n",
            " |-- target_runs: integer (nullable = true)\n",
            " |-- target_overs: integer (nullable = true)\n",
            " |-- super_over: string (nullable = true)\n",
            " |-- method: string (nullable = true)\n",
            " |-- umpire1: string (nullable = true)\n",
            " |-- umpire2: string (nullable = true)\n",
            "\n"
          ]
        }
      ]
    },
    {
      "cell_type": "code",
      "source": [
        "SchemaDeliver = StructType([\n",
        "    StructField(\"id\",IntegerType(),True),\n",
        "    StructField(\"inning\",IntegerType(),True),\n",
        "    StructField(\"batting_team\",StringType(),True),\n",
        "    StructField(\"bowling_team\",StringType(),True),\n",
        "    StructField(\"over\",IntegerType(),True),\n",
        "    StructField(\"ball\",IntegerType(),True),\n",
        "    StructField(\"batsman\",StringType(),True),\n",
        "    StructField(\"bowler\",StringType(),True),\n",
        "    StructField(\"non_striker\",StringType(),True),\n",
        "    StructField(\"batsman_runs\",IntegerType(),False),\n",
        "    StructField(\"extra_runs\",IntegerType(),True),\n",
        "    StructField(\"total_runs\",IntegerType(),True),\n",
        "    StructField(\"extra_type\",StringType(),True),\n",
        "    StructField(\"is_wicket\",IntegerType(),True),\n",
        "    StructField(\"player_dismissed\",StringType(),True),\n",
        "    StructField(\"dismissal_kind\",StringType(),True),\n",
        "    StructField(\"fielder\",StringType(),True),\n",
        "\n",
        "])"
      ],
      "metadata": {
        "id": "CYwTV1F8Ro6C"
      },
      "execution_count": 6,
      "outputs": []
    },
    {
      "cell_type": "code",
      "source": [
        "dfDeliver=spark.read.format(\"csv\").option(\"header\",True).schema(SchemaDeliver).load(\"/content/sample_data/deliveries.csv\")\n",
        "dfDeliver.show()\n",
        "dfDeliver.printSchema()"
      ],
      "metadata": {
        "id": "SVM37KCws8HS",
        "colab": {
          "base_uri": "https://localhost:8080/"
        },
        "outputId": "b40d3e8d-3ba4-4c76-c932-6d55899ba75a"
      },
      "execution_count": 7,
      "outputs": [
        {
          "output_type": "stream",
          "name": "stdout",
          "text": [
            "+------+------+--------------------+--------------------+----+----+-----------+---------+-----------+------------+----------+----------+----------+---------+----------------+--------------+-------+\n",
            "|    id|inning|        batting_team|        bowling_team|over|ball|    batsman|   bowler|non_striker|batsman_runs|extra_runs|total_runs|extra_type|is_wicket|player_dismissed|dismissal_kind|fielder|\n",
            "+------+------+--------------------+--------------------+----+----+-----------+---------+-----------+------------+----------+----------+----------+---------+----------------+--------------+-------+\n",
            "|335982|     1|Kolkata Knight Ri...|Royal Challengers...|   0|   1| SC Ganguly|  P Kumar|BB McCullum|           0|         1|         1|   legbyes|        0|              NA|            NA|     NA|\n",
            "|335982|     1|Kolkata Knight Ri...|Royal Challengers...|   0|   2|BB McCullum|  P Kumar| SC Ganguly|           0|         0|         0|      NULL|        0|              NA|            NA|     NA|\n",
            "|335982|     1|Kolkata Knight Ri...|Royal Challengers...|   0|   3|BB McCullum|  P Kumar| SC Ganguly|           0|         1|         1|     wides|        0|              NA|            NA|     NA|\n",
            "|335982|     1|Kolkata Knight Ri...|Royal Challengers...|   0|   4|BB McCullum|  P Kumar| SC Ganguly|           0|         0|         0|      NULL|        0|              NA|            NA|     NA|\n",
            "|335982|     1|Kolkata Knight Ri...|Royal Challengers...|   0|   5|BB McCullum|  P Kumar| SC Ganguly|           0|         0|         0|      NULL|        0|              NA|            NA|     NA|\n",
            "|335982|     1|Kolkata Knight Ri...|Royal Challengers...|   0|   6|BB McCullum|  P Kumar| SC Ganguly|           0|         0|         0|      NULL|        0|              NA|            NA|     NA|\n",
            "|335982|     1|Kolkata Knight Ri...|Royal Challengers...|   0|   7|BB McCullum|  P Kumar| SC Ganguly|           0|         1|         1|   legbyes|        0|              NA|            NA|     NA|\n",
            "|335982|     1|Kolkata Knight Ri...|Royal Challengers...|   1|   1|BB McCullum|   Z Khan| SC Ganguly|           0|         0|         0|      NULL|        0|              NA|            NA|     NA|\n",
            "|335982|     1|Kolkata Knight Ri...|Royal Challengers...|   1|   2|BB McCullum|   Z Khan| SC Ganguly|           4|         0|         4|      NULL|        0|              NA|            NA|     NA|\n",
            "|335982|     1|Kolkata Knight Ri...|Royal Challengers...|   1|   3|BB McCullum|   Z Khan| SC Ganguly|           4|         0|         4|      NULL|        0|              NA|            NA|     NA|\n",
            "|335982|     1|Kolkata Knight Ri...|Royal Challengers...|   1|   4|BB McCullum|   Z Khan| SC Ganguly|           6|         0|         6|      NULL|        0|              NA|            NA|     NA|\n",
            "|335982|     1|Kolkata Knight Ri...|Royal Challengers...|   1|   5|BB McCullum|   Z Khan| SC Ganguly|           4|         0|         4|      NULL|        0|              NA|            NA|     NA|\n",
            "|335982|     1|Kolkata Knight Ri...|Royal Challengers...|   1|   6|BB McCullum|   Z Khan| SC Ganguly|           0|         0|         0|      NULL|        0|              NA|            NA|     NA|\n",
            "|335982|     1|Kolkata Knight Ri...|Royal Challengers...|   2|   1| SC Ganguly|  P Kumar|BB McCullum|           0|         0|         0|      NULL|        0|              NA|            NA|     NA|\n",
            "|335982|     1|Kolkata Knight Ri...|Royal Challengers...|   2|   2| SC Ganguly|  P Kumar|BB McCullum|           0|         0|         0|      NULL|        0|              NA|            NA|     NA|\n",
            "|335982|     1|Kolkata Knight Ri...|Royal Challengers...|   2|   3| SC Ganguly|  P Kumar|BB McCullum|           0|         1|         1|   legbyes|        0|              NA|            NA|     NA|\n",
            "|335982|     1|Kolkata Knight Ri...|Royal Challengers...|   2|   4|BB McCullum|  P Kumar| SC Ganguly|           4|         0|         4|      NULL|        0|              NA|            NA|     NA|\n",
            "|335982|     1|Kolkata Knight Ri...|Royal Challengers...|   2|   5|BB McCullum|  P Kumar| SC Ganguly|           1|         0|         1|      NULL|        0|              NA|            NA|     NA|\n",
            "|335982|     1|Kolkata Knight Ri...|Royal Challengers...|   2|   6| SC Ganguly|  P Kumar|BB McCullum|           0|         0|         0|      NULL|        0|              NA|            NA|     NA|\n",
            "|335982|     1|Kolkata Knight Ri...|Royal Challengers...|   3|   1|BB McCullum|AA Noffke| SC Ganguly|           0|         5|         5|     wides|        0|              NA|            NA|     NA|\n",
            "+------+------+--------------------+--------------------+----+----+-----------+---------+-----------+------------+----------+----------+----------+---------+----------------+--------------+-------+\n",
            "only showing top 20 rows\n",
            "\n",
            "root\n",
            " |-- id: integer (nullable = true)\n",
            " |-- inning: integer (nullable = true)\n",
            " |-- batting_team: string (nullable = true)\n",
            " |-- bowling_team: string (nullable = true)\n",
            " |-- over: integer (nullable = true)\n",
            " |-- ball: integer (nullable = true)\n",
            " |-- batsman: string (nullable = true)\n",
            " |-- bowler: string (nullable = true)\n",
            " |-- non_striker: string (nullable = true)\n",
            " |-- batsman_runs: integer (nullable = true)\n",
            " |-- extra_runs: integer (nullable = true)\n",
            " |-- total_runs: integer (nullable = true)\n",
            " |-- extra_type: string (nullable = true)\n",
            " |-- is_wicket: integer (nullable = true)\n",
            " |-- player_dismissed: string (nullable = true)\n",
            " |-- dismissal_kind: string (nullable = true)\n",
            " |-- fielder: string (nullable = true)\n",
            "\n"
          ]
        }
      ]
    },
    {
      "cell_type": "code",
      "source": [
        "from pyspark.sql.functions import countDistinct,count,round,avg,col"
      ],
      "metadata": {
        "id": "jN_j4MI1s8fB"
      },
      "execution_count": 8,
      "outputs": []
    },
    {
      "cell_type": "markdown",
      "source": [
        "### First Part"
      ],
      "metadata": {
        "id": "XENoeAB-4Inl"
      }
    },
    {
      "cell_type": "markdown",
      "source": [
        "***Total Matches Played per Season***"
      ],
      "metadata": {
        "id": "uvZEGRC3s9y_"
      }
    },
    {
      "cell_type": "code",
      "source": [
        "tmdf= dfMatch.groupBy(\"season\").agg(countDistinct(\"id\").alias(\"count\"))\n",
        "tmdf.sort(\"count\",ascending=False).show()"
      ],
      "metadata": {
        "id": "PNo9VC4GtGco",
        "colab": {
          "base_uri": "https://localhost:8080/"
        },
        "outputId": "2cff26dc-1301-4904-e8aa-216d89c28370"
      },
      "execution_count": 9,
      "outputs": [
        {
          "output_type": "stream",
          "name": "stdout",
          "text": [
            "+-------+-----+\n",
            "| season|count|\n",
            "+-------+-----+\n",
            "|   2013|   76|\n",
            "|   2012|   74|\n",
            "|   2022|   74|\n",
            "|   2023|   74|\n",
            "|   2011|   73|\n",
            "|   2024|   71|\n",
            "|2009/10|   60|\n",
            "|   2016|   60|\n",
            "|   2019|   60|\n",
            "|   2014|   60|\n",
            "|2020/21|   60|\n",
            "|   2018|   60|\n",
            "|   2021|   60|\n",
            "|   2017|   59|\n",
            "|   2015|   59|\n",
            "|2007/08|   58|\n",
            "|   2009|   57|\n",
            "+-------+-----+\n",
            "\n"
          ]
        }
      ]
    },
    {
      "cell_type": "markdown",
      "source": [
        "**Win Percentage of Teams**"
      ],
      "metadata": {
        "id": "kwYPsCv6tHVr"
      }
    },
    {
      "cell_type": "code",
      "source": [
        "matches_played = dfMatch.groupBy(\"team1\").agg(count(\"id\").alias(\"matches_played\")) \\\n",
        "    .union(dfMatch.groupBy(\"team2\").agg(count(\"id\").alias(\"matches_played\"))) \\\n",
        "    .groupBy(\"team1\").sum(\"matches_played\").withColumnRenamed(\"sum(matches_played)\", \"no_matches_played\").withColumnRenamed(\"team1\", \"team\")"
      ],
      "metadata": {
        "id": "o1yv60sqtM8D"
      },
      "execution_count": 10,
      "outputs": []
    },
    {
      "cell_type": "code",
      "source": [
        "matches_won= dfMatch.groupBy(\"winner\").agg(count(\"winner\").alias(\"matches_won\")).withColumnRenamed(\"winner\", \"team\")"
      ],
      "metadata": {
        "id": "cPYxtD2NeexY"
      },
      "execution_count": 11,
      "outputs": []
    },
    {
      "cell_type": "code",
      "source": [
        "dfWinPer = matches_played.join(matches_won, matches_played.team == matches_won.team,\"left\").drop(matches_won.team).fillna(0)\n",
        "dfWinPer.withColumn(\"win_percentage\", (dfWinPer[\"matches_won\"] / dfWinPer[\"no_matches_played\"]) * 100).withColumn(\"win_percentage\", round(\"win_percentage\", 2)).drop(\"matches_won\").drop(\"no_matches_played\").show()"
      ],
      "metadata": {
        "colab": {
          "base_uri": "https://localhost:8080/"
        },
        "id": "8HBNASj8fC8y",
        "outputId": "219b059d-3f64-44f2-842c-4d3663f37d94"
      },
      "execution_count": 12,
      "outputs": [
        {
          "output_type": "stream",
          "name": "stdout",
          "text": [
            "+--------------------+--------------+\n",
            "|                team|win_percentage|\n",
            "+--------------------+--------------+\n",
            "| Sunrisers Hyderabad|         48.35|\n",
            "|Lucknow Super Giants|         54.55|\n",
            "| Chennai Super Kings|         57.98|\n",
            "|      Gujarat Titans|         62.22|\n",
            "|Royal Challengers...|         46.67|\n",
            "|Rising Pune Super...|          62.5|\n",
            "|     Deccan Chargers|         38.67|\n",
            "|Kochi Tuskers Kerala|         42.86|\n",
            "|    Rajasthan Royals|         50.68|\n",
            "|       Gujarat Lions|         43.33|\n",
            "|Royal Challengers...|         48.33|\n",
            "|Kolkata Knight Ri...|         52.19|\n",
            "|Rising Pune Super...|         35.71|\n",
            "|     Kings XI Punjab|         46.32|\n",
            "|        Punjab Kings|         42.86|\n",
            "|       Pune Warriors|         26.09|\n",
            "|    Delhi Daredevils|         41.61|\n",
            "|      Delhi Capitals|         52.75|\n",
            "|      Mumbai Indians|         55.17|\n",
            "+--------------------+--------------+\n",
            "\n"
          ]
        }
      ]
    },
    {
      "cell_type": "markdown",
      "source": [
        "**Average Winning Margin (Runs & Wickets)**"
      ],
      "metadata": {
        "id": "yAsR4GR9tNkf"
      }
    },
    {
      "cell_type": "code",
      "source": [
        "fdMargin = dfMatch.filter(dfMatch.result != \"ties\").groupBy(\"winner\",\"result\").avg(\"result_margin\").withColumnRenamed(\"avg(result_margin)\", \"avg_margin\")\\\n",
        "    .withColumn(\"avg_margin\", round(\"avg_margin\", 2)).sort(\"winner\",\"result\")\n",
        "fdMargin.show()"
      ],
      "metadata": {
        "id": "SLD_SWQxtUZc",
        "colab": {
          "base_uri": "https://localhost:8080/"
        },
        "outputId": "4e7ea61e-ddcf-4080-bf4e-f9e9d5ce7ccd"
      },
      "execution_count": 13,
      "outputs": [
        {
          "output_type": "stream",
          "name": "stdout",
          "text": [
            "+--------------------+-------+----------+\n",
            "|              winner| result|avg_margin|\n",
            "+--------------------+-------+----------+\n",
            "| Chennai Super Kings|   runs|     34.94|\n",
            "| Chennai Super Kings|wickets|      6.03|\n",
            "|     Deccan Chargers|   runs|     23.39|\n",
            "|     Deccan Chargers|wickets|      6.55|\n",
            "|      Delhi Capitals|   runs|      24.0|\n",
            "|      Delhi Capitals|    tie|      NULL|\n",
            "|      Delhi Capitals|wickets|      5.67|\n",
            "|    Delhi Daredevils|   runs|      27.0|\n",
            "|    Delhi Daredevils|wickets|      6.55|\n",
            "|       Gujarat Lions|   runs|       1.0|\n",
            "|       Gujarat Lions|wickets|      5.42|\n",
            "|      Gujarat Titans|   runs|     34.18|\n",
            "|      Gujarat Titans|wickets|      5.76|\n",
            "|     Kings XI Punjab|   runs|     25.85|\n",
            "|     Kings XI Punjab|    tie|      NULL|\n",
            "|     Kings XI Punjab|wickets|      6.42|\n",
            "|Kochi Tuskers Kerala|   runs|      11.5|\n",
            "|Kochi Tuskers Kerala|wickets|       7.5|\n",
            "|Kolkata Knight Ri...|   runs|     33.59|\n",
            "|Kolkata Knight Ri...|    tie|      NULL|\n",
            "+--------------------+-------+----------+\n",
            "only showing top 20 rows\n",
            "\n"
          ]
        }
      ]
    },
    {
      "cell_type": "code",
      "source": [
        "avg_runs_margin = dfMatch.filter(col(\"result\") == \"runs\") \\\n",
        "    .agg(avg(\"result_margin\").alias(\"avg_win_margin_runs\"))\n",
        "\n",
        "avg_wickets_margin = dfMatch.filter(col(\"result\") == \"wickets\") \\\n",
        "    .agg(avg(\"result_margin\").alias(\"avg_win_margin_wickets\"))\n",
        "\n",
        "avg_runs_margin.show()\n",
        "avg_wickets_margin.show()"
      ],
      "metadata": {
        "colab": {
          "base_uri": "https://localhost:8080/"
        },
        "id": "2x4HzSqjoc63",
        "outputId": "7bdfcddd-7137-459e-cb9f-c365141d3df5"
      },
      "execution_count": 14,
      "outputs": [
        {
          "output_type": "stream",
          "name": "stdout",
          "text": [
            "+-------------------+\n",
            "|avg_win_margin_runs|\n",
            "+-------------------+\n",
            "| 30.104417670682732|\n",
            "+-------------------+\n",
            "\n",
            "+----------------------+\n",
            "|avg_win_margin_wickets|\n",
            "+----------------------+\n",
            "|     6.192041522491349|\n",
            "+----------------------+\n",
            "\n"
          ]
        }
      ]
    },
    {
      "cell_type": "markdown",
      "source": [
        "**Batting First vs Bowling First Win Percentage**"
      ],
      "metadata": {
        "id": "ESdMPYzptU5M"
      }
    },
    {
      "cell_type": "code",
      "source": [
        "fdwinpbb = dfMatch.groupBy(\"winner\",\"toss_decision\").count().sort(\"winner\",\"toss_decision\")\n",
        "fdwinpbb = fdwinpbb.withColumnRenamed(\"count\", \"no_of_wins\").withColumnRenamed(\"winner\", \"team\")\n",
        "fdwinpbb.show()"
      ],
      "metadata": {
        "id": "i-AMttg0tbWx",
        "colab": {
          "base_uri": "https://localhost:8080/"
        },
        "outputId": "db0a5ef1-df95-4cef-b5c9-ae120cc3d9cd"
      },
      "execution_count": 15,
      "outputs": [
        {
          "output_type": "stream",
          "name": "stdout",
          "text": [
            "+--------------------+-------------+----------+\n",
            "|                team|toss_decision|no_of_wins|\n",
            "+--------------------+-------------+----------+\n",
            "| Chennai Super Kings|          bat|        63|\n",
            "| Chennai Super Kings|        field|        75|\n",
            "|     Deccan Chargers|          bat|        14|\n",
            "|     Deccan Chargers|        field|        15|\n",
            "|      Delhi Capitals|          bat|        13|\n",
            "|      Delhi Capitals|        field|        35|\n",
            "|    Delhi Daredevils|          bat|        29|\n",
            "|    Delhi Daredevils|        field|        38|\n",
            "|       Gujarat Lions|          bat|         2|\n",
            "|       Gujarat Lions|        field|        11|\n",
            "|      Gujarat Titans|          bat|         9|\n",
            "|      Gujarat Titans|        field|        19|\n",
            "|     Kings XI Punjab|          bat|        24|\n",
            "|     Kings XI Punjab|        field|        64|\n",
            "|Kochi Tuskers Kerala|        field|         6|\n",
            "|Kolkata Knight Ri...|          bat|        50|\n",
            "|Kolkata Knight Ri...|        field|        81|\n",
            "|Lucknow Super Giants|          bat|         6|\n",
            "|Lucknow Super Giants|        field|        18|\n",
            "|      Mumbai Indians|          bat|        54|\n",
            "+--------------------+-------------+----------+\n",
            "only showing top 20 rows\n",
            "\n"
          ]
        }
      ]
    },
    {
      "cell_type": "code",
      "source": [
        "fdwin= fdwinpbb.join(matches_won, fdwinpbb.team == matches_won.team,\"left\").drop(matches_won.team).fillna(0).sort(\"team\",\"toss_decision\")\n",
        "fdwin.withColumn(\"win_percentage\", (fdwin[\"no_of_wins\"] / fdwin[\"matches_won\"]) * 100).withColumn(\"win_percentage\", round(\"win_percentage\", 2)).show()"
      ],
      "metadata": {
        "colab": {
          "base_uri": "https://localhost:8080/"
        },
        "id": "snbu45Ap29Hc",
        "outputId": "4fcafe10-f0af-44c8-a09e-92e1e9a169cc"
      },
      "execution_count": 16,
      "outputs": [
        {
          "output_type": "stream",
          "name": "stdout",
          "text": [
            "+--------------------+-------------+----------+-----------+--------------+\n",
            "|                team|toss_decision|no_of_wins|matches_won|win_percentage|\n",
            "+--------------------+-------------+----------+-----------+--------------+\n",
            "| Chennai Super Kings|          bat|        63|        138|         45.65|\n",
            "| Chennai Super Kings|        field|        75|        138|         54.35|\n",
            "|     Deccan Chargers|          bat|        14|         29|         48.28|\n",
            "|     Deccan Chargers|        field|        15|         29|         51.72|\n",
            "|      Delhi Capitals|          bat|        13|         48|         27.08|\n",
            "|      Delhi Capitals|        field|        35|         48|         72.92|\n",
            "|    Delhi Daredevils|          bat|        29|         67|         43.28|\n",
            "|    Delhi Daredevils|        field|        38|         67|         56.72|\n",
            "|       Gujarat Lions|          bat|         2|         13|         15.38|\n",
            "|       Gujarat Lions|        field|        11|         13|         84.62|\n",
            "|      Gujarat Titans|          bat|         9|         28|         32.14|\n",
            "|      Gujarat Titans|        field|        19|         28|         67.86|\n",
            "|     Kings XI Punjab|          bat|        24|         88|         27.27|\n",
            "|     Kings XI Punjab|        field|        64|         88|         72.73|\n",
            "|Kochi Tuskers Kerala|        field|         6|          6|         100.0|\n",
            "|Kolkata Knight Ri...|          bat|        50|        131|         38.17|\n",
            "|Kolkata Knight Ri...|        field|        81|        131|         61.83|\n",
            "|Lucknow Super Giants|          bat|         6|         24|          25.0|\n",
            "|Lucknow Super Giants|        field|        18|         24|          75.0|\n",
            "|      Mumbai Indians|          bat|        54|        144|          37.5|\n",
            "+--------------------+-------------+----------+-----------+--------------+\n",
            "only showing top 20 rows\n",
            "\n"
          ]
        }
      ]
    },
    {
      "cell_type": "markdown",
      "source": [
        "### Second Part Batter"
      ],
      "metadata": {
        "id": "SMFBtD_j4OkE"
      }
    },
    {
      "cell_type": "markdown",
      "source": [
        "**Top Run Scorers (Most Runs by Batter)**"
      ],
      "metadata": {
        "id": "BPQO8tfztb2D"
      }
    },
    {
      "cell_type": "code",
      "source": [
        "dfDeliver.groupBy(\"batsman\").sum(\"batsman_runs\").withColumnRenamed(\"sum(batsman_runs)\", \"total_runs\").sort(col(\"total_runs\").desc()).limit(1).show()"
      ],
      "metadata": {
        "id": "2C7SVElLtgUj",
        "colab": {
          "base_uri": "https://localhost:8080/"
        },
        "outputId": "4eefa95b-37da-43cc-ff06-c67ede04bedb"
      },
      "execution_count": 17,
      "outputs": [
        {
          "output_type": "stream",
          "name": "stdout",
          "text": [
            "+-------+----------+\n",
            "|batsman|total_runs|\n",
            "+-------+----------+\n",
            "|V Kohli|      8014|\n",
            "+-------+----------+\n",
            "\n"
          ]
        }
      ]
    },
    {
      "cell_type": "markdown",
      "source": [
        "**Batting Strike Rate (Player & Team Level)**"
      ],
      "metadata": {
        "id": "4h0lAyFdtg1l"
      }
    },
    {
      "cell_type": "code",
      "source": [
        "dfTotalRun=dfDeliver.groupBy(\"batsman\").sum(\"batsman_runs\").withColumnRenamed(\"sum(batsman_runs)\", \"total_runs\")\n"
      ],
      "metadata": {
        "id": "F5Hc44qBtneM"
      },
      "execution_count": 18,
      "outputs": []
    },
    {
      "cell_type": "code",
      "source": [
        "dfTotalBallFace=dfDeliver.groupBy(\"batsman\").count().withColumnRenamed(\"count\", \"total_balls_faced\")"
      ],
      "metadata": {
        "id": "KR7i-sqcY9yK"
      },
      "execution_count": 19,
      "outputs": []
    },
    {
      "cell_type": "code",
      "source": [
        "PStrikeRate=dfTotalRun.join(dfTotalBallFace,dfTotalRun.batsman==dfTotalBallFace.batsman).drop(dfTotalBallFace.batsman)\n",
        "PStrikeRate.withColumn(\"strike_rate\", (PStrikeRate[\"total_runs\"] / PStrikeRate[\"total_balls_faced\"]) * 100).withColumn(\"strike_rate\", round(\"strike_rate\", 2))\\\n",
        "    .orderBy(\"strike_rate\",ascending=False).show()"
      ],
      "metadata": {
        "colab": {
          "base_uri": "https://localhost:8080/"
        },
        "id": "EZOFFgwPZ5XK",
        "outputId": "f8c29b09-710b-4c8d-f13f-9a67466c0311"
      },
      "execution_count": 20,
      "outputs": [
        {
          "output_type": "stream",
          "name": "stdout",
          "text": [
            "+----------+---------------+-----------------+-----------+\n",
            "|total_runs|        batsman|total_balls_faced|strike_rate|\n",
            "+----------+---------------+-----------------+-----------+\n",
            "|         9|         L Wood|                3|      300.0|\n",
            "|         5|     B Stanlake|                2|      250.0|\n",
            "|       330|J Fraser-McGurk|              150|      220.0|\n",
            "|        13|  R Sai Kishore|                6|     216.67|\n",
            "|        39|       Umar Gul|               19|     205.26|\n",
            "|         4|       RS Sodhi|                2|      200.0|\n",
            "|        81|  Shahid Afridi|               46|     176.09|\n",
            "|         7|     I Malhotra|                4|      175.0|\n",
            "|       230|       WG Jacks|              133|     172.93|\n",
            "|       653|        PD Salt|              385|     169.61|\n",
            "|       405|       T Stubbs|              239|     169.46|\n",
            "|       115|     R Shepherd|               68|     169.12|\n",
            "|       772|        TM Head|              458|     168.56|\n",
            "|       106|      LJ Wright|               63|     168.25|\n",
            "|         5|KMDN Kulasekara|                3|     166.67|\n",
            "|         5|  Shivam Sharma|                3|     166.67|\n",
            "|       140|     Naman Dhir|               84|     166.67|\n",
            "|       116|      KK Cooper|               70|     165.71|\n",
            "|      2488|     AD Russell|             1515|     164.22|\n",
            "|       128|   Kamran Akmal|               78|      164.1|\n",
            "+----------+---------------+-----------------+-----------+\n",
            "only showing top 20 rows\n",
            "\n"
          ]
        }
      ]
    },
    {
      "cell_type": "code",
      "source": [
        "dfTotalRunTeam=dfDeliver.groupBy(\"batting_team\").sum(\"batsman_runs\").withColumnRenamed(\"sum(batsman_runs)\", \"total_runs\")\n",
        "dfTotalBallFaceTeam=dfDeliver.groupBy(\"batting_team\").count().withColumnRenamed(\"count\", \"total_balls_faced\")\n",
        "TStrikeRate=dfTotalRunTeam.join(dfTotalBallFaceTeam,dfTotalRunTeam.batting_team==dfTotalBallFaceTeam.batting_team).drop(dfTotalBallFaceTeam.batting_team)\n",
        "TStrikeRate.withColumn(\"strike_rate\", (TStrikeRate[\"total_runs\"] / TStrikeRate[\"total_balls_faced\"]) * 100).withColumn(\"strike_rate\", round(\"strike_rate\", 2))\\\n",
        "    .orderBy(\"strike_rate\",ascending=False).show()"
      ],
      "metadata": {
        "colab": {
          "base_uri": "https://localhost:8080/"
        },
        "id": "q5xxfj9maIoQ",
        "outputId": "990ec9c5-ecb4-49b9-e4d6-490ba8b5c796"
      },
      "execution_count": 21,
      "outputs": [
        {
          "output_type": "stream",
          "name": "stdout",
          "text": [
            "+----------+--------------------+-----------------+-----------+\n",
            "|total_runs|        batting_team|total_balls_faced|strike_rate|\n",
            "+----------+--------------------+-----------------+-----------+\n",
            "|      2789|Royal Challengers...|             1818|     153.41|\n",
            "|      7357|      Gujarat Titans|             5494|     133.91|\n",
            "|      9042|        Punjab Kings|             6833|     132.33|\n",
            "|      7081|Lucknow Super Giants|             5400|     131.13|\n",
            "|     14229|      Delhi Capitals|            10946|     129.99|\n",
            "|      4629|       Gujarat Lions|             3566|     129.81|\n",
            "|     36739| Chennai Super Kings|            28651|     128.23|\n",
            "|     39946|      Mumbai Indians|            31437|     127.07|\n",
            "|     35810|Royal Challengers...|            28205|     126.96|\n",
            "|     27641| Sunrisers Hyderabad|            21843|     126.54|\n",
            "|     33074|    Rajasthan Royals|            26242|     126.03|\n",
            "|     28541|     Kings XI Punjab|            22646|     126.03|\n",
            "|     37149|Kolkata Knight Ri...|            29514|     125.87|\n",
            "|      2370|Rising Pune Super...|             1900|     124.74|\n",
            "|      1962|Rising Pune Super...|             1580|     124.18|\n",
            "|     23022|    Delhi Daredevils|            18786|     122.55|\n",
            "|     10885|     Deccan Chargers|             9034|     120.49|\n",
            "|      1758|Kochi Tuskers Kerala|             1582|     111.13|\n",
            "|      6040|       Pune Warriors|             5443|     110.97|\n",
            "+----------+--------------------+-----------------+-----------+\n",
            "\n"
          ]
        }
      ]
    },
    {
      "cell_type": "code",
      "source": [
        "from pyspark.sql.functions import sum as _sum"
      ],
      "metadata": {
        "id": "jGfaz-SKdNfX"
      },
      "execution_count": 22,
      "outputs": []
    },
    {
      "cell_type": "code",
      "source": [
        "PlayerStrikeRate = dfDeliver.groupBy(\"batsman\").agg(\n",
        "    count(\"ball\").alias(\"total_balls_faced\"),\n",
        "    _sum(\"batsman_runs\").alias(\"total_runs_scored\")\n",
        ").withColumn(\"strike_rate\", (col(\"total_runs_scored\") / col(\"total_balls_faced\")) *100).withColumn(\"strike_rate\", round(\"strike_rate\", 2)).sort(\"strike_rate\",ascending=False)\n",
        "PlayerStrikeRate.show()"
      ],
      "metadata": {
        "colab": {
          "base_uri": "https://localhost:8080/"
        },
        "id": "M4rPj8WRb2lq",
        "outputId": "133c1397-ab91-49c0-e2fe-65a02b335645"
      },
      "execution_count": 23,
      "outputs": [
        {
          "output_type": "stream",
          "name": "stdout",
          "text": [
            "+---------------+-----------------+-----------------+-----------+\n",
            "|        batsman|total_balls_faced|total_runs_scored|strike_rate|\n",
            "+---------------+-----------------+-----------------+-----------+\n",
            "|         L Wood|                3|                9|      300.0|\n",
            "|     B Stanlake|                2|                5|      250.0|\n",
            "|J Fraser-McGurk|              150|              330|      220.0|\n",
            "|  R Sai Kishore|                6|               13|     216.67|\n",
            "|       Umar Gul|               19|               39|     205.26|\n",
            "|       RS Sodhi|                2|                4|      200.0|\n",
            "|  Shahid Afridi|               46|               81|     176.09|\n",
            "|     I Malhotra|                4|                7|      175.0|\n",
            "|       WG Jacks|              133|              230|     172.93|\n",
            "|        PD Salt|              385|              653|     169.61|\n",
            "|       T Stubbs|              239|              405|     169.46|\n",
            "|     R Shepherd|               68|              115|     169.12|\n",
            "|        TM Head|              458|              772|     168.56|\n",
            "|      LJ Wright|               63|              106|     168.25|\n",
            "|KMDN Kulasekara|                3|                5|     166.67|\n",
            "|  Shivam Sharma|                3|                5|     166.67|\n",
            "|     Naman Dhir|               84|              140|     166.67|\n",
            "|      KK Cooper|               70|              116|     165.71|\n",
            "|     AD Russell|             1515|             2488|     164.22|\n",
            "|   Kamran Akmal|               78|              128|      164.1|\n",
            "+---------------+-----------------+-----------------+-----------+\n",
            "only showing top 20 rows\n",
            "\n"
          ]
        }
      ]
    },
    {
      "cell_type": "code",
      "source": [
        "TeamStrikeRate = dfDeliver.groupBy(\"batting_team\")\\\n",
        "    .agg(\n",
        "        count(\"ball\").alias(\"total_balls_faced\"),\n",
        "        _sum(\"batsman_runs\").alias(\"total_runs_scored\")\n",
        "    )\\\n",
        "    .withColumn(\"strike_rate\", (col(\"total_runs_scored\") / col(\"total_balls_faced\")) * 100)\\\n",
        "    .withColumn(\"strike_rate\", round(\"strike_rate\", 2))\\\n",
        "    .sort(\"strike_rate\",ascending=False)\n",
        "TeamStrikeRate.show()"
      ],
      "metadata": {
        "colab": {
          "base_uri": "https://localhost:8080/"
        },
        "id": "ZRpFOVNsdvYU",
        "outputId": "0bc4bcf4-62e0-4648-d6ca-c179ddf59868"
      },
      "execution_count": 24,
      "outputs": [
        {
          "output_type": "stream",
          "name": "stdout",
          "text": [
            "+--------------------+-----------------+-----------------+-----------+\n",
            "|        batting_team|total_balls_faced|total_runs_scored|strike_rate|\n",
            "+--------------------+-----------------+-----------------+-----------+\n",
            "|Royal Challengers...|             1818|             2789|     153.41|\n",
            "|      Gujarat Titans|             5494|             7357|     133.91|\n",
            "|        Punjab Kings|             6833|             9042|     132.33|\n",
            "|Lucknow Super Giants|             5400|             7081|     131.13|\n",
            "|      Delhi Capitals|            10946|            14229|     129.99|\n",
            "|       Gujarat Lions|             3566|             4629|     129.81|\n",
            "| Chennai Super Kings|            28651|            36739|     128.23|\n",
            "|      Mumbai Indians|            31437|            39946|     127.07|\n",
            "|Royal Challengers...|            28205|            35810|     126.96|\n",
            "| Sunrisers Hyderabad|            21843|            27641|     126.54|\n",
            "|    Rajasthan Royals|            26242|            33074|     126.03|\n",
            "|     Kings XI Punjab|            22646|            28541|     126.03|\n",
            "|Kolkata Knight Ri...|            29514|            37149|     125.87|\n",
            "|Rising Pune Super...|             1900|             2370|     124.74|\n",
            "|Rising Pune Super...|             1580|             1962|     124.18|\n",
            "|    Delhi Daredevils|            18786|            23022|     122.55|\n",
            "|     Deccan Chargers|             9034|            10885|     120.49|\n",
            "|Kochi Tuskers Kerala|             1582|             1758|     111.13|\n",
            "|       Pune Warriors|             5443|             6040|     110.97|\n",
            "+--------------------+-----------------+-----------------+-----------+\n",
            "\n"
          ]
        }
      ]
    },
    {
      "cell_type": "markdown",
      "source": [
        "**Average Runs per Over by Team**"
      ],
      "metadata": {
        "id": "1P3jfc0vtoBp"
      }
    },
    {
      "cell_type": "code",
      "source": [
        "dfAvgRunsPerOver = dfDeliver.groupBy(\"batting_team\",\"id\",\"over\").sum(\"batsman_runs\").withColumnRenamed(\"sum(batsman_runs)\", \"total_runs\")\\\n",
        ".groupBy(\"batting_team\").agg(_sum(\"total_runs\").alias(\"total_runs\"), count(\"over\").alias(\"total_overs\"))\\\n",
        ".withColumn(\"avg_runs_per_over\", col(\"total_runs\") /col(\"total_overs\"))\\\n",
        ".withColumn(\"avg_runs_per_over\", round(\"avg_runs_per_over\", 2)).sort(\"avg_runs_per_over\",ascending=False )\\\n",
        ".show()\n"
      ],
      "metadata": {
        "id": "ykB3kyDYtpyv",
        "colab": {
          "base_uri": "https://localhost:8080/"
        },
        "outputId": "3ccd27df-3d4c-4a24-dff3-5f337be6120b"
      },
      "execution_count": 25,
      "outputs": [
        {
          "output_type": "stream",
          "name": "stdout",
          "text": [
            "+--------------------+----------+-----------+-----------------+\n",
            "|        batting_team|total_runs|total_overs|avg_runs_per_over|\n",
            "+--------------------+----------+-----------+-----------------+\n",
            "|Royal Challengers...|      2789|        290|             9.62|\n",
            "|      Gujarat Titans|      7357|        887|             8.29|\n",
            "|        Punjab Kings|      9042|       1093|             8.27|\n",
            "|Lucknow Super Giants|      7081|        863|             8.21|\n",
            "|      Delhi Capitals|     14229|       1770|             8.04|\n",
            "|       Gujarat Lions|      4629|        577|             8.02|\n",
            "| Chennai Super Kings|     36739|       4628|             7.94|\n",
            "|      Mumbai Indians|     39946|       5070|             7.88|\n",
            "| Sunrisers Hyderabad|     27641|       3526|             7.84|\n",
            "|Royal Challengers...|     35810|       4566|             7.84|\n",
            "|Kolkata Knight Ri...|     37149|       4768|             7.79|\n",
            "|     Kings XI Punjab|     28541|       3666|             7.79|\n",
            "|    Rajasthan Royals|     33074|       4254|             7.77|\n",
            "|Rising Pune Super...|      1962|        255|             7.69|\n",
            "|Rising Pune Super...|      2370|        309|             7.67|\n",
            "|    Delhi Daredevils|     23022|       3053|             7.54|\n",
            "|     Deccan Chargers|     10885|       1468|             7.41|\n",
            "|Kochi Tuskers Kerala|      1758|        253|             6.95|\n",
            "|       Pune Warriors|      6040|        884|             6.83|\n",
            "+--------------------+----------+-----------+-----------------+\n",
            "\n"
          ]
        }
      ]
    },
    {
      "cell_type": "markdown",
      "source": [
        "### 3rd part Bowler"
      ],
      "metadata": {
        "id": "c2WqOQYs4Y44"
      }
    },
    {
      "cell_type": "markdown",
      "source": [
        "**Top 5 Wicket Takers**"
      ],
      "metadata": {
        "id": "70OuD6hXtqNo"
      }
    },
    {
      "cell_type": "code",
      "source": [
        "dfWicket=dfDeliver.groupBy(\"bowler\").sum(\"is_wicket\").withColumnRenamed(\"sum(is_wicket)\", \"total_wickets\").sort(col(\"total_wickets\").desc()).limit(5).show()"
      ],
      "metadata": {
        "id": "Io3pNGavtuXe",
        "colab": {
          "base_uri": "https://localhost:8080/"
        },
        "outputId": "6c8c5aba-375a-4e53-db88-392a1e90a154"
      },
      "execution_count": 26,
      "outputs": [
        {
          "output_type": "stream",
          "name": "stdout",
          "text": [
            "+---------+-------------+\n",
            "|   bowler|total_wickets|\n",
            "+---------+-------------+\n",
            "|YS Chahal|          213|\n",
            "| DJ Bravo|          207|\n",
            "|PP Chawla|          201|\n",
            "|SP Narine|          200|\n",
            "| R Ashwin|          198|\n",
            "+---------+-------------+\n",
            "\n"
          ]
        }
      ]
    },
    {
      "cell_type": "markdown",
      "source": [
        "**Bowling Economy (Runs Conceded per Over)**"
      ],
      "metadata": {
        "id": "1gcAT864tuyJ"
      }
    },
    {
      "cell_type": "code",
      "source": [
        "dfTotalBolRun= dfDeliver.groupBy(\"bowler\").agg(_sum(\"total_runs\").alias(\"total_runs\"), count(\"ball\").alias(\"count\"))\\\n",
        ".withColumnRenamed(\"count\", \"total_overs\").withColumn(\"total_overs\", col(\"total_overs\")/6).withColumn(\"economy_rate\", col(\"total_runs\") / col(\"total_overs\"))\\\n",
        ".withColumn(\"economy_rate\", round(\"economy_rate\", 2)).sort(\"economy_rate\",ascending=False).limit(5)\n",
        "dfTotalBolRun.show()"
      ],
      "metadata": {
        "id": "U8uz0S9Dt0wO",
        "colab": {
          "base_uri": "https://localhost:8080/"
        },
        "outputId": "728c7960-9ec4-4550-d823-b1e13c31735c"
      },
      "execution_count": 27,
      "outputs": [
        {
          "output_type": "stream",
          "name": "stdout",
          "text": [
            "+-------------+----------+-------------------+------------+\n",
            "|       bowler|total_runs|        total_overs|economy_rate|\n",
            "+-------------+----------+-------------------+------------+\n",
            "|  YBK Jaiswal|         6|0.16666666666666666|        36.0|\n",
            "|Atharva Taide|         4|0.16666666666666666|        24.0|\n",
            "|   I Malhotra|        23|                1.0|        23.0|\n",
            "|    LPC Silva|        21|                1.0|        21.0|\n",
            "|     B Chipli|        20|                1.0|        20.0|\n",
            "+-------------+----------+-------------------+------------+\n",
            "\n"
          ]
        }
      ]
    },
    {
      "cell_type": "markdown",
      "source": [
        "**Dot Ball Percentage (Dot Balls / Total Balls Bowled)**"
      ],
      "metadata": {
        "id": "ExvKeGoIt1VH"
      }
    },
    {
      "cell_type": "code",
      "source": [
        "from pyspark.sql.functions import when"
      ],
      "metadata": {
        "id": "7vdTcJ0QEZAH"
      },
      "execution_count": 28,
      "outputs": []
    },
    {
      "cell_type": "code",
      "source": [
        "dfTotalDot= dfDeliver.groupBy(\"bowler\").agg(count(\"ball\").alias(\"count\"),count(when(dfDeliver.batsman_runs == 0, True))).withColumnRenamed(\"count\", \"total_balls_bowled\").withColumnRenamed(\"count(CASE WHEN (batsman_runs = 0) THEN true END)\", \"dot_balls\")\\\n",
        ".withColumn(\"dot_ball_percentage\", (col(\"dot_balls\")/ col(\"total_balls_bowled\") * 100)).withColumn(\"dot_ball_percentage\", round(\"dot_ball_percentage\", 2))\n",
        "dfTotalDot.show()"
      ],
      "metadata": {
        "id": "2Ew-zvJ3t6FT",
        "colab": {
          "base_uri": "https://localhost:8080/"
        },
        "outputId": "9fc0b491-5a07-4c1f-90cc-fd9ddeb72ce7"
      },
      "execution_count": 29,
      "outputs": [
        {
          "output_type": "stream",
          "name": "stdout",
          "text": [
            "+---------------+------------------+---------+-------------------+\n",
            "|         bowler|total_balls_bowled|dot_balls|dot_ball_percentage|\n",
            "+---------------+------------------+---------+-------------------+\n",
            "|     TM Dilshan|               275|       85|              30.91|\n",
            "|  Kuldeep Yadav|              1786|      579|              32.42|\n",
            "| M Muralitharan|              1581|      695|              43.96|\n",
            "|  LA Carseldine|                 7|        5|              71.43|\n",
            "|        J Botha|               709|      283|              39.92|\n",
            "|     KA Pollard|              1586|      518|              32.66|\n",
            "|       DR Smith|               557|      194|              34.83|\n",
            "| Jaskaran Singh|               111|       49|              44.14|\n",
            "|     A Flintoff|                66|       21|              31.82|\n",
            "|       M Manhas|                42|       15|              35.71|\n",
            "|      GR Napier|                24|        9|               37.5|\n",
            "|          B Lee|               916|      435|              47.49|\n",
            "|     D du Preez|                43|       18|              41.86|\n",
            "|    BMAJ Mendis|                30|       11|              36.67|\n",
            "|       AR Patel|              3152|     1114|              35.34|\n",
            "|       SA Yadav|                 6|        2|              33.33|\n",
            "|NM Coulter-Nile|               892|      419|              46.97|\n",
            "|Mohammad Hafeez|                63|       28|              44.44|\n",
            "|      LPC Silva|                 6|        0|                0.0|\n",
            "|     AL Menaria|               113|       43|              38.05|\n",
            "+---------------+------------------+---------+-------------------+\n",
            "only showing top 20 rows\n",
            "\n"
          ]
        }
      ]
    },
    {
      "cell_type": "code",
      "source": [
        "dfDeliver.filter(dfDeliver.batsman_runs != 0).groupBy(\"bowler\").count().show()"
      ],
      "metadata": {
        "colab": {
          "base_uri": "https://localhost:8080/"
        },
        "id": "vNXlIQFpDXBV",
        "outputId": "1f22a705-4ce1-4d32-9b72-3598e12cd11f"
      },
      "execution_count": 30,
      "outputs": [
        {
          "output_type": "stream",
          "name": "stdout",
          "text": [
            "+---------------+-----+\n",
            "|         bowler|count|\n",
            "+---------------+-----+\n",
            "|     TM Dilshan|  190|\n",
            "|  Kuldeep Yadav| 1207|\n",
            "| M Muralitharan|  886|\n",
            "|  LA Carseldine|    2|\n",
            "|        J Botha|  426|\n",
            "|     KA Pollard| 1068|\n",
            "|       DR Smith|  363|\n",
            "| Jaskaran Singh|   62|\n",
            "|     A Flintoff|   45|\n",
            "|       M Manhas|   27|\n",
            "|      GR Napier|   15|\n",
            "|          B Lee|  481|\n",
            "|     D du Preez|   25|\n",
            "|    BMAJ Mendis|   19|\n",
            "|       AR Patel| 2038|\n",
            "|       SA Yadav|    4|\n",
            "|NM Coulter-Nile|  473|\n",
            "|Mohammad Hafeez|   35|\n",
            "|      LPC Silva|    6|\n",
            "|     AL Menaria|   70|\n",
            "+---------------+-----+\n",
            "only showing top 20 rows\n",
            "\n"
          ]
        }
      ]
    },
    {
      "cell_type": "markdown",
      "source": [
        "## Advance"
      ],
      "metadata": {
        "id": "8cTmlYoUt65q"
      }
    },
    {
      "cell_type": "markdown",
      "source": [
        "**Clutch Performance Index (CPI) of Players**"
      ],
      "metadata": {
        "id": "87JxDbH1t_nW"
      }
    },
    {
      "cell_type": "code",
      "source": [
        "BatRunastfive= dfDeliver.groupBy(\"batsman\").agg(_sum(\"batsman_runs\").alias(\"total_runs\"), _sum(when(dfDeliver.over >= 15, dfDeliver.batsman_runs)).alias(\"high_runs\"))\\\n",
        ".withColumn(\"high_run_percentage\", (col(\"high_runs\")/ col(\"total_runs\") * 100)).withColumn(\"high_run_percentage\", round(\"high_run_percentage\", 2))\\\n",
        ".sort(\"total_runs\",ascending=False).show()"
      ],
      "metadata": {
        "id": "6wgMqI5cuHGY",
        "colab": {
          "base_uri": "https://localhost:8080/"
        },
        "outputId": "8fb2a3e9-0013-4138-df28-5c2a0618e84b"
      },
      "execution_count": 31,
      "outputs": [
        {
          "output_type": "stream",
          "name": "stdout",
          "text": [
            "+--------------+----------+---------+-------------------+\n",
            "|       batsman|total_runs|high_runs|high_run_percentage|\n",
            "+--------------+----------+---------+-------------------+\n",
            "|       V Kohli|      8014|     1469|              18.33|\n",
            "|      S Dhawan|      6769|      668|               9.87|\n",
            "|     RG Sharma|      6630|     1513|              22.82|\n",
            "|     DA Warner|      6567|      628|               9.56|\n",
            "|      SK Raina|      5536|      899|              16.24|\n",
            "|      MS Dhoni|      5243|     3292|              62.79|\n",
            "|AB de Villiers|      5181|     1868|              36.05|\n",
            "|      CH Gayle|      4997|      581|              11.63|\n",
            "|    RV Uthappa|      4954|      567|              11.45|\n",
            "|    KD Karthik|      4843|     1904|              39.31|\n",
            "|      KL Rahul|      4689|      752|              16.04|\n",
            "|     AM Rahane|      4642|      509|              10.97|\n",
            "|  F du Plessis|      4571|      568|              12.43|\n",
            "|     SV Samson|      4419|      780|              17.65|\n",
            "|     AT Rayudu|      4348|     1179|              27.12|\n",
            "|     G Gambhir|      4217|      270|                6.4|\n",
            "|     SR Watson|      3880|      453|              11.68|\n",
            "|     MK Pandey|      3859|      673|              17.44|\n",
            "|      SA Yadav|      3594|      694|              19.31|\n",
            "|    JC Buttler|      3583|      596|              16.63|\n",
            "+--------------+----------+---------+-------------------+\n",
            "only showing top 20 rows\n",
            "\n"
          ]
        }
      ]
    },
    {
      "cell_type": "code",
      "source": [
        "BollastFive= dfDeliver.groupBy(\"bowler\").agg(_sum(\"is_wicket\").alias(\"total_wickets\"), _sum(when(dfDeliver.over >=15, dfDeliver.is_wicket)).alias(\"high_wickets\"))\\\n",
        ".withColumn(\"high_wicket_percentage\", (col(\"high_wickets\")/ col(\"total_wickets\") * 100)).withColumn(\"high_wicket_percentage\", round(\"high_wicket_percentage\", 2))\\\n",
        ".sort(\"total_wickets\",ascending=False).show()"
      ],
      "metadata": {
        "colab": {
          "base_uri": "https://localhost:8080/"
        },
        "id": "tzwhIwaqIDG_",
        "outputId": "1fdebc0c-f913-4907-f231-c7f3e62248cd"
      },
      "execution_count": 32,
      "outputs": [
        {
          "output_type": "stream",
          "name": "stdout",
          "text": [
            "+---------------+-------------+------------+----------------------+\n",
            "|         bowler|total_wickets|high_wickets|high_wicket_percentage|\n",
            "+---------------+-------------+------------+----------------------+\n",
            "|      YS Chahal|          213|          63|                 29.58|\n",
            "|       DJ Bravo|          207|         130|                  62.8|\n",
            "|      PP Chawla|          201|          41|                  20.4|\n",
            "|      SP Narine|          200|          83|                  41.5|\n",
            "|       R Ashwin|          198|          40|                  20.2|\n",
            "|        B Kumar|          195|         108|                 55.38|\n",
            "|     SL Malinga|          188|         122|                 64.89|\n",
            "|       A Mishra|          183|          45|                 24.59|\n",
            "|      JJ Bumrah|          182|         101|                 55.49|\n",
            "|      RA Jadeja|          169|          32|                 18.93|\n",
            "|       UT Yadav|          163|          65|                 39.88|\n",
            "|Harbhajan Singh|          161|          28|                 17.39|\n",
            "|    Rashid Khan|          157|          41|                 26.11|\n",
            "| Sandeep Sharma|          153|          63|                 41.18|\n",
            "|       HV Patel|          151|          84|                 55.63|\n",
            "|      MM Sharma|          147|          75|                 51.02|\n",
            "| Mohammed Shami|          144|          77|                 53.47|\n",
            "|       AR Patel|          131|          22|                 16.79|\n",
            "|       TA Boult|          128|          50|                 39.06|\n",
            "|  R Vinay Kumar|          127|          62|                 48.82|\n",
            "+---------------+-------------+------------+----------------------+\n",
            "only showing top 20 rows\n",
            "\n"
          ]
        }
      ]
    },
    {
      "cell_type": "markdown",
      "source": [
        "**Toss Impact Factor**"
      ],
      "metadata": {
        "id": "wvAUaHscuHlm"
      }
    },
    {
      "cell_type": "code",
      "source": [
        "tossWinwin= dfMatch.groupBy(\"winner\").agg(count(\"winner\").alias(\"no_of_wins\"),count(when(dfMatch.toss_winner == dfMatch.winner, True)).alias(\"toss_win\"))\\\n",
        ".withColumn(\"toss_win_percentage\", (col(\"toss_win\")/ col(\"no_of_wins\") * 100)).withColumn(\"toss_win_percentage\", round(\"toss_win_percentage\", 2))\n",
        "tossWinwin.show()\n",
        "#"
      ],
      "metadata": {
        "id": "YKhK9TODuOgK",
        "colab": {
          "base_uri": "https://localhost:8080/"
        },
        "outputId": "db56a4b6-f34e-44c9-8835-3d5d7b13ff13"
      },
      "execution_count": 33,
      "outputs": [
        {
          "output_type": "stream",
          "name": "stdout",
          "text": [
            "+--------------------+----------+--------+-------------------+\n",
            "|              winner|no_of_wins|toss_win|toss_win_percentage|\n",
            "+--------------------+----------+--------+-------------------+\n",
            "| Sunrisers Hyderabad|        88|      38|              43.18|\n",
            "|Lucknow Super Giants|        24|      10|              41.67|\n",
            "| Chennai Super Kings|       138|      75|              54.35|\n",
            "|      Gujarat Titans|        28|      14|               50.0|\n",
            "|                  NA|         5|       0|                0.0|\n",
            "|Royal Challengers...|         7|       4|              57.14|\n",
            "|Rising Pune Super...|        10|       5|               50.0|\n",
            "|     Deccan Chargers|        29|      19|              65.52|\n",
            "|Kochi Tuskers Kerala|         6|       4|              66.67|\n",
            "|    Rajasthan Royals|       112|      60|              53.57|\n",
            "|       Gujarat Lions|        13|      10|              76.92|\n",
            "|Royal Challengers...|       116|      57|              49.14|\n",
            "|Kolkata Knight Ri...|       131|      68|              51.91|\n",
            "|Rising Pune Super...|         5|       3|               60.0|\n",
            "|     Kings XI Punjab|        88|      36|              40.91|\n",
            "|        Punjab Kings|        24|       9|               37.5|\n",
            "|       Pune Warriors|        12|       3|               25.0|\n",
            "|    Delhi Daredevils|        67|      35|              52.24|\n",
            "|      Delhi Capitals|        48|      26|              54.17|\n",
            "|      Mumbai Indians|       144|      78|              54.17|\n",
            "+--------------------+----------+--------+-------------------+\n",
            "\n"
          ]
        }
      ]
    },
    {
      "cell_type": "markdown",
      "source": [
        "**Impact of Toss Decision on Match Outcome**"
      ],
      "metadata": {
        "id": "oJsknjjZuPB9"
      }
    },
    {
      "cell_type": "code",
      "source": [
        "tossField= dfMatch.filter((dfMatch.toss_decision == \"field\") & (dfMatch.winner == dfMatch.toss_winner)).count()\n",
        "tossBat= dfMatch.filter((dfMatch.toss_decision == \"bat\") & (dfMatch.winner == dfMatch.toss_winner)).count()\n",
        "total_matches = dfMatch.count()\n",
        "bat_first_win_pct = (tossField / total_matches) * 100\n",
        "field_first_win_pct = (tossBat / total_matches) * 100\n",
        "print(f\"Bat First Win Percentage: {bat_first_win_pct:.2f}%\")\n",
        "print(f\"Field First Win Percentage: {field_first_win_pct:.2f}%\")"
      ],
      "metadata": {
        "id": "52hfgbdAuS7J",
        "colab": {
          "base_uri": "https://localhost:8080/"
        },
        "outputId": "525958af-1f84-406c-e2ec-afb860d53170"
      },
      "execution_count": 36,
      "outputs": [
        {
          "output_type": "stream",
          "name": "stdout",
          "text": [
            "Bat First Win Percentage: 34.43%\n",
            "Field First Win Percentage: 16.16%\n"
          ]
        }
      ]
    },
    {
      "cell_type": "code",
      "source": [],
      "metadata": {
        "id": "S2dcdLhTJdic"
      },
      "execution_count": null,
      "outputs": []
    },
    {
      "cell_type": "markdown",
      "source": [
        "**Home Advantage Analysis**"
      ],
      "metadata": {
        "id": "y2kCNWAtuTdo"
      }
    },
    {
      "cell_type": "code",
      "source": [],
      "metadata": {
        "id": "Sk3xp8XFuaMb"
      },
      "execution_count": 33,
      "outputs": []
    },
    {
      "cell_type": "markdown",
      "source": [
        "**Boundary Frequency (Per Over & Per Batter)**"
      ],
      "metadata": {
        "id": "sUg3o5iDuar4"
      }
    },
    {
      "cell_type": "code",
      "source": [],
      "metadata": {
        "id": "UZ5X-lI7ueOh"
      },
      "execution_count": 33,
      "outputs": []
    },
    {
      "cell_type": "markdown",
      "source": [
        "**Dot Ball Pressure Index (DBPI)**"
      ],
      "metadata": {
        "id": "oD5G2wrVueqr"
      }
    },
    {
      "cell_type": "code",
      "source": [],
      "metadata": {
        "id": "MeKNfdkMuuP4"
      },
      "execution_count": 33,
      "outputs": []
    },
    {
      "cell_type": "markdown",
      "source": [
        "**Batting Consistency Score**"
      ],
      "metadata": {
        "id": "zggSxaDduuvp"
      }
    },
    {
      "cell_type": "code",
      "source": [],
      "metadata": {
        "id": "bYXtXLFkuwx5"
      },
      "execution_count": 33,
      "outputs": []
    },
    {
      "cell_type": "markdown",
      "source": [
        "**Explosiveness Rating (Powerplay & Death Overs Performance)**"
      ],
      "metadata": {
        "id": "UxpiA6W-uxTF"
      }
    },
    {
      "cell_type": "code",
      "source": [],
      "metadata": {
        "id": "NWsltwtCu0zM"
      },
      "execution_count": 33,
      "outputs": []
    },
    {
      "cell_type": "markdown",
      "source": [
        "**Death Over Economy Rate**"
      ],
      "metadata": {
        "id": "gCIY-X5lu1PQ"
      }
    },
    {
      "cell_type": "code",
      "source": [],
      "metadata": {
        "id": "4huFoaZZu6SQ"
      },
      "execution_count": 33,
      "outputs": []
    },
    {
      "cell_type": "markdown",
      "source": [
        "**Bowler’s Pressure Index**"
      ],
      "metadata": {
        "id": "ERC2NX_gu6_X"
      }
    },
    {
      "cell_type": "code",
      "source": [],
      "metadata": {
        "id": "tD2Sj8O3u-_I"
      },
      "execution_count": 33,
      "outputs": []
    },
    {
      "cell_type": "markdown",
      "source": [
        "**Bowler’s Match Impact Factor**"
      ],
      "metadata": {
        "id": "0ngLS_H2u_bX"
      }
    },
    {
      "cell_type": "code",
      "source": [],
      "metadata": {
        "id": "BG6JZY5RvCk1"
      },
      "execution_count": 33,
      "outputs": []
    },
    {
      "cell_type": "markdown",
      "source": [
        "**Wicket Conversion Rate (WCR)**"
      ],
      "metadata": {
        "id": "zWuDAa0nvDHA"
      }
    },
    {
      "cell_type": "code",
      "source": [],
      "metadata": {
        "id": "V9LVHy7EvI_b"
      },
      "execution_count": 33,
      "outputs": []
    },
    {
      "cell_type": "markdown",
      "source": [
        "**Middle Order Stability Score**"
      ],
      "metadata": {
        "id": "vx4rcJkNvJfd"
      }
    },
    {
      "cell_type": "code",
      "source": [],
      "metadata": {
        "id": "wK7gz6KSvNT4"
      },
      "execution_count": 33,
      "outputs": []
    },
    {
      "cell_type": "markdown",
      "source": [
        "**Net Run Rate (NRR) Trends Per Season**"
      ],
      "metadata": {
        "id": "BYstD7hFvN1U"
      }
    },
    {
      "cell_type": "code",
      "source": [],
      "metadata": {
        "id": "A3NRyZFLvRe7"
      },
      "execution_count": 33,
      "outputs": []
    },
    {
      "cell_type": "markdown",
      "source": [
        "**Match Closer Effectiveness**"
      ],
      "metadata": {
        "id": "u4ISns_GvR80"
      }
    },
    {
      "cell_type": "code",
      "source": [],
      "metadata": {
        "id": "m_qDohgXvWYx"
      },
      "execution_count": 33,
      "outputs": []
    }
  ]
}