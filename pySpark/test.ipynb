{
  "cells": [
    {
      "cell_type": "markdown",
      "metadata": {
        "id": "view-in-github",
        "colab_type": "text"
      },
      "source": [
        "<a href=\"https://colab.research.google.com/github/firojahmed1313/MlAITR/blob/main/pySpark/test.ipynb\" target=\"_parent\"><img src=\"https://colab.research.google.com/assets/colab-badge.svg\" alt=\"Open In Colab\"/></a>"
      ]
    },
    {
      "cell_type": "code",
      "execution_count": 1,
      "metadata": {
        "vscode": {
          "languageId": "plaintext"
        },
        "id": "FivMknyYkAQn"
      },
      "outputs": [],
      "source": [
        "from pyspark.sql import SparkSession"
      ]
    },
    {
      "cell_type": "markdown",
      "source": [
        "### Create a Spark Session"
      ],
      "metadata": {
        "id": "gLnutiwmsSSb"
      }
    },
    {
      "cell_type": "code",
      "execution_count": 2,
      "metadata": {
        "vscode": {
          "languageId": "plaintext"
        },
        "id": "WjsPeyYEkAQx"
      },
      "outputs": [],
      "source": [
        "spark = SparkSession.builder.appName(\"Example\").getOrCreate()"
      ]
    },
    {
      "cell_type": "markdown",
      "source": [
        "### select"
      ],
      "metadata": {
        "id": "VIrwXIv1sWR2"
      }
    },
    {
      "cell_type": "code",
      "execution_count": 49,
      "metadata": {
        "vscode": {
          "languageId": "plaintext"
        },
        "colab": {
          "base_uri": "https://localhost:8080/"
        },
        "id": "Cs56fxGbkAQ0",
        "outputId": "225b9c80-97a3-433e-8c68-98f15e312db0"
      },
      "outputs": [
        {
          "output_type": "stream",
          "name": "stdout",
          "text": [
            "+---+-------+---+----------+------+\n",
            "| id|   name|age|department|salary|\n",
            "+---+-------+---+----------+------+\n",
            "|  1|  Alice| 30|        HR|  5000|\n",
            "|  2|    Bob| 25|        IT|  6000|\n",
            "|  3|Charlie| 35|   Finance|  7000|\n",
            "|  4|  David| 40|        HR|  8000|\n",
            "|  5|    Eve| 34|   Finance|  7000|\n",
            "+---+-------+---+----------+------+\n",
            "\n"
          ]
        }
      ],
      "source": [
        "data=[\n",
        "    (1, \"Alice\", 30, \"HR\", 5000),\n",
        " (2, \"Bob\", 25, \"IT\", 6000),\n",
        " (3, \"Charlie\", 35, \"Finance\", 7000),\n",
        " (4, \"David\", 40, \"HR\", 8000),\n",
        " (5, \"Eve\",34, \"Finance\", 7000)\n",
        " ]\n",
        " # Define Schema\n",
        "schema = \"id INT, name STRING, age INT, department STRING, salary INT\"\n",
        " # Create DataFrame\n",
        "df = spark.createDataFrame(data, schema=schema)\n",
        "df.show()"
      ]
    },
    {
      "cell_type": "code",
      "execution_count": 6,
      "metadata": {
        "vscode": {
          "languageId": "plaintext"
        },
        "colab": {
          "base_uri": "https://localhost:8080/"
        },
        "id": "mnMyeonzkAQ9",
        "outputId": "289168b6-87a6-47c2-dcea-1b387af6a921"
      },
      "outputs": [
        {
          "output_type": "stream",
          "name": "stdout",
          "text": [
            "+-------+---+\n",
            "|   name|age|\n",
            "+-------+---+\n",
            "|  Alice| 30|\n",
            "|    Bob| 25|\n",
            "|Charlie| 35|\n",
            "|  David| 40|\n",
            "|    Eve| 34|\n",
            "+-------+---+\n",
            "\n"
          ]
        }
      ],
      "source": [
        " df_selected = df.select(\"name\", \"age\")\n",
        " df_selected.show()"
      ]
    },
    {
      "cell_type": "markdown",
      "source": [
        "### alias()"
      ],
      "metadata": {
        "id": "q1G_x3dXssf9"
      }
    },
    {
      "cell_type": "code",
      "execution_count": 7,
      "metadata": {
        "vscode": {
          "languageId": "plaintext"
        },
        "id": "YtMr7hrLkAQ-"
      },
      "outputs": [],
      "source": [
        "from pyspark.sql.functions import col"
      ]
    },
    {
      "cell_type": "code",
      "execution_count": 8,
      "metadata": {
        "vscode": {
          "languageId": "plaintext"
        },
        "colab": {
          "base_uri": "https://localhost:8080/"
        },
        "id": "e9pWrd4LkAQ_",
        "outputId": "17e3096c-b719-4732-867b-e46535e170d7"
      },
      "outputs": [
        {
          "output_type": "stream",
          "name": "stdout",
          "text": [
            "+-------------+--------------+\n",
            "|employee_name|monthly_salary|\n",
            "+-------------+--------------+\n",
            "|        Alice|          5000|\n",
            "|          Bob|          6000|\n",
            "|      Charlie|          7000|\n",
            "|        David|          8000|\n",
            "|          Eve|          7000|\n",
            "+-------------+--------------+\n",
            "\n"
          ]
        }
      ],
      "source": [
        "df_alias = df.select(col(\"name\").alias(\"employee_name\"), col(\"salary\").alias(\"monthly_salary\"))\n",
        "df_alias.show()"
      ]
    },
    {
      "cell_type": "code",
      "execution_count": 9,
      "metadata": {
        "vscode": {
          "languageId": "plaintext"
        },
        "colab": {
          "base_uri": "https://localhost:8080/"
        },
        "id": "cDG2_jH3kAQ_",
        "outputId": "1bacc00d-6268-4489-87d0-291c3ae635bc"
      },
      "outputs": [
        {
          "output_type": "stream",
          "name": "stdout",
          "text": [
            "+---+-------+---+----------+------+\n",
            "| id|   name|age|department|salary|\n",
            "+---+-------+---+----------+------+\n",
            "|  1|  Alice| 30|        HR|  5000|\n",
            "|  2|    Bob| 25|        IT|  6000|\n",
            "|  3|Charlie| 35|   Finance|  7000|\n",
            "|  4|  David| 40|        HR|  8000|\n",
            "|  5|    Eve| 34|   Finance|  7000|\n",
            "+---+-------+---+----------+------+\n",
            "\n"
          ]
        }
      ],
      "source": [
        "df_all = df.select(\"*\")  # Selects all columns\n",
        "df_all.show()"
      ]
    },
    {
      "cell_type": "markdown",
      "source": [
        "### filter()"
      ],
      "metadata": {
        "id": "1oFiUuftsePB"
      }
    },
    {
      "cell_type": "code",
      "execution_count": 11,
      "metadata": {
        "vscode": {
          "languageId": "plaintext"
        },
        "colab": {
          "base_uri": "https://localhost:8080/"
        },
        "id": "GaSP1-bVkARF",
        "outputId": "b919f71f-7e15-4ab2-e22a-58ada99486c9"
      },
      "outputs": [
        {
          "output_type": "stream",
          "name": "stdout",
          "text": [
            "+---+-------+---+----------+------+\n",
            "| id|   name|age|department|salary|\n",
            "+---+-------+---+----------+------+\n",
            "|  3|Charlie| 35|   Finance|  7000|\n",
            "|  4|  David| 40|        HR|  8000|\n",
            "|  5|    Eve| 34|   Finance|  7000|\n",
            "+---+-------+---+----------+------+\n",
            "\n"
          ]
        }
      ],
      "source": [
        "df_filtered = df.filter(col(\"salary\") > 6000)\n",
        "df_filtered.show()"
      ]
    },
    {
      "cell_type": "code",
      "execution_count": 12,
      "metadata": {
        "vscode": {
          "languageId": "plaintext"
        },
        "colab": {
          "base_uri": "https://localhost:8080/"
        },
        "id": "VAXALK8_kARG",
        "outputId": "c2b9e97d-b122-4b0f-cf32-d079999f24f5"
      },
      "outputs": [
        {
          "output_type": "stream",
          "name": "stdout",
          "text": [
            "+---+-------+---+----------+------+\n",
            "| id|   name|age|department|salary|\n",
            "+---+-------+---+----------+------+\n",
            "|  3|Charlie| 35|   Finance|  7000|\n",
            "|  4|  David| 40|        HR|  8000|\n",
            "|  5|    Eve| 34|   Finance|  7000|\n",
            "+---+-------+---+----------+------+\n",
            "\n"
          ]
        }
      ],
      "source": [
        "df_filtered = df.filter((col(\"age\") > 30) & (col(\"salary\") > 6000))\n",
        "df_filtered.show()"
      ]
    },
    {
      "cell_type": "code",
      "execution_count": 13,
      "metadata": {
        "vscode": {
          "languageId": "plaintext"
        },
        "colab": {
          "base_uri": "https://localhost:8080/"
        },
        "id": "fSx3EHHhkARH",
        "outputId": "a7acab66-7811-4e6a-a730-ab8970462631"
      },
      "outputs": [
        {
          "output_type": "stream",
          "name": "stdout",
          "text": [
            "+---+-----+---+----------+------+\n",
            "| id| name|age|department|salary|\n",
            "+---+-----+---+----------+------+\n",
            "|  2|  Bob| 25|        IT|  6000|\n",
            "|  4|David| 40|        HR|  8000|\n",
            "+---+-----+---+----------+------+\n",
            "\n"
          ]
        }
      ],
      "source": [
        "df_filtered = df.filter((col(\"age\") > 35) | (col(\"department\") == \"IT\"))\n",
        "df_filtered.show()"
      ]
    },
    {
      "cell_type": "code",
      "execution_count": 14,
      "metadata": {
        "vscode": {
          "languageId": "plaintext"
        },
        "colab": {
          "base_uri": "https://localhost:8080/"
        },
        "id": "jSng9ZRTkARH",
        "outputId": "3c8ca7bb-784f-4d74-9b6f-f8a4babe760f"
      },
      "outputs": [
        {
          "output_type": "stream",
          "name": "stdout",
          "text": [
            "+---+-------+---+----------+------+\n",
            "| id|   name|age|department|salary|\n",
            "+---+-------+---+----------+------+\n",
            "|  2|    Bob| 25|        IT|  6000|\n",
            "|  3|Charlie| 35|   Finance|  7000|\n",
            "|  5|    Eve| 34|   Finance|  7000|\n",
            "+---+-------+---+----------+------+\n",
            "\n"
          ]
        }
      ],
      "source": [
        "df_filtered = df.filter(~(col(\"department\") == \"HR\"))\n",
        "df_filtered.show()"
      ]
    },
    {
      "cell_type": "code",
      "execution_count": 16,
      "metadata": {
        "vscode": {
          "languageId": "plaintext"
        },
        "colab": {
          "base_uri": "https://localhost:8080/"
        },
        "id": "zL_GCSxYkARO",
        "outputId": "bcb28f0a-877a-4fdd-e58e-bf8f635e6137"
      },
      "outputs": [
        {
          "output_type": "stream",
          "name": "stdout",
          "text": [
            "+---+-------+---+----------+------+\n",
            "| id|   name|age|department|salary|\n",
            "+---+-------+---+----------+------+\n",
            "|  3|Charlie| 35|   Finance|  7000|\n",
            "|  5|    Eve| 34|   Finance|  7000|\n",
            "+---+-------+---+----------+------+\n",
            "\n"
          ]
        }
      ],
      "source": [
        "df_filtered = df.filter(col(\"department\").like(\"%Finance%\"))\n",
        "df_filtered.show()"
      ]
    },
    {
      "cell_type": "code",
      "execution_count": 17,
      "metadata": {
        "vscode": {
          "languageId": "plaintext"
        },
        "colab": {
          "base_uri": "https://localhost:8080/"
        },
        "id": "RNG9CQqhkARO",
        "outputId": "9322a776-a870-43b9-ddb2-e717486ce5e4"
      },
      "outputs": [
        {
          "output_type": "stream",
          "name": "stdout",
          "text": [
            "+---+-------+---+----------+------+\n",
            "| id|   name|age|department|salary|\n",
            "+---+-------+---+----------+------+\n",
            "|  1|  Alice| 30|        HR|  5000|\n",
            "|  3|Charlie| 35|   Finance|  7000|\n",
            "|  4|  David| 40|        HR|  8000|\n",
            "|  5|    Eve| 34|   Finance|  7000|\n",
            "+---+-------+---+----------+------+\n",
            "\n"
          ]
        }
      ],
      "source": [
        "df_filtered = df.filter(col(\"department\").isin(\"HR\", \"Finance\"))\n",
        "df_filtered.show()"
      ]
    },
    {
      "cell_type": "code",
      "execution_count": 19,
      "metadata": {
        "vscode": {
          "languageId": "plaintext"
        },
        "colab": {
          "base_uri": "https://localhost:8080/"
        },
        "id": "zjBcFe47kARP",
        "outputId": "9541277e-85ac-40e7-ca92-a47e20e13e92"
      },
      "outputs": [
        {
          "output_type": "stream",
          "name": "stdout",
          "text": [
            "+---+-----+---+----------+------+\n",
            "| id| name|age|department|salary|\n",
            "+---+-----+---+----------+------+\n",
            "|  1|Alice| 30|        HR|  5000|\n",
            "+---+-----+---+----------+------+\n",
            "\n"
          ]
        }
      ],
      "source": [
        "df_filtered = df.filter(col(\"name\").startswith(\"A\"))\n",
        "df_filtered.show()"
      ]
    },
    {
      "cell_type": "code",
      "execution_count": 21,
      "metadata": {
        "vscode": {
          "languageId": "plaintext"
        },
        "colab": {
          "base_uri": "https://localhost:8080/"
        },
        "id": "qAVWpk1IkARQ",
        "outputId": "e81035b8-c060-49ee-b5db-24f6e333590c"
      },
      "outputs": [
        {
          "output_type": "stream",
          "name": "stdout",
          "text": [
            "+---+----+---+----------+------+\n",
            "| id|name|age|department|salary|\n",
            "+---+----+---+----------+------+\n",
            "+---+----+---+----------+------+\n",
            "\n"
          ]
        }
      ],
      "source": [
        "df_filtered = df.filter(col(\"name\").endswith(\"A\"))\n",
        "df_filtered.show()"
      ]
    },
    {
      "cell_type": "code",
      "execution_count": 23,
      "metadata": {
        "vscode": {
          "languageId": "plaintext"
        },
        "colab": {
          "base_uri": "https://localhost:8080/"
        },
        "id": "Q_MhZc0FkARW",
        "outputId": "b47eb911-7ff2-425f-bbc2-9eb3a9b5ec71"
      },
      "outputs": [
        {
          "output_type": "stream",
          "name": "stdout",
          "text": [
            "+---+-------+---+----------+------+\n",
            "| id|   name|age|department|salary|\n",
            "+---+-------+---+----------+------+\n",
            "|  1|  Alice| 30|        HR|  5000|\n",
            "|  2|    Bob| 25|        IT|  6000|\n",
            "|  3|Charlie| 35|   Finance|  7000|\n",
            "|  4|  David| 40|        HR|  8000|\n",
            "|  5|    Eve| 34|   Finance|  7000|\n",
            "+---+-------+---+----------+------+\n",
            "\n"
          ]
        }
      ],
      "source": [
        "df_filtered = df.filter(col(\"salary\").isNotNull())\n",
        "df_filtered.show()"
      ]
    },
    {
      "cell_type": "markdown",
      "source": [
        "### Type Casting"
      ],
      "metadata": {
        "id": "We5o-7sXszKK"
      }
    },
    {
      "cell_type": "code",
      "execution_count": 24,
      "metadata": {
        "vscode": {
          "languageId": "plaintext"
        },
        "colab": {
          "base_uri": "https://localhost:8080/"
        },
        "id": "fjxaWO80kARW",
        "outputId": "c6063b63-bec3-4f67-9aa0-6e40ab9ccf0c"
      },
      "outputs": [
        {
          "output_type": "stream",
          "name": "stdout",
          "text": [
            "+---+---+------+\n",
            "| id|age|salary|\n",
            "+---+---+------+\n",
            "|  1| 30|5000.0|\n",
            "|  2| 25|6000.0|\n",
            "|  3| 35|7000.0|\n",
            "|  4| 40|8000.0|\n",
            "|  5| 34|7000.0|\n",
            "+---+---+------+\n",
            "\n"
          ]
        }
      ],
      "source": [
        "df_casted = df.select(\n",
        " col(\"id\").cast(\"int\"),\n",
        " col(\"age\").cast(\"int\"),\n",
        " col(\"salary\").cast(\"double\")\n",
        " )\n",
        "df_casted.show()"
      ]
    },
    {
      "cell_type": "code",
      "execution_count": 26,
      "metadata": {
        "vscode": {
          "languageId": "plaintext"
        },
        "colab": {
          "base_uri": "https://localhost:8080/"
        },
        "id": "cuWkQ5ykkARW",
        "outputId": "1dd6cc86-7fe4-4026-d836-c97ca5a8c689"
      },
      "outputs": [
        {
          "output_type": "stream",
          "name": "stdout",
          "text": [
            "+---+-------+---+----------+-------+\n",
            "| id|   name|age|department| salary|\n",
            "+---+-------+---+----------+-------+\n",
            "|  1|  Alice| 30|        HR|5000.00|\n",
            "|  2|    Bob| 25|        IT|6000.00|\n",
            "|  3|Charlie| 35|   Finance|7000.00|\n",
            "|  4|  David| 40|        HR|8000.00|\n",
            "|  5|    Eve| 34|   Finance|7000.00|\n",
            "+---+-------+---+----------+-------+\n",
            "\n"
          ]
        }
      ],
      "source": [
        "from pyspark.sql.types import DecimalType\n",
        "df_casted = df.withColumn(\"age\", col(\"age\").cast(\"int\")) \\\n",
        " .withColumn(\"salary\", col(\"salary\").cast(DecimalType(10, 2)))\n",
        "df_casted.show()"
      ]
    },
    {
      "cell_type": "markdown",
      "source": [
        "### WithColumn() – Add, Modify, or Drop Columns"
      ],
      "metadata": {
        "id": "hL4M1RX-s4d3"
      }
    },
    {
      "cell_type": "code",
      "execution_count": 29,
      "metadata": {
        "vscode": {
          "languageId": "plaintext"
        },
        "colab": {
          "base_uri": "https://localhost:8080/"
        },
        "id": "PdOeBI5pkARc",
        "outputId": "cce58ce4-9419-45c0-b06d-a87d8e18d53f"
      },
      "outputs": [
        {
          "output_type": "stream",
          "name": "stdout",
          "text": [
            "+---+-------+---+----------+------+\n",
            "| id|   name|age|department|salary|\n",
            "+---+-------+---+----------+------+\n",
            "|  1|  Alice| 35|        HR|  5000|\n",
            "|  2|    Bob| 30|        IT|  5000|\n",
            "|  3|Charlie| 40|   Finance|  5000|\n",
            "|  4|  David| 45|        HR|  5000|\n",
            "|  5|    Eve| 39|   Finance|  5000|\n",
            "+---+-------+---+----------+------+\n",
            "\n"
          ]
        }
      ],
      "source": [
        "# Add a new column 'salary' with a constant value\n",
        "from pyspark.sql.functions import lit\n",
        "df = df.withColumn(\"salary\", lit(5000))\n",
        "df.show()"
      ]
    },
    {
      "cell_type": "code",
      "execution_count": 28,
      "metadata": {
        "vscode": {
          "languageId": "plaintext"
        },
        "colab": {
          "base_uri": "https://localhost:8080/"
        },
        "id": "eSgkV30PkARd",
        "outputId": "65e97773-8970-4728-dc0c-2a8b972e8069"
      },
      "outputs": [
        {
          "output_type": "stream",
          "name": "stdout",
          "text": [
            "+---+-------+---+----------+------+\n",
            "| id|   name|age|department|salary|\n",
            "+---+-------+---+----------+------+\n",
            "|  1|  Alice| 35|        HR|  5000|\n",
            "|  2|    Bob| 30|        IT|  6000|\n",
            "|  3|Charlie| 40|   Finance|  7000|\n",
            "|  4|  David| 45|        HR|  8000|\n",
            "|  5|    Eve| 39|   Finance|  7000|\n",
            "+---+-------+---+----------+------+\n",
            "\n"
          ]
        }
      ],
      "source": [
        " # Increase age by 5 years\n",
        "df = df.withColumn(\"age\", col(\"age\") + 5)\n",
        "df.show()"
      ]
    },
    {
      "cell_type": "code",
      "execution_count": 27,
      "metadata": {
        "vscode": {
          "languageId": "plaintext"
        },
        "colab": {
          "base_uri": "https://localhost:8080/"
        },
        "id": "tpclReWvkARd",
        "outputId": "aab274bf-e0ce-4848-915f-f1b70e095029"
      },
      "outputs": [
        {
          "output_type": "stream",
          "name": "stdout",
          "text": [
            "+---+-------+---+----------+------+------+\n",
            "| id|   name|age|department|salary|status|\n",
            "+---+-------+---+----------+------+------+\n",
            "|  1|  Alice| 30|        HR|  5000|   Bad|\n",
            "|  2|    Bob| 25|        IT|  6000|   Bad|\n",
            "|  3|Charlie| 35|   Finance|  7000|  Good|\n",
            "|  4|  David| 40|        HR|  8000|  Good|\n",
            "|  5|    Eve| 34|   Finance|  7000|  Good|\n",
            "+---+-------+---+----------+------+------+\n",
            "\n"
          ]
        }
      ],
      "source": [
        " from pyspark.sql.functions import when\n",
        " df_status = df.withColumn(\"status\", when(col(\"salary\") >= 6500, \"Good\").otherwise(\"Bad\"))\n",
        " df_status.show()"
      ]
    },
    {
      "cell_type": "markdown",
      "source": [
        "### Drop"
      ],
      "metadata": {
        "id": "62fgRpwvtEn3"
      }
    },
    {
      "cell_type": "code",
      "execution_count": 30,
      "metadata": {
        "vscode": {
          "languageId": "plaintext"
        },
        "colab": {
          "base_uri": "https://localhost:8080/"
        },
        "id": "By8Y-t-VkARe",
        "outputId": "4cccf788-1d09-41d5-e353-6a635a07851b"
      },
      "outputs": [
        {
          "output_type": "stream",
          "name": "stdout",
          "text": [
            "+---+----------+------+\n",
            "| id|department|salary|\n",
            "+---+----------+------+\n",
            "|  1|        HR|  5000|\n",
            "|  2|        IT|  5000|\n",
            "|  3|   Finance|  5000|\n",
            "|  4|        HR|  5000|\n",
            "|  5|   Finance|  5000|\n",
            "+---+----------+------+\n",
            "\n"
          ]
        }
      ],
      "source": [
        "f = df.drop(\"age\", \"name\")\n",
        "f.show()"
      ]
    },
    {
      "cell_type": "code",
      "execution_count": 31,
      "metadata": {
        "vscode": {
          "languageId": "plaintext"
        },
        "colab": {
          "base_uri": "https://localhost:8080/"
        },
        "id": "_98MoRrXkARk",
        "outputId": "5946781a-4ec3-4aa8-9a92-3be19c56a6f9"
      },
      "outputs": [
        {
          "output_type": "stream",
          "name": "stdout",
          "text": [
            "+---+----------+------+\n",
            "| id|department|salary|\n",
            "+---+----------+------+\n",
            "|  1|        HR|  5000|\n",
            "|  2|        IT|  5000|\n",
            "|  3|   Finance|  5000|\n",
            "|  4|        HR|  5000|\n",
            "|  5|   Finance|  5000|\n",
            "+---+----------+------+\n",
            "\n"
          ]
        }
      ],
      "source": [
        "columns_to_drop = [\"age\", \"name\"]\n",
        "f = df.drop(*columns_to_drop)\n",
        "f.show()"
      ]
    },
    {
      "cell_type": "code",
      "execution_count": 32,
      "metadata": {
        "vscode": {
          "languageId": "plaintext"
        },
        "colab": {
          "base_uri": "https://localhost:8080/"
        },
        "id": "TZxbx1rHkARl",
        "outputId": "9a2fefc7-e87f-4147-8796-50a30166c820"
      },
      "outputs": [
        {
          "output_type": "stream",
          "name": "stdout",
          "text": [
            "+---+-------+---+----------+------+\n",
            "| id|   name|age|department|salary|\n",
            "+---+-------+---+----------+------+\n",
            "|  1|  Alice| 35|        HR|  5000|\n",
            "|  2|    Bob| 30|        IT|  5000|\n",
            "|  3|Charlie| 40|   Finance|  5000|\n",
            "|  4|  David| 45|        HR|  5000|\n",
            "|  5|    Eve| 39|   Finance|  5000|\n",
            "+---+-------+---+----------+------+\n",
            "\n"
          ]
        }
      ],
      "source": [
        "df_cleaned = df.dropna()\n",
        "df_cleaned.show()"
      ]
    },
    {
      "cell_type": "code",
      "execution_count": 33,
      "metadata": {
        "vscode": {
          "languageId": "plaintext"
        },
        "colab": {
          "base_uri": "https://localhost:8080/"
        },
        "id": "zLpjj0hRkARl",
        "outputId": "1788f887-5aff-4e6d-bd48-a507e6734676"
      },
      "outputs": [
        {
          "output_type": "stream",
          "name": "stdout",
          "text": [
            "+---+-------+---+----------+------+\n",
            "| id|   name|age|department|salary|\n",
            "+---+-------+---+----------+------+\n",
            "|  1|  Alice| 35|        HR|  5000|\n",
            "|  2|    Bob| 30|        IT|  5000|\n",
            "|  3|Charlie| 40|   Finance|  5000|\n",
            "|  4|  David| 45|        HR|  5000|\n",
            "|  5|    Eve| 39|   Finance|  5000|\n",
            "+---+-------+---+----------+------+\n",
            "\n"
          ]
        }
      ],
      "source": [
        "df_cleaned = df.dropna(subset=[\"age\"])\n",
        "df_cleaned.show()"
      ]
    },
    {
      "cell_type": "markdown",
      "source": [
        "### dropDuplicates"
      ],
      "metadata": {
        "id": "BgtMaL_ZtJAF"
      }
    },
    {
      "cell_type": "markdown",
      "source": [],
      "metadata": {
        "id": "bXqgUAbktI3a"
      }
    },
    {
      "cell_type": "code",
      "execution_count": 34,
      "metadata": {
        "vscode": {
          "languageId": "plaintext"
        },
        "colab": {
          "base_uri": "https://localhost:8080/"
        },
        "id": "xDKP1BJ5kARl",
        "outputId": "47d932ce-e5f2-48cd-9c55-4f6a709ca371"
      },
      "outputs": [
        {
          "output_type": "stream",
          "name": "stdout",
          "text": [
            "+---+-------+---+----------+------+\n",
            "| id|   name|age|department|salary|\n",
            "+---+-------+---+----------+------+\n",
            "|  1|  Alice| 35|        HR|  5000|\n",
            "|  2|    Bob| 30|        IT|  5000|\n",
            "|  3|Charlie| 40|   Finance|  5000|\n",
            "|  5|    Eve| 39|   Finance|  5000|\n",
            "|  4|  David| 45|        HR|  5000|\n",
            "+---+-------+---+----------+------+\n",
            "\n"
          ]
        }
      ],
      "source": [
        "df_unique = df.dropDuplicates()\n",
        "df_unique.show()"
      ]
    },
    {
      "cell_type": "code",
      "execution_count": 35,
      "metadata": {
        "vscode": {
          "languageId": "plaintext"
        },
        "colab": {
          "base_uri": "https://localhost:8080/"
        },
        "id": "a26k-At2kARr",
        "outputId": "aba70bfb-431e-449b-9131-7935fe56d0e3"
      },
      "outputs": [
        {
          "output_type": "stream",
          "name": "stdout",
          "text": [
            "+---+-------+---+----------+------+\n",
            "| id|   name|age|department|salary|\n",
            "+---+-------+---+----------+------+\n",
            "|  1|  Alice| 35|        HR|  5000|\n",
            "|  2|    Bob| 30|        IT|  5000|\n",
            "|  3|Charlie| 40|   Finance|  5000|\n",
            "|  4|  David| 45|        HR|  5000|\n",
            "|  5|    Eve| 39|   Finance|  5000|\n",
            "+---+-------+---+----------+------+\n",
            "\n"
          ]
        }
      ],
      "source": [
        "df_unique = df.dropDuplicates([\"name\", \"age\"])\n",
        "df_unique.show()"
      ]
    },
    {
      "cell_type": "markdown",
      "source": [
        "### orderBy"
      ],
      "metadata": {
        "id": "fNRRAqCst-Sc"
      }
    },
    {
      "cell_type": "code",
      "execution_count": 36,
      "metadata": {
        "vscode": {
          "languageId": "plaintext"
        },
        "colab": {
          "base_uri": "https://localhost:8080/"
        },
        "id": "L8WaisFukARt",
        "outputId": "1ea26780-e8fb-4ec7-9968-1f4854e825a2"
      },
      "outputs": [
        {
          "output_type": "stream",
          "name": "stdout",
          "text": [
            "+---+-------+---+----------+------+\n",
            "| id|   name|age|department|salary|\n",
            "+---+-------+---+----------+------+\n",
            "|  2|    Bob| 30|        IT|  5000|\n",
            "|  1|  Alice| 35|        HR|  5000|\n",
            "|  5|    Eve| 39|   Finance|  5000|\n",
            "|  3|Charlie| 40|   Finance|  5000|\n",
            "|  4|  David| 45|        HR|  5000|\n",
            "+---+-------+---+----------+------+\n",
            "\n"
          ]
        }
      ],
      "source": [
        "df_sorted = df.orderBy(\"age\")\n",
        "df_sorted.show()"
      ]
    },
    {
      "cell_type": "code",
      "execution_count": 38,
      "metadata": {
        "vscode": {
          "languageId": "plaintext"
        },
        "colab": {
          "base_uri": "https://localhost:8080/"
        },
        "id": "EVqI645OkARu",
        "outputId": "575c5741-9801-432f-f6a3-42d9b1adb543"
      },
      "outputs": [
        {
          "output_type": "stream",
          "name": "stdout",
          "text": [
            "+---+-------+---+----------+------+\n",
            "| id|   name|age|department|salary|\n",
            "+---+-------+---+----------+------+\n",
            "|  4|  David| 45|        HR|  5000|\n",
            "|  3|Charlie| 40|   Finance|  5000|\n",
            "|  5|    Eve| 39|   Finance|  5000|\n",
            "|  1|  Alice| 35|        HR|  5000|\n",
            "|  2|    Bob| 30|        IT|  5000|\n",
            "+---+-------+---+----------+------+\n",
            "\n"
          ]
        }
      ],
      "source": [
        "df_sorted = df.orderBy(col(\"age\").desc())\n",
        "df_sorted.show()"
      ]
    },
    {
      "cell_type": "code",
      "execution_count": 39,
      "metadata": {
        "vscode": {
          "languageId": "plaintext"
        },
        "colab": {
          "base_uri": "https://localhost:8080/"
        },
        "id": "O9rHFmdFkARv",
        "outputId": "9f2066c7-877f-480f-9b74-077280ee563b"
      },
      "outputs": [
        {
          "output_type": "stream",
          "name": "stdout",
          "text": [
            "+---+-------+---+----------+------+\n",
            "| id|   name|age|department|salary|\n",
            "+---+-------+---+----------+------+\n",
            "|  2|    Bob| 30|        IT|  5000|\n",
            "|  1|  Alice| 35|        HR|  5000|\n",
            "|  5|    Eve| 39|   Finance|  5000|\n",
            "|  3|Charlie| 40|   Finance|  5000|\n",
            "|  4|  David| 45|        HR|  5000|\n",
            "+---+-------+---+----------+------+\n",
            "\n"
          ]
        }
      ],
      "source": [
        "df_sorted = df.orderBy(col(\"age\").asc(), col(\"name\").desc())\n",
        "df_sorted.show()"
      ]
    },
    {
      "cell_type": "code",
      "execution_count": 40,
      "metadata": {
        "vscode": {
          "languageId": "plaintext"
        },
        "colab": {
          "base_uri": "https://localhost:8080/"
        },
        "id": "pCy9fnGykAR1",
        "outputId": "60862694-b27b-438b-c502-665e471e81b1"
      },
      "outputs": [
        {
          "output_type": "stream",
          "name": "stdout",
          "text": [
            "+---+-------+---+----------+------+\n",
            "| id|   name|age|department|salary|\n",
            "+---+-------+---+----------+------+\n",
            "|  2|    Bob| 30|        IT|  5000|\n",
            "|  1|  Alice| 35|        HR|  5000|\n",
            "|  5|    Eve| 39|   Finance|  5000|\n",
            "|  3|Charlie| 40|   Finance|  5000|\n",
            "|  4|  David| 45|        HR|  5000|\n",
            "+---+-------+---+----------+------+\n",
            "\n"
          ]
        }
      ],
      "source": [
        "df_sorted = df.sort(col(\"age\").asc(), col(\"name\").desc())\n",
        "df_sorted.show()"
      ]
    },
    {
      "cell_type": "markdown",
      "source": [
        "### limit"
      ],
      "metadata": {
        "id": "LSkUGvh5uhl6"
      }
    },
    {
      "cell_type": "code",
      "execution_count": 41,
      "metadata": {
        "vscode": {
          "languageId": "plaintext"
        },
        "colab": {
          "base_uri": "https://localhost:8080/"
        },
        "id": "7NKKN8hwkAR2",
        "outputId": "aa8c19d0-5070-4396-c689-f7083c8d17d0"
      },
      "outputs": [
        {
          "output_type": "stream",
          "name": "stdout",
          "text": [
            "+---+-----+---+----------+------+\n",
            "| id| name|age|department|salary|\n",
            "+---+-----+---+----------+------+\n",
            "|  1|Alice| 35|        HR|  5000|\n",
            "|  2|  Bob| 30|        IT|  5000|\n",
            "+---+-----+---+----------+------+\n",
            "\n"
          ]
        }
      ],
      "source": [
        "df_limited = df.limit(2)\n",
        "df_limited.show()"
      ]
    },
    {
      "cell_type": "code",
      "execution_count": 42,
      "metadata": {
        "vscode": {
          "languageId": "plaintext"
        },
        "colab": {
          "base_uri": "https://localhost:8080/"
        },
        "id": "0UUvX7xVkAR3",
        "outputId": "f9155567-381b-4212-a5f5-056481ab3420"
      },
      "outputs": [
        {
          "output_type": "stream",
          "name": "stdout",
          "text": [
            "+---+-------+---+----------+------+\n",
            "| id|   name|age|department|salary|\n",
            "+---+-------+---+----------+------+\n",
            "|  4|  David| 45|        HR|  5000|\n",
            "|  3|Charlie| 40|   Finance|  5000|\n",
            "+---+-------+---+----------+------+\n",
            "\n"
          ]
        }
      ],
      "source": [
        "df_top = df.orderBy(col(\"age\").desc()).limit(2)\n",
        "df_top.show()"
      ]
    },
    {
      "cell_type": "markdown",
      "source": [
        "### union"
      ],
      "metadata": {
        "id": "Mwc86b0NukgK"
      }
    },
    {
      "cell_type": "code",
      "execution_count": 43,
      "metadata": {
        "vscode": {
          "languageId": "plaintext"
        },
        "colab": {
          "base_uri": "https://localhost:8080/"
        },
        "id": "jq01Nv9-kAR8",
        "outputId": "3da891eb-9768-42aa-d151-6dc847cee95a"
      },
      "outputs": [
        {
          "output_type": "stream",
          "name": "stdout",
          "text": [
            "+---+-------+---+\n",
            "| id|   name|age|\n",
            "+---+-------+---+\n",
            "|  1|  Alice| 30|\n",
            "|  2|    Bob| 25|\n",
            "|  3|Charlie| 35|\n",
            "|  4|  David| 40|\n",
            "+---+-------+---+\n",
            "\n"
          ]
        }
      ],
      "source": [
        "data1 = [(1, \"Alice\", 30), (2, \"Bob\", 25)]\n",
        "data2 = [(3, \"Charlie\", 35), (4, \"David\", 40)]\n",
        "schema = [\"id\", \"name\", \"age\"]\n",
        " # Create DataFrames\n",
        "df1 = spark.createDataFrame(data1, schema=schema)\n",
        "df2 = spark.createDataFrame(data2, schema=schema)\n",
        " # Union\n",
        "df_union = df1.union(df2)\n",
        "df_union.show()"
      ]
    },
    {
      "cell_type": "code",
      "execution_count": 44,
      "metadata": {
        "vscode": {
          "languageId": "plaintext"
        },
        "colab": {
          "base_uri": "https://localhost:8080/"
        },
        "id": "BAHCgo08kAR9",
        "outputId": "ff68e9b5-7ed9-4c2d-e64a-6be3508b641a"
      },
      "outputs": [
        {
          "output_type": "stream",
          "name": "stdout",
          "text": [
            "+---+-----+---+\n",
            "| id| name|age|\n",
            "+---+-----+---+\n",
            "|  1|Alice| 30|\n",
            "|  2|  Bob| 25|\n",
            "|  5|  Eve| 50|\n",
            "|  6|Frank| 45|\n",
            "+---+-----+---+\n",
            "\n"
          ]
        }
      ],
      "source": [
        "data3 = [(5, 50, \"Eve\"), (6, 45, \"Frank\")]\n",
        "schema_different = [\"id\", \"age\", \"name\"]  # Age and Name are swapped\n",
        " # Create DataFrame\n",
        "df3 = spark.createDataFrame(data3, schema=schema_different)\n",
        " # Union by Name\n",
        "df_union_by_name = df1.unionByName(df3,allowMissingColumns=True)\n",
        "df_union_by_name.show()"
      ]
    },
    {
      "cell_type": "code",
      "execution_count": 45,
      "metadata": {
        "vscode": {
          "languageId": "plaintext"
        },
        "id": "6wkTrPzLkAR_"
      },
      "outputs": [],
      "source": [
        "from pyspark.sql.functions import count"
      ]
    },
    {
      "cell_type": "markdown",
      "source": [
        "### Agg"
      ],
      "metadata": {
        "id": "ZSqjB-ZIvOr_"
      }
    },
    {
      "cell_type": "code",
      "execution_count": 46,
      "metadata": {
        "vscode": {
          "languageId": "plaintext"
        },
        "colab": {
          "base_uri": "https://localhost:8080/"
        },
        "id": "tTiV9opvkAR_",
        "outputId": "b9769aca-9528-4d94-e3ac-4ddf6d32b6e3"
      },
      "outputs": [
        {
          "output_type": "stream",
          "name": "stdout",
          "text": [
            "+----------+--------------+\n",
            "|department|employee_count|\n",
            "+----------+--------------+\n",
            "|        HR|             2|\n",
            "|        IT|             1|\n",
            "|   Finance|             2|\n",
            "+----------+--------------+\n",
            "\n"
          ]
        }
      ],
      "source": [
        "df_grouped = df.groupBy(\"department\").agg(count(\"*\").alias(\"employee_count\"))\n",
        "df_grouped.show()"
      ]
    },
    {
      "cell_type": "code",
      "execution_count": 50,
      "metadata": {
        "vscode": {
          "languageId": "plaintext"
        },
        "colab": {
          "base_uri": "https://localhost:8080/"
        },
        "id": "8YfeCRuvkASF",
        "outputId": "05ca8b01-ef08-44d6-82e2-0a42fd29f7f8"
      },
      "outputs": [
        {
          "output_type": "stream",
          "name": "stdout",
          "text": [
            "+----------+--------------+------------+----------+----------+----------+\n",
            "|department|employee_count|total_salary|avg_salary|max_salary|min_salary|\n",
            "+----------+--------------+------------+----------+----------+----------+\n",
            "|        HR|             2|       13000|    6500.0|      8000|      5000|\n",
            "|        IT|             1|        6000|    6000.0|      6000|      6000|\n",
            "|   Finance|             2|       14000|    7000.0|      7000|      7000|\n",
            "+----------+--------------+------------+----------+----------+----------+\n",
            "\n"
          ]
        }
      ],
      "source": [
        "from pyspark.sql.functions import sum, avg, max, min\n",
        "df_grouped = df.groupBy(\"department\").agg(\n",
        " count(\"*\").alias(\"employee_count\"),\n",
        " sum(\"salary\").alias(\"total_salary\"),\n",
        " avg(\"salary\").alias(\"avg_salary\"),\n",
        " max(\"salary\").alias(\"max_salary\"),\n",
        " min(\"salary\").alias(\"min_salary\")\n",
        " )\n",
        "df_grouped.show()"
      ]
    },
    {
      "cell_type": "code",
      "execution_count": 51,
      "metadata": {
        "vscode": {
          "languageId": "plaintext"
        },
        "colab": {
          "base_uri": "https://localhost:8080/"
        },
        "id": "KQ_9Dh23kASF",
        "outputId": "13023086-e73b-4b36-eee7-d3692d9d4a0b"
      },
      "outputs": [
        {
          "output_type": "stream",
          "name": "stdout",
          "text": [
            "+----------+------+-----+\n",
            "|department|salary|count|\n",
            "+----------+------+-----+\n",
            "|        IT|  6000|    1|\n",
            "|        HR|  5000|    1|\n",
            "|   Finance|  7000|    2|\n",
            "|        HR|  8000|    1|\n",
            "+----------+------+-----+\n",
            "\n"
          ]
        }
      ],
      "source": [
        "df_grouped = df.groupBy(\"department\", \"salary\").count()\n",
        "df_grouped.show()"
      ]
    },
    {
      "cell_type": "markdown",
      "source": [
        "### Split"
      ],
      "metadata": {
        "id": "FKizYd2bvhnc"
      }
    },
    {
      "cell_type": "code",
      "execution_count": 52,
      "metadata": {
        "vscode": {
          "languageId": "plaintext"
        },
        "colab": {
          "base_uri": "https://localhost:8080/"
        },
        "id": "Bi9S5gR8kASa",
        "outputId": "de46822f-441d-44f0-bf88-536bc2d288c5"
      },
      "outputs": [
        {
          "output_type": "stream",
          "name": "stdout",
          "text": [
            "+-------------+\n",
            "|    full_name|\n",
            "+-------------+\n",
            "|     John Doe|\n",
            "|Alice Johnson|\n",
            "|    Bob Smith|\n",
            "+-------------+\n",
            "\n"
          ]
        }
      ],
      "source": [
        "data2 = [(\"John Doe\",), (\"Alice Johnson\",), (\"Bob Smith\",)]\n",
        "schema = [\"full_name\"]\n",
        " # Create DataFrame\n",
        "df = spark.createDataFrame(data2, schema=schema)\n",
        "df.show()"
      ]
    },
    {
      "cell_type": "code",
      "execution_count": 54,
      "metadata": {
        "vscode": {
          "languageId": "plaintext"
        },
        "colab": {
          "base_uri": "https://localhost:8080/"
        },
        "id": "kDRx15BBkASb",
        "outputId": "b9b703e8-4619-49f8-e5b2-36d65cfb14b5"
      },
      "outputs": [
        {
          "output_type": "stream",
          "name": "stdout",
          "text": [
            "+-------------+----------------+\n",
            "|full_name    |name_parts      |\n",
            "+-------------+----------------+\n",
            "|John Doe     |[John, Doe]     |\n",
            "|Alice Johnson|[Alice, Johnson]|\n",
            "|Bob Smith    |[Bob, Smith]    |\n",
            "+-------------+----------------+\n",
            "\n"
          ]
        }
      ],
      "source": [
        "from pyspark.sql.functions import split\n",
        "df_split = df.withColumn(\"name_parts\", split(col(\"full_name\"), \" \"))\n",
        "df_split.show(truncate=False)"
      ]
    },
    {
      "cell_type": "code",
      "execution_count": 55,
      "metadata": {
        "vscode": {
          "languageId": "plaintext"
        },
        "colab": {
          "base_uri": "https://localhost:8080/"
        },
        "id": "qfoCp2BHkASh",
        "outputId": "5c4bdf95-cb96-4f3a-cdb1-679570de62e7"
      },
      "outputs": [
        {
          "output_type": "stream",
          "name": "stdout",
          "text": [
            "+-------------+----------------+----------+\n",
            "|full_name    |name_parts      |first_name|\n",
            "+-------------+----------------+----------+\n",
            "|John Doe     |[John, Doe]     |John      |\n",
            "|Alice Johnson|[Alice, Johnson]|Alice     |\n",
            "|Bob Smith    |[Bob, Smith]    |Bob       |\n",
            "+-------------+----------------+----------+\n",
            "\n"
          ]
        }
      ],
      "source": [
        "df_split = df_split.withColumn(\"first_name\", col(\"name_parts\")[0])\n",
        "df_split.show(truncate=False)"
      ]
    },
    {
      "cell_type": "code",
      "execution_count": 57,
      "metadata": {
        "vscode": {
          "languageId": "plaintext"
        },
        "id": "hZI5MgCnkASj"
      },
      "outputs": [],
      "source": [
        "from pyspark.sql.functions import explode\n",
        "df_exploded = df_split.withColumn(\"word\", explode(df_split.name_parts)).drop(\"name_parts\")"
      ]
    },
    {
      "cell_type": "markdown",
      "metadata": {
        "id": "PnlT2AGGkASk"
      },
      "source": [
        "### explode"
      ]
    },
    {
      "cell_type": "code",
      "execution_count": 59,
      "metadata": {
        "vscode": {
          "languageId": "plaintext"
        },
        "colab": {
          "base_uri": "https://localhost:8080/"
        },
        "id": "VBvKJl7NkASt",
        "outputId": "c8d7e9df-e78a-4c47-991a-2031051238a6"
      },
      "outputs": [
        {
          "output_type": "stream",
          "name": "stdout",
          "text": [
            "+---+-------------+------------------------+\n",
            "|id |name         |skills                  |\n",
            "+---+-------------+------------------------+\n",
            "|1  |John Doe     |[Python, Java, SQL]     |\n",
            "|2  |Alice Johnson|[Scala, C++]            |\n",
            "|3  |Bob Smith    |[JavaScript, Python, Go]|\n",
            "+---+-------------+------------------------+\n",
            "\n"
          ]
        }
      ],
      "source": [
        "data3 = [\n",
        " (1, \"John Doe\", [\"Python\", \"Java\", \"SQL\"]),\n",
        " (2, \"Alice Johnson\", [\"Scala\", \"C++\"]),\n",
        " (3, \"Bob Smith\", [\"JavaScript\", \"Python\", \"Go\"])\n",
        " ]\n",
        "schema = [\"id\", \"name\", \"skills\"]\n",
        " # Create DataFrame\n",
        "df = spark.createDataFrame(data3, schema=schema)\n",
        "df.show(truncate=False)"
      ]
    },
    {
      "cell_type": "code",
      "execution_count": 60,
      "metadata": {
        "vscode": {
          "languageId": "plaintext"
        },
        "colab": {
          "base_uri": "https://localhost:8080/"
        },
        "id": "56gsFgI0kASv",
        "outputId": "579fd0fe-3ee2-48c9-8f75-4aeebc5fd58d"
      },
      "outputs": [
        {
          "output_type": "stream",
          "name": "stdout",
          "text": [
            "+---+-------------+----------+\n",
            "| id|         name|     skill|\n",
            "+---+-------------+----------+\n",
            "|  1|     John Doe|    Python|\n",
            "|  1|     John Doe|      Java|\n",
            "|  1|     John Doe|       SQL|\n",
            "|  2|Alice Johnson|     Scala|\n",
            "|  2|Alice Johnson|       C++|\n",
            "|  3|    Bob Smith|JavaScript|\n",
            "|  3|    Bob Smith|    Python|\n",
            "|  3|    Bob Smith|        Go|\n",
            "+---+-------------+----------+\n",
            "\n"
          ]
        }
      ],
      "source": [
        "df_exploded = df.withColumn(\"skill\", explode(df.skills)).drop(\"skills\")\n",
        "df_exploded.show()"
      ]
    },
    {
      "cell_type": "markdown",
      "source": [
        "### array_contains"
      ],
      "metadata": {
        "id": "Q_QGggtwv1gc"
      }
    },
    {
      "cell_type": "code",
      "execution_count": 63,
      "metadata": {
        "vscode": {
          "languageId": "plaintext"
        },
        "colab": {
          "base_uri": "https://localhost:8080/"
        },
        "id": "F3j3_WojkASw",
        "outputId": "994750f1-2313-416d-ff9f-6de2da9bcc16"
      },
      "outputs": [
        {
          "output_type": "stream",
          "name": "stdout",
          "text": [
            "+---+-------------+--------------------+----------+\n",
            "| id|         name|              skills|has_python|\n",
            "+---+-------------+--------------------+----------+\n",
            "|  1|     John Doe| [Python, Java, SQL]|      true|\n",
            "|  2|Alice Johnson|        [Scala, C++]|     false|\n",
            "|  3|    Bob Smith|[JavaScript, Pyth...|      true|\n",
            "+---+-------------+--------------------+----------+\n",
            "\n"
          ]
        }
      ],
      "source": [
        "\n",
        "from pyspark.sql.functions import array_contains\n",
        "df_contains = df.withColumn(\"has_python\", array_contains(col(\"skills\"), \"Python\"))\n",
        "df_contains.show()"
      ]
    },
    {
      "cell_type": "code",
      "execution_count": 64,
      "metadata": {
        "vscode": {
          "languageId": "plaintext"
        },
        "colab": {
          "base_uri": "https://localhost:8080/"
        },
        "id": "-6_YJlQlkAS3",
        "outputId": "f6571832-769a-4065-92ae-5976da9babe0"
      },
      "outputs": [
        {
          "output_type": "stream",
          "name": "stdout",
          "text": [
            "+-------------+----------+\n",
            "|         name|knows_java|\n",
            "+-------------+----------+\n",
            "|     John Doe|      true|\n",
            "|Alice Johnson|     false|\n",
            "|    Bob Smith|     false|\n",
            "+-------------+----------+\n",
            "\n"
          ]
        }
      ],
      "source": [
        "df.select(\"name\", array_contains(col(\"skills\"), \"Java\").alias(\"knows_java\")).show()"
      ]
    },
    {
      "cell_type": "code",
      "execution_count": 65,
      "metadata": {
        "vscode": {
          "languageId": "plaintext"
        },
        "colab": {
          "base_uri": "https://localhost:8080/"
        },
        "id": "CsKNZPIekAS5",
        "outputId": "dc153a14-8c33-4483-8910-921bbc7da08b"
      },
      "outputs": [
        {
          "output_type": "stream",
          "name": "stdout",
          "text": [
            "+---+-------------+--------------------+-------------------+\n",
            "| id|         name|              skills|has_python_or_scala|\n",
            "+---+-------------+--------------------+-------------------+\n",
            "|  1|     John Doe| [Python, Java, SQL]|               true|\n",
            "|  2|Alice Johnson|        [Scala, C++]|               true|\n",
            "|  3|    Bob Smith|[JavaScript, Pyth...|               true|\n",
            "+---+-------------+--------------------+-------------------+\n",
            "\n"
          ]
        }
      ],
      "source": [
        "\n",
        "from pyspark.sql.functions import expr\n",
        "df_multiple = df.withColumn(\"has_python_or_scala\", expr(\"array_contains(skills, 'Python') OR array_contains(skills, 'Scala')\"))\n",
        "df_multiple.show()"
      ]
    },
    {
      "cell_type": "markdown",
      "source": [
        "### collect_list"
      ],
      "metadata": {
        "id": "_2cUrQSwv6DJ"
      }
    },
    {
      "cell_type": "code",
      "execution_count": 67,
      "metadata": {
        "vscode": {
          "languageId": "plaintext"
        },
        "id": "o1yMKZl1kAS7"
      },
      "outputs": [],
      "source": [
        "from pyspark.sql.functions import collect_list"
      ]
    },
    {
      "cell_type": "code",
      "execution_count": 68,
      "metadata": {
        "vscode": {
          "languageId": "plaintext"
        },
        "colab": {
          "base_uri": "https://localhost:8080/"
        },
        "id": "ju7Hmp1VkAS8",
        "outputId": "fe411e03-fc2b-4a0e-8dec-6f75c26b4c5c"
      },
      "outputs": [
        {
          "output_type": "stream",
          "name": "stdout",
          "text": [
            "+---+-------+----------+\n",
            "| id|   name|     skill|\n",
            "+---+-------+----------+\n",
            "|  1|  Alice|    Python|\n",
            "|  1|  Alice|      Java|\n",
            "|  2|    Bob|     Scala|\n",
            "|  2|    Bob|    Python|\n",
            "|  2|    Bob|        Go|\n",
            "|  3|Charlie|JavaScript|\n",
            "|  3|Charlie|       C++|\n",
            "+---+-------+----------+\n",
            "\n"
          ]
        }
      ],
      "source": [
        "data = [\n",
        "    (1, \"Alice\", \"Python\"),\n",
        "    (1, \"Alice\", \"Java\"),\n",
        "    (2, \"Bob\", \"Scala\"),\n",
        "    (2, \"Bob\", \"Python\"),\n",
        "    (2, \"Bob\", \"Go\"),\n",
        "    (3, \"Charlie\", \"JavaScript\"),\n",
        "    (3, \"Charlie\", \"C++\")\n",
        "]\n",
        "schema = [\"id\", \"name\", \"skill\"]\n",
        "\n",
        "# Create DataFrame\n",
        "df = spark.createDataFrame(data, schema=schema)\n",
        "\n",
        "df.show()"
      ]
    },
    {
      "cell_type": "code",
      "execution_count": 69,
      "metadata": {
        "vscode": {
          "languageId": "plaintext"
        },
        "colab": {
          "base_uri": "https://localhost:8080/"
        },
        "id": "FjUp7_g_kATD",
        "outputId": "db106cdc-27e5-4af7-eaa1-c7462c481895"
      },
      "outputs": [
        {
          "output_type": "stream",
          "name": "stdout",
          "text": [
            "+---+-------+-------------------+\n",
            "|id |name   |skills             |\n",
            "+---+-------+-------------------+\n",
            "|2  |Bob    |[Scala, Python, Go]|\n",
            "|1  |Alice  |[Python, Java]     |\n",
            "|3  |Charlie|[JavaScript, C++]  |\n",
            "+---+-------+-------------------+\n",
            "\n"
          ]
        }
      ],
      "source": [
        " df_grouped = df.groupBy(\"id\", \"name\").agg(collect_list(\"skill\").alias(\"skills\"))\n",
        " df_grouped.show(truncate=False)"
      ]
    },
    {
      "cell_type": "code",
      "execution_count": 71,
      "metadata": {
        "vscode": {
          "languageId": "plaintext"
        },
        "colab": {
          "base_uri": "https://localhost:8080/"
        },
        "id": "aj8IqhO2kATE",
        "outputId": "21b7b04b-782c-437a-9b39-fffa9c5b6af8"
      },
      "outputs": [
        {
          "output_type": "stream",
          "name": "stdout",
          "text": [
            "+---+-------+-------+-----+\n",
            "| id|   name|subject|marks|\n",
            "+---+-------+-------+-----+\n",
            "|  1|  Alice|   Math|   85|\n",
            "|  1|  Alice|Science|   90|\n",
            "|  1|  Alice|English|   78|\n",
            "|  2|    Bob|   Math|   92|\n",
            "|  2|    Bob|Science|   88|\n",
            "|  2|    Bob|English|   81|\n",
            "|  3|Charlie|   Math|   75|\n",
            "|  3|Charlie|Science|   95|\n",
            "|  3|Charlie|English|   85|\n",
            "+---+-------+-------+-----+\n",
            "\n"
          ]
        }
      ],
      "source": [
        "data = [\n",
        "    (1, \"Alice\", \"Math\", 85),\n",
        "    (1, \"Alice\", \"Science\", 90),\n",
        "    (1, \"Alice\", \"English\", 78),\n",
        "    (2, \"Bob\", \"Math\", 92),\n",
        "    (2, \"Bob\", \"Science\", 88),\n",
        "    (2, \"Bob\", \"English\", 81),\n",
        "    (3, \"Charlie\", \"Math\", 75),\n",
        "    (3, \"Charlie\", \"Science\", 95),\n",
        "    (3, \"Charlie\", \"English\", 85)\n",
        "]\n",
        "schema = [\"id\", \"name\", \"subject\", \"marks\"]\n",
        "\n",
        "# Create DataFrame\n",
        "df = spark.createDataFrame(data, schema=schema)\n",
        "\n",
        "df.show()"
      ]
    },
    {
      "cell_type": "markdown",
      "source": [
        "### pivot"
      ],
      "metadata": {
        "id": "JungQ5Env999"
      }
    },
    {
      "cell_type": "code",
      "execution_count": 72,
      "metadata": {
        "vscode": {
          "languageId": "plaintext"
        },
        "colab": {
          "base_uri": "https://localhost:8080/"
        },
        "id": "A7iSzTnxkATG",
        "outputId": "6192f6f9-b879-40a8-ac43-bb05673de5dd"
      },
      "outputs": [
        {
          "output_type": "stream",
          "name": "stdout",
          "text": [
            "+---+-------+-------+----+-------+\n",
            "| id|   name|English|Math|Science|\n",
            "+---+-------+-------+----+-------+\n",
            "|  3|Charlie|     85|  75|     95|\n",
            "|  2|    Bob|     81|  92|     88|\n",
            "|  1|  Alice|     78|  85|     90|\n",
            "+---+-------+-------+----+-------+\n",
            "\n"
          ]
        }
      ],
      "source": [
        "df_pivot = df.groupBy(\"id\", \"name\").pivot(\"subject\").sum(\"marks\")\n",
        "df_pivot.show()"
      ]
    },
    {
      "cell_type": "markdown",
      "metadata": {
        "id": "S5lzQEyNkATN"
      },
      "source": [
        "### Join"
      ]
    },
    {
      "cell_type": "code",
      "execution_count": 73,
      "metadata": {
        "vscode": {
          "languageId": "plaintext"
        },
        "colab": {
          "base_uri": "https://localhost:8080/"
        },
        "id": "9a0n_sNVkATO",
        "outputId": "c3f4f7be-b184-490c-fa5d-e0eda9081d51"
      },
      "outputs": [
        {
          "output_type": "stream",
          "name": "stdout",
          "text": [
            "+---+-------+-----+\n",
            "| id|   name|marks|\n",
            "+---+-------+-----+\n",
            "|  1|  Alice|   85|\n",
            "|  2|    Bob|   78|\n",
            "|  3|Charlie|   92|\n",
            "|  4|  David|   65|\n",
            "+---+-------+-----+\n",
            "\n",
            "+---+-------+\n",
            "| id| course|\n",
            "+---+-------+\n",
            "|  1|   Math|\n",
            "|  2|Science|\n",
            "|  3|English|\n",
            "|  5|History|\n",
            "+---+-------+\n",
            "\n"
          ]
        }
      ],
      "source": [
        "data1 = [(1, \"Alice\", 85), (2, \"Bob\", 78), (3, \"Charlie\", 92), (4, \"David\", 65)]\n",
        "columns1 = [\"id\", \"name\", \"marks\"]\n",
        "df1 = spark.createDataFrame(data1, columns1)\n",
        "\n",
        "# Right DataFrame (Courses)\n",
        "data2 = [(1, \"Math\"), (2, \"Science\"), (3, \"English\"), (5, \"History\")]\n",
        "columns2 = [\"id\", \"course\"]\n",
        "df2 = spark.createDataFrame(data2, columns2)\n",
        "\n",
        "# Show DataFrames\n",
        "df1.show()\n",
        "df2.show()"
      ]
    },
    {
      "cell_type": "code",
      "execution_count": 74,
      "metadata": {
        "vscode": {
          "languageId": "plaintext"
        },
        "colab": {
          "base_uri": "https://localhost:8080/"
        },
        "id": "XKIKwpS_kATP",
        "outputId": "e3f20345-9c85-4d54-9213-f93da49bcede"
      },
      "outputs": [
        {
          "output_type": "stream",
          "name": "stdout",
          "text": [
            "+---+-------+-----+-------+\n",
            "| id|   name|marks| course|\n",
            "+---+-------+-----+-------+\n",
            "|  1|  Alice|   85|   Math|\n",
            "|  2|    Bob|   78|Science|\n",
            "|  3|Charlie|   92|English|\n",
            "+---+-------+-----+-------+\n",
            "\n"
          ]
        }
      ],
      "source": [
        "df_inner = df1.join(df2, on=\"id\", how=\"inner\")\n",
        "df_inner.show()"
      ]
    },
    {
      "cell_type": "code",
      "execution_count": 75,
      "metadata": {
        "vscode": {
          "languageId": "plaintext"
        },
        "colab": {
          "base_uri": "https://localhost:8080/"
        },
        "id": "BIWvS9YDkATR",
        "outputId": "d4ea51c7-8c21-4c48-bcaf-eb7ea8109bd0"
      },
      "outputs": [
        {
          "output_type": "stream",
          "name": "stdout",
          "text": [
            "+---+-------+-----+-------+\n",
            "| id|   name|marks| course|\n",
            "+---+-------+-----+-------+\n",
            "|  1|  Alice|   85|   Math|\n",
            "|  2|    Bob|   78|Science|\n",
            "|  3|Charlie|   92|English|\n",
            "|  4|  David|   65|   NULL|\n",
            "+---+-------+-----+-------+\n",
            "\n"
          ]
        }
      ],
      "source": [
        "df_left = df1.join(df2, on=\"id\", how=\"left\")\n",
        "df_left.show()"
      ]
    },
    {
      "cell_type": "code",
      "execution_count": 76,
      "metadata": {
        "vscode": {
          "languageId": "plaintext"
        },
        "colab": {
          "base_uri": "https://localhost:8080/"
        },
        "id": "ErptfsTXkATY",
        "outputId": "b015fda1-f255-4cb6-fb7b-e19141cf40bc"
      },
      "outputs": [
        {
          "output_type": "stream",
          "name": "stdout",
          "text": [
            "+---+-------+-----+-------+\n",
            "| id|   name|marks| course|\n",
            "+---+-------+-----+-------+\n",
            "|  1|  Alice|   85|   Math|\n",
            "|  2|    Bob|   78|Science|\n",
            "|  5|   NULL| NULL|History|\n",
            "|  3|Charlie|   92|English|\n",
            "+---+-------+-----+-------+\n",
            "\n"
          ]
        }
      ],
      "source": [
        "df_right = df1.join(df2, on=\"id\", how=\"right\")\n",
        "df_right.show()"
      ]
    },
    {
      "cell_type": "code",
      "execution_count": 77,
      "metadata": {
        "vscode": {
          "languageId": "plaintext"
        },
        "colab": {
          "base_uri": "https://localhost:8080/"
        },
        "id": "_kDezVG7kATZ",
        "outputId": "4524f85c-da8b-4c80-ab71-0ce18d3b36fb"
      },
      "outputs": [
        {
          "output_type": "stream",
          "name": "stdout",
          "text": [
            "+---+-------+-----+-------+\n",
            "| id|   name|marks| course|\n",
            "+---+-------+-----+-------+\n",
            "|  1|  Alice|   85|   Math|\n",
            "|  2|    Bob|   78|Science|\n",
            "|  3|Charlie|   92|English|\n",
            "|  4|  David|   65|   NULL|\n",
            "|  5|   NULL| NULL|History|\n",
            "+---+-------+-----+-------+\n",
            "\n"
          ]
        }
      ],
      "source": [
        "df_full = df1.join(df2, on=\"id\", how=\"full\")\n",
        "df_full.show()"
      ]
    },
    {
      "cell_type": "code",
      "execution_count": 78,
      "metadata": {
        "vscode": {
          "languageId": "plaintext"
        },
        "colab": {
          "base_uri": "https://localhost:8080/"
        },
        "id": "VwcHqT1lkATb",
        "outputId": "4ffb925e-e49a-43d3-cf5b-ebaf13900a3b"
      },
      "outputs": [
        {
          "output_type": "stream",
          "name": "stdout",
          "text": [
            "+---+-----+-----+\n",
            "| id| name|marks|\n",
            "+---+-----+-----+\n",
            "|  4|David|   65|\n",
            "+---+-----+-----+\n",
            "\n"
          ]
        }
      ],
      "source": [
        "df_anti = df1.join(df2, on=\"id\", how=\"left_anti\")\n",
        "df_anti.show()"
      ]
    },
    {
      "cell_type": "markdown",
      "source": [
        "### String"
      ],
      "metadata": {
        "id": "wQLiGna0wCGY"
      }
    },
    {
      "cell_type": "code",
      "execution_count": 79,
      "metadata": {
        "vscode": {
          "languageId": "plaintext"
        },
        "colab": {
          "base_uri": "https://localhost:8080/"
        },
        "id": "yHD0mRGYkATh",
        "outputId": "337a2450-31b5-4b66-f013-5d861aac9300"
      },
      "outputs": [
        {
          "output_type": "stream",
          "name": "stdout",
          "text": [
            "+---+---------+-------------+\n",
            "| id|     name|       skills|\n",
            "+---+---------+-------------+\n",
            "|  1|  Alice  |  PYSPARK,SQL|\n",
            "|  2|      BOB|  Java,Python|\n",
            "|  3|  Charlie|       ML,AI |\n",
            "|  4|     NULL|Spark, Hadoop|\n",
            "+---+---------+-------------+\n",
            "\n"
          ]
        }
      ],
      "source": [
        "data = [\n",
        "    (1, \"  Alice  \", \"PYSPARK,SQL\"),\n",
        "    (2, \"BOB\", \"Java,Python\"),\n",
        "    (3, \"Charlie\", \" ML,AI \"),\n",
        "    (4, None, \"Spark, Hadoop\")\n",
        "]\n",
        "schema = [\"id\", \"name\", \"skills\"]\n",
        "\n",
        "# Create DataFrame\n",
        "df = spark.createDataFrame(data, schema=schema)\n",
        "df.show()"
      ]
    },
    {
      "cell_type": "code",
      "execution_count": 80,
      "metadata": {
        "vscode": {
          "languageId": "plaintext"
        },
        "colab": {
          "base_uri": "https://localhost:8080/"
        },
        "id": "HCmtkSbckATi",
        "outputId": "e0072bae-050b-404a-be25-d94c37fbc9d7"
      },
      "outputs": [
        {
          "output_type": "stream",
          "name": "stdout",
          "text": [
            "+---+---------+-------------+----------+----------+\n",
            "| id|     name|       skills|name_upper|name_lower|\n",
            "+---+---------+-------------+----------+----------+\n",
            "|  1|  Alice  |  PYSPARK,SQL|   ALICE  |   alice  |\n",
            "|  2|      BOB|  Java,Python|       BOB|       bob|\n",
            "|  3|  Charlie|       ML,AI |   CHARLIE|   charlie|\n",
            "|  4|     NULL|Spark, Hadoop|      NULL|      NULL|\n",
            "+---+---------+-------------+----------+----------+\n",
            "\n"
          ]
        }
      ],
      "source": [
        "from pyspark.sql.functions import upper, lower\n",
        "df_transformed = df.withColumn(\"name_upper\", upper(col(\"name\")))\\\n",
        " .withColumn(\"name_lower\", lower(col(\"name\")))\n",
        "df_transformed.show()"
      ]
    },
    {
      "cell_type": "code",
      "execution_count": 81,
      "metadata": {
        "vscode": {
          "languageId": "plaintext"
        },
        "colab": {
          "base_uri": "https://localhost:8080/"
        },
        "id": "hbEQGLp9kATj",
        "outputId": "8f2127e7-3805-4ba4-f691-a64db12499b3"
      },
      "outputs": [
        {
          "output_type": "stream",
          "name": "stdout",
          "text": [
            "+---+---------+-------------+---------+----------+----------+\n",
            "| id|     name|       skills|name_trim|name_ltrim|name_rtrim|\n",
            "+---+---------+-------------+---------+----------+----------+\n",
            "|  1|  Alice  |  PYSPARK,SQL|    Alice|   Alice  |     Alice|\n",
            "|  2|      BOB|  Java,Python|      BOB|       BOB|       BOB|\n",
            "|  3|  Charlie|       ML,AI |  Charlie|   Charlie|   Charlie|\n",
            "|  4|     NULL|Spark, Hadoop|     NULL|      NULL|      NULL|\n",
            "+---+---------+-------------+---------+----------+----------+\n",
            "\n"
          ]
        }
      ],
      "source": [
        "from pyspark.sql.functions import trim, ltrim, rtrim\n",
        "df_trimmed = df.withColumn(\"name_trim\", trim(col(\"name\")))\\\n",
        " .withColumn(\"name_ltrim\", ltrim(col(\"name\")))\\\n",
        " .withColumn(\"name_rtrim\", rtrim(col(\"name\")))\n",
        "df_trimmed.show()"
      ]
    },
    {
      "cell_type": "code",
      "execution_count": 82,
      "metadata": {
        "vscode": {
          "languageId": "plaintext"
        },
        "colab": {
          "base_uri": "https://localhost:8080/"
        },
        "id": "W1QKAWrvkATk",
        "outputId": "9e342ff1-a87f-464b-99e2-de786be9d7ca"
      },
      "outputs": [
        {
          "output_type": "stream",
          "name": "stdout",
          "text": [
            "+---+---------+-------------+-----------+\n",
            "| id|     name|       skills|name_length|\n",
            "+---+---------+-------------+-----------+\n",
            "|  1|  Alice  |  PYSPARK,SQL|          9|\n",
            "|  2|      BOB|  Java,Python|          3|\n",
            "|  3|  Charlie|       ML,AI |          7|\n",
            "|  4|     NULL|Spark, Hadoop|       NULL|\n",
            "+---+---------+-------------+-----------+\n",
            "\n"
          ]
        }
      ],
      "source": [
        " from pyspark.sql.functions import length\n",
        " df_length = df.withColumn(\"name_length\", length(col(\"name\")))\n",
        " df_length.show()"
      ]
    },
    {
      "cell_type": "code",
      "execution_count": 83,
      "metadata": {
        "vscode": {
          "languageId": "plaintext"
        },
        "colab": {
          "base_uri": "https://localhost:8080/"
        },
        "id": "LFvgLOAhkATo",
        "outputId": "928cd164-bdca-47a0-f158-1a88e0da1ce8"
      },
      "outputs": [
        {
          "output_type": "stream",
          "name": "stdout",
          "text": [
            "+---+---------+-------------+----------------+\n",
            "|id |name     |skills       |skills_array    |\n",
            "+---+---------+-------------+----------------+\n",
            "|1  |  Alice  |PYSPARK,SQL  |[PYSPARK, SQL]  |\n",
            "|2  |BOB      |Java,Python  |[Java, Python]  |\n",
            "|3  |Charlie  | ML,AI       |[ ML, AI ]      |\n",
            "|4  |NULL     |Spark, Hadoop|[Spark,  Hadoop]|\n",
            "+---+---------+-------------+----------------+\n",
            "\n"
          ]
        }
      ],
      "source": [
        "from pyspark.sql.functions import split\n",
        "df_split = df.withColumn(\"skills_array\", split(col(\"skills\"), \",\"))\n",
        "df_split.show(truncate=False)"
      ]
    },
    {
      "cell_type": "code",
      "execution_count": 84,
      "metadata": {
        "vscode": {
          "languageId": "plaintext"
        },
        "colab": {
          "base_uri": "https://localhost:8080/"
        },
        "id": "Pn3Vn9m6kATp",
        "outputId": "26bcf5fb-5810-4b45-a933-b3f1a73e91d1"
      },
      "outputs": [
        {
          "output_type": "stream",
          "name": "stdout",
          "text": [
            "+---+---------+-------------+-------------+\n",
            "|id |name     |skills       |clean_skills |\n",
            "+---+---------+-------------+-------------+\n",
            "|1  |  Alice  |PYSPARK,SQL  |PYSPARK/SQL  |\n",
            "|2  |BOB      |Java,Python  |Java/Python  |\n",
            "|3  |Charlie  | ML,AI       | ML/AI       |\n",
            "|4  |NULL     |Spark, Hadoop|Spark/ Hadoop|\n",
            "+---+---------+-------------+-------------+\n",
            "\n"
          ]
        }
      ],
      "source": [
        "from pyspark.sql.functions import regexp_replace\n",
        "df_replace = df.withColumn(\"clean_skills\", regexp_replace(col(\"skills\"), \",\", \"/\"))\n",
        "df_replace.show(truncate=False)"
      ]
    },
    {
      "cell_type": "code",
      "execution_count": null,
      "metadata": {
        "vscode": {
          "languageId": "plaintext"
        },
        "id": "Bxc4duIfkATq"
      },
      "outputs": [],
      "source": []
    },
    {
      "cell_type": "markdown",
      "source": [
        "### Date"
      ],
      "metadata": {
        "id": "dSYLwaAwwZFW"
      }
    },
    {
      "cell_type": "code",
      "execution_count": 85,
      "metadata": {
        "vscode": {
          "languageId": "plaintext"
        },
        "colab": {
          "base_uri": "https://localhost:8080/"
        },
        "id": "Uhqw3YTUkATr",
        "outputId": "67588e1e-3484-4a21-dc40-8076faf7a242"
      },
      "outputs": [
        {
          "output_type": "stream",
          "name": "stdout",
          "text": [
            "+---+----------+-------------------+\n",
            "| id|  date_str|      timestamp_str|\n",
            "+---+----------+-------------------+\n",
            "|  1|2024-03-10|2025-07-15 14:30:00|\n",
            "|  2|2023-05-20|2024-11-25 09:15:45|\n",
            "|  3|2022-12-01|2023-06-10 18:45:30|\n",
            "+---+----------+-------------------+\n",
            "\n"
          ]
        }
      ],
      "source": [
        "data = [\n",
        "    (1, \"2024-03-10\", \"2025-07-15 14:30:00\"),\n",
        "    (2, \"2023-05-20\", \"2024-11-25 09:15:45\"),\n",
        "    (3, \"2022-12-01\", \"2023-06-10 18:45:30\")\n",
        "]\n",
        "schema = [\"id\", \"date_str\", \"timestamp_str\"]\n",
        "\n",
        "# Create DataFrame\n",
        "df = spark.createDataFrame(data, schema=schema)\n",
        "df.show()"
      ]
    },
    {
      "cell_type": "code",
      "execution_count": 86,
      "metadata": {
        "vscode": {
          "languageId": "plaintext"
        },
        "colab": {
          "base_uri": "https://localhost:8080/"
        },
        "id": "MrN9JNSskAVZ",
        "outputId": "0c5e4049-f21c-46b6-e7c9-ebae3dbf6f03"
      },
      "outputs": [
        {
          "output_type": "stream",
          "name": "stdout",
          "text": [
            "+---+----------+-------------------+----------+-------------------+\n",
            "| id|  date_str|      timestamp_str|      date|          timestamp|\n",
            "+---+----------+-------------------+----------+-------------------+\n",
            "|  1|2024-03-10|2025-07-15 14:30:00|2024-03-10|2025-07-15 14:30:00|\n",
            "|  2|2023-05-20|2024-11-25 09:15:45|2023-05-20|2024-11-25 09:15:45|\n",
            "|  3|2022-12-01|2023-06-10 18:45:30|2022-12-01|2023-06-10 18:45:30|\n",
            "+---+----------+-------------------+----------+-------------------+\n",
            "\n"
          ]
        }
      ],
      "source": [
        "from pyspark.sql.functions import to_date, to_timestamp\n",
        "df_converted = df.withColumn(\"date\", to_date(col(\"date_str\"), \"yyyy-MM-dd\"))\\\n",
        " .withColumn(\"timestamp\", to_timestamp(col(\"timestamp_str\"), \"yyyy-MM-dd HH:mm:ss\"))\n",
        "df_converted.show()"
      ]
    },
    {
      "cell_type": "code",
      "execution_count": 87,
      "metadata": {
        "vscode": {
          "languageId": "plaintext"
        },
        "colab": {
          "base_uri": "https://localhost:8080/"
        },
        "id": "MD7OnHmUkAVe",
        "outputId": "3dc08cb1-35bd-41b1-e591-5715d727d575"
      },
      "outputs": [
        {
          "output_type": "stream",
          "name": "stdout",
          "text": [
            "+---+----------+-------------------+----------+-------------------+----+-----+---+----+------+\n",
            "| id|  date_str|      timestamp_str|      date|          timestamp|year|month|day|hour|minute|\n",
            "+---+----------+-------------------+----------+-------------------+----+-----+---+----+------+\n",
            "|  1|2024-03-10|2025-07-15 14:30:00|2024-03-10|2025-07-15 14:30:00|2024|    3| 10|  14|    30|\n",
            "|  2|2023-05-20|2024-11-25 09:15:45|2023-05-20|2024-11-25 09:15:45|2023|    5| 20|   9|    15|\n",
            "|  3|2022-12-01|2023-06-10 18:45:30|2022-12-01|2023-06-10 18:45:30|2022|   12|  1|  18|    45|\n",
            "+---+----------+-------------------+----------+-------------------+----+-----+---+----+------+\n",
            "\n"
          ]
        }
      ],
      "source": [
        "from pyspark.sql.functions import year, month, dayofmonth, hour, minute, second\n",
        "df_extracted = df_converted.withColumn(\"year\", year(col(\"date\")))\\\n",
        " .withColumn(\"month\", month(col(\"date\")))\\\n",
        " .withColumn(\"day\", dayofmonth(col(\"date\")))\\\n",
        " .withColumn(\"hour\", hour(col(\"timestamp\")))\\\n",
        " .withColumn(\"minute\", minute(col(\"timestamp\")))\n",
        "df_extracted.show()"
      ]
    },
    {
      "cell_type": "code",
      "execution_count": 88,
      "metadata": {
        "vscode": {
          "languageId": "plaintext"
        },
        "colab": {
          "base_uri": "https://localhost:8080/"
        },
        "id": "xyTat-lOkAVg",
        "outputId": "81388159-7511-45a9-b7a8-fed14080dfc3"
      },
      "outputs": [
        {
          "output_type": "stream",
          "name": "stdout",
          "text": [
            "+---+----------+-------------------+----------+-------------------+---------+------------+-------------+\n",
            "| id|  date_str|      timestamp_str|      date|          timestamp|date_diff|plus_10_days|minus_10_days|\n",
            "+---+----------+-------------------+----------+-------------------+---------+------------+-------------+\n",
            "|  1|2024-03-10|2025-07-15 14:30:00|2024-03-10|2025-07-15 14:30:00|      492|  2024-03-20|   2024-02-29|\n",
            "|  2|2023-05-20|2024-11-25 09:15:45|2023-05-20|2024-11-25 09:15:45|      555|  2023-05-30|   2023-05-10|\n",
            "|  3|2022-12-01|2023-06-10 18:45:30|2022-12-01|2023-06-10 18:45:30|      191|  2022-12-11|   2022-11-21|\n",
            "+---+----------+-------------------+----------+-------------------+---------+------------+-------------+\n",
            "\n"
          ]
        }
      ],
      "source": [
        "from pyspark.sql.functions import datediff, date_add, date_sub\n",
        "df_dates = df_converted.withColumn(\"date_diff\", datediff(col(\"timestamp\"), col(\"date\")))\\\n",
        " .withColumn(\"plus_10_days\", date_add(col(\"date\"), 10))\\\n",
        " .withColumn(\"minus_10_days\", date_sub(col(\"date\"), 10))\n",
        "df_dates.show()"
      ]
    },
    {
      "cell_type": "code",
      "execution_count": null,
      "metadata": {
        "vscode": {
          "languageId": "plaintext"
        },
        "id": "fdzYcCEdkAVh"
      },
      "outputs": [],
      "source": []
    },
    {
      "cell_type": "markdown",
      "source": [
        "### Handel Null Value"
      ],
      "metadata": {
        "id": "13ViF2tSwb5X"
      }
    },
    {
      "cell_type": "code",
      "execution_count": 116,
      "metadata": {
        "vscode": {
          "languageId": "plaintext"
        },
        "colab": {
          "base_uri": "https://localhost:8080/"
        },
        "id": "WlgKGK1MkAVi",
        "outputId": "1dcbe3f0-9f53-4984-898a-e39f694d0a86"
      },
      "outputs": [
        {
          "output_type": "stream",
          "name": "stdout",
          "text": [
            "+---+-------+----+------+\n",
            "| id|   name| age|salary|\n",
            "+---+-------+----+------+\n",
            "|  1|  Alice|  25|  NULL|\n",
            "|  2|   NULL|  30| 50000|\n",
            "|  3|Charlie|NULL| 60000|\n",
            "|  4|  David|  35|  NULL|\n",
            "+---+-------+----+------+\n",
            "\n"
          ]
        }
      ],
      "source": [
        "data = [\n",
        "    (1, \"Alice\", 25, None),\n",
        "    (2, None, 30, 50000),\n",
        "    (3, \"Charlie\", None, 60000),\n",
        "    (4, \"David\", 35, None)\n",
        "]\n",
        "schema = [\"id\", \"name\", \"age\", \"salary\"]\n",
        "\n",
        "df = spark.createDataFrame(data, schema=schema)\n",
        "df.show()"
      ]
    },
    {
      "cell_type": "code",
      "execution_count": 90,
      "metadata": {
        "vscode": {
          "languageId": "plaintext"
        },
        "colab": {
          "base_uri": "https://localhost:8080/"
        },
        "id": "cqaPbn2dkAVk",
        "outputId": "432a6d36-f5e4-418d-dd89-14b416e47594"
      },
      "outputs": [
        {
          "output_type": "stream",
          "name": "stdout",
          "text": [
            "+---+----+---+------+\n",
            "| id|name|age|salary|\n",
            "+---+----+---+------+\n",
            "+---+----+---+------+\n",
            "\n"
          ]
        }
      ],
      "source": [
        "df_drop = df.dropna()\n",
        "df_drop.show()"
      ]
    },
    {
      "cell_type": "code",
      "execution_count": 94,
      "metadata": {
        "vscode": {
          "languageId": "plaintext"
        },
        "colab": {
          "base_uri": "https://localhost:8080/"
        },
        "id": "tnI0Kg43kAVl",
        "outputId": "d5cfbcf4-2383-46da-bfcc-e2596e175d99"
      },
      "outputs": [
        {
          "output_type": "stream",
          "name": "stdout",
          "text": [
            "+---+-------+---+------+\n",
            "| id|   name|age|salary|\n",
            "+---+-------+---+------+\n",
            "|  1|  Alice| 25| 40000|\n",
            "|  2|   NULL| 30| 50000|\n",
            "|  3|Charlie|  0| 60000|\n",
            "|  4|  David| 35| 40000|\n",
            "+---+-------+---+------+\n",
            "\n"
          ]
        }
      ],
      "source": [
        "df_filled = df.fillna({\"age\": 0, \"salary\": 40000})\n",
        "df_filled.show()"
      ]
    },
    {
      "cell_type": "code",
      "execution_count": 95,
      "metadata": {
        "vscode": {
          "languageId": "plaintext"
        },
        "colab": {
          "base_uri": "https://localhost:8080/"
        },
        "id": "B7_mcR7ekAVn",
        "outputId": "a4ac0b07-af81-47bd-dac2-8771922ef6c4"
      },
      "outputs": [
        {
          "output_type": "stream",
          "name": "stdout",
          "text": [
            "+---+-----+---+------+\n",
            "| id| name|age|salary|\n",
            "+---+-----+---+------+\n",
            "|  1|Alice| 25|  NULL|\n",
            "|  4|David| 35|  NULL|\n",
            "+---+-----+---+------+\n",
            "\n"
          ]
        }
      ],
      "source": [
        " df_null_salary = df.filter(col(\"salary\").isNull())\n",
        " df_null_salary.show()"
      ]
    },
    {
      "cell_type": "code",
      "execution_count": 96,
      "metadata": {
        "vscode": {
          "languageId": "plaintext"
        },
        "colab": {
          "base_uri": "https://localhost:8080/"
        },
        "id": "ctU8apRjkAVr",
        "outputId": "21b29b3b-ae95-4bdf-e2e1-25a6b12c2587"
      },
      "outputs": [
        {
          "output_type": "stream",
          "name": "stdout",
          "text": [
            "+---+-------+----+------+\n",
            "| id|   name| age|salary|\n",
            "+---+-------+----+------+\n",
            "|  2|   NULL|  30| 50000|\n",
            "|  3|Charlie|NULL| 60000|\n",
            "+---+-------+----+------+\n",
            "\n"
          ]
        }
      ],
      "source": [
        " df_not_null_salary = df.filter(col(\"salary\").isNotNull())\n",
        " df_not_null_salary.show()"
      ]
    },
    {
      "cell_type": "code",
      "execution_count": 124,
      "metadata": {
        "vscode": {
          "languageId": "plaintext"
        },
        "colab": {
          "base_uri": "https://localhost:8080/",
          "height": 304
        },
        "id": "DSewPKJTkAVt",
        "outputId": "8f1b3ca8-9934-4bca-dabd-d2205a07594a"
      },
      "outputs": [
        {
          "output_type": "error",
          "ename": "PySparkTypeError",
          "evalue": "[NOT_BOOL_OR_DICT_OR_FLOAT_OR_INT_OR_LIST_OR_STR_OR_TUPLE] Argument `to_replace` should be a bool, dict, float, int, str or tuple, got NoneType.",
          "traceback": [
            "\u001b[0;31m---------------------------------------------------------------------------\u001b[0m",
            "\u001b[0;31mPySparkTypeError\u001b[0m                          Traceback (most recent call last)",
            "\u001b[0;32m<ipython-input-124-7352f2384a14>\u001b[0m in \u001b[0;36m<cell line: 0>\u001b[0;34m()\u001b[0m\n\u001b[0;32m----> 1\u001b[0;31m \u001b[0mdf_replace\u001b[0m \u001b[0;34m=\u001b[0m \u001b[0mdf\u001b[0m\u001b[0;34m.\u001b[0m\u001b[0mna\u001b[0m\u001b[0;34m.\u001b[0m\u001b[0mreplace\u001b[0m\u001b[0;34m(\u001b[0m\u001b[0;32mNone\u001b[0m\u001b[0;34m,\u001b[0m \u001b[0;34m\"Unknown\"\u001b[0m\u001b[0;34m,\u001b[0m \u001b[0msubset\u001b[0m\u001b[0;34m=\u001b[0m\u001b[0;34m[\u001b[0m\u001b[0;34m\"name\"\u001b[0m\u001b[0;34m]\u001b[0m\u001b[0;34m)\u001b[0m\u001b[0;34m\u001b[0m\u001b[0;34m\u001b[0m\u001b[0m\n\u001b[0m\u001b[1;32m      2\u001b[0m \u001b[0mdf_replace\u001b[0m\u001b[0;34m.\u001b[0m\u001b[0mshow\u001b[0m\u001b[0;34m(\u001b[0m\u001b[0;34m)\u001b[0m\u001b[0;34m\u001b[0m\u001b[0;34m\u001b[0m\u001b[0m\n",
            "\u001b[0;32m/usr/local/lib/python3.11/dist-packages/pyspark/sql/dataframe.py\u001b[0m in \u001b[0;36mreplace\u001b[0;34m(self, to_replace, value, subset)\u001b[0m\n\u001b[1;32m   5879\u001b[0m         \u001b[0msubset\u001b[0m\u001b[0;34m:\u001b[0m \u001b[0mOptional\u001b[0m\u001b[0;34m[\u001b[0m\u001b[0mList\u001b[0m\u001b[0;34m[\u001b[0m\u001b[0mstr\u001b[0m\u001b[0;34m]\u001b[0m\u001b[0;34m]\u001b[0m \u001b[0;34m=\u001b[0m \u001b[0;32mNone\u001b[0m\u001b[0;34m,\u001b[0m\u001b[0;34m\u001b[0m\u001b[0;34m\u001b[0m\u001b[0m\n\u001b[1;32m   5880\u001b[0m     ) -> DataFrame:\n\u001b[0;32m-> 5881\u001b[0;31m         \u001b[0;32mreturn\u001b[0m \u001b[0mself\u001b[0m\u001b[0;34m.\u001b[0m\u001b[0mdf\u001b[0m\u001b[0;34m.\u001b[0m\u001b[0mreplace\u001b[0m\u001b[0;34m(\u001b[0m\u001b[0mto_replace\u001b[0m\u001b[0;34m,\u001b[0m \u001b[0mvalue\u001b[0m\u001b[0;34m,\u001b[0m \u001b[0msubset\u001b[0m\u001b[0;34m)\u001b[0m  \u001b[0;31m# type: ignore[arg-type]\u001b[0m\u001b[0;34m\u001b[0m\u001b[0;34m\u001b[0m\u001b[0m\n\u001b[0m\u001b[1;32m   5882\u001b[0m \u001b[0;34m\u001b[0m\u001b[0m\n\u001b[1;32m   5883\u001b[0m     \u001b[0mreplace\u001b[0m\u001b[0;34m.\u001b[0m\u001b[0m__doc__\u001b[0m \u001b[0;34m=\u001b[0m \u001b[0mDataFrame\u001b[0m\u001b[0;34m.\u001b[0m\u001b[0mreplace\u001b[0m\u001b[0;34m.\u001b[0m\u001b[0m__doc__\u001b[0m\u001b[0;34m\u001b[0m\u001b[0;34m\u001b[0m\u001b[0m\n",
            "\u001b[0;32m/usr/local/lib/python3.11/dist-packages/pyspark/sql/dataframe.py\u001b[0m in \u001b[0;36mreplace\u001b[0;34m(self, to_replace, value, subset)\u001b[0m\n\u001b[1;32m   4625\u001b[0m         \u001b[0mvalid_types\u001b[0m \u001b[0;34m=\u001b[0m \u001b[0;34m(\u001b[0m\u001b[0mbool\u001b[0m\u001b[0;34m,\u001b[0m \u001b[0mfloat\u001b[0m\u001b[0;34m,\u001b[0m \u001b[0mint\u001b[0m\u001b[0;34m,\u001b[0m \u001b[0mstr\u001b[0m\u001b[0;34m,\u001b[0m \u001b[0mlist\u001b[0m\u001b[0;34m,\u001b[0m \u001b[0mtuple\u001b[0m\u001b[0;34m)\u001b[0m\u001b[0;34m\u001b[0m\u001b[0;34m\u001b[0m\u001b[0m\n\u001b[1;32m   4626\u001b[0m         \u001b[0;32mif\u001b[0m \u001b[0;32mnot\u001b[0m \u001b[0misinstance\u001b[0m\u001b[0;34m(\u001b[0m\u001b[0mto_replace\u001b[0m\u001b[0;34m,\u001b[0m \u001b[0mvalid_types\u001b[0m \u001b[0;34m+\u001b[0m \u001b[0;34m(\u001b[0m\u001b[0mdict\u001b[0m\u001b[0;34m,\u001b[0m\u001b[0;34m)\u001b[0m\u001b[0;34m)\u001b[0m\u001b[0;34m:\u001b[0m\u001b[0;34m\u001b[0m\u001b[0;34m\u001b[0m\u001b[0m\n\u001b[0;32m-> 4627\u001b[0;31m             raise PySparkTypeError(\n\u001b[0m\u001b[1;32m   4628\u001b[0m                 \u001b[0merror_class\u001b[0m\u001b[0;34m=\u001b[0m\u001b[0;34m\"NOT_BOOL_OR_DICT_OR_FLOAT_OR_INT_OR_LIST_OR_STR_OR_TUPLE\"\u001b[0m\u001b[0;34m,\u001b[0m\u001b[0;34m\u001b[0m\u001b[0;34m\u001b[0m\u001b[0m\n\u001b[1;32m   4629\u001b[0m                 message_parameters={\n",
            "\u001b[0;31mPySparkTypeError\u001b[0m: [NOT_BOOL_OR_DICT_OR_FLOAT_OR_INT_OR_LIST_OR_STR_OR_TUPLE] Argument `to_replace` should be a bool, dict, float, int, str or tuple, got NoneType."
          ]
        }
      ],
      "source": [
        "df_replace = df.na.replace(None, \"Unknown\", subset=[\"name\"])\n",
        "df_replace.show()\n"
      ]
    },
    {
      "cell_type": "code",
      "execution_count": 104,
      "metadata": {
        "vscode": {
          "languageId": "plaintext"
        },
        "colab": {
          "base_uri": "https://localhost:8080/"
        },
        "id": "ijV1gTt9kAVt",
        "outputId": "aa279c64-839e-4020-d3cc-277d4423f86a"
      },
      "outputs": [
        {
          "output_type": "stream",
          "name": "stdout",
          "text": [
            "+---+-------+----+------+\n",
            "| id|   name| age|salary|\n",
            "+---+-------+----+------+\n",
            "|  1|  Alice|  25| 40000|\n",
            "|  2|   NULL|  30| 50000|\n",
            "|  3|Charlie|NULL| 60000|\n",
            "|  4|  David|  35| 40000|\n",
            "+---+-------+----+------+\n",
            "\n"
          ]
        }
      ],
      "source": [
        "from pyspark.sql.functions import coalesce\n",
        "df_coalesce = df.withColumn(\"salary\", coalesce(col(\"salary\"), lit(40000)))\n",
        "df_coalesce.show()"
      ]
    },
    {
      "cell_type": "markdown",
      "source": [
        "### Window Function"
      ],
      "metadata": {
        "id": "pNeJDRm5wjmj"
      }
    },
    {
      "cell_type": "code",
      "execution_count": 105,
      "metadata": {
        "vscode": {
          "languageId": "plaintext"
        },
        "id": "O6QUkuZwkAVu"
      },
      "outputs": [],
      "source": [
        "from pyspark.sql.window import Window\n",
        "from pyspark.sql.functions import col, row_number, rank, dense_rank, lag, lead, sum, avg"
      ]
    },
    {
      "cell_type": "code",
      "execution_count": 107,
      "metadata": {
        "vscode": {
          "languageId": "plaintext"
        },
        "colab": {
          "base_uri": "https://localhost:8080/"
        },
        "id": "-amO2fo5kAVv",
        "outputId": "45ce981a-add6-440d-a43e-c44f595e3fd7"
      },
      "outputs": [
        {
          "output_type": "stream",
          "name": "stdout",
          "text": [
            "+---+-------+----------+------+\n",
            "| id|   name|department|salary|\n",
            "+---+-------+----------+------+\n",
            "|  1|  Alice|     Sales|  5000|\n",
            "|  2|    Bob|     Sales|  6000|\n",
            "|  3|Charlie|     Sales|  7000|\n",
            "|  4|  David|        HR|  4000|\n",
            "|  5|    Eve|        HR|  4500|\n",
            "|  6|  Frank|        HR|  4800|\n",
            "|  7|  Grace|        IT|  8000|\n",
            "|  8|   Hank|        IT|  9000|\n",
            "+---+-------+----------+------+\n",
            "\n"
          ]
        }
      ],
      "source": [
        "\n",
        "\n",
        "data = [\n",
        "    (1, \"Alice\", \"Sales\", 5000),\n",
        "    (2, \"Bob\", \"Sales\", 6000),\n",
        "    (3, \"Charlie\", \"Sales\", 7000),\n",
        "    (4, \"David\", \"HR\", 4000),\n",
        "    (5, \"Eve\", \"HR\", 4500),\n",
        "    (6, \"Frank\", \"HR\", 4800),\n",
        "    (7, \"Grace\", \"IT\", 8000),\n",
        "    (8, \"Hank\", \"IT\", 9000),\n",
        "]\n",
        "\n",
        "schema = [\"id\", \"name\", \"department\", \"salary\"]\n",
        "df = spark.createDataFrame(data, schema=schema)\n",
        "\n",
        "df.show()"
      ]
    },
    {
      "cell_type": "code",
      "execution_count": 108,
      "metadata": {
        "vscode": {
          "languageId": "plaintext"
        },
        "colab": {
          "base_uri": "https://localhost:8080/"
        },
        "id": "ydpDsegUkAVv",
        "outputId": "dbc11b4e-17bc-46b5-9cf4-dd9a5f322abe"
      },
      "outputs": [
        {
          "output_type": "stream",
          "name": "stdout",
          "text": [
            "+---+-------+----------+------+----------+\n",
            "| id|   name|department|salary|row_number|\n",
            "+---+-------+----------+------+----------+\n",
            "|  6|  Frank|        HR|  4800|         1|\n",
            "|  5|    Eve|        HR|  4500|         2|\n",
            "|  4|  David|        HR|  4000|         3|\n",
            "|  8|   Hank|        IT|  9000|         1|\n",
            "|  7|  Grace|        IT|  8000|         2|\n",
            "|  3|Charlie|     Sales|  7000|         1|\n",
            "|  2|    Bob|     Sales|  6000|         2|\n",
            "|  1|  Alice|     Sales|  5000|         3|\n",
            "+---+-------+----------+------+----------+\n",
            "\n"
          ]
        }
      ],
      "source": [
        "window_spec = Window.partitionBy(\"department\").orderBy(col(\"salary\").desc())\n",
        "df_row_number = df.withColumn(\"row_number\", row_number().over(window_spec))\n",
        "df_row_number.show()"
      ]
    },
    {
      "cell_type": "code",
      "execution_count": 109,
      "metadata": {
        "vscode": {
          "languageId": "plaintext"
        },
        "colab": {
          "base_uri": "https://localhost:8080/"
        },
        "id": "rNXfJwQbkAVv",
        "outputId": "bf2efb67-c521-40e5-c2b8-79dd053b15c3"
      },
      "outputs": [
        {
          "output_type": "stream",
          "name": "stdout",
          "text": [
            "+---+-------+----------+------+----+\n",
            "| id|   name|department|salary|rank|\n",
            "+---+-------+----------+------+----+\n",
            "|  6|  Frank|        HR|  4800|   1|\n",
            "|  5|    Eve|        HR|  4500|   2|\n",
            "|  4|  David|        HR|  4000|   3|\n",
            "|  8|   Hank|        IT|  9000|   1|\n",
            "|  7|  Grace|        IT|  8000|   2|\n",
            "|  3|Charlie|     Sales|  7000|   1|\n",
            "|  2|    Bob|     Sales|  6000|   2|\n",
            "|  1|  Alice|     Sales|  5000|   3|\n",
            "+---+-------+----------+------+----+\n",
            "\n"
          ]
        }
      ],
      "source": [
        " df_rank = df.withColumn(\"rank\", rank().over(window_spec))\n",
        " df_rank.show()"
      ]
    },
    {
      "cell_type": "code",
      "execution_count": 110,
      "metadata": {
        "vscode": {
          "languageId": "plaintext"
        },
        "colab": {
          "base_uri": "https://localhost:8080/"
        },
        "id": "voj0IbkekAVv",
        "outputId": "2e12d95e-94f6-4fd5-9b0d-e627ac900ae9"
      },
      "outputs": [
        {
          "output_type": "stream",
          "name": "stdout",
          "text": [
            "+---+-------+----------+------+----------+\n",
            "| id|   name|department|salary|dense_rank|\n",
            "+---+-------+----------+------+----------+\n",
            "|  6|  Frank|        HR|  4800|         1|\n",
            "|  5|    Eve|        HR|  4500|         2|\n",
            "|  4|  David|        HR|  4000|         3|\n",
            "|  8|   Hank|        IT|  9000|         1|\n",
            "|  7|  Grace|        IT|  8000|         2|\n",
            "|  3|Charlie|     Sales|  7000|         1|\n",
            "|  2|    Bob|     Sales|  6000|         2|\n",
            "|  1|  Alice|     Sales|  5000|         3|\n",
            "+---+-------+----------+------+----------+\n",
            "\n"
          ]
        }
      ],
      "source": [
        "df_dense_rank = df.withColumn(\"dense_rank\", dense_rank().over(window_spec))\n",
        "df_dense_rank.show()"
      ]
    },
    {
      "cell_type": "code",
      "execution_count": 111,
      "metadata": {
        "vscode": {
          "languageId": "plaintext"
        },
        "colab": {
          "base_uri": "https://localhost:8080/"
        },
        "id": "jdo3MNfPkAVw",
        "outputId": "7714f9a0-44a0-4d51-b7ae-d9439850f8a1"
      },
      "outputs": [
        {
          "output_type": "stream",
          "name": "stdout",
          "text": [
            "+---+-------+----------+------+------------+\n",
            "| id|   name|department|salary|total_salary|\n",
            "+---+-------+----------+------+------------+\n",
            "|  6|  Frank|        HR|  4800|        4800|\n",
            "|  5|    Eve|        HR|  4500|        9300|\n",
            "|  4|  David|        HR|  4000|       13300|\n",
            "|  8|   Hank|        IT|  9000|        9000|\n",
            "|  7|  Grace|        IT|  8000|       17000|\n",
            "|  3|Charlie|     Sales|  7000|        7000|\n",
            "|  2|    Bob|     Sales|  6000|       13000|\n",
            "|  1|  Alice|     Sales|  5000|       18000|\n",
            "+---+-------+----------+------+------------+\n",
            "\n"
          ]
        }
      ],
      "source": [
        "df_sum = df.withColumn(\"total_salary\", sum(\"salary\").over(window_spec))\n",
        "df_sum.show()"
      ]
    },
    {
      "cell_type": "code",
      "execution_count": 112,
      "metadata": {
        "vscode": {
          "languageId": "plaintext"
        },
        "colab": {
          "base_uri": "https://localhost:8080/"
        },
        "id": "6ZSH-p_FkAVw",
        "outputId": "ed9b25d2-caca-4165-f927-2b8b9cd5c933"
      },
      "outputs": [
        {
          "output_type": "stream",
          "name": "stdout",
          "text": [
            "+---+-------+----------+------+-----------+\n",
            "| id|   name|department|salary|prev_salary|\n",
            "+---+-------+----------+------+-----------+\n",
            "|  6|  Frank|        HR|  4800|       NULL|\n",
            "|  5|    Eve|        HR|  4500|       4800|\n",
            "|  4|  David|        HR|  4000|       4500|\n",
            "|  8|   Hank|        IT|  9000|       NULL|\n",
            "|  7|  Grace|        IT|  8000|       9000|\n",
            "|  3|Charlie|     Sales|  7000|       NULL|\n",
            "|  2|    Bob|     Sales|  6000|       7000|\n",
            "|  1|  Alice|     Sales|  5000|       6000|\n",
            "+---+-------+----------+------+-----------+\n",
            "\n"
          ]
        }
      ],
      "source": [
        "df_lag = df.withColumn(\"prev_salary\", lag(\"salary\", 1).over(window_spec))\n",
        "df_lag.show()"
      ]
    },
    {
      "cell_type": "code",
      "execution_count": null,
      "metadata": {
        "vscode": {
          "languageId": "plaintext"
        },
        "id": "YhF9BRTCkAVw"
      },
      "outputs": [],
      "source": []
    },
    {
      "cell_type": "markdown",
      "source": [
        "### udf"
      ],
      "metadata": {
        "id": "PrGGuzmDw3jh"
      }
    },
    {
      "cell_type": "code",
      "execution_count": 113,
      "metadata": {
        "vscode": {
          "languageId": "plaintext"
        },
        "id": "14PWFj5kkAVx"
      },
      "outputs": [],
      "source": [
        "from pyspark.sql.functions import udf\n",
        "from pyspark.sql.types import StringType, IntegerType, FloatType"
      ]
    },
    {
      "cell_type": "code",
      "execution_count": 114,
      "metadata": {
        "vscode": {
          "languageId": "plaintext"
        },
        "colab": {
          "base_uri": "https://localhost:8080/"
        },
        "id": "1A6e8iockAVz",
        "outputId": "9aaa8455-17df-410d-a3d9-0accc1471790"
      },
      "outputs": [
        {
          "output_type": "stream",
          "name": "stdout",
          "text": [
            "+---+-------+----------+------+----------+\n",
            "| id|   name|department|salary|name_upper|\n",
            "+---+-------+----------+------+----------+\n",
            "|  1|  Alice|     Sales|  5000|     ALICE|\n",
            "|  2|    Bob|     Sales|  6000|       BOB|\n",
            "|  3|Charlie|     Sales|  7000|   CHARLIE|\n",
            "|  4|  David|        HR|  4000|     DAVID|\n",
            "|  5|    Eve|        HR|  4500|       EVE|\n",
            "|  6|  Frank|        HR|  4800|     FRANK|\n",
            "|  7|  Grace|        IT|  8000|     GRACE|\n",
            "|  8|   Hank|        IT|  9000|      HANK|\n",
            "+---+-------+----------+------+----------+\n",
            "\n"
          ]
        }
      ],
      "source": [
        "def to_upper(name):\n",
        "    return name.upper()\n",
        "# Register UDF\n",
        "to_upper_udf = udf(to_upper, StringType())\n",
        "# Apply UDF\n",
        "df_upper = df.withColumn(\"name_upper\", to_upper_udf(df[\"name\"]))\n",
        "df_upper.show()"
      ]
    },
    {
      "cell_type": "markdown",
      "source": [
        "### Data Write"
      ],
      "metadata": {
        "id": "HVBIMzkww6GH"
      }
    },
    {
      "cell_type": "code",
      "execution_count": null,
      "metadata": {
        "vscode": {
          "languageId": "plaintext"
        },
        "id": "CiHefxUIkAV1"
      },
      "outputs": [],
      "source": [
        "df.write.csv(\"output/csv_folder\", header=True, mode=\"overwrite\")"
      ]
    },
    {
      "cell_type": "code",
      "execution_count": null,
      "metadata": {
        "vscode": {
          "languageId": "plaintext"
        },
        "id": "NoPQ_oELkAV3"
      },
      "outputs": [],
      "source": []
    }
  ],
  "metadata": {
    "language_info": {
      "name": "python"
    },
    "colab": {
      "provenance": [],
      "include_colab_link": true
    },
    "kernelspec": {
      "name": "python3",
      "display_name": "Python 3"
    }
  },
  "nbformat": 4,
  "nbformat_minor": 0
}