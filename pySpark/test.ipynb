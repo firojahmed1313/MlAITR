{
  "cells": [
    {
      "cell_type": "markdown",
      "metadata": {
        "id": "view-in-github",
        "colab_type": "text"
      },
      "source": [
        "<a href=\"https://colab.research.google.com/github/firojahmed1313/MlAITR/blob/main/pySpark/test.ipynb\" target=\"_parent\"><img src=\"https://colab.research.google.com/assets/colab-badge.svg\" alt=\"Open In Colab\"/></a>"
      ]
    },
    {
      "cell_type": "code",
      "execution_count": 1,
      "metadata": {
        "vscode": {
          "languageId": "plaintext"
        },
        "id": "FivMknyYkAQn"
      },
      "outputs": [],
      "source": [
        "from pyspark.sql import SparkSession"
      ]
    },
    {
      "cell_type": "markdown",
      "source": [
        "### Create a Spark Session"
      ],
      "metadata": {
        "id": "gLnutiwmsSSb"
      }
    },
    {
      "cell_type": "code",
      "execution_count": 2,
      "metadata": {
        "vscode": {
          "languageId": "plaintext"
        },
        "id": "WjsPeyYEkAQx"
      },
      "outputs": [],
      "source": [
        "spark = SparkSession.builder.appName(\"Example\").getOrCreate()"
      ]
    },
    {
      "cell_type": "markdown",
      "source": [
        "### select"
      ],
      "metadata": {
        "id": "VIrwXIv1sWR2"
      }
    },
    {
      "cell_type": "code",
      "execution_count": 3,
      "metadata": {
        "vscode": {
          "languageId": "plaintext"
        },
        "colab": {
          "base_uri": "https://localhost:8080/"
        },
        "id": "Cs56fxGbkAQ0",
        "outputId": "5c6e445c-689b-4b3d-aef5-a837f7bb42f4"
      },
      "outputs": [
        {
          "output_type": "stream",
          "name": "stdout",
          "text": [
            "+---+-------+---+----------+------+\n",
            "| id|   name|age|department|salary|\n",
            "+---+-------+---+----------+------+\n",
            "|  1|  Alice| 30|        HR|  5000|\n",
            "|  2|    Bob| 25|        IT|  6000|\n",
            "|  3|Charlie| 35|   Finance|  7000|\n",
            "|  4|  David| 40|        HR|  8000|\n",
            "|  5|    Eve| 34|   Finance|  7000|\n",
            "+---+-------+---+----------+------+\n",
            "\n"
          ]
        }
      ],
      "source": [
        "data=[\n",
        "    (1, \"Alice\", 30, \"HR\", 5000),\n",
        " (2, \"Bob\", 25, \"IT\", 6000),\n",
        " (3, \"Charlie\", 35, \"Finance\", 7000),\n",
        " (4, \"David\", 40, \"HR\", 8000),\n",
        " (5, \"Eve\",34, \"Finance\", 7000)\n",
        " ]\n",
        " # Define Schema\n",
        "schema = \"id INT, name STRING, age INT, department STRING, salary INT\"\n",
        " # Create DataFrame\n",
        "df = spark.createDataFrame(data, schema=schema)\n",
        "df.show()"
      ]
    },
    {
      "cell_type": "code",
      "execution_count": 4,
      "metadata": {
        "vscode": {
          "languageId": "plaintext"
        },
        "colab": {
          "base_uri": "https://localhost:8080/"
        },
        "id": "mnMyeonzkAQ9",
        "outputId": "0afe9e91-cfba-4008-e590-6969913047fc"
      },
      "outputs": [
        {
          "output_type": "stream",
          "name": "stdout",
          "text": [
            "+-------+---+\n",
            "|   name|age|\n",
            "+-------+---+\n",
            "|  Alice| 30|\n",
            "|    Bob| 25|\n",
            "|Charlie| 35|\n",
            "|  David| 40|\n",
            "|    Eve| 34|\n",
            "+-------+---+\n",
            "\n"
          ]
        }
      ],
      "source": [
        " df_selected = df.select(\"name\", \"age\")\n",
        " df_selected.show()"
      ]
    },
    {
      "cell_type": "markdown",
      "source": [
        "### alias()"
      ],
      "metadata": {
        "id": "q1G_x3dXssf9"
      }
    },
    {
      "cell_type": "code",
      "execution_count": 5,
      "metadata": {
        "vscode": {
          "languageId": "plaintext"
        },
        "id": "YtMr7hrLkAQ-"
      },
      "outputs": [],
      "source": [
        "from pyspark.sql.functions import col"
      ]
    },
    {
      "cell_type": "code",
      "execution_count": 6,
      "metadata": {
        "vscode": {
          "languageId": "plaintext"
        },
        "colab": {
          "base_uri": "https://localhost:8080/"
        },
        "id": "e9pWrd4LkAQ_",
        "outputId": "62e306ab-7391-4390-a63d-2ec84bffa4df"
      },
      "outputs": [
        {
          "output_type": "stream",
          "name": "stdout",
          "text": [
            "+-------------+--------------+\n",
            "|employee_name|monthly_salary|\n",
            "+-------------+--------------+\n",
            "|        Alice|          5000|\n",
            "|          Bob|          6000|\n",
            "|      Charlie|          7000|\n",
            "|        David|          8000|\n",
            "|          Eve|          7000|\n",
            "+-------------+--------------+\n",
            "\n"
          ]
        }
      ],
      "source": [
        "df_alias = df.select(col(\"name\").alias(\"employee_name\"), col(\"salary\").alias(\"monthly_salary\"))\n",
        "df_alias.show()"
      ]
    },
    {
      "cell_type": "code",
      "execution_count": 7,
      "metadata": {
        "vscode": {
          "languageId": "plaintext"
        },
        "colab": {
          "base_uri": "https://localhost:8080/"
        },
        "id": "cDG2_jH3kAQ_",
        "outputId": "489a0dc3-5fe7-4157-fecb-91fbc968d151"
      },
      "outputs": [
        {
          "output_type": "stream",
          "name": "stdout",
          "text": [
            "+---+-------+---+----------+------+\n",
            "| id|   name|age|department|salary|\n",
            "+---+-------+---+----------+------+\n",
            "|  1|  Alice| 30|        HR|  5000|\n",
            "|  2|    Bob| 25|        IT|  6000|\n",
            "|  3|Charlie| 35|   Finance|  7000|\n",
            "|  4|  David| 40|        HR|  8000|\n",
            "|  5|    Eve| 34|   Finance|  7000|\n",
            "+---+-------+---+----------+------+\n",
            "\n"
          ]
        }
      ],
      "source": [
        "df_all = df.select(\"*\")  # Selects all columns\n",
        "df_all.show()"
      ]
    },
    {
      "cell_type": "markdown",
      "source": [
        "### filter()"
      ],
      "metadata": {
        "id": "1oFiUuftsePB"
      }
    },
    {
      "cell_type": "code",
      "execution_count": 8,
      "metadata": {
        "vscode": {
          "languageId": "plaintext"
        },
        "colab": {
          "base_uri": "https://localhost:8080/"
        },
        "id": "GaSP1-bVkARF",
        "outputId": "e8358089-7022-44a5-b687-fb0eb33cbc0b"
      },
      "outputs": [
        {
          "output_type": "stream",
          "name": "stdout",
          "text": [
            "+---+-------+---+----------+------+\n",
            "| id|   name|age|department|salary|\n",
            "+---+-------+---+----------+------+\n",
            "|  3|Charlie| 35|   Finance|  7000|\n",
            "|  4|  David| 40|        HR|  8000|\n",
            "|  5|    Eve| 34|   Finance|  7000|\n",
            "+---+-------+---+----------+------+\n",
            "\n"
          ]
        }
      ],
      "source": [
        "df_filtered = df.filter(col(\"salary\") > 6000)\n",
        "df_filtered.show()"
      ]
    },
    {
      "cell_type": "code",
      "execution_count": 9,
      "metadata": {
        "vscode": {
          "languageId": "plaintext"
        },
        "colab": {
          "base_uri": "https://localhost:8080/"
        },
        "id": "VAXALK8_kARG",
        "outputId": "e76ec4b2-4e07-4b7f-93e4-cc1d3de3879f"
      },
      "outputs": [
        {
          "output_type": "stream",
          "name": "stdout",
          "text": [
            "+---+-------+---+----------+------+\n",
            "| id|   name|age|department|salary|\n",
            "+---+-------+---+----------+------+\n",
            "|  3|Charlie| 35|   Finance|  7000|\n",
            "|  4|  David| 40|        HR|  8000|\n",
            "|  5|    Eve| 34|   Finance|  7000|\n",
            "+---+-------+---+----------+------+\n",
            "\n"
          ]
        }
      ],
      "source": [
        "df_filtered = df.filter((col(\"age\") > 30) & (col(\"salary\") > 6000))\n",
        "df_filtered.show()"
      ]
    },
    {
      "cell_type": "code",
      "execution_count": 10,
      "metadata": {
        "vscode": {
          "languageId": "plaintext"
        },
        "colab": {
          "base_uri": "https://localhost:8080/"
        },
        "id": "fSx3EHHhkARH",
        "outputId": "7afddd1a-84fd-4076-cdd4-9609e835c01a"
      },
      "outputs": [
        {
          "output_type": "stream",
          "name": "stdout",
          "text": [
            "+---+-----+---+----------+------+\n",
            "| id| name|age|department|salary|\n",
            "+---+-----+---+----------+------+\n",
            "|  2|  Bob| 25|        IT|  6000|\n",
            "|  4|David| 40|        HR|  8000|\n",
            "+---+-----+---+----------+------+\n",
            "\n"
          ]
        }
      ],
      "source": [
        "df_filtered = df.filter((col(\"age\") > 35) | (col(\"department\") == \"IT\"))\n",
        "df_filtered.show()"
      ]
    },
    {
      "cell_type": "code",
      "execution_count": 11,
      "metadata": {
        "vscode": {
          "languageId": "plaintext"
        },
        "colab": {
          "base_uri": "https://localhost:8080/"
        },
        "id": "jSng9ZRTkARH",
        "outputId": "fd5cc0fd-bb8d-4045-b730-a04111362777"
      },
      "outputs": [
        {
          "output_type": "stream",
          "name": "stdout",
          "text": [
            "+---+-------+---+----------+------+\n",
            "| id|   name|age|department|salary|\n",
            "+---+-------+---+----------+------+\n",
            "|  2|    Bob| 25|        IT|  6000|\n",
            "|  3|Charlie| 35|   Finance|  7000|\n",
            "|  5|    Eve| 34|   Finance|  7000|\n",
            "+---+-------+---+----------+------+\n",
            "\n"
          ]
        }
      ],
      "source": [
        "df_filtered = df.filter(~(col(\"department\") == \"HR\"))\n",
        "df_filtered.show()"
      ]
    },
    {
      "cell_type": "code",
      "execution_count": 12,
      "metadata": {
        "vscode": {
          "languageId": "plaintext"
        },
        "colab": {
          "base_uri": "https://localhost:8080/"
        },
        "id": "zL_GCSxYkARO",
        "outputId": "22af6b69-767e-4690-d7ff-9b15c8064ba9"
      },
      "outputs": [
        {
          "output_type": "stream",
          "name": "stdout",
          "text": [
            "+---+-------+---+----------+------+\n",
            "| id|   name|age|department|salary|\n",
            "+---+-------+---+----------+------+\n",
            "|  3|Charlie| 35|   Finance|  7000|\n",
            "|  5|    Eve| 34|   Finance|  7000|\n",
            "+---+-------+---+----------+------+\n",
            "\n"
          ]
        }
      ],
      "source": [
        "df_filtered = df.filter(col(\"department\").like(\"%Finance%\"))\n",
        "df_filtered.show()"
      ]
    },
    {
      "cell_type": "code",
      "execution_count": 13,
      "metadata": {
        "vscode": {
          "languageId": "plaintext"
        },
        "colab": {
          "base_uri": "https://localhost:8080/"
        },
        "id": "RNG9CQqhkARO",
        "outputId": "4f20e503-474c-43bf-ee7a-61ae9de9c19f"
      },
      "outputs": [
        {
          "output_type": "stream",
          "name": "stdout",
          "text": [
            "+---+-------+---+----------+------+\n",
            "| id|   name|age|department|salary|\n",
            "+---+-------+---+----------+------+\n",
            "|  1|  Alice| 30|        HR|  5000|\n",
            "|  3|Charlie| 35|   Finance|  7000|\n",
            "|  4|  David| 40|        HR|  8000|\n",
            "|  5|    Eve| 34|   Finance|  7000|\n",
            "+---+-------+---+----------+------+\n",
            "\n"
          ]
        }
      ],
      "source": [
        "df_filtered = df.filter(col(\"department\").isin(\"HR\", \"Finance\"))\n",
        "df_filtered.show()"
      ]
    },
    {
      "cell_type": "code",
      "execution_count": 14,
      "metadata": {
        "vscode": {
          "languageId": "plaintext"
        },
        "colab": {
          "base_uri": "https://localhost:8080/"
        },
        "id": "zjBcFe47kARP",
        "outputId": "d3511dc2-da18-4085-a62c-0f0418c112eb"
      },
      "outputs": [
        {
          "output_type": "stream",
          "name": "stdout",
          "text": [
            "+---+-----+---+----------+------+\n",
            "| id| name|age|department|salary|\n",
            "+---+-----+---+----------+------+\n",
            "|  1|Alice| 30|        HR|  5000|\n",
            "+---+-----+---+----------+------+\n",
            "\n"
          ]
        }
      ],
      "source": [
        "df_filtered = df.filter(col(\"name\").startswith(\"A\"))\n",
        "df_filtered.show()"
      ]
    },
    {
      "cell_type": "code",
      "execution_count": 15,
      "metadata": {
        "vscode": {
          "languageId": "plaintext"
        },
        "colab": {
          "base_uri": "https://localhost:8080/"
        },
        "id": "qAVWpk1IkARQ",
        "outputId": "f19547ea-937e-4f25-a418-d52ac101dc33"
      },
      "outputs": [
        {
          "output_type": "stream",
          "name": "stdout",
          "text": [
            "+---+----+---+----------+------+\n",
            "| id|name|age|department|salary|\n",
            "+---+----+---+----------+------+\n",
            "+---+----+---+----------+------+\n",
            "\n"
          ]
        }
      ],
      "source": [
        "df_filtered = df.filter(col(\"name\").endswith(\"A\"))\n",
        "df_filtered.show()"
      ]
    },
    {
      "cell_type": "code",
      "execution_count": 16,
      "metadata": {
        "vscode": {
          "languageId": "plaintext"
        },
        "colab": {
          "base_uri": "https://localhost:8080/"
        },
        "id": "Q_MhZc0FkARW",
        "outputId": "df0f4039-dd3f-4535-dac6-e7c79e56a958"
      },
      "outputs": [
        {
          "output_type": "stream",
          "name": "stdout",
          "text": [
            "+---+-------+---+----------+------+\n",
            "| id|   name|age|department|salary|\n",
            "+---+-------+---+----------+------+\n",
            "|  1|  Alice| 30|        HR|  5000|\n",
            "|  2|    Bob| 25|        IT|  6000|\n",
            "|  3|Charlie| 35|   Finance|  7000|\n",
            "|  4|  David| 40|        HR|  8000|\n",
            "|  5|    Eve| 34|   Finance|  7000|\n",
            "+---+-------+---+----------+------+\n",
            "\n"
          ]
        }
      ],
      "source": [
        "df_filtered = df.filter(col(\"salary\").isNotNull())\n",
        "df_filtered.show()"
      ]
    },
    {
      "cell_type": "markdown",
      "source": [
        "### Type Casting"
      ],
      "metadata": {
        "id": "We5o-7sXszKK"
      }
    },
    {
      "cell_type": "code",
      "execution_count": 17,
      "metadata": {
        "vscode": {
          "languageId": "plaintext"
        },
        "colab": {
          "base_uri": "https://localhost:8080/"
        },
        "id": "fjxaWO80kARW",
        "outputId": "638e5c0f-83d2-46d0-cf89-0e2caae4fc95"
      },
      "outputs": [
        {
          "output_type": "stream",
          "name": "stdout",
          "text": [
            "+---+---+------+\n",
            "| id|age|salary|\n",
            "+---+---+------+\n",
            "|  1| 30|5000.0|\n",
            "|  2| 25|6000.0|\n",
            "|  3| 35|7000.0|\n",
            "|  4| 40|8000.0|\n",
            "|  5| 34|7000.0|\n",
            "+---+---+------+\n",
            "\n"
          ]
        }
      ],
      "source": [
        "df_casted = df.select(\n",
        " col(\"id\").cast(\"int\"),\n",
        " col(\"age\").cast(\"int\"),\n",
        " col(\"salary\").cast(\"double\")\n",
        " )\n",
        "df_casted.show()"
      ]
    },
    {
      "cell_type": "code",
      "execution_count": 18,
      "metadata": {
        "vscode": {
          "languageId": "plaintext"
        },
        "colab": {
          "base_uri": "https://localhost:8080/"
        },
        "id": "cuWkQ5ykkARW",
        "outputId": "9b69e39a-2461-45da-d755-095c7ca10c60"
      },
      "outputs": [
        {
          "output_type": "stream",
          "name": "stdout",
          "text": [
            "+---+-------+---+----------+-------+\n",
            "| id|   name|age|department| salary|\n",
            "+---+-------+---+----------+-------+\n",
            "|  1|  Alice| 30|        HR|5000.00|\n",
            "|  2|    Bob| 25|        IT|6000.00|\n",
            "|  3|Charlie| 35|   Finance|7000.00|\n",
            "|  4|  David| 40|        HR|8000.00|\n",
            "|  5|    Eve| 34|   Finance|7000.00|\n",
            "+---+-------+---+----------+-------+\n",
            "\n"
          ]
        }
      ],
      "source": [
        "from pyspark.sql.types import DecimalType\n",
        "df_casted = df.withColumn(\"age\", col(\"age\").cast(\"int\")) \\\n",
        " .withColumn(\"salary\", col(\"salary\").cast(DecimalType(10, 2)))\n",
        "df_casted.show()"
      ]
    },
    {
      "cell_type": "markdown",
      "source": [
        "### WithColumn() – Add, Modify, or Drop Columns"
      ],
      "metadata": {
        "id": "hL4M1RX-s4d3"
      }
    },
    {
      "cell_type": "code",
      "execution_count": 19,
      "metadata": {
        "vscode": {
          "languageId": "plaintext"
        },
        "colab": {
          "base_uri": "https://localhost:8080/"
        },
        "id": "PdOeBI5pkARc",
        "outputId": "e953c3cc-6b93-45c2-f725-c0659be9a9da"
      },
      "outputs": [
        {
          "output_type": "stream",
          "name": "stdout",
          "text": [
            "+---+-------+---+----------+------+\n",
            "| id|   name|age|department|salary|\n",
            "+---+-------+---+----------+------+\n",
            "|  1|  Alice| 30|        HR|  5000|\n",
            "|  2|    Bob| 25|        IT|  5000|\n",
            "|  3|Charlie| 35|   Finance|  5000|\n",
            "|  4|  David| 40|        HR|  5000|\n",
            "|  5|    Eve| 34|   Finance|  5000|\n",
            "+---+-------+---+----------+------+\n",
            "\n"
          ]
        }
      ],
      "source": [
        "# Add a new column 'salary' with a constant value\n",
        "from pyspark.sql.functions import lit\n",
        "df = df.withColumn(\"salary\", lit(5000))\n",
        "df.show()"
      ]
    },
    {
      "cell_type": "code",
      "execution_count": 20,
      "metadata": {
        "vscode": {
          "languageId": "plaintext"
        },
        "colab": {
          "base_uri": "https://localhost:8080/"
        },
        "id": "eSgkV30PkARd",
        "outputId": "fa2c0bc4-876d-4158-bde1-4a7f25e446eb"
      },
      "outputs": [
        {
          "output_type": "stream",
          "name": "stdout",
          "text": [
            "+---+-------+---+----------+------+\n",
            "| id|   name|age|department|salary|\n",
            "+---+-------+---+----------+------+\n",
            "|  1|  Alice| 35|        HR|  5000|\n",
            "|  2|    Bob| 30|        IT|  5000|\n",
            "|  3|Charlie| 40|   Finance|  5000|\n",
            "|  4|  David| 45|        HR|  5000|\n",
            "|  5|    Eve| 39|   Finance|  5000|\n",
            "+---+-------+---+----------+------+\n",
            "\n"
          ]
        }
      ],
      "source": [
        " # Increase age by 5 years\n",
        "df = df.withColumn(\"age\", col(\"age\") + 5)\n",
        "df.show()"
      ]
    },
    {
      "cell_type": "code",
      "execution_count": 21,
      "metadata": {
        "vscode": {
          "languageId": "plaintext"
        },
        "colab": {
          "base_uri": "https://localhost:8080/"
        },
        "id": "tpclReWvkARd",
        "outputId": "f314f8c9-ef30-42ca-84d6-4efe93e102e5"
      },
      "outputs": [
        {
          "output_type": "stream",
          "name": "stdout",
          "text": [
            "+---+-------+---+----------+------+------+\n",
            "| id|   name|age|department|salary|status|\n",
            "+---+-------+---+----------+------+------+\n",
            "|  1|  Alice| 35|        HR|  5000|   Bad|\n",
            "|  2|    Bob| 30|        IT|  5000|   Bad|\n",
            "|  3|Charlie| 40|   Finance|  5000|   Bad|\n",
            "|  4|  David| 45|        HR|  5000|   Bad|\n",
            "|  5|    Eve| 39|   Finance|  5000|   Bad|\n",
            "+---+-------+---+----------+------+------+\n",
            "\n"
          ]
        }
      ],
      "source": [
        " from pyspark.sql.functions import when\n",
        " df_status = df.withColumn(\"status\", when(col(\"salary\") >= 6500, \"Good\").otherwise(\"Bad\"))\n",
        " df_status.show()"
      ]
    },
    {
      "cell_type": "markdown",
      "source": [
        "### Drop"
      ],
      "metadata": {
        "id": "62fgRpwvtEn3"
      }
    },
    {
      "cell_type": "code",
      "execution_count": 22,
      "metadata": {
        "vscode": {
          "languageId": "plaintext"
        },
        "colab": {
          "base_uri": "https://localhost:8080/"
        },
        "id": "By8Y-t-VkARe",
        "outputId": "f7248831-1504-4227-c904-ddd4ba158e3d"
      },
      "outputs": [
        {
          "output_type": "stream",
          "name": "stdout",
          "text": [
            "+---+----------+------+\n",
            "| id|department|salary|\n",
            "+---+----------+------+\n",
            "|  1|        HR|  5000|\n",
            "|  2|        IT|  5000|\n",
            "|  3|   Finance|  5000|\n",
            "|  4|        HR|  5000|\n",
            "|  5|   Finance|  5000|\n",
            "+---+----------+------+\n",
            "\n"
          ]
        }
      ],
      "source": [
        "f = df.drop(\"age\", \"name\")\n",
        "f.show()"
      ]
    },
    {
      "cell_type": "code",
      "execution_count": 23,
      "metadata": {
        "vscode": {
          "languageId": "plaintext"
        },
        "colab": {
          "base_uri": "https://localhost:8080/"
        },
        "id": "_98MoRrXkARk",
        "outputId": "1575fd50-9f0a-427d-8529-c9f8bdc10031"
      },
      "outputs": [
        {
          "output_type": "stream",
          "name": "stdout",
          "text": [
            "+---+----------+------+\n",
            "| id|department|salary|\n",
            "+---+----------+------+\n",
            "|  1|        HR|  5000|\n",
            "|  2|        IT|  5000|\n",
            "|  3|   Finance|  5000|\n",
            "|  4|        HR|  5000|\n",
            "|  5|   Finance|  5000|\n",
            "+---+----------+------+\n",
            "\n"
          ]
        }
      ],
      "source": [
        "columns_to_drop = [\"age\", \"name\"]\n",
        "f = df.drop(*columns_to_drop)\n",
        "f.show()"
      ]
    },
    {
      "cell_type": "code",
      "execution_count": 24,
      "metadata": {
        "vscode": {
          "languageId": "plaintext"
        },
        "colab": {
          "base_uri": "https://localhost:8080/"
        },
        "id": "TZxbx1rHkARl",
        "outputId": "d32b38ea-6d4f-46fb-d375-00b5b8f45fde"
      },
      "outputs": [
        {
          "output_type": "stream",
          "name": "stdout",
          "text": [
            "+---+-------+---+----------+------+\n",
            "| id|   name|age|department|salary|\n",
            "+---+-------+---+----------+------+\n",
            "|  1|  Alice| 35|        HR|  5000|\n",
            "|  2|    Bob| 30|        IT|  5000|\n",
            "|  3|Charlie| 40|   Finance|  5000|\n",
            "|  4|  David| 45|        HR|  5000|\n",
            "|  5|    Eve| 39|   Finance|  5000|\n",
            "+---+-------+---+----------+------+\n",
            "\n"
          ]
        }
      ],
      "source": [
        "df_cleaned = df.dropna()\n",
        "df_cleaned.show()"
      ]
    },
    {
      "cell_type": "code",
      "execution_count": 25,
      "metadata": {
        "vscode": {
          "languageId": "plaintext"
        },
        "colab": {
          "base_uri": "https://localhost:8080/"
        },
        "id": "zLpjj0hRkARl",
        "outputId": "fdf874e8-7d6b-433f-8906-3a010f3a897c"
      },
      "outputs": [
        {
          "output_type": "stream",
          "name": "stdout",
          "text": [
            "+---+-------+---+----------+------+\n",
            "| id|   name|age|department|salary|\n",
            "+---+-------+---+----------+------+\n",
            "|  1|  Alice| 35|        HR|  5000|\n",
            "|  2|    Bob| 30|        IT|  5000|\n",
            "|  3|Charlie| 40|   Finance|  5000|\n",
            "|  4|  David| 45|        HR|  5000|\n",
            "|  5|    Eve| 39|   Finance|  5000|\n",
            "+---+-------+---+----------+------+\n",
            "\n"
          ]
        }
      ],
      "source": [
        "df_cleaned = df.dropna(subset=[\"age\"])\n",
        "df_cleaned.show()"
      ]
    },
    {
      "cell_type": "markdown",
      "source": [
        "### dropDuplicates"
      ],
      "metadata": {
        "id": "BgtMaL_ZtJAF"
      }
    },
    {
      "cell_type": "markdown",
      "source": [],
      "metadata": {
        "id": "bXqgUAbktI3a"
      }
    },
    {
      "cell_type": "code",
      "execution_count": 26,
      "metadata": {
        "vscode": {
          "languageId": "plaintext"
        },
        "colab": {
          "base_uri": "https://localhost:8080/"
        },
        "id": "xDKP1BJ5kARl",
        "outputId": "90653b54-8606-4931-9904-b516bd2ec3bd"
      },
      "outputs": [
        {
          "output_type": "stream",
          "name": "stdout",
          "text": [
            "+---+-------+---+----------+------+\n",
            "| id|   name|age|department|salary|\n",
            "+---+-------+---+----------+------+\n",
            "|  1|  Alice| 35|        HR|  5000|\n",
            "|  2|    Bob| 30|        IT|  5000|\n",
            "|  3|Charlie| 40|   Finance|  5000|\n",
            "|  5|    Eve| 39|   Finance|  5000|\n",
            "|  4|  David| 45|        HR|  5000|\n",
            "+---+-------+---+----------+------+\n",
            "\n"
          ]
        }
      ],
      "source": [
        "df_unique = df.dropDuplicates()\n",
        "df_unique.show()"
      ]
    },
    {
      "cell_type": "code",
      "execution_count": 27,
      "metadata": {
        "vscode": {
          "languageId": "plaintext"
        },
        "colab": {
          "base_uri": "https://localhost:8080/"
        },
        "id": "a26k-At2kARr",
        "outputId": "05979520-eaee-431e-9d66-081a32060bda"
      },
      "outputs": [
        {
          "output_type": "stream",
          "name": "stdout",
          "text": [
            "+---+-------+---+----------+------+\n",
            "| id|   name|age|department|salary|\n",
            "+---+-------+---+----------+------+\n",
            "|  1|  Alice| 35|        HR|  5000|\n",
            "|  2|    Bob| 30|        IT|  5000|\n",
            "|  3|Charlie| 40|   Finance|  5000|\n",
            "|  4|  David| 45|        HR|  5000|\n",
            "|  5|    Eve| 39|   Finance|  5000|\n",
            "+---+-------+---+----------+------+\n",
            "\n"
          ]
        }
      ],
      "source": [
        "df_unique = df.dropDuplicates([\"name\", \"age\"])\n",
        "df_unique.show()"
      ]
    },
    {
      "cell_type": "markdown",
      "source": [
        "### orderBy"
      ],
      "metadata": {
        "id": "fNRRAqCst-Sc"
      }
    },
    {
      "cell_type": "code",
      "execution_count": 28,
      "metadata": {
        "vscode": {
          "languageId": "plaintext"
        },
        "colab": {
          "base_uri": "https://localhost:8080/"
        },
        "id": "L8WaisFukARt",
        "outputId": "fa1685d1-268d-4853-9d75-af7cc39d3aee"
      },
      "outputs": [
        {
          "output_type": "stream",
          "name": "stdout",
          "text": [
            "+---+-------+---+----------+------+\n",
            "| id|   name|age|department|salary|\n",
            "+---+-------+---+----------+------+\n",
            "|  2|    Bob| 30|        IT|  5000|\n",
            "|  1|  Alice| 35|        HR|  5000|\n",
            "|  5|    Eve| 39|   Finance|  5000|\n",
            "|  3|Charlie| 40|   Finance|  5000|\n",
            "|  4|  David| 45|        HR|  5000|\n",
            "+---+-------+---+----------+------+\n",
            "\n"
          ]
        }
      ],
      "source": [
        "df_sorted = df.orderBy(\"age\")\n",
        "df_sorted.show()"
      ]
    },
    {
      "cell_type": "code",
      "execution_count": 29,
      "metadata": {
        "vscode": {
          "languageId": "plaintext"
        },
        "colab": {
          "base_uri": "https://localhost:8080/"
        },
        "id": "EVqI645OkARu",
        "outputId": "bf19330e-c241-4bf1-c445-acbc8d839d3b"
      },
      "outputs": [
        {
          "output_type": "stream",
          "name": "stdout",
          "text": [
            "+---+-------+---+----------+------+\n",
            "| id|   name|age|department|salary|\n",
            "+---+-------+---+----------+------+\n",
            "|  4|  David| 45|        HR|  5000|\n",
            "|  3|Charlie| 40|   Finance|  5000|\n",
            "|  5|    Eve| 39|   Finance|  5000|\n",
            "|  1|  Alice| 35|        HR|  5000|\n",
            "|  2|    Bob| 30|        IT|  5000|\n",
            "+---+-------+---+----------+------+\n",
            "\n"
          ]
        }
      ],
      "source": [
        "df_sorted = df.orderBy(col(\"age\").desc())\n",
        "df_sorted.show()"
      ]
    },
    {
      "cell_type": "code",
      "execution_count": 30,
      "metadata": {
        "vscode": {
          "languageId": "plaintext"
        },
        "colab": {
          "base_uri": "https://localhost:8080/"
        },
        "id": "O9rHFmdFkARv",
        "outputId": "71f1e4eb-21c2-4408-f24c-ac68d91d10d6"
      },
      "outputs": [
        {
          "output_type": "stream",
          "name": "stdout",
          "text": [
            "+---+-------+---+----------+------+\n",
            "| id|   name|age|department|salary|\n",
            "+---+-------+---+----------+------+\n",
            "|  2|    Bob| 30|        IT|  5000|\n",
            "|  1|  Alice| 35|        HR|  5000|\n",
            "|  5|    Eve| 39|   Finance|  5000|\n",
            "|  3|Charlie| 40|   Finance|  5000|\n",
            "|  4|  David| 45|        HR|  5000|\n",
            "+---+-------+---+----------+------+\n",
            "\n"
          ]
        }
      ],
      "source": [
        "df_sorted = df.orderBy(col(\"age\").asc(), col(\"name\").desc())\n",
        "df_sorted.show()"
      ]
    },
    {
      "cell_type": "code",
      "execution_count": 31,
      "metadata": {
        "vscode": {
          "languageId": "plaintext"
        },
        "colab": {
          "base_uri": "https://localhost:8080/"
        },
        "id": "pCy9fnGykAR1",
        "outputId": "ba3c0eaf-77e2-4fb0-ace9-643221c3fb9b"
      },
      "outputs": [
        {
          "output_type": "stream",
          "name": "stdout",
          "text": [
            "+---+-------+---+----------+------+\n",
            "| id|   name|age|department|salary|\n",
            "+---+-------+---+----------+------+\n",
            "|  2|    Bob| 30|        IT|  5000|\n",
            "|  1|  Alice| 35|        HR|  5000|\n",
            "|  5|    Eve| 39|   Finance|  5000|\n",
            "|  3|Charlie| 40|   Finance|  5000|\n",
            "|  4|  David| 45|        HR|  5000|\n",
            "+---+-------+---+----------+------+\n",
            "\n"
          ]
        }
      ],
      "source": [
        "df_sorted = df.sort(col(\"age\").asc(), col(\"name\").desc())\n",
        "df_sorted.show()"
      ]
    },
    {
      "cell_type": "markdown",
      "source": [
        "### limit"
      ],
      "metadata": {
        "id": "LSkUGvh5uhl6"
      }
    },
    {
      "cell_type": "code",
      "execution_count": 32,
      "metadata": {
        "vscode": {
          "languageId": "plaintext"
        },
        "colab": {
          "base_uri": "https://localhost:8080/"
        },
        "id": "7NKKN8hwkAR2",
        "outputId": "8a8f0555-3324-42b6-873b-4af64f376077"
      },
      "outputs": [
        {
          "output_type": "stream",
          "name": "stdout",
          "text": [
            "+---+-----+---+----------+------+\n",
            "| id| name|age|department|salary|\n",
            "+---+-----+---+----------+------+\n",
            "|  1|Alice| 35|        HR|  5000|\n",
            "|  2|  Bob| 30|        IT|  5000|\n",
            "+---+-----+---+----------+------+\n",
            "\n"
          ]
        }
      ],
      "source": [
        "df_limited = df.limit(2)\n",
        "df_limited.show()"
      ]
    },
    {
      "cell_type": "code",
      "execution_count": 33,
      "metadata": {
        "vscode": {
          "languageId": "plaintext"
        },
        "colab": {
          "base_uri": "https://localhost:8080/"
        },
        "id": "0UUvX7xVkAR3",
        "outputId": "62648a44-76eb-4c14-cc42-637ba9ec3378"
      },
      "outputs": [
        {
          "output_type": "stream",
          "name": "stdout",
          "text": [
            "+---+-------+---+----------+------+\n",
            "| id|   name|age|department|salary|\n",
            "+---+-------+---+----------+------+\n",
            "|  4|  David| 45|        HR|  5000|\n",
            "|  3|Charlie| 40|   Finance|  5000|\n",
            "+---+-------+---+----------+------+\n",
            "\n"
          ]
        }
      ],
      "source": [
        "df_top = df.orderBy(col(\"age\").desc()).limit(2)\n",
        "df_top.show()"
      ]
    },
    {
      "cell_type": "markdown",
      "source": [
        "### union"
      ],
      "metadata": {
        "id": "Mwc86b0NukgK"
      }
    },
    {
      "cell_type": "code",
      "execution_count": 34,
      "metadata": {
        "vscode": {
          "languageId": "plaintext"
        },
        "colab": {
          "base_uri": "https://localhost:8080/"
        },
        "id": "jq01Nv9-kAR8",
        "outputId": "84000046-90da-4a0b-9799-2c7ef7b6bf5e"
      },
      "outputs": [
        {
          "output_type": "stream",
          "name": "stdout",
          "text": [
            "+---+-------+---+\n",
            "| id|   name|age|\n",
            "+---+-------+---+\n",
            "|  1|  Alice| 30|\n",
            "|  2|    Bob| 25|\n",
            "|  3|Charlie| 35|\n",
            "|  4|  David| 40|\n",
            "+---+-------+---+\n",
            "\n"
          ]
        }
      ],
      "source": [
        "data1 = [(1, \"Alice\", 30), (2, \"Bob\", 25)]\n",
        "data2 = [(3, \"Charlie\", 35), (4, \"David\", 40)]\n",
        "schema = [\"id\", \"name\", \"age\"]\n",
        " # Create DataFrames\n",
        "df1 = spark.createDataFrame(data1, schema=schema)\n",
        "df2 = spark.createDataFrame(data2, schema=schema)\n",
        " # Union\n",
        "df_union = df1.union(df2)\n",
        "df_union.show()"
      ]
    },
    {
      "cell_type": "code",
      "execution_count": 35,
      "metadata": {
        "vscode": {
          "languageId": "plaintext"
        },
        "colab": {
          "base_uri": "https://localhost:8080/"
        },
        "id": "BAHCgo08kAR9",
        "outputId": "92d68f2f-2be2-42b5-ced6-e7e6352e7271"
      },
      "outputs": [
        {
          "output_type": "stream",
          "name": "stdout",
          "text": [
            "+---+-----+---+\n",
            "| id| name|age|\n",
            "+---+-----+---+\n",
            "|  1|Alice| 30|\n",
            "|  2|  Bob| 25|\n",
            "|  5|  Eve| 50|\n",
            "|  6|Frank| 45|\n",
            "+---+-----+---+\n",
            "\n"
          ]
        }
      ],
      "source": [
        "data3 = [(5, 50, \"Eve\"), (6, 45, \"Frank\")]\n",
        "schema_different = [\"id\", \"age\", \"name\"]  # Age and Name are swapped\n",
        " # Create DataFrame\n",
        "df3 = spark.createDataFrame(data3, schema=schema_different)\n",
        " # Union by Name\n",
        "df_union_by_name = df1.unionByName(df3,allowMissingColumns=True)\n",
        "df_union_by_name.show()"
      ]
    },
    {
      "cell_type": "code",
      "execution_count": 36,
      "metadata": {
        "vscode": {
          "languageId": "plaintext"
        },
        "id": "6wkTrPzLkAR_"
      },
      "outputs": [],
      "source": [
        "from pyspark.sql.functions import count"
      ]
    },
    {
      "cell_type": "markdown",
      "source": [
        "### Agg"
      ],
      "metadata": {
        "id": "ZSqjB-ZIvOr_"
      }
    },
    {
      "cell_type": "code",
      "execution_count": 37,
      "metadata": {
        "vscode": {
          "languageId": "plaintext"
        },
        "colab": {
          "base_uri": "https://localhost:8080/"
        },
        "id": "tTiV9opvkAR_",
        "outputId": "cdae2c7d-7682-4733-9ea2-d144d18f9b10"
      },
      "outputs": [
        {
          "output_type": "stream",
          "name": "stdout",
          "text": [
            "+----------+--------------+\n",
            "|department|employee_count|\n",
            "+----------+--------------+\n",
            "|        HR|             2|\n",
            "|        IT|             1|\n",
            "|   Finance|             2|\n",
            "+----------+--------------+\n",
            "\n"
          ]
        }
      ],
      "source": [
        "df_grouped = df.groupBy(\"department\").agg(count(\"*\").alias(\"employee_count\"))\n",
        "df_grouped.show()"
      ]
    },
    {
      "cell_type": "code",
      "execution_count": 38,
      "metadata": {
        "vscode": {
          "languageId": "plaintext"
        },
        "colab": {
          "base_uri": "https://localhost:8080/"
        },
        "id": "8YfeCRuvkASF",
        "outputId": "5b0913b3-041b-4989-ef13-5840e35ed675"
      },
      "outputs": [
        {
          "output_type": "stream",
          "name": "stdout",
          "text": [
            "+----------+--------------+------------+----------+----------+----------+\n",
            "|department|employee_count|total_salary|avg_salary|max_salary|min_salary|\n",
            "+----------+--------------+------------+----------+----------+----------+\n",
            "|        HR|             2|       10000|    5000.0|      5000|      5000|\n",
            "|        IT|             1|        5000|    5000.0|      5000|      5000|\n",
            "|   Finance|             2|       10000|    5000.0|      5000|      5000|\n",
            "+----------+--------------+------------+----------+----------+----------+\n",
            "\n"
          ]
        }
      ],
      "source": [
        "from pyspark.sql.functions import sum, avg, max, min\n",
        "df_grouped = df.groupBy(\"department\").agg(\n",
        " count(\"*\").alias(\"employee_count\"),\n",
        " sum(\"salary\").alias(\"total_salary\"),\n",
        " avg(\"salary\").alias(\"avg_salary\"),\n",
        " max(\"salary\").alias(\"max_salary\"),\n",
        " min(\"salary\").alias(\"min_salary\")\n",
        " )\n",
        "df_grouped.show()"
      ]
    },
    {
      "cell_type": "code",
      "execution_count": 39,
      "metadata": {
        "vscode": {
          "languageId": "plaintext"
        },
        "colab": {
          "base_uri": "https://localhost:8080/"
        },
        "id": "KQ_9Dh23kASF",
        "outputId": "f3cab7b0-f27c-4a8e-85fd-fb714afe03b2"
      },
      "outputs": [
        {
          "output_type": "stream",
          "name": "stdout",
          "text": [
            "+----------+------+-----+\n",
            "|department|salary|count|\n",
            "+----------+------+-----+\n",
            "|        IT|  5000|    1|\n",
            "|        HR|  5000|    2|\n",
            "|   Finance|  5000|    2|\n",
            "+----------+------+-----+\n",
            "\n"
          ]
        }
      ],
      "source": [
        "df_grouped = df.groupBy(\"department\", \"salary\").count()\n",
        "df_grouped.show()"
      ]
    },
    {
      "cell_type": "markdown",
      "source": [
        "### Split"
      ],
      "metadata": {
        "id": "FKizYd2bvhnc"
      }
    },
    {
      "cell_type": "code",
      "execution_count": 40,
      "metadata": {
        "vscode": {
          "languageId": "plaintext"
        },
        "colab": {
          "base_uri": "https://localhost:8080/"
        },
        "id": "Bi9S5gR8kASa",
        "outputId": "8a07da87-ffb9-4e2d-b822-ac39ae5484bc"
      },
      "outputs": [
        {
          "output_type": "stream",
          "name": "stdout",
          "text": [
            "+-------------+\n",
            "|    full_name|\n",
            "+-------------+\n",
            "|     John Doe|\n",
            "|Alice Johnson|\n",
            "|    Bob Smith|\n",
            "+-------------+\n",
            "\n"
          ]
        }
      ],
      "source": [
        "data2 = [(\"John Doe\",), (\"Alice Johnson\",), (\"Bob Smith\",)]\n",
        "schema = [\"full_name\"]\n",
        " # Create DataFrame\n",
        "df = spark.createDataFrame(data2, schema=schema)\n",
        "df.show()"
      ]
    },
    {
      "cell_type": "code",
      "execution_count": 41,
      "metadata": {
        "vscode": {
          "languageId": "plaintext"
        },
        "colab": {
          "base_uri": "https://localhost:8080/"
        },
        "id": "kDRx15BBkASb",
        "outputId": "88b77578-87bb-4c95-b3c4-ba8a309abbe7"
      },
      "outputs": [
        {
          "output_type": "stream",
          "name": "stdout",
          "text": [
            "+-------------+----------------+\n",
            "|full_name    |name_parts      |\n",
            "+-------------+----------------+\n",
            "|John Doe     |[John, Doe]     |\n",
            "|Alice Johnson|[Alice, Johnson]|\n",
            "|Bob Smith    |[Bob, Smith]    |\n",
            "+-------------+----------------+\n",
            "\n"
          ]
        }
      ],
      "source": [
        "from pyspark.sql.functions import split\n",
        "df_split = df.withColumn(\"name_parts\", split(col(\"full_name\"), \" \"))\n",
        "df_split.show(truncate=False)"
      ]
    },
    {
      "cell_type": "code",
      "execution_count": 42,
      "metadata": {
        "vscode": {
          "languageId": "plaintext"
        },
        "colab": {
          "base_uri": "https://localhost:8080/"
        },
        "id": "qfoCp2BHkASh",
        "outputId": "aa8414fb-f871-4ebe-841d-180da500494a"
      },
      "outputs": [
        {
          "output_type": "stream",
          "name": "stdout",
          "text": [
            "+-------------+----------------+----------+\n",
            "|full_name    |name_parts      |first_name|\n",
            "+-------------+----------------+----------+\n",
            "|John Doe     |[John, Doe]     |John      |\n",
            "|Alice Johnson|[Alice, Johnson]|Alice     |\n",
            "|Bob Smith    |[Bob, Smith]    |Bob       |\n",
            "+-------------+----------------+----------+\n",
            "\n"
          ]
        }
      ],
      "source": [
        "df_split = df_split.withColumn(\"first_name\", col(\"name_parts\")[0])\n",
        "df_split.show(truncate=False)"
      ]
    },
    {
      "cell_type": "markdown",
      "metadata": {
        "id": "PnlT2AGGkASk"
      },
      "source": [
        "### explode"
      ]
    },
    {
      "cell_type": "code",
      "execution_count": 43,
      "metadata": {
        "vscode": {
          "languageId": "plaintext"
        },
        "id": "hZI5MgCnkASj"
      },
      "outputs": [],
      "source": [
        "from pyspark.sql.functions import explode\n",
        "df_exploded = df_split.withColumn(\"word\", explode(df_split.name_parts)).drop(\"name_parts\")"
      ]
    },
    {
      "cell_type": "code",
      "execution_count": 44,
      "metadata": {
        "vscode": {
          "languageId": "plaintext"
        },
        "colab": {
          "base_uri": "https://localhost:8080/"
        },
        "id": "VBvKJl7NkASt",
        "outputId": "919b3e54-13f9-4929-80e4-fb3ea769d08f"
      },
      "outputs": [
        {
          "output_type": "stream",
          "name": "stdout",
          "text": [
            "+---+-------------+------------------------+\n",
            "|id |name         |skills                  |\n",
            "+---+-------------+------------------------+\n",
            "|1  |John Doe     |[Python, Java, SQL]     |\n",
            "|2  |Alice Johnson|[Scala, C++]            |\n",
            "|3  |Bob Smith    |[JavaScript, Python, Go]|\n",
            "+---+-------------+------------------------+\n",
            "\n"
          ]
        }
      ],
      "source": [
        "data3 = [\n",
        " (1, \"John Doe\", [\"Python\", \"Java\", \"SQL\"]),\n",
        " (2, \"Alice Johnson\", [\"Scala\", \"C++\"]),\n",
        " (3, \"Bob Smith\", [\"JavaScript\", \"Python\", \"Go\"])\n",
        " ]\n",
        "schema = [\"id\", \"name\", \"skills\"]\n",
        " # Create DataFrame\n",
        "df = spark.createDataFrame(data3, schema=schema)\n",
        "df.show(truncate=False)"
      ]
    },
    {
      "cell_type": "code",
      "execution_count": 45,
      "metadata": {
        "vscode": {
          "languageId": "plaintext"
        },
        "colab": {
          "base_uri": "https://localhost:8080/"
        },
        "id": "56gsFgI0kASv",
        "outputId": "0bfe5cba-bb92-449a-db5e-1081cdab61a9"
      },
      "outputs": [
        {
          "output_type": "stream",
          "name": "stdout",
          "text": [
            "+---+-------------+----------+\n",
            "| id|         name|     skill|\n",
            "+---+-------------+----------+\n",
            "|  1|     John Doe|    Python|\n",
            "|  1|     John Doe|      Java|\n",
            "|  1|     John Doe|       SQL|\n",
            "|  2|Alice Johnson|     Scala|\n",
            "|  2|Alice Johnson|       C++|\n",
            "|  3|    Bob Smith|JavaScript|\n",
            "|  3|    Bob Smith|    Python|\n",
            "|  3|    Bob Smith|        Go|\n",
            "+---+-------------+----------+\n",
            "\n"
          ]
        }
      ],
      "source": [
        "df_exploded = df.withColumn(\"skill\", explode(df.skills)).drop(\"skills\")\n",
        "df_exploded.show()"
      ]
    },
    {
      "cell_type": "markdown",
      "source": [
        "### array_contains"
      ],
      "metadata": {
        "id": "Q_QGggtwv1gc"
      }
    },
    {
      "cell_type": "code",
      "execution_count": 46,
      "metadata": {
        "vscode": {
          "languageId": "plaintext"
        },
        "colab": {
          "base_uri": "https://localhost:8080/"
        },
        "id": "F3j3_WojkASw",
        "outputId": "08f237b3-2b6a-484c-9648-2f47a2ed4861"
      },
      "outputs": [
        {
          "output_type": "stream",
          "name": "stdout",
          "text": [
            "+---+-------------+--------------------+----------+\n",
            "| id|         name|              skills|has_python|\n",
            "+---+-------------+--------------------+----------+\n",
            "|  1|     John Doe| [Python, Java, SQL]|      true|\n",
            "|  2|Alice Johnson|        [Scala, C++]|     false|\n",
            "|  3|    Bob Smith|[JavaScript, Pyth...|      true|\n",
            "+---+-------------+--------------------+----------+\n",
            "\n"
          ]
        }
      ],
      "source": [
        "\n",
        "from pyspark.sql.functions import array_contains\n",
        "df_contains = df.withColumn(\"has_python\", array_contains(col(\"skills\"), \"Python\"))\n",
        "df_contains.show()"
      ]
    },
    {
      "cell_type": "code",
      "execution_count": 47,
      "metadata": {
        "vscode": {
          "languageId": "plaintext"
        },
        "colab": {
          "base_uri": "https://localhost:8080/"
        },
        "id": "-6_YJlQlkAS3",
        "outputId": "1890b3a6-3f0d-41bc-a026-ee3db36a3f04"
      },
      "outputs": [
        {
          "output_type": "stream",
          "name": "stdout",
          "text": [
            "+-------------+----------+\n",
            "|         name|knows_java|\n",
            "+-------------+----------+\n",
            "|     John Doe|      true|\n",
            "|Alice Johnson|     false|\n",
            "|    Bob Smith|     false|\n",
            "+-------------+----------+\n",
            "\n"
          ]
        }
      ],
      "source": [
        "df.select(\"name\", array_contains(col(\"skills\"), \"Java\").alias(\"knows_java\")).show()"
      ]
    },
    {
      "cell_type": "code",
      "execution_count": 48,
      "metadata": {
        "vscode": {
          "languageId": "plaintext"
        },
        "colab": {
          "base_uri": "https://localhost:8080/"
        },
        "id": "CsKNZPIekAS5",
        "outputId": "9bf6d67a-16cd-41e1-bb98-521b408d35ea"
      },
      "outputs": [
        {
          "output_type": "stream",
          "name": "stdout",
          "text": [
            "+---+-------------+--------------------+-------------------+\n",
            "| id|         name|              skills|has_python_or_scala|\n",
            "+---+-------------+--------------------+-------------------+\n",
            "|  1|     John Doe| [Python, Java, SQL]|               true|\n",
            "|  2|Alice Johnson|        [Scala, C++]|               true|\n",
            "|  3|    Bob Smith|[JavaScript, Pyth...|               true|\n",
            "+---+-------------+--------------------+-------------------+\n",
            "\n"
          ]
        }
      ],
      "source": [
        "\n",
        "from pyspark.sql.functions import expr\n",
        "df_multiple = df.withColumn(\"has_python_or_scala\", expr(\"array_contains(skills, 'Python') OR array_contains(skills, 'Scala')\"))\n",
        "df_multiple.show()"
      ]
    },
    {
      "cell_type": "markdown",
      "source": [
        "### collect_list"
      ],
      "metadata": {
        "id": "_2cUrQSwv6DJ"
      }
    },
    {
      "cell_type": "code",
      "execution_count": 49,
      "metadata": {
        "vscode": {
          "languageId": "plaintext"
        },
        "id": "o1yMKZl1kAS7"
      },
      "outputs": [],
      "source": [
        "from pyspark.sql.functions import collect_list"
      ]
    },
    {
      "cell_type": "code",
      "execution_count": 50,
      "metadata": {
        "vscode": {
          "languageId": "plaintext"
        },
        "colab": {
          "base_uri": "https://localhost:8080/"
        },
        "id": "ju7Hmp1VkAS8",
        "outputId": "dd1052a6-ba85-4166-87a4-024e933c43f3"
      },
      "outputs": [
        {
          "output_type": "stream",
          "name": "stdout",
          "text": [
            "+---+-------+----------+\n",
            "| id|   name|     skill|\n",
            "+---+-------+----------+\n",
            "|  1|  Alice|    Python|\n",
            "|  1|  Alice|      Java|\n",
            "|  2|    Bob|     Scala|\n",
            "|  2|    Bob|    Python|\n",
            "|  2|    Bob|        Go|\n",
            "|  3|Charlie|JavaScript|\n",
            "|  3|Charlie|       C++|\n",
            "+---+-------+----------+\n",
            "\n"
          ]
        }
      ],
      "source": [
        "data = [\n",
        "    (1, \"Alice\", \"Python\"),\n",
        "    (1, \"Alice\", \"Java\"),\n",
        "    (2, \"Bob\", \"Scala\"),\n",
        "    (2, \"Bob\", \"Python\"),\n",
        "    (2, \"Bob\", \"Go\"),\n",
        "    (3, \"Charlie\", \"JavaScript\"),\n",
        "    (3, \"Charlie\", \"C++\")\n",
        "]\n",
        "schema = [\"id\", \"name\", \"skill\"]\n",
        "\n",
        "# Create DataFrame\n",
        "df = spark.createDataFrame(data, schema=schema)\n",
        "\n",
        "df.show()"
      ]
    },
    {
      "cell_type": "code",
      "execution_count": 51,
      "metadata": {
        "vscode": {
          "languageId": "plaintext"
        },
        "colab": {
          "base_uri": "https://localhost:8080/"
        },
        "id": "FjUp7_g_kATD",
        "outputId": "c7aaaf8c-676d-452b-ab9c-70f7f283d5f9"
      },
      "outputs": [
        {
          "output_type": "stream",
          "name": "stdout",
          "text": [
            "+---+-------+-------------------+\n",
            "|id |name   |skills             |\n",
            "+---+-------+-------------------+\n",
            "|2  |Bob    |[Scala, Python, Go]|\n",
            "|1  |Alice  |[Python, Java]     |\n",
            "|3  |Charlie|[JavaScript, C++]  |\n",
            "+---+-------+-------------------+\n",
            "\n"
          ]
        }
      ],
      "source": [
        " df_grouped = df.groupBy(\"id\", \"name\").agg(collect_list(\"skill\").alias(\"skills\"))\n",
        " df_grouped.show(truncate=False)"
      ]
    },
    {
      "cell_type": "code",
      "execution_count": 52,
      "metadata": {
        "vscode": {
          "languageId": "plaintext"
        },
        "colab": {
          "base_uri": "https://localhost:8080/"
        },
        "id": "aj8IqhO2kATE",
        "outputId": "c7c6a89c-454b-4171-eda4-ae6c8d930d79"
      },
      "outputs": [
        {
          "output_type": "stream",
          "name": "stdout",
          "text": [
            "+---+-------+-------+-----+\n",
            "| id|   name|subject|marks|\n",
            "+---+-------+-------+-----+\n",
            "|  1|  Alice|   Math|   85|\n",
            "|  1|  Alice|Science|   90|\n",
            "|  1|  Alice|English|   78|\n",
            "|  2|    Bob|   Math|   92|\n",
            "|  2|    Bob|Science|   88|\n",
            "|  2|    Bob|English|   81|\n",
            "|  3|Charlie|   Math|   75|\n",
            "|  3|Charlie|Science|   95|\n",
            "|  3|Charlie|English|   85|\n",
            "+---+-------+-------+-----+\n",
            "\n"
          ]
        }
      ],
      "source": [
        "data = [\n",
        "    (1, \"Alice\", \"Math\", 85),\n",
        "    (1, \"Alice\", \"Science\", 90),\n",
        "    (1, \"Alice\", \"English\", 78),\n",
        "    (2, \"Bob\", \"Math\", 92),\n",
        "    (2, \"Bob\", \"Science\", 88),\n",
        "    (2, \"Bob\", \"English\", 81),\n",
        "    (3, \"Charlie\", \"Math\", 75),\n",
        "    (3, \"Charlie\", \"Science\", 95),\n",
        "    (3, \"Charlie\", \"English\", 85)\n",
        "]\n",
        "schema = [\"id\", \"name\", \"subject\", \"marks\"]\n",
        "\n",
        "# Create DataFrame\n",
        "df = spark.createDataFrame(data, schema=schema)\n",
        "\n",
        "df.show()"
      ]
    },
    {
      "cell_type": "markdown",
      "source": [
        "### pivot"
      ],
      "metadata": {
        "id": "JungQ5Env999"
      }
    },
    {
      "cell_type": "code",
      "execution_count": 53,
      "metadata": {
        "vscode": {
          "languageId": "plaintext"
        },
        "colab": {
          "base_uri": "https://localhost:8080/"
        },
        "id": "A7iSzTnxkATG",
        "outputId": "4f3e4a7f-d11e-45a2-c815-4b664391924c"
      },
      "outputs": [
        {
          "output_type": "stream",
          "name": "stdout",
          "text": [
            "+---+-------+-------+----+-------+\n",
            "| id|   name|English|Math|Science|\n",
            "+---+-------+-------+----+-------+\n",
            "|  3|Charlie|     85|  75|     95|\n",
            "|  2|    Bob|     81|  92|     88|\n",
            "|  1|  Alice|     78|  85|     90|\n",
            "+---+-------+-------+----+-------+\n",
            "\n"
          ]
        }
      ],
      "source": [
        "df_pivot = df.groupBy(\"id\", \"name\").pivot(\"subject\").sum(\"marks\")\n",
        "df_pivot.show()"
      ]
    },
    {
      "cell_type": "markdown",
      "metadata": {
        "id": "S5lzQEyNkATN"
      },
      "source": [
        "### Join"
      ]
    },
    {
      "cell_type": "code",
      "execution_count": 54,
      "metadata": {
        "vscode": {
          "languageId": "plaintext"
        },
        "colab": {
          "base_uri": "https://localhost:8080/"
        },
        "id": "9a0n_sNVkATO",
        "outputId": "aa746ee4-b873-48f2-db24-ad53936d801f"
      },
      "outputs": [
        {
          "output_type": "stream",
          "name": "stdout",
          "text": [
            "+---+-------+-----+\n",
            "| id|   name|marks|\n",
            "+---+-------+-----+\n",
            "|  1|  Alice|   85|\n",
            "|  2|    Bob|   78|\n",
            "|  3|Charlie|   92|\n",
            "|  4|  David|   65|\n",
            "+---+-------+-----+\n",
            "\n",
            "+---+-------+\n",
            "| id| course|\n",
            "+---+-------+\n",
            "|  1|   Math|\n",
            "|  2|Science|\n",
            "|  3|English|\n",
            "|  5|History|\n",
            "+---+-------+\n",
            "\n"
          ]
        }
      ],
      "source": [
        "data1 = [(1, \"Alice\", 85), (2, \"Bob\", 78), (3, \"Charlie\", 92), (4, \"David\", 65)]\n",
        "columns1 = [\"id\", \"name\", \"marks\"]\n",
        "df1 = spark.createDataFrame(data1, columns1)\n",
        "\n",
        "# Right DataFrame (Courses)\n",
        "data2 = [(1, \"Math\"), (2, \"Science\"), (3, \"English\"), (5, \"History\")]\n",
        "columns2 = [\"id\", \"course\"]\n",
        "df2 = spark.createDataFrame(data2, columns2)\n",
        "\n",
        "# Show DataFrames\n",
        "df1.show()\n",
        "df2.show()"
      ]
    },
    {
      "cell_type": "code",
      "execution_count": 55,
      "metadata": {
        "vscode": {
          "languageId": "plaintext"
        },
        "colab": {
          "base_uri": "https://localhost:8080/"
        },
        "id": "XKIKwpS_kATP",
        "outputId": "3459a711-633c-42d9-d2e8-b5ab09af0f27"
      },
      "outputs": [
        {
          "output_type": "stream",
          "name": "stdout",
          "text": [
            "+---+-------+-----+-------+\n",
            "| id|   name|marks| course|\n",
            "+---+-------+-----+-------+\n",
            "|  1|  Alice|   85|   Math|\n",
            "|  2|    Bob|   78|Science|\n",
            "|  3|Charlie|   92|English|\n",
            "+---+-------+-----+-------+\n",
            "\n"
          ]
        }
      ],
      "source": [
        "df_inner = df1.join(df2, on=\"id\", how=\"inner\")\n",
        "df_inner.show()"
      ]
    },
    {
      "cell_type": "code",
      "execution_count": 56,
      "metadata": {
        "vscode": {
          "languageId": "plaintext"
        },
        "colab": {
          "base_uri": "https://localhost:8080/"
        },
        "id": "BIWvS9YDkATR",
        "outputId": "39b0e0e9-6246-48b1-ccbf-e454db5bcbb7"
      },
      "outputs": [
        {
          "output_type": "stream",
          "name": "stdout",
          "text": [
            "+---+-------+-----+-------+\n",
            "| id|   name|marks| course|\n",
            "+---+-------+-----+-------+\n",
            "|  1|  Alice|   85|   Math|\n",
            "|  2|    Bob|   78|Science|\n",
            "|  3|Charlie|   92|English|\n",
            "|  4|  David|   65|   NULL|\n",
            "+---+-------+-----+-------+\n",
            "\n"
          ]
        }
      ],
      "source": [
        "df_left = df1.join(df2, on=\"id\", how=\"left\")\n",
        "df_left.show()"
      ]
    },
    {
      "cell_type": "code",
      "execution_count": 57,
      "metadata": {
        "vscode": {
          "languageId": "plaintext"
        },
        "colab": {
          "base_uri": "https://localhost:8080/"
        },
        "id": "ErptfsTXkATY",
        "outputId": "74645edc-2c41-4c2d-d4a1-4be0c4f7aecc"
      },
      "outputs": [
        {
          "output_type": "stream",
          "name": "stdout",
          "text": [
            "+---+-------+-----+-------+\n",
            "| id|   name|marks| course|\n",
            "+---+-------+-----+-------+\n",
            "|  1|  Alice|   85|   Math|\n",
            "|  2|    Bob|   78|Science|\n",
            "|  5|   NULL| NULL|History|\n",
            "|  3|Charlie|   92|English|\n",
            "+---+-------+-----+-------+\n",
            "\n"
          ]
        }
      ],
      "source": [
        "df_right = df1.join(df2, on=\"id\", how=\"right\")\n",
        "df_right.show()"
      ]
    },
    {
      "cell_type": "code",
      "execution_count": 58,
      "metadata": {
        "vscode": {
          "languageId": "plaintext"
        },
        "colab": {
          "base_uri": "https://localhost:8080/"
        },
        "id": "_kDezVG7kATZ",
        "outputId": "019d2128-4585-46ab-a8ad-be0a5699985f"
      },
      "outputs": [
        {
          "output_type": "stream",
          "name": "stdout",
          "text": [
            "+---+-------+-----+-------+\n",
            "| id|   name|marks| course|\n",
            "+---+-------+-----+-------+\n",
            "|  1|  Alice|   85|   Math|\n",
            "|  2|    Bob|   78|Science|\n",
            "|  3|Charlie|   92|English|\n",
            "|  4|  David|   65|   NULL|\n",
            "|  5|   NULL| NULL|History|\n",
            "+---+-------+-----+-------+\n",
            "\n"
          ]
        }
      ],
      "source": [
        "df_full = df1.join(df2, on=\"id\", how=\"full\")\n",
        "df_full.show()"
      ]
    },
    {
      "cell_type": "code",
      "execution_count": 59,
      "metadata": {
        "vscode": {
          "languageId": "plaintext"
        },
        "colab": {
          "base_uri": "https://localhost:8080/"
        },
        "id": "VwcHqT1lkATb",
        "outputId": "175b837a-0b56-4d9e-ba15-e2bca024ef71"
      },
      "outputs": [
        {
          "output_type": "stream",
          "name": "stdout",
          "text": [
            "+---+-----+-----+\n",
            "| id| name|marks|\n",
            "+---+-----+-----+\n",
            "|  4|David|   65|\n",
            "+---+-----+-----+\n",
            "\n"
          ]
        }
      ],
      "source": [
        "df_anti = df1.join(df2, on=\"id\", how=\"left_anti\")\n",
        "df_anti.show()"
      ]
    },
    {
      "cell_type": "markdown",
      "source": [
        "### String"
      ],
      "metadata": {
        "id": "wQLiGna0wCGY"
      }
    },
    {
      "cell_type": "code",
      "execution_count": 60,
      "metadata": {
        "vscode": {
          "languageId": "plaintext"
        },
        "colab": {
          "base_uri": "https://localhost:8080/"
        },
        "id": "yHD0mRGYkATh",
        "outputId": "4a854462-76de-4b2f-c4fa-6af40ae8fc98"
      },
      "outputs": [
        {
          "output_type": "stream",
          "name": "stdout",
          "text": [
            "+---+---------+-------------+\n",
            "| id|     name|       skills|\n",
            "+---+---------+-------------+\n",
            "|  1|  Alice  |  PYSPARK,SQL|\n",
            "|  2|      BOB|  Java,Python|\n",
            "|  3|  Charlie|       ML,AI |\n",
            "|  4|     NULL|Spark, Hadoop|\n",
            "+---+---------+-------------+\n",
            "\n"
          ]
        }
      ],
      "source": [
        "data = [\n",
        "    (1, \"  Alice  \", \"PYSPARK,SQL\"),\n",
        "    (2, \"BOB\", \"Java,Python\"),\n",
        "    (3, \"Charlie\", \" ML,AI \"),\n",
        "    (4, None, \"Spark, Hadoop\")\n",
        "]\n",
        "schema = [\"id\", \"name\", \"skills\"]\n",
        "\n",
        "# Create DataFrame\n",
        "df = spark.createDataFrame(data, schema=schema)\n",
        "df.show()"
      ]
    },
    {
      "cell_type": "code",
      "execution_count": 61,
      "metadata": {
        "vscode": {
          "languageId": "plaintext"
        },
        "colab": {
          "base_uri": "https://localhost:8080/"
        },
        "id": "HCmtkSbckATi",
        "outputId": "d7b23d24-2d3a-44a1-9b3c-f10cbb261bee"
      },
      "outputs": [
        {
          "output_type": "stream",
          "name": "stdout",
          "text": [
            "+---+---------+-------------+----------+----------+\n",
            "| id|     name|       skills|name_upper|name_lower|\n",
            "+---+---------+-------------+----------+----------+\n",
            "|  1|  Alice  |  PYSPARK,SQL|   ALICE  |   alice  |\n",
            "|  2|      BOB|  Java,Python|       BOB|       bob|\n",
            "|  3|  Charlie|       ML,AI |   CHARLIE|   charlie|\n",
            "|  4|     NULL|Spark, Hadoop|      NULL|      NULL|\n",
            "+---+---------+-------------+----------+----------+\n",
            "\n"
          ]
        }
      ],
      "source": [
        "from pyspark.sql.functions import upper, lower\n",
        "df_transformed = df.withColumn(\"name_upper\", upper(col(\"name\")))\\\n",
        " .withColumn(\"name_lower\", lower(col(\"name\")))\n",
        "df_transformed.show()"
      ]
    },
    {
      "cell_type": "code",
      "execution_count": 62,
      "metadata": {
        "vscode": {
          "languageId": "plaintext"
        },
        "colab": {
          "base_uri": "https://localhost:8080/"
        },
        "id": "hbEQGLp9kATj",
        "outputId": "3b38cb30-a42b-4e89-e0d4-dce43f425829"
      },
      "outputs": [
        {
          "output_type": "stream",
          "name": "stdout",
          "text": [
            "+---+---------+-------------+---------+----------+----------+\n",
            "| id|     name|       skills|name_trim|name_ltrim|name_rtrim|\n",
            "+---+---------+-------------+---------+----------+----------+\n",
            "|  1|  Alice  |  PYSPARK,SQL|    Alice|   Alice  |     Alice|\n",
            "|  2|      BOB|  Java,Python|      BOB|       BOB|       BOB|\n",
            "|  3|  Charlie|       ML,AI |  Charlie|   Charlie|   Charlie|\n",
            "|  4|     NULL|Spark, Hadoop|     NULL|      NULL|      NULL|\n",
            "+---+---------+-------------+---------+----------+----------+\n",
            "\n"
          ]
        }
      ],
      "source": [
        "from pyspark.sql.functions import trim, ltrim, rtrim\n",
        "df_trimmed = df.withColumn(\"name_trim\", trim(col(\"name\")))\\\n",
        " .withColumn(\"name_ltrim\", ltrim(col(\"name\")))\\\n",
        " .withColumn(\"name_rtrim\", rtrim(col(\"name\")))\n",
        "df_trimmed.show()"
      ]
    },
    {
      "cell_type": "code",
      "execution_count": 63,
      "metadata": {
        "vscode": {
          "languageId": "plaintext"
        },
        "colab": {
          "base_uri": "https://localhost:8080/"
        },
        "id": "W1QKAWrvkATk",
        "outputId": "3cc67dcb-7ac8-439c-f813-cb4633a24164"
      },
      "outputs": [
        {
          "output_type": "stream",
          "name": "stdout",
          "text": [
            "+---+---------+-------------+-----------+\n",
            "| id|     name|       skills|name_length|\n",
            "+---+---------+-------------+-----------+\n",
            "|  1|  Alice  |  PYSPARK,SQL|          9|\n",
            "|  2|      BOB|  Java,Python|          3|\n",
            "|  3|  Charlie|       ML,AI |          7|\n",
            "|  4|     NULL|Spark, Hadoop|       NULL|\n",
            "+---+---------+-------------+-----------+\n",
            "\n"
          ]
        }
      ],
      "source": [
        " from pyspark.sql.functions import length\n",
        " df_length = df.withColumn(\"name_length\", length(col(\"name\")))\n",
        " df_length.show()"
      ]
    },
    {
      "cell_type": "code",
      "execution_count": 64,
      "metadata": {
        "vscode": {
          "languageId": "plaintext"
        },
        "colab": {
          "base_uri": "https://localhost:8080/"
        },
        "id": "LFvgLOAhkATo",
        "outputId": "e1e8cf98-462e-48d8-cc51-41ab190c7d6d"
      },
      "outputs": [
        {
          "output_type": "stream",
          "name": "stdout",
          "text": [
            "+---+---------+-------------+----------------+\n",
            "|id |name     |skills       |skills_array    |\n",
            "+---+---------+-------------+----------------+\n",
            "|1  |  Alice  |PYSPARK,SQL  |[PYSPARK, SQL]  |\n",
            "|2  |BOB      |Java,Python  |[Java, Python]  |\n",
            "|3  |Charlie  | ML,AI       |[ ML, AI ]      |\n",
            "|4  |NULL     |Spark, Hadoop|[Spark,  Hadoop]|\n",
            "+---+---------+-------------+----------------+\n",
            "\n"
          ]
        }
      ],
      "source": [
        "from pyspark.sql.functions import split\n",
        "df_split = df.withColumn(\"skills_array\", split(col(\"skills\"), \",\"))\n",
        "df_split.show(truncate=False)"
      ]
    },
    {
      "cell_type": "code",
      "execution_count": 65,
      "metadata": {
        "vscode": {
          "languageId": "plaintext"
        },
        "colab": {
          "base_uri": "https://localhost:8080/"
        },
        "id": "Pn3Vn9m6kATp",
        "outputId": "3444a160-5cc5-4b4f-e51e-af64ca675fd0"
      },
      "outputs": [
        {
          "output_type": "stream",
          "name": "stdout",
          "text": [
            "+---+---------+-------------+-------------+\n",
            "|id |name     |skills       |clean_skills |\n",
            "+---+---------+-------------+-------------+\n",
            "|1  |  Alice  |PYSPARK,SQL  |PYSPARK/SQL  |\n",
            "|2  |BOB      |Java,Python  |Java/Python  |\n",
            "|3  |Charlie  | ML,AI       | ML/AI       |\n",
            "|4  |NULL     |Spark, Hadoop|Spark/ Hadoop|\n",
            "+---+---------+-------------+-------------+\n",
            "\n"
          ]
        }
      ],
      "source": [
        "from pyspark.sql.functions import regexp_replace\n",
        "df_replace = df.withColumn(\"clean_skills\", regexp_replace(col(\"skills\"), \",\", \"/\"))\n",
        "df_replace.show(truncate=False)"
      ]
    },
    {
      "cell_type": "code",
      "execution_count": 65,
      "metadata": {
        "vscode": {
          "languageId": "plaintext"
        },
        "id": "Bxc4duIfkATq"
      },
      "outputs": [],
      "source": []
    },
    {
      "cell_type": "markdown",
      "source": [
        "### Date"
      ],
      "metadata": {
        "id": "dSYLwaAwwZFW"
      }
    },
    {
      "cell_type": "code",
      "execution_count": 66,
      "metadata": {
        "vscode": {
          "languageId": "plaintext"
        },
        "colab": {
          "base_uri": "https://localhost:8080/"
        },
        "id": "Uhqw3YTUkATr",
        "outputId": "a7195945-5f1d-440f-e9de-8fb98ed3e164"
      },
      "outputs": [
        {
          "output_type": "stream",
          "name": "stdout",
          "text": [
            "+---+----------+-------------------+\n",
            "| id|  date_str|      timestamp_str|\n",
            "+---+----------+-------------------+\n",
            "|  1|2024-03-10|2025-07-15 14:30:00|\n",
            "|  2|2023-05-20|2024-11-25 09:15:45|\n",
            "|  3|2022-12-01|2023-06-10 18:45:30|\n",
            "+---+----------+-------------------+\n",
            "\n"
          ]
        }
      ],
      "source": [
        "data = [\n",
        "    (1, \"2024-03-10\", \"2025-07-15 14:30:00\"),\n",
        "    (2, \"2023-05-20\", \"2024-11-25 09:15:45\"),\n",
        "    (3, \"2022-12-01\", \"2023-06-10 18:45:30\")\n",
        "]\n",
        "schema = [\"id\", \"date_str\", \"timestamp_str\"]\n",
        "\n",
        "# Create DataFrame\n",
        "df = spark.createDataFrame(data, schema=schema)\n",
        "df.show()"
      ]
    },
    {
      "cell_type": "code",
      "execution_count": 67,
      "metadata": {
        "vscode": {
          "languageId": "plaintext"
        },
        "colab": {
          "base_uri": "https://localhost:8080/"
        },
        "id": "MrN9JNSskAVZ",
        "outputId": "61973f17-30fc-47f4-b81c-794d70bdf7a8"
      },
      "outputs": [
        {
          "output_type": "stream",
          "name": "stdout",
          "text": [
            "+---+----------+-------------------+----------+-------------------+\n",
            "| id|  date_str|      timestamp_str|      date|          timestamp|\n",
            "+---+----------+-------------------+----------+-------------------+\n",
            "|  1|2024-03-10|2025-07-15 14:30:00|2024-03-10|2025-07-15 14:30:00|\n",
            "|  2|2023-05-20|2024-11-25 09:15:45|2023-05-20|2024-11-25 09:15:45|\n",
            "|  3|2022-12-01|2023-06-10 18:45:30|2022-12-01|2023-06-10 18:45:30|\n",
            "+---+----------+-------------------+----------+-------------------+\n",
            "\n"
          ]
        }
      ],
      "source": [
        "from pyspark.sql.functions import to_date, to_timestamp\n",
        "df_converted = df.withColumn(\"date\", to_date(col(\"date_str\"), \"yyyy-MM-dd\"))\\\n",
        " .withColumn(\"timestamp\", to_timestamp(col(\"timestamp_str\"), \"yyyy-MM-dd HH:mm:ss\"))\n",
        "df_converted.show()"
      ]
    },
    {
      "cell_type": "code",
      "execution_count": 68,
      "metadata": {
        "vscode": {
          "languageId": "plaintext"
        },
        "colab": {
          "base_uri": "https://localhost:8080/"
        },
        "id": "MD7OnHmUkAVe",
        "outputId": "4e7f9ff8-2e73-481e-89dc-a10ca76fda73"
      },
      "outputs": [
        {
          "output_type": "stream",
          "name": "stdout",
          "text": [
            "+---+----------+-------------------+----------+-------------------+----+-----+---+----+------+\n",
            "| id|  date_str|      timestamp_str|      date|          timestamp|year|month|day|hour|minute|\n",
            "+---+----------+-------------------+----------+-------------------+----+-----+---+----+------+\n",
            "|  1|2024-03-10|2025-07-15 14:30:00|2024-03-10|2025-07-15 14:30:00|2024|    3| 10|  14|    30|\n",
            "|  2|2023-05-20|2024-11-25 09:15:45|2023-05-20|2024-11-25 09:15:45|2023|    5| 20|   9|    15|\n",
            "|  3|2022-12-01|2023-06-10 18:45:30|2022-12-01|2023-06-10 18:45:30|2022|   12|  1|  18|    45|\n",
            "+---+----------+-------------------+----------+-------------------+----+-----+---+----+------+\n",
            "\n"
          ]
        }
      ],
      "source": [
        "from pyspark.sql.functions import year, month, dayofmonth, hour, minute, second\n",
        "df_extracted = df_converted.withColumn(\"year\", year(col(\"date\")))\\\n",
        " .withColumn(\"month\", month(col(\"date\")))\\\n",
        " .withColumn(\"day\", dayofmonth(col(\"date\")))\\\n",
        " .withColumn(\"hour\", hour(col(\"timestamp\")))\\\n",
        " .withColumn(\"minute\", minute(col(\"timestamp\")))\n",
        "df_extracted.show()"
      ]
    },
    {
      "cell_type": "code",
      "execution_count": 69,
      "metadata": {
        "vscode": {
          "languageId": "plaintext"
        },
        "colab": {
          "base_uri": "https://localhost:8080/"
        },
        "id": "xyTat-lOkAVg",
        "outputId": "6149fedc-79ae-427e-abb3-3405b3379469"
      },
      "outputs": [
        {
          "output_type": "stream",
          "name": "stdout",
          "text": [
            "+---+----------+-------------------+----------+-------------------+---------+------------+-------------+\n",
            "| id|  date_str|      timestamp_str|      date|          timestamp|date_diff|plus_10_days|minus_10_days|\n",
            "+---+----------+-------------------+----------+-------------------+---------+------------+-------------+\n",
            "|  1|2024-03-10|2025-07-15 14:30:00|2024-03-10|2025-07-15 14:30:00|      492|  2024-03-20|   2024-02-29|\n",
            "|  2|2023-05-20|2024-11-25 09:15:45|2023-05-20|2024-11-25 09:15:45|      555|  2023-05-30|   2023-05-10|\n",
            "|  3|2022-12-01|2023-06-10 18:45:30|2022-12-01|2023-06-10 18:45:30|      191|  2022-12-11|   2022-11-21|\n",
            "+---+----------+-------------------+----------+-------------------+---------+------------+-------------+\n",
            "\n"
          ]
        }
      ],
      "source": [
        "from pyspark.sql.functions import datediff, date_add, date_sub\n",
        "df_dates = df_converted.withColumn(\"date_diff\", datediff(col(\"timestamp\"), col(\"date\")))\\\n",
        " .withColumn(\"plus_10_days\", date_add(col(\"date\"), 10))\\\n",
        " .withColumn(\"minus_10_days\", date_sub(col(\"date\"), 10))\n",
        "df_dates.show()"
      ]
    },
    {
      "cell_type": "code",
      "execution_count": 69,
      "metadata": {
        "vscode": {
          "languageId": "plaintext"
        },
        "id": "fdzYcCEdkAVh"
      },
      "outputs": [],
      "source": []
    },
    {
      "cell_type": "markdown",
      "source": [
        "### Handel Null Value"
      ],
      "metadata": {
        "id": "13ViF2tSwb5X"
      }
    },
    {
      "cell_type": "code",
      "execution_count": 70,
      "metadata": {
        "vscode": {
          "languageId": "plaintext"
        },
        "colab": {
          "base_uri": "https://localhost:8080/"
        },
        "id": "WlgKGK1MkAVi",
        "outputId": "592289bb-5d8b-473c-a8c3-747ad444a6cb"
      },
      "outputs": [
        {
          "output_type": "stream",
          "name": "stdout",
          "text": [
            "+---+-------+----+------+\n",
            "| id|   name| age|salary|\n",
            "+---+-------+----+------+\n",
            "|  1|  Alice|  25|  NULL|\n",
            "|  2|   NULL|  30| 50000|\n",
            "|  3|Charlie|NULL| 60000|\n",
            "|  4|  David|  35|  NULL|\n",
            "+---+-------+----+------+\n",
            "\n"
          ]
        }
      ],
      "source": [
        "data = [\n",
        "    (1, \"Alice\", 25, None),\n",
        "    (2, None, 30, 50000),\n",
        "    (3, \"Charlie\", None, 60000),\n",
        "    (4, \"David\", 35, None)\n",
        "]\n",
        "schema = [\"id\", \"name\", \"age\", \"salary\"]\n",
        "\n",
        "df = spark.createDataFrame(data, schema=schema)\n",
        "df.show()"
      ]
    },
    {
      "cell_type": "code",
      "execution_count": 71,
      "metadata": {
        "vscode": {
          "languageId": "plaintext"
        },
        "colab": {
          "base_uri": "https://localhost:8080/"
        },
        "id": "cqaPbn2dkAVk",
        "outputId": "e3fc5e7f-2044-4f42-84f2-f43be611b388"
      },
      "outputs": [
        {
          "output_type": "stream",
          "name": "stdout",
          "text": [
            "+---+----+---+------+\n",
            "| id|name|age|salary|\n",
            "+---+----+---+------+\n",
            "+---+----+---+------+\n",
            "\n"
          ]
        }
      ],
      "source": [
        "df_drop = df.dropna()\n",
        "df_drop.show()"
      ]
    },
    {
      "cell_type": "code",
      "execution_count": 72,
      "metadata": {
        "vscode": {
          "languageId": "plaintext"
        },
        "colab": {
          "base_uri": "https://localhost:8080/"
        },
        "id": "tnI0Kg43kAVl",
        "outputId": "68ac14aa-b48c-4fb5-c620-562082492cff"
      },
      "outputs": [
        {
          "output_type": "stream",
          "name": "stdout",
          "text": [
            "+---+-------+---+------+\n",
            "| id|   name|age|salary|\n",
            "+---+-------+---+------+\n",
            "|  1|  Alice| 25| 40000|\n",
            "|  2|   NULL| 30| 50000|\n",
            "|  3|Charlie|  0| 60000|\n",
            "|  4|  David| 35| 40000|\n",
            "+---+-------+---+------+\n",
            "\n"
          ]
        }
      ],
      "source": [
        "df_filled = df.fillna({\"age\": 0, \"salary\": 40000})\n",
        "df_filled.show()"
      ]
    },
    {
      "cell_type": "code",
      "execution_count": 73,
      "metadata": {
        "vscode": {
          "languageId": "plaintext"
        },
        "colab": {
          "base_uri": "https://localhost:8080/"
        },
        "id": "B7_mcR7ekAVn",
        "outputId": "3f5bec9f-96e5-41e6-8c14-905a451bf9cc"
      },
      "outputs": [
        {
          "output_type": "stream",
          "name": "stdout",
          "text": [
            "+---+-----+---+------+\n",
            "| id| name|age|salary|\n",
            "+---+-----+---+------+\n",
            "|  1|Alice| 25|  NULL|\n",
            "|  4|David| 35|  NULL|\n",
            "+---+-----+---+------+\n",
            "\n"
          ]
        }
      ],
      "source": [
        " df_null_salary = df.filter(col(\"salary\").isNull())\n",
        " df_null_salary.show()"
      ]
    },
    {
      "cell_type": "code",
      "execution_count": 74,
      "metadata": {
        "vscode": {
          "languageId": "plaintext"
        },
        "colab": {
          "base_uri": "https://localhost:8080/"
        },
        "id": "ctU8apRjkAVr",
        "outputId": "994d18b3-ae4d-4307-ea59-60f4f9704119"
      },
      "outputs": [
        {
          "output_type": "stream",
          "name": "stdout",
          "text": [
            "+---+-------+----+------+\n",
            "| id|   name| age|salary|\n",
            "+---+-------+----+------+\n",
            "|  2|   NULL|  30| 50000|\n",
            "|  3|Charlie|NULL| 60000|\n",
            "+---+-------+----+------+\n",
            "\n"
          ]
        }
      ],
      "source": [
        " df_not_null_salary = df.filter(col(\"salary\").isNotNull())\n",
        " df_not_null_salary.show()"
      ]
    },
    {
      "cell_type": "code",
      "execution_count": 75,
      "metadata": {
        "vscode": {
          "languageId": "plaintext"
        },
        "id": "DSewPKJTkAVt"
      },
      "outputs": [],
      "source": [
        "# df_replace = df.na.replace(None, \"Unknown\", subset=[\"name\"])\n",
        "# df_replace.show()\n"
      ]
    },
    {
      "cell_type": "code",
      "execution_count": 76,
      "metadata": {
        "vscode": {
          "languageId": "plaintext"
        },
        "colab": {
          "base_uri": "https://localhost:8080/"
        },
        "id": "ijV1gTt9kAVt",
        "outputId": "da71ef9e-8a1a-4cf6-e598-f5dd1c7d71ca"
      },
      "outputs": [
        {
          "output_type": "stream",
          "name": "stdout",
          "text": [
            "+---+-------+----+------+\n",
            "| id|   name| age|salary|\n",
            "+---+-------+----+------+\n",
            "|  1|  Alice|  25| 40000|\n",
            "|  2|   NULL|  30| 50000|\n",
            "|  3|Charlie|NULL| 60000|\n",
            "|  4|  David|  35| 40000|\n",
            "+---+-------+----+------+\n",
            "\n"
          ]
        }
      ],
      "source": [
        "from pyspark.sql.functions import coalesce\n",
        "df_coalesce = df.withColumn(\"salary\", coalesce(col(\"salary\"), lit(40000)))\n",
        "df_coalesce.show()"
      ]
    },
    {
      "cell_type": "markdown",
      "source": [
        "### Window Function"
      ],
      "metadata": {
        "id": "pNeJDRm5wjmj"
      }
    },
    {
      "cell_type": "code",
      "execution_count": 77,
      "metadata": {
        "vscode": {
          "languageId": "plaintext"
        },
        "id": "O6QUkuZwkAVu"
      },
      "outputs": [],
      "source": [
        "from pyspark.sql.window import Window\n",
        "from pyspark.sql.functions import col, row_number, rank, dense_rank, lag, lead, sum, avg"
      ]
    },
    {
      "cell_type": "code",
      "execution_count": 78,
      "metadata": {
        "vscode": {
          "languageId": "plaintext"
        },
        "colab": {
          "base_uri": "https://localhost:8080/"
        },
        "id": "-amO2fo5kAVv",
        "outputId": "75cbe936-0d1f-4458-d41b-97a14bce5607"
      },
      "outputs": [
        {
          "output_type": "stream",
          "name": "stdout",
          "text": [
            "+---+-------+----------+------+\n",
            "| id|   name|department|salary|\n",
            "+---+-------+----------+------+\n",
            "|  1|  Alice|     Sales|  5000|\n",
            "|  2|    Bob|     Sales|  6000|\n",
            "|  3|Charlie|     Sales|  7000|\n",
            "|  4|  David|        HR|  4000|\n",
            "|  5|    Eve|        HR|  4500|\n",
            "|  6|  Frank|        HR|  4800|\n",
            "|  7|  Grace|        IT|  8000|\n",
            "|  8|   Hank|        IT|  9000|\n",
            "+---+-------+----------+------+\n",
            "\n"
          ]
        }
      ],
      "source": [
        "\n",
        "\n",
        "data = [\n",
        "    (1, \"Alice\", \"Sales\", 5000),\n",
        "    (2, \"Bob\", \"Sales\", 6000),\n",
        "    (3, \"Charlie\", \"Sales\", 7000),\n",
        "    (4, \"David\", \"HR\", 4000),\n",
        "    (5, \"Eve\", \"HR\", 4500),\n",
        "    (6, \"Frank\", \"HR\", 4800),\n",
        "    (7, \"Grace\", \"IT\", 8000),\n",
        "    (8, \"Hank\", \"IT\", 9000),\n",
        "]\n",
        "\n",
        "schema = [\"id\", \"name\", \"department\", \"salary\"]\n",
        "df = spark.createDataFrame(data, schema=schema)\n",
        "\n",
        "df.show()"
      ]
    },
    {
      "cell_type": "code",
      "execution_count": 79,
      "metadata": {
        "vscode": {
          "languageId": "plaintext"
        },
        "colab": {
          "base_uri": "https://localhost:8080/"
        },
        "id": "ydpDsegUkAVv",
        "outputId": "5c45fd39-3e7b-4bb8-d943-af21ce4fffb4"
      },
      "outputs": [
        {
          "output_type": "stream",
          "name": "stdout",
          "text": [
            "+---+-------+----------+------+----------+\n",
            "| id|   name|department|salary|row_number|\n",
            "+---+-------+----------+------+----------+\n",
            "|  6|  Frank|        HR|  4800|         1|\n",
            "|  5|    Eve|        HR|  4500|         2|\n",
            "|  4|  David|        HR|  4000|         3|\n",
            "|  8|   Hank|        IT|  9000|         1|\n",
            "|  7|  Grace|        IT|  8000|         2|\n",
            "|  3|Charlie|     Sales|  7000|         1|\n",
            "|  2|    Bob|     Sales|  6000|         2|\n",
            "|  1|  Alice|     Sales|  5000|         3|\n",
            "+---+-------+----------+------+----------+\n",
            "\n"
          ]
        }
      ],
      "source": [
        "window_spec = Window.partitionBy(\"department\").orderBy(col(\"salary\").desc())\n",
        "df_row_number = df.withColumn(\"row_number\", row_number().over(window_spec))\n",
        "df_row_number.show()"
      ]
    },
    {
      "cell_type": "code",
      "execution_count": 80,
      "metadata": {
        "vscode": {
          "languageId": "plaintext"
        },
        "colab": {
          "base_uri": "https://localhost:8080/"
        },
        "id": "rNXfJwQbkAVv",
        "outputId": "c690610b-a42c-485c-9a3c-9ada8c8cef82"
      },
      "outputs": [
        {
          "output_type": "stream",
          "name": "stdout",
          "text": [
            "+---+-------+----------+------+----+\n",
            "| id|   name|department|salary|rank|\n",
            "+---+-------+----------+------+----+\n",
            "|  6|  Frank|        HR|  4800|   1|\n",
            "|  5|    Eve|        HR|  4500|   2|\n",
            "|  4|  David|        HR|  4000|   3|\n",
            "|  8|   Hank|        IT|  9000|   1|\n",
            "|  7|  Grace|        IT|  8000|   2|\n",
            "|  3|Charlie|     Sales|  7000|   1|\n",
            "|  2|    Bob|     Sales|  6000|   2|\n",
            "|  1|  Alice|     Sales|  5000|   3|\n",
            "+---+-------+----------+------+----+\n",
            "\n"
          ]
        }
      ],
      "source": [
        " df_rank = df.withColumn(\"rank\", rank().over(window_spec))\n",
        " df_rank.show()"
      ]
    },
    {
      "cell_type": "code",
      "execution_count": 81,
      "metadata": {
        "vscode": {
          "languageId": "plaintext"
        },
        "colab": {
          "base_uri": "https://localhost:8080/"
        },
        "id": "voj0IbkekAVv",
        "outputId": "84720df6-bd34-4da2-a935-4ee7b15f831c"
      },
      "outputs": [
        {
          "output_type": "stream",
          "name": "stdout",
          "text": [
            "+---+-------+----------+------+----------+\n",
            "| id|   name|department|salary|dense_rank|\n",
            "+---+-------+----------+------+----------+\n",
            "|  6|  Frank|        HR|  4800|         1|\n",
            "|  5|    Eve|        HR|  4500|         2|\n",
            "|  4|  David|        HR|  4000|         3|\n",
            "|  8|   Hank|        IT|  9000|         1|\n",
            "|  7|  Grace|        IT|  8000|         2|\n",
            "|  3|Charlie|     Sales|  7000|         1|\n",
            "|  2|    Bob|     Sales|  6000|         2|\n",
            "|  1|  Alice|     Sales|  5000|         3|\n",
            "+---+-------+----------+------+----------+\n",
            "\n"
          ]
        }
      ],
      "source": [
        "df_dense_rank = df.withColumn(\"dense_rank\", dense_rank().over(window_spec))\n",
        "df_dense_rank.show()"
      ]
    },
    {
      "cell_type": "code",
      "execution_count": 82,
      "metadata": {
        "vscode": {
          "languageId": "plaintext"
        },
        "colab": {
          "base_uri": "https://localhost:8080/"
        },
        "id": "jdo3MNfPkAVw",
        "outputId": "69d1fbbc-f2d2-4f5e-ab8d-f8e00b6f222a"
      },
      "outputs": [
        {
          "output_type": "stream",
          "name": "stdout",
          "text": [
            "+---+-------+----------+------+------------+\n",
            "| id|   name|department|salary|total_salary|\n",
            "+---+-------+----------+------+------------+\n",
            "|  6|  Frank|        HR|  4800|        4800|\n",
            "|  5|    Eve|        HR|  4500|        9300|\n",
            "|  4|  David|        HR|  4000|       13300|\n",
            "|  8|   Hank|        IT|  9000|        9000|\n",
            "|  7|  Grace|        IT|  8000|       17000|\n",
            "|  3|Charlie|     Sales|  7000|        7000|\n",
            "|  2|    Bob|     Sales|  6000|       13000|\n",
            "|  1|  Alice|     Sales|  5000|       18000|\n",
            "+---+-------+----------+------+------------+\n",
            "\n"
          ]
        }
      ],
      "source": [
        "df_sum = df.withColumn(\"total_salary\", sum(\"salary\").over(window_spec))\n",
        "df_sum.show()"
      ]
    },
    {
      "cell_type": "code",
      "execution_count": 83,
      "metadata": {
        "vscode": {
          "languageId": "plaintext"
        },
        "colab": {
          "base_uri": "https://localhost:8080/"
        },
        "id": "6ZSH-p_FkAVw",
        "outputId": "28299fcc-54c2-401e-dfaf-0b3ff929ccba"
      },
      "outputs": [
        {
          "output_type": "stream",
          "name": "stdout",
          "text": [
            "+---+-------+----------+------+-----------+\n",
            "| id|   name|department|salary|prev_salary|\n",
            "+---+-------+----------+------+-----------+\n",
            "|  6|  Frank|        HR|  4800|       NULL|\n",
            "|  5|    Eve|        HR|  4500|       4800|\n",
            "|  4|  David|        HR|  4000|       4500|\n",
            "|  8|   Hank|        IT|  9000|       NULL|\n",
            "|  7|  Grace|        IT|  8000|       9000|\n",
            "|  3|Charlie|     Sales|  7000|       NULL|\n",
            "|  2|    Bob|     Sales|  6000|       7000|\n",
            "|  1|  Alice|     Sales|  5000|       6000|\n",
            "+---+-------+----------+------+-----------+\n",
            "\n"
          ]
        }
      ],
      "source": [
        "df_lag = df.withColumn(\"prev_salary\", lag(\"salary\", 1).over(window_spec))\n",
        "df_lag.show()"
      ]
    },
    {
      "cell_type": "code",
      "execution_count": 83,
      "metadata": {
        "vscode": {
          "languageId": "plaintext"
        },
        "id": "YhF9BRTCkAVw"
      },
      "outputs": [],
      "source": []
    },
    {
      "cell_type": "markdown",
      "source": [
        "### udf"
      ],
      "metadata": {
        "id": "PrGGuzmDw3jh"
      }
    },
    {
      "cell_type": "code",
      "execution_count": 84,
      "metadata": {
        "vscode": {
          "languageId": "plaintext"
        },
        "id": "14PWFj5kkAVx"
      },
      "outputs": [],
      "source": [
        "from pyspark.sql.functions import udf\n",
        "from pyspark.sql.types import StringType, IntegerType, FloatType"
      ]
    },
    {
      "cell_type": "code",
      "execution_count": 85,
      "metadata": {
        "vscode": {
          "languageId": "plaintext"
        },
        "colab": {
          "base_uri": "https://localhost:8080/"
        },
        "id": "1A6e8iockAVz",
        "outputId": "a7f5312f-7d3a-42d5-ab65-92ce3f2e929b"
      },
      "outputs": [
        {
          "output_type": "stream",
          "name": "stdout",
          "text": [
            "+---+-------+----------+------+----------+\n",
            "| id|   name|department|salary|name_upper|\n",
            "+---+-------+----------+------+----------+\n",
            "|  1|  Alice|     Sales|  5000|     ALICE|\n",
            "|  2|    Bob|     Sales|  6000|       BOB|\n",
            "|  3|Charlie|     Sales|  7000|   CHARLIE|\n",
            "|  4|  David|        HR|  4000|     DAVID|\n",
            "|  5|    Eve|        HR|  4500|       EVE|\n",
            "|  6|  Frank|        HR|  4800|     FRANK|\n",
            "|  7|  Grace|        IT|  8000|     GRACE|\n",
            "|  8|   Hank|        IT|  9000|      HANK|\n",
            "+---+-------+----------+------+----------+\n",
            "\n"
          ]
        }
      ],
      "source": [
        "def to_upper(name):\n",
        "    return name.upper()\n",
        "# Register UDF\n",
        "to_upper_udf = udf(to_upper, StringType())\n",
        "# Apply UDF\n",
        "df_upper = df.withColumn(\"name_upper\", to_upper_udf(df[\"name\"]))\n",
        "df_upper.show()"
      ]
    },
    {
      "cell_type": "markdown",
      "source": [
        "### Data Write"
      ],
      "metadata": {
        "id": "HVBIMzkww6GH"
      }
    },
    {
      "cell_type": "code",
      "execution_count": 89,
      "metadata": {
        "vscode": {
          "languageId": "plaintext"
        },
        "id": "CiHefxUIkAV1"
      },
      "outputs": [],
      "source": [
        "df.write.csv(\"output/csv_folder/roj.csv\", header=True, mode=\"overwrite\")"
      ]
    },
    {
      "cell_type": "code",
      "execution_count": 93,
      "metadata": {
        "vscode": {
          "languageId": "plaintext"
        },
        "id": "NoPQ_oELkAV3",
        "colab": {
          "base_uri": "https://localhost:8080/"
        },
        "outputId": "968139e3-8b85-4f98-b695-672559656e86"
      },
      "outputs": [
        {
          "output_type": "stream",
          "name": "stdout",
          "text": [
            "+---+-------+----------+------+\n",
            "| id|   name|department|salary|\n",
            "+---+-------+----------+------+\n",
            "|  1|  Alice|     Sales|  5000|\n",
            "|  2|    Bob|     Sales|  6000|\n",
            "|  3|Charlie|     Sales|  7000|\n",
            "|  4|  David|        HR|  4000|\n",
            "|  5|    Eve|        HR|  4500|\n",
            "+---+-------+----------+------+\n",
            "only showing top 5 rows\n",
            "\n",
            "root\n",
            " |-- id: integer (nullable = true)\n",
            " |-- name: string (nullable = true)\n",
            " |-- department: string (nullable = true)\n",
            " |-- salary: integer (nullable = true)\n",
            "\n"
          ]
        }
      ],
      "source": [
        "df_csv = spark.read.format(\"csv\").option(\"header\", \"true\").option(\"inferSchema\", \"true\").load(\"output/csv_folder/roj.csv\")\n",
        "\n",
        "df_csv.show(5)\n",
        "df_csv.printSchema()"
      ]
    }
  ],
  "metadata": {
    "language_info": {
      "name": "python"
    },
    "colab": {
      "provenance": [],
      "include_colab_link": true
    },
    "kernelspec": {
      "name": "python3",
      "display_name": "Python 3"
    }
  },
  "nbformat": 4,
  "nbformat_minor": 0
}