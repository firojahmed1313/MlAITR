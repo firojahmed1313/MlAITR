{
  "cells": [
    {
      "cell_type": "markdown",
      "metadata": {
        "id": "view-in-github",
        "colab_type": "text"
      },
      "source": [
        "<a href=\"https://colab.research.google.com/github/firojahmed1313/MlAITR/blob/main/pySpark/Transform.ipynb\" target=\"_parent\"><img src=\"https://colab.research.google.com/assets/colab-badge.svg\" alt=\"Open In Colab\"/></a>"
      ]
    },
    {
      "cell_type": "code",
      "execution_count": 8,
      "metadata": {
        "vscode": {
          "languageId": "plaintext"
        },
        "id": "FivMknyYkAQn"
      },
      "outputs": [],
      "source": [
        "from pyspark.sql import SparkSession"
      ]
    },
    {
      "cell_type": "markdown",
      "source": [
        "### Create a Spark Session"
      ],
      "metadata": {
        "id": "gLnutiwmsSSb"
      }
    },
    {
      "cell_type": "code",
      "execution_count": 9,
      "metadata": {
        "vscode": {
          "languageId": "plaintext"
        },
        "id": "WjsPeyYEkAQx"
      },
      "outputs": [],
      "source": [
        "spark = SparkSession.builder.appName(\"Example\").getOrCreate()"
      ]
    },
    {
      "cell_type": "code",
      "source": [
        "spark"
      ],
      "metadata": {
        "colab": {
          "base_uri": "https://localhost:8080/",
          "height": 0
        },
        "id": "rKeSnlsjqEog",
        "outputId": "9f2ffce7-2f1b-40ef-ee34-f247248a8e29"
      },
      "execution_count": 10,
      "outputs": [
        {
          "output_type": "execute_result",
          "data": {
            "text/plain": [
              "<pyspark.sql.session.SparkSession at 0x7c4e4c156050>"
            ],
            "text/html": [
              "\n",
              "            <div>\n",
              "                <p><b>SparkSession - in-memory</b></p>\n",
              "                \n",
              "        <div>\n",
              "            <p><b>SparkContext</b></p>\n",
              "\n",
              "            <p><a href=\"http://da8c5e9796c5:4040\">Spark UI</a></p>\n",
              "\n",
              "            <dl>\n",
              "              <dt>Version</dt>\n",
              "                <dd><code>v3.5.5</code></dd>\n",
              "              <dt>Master</dt>\n",
              "                <dd><code>local[*]</code></dd>\n",
              "              <dt>AppName</dt>\n",
              "                <dd><code>Example</code></dd>\n",
              "            </dl>\n",
              "        </div>\n",
              "        \n",
              "            </div>\n",
              "        "
            ]
          },
          "metadata": {},
          "execution_count": 10
        }
      ]
    },
    {
      "cell_type": "code",
      "source": [],
      "metadata": {
        "id": "CAx31rkmKPUM"
      },
      "execution_count": 10,
      "outputs": []
    },
    {
      "cell_type": "markdown",
      "source": [
        "### To PanDas\n"
      ],
      "metadata": {
        "id": "ukFHTphoKTF_"
      }
    },
    {
      "cell_type": "code",
      "source": [
        "data = [(\"James\",\"\",\"Smith\",\"36636\",\"M\",60000),\n",
        "        (\"Michael\",\"Rose\",\"\",\"40288\",\"M\",70000),\n",
        "        (\"Robert\",\"\",\"Williams\",\"42114\",\"\",400000),\n",
        "        (\"Maria\",\"Anne\",\"Jones\",\"39192\",\"F\",500000),\n",
        "        (\"Jen\",\"Mary\",\"Brown\",\"\",\"F\",0)]\n",
        "\n",
        "columns = [\"first_name\",\"middle_name\",\"last_name\",\"dob\",\"gender\",\"salary\"]\n",
        "pysparkDF = spark.createDataFrame(data = data, schema = columns)\n",
        "# pysparkDF.printSchema()\n",
        "# pysparkDF.show(truncate=False)\n",
        "\n",
        "pandasDF = pysparkDF.toPandas()\n",
        "print(pandasDF)"
      ],
      "metadata": {
        "colab": {
          "base_uri": "https://localhost:8080/"
        },
        "id": "GhU93yUfKYxi",
        "outputId": "21abff11-366c-44f8-baf5-798c563cd56e"
      },
      "execution_count": 11,
      "outputs": [
        {
          "output_type": "stream",
          "name": "stdout",
          "text": [
            "  first_name middle_name last_name    dob gender  salary\n",
            "0      James                 Smith  36636      M   60000\n",
            "1    Michael        Rose            40288      M   70000\n",
            "2     Robert              Williams  42114         400000\n",
            "3      Maria        Anne     Jones  39192      F  500000\n",
            "4        Jen        Mary     Brown             F       0\n"
          ]
        }
      ]
    },
    {
      "cell_type": "markdown",
      "source": [
        "### select"
      ],
      "metadata": {
        "id": "VIrwXIv1sWR2"
      }
    },
    {
      "cell_type": "code",
      "execution_count": 12,
      "metadata": {
        "vscode": {
          "languageId": "plaintext"
        },
        "colab": {
          "base_uri": "https://localhost:8080/"
        },
        "id": "Cs56fxGbkAQ0",
        "outputId": "3e2bdbae-926a-4a59-da21-0a0120838ac7"
      },
      "outputs": [
        {
          "output_type": "stream",
          "name": "stdout",
          "text": [
            "+---+-------+---+----------+------+\n",
            "| id|   name|age|department|salary|\n",
            "+---+-------+---+----------+------+\n",
            "|  1|  Alice| 30|        HR|  5000|\n",
            "|  2|    Bob| 25|        IT|  6000|\n",
            "|  3|Charlie| 35|   Finance|  7000|\n",
            "|  4|  David| 40|        HR|  8000|\n",
            "|  5|    Eve| 34|   Finance|  7000|\n",
            "+---+-------+---+----------+------+\n",
            "\n"
          ]
        }
      ],
      "source": [
        "data=[\n",
        "    (1, \"Alice\", 30, \"HR\", 5000),\n",
        " (2, \"Bob\", 25, \"IT\", 6000),\n",
        " (3, \"Charlie\", 35, \"Finance\", 7000),\n",
        " (4, \"David\", 40, \"HR\", 8000),\n",
        " (5, \"Eve\",34, \"Finance\", 7000)\n",
        " ]\n",
        " # Define Schema\n",
        "schema = \"id INT, name STRING, age INT, department STRING, salary INT\"\n",
        " # Create DataFrame\n",
        "df = spark.createDataFrame(data, schema=schema)\n",
        "df.show()"
      ]
    },
    {
      "cell_type": "code",
      "execution_count": 13,
      "metadata": {
        "vscode": {
          "languageId": "plaintext"
        },
        "colab": {
          "base_uri": "https://localhost:8080/"
        },
        "id": "mnMyeonzkAQ9",
        "outputId": "f1027732-522d-4a3d-9388-eb6eac741fad"
      },
      "outputs": [
        {
          "output_type": "stream",
          "name": "stdout",
          "text": [
            "+-------+---+\n",
            "|   name|age|\n",
            "+-------+---+\n",
            "|  Alice| 30|\n",
            "|    Bob| 25|\n",
            "|Charlie| 35|\n",
            "|  David| 40|\n",
            "|    Eve| 34|\n",
            "+-------+---+\n",
            "\n"
          ]
        }
      ],
      "source": [
        " df_selected = df.select(\"name\", \"age\")\n",
        " df_selected.show()"
      ]
    },
    {
      "cell_type": "code",
      "source": [
        "df.select(df.columns[2:4]).show(3)"
      ],
      "metadata": {
        "colab": {
          "base_uri": "https://localhost:8080/"
        },
        "id": "3-0sxZsko1Bz",
        "outputId": "e3acb9b7-b61b-4a7d-8a8c-871f8c17e3f3"
      },
      "execution_count": 14,
      "outputs": [
        {
          "output_type": "stream",
          "name": "stdout",
          "text": [
            "+---+----------+\n",
            "|age|department|\n",
            "+---+----------+\n",
            "| 30|        HR|\n",
            "| 25|        IT|\n",
            "| 35|   Finance|\n",
            "+---+----------+\n",
            "only showing top 3 rows\n",
            "\n"
          ]
        }
      ]
    },
    {
      "cell_type": "markdown",
      "source": [
        "### alias()"
      ],
      "metadata": {
        "id": "q1G_x3dXssf9"
      }
    },
    {
      "cell_type": "code",
      "execution_count": 15,
      "metadata": {
        "vscode": {
          "languageId": "plaintext"
        },
        "id": "YtMr7hrLkAQ-"
      },
      "outputs": [],
      "source": [
        "from pyspark.sql.functions import col"
      ]
    },
    {
      "cell_type": "code",
      "execution_count": 16,
      "metadata": {
        "vscode": {
          "languageId": "plaintext"
        },
        "colab": {
          "base_uri": "https://localhost:8080/"
        },
        "id": "e9pWrd4LkAQ_",
        "outputId": "b59a7387-e34c-4fb5-e014-d354640335a4"
      },
      "outputs": [
        {
          "output_type": "stream",
          "name": "stdout",
          "text": [
            "+-------------+--------------+\n",
            "|employee_name|monthly_salary|\n",
            "+-------------+--------------+\n",
            "|        Alice|          5000|\n",
            "|          Bob|          6000|\n",
            "|      Charlie|          7000|\n",
            "|        David|          8000|\n",
            "|          Eve|          7000|\n",
            "+-------------+--------------+\n",
            "\n"
          ]
        }
      ],
      "source": [
        "df_alias = df.select(col(\"name\").alias(\"employee_name\"), col(\"salary\").alias(\"monthly_salary\"))\n",
        "df_alias.show()"
      ]
    },
    {
      "cell_type": "code",
      "execution_count": 17,
      "metadata": {
        "vscode": {
          "languageId": "plaintext"
        },
        "colab": {
          "base_uri": "https://localhost:8080/"
        },
        "id": "cDG2_jH3kAQ_",
        "outputId": "7d62083e-f8ef-4aa6-c8f1-7c3add9bf363"
      },
      "outputs": [
        {
          "output_type": "stream",
          "name": "stdout",
          "text": [
            "+---+-------+---+----------+------+\n",
            "| id|   name|age|department|salary|\n",
            "+---+-------+---+----------+------+\n",
            "|  1|  Alice| 30|        HR|  5000|\n",
            "|  2|    Bob| 25|        IT|  6000|\n",
            "|  3|Charlie| 35|   Finance|  7000|\n",
            "|  4|  David| 40|        HR|  8000|\n",
            "|  5|    Eve| 34|   Finance|  7000|\n",
            "+---+-------+---+----------+------+\n",
            "\n"
          ]
        }
      ],
      "source": [
        "df_all = df.select(\"*\")  # Selects all columns\n",
        "df_all.show()"
      ]
    },
    {
      "cell_type": "markdown",
      "source": [
        "### filter()"
      ],
      "metadata": {
        "id": "1oFiUuftsePB"
      }
    },
    {
      "cell_type": "code",
      "execution_count": 18,
      "metadata": {
        "vscode": {
          "languageId": "plaintext"
        },
        "colab": {
          "base_uri": "https://localhost:8080/"
        },
        "id": "GaSP1-bVkARF",
        "outputId": "aef9902c-9af2-4f97-a73b-715fa406164a"
      },
      "outputs": [
        {
          "output_type": "stream",
          "name": "stdout",
          "text": [
            "+---+-------+---+----------+------+\n",
            "| id|   name|age|department|salary|\n",
            "+---+-------+---+----------+------+\n",
            "|  3|Charlie| 35|   Finance|  7000|\n",
            "|  4|  David| 40|        HR|  8000|\n",
            "|  5|    Eve| 34|   Finance|  7000|\n",
            "+---+-------+---+----------+------+\n",
            "\n"
          ]
        }
      ],
      "source": [
        "df_filtered = df.filter(col(\"salary\") > 6000)\n",
        "df_filtered.show()"
      ]
    },
    {
      "cell_type": "code",
      "execution_count": 19,
      "metadata": {
        "vscode": {
          "languageId": "plaintext"
        },
        "colab": {
          "base_uri": "https://localhost:8080/"
        },
        "id": "VAXALK8_kARG",
        "outputId": "9491c613-f84e-4a98-f96c-0511d7c4a843"
      },
      "outputs": [
        {
          "output_type": "stream",
          "name": "stdout",
          "text": [
            "+---+-------+---+----------+------+\n",
            "| id|   name|age|department|salary|\n",
            "+---+-------+---+----------+------+\n",
            "|  3|Charlie| 35|   Finance|  7000|\n",
            "|  4|  David| 40|        HR|  8000|\n",
            "|  5|    Eve| 34|   Finance|  7000|\n",
            "+---+-------+---+----------+------+\n",
            "\n"
          ]
        }
      ],
      "source": [
        "df_filtered = df.filter((col(\"age\") > 30) & (col(\"salary\") > 6000))\n",
        "df_filtered.show()"
      ]
    },
    {
      "cell_type": "code",
      "execution_count": 20,
      "metadata": {
        "vscode": {
          "languageId": "plaintext"
        },
        "colab": {
          "base_uri": "https://localhost:8080/"
        },
        "id": "fSx3EHHhkARH",
        "outputId": "11d56e1b-dd8b-4bcf-b2e4-7ee698f84377"
      },
      "outputs": [
        {
          "output_type": "stream",
          "name": "stdout",
          "text": [
            "+---+-----+---+----------+------+\n",
            "| id| name|age|department|salary|\n",
            "+---+-----+---+----------+------+\n",
            "|  2|  Bob| 25|        IT|  6000|\n",
            "|  4|David| 40|        HR|  8000|\n",
            "+---+-----+---+----------+------+\n",
            "\n"
          ]
        }
      ],
      "source": [
        "df_filtered = df.filter((col(\"age\") > 35) | (col(\"department\") == \"IT\"))\n",
        "df_filtered.show()"
      ]
    },
    {
      "cell_type": "code",
      "execution_count": 21,
      "metadata": {
        "vscode": {
          "languageId": "plaintext"
        },
        "colab": {
          "base_uri": "https://localhost:8080/"
        },
        "id": "jSng9ZRTkARH",
        "outputId": "b7b89596-97c1-4f45-80af-156a5ec1542f"
      },
      "outputs": [
        {
          "output_type": "stream",
          "name": "stdout",
          "text": [
            "+---+-------+---+----------+------+\n",
            "| id|   name|age|department|salary|\n",
            "+---+-------+---+----------+------+\n",
            "|  2|    Bob| 25|        IT|  6000|\n",
            "|  3|Charlie| 35|   Finance|  7000|\n",
            "|  5|    Eve| 34|   Finance|  7000|\n",
            "+---+-------+---+----------+------+\n",
            "\n"
          ]
        }
      ],
      "source": [
        "df_filtered = df.filter(~(col(\"department\") == \"HR\"))\n",
        "df_filtered.show()"
      ]
    },
    {
      "cell_type": "code",
      "execution_count": 22,
      "metadata": {
        "vscode": {
          "languageId": "plaintext"
        },
        "colab": {
          "base_uri": "https://localhost:8080/"
        },
        "id": "zL_GCSxYkARO",
        "outputId": "b27989ae-0013-49c0-8d49-34ea4f4b8784"
      },
      "outputs": [
        {
          "output_type": "stream",
          "name": "stdout",
          "text": [
            "+---+-------+---+----------+------+\n",
            "| id|   name|age|department|salary|\n",
            "+---+-------+---+----------+------+\n",
            "|  3|Charlie| 35|   Finance|  7000|\n",
            "|  5|    Eve| 34|   Finance|  7000|\n",
            "+---+-------+---+----------+------+\n",
            "\n"
          ]
        }
      ],
      "source": [
        "df_filtered = df.filter(col(\"department\").like(\"%Finance%\"))\n",
        "df_filtered.show()"
      ]
    },
    {
      "cell_type": "code",
      "execution_count": 23,
      "metadata": {
        "vscode": {
          "languageId": "plaintext"
        },
        "colab": {
          "base_uri": "https://localhost:8080/"
        },
        "id": "RNG9CQqhkARO",
        "outputId": "e9508812-9540-46cf-ea4d-8cb0b4484340"
      },
      "outputs": [
        {
          "output_type": "stream",
          "name": "stdout",
          "text": [
            "+---+-------+---+----------+------+\n",
            "| id|   name|age|department|salary|\n",
            "+---+-------+---+----------+------+\n",
            "|  1|  Alice| 30|        HR|  5000|\n",
            "|  3|Charlie| 35|   Finance|  7000|\n",
            "|  4|  David| 40|        HR|  8000|\n",
            "|  5|    Eve| 34|   Finance|  7000|\n",
            "+---+-------+---+----------+------+\n",
            "\n"
          ]
        }
      ],
      "source": [
        "df_filtered = df.filter(col(\"department\").isin(\"HR\", \"Finance\"))\n",
        "df_filtered.show()"
      ]
    },
    {
      "cell_type": "code",
      "execution_count": 24,
      "metadata": {
        "vscode": {
          "languageId": "plaintext"
        },
        "colab": {
          "base_uri": "https://localhost:8080/"
        },
        "id": "zjBcFe47kARP",
        "outputId": "e4ae4830-7bc7-4343-9138-2a56dc8d4a67"
      },
      "outputs": [
        {
          "output_type": "stream",
          "name": "stdout",
          "text": [
            "+---+-----+---+----------+------+\n",
            "| id| name|age|department|salary|\n",
            "+---+-----+---+----------+------+\n",
            "|  1|Alice| 30|        HR|  5000|\n",
            "+---+-----+---+----------+------+\n",
            "\n"
          ]
        }
      ],
      "source": [
        "df_filtered = df.filter(col(\"name\").startswith(\"A\"))\n",
        "df_filtered.show()"
      ]
    },
    {
      "cell_type": "code",
      "execution_count": 25,
      "metadata": {
        "vscode": {
          "languageId": "plaintext"
        },
        "colab": {
          "base_uri": "https://localhost:8080/"
        },
        "id": "qAVWpk1IkARQ",
        "outputId": "bcb0a5a1-ca34-4896-f850-77b3b844b102"
      },
      "outputs": [
        {
          "output_type": "stream",
          "name": "stdout",
          "text": [
            "+---+----+---+----------+------+\n",
            "| id|name|age|department|salary|\n",
            "+---+----+---+----------+------+\n",
            "+---+----+---+----------+------+\n",
            "\n"
          ]
        }
      ],
      "source": [
        "df_filtered = df.filter(col(\"name\").endswith(\"A\"))\n",
        "df_filtered.show()"
      ]
    },
    {
      "cell_type": "code",
      "execution_count": 26,
      "metadata": {
        "vscode": {
          "languageId": "plaintext"
        },
        "colab": {
          "base_uri": "https://localhost:8080/"
        },
        "id": "Q_MhZc0FkARW",
        "outputId": "f91a10ec-30ca-4281-a715-e5e29380a387"
      },
      "outputs": [
        {
          "output_type": "stream",
          "name": "stdout",
          "text": [
            "+---+-------+---+----------+------+\n",
            "| id|   name|age|department|salary|\n",
            "+---+-------+---+----------+------+\n",
            "|  1|  Alice| 30|        HR|  5000|\n",
            "|  2|    Bob| 25|        IT|  6000|\n",
            "|  3|Charlie| 35|   Finance|  7000|\n",
            "|  4|  David| 40|        HR|  8000|\n",
            "|  5|    Eve| 34|   Finance|  7000|\n",
            "+---+-------+---+----------+------+\n",
            "\n"
          ]
        }
      ],
      "source": [
        "df_filtered = df.filter(col(\"salary\").isNotNull())\n",
        "df_filtered.show()"
      ]
    },
    {
      "cell_type": "markdown",
      "source": [
        "### Type Casting"
      ],
      "metadata": {
        "id": "We5o-7sXszKK"
      }
    },
    {
      "cell_type": "code",
      "execution_count": 27,
      "metadata": {
        "vscode": {
          "languageId": "plaintext"
        },
        "colab": {
          "base_uri": "https://localhost:8080/"
        },
        "id": "fjxaWO80kARW",
        "outputId": "14c56c16-b999-4a63-d38c-cc4077459912"
      },
      "outputs": [
        {
          "output_type": "stream",
          "name": "stdout",
          "text": [
            "+---+---+------+\n",
            "| id|age|salary|\n",
            "+---+---+------+\n",
            "|  1| 30|5000.0|\n",
            "|  2| 25|6000.0|\n",
            "|  3| 35|7000.0|\n",
            "|  4| 40|8000.0|\n",
            "|  5| 34|7000.0|\n",
            "+---+---+------+\n",
            "\n"
          ]
        }
      ],
      "source": [
        "df_casted = df.select(\n",
        " col(\"id\").cast(\"int\"),\n",
        " col(\"age\").cast(\"int\"),\n",
        " col(\"salary\").cast(\"double\")\n",
        " )\n",
        "df_casted.show()"
      ]
    },
    {
      "cell_type": "code",
      "execution_count": 28,
      "metadata": {
        "vscode": {
          "languageId": "plaintext"
        },
        "colab": {
          "base_uri": "https://localhost:8080/"
        },
        "id": "cuWkQ5ykkARW",
        "outputId": "cbca1cbe-2284-4fca-c5f4-0052af3b4191"
      },
      "outputs": [
        {
          "output_type": "stream",
          "name": "stdout",
          "text": [
            "+---+-------+---+----------+-------+\n",
            "| id|   name|age|department| salary|\n",
            "+---+-------+---+----------+-------+\n",
            "|  1|  Alice| 30|        HR|5000.00|\n",
            "|  2|    Bob| 25|        IT|6000.00|\n",
            "|  3|Charlie| 35|   Finance|7000.00|\n",
            "|  4|  David| 40|        HR|8000.00|\n",
            "|  5|    Eve| 34|   Finance|7000.00|\n",
            "+---+-------+---+----------+-------+\n",
            "\n"
          ]
        }
      ],
      "source": [
        "from pyspark.sql.types import DecimalType\n",
        "df_casted = df.withColumn(\"age\", col(\"age\").cast(\"int\")) \\\n",
        " .withColumn(\"salary\", col(\"salary\").cast(DecimalType(10, 2)))\n",
        "df_casted.show()"
      ]
    },
    {
      "cell_type": "markdown",
      "source": [
        "### WithColumn() – Add, Modify, or Drop Columns"
      ],
      "metadata": {
        "id": "hL4M1RX-s4d3"
      }
    },
    {
      "cell_type": "code",
      "execution_count": 29,
      "metadata": {
        "vscode": {
          "languageId": "plaintext"
        },
        "colab": {
          "base_uri": "https://localhost:8080/"
        },
        "id": "PdOeBI5pkARc",
        "outputId": "36ee9875-c111-4332-f25d-9fe89feab6e9"
      },
      "outputs": [
        {
          "output_type": "stream",
          "name": "stdout",
          "text": [
            "+---+-------+---+----------+------+\n",
            "| id|   name|age|department|salary|\n",
            "+---+-------+---+----------+------+\n",
            "|  1|  Alice| 30|        HR|  5000|\n",
            "|  2|    Bob| 25|        IT|  5000|\n",
            "|  3|Charlie| 35|   Finance|  5000|\n",
            "|  4|  David| 40|        HR|  5000|\n",
            "|  5|    Eve| 34|   Finance|  5000|\n",
            "+---+-------+---+----------+------+\n",
            "\n"
          ]
        }
      ],
      "source": [
        "# Add a new column 'salary' with a constant value\n",
        "from pyspark.sql.functions import lit\n",
        "df = df.withColumn(\"salary\", lit(5000))\n",
        "df.show()"
      ]
    },
    {
      "cell_type": "code",
      "execution_count": 30,
      "metadata": {
        "vscode": {
          "languageId": "plaintext"
        },
        "colab": {
          "base_uri": "https://localhost:8080/"
        },
        "id": "eSgkV30PkARd",
        "outputId": "bfda787e-6eb4-4739-d1dc-f6ca9352faed"
      },
      "outputs": [
        {
          "output_type": "stream",
          "name": "stdout",
          "text": [
            "+---+-------+---+----------+------+\n",
            "| id|   name|age|department|salary|\n",
            "+---+-------+---+----------+------+\n",
            "|  1|  Alice| 35|        HR|  5000|\n",
            "|  2|    Bob| 30|        IT|  5000|\n",
            "|  3|Charlie| 40|   Finance|  5000|\n",
            "|  4|  David| 45|        HR|  5000|\n",
            "|  5|    Eve| 39|   Finance|  5000|\n",
            "+---+-------+---+----------+------+\n",
            "\n"
          ]
        }
      ],
      "source": [
        " # Increase age by 5 years\n",
        "df = df.withColumn(\"age\", col(\"age\") + 5)\n",
        "df.show()"
      ]
    },
    {
      "cell_type": "code",
      "execution_count": 31,
      "metadata": {
        "vscode": {
          "languageId": "plaintext"
        },
        "colab": {
          "base_uri": "https://localhost:8080/"
        },
        "id": "tpclReWvkARd",
        "outputId": "e0c664e7-f938-41f4-d062-de0096e45e22"
      },
      "outputs": [
        {
          "output_type": "stream",
          "name": "stdout",
          "text": [
            "+---+-------+---+----------+------+------+\n",
            "| id|   name|age|department|salary|status|\n",
            "+---+-------+---+----------+------+------+\n",
            "|  1|  Alice| 35|        HR|  5000|   Bad|\n",
            "|  2|    Bob| 30|        IT|  5000|   Bad|\n",
            "|  3|Charlie| 40|   Finance|  5000|   Bad|\n",
            "|  4|  David| 45|        HR|  5000|   Bad|\n",
            "|  5|    Eve| 39|   Finance|  5000|   Bad|\n",
            "+---+-------+---+----------+------+------+\n",
            "\n"
          ]
        }
      ],
      "source": [
        " from pyspark.sql.functions import when\n",
        " df_status = df.withColumn(\"status\", when(col(\"salary\") >= 6500, \"Good\").otherwise(\"Bad\"))\n",
        " df_status.show()"
      ]
    },
    {
      "cell_type": "markdown",
      "source": [
        "### Drop"
      ],
      "metadata": {
        "id": "62fgRpwvtEn3"
      }
    },
    {
      "cell_type": "code",
      "execution_count": 32,
      "metadata": {
        "vscode": {
          "languageId": "plaintext"
        },
        "colab": {
          "base_uri": "https://localhost:8080/"
        },
        "id": "By8Y-t-VkARe",
        "outputId": "6b2833a1-9a65-4892-b968-c1f53e5ade6e"
      },
      "outputs": [
        {
          "output_type": "stream",
          "name": "stdout",
          "text": [
            "+---+----------+------+\n",
            "| id|department|salary|\n",
            "+---+----------+------+\n",
            "|  1|        HR|  5000|\n",
            "|  2|        IT|  5000|\n",
            "|  3|   Finance|  5000|\n",
            "|  4|        HR|  5000|\n",
            "|  5|   Finance|  5000|\n",
            "+---+----------+------+\n",
            "\n"
          ]
        }
      ],
      "source": [
        "f = df.drop(\"age\", \"name\")\n",
        "f.show()"
      ]
    },
    {
      "cell_type": "code",
      "execution_count": 33,
      "metadata": {
        "vscode": {
          "languageId": "plaintext"
        },
        "colab": {
          "base_uri": "https://localhost:8080/"
        },
        "id": "_98MoRrXkARk",
        "outputId": "bb93e541-cd71-4dc7-e7a2-d6de599a8a7f"
      },
      "outputs": [
        {
          "output_type": "stream",
          "name": "stdout",
          "text": [
            "+---+----------+------+\n",
            "| id|department|salary|\n",
            "+---+----------+------+\n",
            "|  1|        HR|  5000|\n",
            "|  2|        IT|  5000|\n",
            "|  3|   Finance|  5000|\n",
            "|  4|        HR|  5000|\n",
            "|  5|   Finance|  5000|\n",
            "+---+----------+------+\n",
            "\n"
          ]
        }
      ],
      "source": [
        "columns_to_drop = [\"age\", \"name\"]\n",
        "f = df.drop(*columns_to_drop)\n",
        "f.show()"
      ]
    },
    {
      "cell_type": "code",
      "execution_count": 34,
      "metadata": {
        "vscode": {
          "languageId": "plaintext"
        },
        "colab": {
          "base_uri": "https://localhost:8080/"
        },
        "id": "TZxbx1rHkARl",
        "outputId": "7fed81ac-a64a-4864-ed57-f77373788ade"
      },
      "outputs": [
        {
          "output_type": "stream",
          "name": "stdout",
          "text": [
            "+---+-------+---+----------+------+\n",
            "| id|   name|age|department|salary|\n",
            "+---+-------+---+----------+------+\n",
            "|  1|  Alice| 35|        HR|  5000|\n",
            "|  2|    Bob| 30|        IT|  5000|\n",
            "|  3|Charlie| 40|   Finance|  5000|\n",
            "|  4|  David| 45|        HR|  5000|\n",
            "|  5|    Eve| 39|   Finance|  5000|\n",
            "+---+-------+---+----------+------+\n",
            "\n"
          ]
        }
      ],
      "source": [
        "df_cleaned = df.dropna()\n",
        "df_cleaned.show()"
      ]
    },
    {
      "cell_type": "code",
      "execution_count": 35,
      "metadata": {
        "vscode": {
          "languageId": "plaintext"
        },
        "colab": {
          "base_uri": "https://localhost:8080/"
        },
        "id": "zLpjj0hRkARl",
        "outputId": "875d0b29-f22e-4c9c-f601-013c1a5e3613"
      },
      "outputs": [
        {
          "output_type": "stream",
          "name": "stdout",
          "text": [
            "+---+-------+---+----------+------+\n",
            "| id|   name|age|department|salary|\n",
            "+---+-------+---+----------+------+\n",
            "|  1|  Alice| 35|        HR|  5000|\n",
            "|  2|    Bob| 30|        IT|  5000|\n",
            "|  3|Charlie| 40|   Finance|  5000|\n",
            "|  4|  David| 45|        HR|  5000|\n",
            "|  5|    Eve| 39|   Finance|  5000|\n",
            "+---+-------+---+----------+------+\n",
            "\n"
          ]
        }
      ],
      "source": [
        "df_cleaned = df.dropna(subset=[\"age\"])\n",
        "df_cleaned.show()"
      ]
    },
    {
      "cell_type": "markdown",
      "source": [
        "### dropDuplicates"
      ],
      "metadata": {
        "id": "BgtMaL_ZtJAF"
      }
    },
    {
      "cell_type": "markdown",
      "source": [],
      "metadata": {
        "id": "bXqgUAbktI3a"
      }
    },
    {
      "cell_type": "code",
      "execution_count": 36,
      "metadata": {
        "vscode": {
          "languageId": "plaintext"
        },
        "colab": {
          "base_uri": "https://localhost:8080/"
        },
        "id": "xDKP1BJ5kARl",
        "outputId": "2dd063f6-d4b5-43fd-f8fb-adf4a56bc741"
      },
      "outputs": [
        {
          "output_type": "stream",
          "name": "stdout",
          "text": [
            "+---+-------+---+----------+------+\n",
            "| id|   name|age|department|salary|\n",
            "+---+-------+---+----------+------+\n",
            "|  1|  Alice| 35|        HR|  5000|\n",
            "|  2|    Bob| 30|        IT|  5000|\n",
            "|  3|Charlie| 40|   Finance|  5000|\n",
            "|  5|    Eve| 39|   Finance|  5000|\n",
            "|  4|  David| 45|        HR|  5000|\n",
            "+---+-------+---+----------+------+\n",
            "\n"
          ]
        }
      ],
      "source": [
        "df_unique = df.dropDuplicates()\n",
        "df_unique.show()"
      ]
    },
    {
      "cell_type": "code",
      "execution_count": 37,
      "metadata": {
        "vscode": {
          "languageId": "plaintext"
        },
        "colab": {
          "base_uri": "https://localhost:8080/"
        },
        "id": "a26k-At2kARr",
        "outputId": "e6169ff1-be01-40e4-9b5b-5fcfedef51d2"
      },
      "outputs": [
        {
          "output_type": "stream",
          "name": "stdout",
          "text": [
            "+---+-------+---+----------+------+\n",
            "| id|   name|age|department|salary|\n",
            "+---+-------+---+----------+------+\n",
            "|  1|  Alice| 35|        HR|  5000|\n",
            "|  2|    Bob| 30|        IT|  5000|\n",
            "|  3|Charlie| 40|   Finance|  5000|\n",
            "|  4|  David| 45|        HR|  5000|\n",
            "|  5|    Eve| 39|   Finance|  5000|\n",
            "+---+-------+---+----------+------+\n",
            "\n"
          ]
        }
      ],
      "source": [
        "df_unique = df.dropDuplicates([\"name\", \"age\"])\n",
        "df_unique.show()"
      ]
    },
    {
      "cell_type": "markdown",
      "source": [
        "### orderBy"
      ],
      "metadata": {
        "id": "fNRRAqCst-Sc"
      }
    },
    {
      "cell_type": "code",
      "execution_count": 38,
      "metadata": {
        "vscode": {
          "languageId": "plaintext"
        },
        "colab": {
          "base_uri": "https://localhost:8080/"
        },
        "id": "L8WaisFukARt",
        "outputId": "c24b182b-4316-4719-8679-f33e26fa618c"
      },
      "outputs": [
        {
          "output_type": "stream",
          "name": "stdout",
          "text": [
            "+---+-------+---+----------+------+\n",
            "| id|   name|age|department|salary|\n",
            "+---+-------+---+----------+------+\n",
            "|  2|    Bob| 30|        IT|  5000|\n",
            "|  1|  Alice| 35|        HR|  5000|\n",
            "|  5|    Eve| 39|   Finance|  5000|\n",
            "|  3|Charlie| 40|   Finance|  5000|\n",
            "|  4|  David| 45|        HR|  5000|\n",
            "+---+-------+---+----------+------+\n",
            "\n"
          ]
        }
      ],
      "source": [
        "df_sorted = df.orderBy(\"age\")\n",
        "df_sorted.show()"
      ]
    },
    {
      "cell_type": "code",
      "execution_count": 39,
      "metadata": {
        "vscode": {
          "languageId": "plaintext"
        },
        "colab": {
          "base_uri": "https://localhost:8080/"
        },
        "id": "EVqI645OkARu",
        "outputId": "ea6728dd-1a56-49d0-a9dc-7b5d08ad0b22"
      },
      "outputs": [
        {
          "output_type": "stream",
          "name": "stdout",
          "text": [
            "+---+-------+---+----------+------+\n",
            "| id|   name|age|department|salary|\n",
            "+---+-------+---+----------+------+\n",
            "|  4|  David| 45|        HR|  5000|\n",
            "|  3|Charlie| 40|   Finance|  5000|\n",
            "|  5|    Eve| 39|   Finance|  5000|\n",
            "|  1|  Alice| 35|        HR|  5000|\n",
            "|  2|    Bob| 30|        IT|  5000|\n",
            "+---+-------+---+----------+------+\n",
            "\n"
          ]
        }
      ],
      "source": [
        "df_sorted = df.orderBy(col(\"age\").desc())\n",
        "df_sorted.show()"
      ]
    },
    {
      "cell_type": "code",
      "execution_count": 40,
      "metadata": {
        "vscode": {
          "languageId": "plaintext"
        },
        "colab": {
          "base_uri": "https://localhost:8080/"
        },
        "id": "O9rHFmdFkARv",
        "outputId": "71588763-942e-4a1f-bc77-1acaaec064e2"
      },
      "outputs": [
        {
          "output_type": "stream",
          "name": "stdout",
          "text": [
            "+---+-------+---+----------+------+\n",
            "| id|   name|age|department|salary|\n",
            "+---+-------+---+----------+------+\n",
            "|  2|    Bob| 30|        IT|  5000|\n",
            "|  1|  Alice| 35|        HR|  5000|\n",
            "|  5|    Eve| 39|   Finance|  5000|\n",
            "|  3|Charlie| 40|   Finance|  5000|\n",
            "|  4|  David| 45|        HR|  5000|\n",
            "+---+-------+---+----------+------+\n",
            "\n"
          ]
        }
      ],
      "source": [
        "df_sorted = df.orderBy(col(\"age\").asc(), col(\"name\").desc())\n",
        "df_sorted.show()"
      ]
    },
    {
      "cell_type": "code",
      "execution_count": 41,
      "metadata": {
        "vscode": {
          "languageId": "plaintext"
        },
        "colab": {
          "base_uri": "https://localhost:8080/"
        },
        "id": "pCy9fnGykAR1",
        "outputId": "ca14880b-2b6b-4064-b74e-bc14501aec88"
      },
      "outputs": [
        {
          "output_type": "stream",
          "name": "stdout",
          "text": [
            "+---+-------+---+----------+------+\n",
            "| id|   name|age|department|salary|\n",
            "+---+-------+---+----------+------+\n",
            "|  2|    Bob| 30|        IT|  5000|\n",
            "|  1|  Alice| 35|        HR|  5000|\n",
            "|  5|    Eve| 39|   Finance|  5000|\n",
            "|  3|Charlie| 40|   Finance|  5000|\n",
            "|  4|  David| 45|        HR|  5000|\n",
            "+---+-------+---+----------+------+\n",
            "\n"
          ]
        }
      ],
      "source": [
        "df_sorted = df.sort(col(\"age\").asc(), col(\"name\").desc())\n",
        "df_sorted.show()"
      ]
    },
    {
      "cell_type": "markdown",
      "source": [
        "### limit"
      ],
      "metadata": {
        "id": "LSkUGvh5uhl6"
      }
    },
    {
      "cell_type": "code",
      "execution_count": 42,
      "metadata": {
        "vscode": {
          "languageId": "plaintext"
        },
        "colab": {
          "base_uri": "https://localhost:8080/"
        },
        "id": "7NKKN8hwkAR2",
        "outputId": "54d6915f-23e5-47f5-fc06-b867ec6ab561"
      },
      "outputs": [
        {
          "output_type": "stream",
          "name": "stdout",
          "text": [
            "+---+-----+---+----------+------+\n",
            "| id| name|age|department|salary|\n",
            "+---+-----+---+----------+------+\n",
            "|  1|Alice| 35|        HR|  5000|\n",
            "|  2|  Bob| 30|        IT|  5000|\n",
            "+---+-----+---+----------+------+\n",
            "\n"
          ]
        }
      ],
      "source": [
        "df_limited = df.limit(2)\n",
        "df_limited.show()"
      ]
    },
    {
      "cell_type": "code",
      "execution_count": 43,
      "metadata": {
        "vscode": {
          "languageId": "plaintext"
        },
        "colab": {
          "base_uri": "https://localhost:8080/"
        },
        "id": "0UUvX7xVkAR3",
        "outputId": "f5c53bf9-3dc0-4450-93c4-e48261b2248a"
      },
      "outputs": [
        {
          "output_type": "stream",
          "name": "stdout",
          "text": [
            "+---+-------+---+----------+------+\n",
            "| id|   name|age|department|salary|\n",
            "+---+-------+---+----------+------+\n",
            "|  4|  David| 45|        HR|  5000|\n",
            "|  3|Charlie| 40|   Finance|  5000|\n",
            "+---+-------+---+----------+------+\n",
            "\n"
          ]
        }
      ],
      "source": [
        "df_top = df.orderBy(col(\"age\").desc()).limit(2)\n",
        "df_top.show()"
      ]
    },
    {
      "cell_type": "markdown",
      "source": [
        "### union"
      ],
      "metadata": {
        "id": "Mwc86b0NukgK"
      }
    },
    {
      "cell_type": "code",
      "execution_count": 44,
      "metadata": {
        "vscode": {
          "languageId": "plaintext"
        },
        "colab": {
          "base_uri": "https://localhost:8080/"
        },
        "id": "jq01Nv9-kAR8",
        "outputId": "6345de84-d0fe-425f-daa7-81a6d7e0c40a"
      },
      "outputs": [
        {
          "output_type": "stream",
          "name": "stdout",
          "text": [
            "+---+-------+---+\n",
            "| id|   name|age|\n",
            "+---+-------+---+\n",
            "|  1|  Alice| 30|\n",
            "|  2|    Bob| 25|\n",
            "|  3|Charlie| 35|\n",
            "|  4|  David| 40|\n",
            "+---+-------+---+\n",
            "\n"
          ]
        }
      ],
      "source": [
        "data1 = [(1, \"Alice\", 30), (2, \"Bob\", 25)]\n",
        "data2 = [(3, \"Charlie\", 35), (4, \"David\", 40)]\n",
        "schema = [\"id\", \"name\", \"age\"]\n",
        " # Create DataFrames\n",
        "df1 = spark.createDataFrame(data1, schema=schema)\n",
        "df2 = spark.createDataFrame(data2, schema=schema)\n",
        " # Union\n",
        "df_union = df1.union(df2)\n",
        "df_union.show()"
      ]
    },
    {
      "cell_type": "code",
      "execution_count": 45,
      "metadata": {
        "vscode": {
          "languageId": "plaintext"
        },
        "colab": {
          "base_uri": "https://localhost:8080/"
        },
        "id": "BAHCgo08kAR9",
        "outputId": "8f3f2e13-b843-4e06-d39c-23b464f34c0d"
      },
      "outputs": [
        {
          "output_type": "stream",
          "name": "stdout",
          "text": [
            "+---+-----+---+\n",
            "| id| name|age|\n",
            "+---+-----+---+\n",
            "|  1|Alice| 30|\n",
            "|  2|  Bob| 25|\n",
            "|  5|  Eve| 50|\n",
            "|  6|Frank| 45|\n",
            "+---+-----+---+\n",
            "\n"
          ]
        }
      ],
      "source": [
        "data3 = [(5, 50, \"Eve\"), (6, 45, \"Frank\")]\n",
        "schema_different = [\"id\", \"age\", \"name\"]  # Age and Name are swapped\n",
        " # Create DataFrame\n",
        "df3 = spark.createDataFrame(data3, schema=schema_different)\n",
        " # Union by Name\n",
        "df_union_by_name = df1.unionByName(df3,allowMissingColumns=True)\n",
        "df_union_by_name.show()"
      ]
    },
    {
      "cell_type": "code",
      "execution_count": 46,
      "metadata": {
        "vscode": {
          "languageId": "plaintext"
        },
        "id": "6wkTrPzLkAR_"
      },
      "outputs": [],
      "source": [
        "from pyspark.sql.functions import count"
      ]
    },
    {
      "cell_type": "markdown",
      "source": [
        "### Agg"
      ],
      "metadata": {
        "id": "ZSqjB-ZIvOr_"
      }
    },
    {
      "cell_type": "code",
      "execution_count": 47,
      "metadata": {
        "vscode": {
          "languageId": "plaintext"
        },
        "colab": {
          "base_uri": "https://localhost:8080/"
        },
        "id": "tTiV9opvkAR_",
        "outputId": "fcc4bd3b-7676-4b3a-ee73-fad7be787291"
      },
      "outputs": [
        {
          "output_type": "stream",
          "name": "stdout",
          "text": [
            "+----------+--------------+\n",
            "|department|employee_count|\n",
            "+----------+--------------+\n",
            "|        HR|             2|\n",
            "|        IT|             1|\n",
            "|   Finance|             2|\n",
            "+----------+--------------+\n",
            "\n"
          ]
        }
      ],
      "source": [
        "df_grouped = df.groupBy(\"department\").agg(count(\"*\").alias(\"employee_count\"))\n",
        "df_grouped.show()"
      ]
    },
    {
      "cell_type": "code",
      "execution_count": 48,
      "metadata": {
        "vscode": {
          "languageId": "plaintext"
        },
        "colab": {
          "base_uri": "https://localhost:8080/"
        },
        "id": "8YfeCRuvkASF",
        "outputId": "60320db5-a6af-455a-ab39-191108efcbba"
      },
      "outputs": [
        {
          "output_type": "stream",
          "name": "stdout",
          "text": [
            "+----------+--------------+------------+----------+----------+----------+\n",
            "|department|employee_count|total_salary|avg_salary|max_salary|min_salary|\n",
            "+----------+--------------+------------+----------+----------+----------+\n",
            "|        HR|             2|       10000|    5000.0|      5000|      5000|\n",
            "|        IT|             1|        5000|    5000.0|      5000|      5000|\n",
            "|   Finance|             2|       10000|    5000.0|      5000|      5000|\n",
            "+----------+--------------+------------+----------+----------+----------+\n",
            "\n"
          ]
        }
      ],
      "source": [
        "from pyspark.sql.functions import sum, avg, max, min\n",
        "df_grouped = df.groupBy(\"department\").agg(\n",
        " count(\"*\").alias(\"employee_count\"),\n",
        " sum(\"salary\").alias(\"total_salary\"),\n",
        " avg(\"salary\").alias(\"avg_salary\"),\n",
        " max(\"salary\").alias(\"max_salary\"),\n",
        " min(\"salary\").alias(\"min_salary\")\n",
        " )\n",
        "df_grouped.show()"
      ]
    },
    {
      "cell_type": "code",
      "execution_count": 49,
      "metadata": {
        "vscode": {
          "languageId": "plaintext"
        },
        "colab": {
          "base_uri": "https://localhost:8080/"
        },
        "id": "KQ_9Dh23kASF",
        "outputId": "ac9d0f76-4b54-41e4-ee31-97641b34f565"
      },
      "outputs": [
        {
          "output_type": "stream",
          "name": "stdout",
          "text": [
            "+----------+------+-----+\n",
            "|department|salary|count|\n",
            "+----------+------+-----+\n",
            "|        IT|  5000|    1|\n",
            "|        HR|  5000|    2|\n",
            "|   Finance|  5000|    2|\n",
            "+----------+------+-----+\n",
            "\n"
          ]
        }
      ],
      "source": [
        "df_grouped = df.groupBy(\"department\", \"salary\").count()\n",
        "df_grouped.show()"
      ]
    },
    {
      "cell_type": "markdown",
      "source": [
        "### Split"
      ],
      "metadata": {
        "id": "FKizYd2bvhnc"
      }
    },
    {
      "cell_type": "code",
      "execution_count": 50,
      "metadata": {
        "vscode": {
          "languageId": "plaintext"
        },
        "colab": {
          "base_uri": "https://localhost:8080/"
        },
        "id": "Bi9S5gR8kASa",
        "outputId": "5d8973b3-df2f-413a-9889-e3e1c0441902"
      },
      "outputs": [
        {
          "output_type": "stream",
          "name": "stdout",
          "text": [
            "+-------------+\n",
            "|    full_name|\n",
            "+-------------+\n",
            "|     John Doe|\n",
            "|Alice Johnson|\n",
            "|    Bob Smith|\n",
            "+-------------+\n",
            "\n"
          ]
        }
      ],
      "source": [
        "data2 = [(\"John Doe\",), (\"Alice Johnson\",), (\"Bob Smith\",)]\n",
        "schema = [\"full_name\"]\n",
        " # Create DataFrame\n",
        "df = spark.createDataFrame(data2, schema=schema)\n",
        "df.show()"
      ]
    },
    {
      "cell_type": "code",
      "execution_count": 51,
      "metadata": {
        "vscode": {
          "languageId": "plaintext"
        },
        "colab": {
          "base_uri": "https://localhost:8080/"
        },
        "id": "kDRx15BBkASb",
        "outputId": "4c55f016-3ebe-4157-a48b-d8cf99fab446"
      },
      "outputs": [
        {
          "output_type": "stream",
          "name": "stdout",
          "text": [
            "+-------------+----------------+\n",
            "|full_name    |name_parts      |\n",
            "+-------------+----------------+\n",
            "|John Doe     |[John, Doe]     |\n",
            "|Alice Johnson|[Alice, Johnson]|\n",
            "|Bob Smith    |[Bob, Smith]    |\n",
            "+-------------+----------------+\n",
            "\n"
          ]
        }
      ],
      "source": [
        "from pyspark.sql.functions import split\n",
        "df_split = df.withColumn(\"name_parts\", split(col(\"full_name\"), \" \"))\n",
        "df_split.show(truncate=False)"
      ]
    },
    {
      "cell_type": "code",
      "execution_count": 52,
      "metadata": {
        "vscode": {
          "languageId": "plaintext"
        },
        "colab": {
          "base_uri": "https://localhost:8080/"
        },
        "id": "qfoCp2BHkASh",
        "outputId": "f2a90bc7-afa0-40c1-be76-bb8b3250e105"
      },
      "outputs": [
        {
          "output_type": "stream",
          "name": "stdout",
          "text": [
            "+-------------+----------------+----------+\n",
            "|full_name    |name_parts      |first_name|\n",
            "+-------------+----------------+----------+\n",
            "|John Doe     |[John, Doe]     |John      |\n",
            "|Alice Johnson|[Alice, Johnson]|Alice     |\n",
            "|Bob Smith    |[Bob, Smith]    |Bob       |\n",
            "+-------------+----------------+----------+\n",
            "\n"
          ]
        }
      ],
      "source": [
        "df_split = df_split.withColumn(\"first_name\", col(\"name_parts\")[0])\n",
        "df_split.show(truncate=False)"
      ]
    },
    {
      "cell_type": "markdown",
      "metadata": {
        "id": "PnlT2AGGkASk"
      },
      "source": [
        "### explode"
      ]
    },
    {
      "cell_type": "code",
      "execution_count": 53,
      "metadata": {
        "vscode": {
          "languageId": "plaintext"
        },
        "id": "hZI5MgCnkASj"
      },
      "outputs": [],
      "source": [
        "from pyspark.sql.functions import explode\n",
        "df_exploded = df_split.withColumn(\"word\", explode(df_split.name_parts)).drop(\"name_parts\")"
      ]
    },
    {
      "cell_type": "code",
      "execution_count": 54,
      "metadata": {
        "vscode": {
          "languageId": "plaintext"
        },
        "colab": {
          "base_uri": "https://localhost:8080/"
        },
        "id": "VBvKJl7NkASt",
        "outputId": "35b5dc76-346f-4a26-c692-17e2e1c4241a"
      },
      "outputs": [
        {
          "output_type": "stream",
          "name": "stdout",
          "text": [
            "+---+-------------+------------------------+\n",
            "|id |name         |skills                  |\n",
            "+---+-------------+------------------------+\n",
            "|1  |John Doe     |[Python, Java, SQL]     |\n",
            "|2  |Alice Johnson|[Scala, C++]            |\n",
            "|3  |Bob Smith    |[JavaScript, Python, Go]|\n",
            "+---+-------------+------------------------+\n",
            "\n"
          ]
        }
      ],
      "source": [
        "data3 = [\n",
        " (1, \"John Doe\", [\"Python\", \"Java\", \"SQL\"]),\n",
        " (2, \"Alice Johnson\", [\"Scala\", \"C++\"]),\n",
        " (3, \"Bob Smith\", [\"JavaScript\", \"Python\", \"Go\"])\n",
        " ]\n",
        "schema = [\"id\", \"name\", \"skills\"]\n",
        " # Create DataFrame\n",
        "df = spark.createDataFrame(data3, schema=schema)\n",
        "df.show(truncate=False)"
      ]
    },
    {
      "cell_type": "code",
      "execution_count": 55,
      "metadata": {
        "vscode": {
          "languageId": "plaintext"
        },
        "colab": {
          "base_uri": "https://localhost:8080/"
        },
        "id": "56gsFgI0kASv",
        "outputId": "6037ef24-c72c-4a73-be7e-8e21e6e8542c"
      },
      "outputs": [
        {
          "output_type": "stream",
          "name": "stdout",
          "text": [
            "+---+-------------+----------+\n",
            "| id|         name|     skill|\n",
            "+---+-------------+----------+\n",
            "|  1|     John Doe|    Python|\n",
            "|  1|     John Doe|      Java|\n",
            "|  1|     John Doe|       SQL|\n",
            "|  2|Alice Johnson|     Scala|\n",
            "|  2|Alice Johnson|       C++|\n",
            "|  3|    Bob Smith|JavaScript|\n",
            "|  3|    Bob Smith|    Python|\n",
            "|  3|    Bob Smith|        Go|\n",
            "+---+-------------+----------+\n",
            "\n"
          ]
        }
      ],
      "source": [
        "df_exploded = df.withColumn(\"skill\", explode(df.skills)).drop(\"skills\")\n",
        "df_exploded.show()"
      ]
    },
    {
      "cell_type": "markdown",
      "source": [
        "### array_contains"
      ],
      "metadata": {
        "id": "Q_QGggtwv1gc"
      }
    },
    {
      "cell_type": "code",
      "execution_count": 56,
      "metadata": {
        "vscode": {
          "languageId": "plaintext"
        },
        "colab": {
          "base_uri": "https://localhost:8080/"
        },
        "id": "F3j3_WojkASw",
        "outputId": "576ddf89-d73d-4ef1-a03a-d4b4f3f2ec47"
      },
      "outputs": [
        {
          "output_type": "stream",
          "name": "stdout",
          "text": [
            "+---+-------------+--------------------+----------+\n",
            "| id|         name|              skills|has_python|\n",
            "+---+-------------+--------------------+----------+\n",
            "|  1|     John Doe| [Python, Java, SQL]|      true|\n",
            "|  2|Alice Johnson|        [Scala, C++]|     false|\n",
            "|  3|    Bob Smith|[JavaScript, Pyth...|      true|\n",
            "+---+-------------+--------------------+----------+\n",
            "\n"
          ]
        }
      ],
      "source": [
        "\n",
        "from pyspark.sql.functions import array_contains\n",
        "df_contains = df.withColumn(\"has_python\", array_contains(col(\"skills\"), \"Python\"))\n",
        "df_contains.show()"
      ]
    },
    {
      "cell_type": "code",
      "execution_count": 57,
      "metadata": {
        "vscode": {
          "languageId": "plaintext"
        },
        "colab": {
          "base_uri": "https://localhost:8080/"
        },
        "id": "-6_YJlQlkAS3",
        "outputId": "f64a10f2-9c8c-48f8-cb07-ba83f8e06ee7"
      },
      "outputs": [
        {
          "output_type": "stream",
          "name": "stdout",
          "text": [
            "+-------------+----------+\n",
            "|         name|knows_java|\n",
            "+-------------+----------+\n",
            "|     John Doe|      true|\n",
            "|Alice Johnson|     false|\n",
            "|    Bob Smith|     false|\n",
            "+-------------+----------+\n",
            "\n"
          ]
        }
      ],
      "source": [
        "df.select(\"name\", array_contains(col(\"skills\"), \"Java\").alias(\"knows_java\")).show()"
      ]
    },
    {
      "cell_type": "code",
      "execution_count": 58,
      "metadata": {
        "vscode": {
          "languageId": "plaintext"
        },
        "colab": {
          "base_uri": "https://localhost:8080/"
        },
        "id": "CsKNZPIekAS5",
        "outputId": "1499855c-15d5-4284-ea15-ce1fa2d920a3"
      },
      "outputs": [
        {
          "output_type": "stream",
          "name": "stdout",
          "text": [
            "+---+-------------+--------------------+-------------------+\n",
            "| id|         name|              skills|has_python_or_scala|\n",
            "+---+-------------+--------------------+-------------------+\n",
            "|  1|     John Doe| [Python, Java, SQL]|               true|\n",
            "|  2|Alice Johnson|        [Scala, C++]|               true|\n",
            "|  3|    Bob Smith|[JavaScript, Pyth...|               true|\n",
            "+---+-------------+--------------------+-------------------+\n",
            "\n"
          ]
        }
      ],
      "source": [
        "\n",
        "from pyspark.sql.functions import expr\n",
        "df_multiple = df.withColumn(\"has_python_or_scala\", expr(\"array_contains(skills, 'Python') OR array_contains(skills, 'Scala')\"))\n",
        "df_multiple.show()"
      ]
    },
    {
      "cell_type": "markdown",
      "source": [
        "### collect_list"
      ],
      "metadata": {
        "id": "_2cUrQSwv6DJ"
      }
    },
    {
      "cell_type": "code",
      "execution_count": 59,
      "metadata": {
        "vscode": {
          "languageId": "plaintext"
        },
        "id": "o1yMKZl1kAS7"
      },
      "outputs": [],
      "source": [
        "from pyspark.sql.functions import collect_list"
      ]
    },
    {
      "cell_type": "code",
      "execution_count": 60,
      "metadata": {
        "vscode": {
          "languageId": "plaintext"
        },
        "colab": {
          "base_uri": "https://localhost:8080/"
        },
        "id": "ju7Hmp1VkAS8",
        "outputId": "acc50433-08b0-4f8a-c587-11d4ab635dcd"
      },
      "outputs": [
        {
          "output_type": "stream",
          "name": "stdout",
          "text": [
            "+---+-------+----------+\n",
            "| id|   name|     skill|\n",
            "+---+-------+----------+\n",
            "|  1|  Alice|    Python|\n",
            "|  1|  Alice|      Java|\n",
            "|  2|    Bob|     Scala|\n",
            "|  2|    Bob|    Python|\n",
            "|  2|    Bob|        Go|\n",
            "|  3|Charlie|JavaScript|\n",
            "|  3|Charlie|       C++|\n",
            "+---+-------+----------+\n",
            "\n"
          ]
        }
      ],
      "source": [
        "data = [\n",
        "    (1, \"Alice\", \"Python\"),\n",
        "    (1, \"Alice\", \"Java\"),\n",
        "    (2, \"Bob\", \"Scala\"),\n",
        "    (2, \"Bob\", \"Python\"),\n",
        "    (2, \"Bob\", \"Go\"),\n",
        "    (3, \"Charlie\", \"JavaScript\"),\n",
        "    (3, \"Charlie\", \"C++\")\n",
        "]\n",
        "schema = [\"id\", \"name\", \"skill\"]\n",
        "\n",
        "# Create DataFrame\n",
        "df = spark.createDataFrame(data, schema=schema)\n",
        "\n",
        "df.show()"
      ]
    },
    {
      "cell_type": "code",
      "execution_count": 61,
      "metadata": {
        "vscode": {
          "languageId": "plaintext"
        },
        "colab": {
          "base_uri": "https://localhost:8080/"
        },
        "id": "FjUp7_g_kATD",
        "outputId": "caedab5a-b0da-45cf-e104-38e51e99930c"
      },
      "outputs": [
        {
          "output_type": "stream",
          "name": "stdout",
          "text": [
            "+---+-------+-------------------+\n",
            "|id |name   |skills             |\n",
            "+---+-------+-------------------+\n",
            "|2  |Bob    |[Scala, Python, Go]|\n",
            "|1  |Alice  |[Python, Java]     |\n",
            "|3  |Charlie|[JavaScript, C++]  |\n",
            "+---+-------+-------------------+\n",
            "\n"
          ]
        }
      ],
      "source": [
        " df_grouped = df.groupBy(\"id\", \"name\").agg(collect_list(\"skill\").alias(\"skills\"))\n",
        " df_grouped.show(truncate=False)"
      ]
    },
    {
      "cell_type": "code",
      "execution_count": 62,
      "metadata": {
        "vscode": {
          "languageId": "plaintext"
        },
        "colab": {
          "base_uri": "https://localhost:8080/"
        },
        "id": "aj8IqhO2kATE",
        "outputId": "2119ba0c-e80c-4a0c-8216-68bd0580f5d4"
      },
      "outputs": [
        {
          "output_type": "stream",
          "name": "stdout",
          "text": [
            "+---+-------+-------+-----+\n",
            "| id|   name|subject|marks|\n",
            "+---+-------+-------+-----+\n",
            "|  1|  Alice|   Math|   85|\n",
            "|  1|  Alice|Science|   90|\n",
            "|  1|  Alice|English|   78|\n",
            "|  2|    Bob|   Math|   92|\n",
            "|  2|    Bob|Science|   88|\n",
            "|  2|    Bob|English|   81|\n",
            "|  3|Charlie|   Math|   75|\n",
            "|  3|Charlie|Science|   95|\n",
            "|  3|Charlie|English|   85|\n",
            "+---+-------+-------+-----+\n",
            "\n"
          ]
        }
      ],
      "source": [
        "data = [\n",
        "    (1, \"Alice\", \"Math\", 85),\n",
        "    (1, \"Alice\", \"Science\", 90),\n",
        "    (1, \"Alice\", \"English\", 78),\n",
        "    (2, \"Bob\", \"Math\", 92),\n",
        "    (2, \"Bob\", \"Science\", 88),\n",
        "    (2, \"Bob\", \"English\", 81),\n",
        "    (3, \"Charlie\", \"Math\", 75),\n",
        "    (3, \"Charlie\", \"Science\", 95),\n",
        "    (3, \"Charlie\", \"English\", 85)\n",
        "]\n",
        "schema = [\"id\", \"name\", \"subject\", \"marks\"]\n",
        "\n",
        "# Create DataFrame\n",
        "df = spark.createDataFrame(data, schema=schema)\n",
        "\n",
        "df.show()"
      ]
    },
    {
      "cell_type": "markdown",
      "source": [
        "### pivot"
      ],
      "metadata": {
        "id": "JungQ5Env999"
      }
    },
    {
      "cell_type": "code",
      "execution_count": 63,
      "metadata": {
        "vscode": {
          "languageId": "plaintext"
        },
        "colab": {
          "base_uri": "https://localhost:8080/"
        },
        "id": "A7iSzTnxkATG",
        "outputId": "257b43d2-1b5a-4e16-c95f-09be54107a33"
      },
      "outputs": [
        {
          "output_type": "stream",
          "name": "stdout",
          "text": [
            "+---+-------+-------+----+-------+\n",
            "| id|   name|English|Math|Science|\n",
            "+---+-------+-------+----+-------+\n",
            "|  3|Charlie|     85|  75|     95|\n",
            "|  2|    Bob|     81|  92|     88|\n",
            "|  1|  Alice|     78|  85|     90|\n",
            "+---+-------+-------+----+-------+\n",
            "\n"
          ]
        }
      ],
      "source": [
        "df_pivot = df.groupBy(\"id\", \"name\").pivot(\"subject\").sum(\"marks\")\n",
        "df_pivot.show()"
      ]
    },
    {
      "cell_type": "markdown",
      "metadata": {
        "id": "S5lzQEyNkATN"
      },
      "source": [
        "### Join"
      ]
    },
    {
      "cell_type": "code",
      "execution_count": 64,
      "metadata": {
        "vscode": {
          "languageId": "plaintext"
        },
        "colab": {
          "base_uri": "https://localhost:8080/"
        },
        "id": "9a0n_sNVkATO",
        "outputId": "375b0e24-2e37-43f8-9ee8-27ac87152c00"
      },
      "outputs": [
        {
          "output_type": "stream",
          "name": "stdout",
          "text": [
            "+---+-------+-----+\n",
            "| id|   name|marks|\n",
            "+---+-------+-----+\n",
            "|  1|  Alice|   85|\n",
            "|  2|    Bob|   78|\n",
            "|  3|Charlie|   92|\n",
            "|  4|  David|   65|\n",
            "+---+-------+-----+\n",
            "\n",
            "+---+-------+\n",
            "| id| course|\n",
            "+---+-------+\n",
            "|  1|   Math|\n",
            "|  2|Science|\n",
            "|  3|English|\n",
            "|  5|History|\n",
            "+---+-------+\n",
            "\n"
          ]
        }
      ],
      "source": [
        "data1 = [(1, \"Alice\", 85), (2, \"Bob\", 78), (3, \"Charlie\", 92), (4, \"David\", 65)]\n",
        "columns1 = [\"id\", \"name\", \"marks\"]\n",
        "df1 = spark.createDataFrame(data1, columns1)\n",
        "\n",
        "# Right DataFrame (Courses)\n",
        "data2 = [(1, \"Math\"), (2, \"Science\"), (3, \"English\"), (5, \"History\")]\n",
        "columns2 = [\"id\", \"course\"]\n",
        "df2 = spark.createDataFrame(data2, columns2)\n",
        "\n",
        "# Show DataFrames\n",
        "df1.show()\n",
        "df2.show()"
      ]
    },
    {
      "cell_type": "code",
      "execution_count": 65,
      "metadata": {
        "vscode": {
          "languageId": "plaintext"
        },
        "colab": {
          "base_uri": "https://localhost:8080/"
        },
        "id": "XKIKwpS_kATP",
        "outputId": "931395f0-467b-465a-a384-dcd2522d6e3a"
      },
      "outputs": [
        {
          "output_type": "stream",
          "name": "stdout",
          "text": [
            "+---+-------+-----+-------+\n",
            "| id|   name|marks| course|\n",
            "+---+-------+-----+-------+\n",
            "|  1|  Alice|   85|   Math|\n",
            "|  2|    Bob|   78|Science|\n",
            "|  3|Charlie|   92|English|\n",
            "+---+-------+-----+-------+\n",
            "\n"
          ]
        }
      ],
      "source": [
        "df_inner = df1.join(df2, on=\"id\", how=\"inner\")\n",
        "df_inner.show()"
      ]
    },
    {
      "cell_type": "code",
      "execution_count": 66,
      "metadata": {
        "vscode": {
          "languageId": "plaintext"
        },
        "colab": {
          "base_uri": "https://localhost:8080/"
        },
        "id": "BIWvS9YDkATR",
        "outputId": "4f74d17d-640f-4b6d-b01a-aeea02100ed3"
      },
      "outputs": [
        {
          "output_type": "stream",
          "name": "stdout",
          "text": [
            "+---+-------+-----+-------+\n",
            "| id|   name|marks| course|\n",
            "+---+-------+-----+-------+\n",
            "|  1|  Alice|   85|   Math|\n",
            "|  2|    Bob|   78|Science|\n",
            "|  3|Charlie|   92|English|\n",
            "|  4|  David|   65|   NULL|\n",
            "+---+-------+-----+-------+\n",
            "\n"
          ]
        }
      ],
      "source": [
        "df_left = df1.join(df2, on=\"id\", how=\"left\")\n",
        "df_left.show()"
      ]
    },
    {
      "cell_type": "code",
      "execution_count": 67,
      "metadata": {
        "vscode": {
          "languageId": "plaintext"
        },
        "colab": {
          "base_uri": "https://localhost:8080/"
        },
        "id": "ErptfsTXkATY",
        "outputId": "6cee3e63-6c8a-4817-8960-3c2e1bba8dfa"
      },
      "outputs": [
        {
          "output_type": "stream",
          "name": "stdout",
          "text": [
            "+---+-------+-----+-------+\n",
            "| id|   name|marks| course|\n",
            "+---+-------+-----+-------+\n",
            "|  1|  Alice|   85|   Math|\n",
            "|  2|    Bob|   78|Science|\n",
            "|  5|   NULL| NULL|History|\n",
            "|  3|Charlie|   92|English|\n",
            "+---+-------+-----+-------+\n",
            "\n"
          ]
        }
      ],
      "source": [
        "df_right = df1.join(df2, on=\"id\", how=\"right\")\n",
        "df_right.show()"
      ]
    },
    {
      "cell_type": "code",
      "execution_count": 68,
      "metadata": {
        "vscode": {
          "languageId": "plaintext"
        },
        "colab": {
          "base_uri": "https://localhost:8080/"
        },
        "id": "_kDezVG7kATZ",
        "outputId": "86699146-d333-4795-d35a-9dbaf1c0931e"
      },
      "outputs": [
        {
          "output_type": "stream",
          "name": "stdout",
          "text": [
            "+---+-------+-----+-------+\n",
            "| id|   name|marks| course|\n",
            "+---+-------+-----+-------+\n",
            "|  1|  Alice|   85|   Math|\n",
            "|  2|    Bob|   78|Science|\n",
            "|  3|Charlie|   92|English|\n",
            "|  4|  David|   65|   NULL|\n",
            "|  5|   NULL| NULL|History|\n",
            "+---+-------+-----+-------+\n",
            "\n"
          ]
        }
      ],
      "source": [
        "df_full = df1.join(df2, on=\"id\", how=\"full\")\n",
        "df_full.show()"
      ]
    },
    {
      "cell_type": "code",
      "execution_count": 69,
      "metadata": {
        "vscode": {
          "languageId": "plaintext"
        },
        "colab": {
          "base_uri": "https://localhost:8080/"
        },
        "id": "VwcHqT1lkATb",
        "outputId": "d24bc3fe-1b3a-4c18-d14e-80e50aa2c46e"
      },
      "outputs": [
        {
          "output_type": "stream",
          "name": "stdout",
          "text": [
            "+---+-----+-----+\n",
            "| id| name|marks|\n",
            "+---+-----+-----+\n",
            "|  4|David|   65|\n",
            "+---+-----+-----+\n",
            "\n"
          ]
        }
      ],
      "source": [
        "df_anti = df1.join(df2, on=\"id\", how=\"left_anti\")\n",
        "df_anti.show()"
      ]
    },
    {
      "cell_type": "code",
      "source": [
        "df1.join(df2,df2.id ==  df1.id,\"inner\") \\\n",
        "     .select(df1.id,df1.name,df2.course) \\\n",
        "     .show(truncate=False)"
      ],
      "metadata": {
        "colab": {
          "base_uri": "https://localhost:8080/"
        },
        "id": "GivFSCbSrCkX",
        "outputId": "9085d5f1-9bc1-462d-8277-2831d5d3ff24"
      },
      "execution_count": 70,
      "outputs": [
        {
          "output_type": "stream",
          "name": "stdout",
          "text": [
            "+---+-------+-------+\n",
            "|id |name   |course |\n",
            "+---+-------+-------+\n",
            "|1  |Alice  |Math   |\n",
            "|2  |Bob    |Science|\n",
            "|3  |Charlie|English|\n",
            "+---+-------+-------+\n",
            "\n"
          ]
        }
      ]
    },
    {
      "cell_type": "markdown",
      "source": [
        "### String"
      ],
      "metadata": {
        "id": "wQLiGna0wCGY"
      }
    },
    {
      "cell_type": "code",
      "execution_count": 71,
      "metadata": {
        "vscode": {
          "languageId": "plaintext"
        },
        "colab": {
          "base_uri": "https://localhost:8080/"
        },
        "id": "yHD0mRGYkATh",
        "outputId": "3678e496-27d9-4e71-b0f9-7f3f84c955ed"
      },
      "outputs": [
        {
          "output_type": "stream",
          "name": "stdout",
          "text": [
            "+---+---------+-------------+\n",
            "| id|     name|       skills|\n",
            "+---+---------+-------------+\n",
            "|  1|  Alice  |  PYSPARK,SQL|\n",
            "|  2|      BOB|  Java,Python|\n",
            "|  3|  Charlie|       ML,AI |\n",
            "|  4|     NULL|Spark, Hadoop|\n",
            "+---+---------+-------------+\n",
            "\n"
          ]
        }
      ],
      "source": [
        "data = [\n",
        "    (1, \"  Alice  \", \"PYSPARK,SQL\"),\n",
        "    (2, \"BOB\", \"Java,Python\"),\n",
        "    (3, \"Charlie\", \" ML,AI \"),\n",
        "    (4, None, \"Spark, Hadoop\")\n",
        "]\n",
        "schema = [\"id\", \"name\", \"skills\"]\n",
        "\n",
        "# Create DataFrame\n",
        "df = spark.createDataFrame(data, schema=schema)\n",
        "df.show()"
      ]
    },
    {
      "cell_type": "code",
      "execution_count": 72,
      "metadata": {
        "vscode": {
          "languageId": "plaintext"
        },
        "colab": {
          "base_uri": "https://localhost:8080/"
        },
        "id": "HCmtkSbckATi",
        "outputId": "ef216874-b6ff-4298-8d39-87e7eefedde9"
      },
      "outputs": [
        {
          "output_type": "stream",
          "name": "stdout",
          "text": [
            "+---+---------+-------------+----------+----------+\n",
            "| id|     name|       skills|name_upper|name_lower|\n",
            "+---+---------+-------------+----------+----------+\n",
            "|  1|  Alice  |  PYSPARK,SQL|   ALICE  |   alice  |\n",
            "|  2|      BOB|  Java,Python|       BOB|       bob|\n",
            "|  3|  Charlie|       ML,AI |   CHARLIE|   charlie|\n",
            "|  4|     NULL|Spark, Hadoop|      NULL|      NULL|\n",
            "+---+---------+-------------+----------+----------+\n",
            "\n"
          ]
        }
      ],
      "source": [
        "from pyspark.sql.functions import upper, lower\n",
        "df_transformed = df.withColumn(\"name_upper\", upper(col(\"name\")))\\\n",
        " .withColumn(\"name_lower\", lower(col(\"name\")))\n",
        "df_transformed.show()"
      ]
    },
    {
      "cell_type": "code",
      "execution_count": 73,
      "metadata": {
        "vscode": {
          "languageId": "plaintext"
        },
        "colab": {
          "base_uri": "https://localhost:8080/"
        },
        "id": "hbEQGLp9kATj",
        "outputId": "5bd8b232-37b8-4fd8-c2be-4bf7ee9406e6"
      },
      "outputs": [
        {
          "output_type": "stream",
          "name": "stdout",
          "text": [
            "+---+---------+-------------+---------+----------+----------+\n",
            "| id|     name|       skills|name_trim|name_ltrim|name_rtrim|\n",
            "+---+---------+-------------+---------+----------+----------+\n",
            "|  1|  Alice  |  PYSPARK,SQL|    Alice|   Alice  |     Alice|\n",
            "|  2|      BOB|  Java,Python|      BOB|       BOB|       BOB|\n",
            "|  3|  Charlie|       ML,AI |  Charlie|   Charlie|   Charlie|\n",
            "|  4|     NULL|Spark, Hadoop|     NULL|      NULL|      NULL|\n",
            "+---+---------+-------------+---------+----------+----------+\n",
            "\n"
          ]
        }
      ],
      "source": [
        "from pyspark.sql.functions import trim, ltrim, rtrim\n",
        "df_trimmed = df.withColumn(\"name_trim\", trim(col(\"name\")))\\\n",
        " .withColumn(\"name_ltrim\", ltrim(col(\"name\")))\\\n",
        " .withColumn(\"name_rtrim\", rtrim(col(\"name\")))\n",
        "df_trimmed.show()"
      ]
    },
    {
      "cell_type": "code",
      "execution_count": 74,
      "metadata": {
        "vscode": {
          "languageId": "plaintext"
        },
        "colab": {
          "base_uri": "https://localhost:8080/"
        },
        "id": "W1QKAWrvkATk",
        "outputId": "d7bcf560-7154-4e7f-a382-4302c119fcdf"
      },
      "outputs": [
        {
          "output_type": "stream",
          "name": "stdout",
          "text": [
            "+---+---------+-------------+-----------+\n",
            "| id|     name|       skills|name_length|\n",
            "+---+---------+-------------+-----------+\n",
            "|  1|  Alice  |  PYSPARK,SQL|          9|\n",
            "|  2|      BOB|  Java,Python|          3|\n",
            "|  3|  Charlie|       ML,AI |          7|\n",
            "|  4|     NULL|Spark, Hadoop|       NULL|\n",
            "+---+---------+-------------+-----------+\n",
            "\n"
          ]
        }
      ],
      "source": [
        " from pyspark.sql.functions import length\n",
        " df_length = df.withColumn(\"name_length\", length(col(\"name\")))\n",
        " df_length.show()"
      ]
    },
    {
      "cell_type": "code",
      "execution_count": 75,
      "metadata": {
        "vscode": {
          "languageId": "plaintext"
        },
        "colab": {
          "base_uri": "https://localhost:8080/"
        },
        "id": "LFvgLOAhkATo",
        "outputId": "772724a8-f827-489d-c2f4-d70acfa6a6ca"
      },
      "outputs": [
        {
          "output_type": "stream",
          "name": "stdout",
          "text": [
            "+---+---------+-------------+----------------+\n",
            "|id |name     |skills       |skills_array    |\n",
            "+---+---------+-------------+----------------+\n",
            "|1  |  Alice  |PYSPARK,SQL  |[PYSPARK, SQL]  |\n",
            "|2  |BOB      |Java,Python  |[Java, Python]  |\n",
            "|3  |Charlie  | ML,AI       |[ ML, AI ]      |\n",
            "|4  |NULL     |Spark, Hadoop|[Spark,  Hadoop]|\n",
            "+---+---------+-------------+----------------+\n",
            "\n"
          ]
        }
      ],
      "source": [
        "from pyspark.sql.functions import split\n",
        "df_split = df.withColumn(\"skills_array\", split(col(\"skills\"), \",\"))\n",
        "df_split.show(truncate=False)"
      ]
    },
    {
      "cell_type": "code",
      "execution_count": 76,
      "metadata": {
        "vscode": {
          "languageId": "plaintext"
        },
        "colab": {
          "base_uri": "https://localhost:8080/"
        },
        "id": "Pn3Vn9m6kATp",
        "outputId": "2fe27c22-82ed-4c29-817a-01702b090d28"
      },
      "outputs": [
        {
          "output_type": "stream",
          "name": "stdout",
          "text": [
            "+---+---------+-------------+-------------+\n",
            "|id |name     |skills       |clean_skills |\n",
            "+---+---------+-------------+-------------+\n",
            "|1  |  Alice  |PYSPARK,SQL  |PYSPARK/SQL  |\n",
            "|2  |BOB      |Java,Python  |Java/Python  |\n",
            "|3  |Charlie  | ML,AI       | ML/AI       |\n",
            "|4  |NULL     |Spark, Hadoop|Spark/ Hadoop|\n",
            "+---+---------+-------------+-------------+\n",
            "\n"
          ]
        }
      ],
      "source": [
        "from pyspark.sql.functions import regexp_replace\n",
        "df_replace = df.withColumn(\"clean_skills\", regexp_replace(col(\"skills\"), \",\", \"/\"))\n",
        "df_replace.show(truncate=False)"
      ]
    },
    {
      "cell_type": "code",
      "execution_count": 76,
      "metadata": {
        "vscode": {
          "languageId": "plaintext"
        },
        "id": "Bxc4duIfkATq"
      },
      "outputs": [],
      "source": []
    },
    {
      "cell_type": "markdown",
      "source": [
        "### Date"
      ],
      "metadata": {
        "id": "dSYLwaAwwZFW"
      }
    },
    {
      "cell_type": "code",
      "execution_count": 77,
      "metadata": {
        "vscode": {
          "languageId": "plaintext"
        },
        "colab": {
          "base_uri": "https://localhost:8080/"
        },
        "id": "Uhqw3YTUkATr",
        "outputId": "351f4b1e-f061-4f3d-b6ca-b7ee9eb25061"
      },
      "outputs": [
        {
          "output_type": "stream",
          "name": "stdout",
          "text": [
            "+---+----------+-------------------+\n",
            "| id|  date_str|      timestamp_str|\n",
            "+---+----------+-------------------+\n",
            "|  1|2024-03-10|2025-07-15 14:30:00|\n",
            "|  2|2023-05-20|2024-11-25 09:15:45|\n",
            "|  3|2022-12-01|2023-06-10 18:45:30|\n",
            "+---+----------+-------------------+\n",
            "\n"
          ]
        }
      ],
      "source": [
        "data = [\n",
        "    (1, \"2024-03-10\", \"2025-07-15 14:30:00\"),\n",
        "    (2, \"2023-05-20\", \"2024-11-25 09:15:45\"),\n",
        "    (3, \"2022-12-01\", \"2023-06-10 18:45:30\")\n",
        "]\n",
        "schema = [\"id\", \"date_str\", \"timestamp_str\"]\n",
        "\n",
        "# Create DataFrame\n",
        "df = spark.createDataFrame(data, schema=schema)\n",
        "df.show()"
      ]
    },
    {
      "cell_type": "code",
      "execution_count": 78,
      "metadata": {
        "vscode": {
          "languageId": "plaintext"
        },
        "colab": {
          "base_uri": "https://localhost:8080/"
        },
        "id": "MrN9JNSskAVZ",
        "outputId": "7540ae3e-494d-495b-dfbd-b68c94f8cba3"
      },
      "outputs": [
        {
          "output_type": "stream",
          "name": "stdout",
          "text": [
            "+---+----------+-------------------+----------+-------------------+\n",
            "| id|  date_str|      timestamp_str|      date|          timestamp|\n",
            "+---+----------+-------------------+----------+-------------------+\n",
            "|  1|2024-03-10|2025-07-15 14:30:00|2024-03-10|2025-07-15 14:30:00|\n",
            "|  2|2023-05-20|2024-11-25 09:15:45|2023-05-20|2024-11-25 09:15:45|\n",
            "|  3|2022-12-01|2023-06-10 18:45:30|2022-12-01|2023-06-10 18:45:30|\n",
            "+---+----------+-------------------+----------+-------------------+\n",
            "\n"
          ]
        }
      ],
      "source": [
        "from pyspark.sql.functions import to_date, to_timestamp\n",
        "df_converted = df.withColumn(\"date\", to_date(col(\"date_str\"), \"yyyy-MM-dd\"))\\\n",
        " .withColumn(\"timestamp\", to_timestamp(col(\"timestamp_str\"), \"yyyy-MM-dd HH:mm:ss\"))\n",
        "df_converted.show()"
      ]
    },
    {
      "cell_type": "code",
      "execution_count": 79,
      "metadata": {
        "vscode": {
          "languageId": "plaintext"
        },
        "colab": {
          "base_uri": "https://localhost:8080/"
        },
        "id": "MD7OnHmUkAVe",
        "outputId": "ffe87a83-7df6-4138-88bd-0edbd6690a26"
      },
      "outputs": [
        {
          "output_type": "stream",
          "name": "stdout",
          "text": [
            "+---+----------+-------------------+----------+-------------------+----+-----+---+----+------+\n",
            "| id|  date_str|      timestamp_str|      date|          timestamp|year|month|day|hour|minute|\n",
            "+---+----------+-------------------+----------+-------------------+----+-----+---+----+------+\n",
            "|  1|2024-03-10|2025-07-15 14:30:00|2024-03-10|2025-07-15 14:30:00|2024|    3| 10|  14|    30|\n",
            "|  2|2023-05-20|2024-11-25 09:15:45|2023-05-20|2024-11-25 09:15:45|2023|    5| 20|   9|    15|\n",
            "|  3|2022-12-01|2023-06-10 18:45:30|2022-12-01|2023-06-10 18:45:30|2022|   12|  1|  18|    45|\n",
            "+---+----------+-------------------+----------+-------------------+----+-----+---+----+------+\n",
            "\n"
          ]
        }
      ],
      "source": [
        "from pyspark.sql.functions import year, month, dayofmonth, hour, minute, second\n",
        "df_extracted = df_converted.withColumn(\"year\", year(col(\"date\")))\\\n",
        " .withColumn(\"month\", month(col(\"date\")))\\\n",
        " .withColumn(\"day\", dayofmonth(col(\"date\")))\\\n",
        " .withColumn(\"hour\", hour(col(\"timestamp\")))\\\n",
        " .withColumn(\"minute\", minute(col(\"timestamp\")))\n",
        "df_extracted.show()"
      ]
    },
    {
      "cell_type": "code",
      "execution_count": 80,
      "metadata": {
        "vscode": {
          "languageId": "plaintext"
        },
        "colab": {
          "base_uri": "https://localhost:8080/"
        },
        "id": "xyTat-lOkAVg",
        "outputId": "4f6417a8-da0d-41d8-80be-0bbbb2da302e"
      },
      "outputs": [
        {
          "output_type": "stream",
          "name": "stdout",
          "text": [
            "+---+----------+-------------------+----------+-------------------+---------+------------+-------------+\n",
            "| id|  date_str|      timestamp_str|      date|          timestamp|date_diff|plus_10_days|minus_10_days|\n",
            "+---+----------+-------------------+----------+-------------------+---------+------------+-------------+\n",
            "|  1|2024-03-10|2025-07-15 14:30:00|2024-03-10|2025-07-15 14:30:00|      492|  2024-03-20|   2024-02-29|\n",
            "|  2|2023-05-20|2024-11-25 09:15:45|2023-05-20|2024-11-25 09:15:45|      555|  2023-05-30|   2023-05-10|\n",
            "|  3|2022-12-01|2023-06-10 18:45:30|2022-12-01|2023-06-10 18:45:30|      191|  2022-12-11|   2022-11-21|\n",
            "+---+----------+-------------------+----------+-------------------+---------+------------+-------------+\n",
            "\n"
          ]
        }
      ],
      "source": [
        "from pyspark.sql.functions import datediff, date_add, date_sub\n",
        "df_dates = df_converted.withColumn(\"date_diff\", datediff(col(\"timestamp\"), col(\"date\")))\\\n",
        " .withColumn(\"plus_10_days\", date_add(col(\"date\"), 10))\\\n",
        " .withColumn(\"minus_10_days\", date_sub(col(\"date\"), 10))\n",
        "df_dates.show()"
      ]
    },
    {
      "cell_type": "code",
      "execution_count": 80,
      "metadata": {
        "vscode": {
          "languageId": "plaintext"
        },
        "id": "fdzYcCEdkAVh"
      },
      "outputs": [],
      "source": []
    },
    {
      "cell_type": "markdown",
      "source": [
        "### Handel Null Value"
      ],
      "metadata": {
        "id": "13ViF2tSwb5X"
      }
    },
    {
      "cell_type": "code",
      "execution_count": 81,
      "metadata": {
        "vscode": {
          "languageId": "plaintext"
        },
        "colab": {
          "base_uri": "https://localhost:8080/"
        },
        "id": "WlgKGK1MkAVi",
        "outputId": "ca849f65-7c8e-4010-e183-6b308a029e6e"
      },
      "outputs": [
        {
          "output_type": "stream",
          "name": "stdout",
          "text": [
            "+---+-------+----+------+\n",
            "| id|   name| age|salary|\n",
            "+---+-------+----+------+\n",
            "|  1|  Alice|  25|  NULL|\n",
            "|  2|   NULL|  30| 50000|\n",
            "|  3|Charlie|NULL| 60000|\n",
            "|  4|  David|  35|  NULL|\n",
            "+---+-------+----+------+\n",
            "\n"
          ]
        }
      ],
      "source": [
        "data = [\n",
        "    (1, \"Alice\", 25, None),\n",
        "    (2, None, 30, 50000),\n",
        "    (3, \"Charlie\", None, 60000),\n",
        "    (4, \"David\", 35, None)\n",
        "]\n",
        "schema = [\"id\", \"name\", \"age\", \"salary\"]\n",
        "\n",
        "df = spark.createDataFrame(data, schema=schema)\n",
        "df.show()"
      ]
    },
    {
      "cell_type": "code",
      "execution_count": 82,
      "metadata": {
        "vscode": {
          "languageId": "plaintext"
        },
        "colab": {
          "base_uri": "https://localhost:8080/"
        },
        "id": "cqaPbn2dkAVk",
        "outputId": "ea17ca8b-e900-4c42-cf61-d25745db8c3c"
      },
      "outputs": [
        {
          "output_type": "stream",
          "name": "stdout",
          "text": [
            "+---+----+---+------+\n",
            "| id|name|age|salary|\n",
            "+---+----+---+------+\n",
            "+---+----+---+------+\n",
            "\n"
          ]
        }
      ],
      "source": [
        "df_drop = df.dropna()\n",
        "df_drop.show()"
      ]
    },
    {
      "cell_type": "code",
      "execution_count": 83,
      "metadata": {
        "vscode": {
          "languageId": "plaintext"
        },
        "colab": {
          "base_uri": "https://localhost:8080/"
        },
        "id": "tnI0Kg43kAVl",
        "outputId": "1bbc8e93-785f-4a36-cfdb-14bdd7332631"
      },
      "outputs": [
        {
          "output_type": "stream",
          "name": "stdout",
          "text": [
            "+---+-------+---+------+\n",
            "| id|   name|age|salary|\n",
            "+---+-------+---+------+\n",
            "|  1|  Alice| 25| 40000|\n",
            "|  2|   NULL| 30| 50000|\n",
            "|  3|Charlie|  0| 60000|\n",
            "|  4|  David| 35| 40000|\n",
            "+---+-------+---+------+\n",
            "\n"
          ]
        }
      ],
      "source": [
        "df_filled = df.fillna({\"age\": 0, \"salary\": 40000})\n",
        "df_filled.show()"
      ]
    },
    {
      "cell_type": "code",
      "execution_count": 84,
      "metadata": {
        "vscode": {
          "languageId": "plaintext"
        },
        "colab": {
          "base_uri": "https://localhost:8080/"
        },
        "id": "B7_mcR7ekAVn",
        "outputId": "c43caece-fad6-4fad-abf2-2ed93e7a04df"
      },
      "outputs": [
        {
          "output_type": "stream",
          "name": "stdout",
          "text": [
            "+---+-----+---+------+\n",
            "| id| name|age|salary|\n",
            "+---+-----+---+------+\n",
            "|  1|Alice| 25|  NULL|\n",
            "|  4|David| 35|  NULL|\n",
            "+---+-----+---+------+\n",
            "\n"
          ]
        }
      ],
      "source": [
        " df_null_salary = df.filter(col(\"salary\").isNull())\n",
        " df_null_salary.show()"
      ]
    },
    {
      "cell_type": "code",
      "execution_count": 85,
      "metadata": {
        "vscode": {
          "languageId": "plaintext"
        },
        "colab": {
          "base_uri": "https://localhost:8080/"
        },
        "id": "ctU8apRjkAVr",
        "outputId": "33e0ce88-3727-4fad-9b39-61e754e21b56"
      },
      "outputs": [
        {
          "output_type": "stream",
          "name": "stdout",
          "text": [
            "+---+-------+----+------+\n",
            "| id|   name| age|salary|\n",
            "+---+-------+----+------+\n",
            "|  2|   NULL|  30| 50000|\n",
            "|  3|Charlie|NULL| 60000|\n",
            "+---+-------+----+------+\n",
            "\n"
          ]
        }
      ],
      "source": [
        " df_not_null_salary = df.filter(col(\"salary\").isNotNull())\n",
        " df_not_null_salary.show()"
      ]
    },
    {
      "cell_type": "code",
      "execution_count": 86,
      "metadata": {
        "vscode": {
          "languageId": "plaintext"
        },
        "id": "DSewPKJTkAVt"
      },
      "outputs": [],
      "source": [
        "# df_replace = df.na.replace(None, \"Unknown\", subset=[\"name\"])\n",
        "# df_replace.show()\n"
      ]
    },
    {
      "cell_type": "code",
      "execution_count": 87,
      "metadata": {
        "vscode": {
          "languageId": "plaintext"
        },
        "colab": {
          "base_uri": "https://localhost:8080/"
        },
        "id": "ijV1gTt9kAVt",
        "outputId": "cc920809-d9a5-4399-cc09-49734035a655"
      },
      "outputs": [
        {
          "output_type": "stream",
          "name": "stdout",
          "text": [
            "+---+-------+----+------+\n",
            "| id|   name| age|salary|\n",
            "+---+-------+----+------+\n",
            "|  1|  Alice|  25| 40000|\n",
            "|  2|   NULL|  30| 50000|\n",
            "|  3|Charlie|NULL| 60000|\n",
            "|  4|  David|  35| 40000|\n",
            "+---+-------+----+------+\n",
            "\n"
          ]
        }
      ],
      "source": [
        "from pyspark.sql.functions import coalesce\n",
        "df_coalesce = df.withColumn(\"salary\", coalesce(col(\"salary\"), lit(40000)))\n",
        "df_coalesce.show()"
      ]
    },
    {
      "cell_type": "markdown",
      "source": [
        "### Window Function"
      ],
      "metadata": {
        "id": "pNeJDRm5wjmj"
      }
    },
    {
      "cell_type": "code",
      "execution_count": 88,
      "metadata": {
        "vscode": {
          "languageId": "plaintext"
        },
        "id": "O6QUkuZwkAVu"
      },
      "outputs": [],
      "source": [
        "from pyspark.sql.window import Window\n",
        "from pyspark.sql.functions import col, row_number, rank, dense_rank, lag, lead, sum, avg"
      ]
    },
    {
      "cell_type": "code",
      "execution_count": 89,
      "metadata": {
        "vscode": {
          "languageId": "plaintext"
        },
        "colab": {
          "base_uri": "https://localhost:8080/"
        },
        "id": "-amO2fo5kAVv",
        "outputId": "e2016fda-7c73-4fb7-e819-a7664a0c36aa"
      },
      "outputs": [
        {
          "output_type": "stream",
          "name": "stdout",
          "text": [
            "+-------------+----------+------+\n",
            "|employee_name|department|salary|\n",
            "+-------------+----------+------+\n",
            "|        James|     Sales|  3000|\n",
            "|      Michael|     Sales|  4600|\n",
            "|       Robert|     Sales|  4100|\n",
            "|        Maria|   Finance|  3000|\n",
            "|        James|     Sales|  3000|\n",
            "|        Scott|   Finance|  3300|\n",
            "|          Jen|   Finance|  3900|\n",
            "|         Jeff| Marketing|  3000|\n",
            "|        Kumar| Marketing|  2000|\n",
            "|         Saif|     Sales|  4100|\n",
            "+-------------+----------+------+\n",
            "\n"
          ]
        }
      ],
      "source": [
        "\n",
        "\n",
        "data = [(\"James\", \"Sales\", 3000), \\\n",
        "    (\"Michael\", \"Sales\", 4600),  \\\n",
        "    (\"Robert\", \"Sales\", 4100),   \\\n",
        "    (\"Maria\", \"Finance\", 3000),  \\\n",
        "    (\"James\", \"Sales\", 3000),    \\\n",
        "    (\"Scott\", \"Finance\", 3300),  \\\n",
        "    (\"Jen\", \"Finance\", 3900),    \\\n",
        "    (\"Jeff\", \"Marketing\", 3000), \\\n",
        "    (\"Kumar\", \"Marketing\", 2000),\\\n",
        "    (\"Saif\", \"Sales\", 4100) \\\n",
        "]\n",
        "\n",
        "schema = [\"employee_name\", \"department\", \"salary\"]\n",
        "df = spark.createDataFrame(data, schema=schema)\n",
        "\n",
        "df.show()"
      ]
    },
    {
      "cell_type": "code",
      "execution_count": 90,
      "metadata": {
        "vscode": {
          "languageId": "plaintext"
        },
        "colab": {
          "base_uri": "https://localhost:8080/"
        },
        "id": "ydpDsegUkAVv",
        "outputId": "3d225e1d-03a9-422e-f11b-cb071ba9d235"
      },
      "outputs": [
        {
          "output_type": "stream",
          "name": "stdout",
          "text": [
            "+-------------+----------+------+----------+\n",
            "|employee_name|department|salary|row_number|\n",
            "+-------------+----------+------+----------+\n",
            "|          Jen|   Finance|  3900|         1|\n",
            "|        Scott|   Finance|  3300|         2|\n",
            "|        Maria|   Finance|  3000|         3|\n",
            "|         Jeff| Marketing|  3000|         1|\n",
            "|        Kumar| Marketing|  2000|         2|\n",
            "|      Michael|     Sales|  4600|         1|\n",
            "|       Robert|     Sales|  4100|         2|\n",
            "|         Saif|     Sales|  4100|         3|\n",
            "|        James|     Sales|  3000|         4|\n",
            "|        James|     Sales|  3000|         5|\n",
            "+-------------+----------+------+----------+\n",
            "\n"
          ]
        }
      ],
      "source": [
        "window_spec = Window.partitionBy(\"department\").orderBy(col(\"salary\").desc())\n",
        "df_row_number = df.withColumn(\"row_number\", row_number().over(window_spec))\n",
        "df_row_number.show()"
      ]
    },
    {
      "cell_type": "code",
      "execution_count": 91,
      "metadata": {
        "vscode": {
          "languageId": "plaintext"
        },
        "colab": {
          "base_uri": "https://localhost:8080/"
        },
        "id": "rNXfJwQbkAVv",
        "outputId": "f484f490-cda3-444e-f0c7-105f6cc9fdb3"
      },
      "outputs": [
        {
          "output_type": "stream",
          "name": "stdout",
          "text": [
            "+-------------+----------+------+----+\n",
            "|employee_name|department|salary|rank|\n",
            "+-------------+----------+------+----+\n",
            "|          Jen|   Finance|  3900|   1|\n",
            "|        Scott|   Finance|  3300|   2|\n",
            "|        Maria|   Finance|  3000|   3|\n",
            "|         Jeff| Marketing|  3000|   1|\n",
            "|        Kumar| Marketing|  2000|   2|\n",
            "|      Michael|     Sales|  4600|   1|\n",
            "|       Robert|     Sales|  4100|   2|\n",
            "|         Saif|     Sales|  4100|   2|\n",
            "|        James|     Sales|  3000|   4|\n",
            "|        James|     Sales|  3000|   4|\n",
            "+-------------+----------+------+----+\n",
            "\n"
          ]
        }
      ],
      "source": [
        " df_rank = df.withColumn(\"rank\", rank().over(window_spec))\n",
        " df_rank.show()"
      ]
    },
    {
      "cell_type": "code",
      "execution_count": 92,
      "metadata": {
        "vscode": {
          "languageId": "plaintext"
        },
        "colab": {
          "base_uri": "https://localhost:8080/"
        },
        "id": "voj0IbkekAVv",
        "outputId": "77031a08-8531-460f-e4e6-5230134d06d8"
      },
      "outputs": [
        {
          "output_type": "stream",
          "name": "stdout",
          "text": [
            "+-------------+----------+------+----------+\n",
            "|employee_name|department|salary|dense_rank|\n",
            "+-------------+----------+------+----------+\n",
            "|          Jen|   Finance|  3900|         1|\n",
            "|        Scott|   Finance|  3300|         2|\n",
            "|        Maria|   Finance|  3000|         3|\n",
            "|         Jeff| Marketing|  3000|         1|\n",
            "|        Kumar| Marketing|  2000|         2|\n",
            "|      Michael|     Sales|  4600|         1|\n",
            "|       Robert|     Sales|  4100|         2|\n",
            "|         Saif|     Sales|  4100|         2|\n",
            "|        James|     Sales|  3000|         3|\n",
            "|        James|     Sales|  3000|         3|\n",
            "+-------------+----------+------+----------+\n",
            "\n"
          ]
        }
      ],
      "source": [
        "df_dense_rank = df.withColumn(\"dense_rank\", dense_rank().over(window_spec))\n",
        "df_dense_rank.show()"
      ]
    },
    {
      "cell_type": "code",
      "execution_count": 93,
      "metadata": {
        "vscode": {
          "languageId": "plaintext"
        },
        "colab": {
          "base_uri": "https://localhost:8080/"
        },
        "id": "jdo3MNfPkAVw",
        "outputId": "fbdeeec4-b67b-4c0b-f1eb-32b8af6e5ebe"
      },
      "outputs": [
        {
          "output_type": "stream",
          "name": "stdout",
          "text": [
            "+-------------+----------+------+------------+\n",
            "|employee_name|department|salary|total_salary|\n",
            "+-------------+----------+------+------------+\n",
            "|          Jen|   Finance|  3900|        3900|\n",
            "|        Scott|   Finance|  3300|        7200|\n",
            "|        Maria|   Finance|  3000|       10200|\n",
            "|         Jeff| Marketing|  3000|        3000|\n",
            "|        Kumar| Marketing|  2000|        5000|\n",
            "|      Michael|     Sales|  4600|        4600|\n",
            "|       Robert|     Sales|  4100|       12800|\n",
            "|         Saif|     Sales|  4100|       12800|\n",
            "|        James|     Sales|  3000|       18800|\n",
            "|        James|     Sales|  3000|       18800|\n",
            "+-------------+----------+------+------------+\n",
            "\n"
          ]
        }
      ],
      "source": [
        "df_sum = df.withColumn(\"total_salary\", sum(\"salary\").over(window_spec))\n",
        "df_sum.show()"
      ]
    },
    {
      "cell_type": "code",
      "source": [
        "from pyspark.sql.functions import percent_rank\n",
        "df_sum = df.withColumn(\"percent_rank\", percent_rank().over(window_spec))\n",
        "df_sum.show()"
      ],
      "metadata": {
        "colab": {
          "base_uri": "https://localhost:8080/"
        },
        "id": "1ZT5W4qMvMh9",
        "outputId": "5cb80bbb-8266-44b8-bc11-2990772be77a"
      },
      "execution_count": 94,
      "outputs": [
        {
          "output_type": "stream",
          "name": "stdout",
          "text": [
            "+-------------+----------+------+------------+\n",
            "|employee_name|department|salary|percent_rank|\n",
            "+-------------+----------+------+------------+\n",
            "|          Jen|   Finance|  3900|         0.0|\n",
            "|        Scott|   Finance|  3300|         0.5|\n",
            "|        Maria|   Finance|  3000|         1.0|\n",
            "|         Jeff| Marketing|  3000|         0.0|\n",
            "|        Kumar| Marketing|  2000|         1.0|\n",
            "|      Michael|     Sales|  4600|         0.0|\n",
            "|       Robert|     Sales|  4100|        0.25|\n",
            "|         Saif|     Sales|  4100|        0.25|\n",
            "|        James|     Sales|  3000|        0.75|\n",
            "|        James|     Sales|  3000|        0.75|\n",
            "+-------------+----------+------+------------+\n",
            "\n"
          ]
        }
      ]
    },
    {
      "cell_type": "code",
      "source": [
        "windowSpecAgg  = Window.partitionBy(\"department\")\n",
        "df.withColumn(\"row\",row_number().over(window_spec)) \\\n",
        "  .withColumn(\"avg\", avg(col(\"salary\")).over(windowSpecAgg)) \\\n",
        "  .withColumn(\"sum\", sum(col(\"salary\")).over(windowSpecAgg)) \\\n",
        "  .withColumn(\"min\", min(col(\"salary\")).over(windowSpecAgg)) \\\n",
        "  .withColumn(\"max\", max(col(\"salary\")).over(windowSpecAgg)) \\\n",
        "  .where(col(\"row\")==1).select(\"department\",\"avg\",\"sum\",\"min\",\"max\") \\\n",
        "  .show()"
      ],
      "metadata": {
        "colab": {
          "base_uri": "https://localhost:8080/"
        },
        "id": "f8mfg-_-vns3",
        "outputId": "64d434e8-ec90-43da-8d95-3168e5ea8b5e"
      },
      "execution_count": 95,
      "outputs": [
        {
          "output_type": "stream",
          "name": "stdout",
          "text": [
            "+----------+------+-----+----+----+\n",
            "|department|   avg|  sum| min| max|\n",
            "+----------+------+-----+----+----+\n",
            "|   Finance|3400.0|10200|3000|3900|\n",
            "| Marketing|2500.0| 5000|2000|3000|\n",
            "|     Sales|3760.0|18800|3000|4600|\n",
            "+----------+------+-----+----+----+\n",
            "\n"
          ]
        }
      ]
    },
    {
      "cell_type": "code",
      "execution_count": 96,
      "metadata": {
        "vscode": {
          "languageId": "plaintext"
        },
        "colab": {
          "base_uri": "https://localhost:8080/"
        },
        "id": "6ZSH-p_FkAVw",
        "outputId": "768c7ea0-b7d8-40b0-c327-24ca5be1f63f"
      },
      "outputs": [
        {
          "output_type": "stream",
          "name": "stdout",
          "text": [
            "+-------------+----------+------+-----------+\n",
            "|employee_name|department|salary|prev_salary|\n",
            "+-------------+----------+------+-----------+\n",
            "|          Jen|   Finance|  3900|       NULL|\n",
            "|        Scott|   Finance|  3300|       3900|\n",
            "|        Maria|   Finance|  3000|       3300|\n",
            "|         Jeff| Marketing|  3000|       NULL|\n",
            "|        Kumar| Marketing|  2000|       3000|\n",
            "|      Michael|     Sales|  4600|       NULL|\n",
            "|       Robert|     Sales|  4100|       4600|\n",
            "|         Saif|     Sales|  4100|       4100|\n",
            "|        James|     Sales|  3000|       4100|\n",
            "|        James|     Sales|  3000|       3000|\n",
            "+-------------+----------+------+-----------+\n",
            "\n"
          ]
        }
      ],
      "source": [
        "df_lag = df.withColumn(\"prev_salary\", lag(\"salary\", 1).over(window_spec))\n",
        "df_lag.show()"
      ]
    },
    {
      "cell_type": "code",
      "execution_count": 96,
      "metadata": {
        "vscode": {
          "languageId": "plaintext"
        },
        "id": "YhF9BRTCkAVw"
      },
      "outputs": [],
      "source": []
    },
    {
      "cell_type": "markdown",
      "source": [
        "### udf"
      ],
      "metadata": {
        "id": "PrGGuzmDw3jh"
      }
    },
    {
      "cell_type": "code",
      "execution_count": 97,
      "metadata": {
        "vscode": {
          "languageId": "plaintext"
        },
        "id": "14PWFj5kkAVx"
      },
      "outputs": [],
      "source": [
        "from pyspark.sql.functions import udf\n",
        "from pyspark.sql.types import StringType, IntegerType, FloatType"
      ]
    },
    {
      "cell_type": "code",
      "execution_count": 99,
      "metadata": {
        "vscode": {
          "languageId": "plaintext"
        },
        "colab": {
          "base_uri": "https://localhost:8080/"
        },
        "id": "1A6e8iockAVz",
        "outputId": "9e6c4f24-a0ce-4560-aede-8df14a81de33"
      },
      "outputs": [
        {
          "output_type": "stream",
          "name": "stdout",
          "text": [
            "+-------------+----------+------+----------+\n",
            "|employee_name|department|salary|name_upper|\n",
            "+-------------+----------+------+----------+\n",
            "|        James|     Sales|  3000|     JAMES|\n",
            "|      Michael|     Sales|  4600|   MICHAEL|\n",
            "|       Robert|     Sales|  4100|    ROBERT|\n",
            "|        Maria|   Finance|  3000|     MARIA|\n",
            "|        James|     Sales|  3000|     JAMES|\n",
            "|        Scott|   Finance|  3300|     SCOTT|\n",
            "|          Jen|   Finance|  3900|       JEN|\n",
            "|         Jeff| Marketing|  3000|      JEFF|\n",
            "|        Kumar| Marketing|  2000|     KUMAR|\n",
            "|         Saif|     Sales|  4100|      SAIF|\n",
            "+-------------+----------+------+----------+\n",
            "\n"
          ]
        }
      ],
      "source": [
        "def to_upper(name):\n",
        "    return name.upper()\n",
        "# Register UDF\n",
        "to_upper_udf = udf(to_upper, StringType())\n",
        "# Apply UDF\n",
        "df_upper = df.withColumn(\"name_upper\", to_upper_udf(df[\"employee_name\"]))\n",
        "df_upper.show()"
      ]
    },
    {
      "cell_type": "markdown",
      "source": [
        "### Data Write"
      ],
      "metadata": {
        "id": "HVBIMzkww6GH"
      }
    },
    {
      "cell_type": "code",
      "execution_count": 100,
      "metadata": {
        "vscode": {
          "languageId": "plaintext"
        },
        "id": "CiHefxUIkAV1"
      },
      "outputs": [],
      "source": [
        "df.write.csv(\"output/csv_folder/roj.csv\", header=True, mode=\"overwrite\")"
      ]
    },
    {
      "cell_type": "markdown",
      "source": [
        "### Data Read"
      ],
      "metadata": {
        "id": "hgiU8Pz6swx_"
      }
    },
    {
      "cell_type": "code",
      "execution_count": 101,
      "metadata": {
        "vscode": {
          "languageId": "plaintext"
        },
        "id": "NoPQ_oELkAV3",
        "colab": {
          "base_uri": "https://localhost:8080/"
        },
        "outputId": "afe062a7-7bca-4e71-e545-7792db0c03d8"
      },
      "outputs": [
        {
          "output_type": "stream",
          "name": "stdout",
          "text": [
            "+---------+--------+------------------+-----------+--------------+----------+----------+-------------+------------------+\n",
            "|longitude|latitude|housing_median_age|total_rooms|total_bedrooms|population|households|median_income|median_house_value|\n",
            "+---------+--------+------------------+-----------+--------------+----------+----------+-------------+------------------+\n",
            "|  -114.31|   34.19|              15.0|     5612.0|        1283.0|    1015.0|     472.0|       1.4936|           66900.0|\n",
            "|  -114.47|    34.4|              19.0|     7650.0|        1901.0|    1129.0|     463.0|         1.82|           80100.0|\n",
            "|  -114.56|   33.69|              17.0|      720.0|         174.0|     333.0|     117.0|       1.6509|           85700.0|\n",
            "|  -114.57|   33.64|              14.0|     1501.0|         337.0|     515.0|     226.0|       3.1917|           73400.0|\n",
            "|  -114.57|   33.57|              20.0|     1454.0|         326.0|     624.0|     262.0|        1.925|           65500.0|\n",
            "+---------+--------+------------------+-----------+--------------+----------+----------+-------------+------------------+\n",
            "only showing top 5 rows\n",
            "\n",
            "root\n",
            " |-- longitude: double (nullable = true)\n",
            " |-- latitude: double (nullable = true)\n",
            " |-- housing_median_age: double (nullable = true)\n",
            " |-- total_rooms: double (nullable = true)\n",
            " |-- total_bedrooms: double (nullable = true)\n",
            " |-- population: double (nullable = true)\n",
            " |-- households: double (nullable = true)\n",
            " |-- median_income: double (nullable = true)\n",
            " |-- median_house_value: double (nullable = true)\n",
            "\n"
          ]
        }
      ],
      "source": [
        "df_csv = spark.read.format(\"csv\").option(\"header\", \"true\").option(\"inferSchema\", \"true\").load(\"/content/sample_data/california_housing_train.csv\")\n",
        "\n",
        "df_csv.show(5)\n",
        "df_csv.printSchema()"
      ]
    }
  ],
  "metadata": {
    "language_info": {
      "name": "python"
    },
    "colab": {
      "provenance": [],
      "include_colab_link": true
    },
    "kernelspec": {
      "name": "python3",
      "display_name": "Python 3"
    }
  },
  "nbformat": 4,
  "nbformat_minor": 0
}