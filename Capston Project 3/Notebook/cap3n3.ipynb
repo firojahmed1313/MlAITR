{
 "cells": [
  {
   "cell_type": "markdown",
   "metadata": {},
   "source": [
    "## Import the PYCARET library"
   ]
  },
  {
   "cell_type": "code",
   "execution_count": null,
   "metadata": {},
   "outputs": [],
   "source": [
    "import numpy as np \n",
    "import pandas as pd \n",
    "import matplotlib.pyplot as plt\n",
    "import seaborn as sys\n",
    "from pycaret.classification import *\n"
   ]
  },
  {
   "cell_type": "code",
   "execution_count": null,
   "metadata": {},
   "outputs": [],
   "source": [
    "data= pd.read_csv(\"../5_OutputData/OUTPUT.csv\")\n",
    "data.sample(8)"
   ]
  },
  {
   "cell_type": "markdown",
   "metadata": {},
   "source": [
    "## "
   ]
  },
  {
   "cell_type": "markdown",
   "metadata": {},
   "source": [
    "## Setting up PyCaret for Classification Task"
   ]
  },
  {
   "cell_type": "code",
   "execution_count": null,
   "metadata": {},
   "outputs": [],
   "source": [
    "clf_setup = setup(\n",
    "    data,\n",
    "    target=\"price_range\",  \n",
    "    train_size=0.8,\n",
    "    normalize=True,\n",
    "    session_id=42,\n",
    "    remove_multicollinearity=True,\n",
    "    fix_imbalance=True\n",
    ")"
   ]
  },
  {
   "cell_type": "markdown",
   "metadata": {},
   "source": [
    "### check available models\n"
   ]
  },
  {
   "cell_type": "code",
   "execution_count": null,
   "metadata": {},
   "outputs": [],
   "source": [
    "\n",
    "models()"
   ]
  },
  {
   "cell_type": "markdown",
   "metadata": {},
   "source": [
    "## Decision Tree Model"
   ]
  },
  {
   "cell_type": "code",
   "execution_count": null,
   "metadata": {},
   "outputs": [],
   "source": [
    "accList=[]"
   ]
  },
  {
   "cell_type": "code",
   "execution_count": null,
   "metadata": {},
   "outputs": [],
   "source": [
    "dt_model = create_model('dt')\n",
    "dt_data = pull()\n",
    "print(dt_model)"
   ]
  },
  {
   "cell_type": "code",
   "execution_count": null,
   "metadata": {},
   "outputs": [],
   "source": [
    "accList.append(['DecisionTreeClassifier',dt_data['Accuracy']['Mean']])"
   ]
  },
  {
   "cell_type": "code",
   "execution_count": null,
   "metadata": {},
   "outputs": [],
   "source": [
    "p=[\"#6aa2de\",\"#9d8df2\",\"#e1a9e8\",\"#e8a9c0\",\"#f29d7e\",\"#deb531\",\"#a6c716\",\"#4bc716\",\"#16c774\",\"#0edeed\"]\n",
    "plt.figure(figsize=(16,5))\n",
    "plt.title(\"Comparison of Decision Tree Classifier\")\n",
    "sys.barplot(dt_data.Accuracy[:-1],palette =p)\n",
    "plt.xticks(rotation=90)\n",
    "plt.show()"
   ]
  },
  {
   "cell_type": "code",
   "execution_count": null,
   "metadata": {},
   "outputs": [],
   "source": [
    "evaluate_model(dt_model)"
   ]
  },
  {
   "cell_type": "markdown",
   "metadata": {},
   "source": [
    "## Fine-tune model parameters"
   ]
  },
  {
   "cell_type": "code",
   "execution_count": null,
   "metadata": {},
   "outputs": [],
   "source": [
    "tuned_dt = tune_model(dt_model, optimize='Accuracy',\n",
    "                      custom_grid={'max_depth': [3, 5, 7, 10],\n",
    "                                   'min_samples_split': [2, 5, 10],\n",
    "                                   'criterion': ['gini', 'entropy']\n",
    "                                  }\n",
    "                     )\n",
    "\n",
    "print(tuned_dt)\n",
    "dt_data_tun=pull()"
   ]
  },
  {
   "cell_type": "code",
   "execution_count": null,
   "metadata": {},
   "outputs": [],
   "source": [
    "p=[\"#6aa2de\",\"#9d8df2\",\"#e1a9e8\",\"#e8a9c0\",\"#f29d7e\",\"#deb531\",\"#a6c716\",\"#4bc716\",\"#16c774\",\"#0edeed\"]\n",
    "plt.figure(figsize=(16,5))\n",
    "plt.title(\"Comparison of  Decision Tree Classifier with Tuning\")\n",
    "sys.barplot(dt_data_tun.Accuracy[:-1],palette =p)\n",
    "plt.xticks(rotation=90)\n",
    "plt.show()"
   ]
  },
  {
   "cell_type": "code",
   "execution_count": null,
   "metadata": {},
   "outputs": [],
   "source": [
    "accList.append(['Decision Tree Classifier with Tuning',dt_data_tun['Accuracy']['Mean']])"
   ]
  },
  {
   "cell_type": "code",
   "execution_count": null,
   "metadata": {},
   "outputs": [],
   "source": [
    "df=pd.DataFrame(accList,columns=['Model Name','Accuracy'])\n",
    "df=df.sort_values(by='Accuracy')\n",
    "df\n",
    "p=[\"#6aa2de\",\"#4bc716\"]\n",
    "plt.title(\"Comparison of Decision Tree Classifier Model and Decision Tree Classifier with Tuning\")\n",
    "ax=sys.barplot(x=df['Model Name'],y=df['Accuracy'],palette =p)\n",
    "plt.xticks(rotation=90)\n",
    "for i in ax.containers:\n",
    "    ax.bar_label(i, fontsize=10)"
   ]
  },
  {
   "cell_type": "code",
   "execution_count": null,
   "metadata": {},
   "outputs": [],
   "source": [
    "evaluate_model(tuned_dt)\n"
   ]
  },
  {
   "cell_type": "code",
   "execution_count": null,
   "metadata": {},
   "outputs": [],
   "source": [
    "predictions = predict_model(tuned_dt)\n",
    "predictions.head()"
   ]
  },
  {
   "cell_type": "markdown",
   "metadata": {},
   "source": [
    "## Compare the performance"
   ]
  },
  {
   "cell_type": "code",
   "execution_count": null,
   "metadata": {},
   "outputs": [],
   "source": [
    "best_model = compare_models()\n",
    "dt_results = pull()\n",
    "best_model"
   ]
  },
  {
   "cell_type": "code",
   "execution_count": null,
   "metadata": {},
   "outputs": [],
   "source": [
    "p=[\"#6aa2de\",\"#9d8df2\",\"#e1a9e8\",\"#e8a9c0\",\"#f29d7e\",\"#deb531\",\"#a6c716\",\"#4bc716\",\"#16c774\",\"#0edeed\"]\n",
    "plt.figure(figsize=(16,5))\n",
    "plt.title(\"Comparison of Classification Models\")\n",
    "sys.barplot(dt_results, x=\"Model\", y=\"Accuracy\",palette =p)\n",
    "plt.title(\"Feature Importance\")\n",
    "plt.xticks(rotation=90)\n",
    "plt.show()"
   ]
  },
  {
   "cell_type": "code",
   "execution_count": null,
   "metadata": {},
   "outputs": [],
   "source": [
    "plot_model(best_model, plot='confusion_matrix')"
   ]
  },
  {
   "cell_type": "code",
   "execution_count": null,
   "metadata": {},
   "outputs": [],
   "source": [
    "plot_model(best_model, plot='feature')"
   ]
  },
  {
   "cell_type": "code",
   "execution_count": null,
   "metadata": {},
   "outputs": [],
   "source": []
  }
 ],
 "metadata": {
  "kernelspec": {
   "display_name": "Python 3 (ipykernel)",
   "language": "python",
   "name": "python3"
  },
  "language_info": {
   "codemirror_mode": {
    "name": "ipython",
    "version": 3
   },
   "file_extension": ".py",
   "mimetype": "text/x-python",
   "name": "python",
   "nbconvert_exporter": "python",
   "pygments_lexer": "ipython3",
   "version": "3.11.4"
  },
  "vscode": {
   "interpreter": {
    "hash": "5238573367df39f7286bb46f9ff5f08f63a01a80960060ce41e3c79b190280fa"
   }
  }
 },
 "nbformat": 4,
 "nbformat_minor": 4
}
