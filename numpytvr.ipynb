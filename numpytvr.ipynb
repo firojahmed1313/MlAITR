{
  "nbformat": 4,
  "nbformat_minor": 0,
  "metadata": {
    "colab": {
      "provenance": [],
      "include_colab_link": true
    },
    "kernelspec": {
      "name": "python3",
      "display_name": "Python 3"
    },
    "language_info": {
      "name": "python"
    }
  },
  "cells": [
    {
      "cell_type": "markdown",
      "metadata": {
        "id": "view-in-github",
        "colab_type": "text"
      },
      "source": [
        "<a href=\"https://colab.research.google.com/github/firojahmed1313/MlAITR/blob/main/numpytvr.ipynb\" target=\"_parent\"><img src=\"https://colab.research.google.com/assets/colab-badge.svg\" alt=\"Open In Colab\"/></a>"
      ]
    },
    {
      "cell_type": "code",
      "execution_count": 1,
      "metadata": {
        "id": "tzYObkroAZEu"
      },
      "outputs": [],
      "source": [
        "import numpy as np"
      ]
    },
    {
      "cell_type": "markdown",
      "source": [
        "# **Creating** **Arrays**"
      ],
      "metadata": {
        "id": "ig_u0gcwCGJx"
      }
    },
    {
      "cell_type": "code",
      "source": [
        "arr = np.array([1, 2, 3]) # Converts Python lists or tuples into NumPy arrays.\n",
        "print(arr)"
      ],
      "metadata": {
        "id": "q54suyPiBp0k",
        "outputId": "168a6e90-d184-42a2-ae05-85c47a7c0f40",
        "colab": {
          "base_uri": "https://localhost:8080/"
        }
      },
      "execution_count": 3,
      "outputs": [
        {
          "output_type": "stream",
          "name": "stdout",
          "text": [
            "[1 2 3]\n"
          ]
        }
      ]
    },
    {
      "cell_type": "code",
      "source": [
        "arr1 = np.zeros((2, 3))\n",
        "print(arr1)"
      ],
      "metadata": {
        "id": "qyZHOfleB1vA",
        "outputId": "3fe284ba-0a6a-4ce1-b3a4-da2ccab8d766",
        "colab": {
          "base_uri": "https://localhost:8080/"
        }
      },
      "execution_count": 4,
      "outputs": [
        {
          "output_type": "stream",
          "name": "stdout",
          "text": [
            "[[0. 0. 0.]\n",
            " [0. 0. 0.]]\n"
          ]
        }
      ]
    },
    {
      "cell_type": "code",
      "source": [
        "arr3 = np.ones((3, 3))\n",
        "print(arr3)\n"
      ],
      "metadata": {
        "id": "smJvf28hCbHE",
        "outputId": "c0b99ca5-28e1-45c8-f21b-ab40a1930511",
        "colab": {
          "base_uri": "https://localhost:8080/"
        }
      },
      "execution_count": 5,
      "outputs": [
        {
          "output_type": "stream",
          "name": "stdout",
          "text": [
            "[[1. 1. 1.]\n",
            " [1. 1. 1.]\n",
            " [1. 1. 1.]]\n"
          ]
        }
      ]
    },
    {
      "cell_type": "code",
      "source": [
        "arr4 = np.arange(0, 10, 2) # Creates arrays with evenly spaced values (like Python's range).\n",
        "print(arr4)"
      ],
      "metadata": {
        "id": "b4Y1oI8BCj2Y",
        "outputId": "a71eae06-9472-4b70-bd13-72adbb8e12ad",
        "colab": {
          "base_uri": "https://localhost:8080/"
        }
      },
      "execution_count": 6,
      "outputs": [
        {
          "output_type": "stream",
          "name": "stdout",
          "text": [
            "[0 2 4 6 8]\n"
          ]
        }
      ]
    },
    {
      "cell_type": "code",
      "source": [
        "arr5 = np.linspace(0, 1, 5) # Creates arrays with evenly spaced numbers between two values (inclusive).\n",
        "print(arr5)\n"
      ],
      "metadata": {
        "id": "L7CWev_6C2oe",
        "outputId": "c7d50c79-fa5b-4d05-8fbd-a9be9c196420",
        "colab": {
          "base_uri": "https://localhost:8080/"
        }
      },
      "execution_count": 7,
      "outputs": [
        {
          "output_type": "stream",
          "name": "stdout",
          "text": [
            "[0.   0.25 0.5  0.75 1.  ]\n"
          ]
        }
      ]
    },
    {
      "cell_type": "code",
      "source": [
        "arr6 = np.empty((2, 3)) #Creates an array without initializing values (faster than zeros/ones but contains arbitrary values).\n",
        "print(arr6)"
      ],
      "metadata": {
        "id": "iDLB9u2gDJ1I",
        "outputId": "cad81a7b-6a8d-4afd-ab78-525e57617f29",
        "colab": {
          "base_uri": "https://localhost:8080/"
        }
      },
      "execution_count": 14,
      "outputs": [
        {
          "output_type": "stream",
          "name": "stdout",
          "text": [
            "[[0. 0. 0.]\n",
            " [0. 0. 0.]]\n"
          ]
        }
      ]
    },
    {
      "cell_type": "code",
      "source": [
        "arr7 = np.full((2, 3), 7) #Creates an array filled with a specified value.\n",
        "print(arr7)"
      ],
      "metadata": {
        "id": "s5t_LyQhDm2A",
        "outputId": "3d92f740-972a-423e-a2f8-f2881856ccda",
        "colab": {
          "base_uri": "https://localhost:8080/"
        }
      },
      "execution_count": 15,
      "outputs": [
        {
          "output_type": "stream",
          "name": "stdout",
          "text": [
            "[[7 7 7]\n",
            " [7 7 7]]\n"
          ]
        }
      ]
    },
    {
      "cell_type": "code",
      "source": [
        "arr8 = np.eye(3) #Creates an identity matrix (diagonal of ones).\n",
        "print(arr8)"
      ],
      "metadata": {
        "id": "eZGrD9bqDytg",
        "outputId": "a22fe8fe-345a-480b-b938-fee63c9c9216",
        "colab": {
          "base_uri": "https://localhost:8080/"
        }
      },
      "execution_count": 16,
      "outputs": [
        {
          "output_type": "stream",
          "name": "stdout",
          "text": [
            "[[1. 0. 0.]\n",
            " [0. 1. 0.]\n",
            " [0. 0. 1.]]\n"
          ]
        }
      ]
    },
    {
      "cell_type": "code",
      "source": [
        "arr9 = np.random.rand(2, 3) # Generates arrays with random values from a uniform distribution between 0 and 1.\n",
        "print(arr9)"
      ],
      "metadata": {
        "id": "T5B77uZ0D8sB",
        "outputId": "b7e288ac-3f55-4010-b93e-0b22ae632086",
        "colab": {
          "base_uri": "https://localhost:8080/"
        }
      },
      "execution_count": 17,
      "outputs": [
        {
          "output_type": "stream",
          "name": "stdout",
          "text": [
            "[[0.22153134 0.86128031 0.27690964]\n",
            " [0.53546054 0.99890971 0.90868658]]\n"
          ]
        }
      ]
    },
    {
      "cell_type": "code",
      "source": [
        "arr10 = np.random.randint(1, 10, (3, 3)) # Generates arrays with random integers from a uniform distribution between low (inclusive) and high (exclusive).\n",
        "print(arr10)"
      ],
      "metadata": {
        "id": "9yyCE-mFEHpW",
        "outputId": "47c4c3fc-2c0e-482b-af7c-fb37379ce845",
        "colab": {
          "base_uri": "https://localhost:8080/"
        }
      },
      "execution_count": 19,
      "outputs": [
        {
          "output_type": "stream",
          "name": "stdout",
          "text": [
            "[[3 9 7]\n",
            " [1 2 2]\n",
            " [9 2 9]]\n"
          ]
        }
      ]
    },
    {
      "cell_type": "markdown",
      "source": [
        "# ***Array Attributes***"
      ],
      "metadata": {
        "id": "zLq1nyA-Edc6"
      }
    },
    {
      "cell_type": "code",
      "source": [],
      "metadata": {
        "id": "ejBpiGEvEtbT"
      },
      "execution_count": null,
      "outputs": []
    }
  ]
}