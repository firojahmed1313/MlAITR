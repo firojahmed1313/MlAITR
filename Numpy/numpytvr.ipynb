{
  "nbformat": 4,
  "nbformat_minor": 0,
  "metadata": {
    "colab": {
      "provenance": []
    },
    "kernelspec": {
      "name": "python3",
      "display_name": "Python 3"
    },
    "language_info": {
      "name": "python"
    }
  },
  "cells": [
    {
      "cell_type": "code",
      "execution_count": 175,
      "metadata": {
        "id": "tzYObkroAZEu"
      },
      "outputs": [],
      "source": [
        "import numpy as np"
      ]
    },
    {
      "cell_type": "markdown",
      "source": [
        "# **Creating** **Arrays**"
      ],
      "metadata": {
        "id": "ig_u0gcwCGJx"
      }
    },
    {
      "cell_type": "code",
      "source": [
        "arr = np.array([1, 2, 3]) # Converts Python lists or tuples into NumPy arrays.\n",
        "print(arr)"
      ],
      "metadata": {
        "id": "q54suyPiBp0k",
        "outputId": "c69360a3-30a2-431f-b542-9d04604abeae",
        "colab": {
          "base_uri": "https://localhost:8080/"
        }
      },
      "execution_count": 176,
      "outputs": [
        {
          "output_type": "stream",
          "name": "stdout",
          "text": [
            "[1 2 3]\n"
          ]
        }
      ]
    },
    {
      "cell_type": "code",
      "source": [
        "arr1 = np.zeros((2, 3))\n",
        "print(arr1)"
      ],
      "metadata": {
        "id": "qyZHOfleB1vA",
        "outputId": "78aeeaf9-afb6-439a-a7f1-4c64703f823d",
        "colab": {
          "base_uri": "https://localhost:8080/"
        }
      },
      "execution_count": 177,
      "outputs": [
        {
          "output_type": "stream",
          "name": "stdout",
          "text": [
            "[[0. 0. 0.]\n",
            " [0. 0. 0.]]\n"
          ]
        }
      ]
    },
    {
      "cell_type": "code",
      "source": [
        "arr3 = np.ones((3, 3))\n",
        "print(arr3)\n"
      ],
      "metadata": {
        "id": "smJvf28hCbHE",
        "outputId": "0d75a8e8-f406-4ccf-d5dd-9dfc00a71e4e",
        "colab": {
          "base_uri": "https://localhost:8080/"
        }
      },
      "execution_count": 178,
      "outputs": [
        {
          "output_type": "stream",
          "name": "stdout",
          "text": [
            "[[1. 1. 1.]\n",
            " [1. 1. 1.]\n",
            " [1. 1. 1.]]\n"
          ]
        }
      ]
    },
    {
      "cell_type": "code",
      "source": [
        "arr4 = np.arange(0, 10, 2) # Creates arrays with evenly spaced values (like Python's range).\n",
        "print(arr4)"
      ],
      "metadata": {
        "id": "b4Y1oI8BCj2Y",
        "outputId": "7b0cc164-0b24-46a7-e2c1-4a1ffd053211",
        "colab": {
          "base_uri": "https://localhost:8080/"
        }
      },
      "execution_count": 179,
      "outputs": [
        {
          "output_type": "stream",
          "name": "stdout",
          "text": [
            "[0 2 4 6 8]\n"
          ]
        }
      ]
    },
    {
      "cell_type": "code",
      "source": [
        "arr5 = np.linspace(0, 1, 5) # Creates arrays with evenly spaced numbers between two values (inclusive).\n",
        "print(arr5)\n"
      ],
      "metadata": {
        "id": "L7CWev_6C2oe",
        "outputId": "aa25b43b-5ed7-4223-d8b8-f02ac27bf9c3",
        "colab": {
          "base_uri": "https://localhost:8080/"
        }
      },
      "execution_count": 180,
      "outputs": [
        {
          "output_type": "stream",
          "name": "stdout",
          "text": [
            "[0.   0.25 0.5  0.75 1.  ]\n"
          ]
        }
      ]
    },
    {
      "cell_type": "code",
      "source": [
        "arr6 = np.empty((2, 3)) #Creates an array without initializing values (faster than zeros/ones but contains arbitrary values).\n",
        "print(arr6)"
      ],
      "metadata": {
        "id": "iDLB9u2gDJ1I",
        "outputId": "40cd7dff-dfac-4a43-cd64-b09a486d6376",
        "colab": {
          "base_uri": "https://localhost:8080/"
        }
      },
      "execution_count": 181,
      "outputs": [
        {
          "output_type": "stream",
          "name": "stdout",
          "text": [
            "[[0. 0. 0.]\n",
            " [0. 0. 0.]]\n"
          ]
        }
      ]
    },
    {
      "cell_type": "code",
      "source": [
        "arr7 = np.full((2, 3), 7) #Creates an array filled with a specified value.\n",
        "print(arr7)"
      ],
      "metadata": {
        "id": "s5t_LyQhDm2A",
        "outputId": "3088d9ed-badd-4ff6-cfad-5ca0c284cb9f",
        "colab": {
          "base_uri": "https://localhost:8080/"
        }
      },
      "execution_count": 182,
      "outputs": [
        {
          "output_type": "stream",
          "name": "stdout",
          "text": [
            "[[7 7 7]\n",
            " [7 7 7]]\n"
          ]
        }
      ]
    },
    {
      "cell_type": "code",
      "source": [
        "arr8 = np.eye(3) #Creates an identity matrix (diagonal of ones).\n",
        "print(arr8)"
      ],
      "metadata": {
        "id": "eZGrD9bqDytg",
        "outputId": "958b5ad1-cb52-4ac5-dcde-7f8d9ba1f67a",
        "colab": {
          "base_uri": "https://localhost:8080/"
        }
      },
      "execution_count": 183,
      "outputs": [
        {
          "output_type": "stream",
          "name": "stdout",
          "text": [
            "[[1. 0. 0.]\n",
            " [0. 1. 0.]\n",
            " [0. 0. 1.]]\n"
          ]
        }
      ]
    },
    {
      "cell_type": "code",
      "source": [
        "arr9 = np.random.rand(2, 3) # Generates arrays with random values from a uniform distribution between 0 and 1.\n",
        "print(arr9)"
      ],
      "metadata": {
        "id": "T5B77uZ0D8sB",
        "outputId": "e3b8da61-bf29-4589-b786-22dc20c82e78",
        "colab": {
          "base_uri": "https://localhost:8080/"
        }
      },
      "execution_count": 184,
      "outputs": [
        {
          "output_type": "stream",
          "name": "stdout",
          "text": [
            "[[0.1074714  0.78544503 0.11249796]\n",
            " [0.72422824 0.38565869 0.07337839]]\n"
          ]
        }
      ]
    },
    {
      "cell_type": "code",
      "source": [
        "arr10 = np.random.randint(1, 10, (3, 3)) # Generates arrays with random integers from a uniform distribution between low (inclusive) and high (exclusive).\n",
        "print(arr10)"
      ],
      "metadata": {
        "id": "9yyCE-mFEHpW",
        "outputId": "a9068665-ba3f-486e-b075-9fc24b167057",
        "colab": {
          "base_uri": "https://localhost:8080/"
        }
      },
      "execution_count": 185,
      "outputs": [
        {
          "output_type": "stream",
          "name": "stdout",
          "text": [
            "[[2 3 6]\n",
            " [4 8 1]\n",
            " [6 2 6]]\n"
          ]
        }
      ]
    },
    {
      "cell_type": "markdown",
      "source": [
        "# ***Array Attributes***"
      ],
      "metadata": {
        "id": "zLq1nyA-Edc6"
      }
    },
    {
      "cell_type": "code",
      "source": [
        "print(arr10.shape) # Returns the shape of the array.\n",
        "print(arr10.dtype) # Returns the data type of the array.\n",
        "print(arr10.size) # Returns the number of elements in the array.\n",
        "print(arr10.itemsize) # Returns the size of each element in the array in bytes.\n",
        "print(arr10.nbytes) # Returns the total size of the array in bytes.\n",
        "print(arr10.data) # Returns the memory address of the array's data.\n",
        "print(arr10.ndim) # Returns the number of dimensions of the array."
      ],
      "metadata": {
        "id": "ejBpiGEvEtbT",
        "colab": {
          "base_uri": "https://localhost:8080/"
        },
        "outputId": "ec67e5fa-9cb6-4445-d710-903b5028a304"
      },
      "execution_count": 186,
      "outputs": [
        {
          "output_type": "stream",
          "name": "stdout",
          "text": [
            "(3, 3)\n",
            "int64\n",
            "9\n",
            "8\n",
            "72\n",
            "<memory at 0x7b7b422718a0>\n",
            "2\n"
          ]
        }
      ]
    },
    {
      "cell_type": "markdown",
      "source": [
        "# **Reshaping and Resizing**"
      ],
      "metadata": {
        "id": "u0CwPgIVNKee"
      }
    },
    {
      "cell_type": "code",
      "source": [
        "reshaped = arr9.reshape((3, 2)) # Reshapes the array to a new shape without modifying its data.\n",
        "print(reshaped)\n",
        "print(arr9)"
      ],
      "metadata": {
        "colab": {
          "base_uri": "https://localhost:8080/"
        },
        "id": "thCaSDu6NNXl",
        "outputId": "20ec33ad-8dbb-43b5-ce91-fb58dc6efded"
      },
      "execution_count": 187,
      "outputs": [
        {
          "output_type": "stream",
          "name": "stdout",
          "text": [
            "[[0.1074714  0.78544503]\n",
            " [0.11249796 0.72422824]\n",
            " [0.38565869 0.07337839]]\n",
            "[[0.1074714  0.78544503 0.11249796]\n",
            " [0.72422824 0.38565869 0.07337839]]\n"
          ]
        }
      ]
    },
    {
      "cell_type": "code",
      "source": [
        "flattened = reshaped.ravel() # Returns a 1D array without copying the data.\n",
        "print(flattened)"
      ],
      "metadata": {
        "colab": {
          "base_uri": "https://localhost:8080/"
        },
        "id": "Qr5zpAJ0NoFd",
        "outputId": "300afff4-316f-4a07-d070-88c1a7080f7b"
      },
      "execution_count": 188,
      "outputs": [
        {
          "output_type": "stream",
          "name": "stdout",
          "text": [
            "[0.1074714  0.78544503 0.11249796 0.72422824 0.38565869 0.07337839]\n"
          ]
        }
      ]
    },
    {
      "cell_type": "code",
      "source": [
        "flattened = reshaped.flatten() # Creates a flattened copy of the array.\n",
        "print(flattened)"
      ],
      "metadata": {
        "colab": {
          "base_uri": "https://localhost:8080/"
        },
        "id": "_WgrmooKNwAD",
        "outputId": "8a4a4553-0553-46ff-88ea-b2f6933e6091"
      },
      "execution_count": 189,
      "outputs": [
        {
          "output_type": "stream",
          "name": "stdout",
          "text": [
            "[0.1074714  0.78544503 0.11249796 0.72422824 0.38565869 0.07337839]\n"
          ]
        }
      ]
    },
    {
      "cell_type": "code",
      "source": [
        "f=arr9.resize((2, 3)) # Resizes the array to a new shape and modifies the original array.\n",
        "print(arr9)\n",
        "print(f)"
      ],
      "metadata": {
        "colab": {
          "base_uri": "https://localhost:8080/"
        },
        "id": "cyH3FqNoOFMF",
        "outputId": "22e8904e-3c74-4ad0-8d7f-1766b9543c9e"
      },
      "execution_count": 190,
      "outputs": [
        {
          "output_type": "stream",
          "name": "stdout",
          "text": [
            "[[0.1074714  0.78544503 0.11249796]\n",
            " [0.72422824 0.38565869 0.07337839]]\n",
            "None\n"
          ]
        }
      ]
    },
    {
      "cell_type": "markdown",
      "source": [
        "# **Indexing and Slicing**"
      ],
      "metadata": {
        "id": "l3_qtBo9PMBy"
      }
    },
    {
      "cell_type": "code",
      "source": [
        "print(arr)\n",
        "print(arr[2]) # Returns the element at the specified index.\n"
      ],
      "metadata": {
        "colab": {
          "base_uri": "https://localhost:8080/"
        },
        "id": "LOSX64IWPOSy",
        "outputId": "18f4d004-ecdd-4b1f-cf41-d4c49b62fcd7"
      },
      "execution_count": 191,
      "outputs": [
        {
          "output_type": "stream",
          "name": "stdout",
          "text": [
            "[1 2 3]\n",
            "3\n"
          ]
        }
      ]
    },
    {
      "cell_type": "code",
      "source": [
        "print(arr10)\n",
        "print(arr10[1, 2]) # Returns the element at the specified index.\n"
      ],
      "metadata": {
        "colab": {
          "base_uri": "https://localhost:8080/"
        },
        "id": "9iqoxVp8RtKG",
        "outputId": "7f1c5ca5-97d2-4d95-af5c-ecd9557d7b20"
      },
      "execution_count": 192,
      "outputs": [
        {
          "output_type": "stream",
          "name": "stdout",
          "text": [
            "[[2 3 6]\n",
            " [4 8 1]\n",
            " [6 2 6]]\n",
            "1\n"
          ]
        }
      ]
    },
    {
      "cell_type": "code",
      "source": [
        "print(arr10)\n",
        "\n",
        "print(arr10[1:]) # Returns a view of the array starting from the specified index.\n"
      ],
      "metadata": {
        "colab": {
          "base_uri": "https://localhost:8080/"
        },
        "id": "-phr66QDRwKv",
        "outputId": "36d052a5-8a56-41ca-e977-e0c3f40dd406"
      },
      "execution_count": 193,
      "outputs": [
        {
          "output_type": "stream",
          "name": "stdout",
          "text": [
            "[[2 3 6]\n",
            " [4 8 1]\n",
            " [6 2 6]]\n",
            "[[4 8 1]\n",
            " [6 2 6]]\n"
          ]
        }
      ]
    },
    {
      "cell_type": "code",
      "source": [
        "print(arr10)\n",
        "print(arr10[:2]) # Returns a view of the array up to the specified index.\n",
        "\n"
      ],
      "metadata": {
        "colab": {
          "base_uri": "https://localhost:8080/"
        },
        "id": "D0Zn1RqTR2mg",
        "outputId": "cd847162-7fa2-4302-8ca8-7f5e7eef2ab0"
      },
      "execution_count": 194,
      "outputs": [
        {
          "output_type": "stream",
          "name": "stdout",
          "text": [
            "[[2 3 6]\n",
            " [4 8 1]\n",
            " [6 2 6]]\n",
            "[[2 3 6]\n",
            " [4 8 1]]\n"
          ]
        }
      ]
    },
    {
      "cell_type": "code",
      "source": [
        "print(arr10)\n",
        "print(arr10[1:3]) # Returns a view of the array from the specified start index to the specified end index.\n"
      ],
      "metadata": {
        "colab": {
          "base_uri": "https://localhost:8080/"
        },
        "id": "g9GLUuz7SBxZ",
        "outputId": "023ec665-40b7-430e-f18c-af989446d236"
      },
      "execution_count": 195,
      "outputs": [
        {
          "output_type": "stream",
          "name": "stdout",
          "text": [
            "[[2 3 6]\n",
            " [4 8 1]\n",
            " [6 2 6]]\n",
            "[[4 8 1]\n",
            " [6 2 6]]\n"
          ]
        }
      ]
    },
    {
      "cell_type": "code",
      "source": [
        "print(arr10)\n",
        "\n",
        "print(arr10[1:, 1]) # Returns a view of the array along the specified collumn.\n"
      ],
      "metadata": {
        "colab": {
          "base_uri": "https://localhost:8080/"
        },
        "id": "G9HejbCISKsm",
        "outputId": "6b69306e-344a-462b-82a4-f0c3b21b128b"
      },
      "execution_count": 196,
      "outputs": [
        {
          "output_type": "stream",
          "name": "stdout",
          "text": [
            "[[2 3 6]\n",
            " [4 8 1]\n",
            " [6 2 6]]\n",
            "[8 2]\n"
          ]
        }
      ]
    },
    {
      "cell_type": "code",
      "source": [
        "arr11 = np.array([[[1, 2], [3, 4]], [[5, 6], [7, 8]]])\n",
        "print(arr11)\n",
        "print(arr11[1, :, 0])"
      ],
      "metadata": {
        "colab": {
          "base_uri": "https://localhost:8080/"
        },
        "id": "QTE7_bsaSG5E",
        "outputId": "7a6b8fc7-eb58-4180-aa95-1d4dca889f23"
      },
      "execution_count": 197,
      "outputs": [
        {
          "output_type": "stream",
          "name": "stdout",
          "text": [
            "[[[1 2]\n",
            "  [3 4]]\n",
            "\n",
            " [[5 6]\n",
            "  [7 8]]]\n",
            "[5 7]\n"
          ]
        }
      ]
    },
    {
      "cell_type": "code",
      "source": [],
      "metadata": {
        "id": "yjh_DoJvSWAB"
      },
      "execution_count": 197,
      "outputs": []
    },
    {
      "cell_type": "markdown",
      "source": [
        "# ***Operations***"
      ],
      "metadata": {
        "id": "MCowc8OdSXI2"
      }
    },
    {
      "cell_type": "code",
      "source": [
        "print(arr)\n",
        "#Arithmetic Operations\n",
        "print(arr + 10) # Adds 10 to each element of the array.\n",
        "print(arr - 10) # Subtracts 10 from each element of the array.\n",
        "print(arr * 2) # Multiplies each element of the array by 2.\n",
        "print(arr / 2) # Divides each element of the array by 2."
      ],
      "metadata": {
        "colab": {
          "base_uri": "https://localhost:8080/"
        },
        "id": "rnFaulwkSZRP",
        "outputId": "e423477c-81c7-4470-c036-b0fbcb8660a5"
      },
      "execution_count": 198,
      "outputs": [
        {
          "output_type": "stream",
          "name": "stdout",
          "text": [
            "[1 2 3]\n",
            "[11 12 13]\n",
            "[-9 -8 -7]\n",
            "[2 4 6]\n",
            "[0.5 1.  1.5]\n"
          ]
        }
      ]
    },
    {
      "cell_type": "code",
      "source": [
        "# Aggregate Functions\n",
        "print(arr)\n",
        "print(arr.sum()) # Returns the sum of all elements of the array.\n",
        "print(arr.mean()) # Returns the mean of all elements of the array.\n",
        "print(arr.std()) # Returns the standard deviation of all elements of the array.\n",
        "print(arr.var()) # Returns the variance of all elements of the array.\n",
        "print(arr.max()) # Returns the maximum value of all elements of the array.\n",
        "print(arr.min()) # Returns the minimum value of all elements of the array.\n",
        "print(arr.argmax()) # Returns the index of the maximum value of all elements of the array.\n",
        "print(arr.argmin()) # Returns the index of the minimum value of all elements of the array.\n"
      ],
      "metadata": {
        "colab": {
          "base_uri": "https://localhost:8080/"
        },
        "id": "gkiQ0fgtTCa3",
        "outputId": "1f36c055-3e9d-4072-815e-f9e6db86f260"
      },
      "execution_count": 199,
      "outputs": [
        {
          "output_type": "stream",
          "name": "stdout",
          "text": [
            "[1 2 3]\n",
            "6\n",
            "2.0\n",
            "0.816496580927726\n",
            "0.6666666666666666\n",
            "3\n",
            "1\n",
            "2\n",
            "0\n"
          ]
        }
      ]
    },
    {
      "cell_type": "code",
      "source": [
        "# Sum of elements\n",
        "total_sum = np.sum(arr10)\n",
        "print(\"Sum:\", total_sum)\n",
        "\n",
        "# Product of elements\n",
        "total_product = np.prod(arr10)\n",
        "print(\"Product:\", total_product)\n",
        "\n",
        "# Cumulative sum\n",
        "cumulative_sum = np.cumsum(arr10)\n",
        "print(\"Cumulative Sum:\", cumulative_sum)\n",
        "\n",
        "# Cumulative product\n",
        "cumulative_product = np.cumprod(arr10)\n",
        "print(\"Cumulative Product:\", cumulative_product)"
      ],
      "metadata": {
        "colab": {
          "base_uri": "https://localhost:8080/"
        },
        "id": "tQjTbLMFvKCD",
        "outputId": "8a4f2240-456e-4538-f2e2-6701fb4b3127"
      },
      "execution_count": 200,
      "outputs": [
        {
          "output_type": "stream",
          "name": "stdout",
          "text": [
            "Sum: 38\n",
            "Product: 82944\n",
            "Cumulative Sum: [ 2  5 11 15 23 24 30 32 38]\n",
            "Cumulative Product: [    2     6    36   144  1152  1152  6912 13824 82944]\n"
          ]
        }
      ]
    },
    {
      "cell_type": "code",
      "source": [
        "#Logical Operations\n",
        "print(arr)\n",
        "print(arr > 2) # Returns a boolean array indicating which elements of the array are greater than 2.\n",
        "print(arr < 2) # Returns a boolean array indicating which elements of the array are less than 2.\n",
        "print(arr >= 2) # Returns a boolean array indicating which elements of the array are greater than or equal to 2.\n",
        "print(arr <= 2) # Returns a boolean array indicating which elements of the array are less than or equal to 2.\n",
        "print(arr == 2) # Returns a boolean array indicating which elements of the array are equal to 2.\n",
        "print(arr != 2) # Returns a boolean array indicating which elements of the array are not equal to 2.\n",
        "print(arr.all()) # Returns a boolean indicating whether all elements of the array are true.\n",
        "print(arr.any()) # Returns a boolean indicating whether any element of the array is true.\n",
        "print(np.logical_and(arr > 2, arr < 8))\n",
        "print(np.logical_or(arr > 2, arr < 8))"
      ],
      "metadata": {
        "colab": {
          "base_uri": "https://localhost:8080/"
        },
        "id": "o_ex495LTgWr",
        "outputId": "e5fc7805-8fe9-43be-fa4c-6af2b878cb40"
      },
      "execution_count": 201,
      "outputs": [
        {
          "output_type": "stream",
          "name": "stdout",
          "text": [
            "[1 2 3]\n",
            "[False False  True]\n",
            "[ True False False]\n",
            "[False  True  True]\n",
            "[ True  True False]\n",
            "[False  True False]\n",
            "[ True False  True]\n",
            "True\n",
            "True\n",
            "[False False  True]\n",
            "[ True  True  True]\n"
          ]
        }
      ]
    },
    {
      "cell_type": "code",
      "source": [],
      "metadata": {
        "id": "qr5V-KP2UNl8"
      },
      "execution_count": 201,
      "outputs": []
    },
    {
      "cell_type": "markdown",
      "source": [
        "# ***Array Manipulations***"
      ],
      "metadata": {
        "id": "qO2Fb7maUQPO"
      }
    },
    {
      "cell_type": "code",
      "source": [
        "print(arr)\n",
        "print(arr4)\n",
        "print(arr5)\n",
        "result = np.concatenate((arr, arr4, arr5)) # Concatenates three arrays along a specified axis.\n",
        "print(result)"
      ],
      "metadata": {
        "colab": {
          "base_uri": "https://localhost:8080/"
        },
        "id": "QJfToWpCUSX-",
        "outputId": "9cc1054b-e844-4e4f-a3d5-badc8e943ad3"
      },
      "execution_count": 202,
      "outputs": [
        {
          "output_type": "stream",
          "name": "stdout",
          "text": [
            "[1 2 3]\n",
            "[0 2 4 6 8]\n",
            "[0.   0.25 0.5  0.75 1.  ]\n",
            "[1.   2.   3.   0.   2.   4.   6.   8.   0.   0.25 0.5  0.75 1.  ]\n"
          ]
        }
      ]
    },
    {
      "cell_type": "code",
      "source": [
        "print(arr)\n",
        "print(arr9)\n",
        "print(arr10)\n",
        "#result = np.concatenate((arr, arr9, arr10)) # Concatenates two arrays along a specified axis.\n",
        "#error in this line of code because concatenate only works with same dimension.\n",
        "#print(result)"
      ],
      "metadata": {
        "colab": {
          "base_uri": "https://localhost:8080/"
        },
        "id": "2D2tSj3lVkDC",
        "outputId": "9c813e76-58eb-4e4b-969f-a5dfc30257f6"
      },
      "execution_count": 203,
      "outputs": [
        {
          "output_type": "stream",
          "name": "stdout",
          "text": [
            "[1 2 3]\n",
            "[[0.1074714  0.78544503 0.11249796]\n",
            " [0.72422824 0.38565869 0.07337839]]\n",
            "[[2 3 6]\n",
            " [4 8 1]\n",
            " [6 2 6]]\n"
          ]
        }
      ]
    },
    {
      "cell_type": "code",
      "source": [
        "print(arr)\n",
        "print(arr)\n",
        "print(arr)\n",
        "result = np.stack((arr, arr, arr)) # Stacks three arrays along a new axis.\n",
        "#result = np.stack((arr, arr4, arr5)) # same shape error\n",
        "print(result)"
      ],
      "metadata": {
        "colab": {
          "base_uri": "https://localhost:8080/"
        },
        "id": "sVZmV373WF30",
        "outputId": "4a78b059-5fe9-4441-fd47-177ea20cf857"
      },
      "execution_count": 204,
      "outputs": [
        {
          "output_type": "stream",
          "name": "stdout",
          "text": [
            "[1 2 3]\n",
            "[1 2 3]\n",
            "[1 2 3]\n",
            "[[1 2 3]\n",
            " [1 2 3]\n",
            " [1 2 3]]\n"
          ]
        }
      ]
    },
    {
      "cell_type": "code",
      "source": [
        "np.vstack((arr, arr)) # Stacks arrays vertically (row-wise).\n",
        "\n"
      ],
      "metadata": {
        "colab": {
          "base_uri": "https://localhost:8080/"
        },
        "id": "nZlJVRZnW3Zu",
        "outputId": "4add2e15-b8a3-4724-aba9-a0a68a65e489"
      },
      "execution_count": 205,
      "outputs": [
        {
          "output_type": "execute_result",
          "data": {
            "text/plain": [
              "array([[1, 2, 3],\n",
              "       [1, 2, 3]])"
            ]
          },
          "metadata": {},
          "execution_count": 205
        }
      ]
    },
    {
      "cell_type": "code",
      "source": [
        "np.hstack((arr, arr)) # Stacks arrays horizontally (column-wise).\n"
      ],
      "metadata": {
        "colab": {
          "base_uri": "https://localhost:8080/"
        },
        "id": "imTZzVFPXaF3",
        "outputId": "2c7436fb-0bae-42f6-f3b6-c9a60af3b872"
      },
      "execution_count": 206,
      "outputs": [
        {
          "output_type": "execute_result",
          "data": {
            "text/plain": [
              "array([1, 2, 3, 1, 2, 3])"
            ]
          },
          "metadata": {},
          "execution_count": 206
        }
      ]
    },
    {
      "cell_type": "code",
      "source": [
        "np.dstack((arr, arr)) # Stacks arrays along the third dimension."
      ],
      "metadata": {
        "colab": {
          "base_uri": "https://localhost:8080/"
        },
        "id": "AiAOE4cQXdLu",
        "outputId": "fdcb9e68-7d51-4b0b-f5cd-472f55af5d0c"
      },
      "execution_count": 207,
      "outputs": [
        {
          "output_type": "execute_result",
          "data": {
            "text/plain": [
              "array([[[1, 1],\n",
              "        [2, 2],\n",
              "        [3, 3]]])"
            ]
          },
          "metadata": {},
          "execution_count": 207
        }
      ]
    },
    {
      "cell_type": "code",
      "source": [
        "np.vstack((arr10,arr10))"
      ],
      "metadata": {
        "colab": {
          "base_uri": "https://localhost:8080/"
        },
        "id": "WbJ6LdDYX09Q",
        "outputId": "10914f4f-0b5c-4253-d6b0-eccf6a477a3c"
      },
      "execution_count": 208,
      "outputs": [
        {
          "output_type": "execute_result",
          "data": {
            "text/plain": [
              "array([[2, 3, 6],\n",
              "       [4, 8, 1],\n",
              "       [6, 2, 6],\n",
              "       [2, 3, 6],\n",
              "       [4, 8, 1],\n",
              "       [6, 2, 6]])"
            ]
          },
          "metadata": {},
          "execution_count": 208
        }
      ]
    },
    {
      "cell_type": "code",
      "source": [
        "np.hstack((arr10,arr10))"
      ],
      "metadata": {
        "colab": {
          "base_uri": "https://localhost:8080/"
        },
        "id": "-NKmih_mX36O",
        "outputId": "6cfa9ad3-0952-42ed-af3d-a763661cec6f"
      },
      "execution_count": 209,
      "outputs": [
        {
          "output_type": "execute_result",
          "data": {
            "text/plain": [
              "array([[2, 3, 6, 2, 3, 6],\n",
              "       [4, 8, 1, 4, 8, 1],\n",
              "       [6, 2, 6, 6, 2, 6]])"
            ]
          },
          "metadata": {},
          "execution_count": 209
        }
      ]
    },
    {
      "cell_type": "code",
      "source": [
        "np.dstack((arr10,arr10))"
      ],
      "metadata": {
        "colab": {
          "base_uri": "https://localhost:8080/"
        },
        "id": "BlgygGo2X8Wn",
        "outputId": "1b6ddf66-67ca-4593-e168-34d9ccf0f527"
      },
      "execution_count": 210,
      "outputs": [
        {
          "output_type": "execute_result",
          "data": {
            "text/plain": [
              "array([[[2, 2],\n",
              "        [3, 3],\n",
              "        [6, 6]],\n",
              "\n",
              "       [[4, 4],\n",
              "        [8, 8],\n",
              "        [1, 1]],\n",
              "\n",
              "       [[6, 6],\n",
              "        [2, 2],\n",
              "        [6, 6]]])"
            ]
          },
          "metadata": {},
          "execution_count": 210
        }
      ]
    },
    {
      "cell_type": "markdown",
      "source": [
        "# ***Splitting***"
      ],
      "metadata": {
        "id": "ZAkhRU0_YBdw"
      }
    },
    {
      "cell_type": "code",
      "source": [
        "print(arr)\n",
        "splitted = np.split(arr, 3) # Split into 3 parts\n",
        "print(splitted)\n"
      ],
      "metadata": {
        "colab": {
          "base_uri": "https://localhost:8080/"
        },
        "id": "DqzAGFtNYEBi",
        "outputId": "14754143-b344-40c3-a62a-0f39fc3f269f"
      },
      "execution_count": 211,
      "outputs": [
        {
          "output_type": "stream",
          "name": "stdout",
          "text": [
            "[1 2 3]\n",
            "[array([1]), array([2]), array([3])]\n"
          ]
        }
      ]
    },
    {
      "cell_type": "code",
      "source": [
        "print(arr10)\n",
        "splitted = np.split(arr10, 3, axis=1) # Split into 3 parts along the second axis\n",
        "print(splitted)\n",
        "splitted = np.split(arr10, 3) # Split into 3 parts along the second axis\n",
        "print(splitted)"
      ],
      "metadata": {
        "colab": {
          "base_uri": "https://localhost:8080/"
        },
        "id": "Za22I9yXYgsI",
        "outputId": "4219edb4-ce82-41f5-d4c5-885c5427fee7"
      },
      "execution_count": 212,
      "outputs": [
        {
          "output_type": "stream",
          "name": "stdout",
          "text": [
            "[[2 3 6]\n",
            " [4 8 1]\n",
            " [6 2 6]]\n",
            "[array([[2],\n",
            "       [4],\n",
            "       [6]]), array([[3],\n",
            "       [8],\n",
            "       [2]]), array([[6],\n",
            "       [1],\n",
            "       [6]])]\n",
            "[array([[2, 3, 6]]), array([[4, 8, 1]]), array([[6, 2, 6]])]\n"
          ]
        }
      ]
    },
    {
      "cell_type": "code",
      "source": [
        "print(arr10)\n",
        "splitted = np.vsplit(arr10, 3) # Split into 3 parts along the first axis\n",
        "print(splitted)"
      ],
      "metadata": {
        "colab": {
          "base_uri": "https://localhost:8080/"
        },
        "id": "mxc8dXzGY4nB",
        "outputId": "3cf6d1d5-f91c-4e86-b662-80fecc1b6b06"
      },
      "execution_count": 213,
      "outputs": [
        {
          "output_type": "stream",
          "name": "stdout",
          "text": [
            "[[2 3 6]\n",
            " [4 8 1]\n",
            " [6 2 6]]\n",
            "[array([[2, 3, 6]]), array([[4, 8, 1]]), array([[6, 2, 6]])]\n"
          ]
        }
      ]
    },
    {
      "cell_type": "code",
      "source": [
        "print(arr10)\n",
        "splitted = np.hsplit(arr10, 3) # Split into 3 parts along the second axis\n",
        "print(splitted)"
      ],
      "metadata": {
        "colab": {
          "base_uri": "https://localhost:8080/"
        },
        "id": "1SmSK_lgY_LU",
        "outputId": "c187556d-d758-4971-e52b-ed6455aa8a6c"
      },
      "execution_count": 214,
      "outputs": [
        {
          "output_type": "stream",
          "name": "stdout",
          "text": [
            "[[2 3 6]\n",
            " [4 8 1]\n",
            " [6 2 6]]\n",
            "[array([[2],\n",
            "       [4],\n",
            "       [6]]), array([[3],\n",
            "       [8],\n",
            "       [2]]), array([[6],\n",
            "       [1],\n",
            "       [6]])]\n"
          ]
        }
      ]
    },
    {
      "cell_type": "code",
      "source": [
        "print(arr10)\n",
        "#splitted = np.dsplit(arr10, 3) # Split into 3 parts along the third axis\n",
        "#print(splitted)\n"
      ],
      "metadata": {
        "colab": {
          "base_uri": "https://localhost:8080/"
        },
        "id": "DYzWiRF5ZD1B",
        "outputId": "b84f6a35-e3f4-4b23-bb4e-3825e5e7810d"
      },
      "execution_count": 215,
      "outputs": [
        {
          "output_type": "stream",
          "name": "stdout",
          "text": [
            "[[2 3 6]\n",
            " [4 8 1]\n",
            " [6 2 6]]\n"
          ]
        }
      ]
    },
    {
      "cell_type": "markdown",
      "source": [
        "# ***Flipping Arrays***"
      ],
      "metadata": {
        "id": "7HFOVIk4Zd9N"
      }
    },
    {
      "cell_type": "code",
      "source": [
        "print(arr10)\n",
        "flipped = np.flip(arr10, axis=1) # Flip the array along the specified axis\n",
        "print(flipped)\n",
        "flipped = np.fliplr(arr10) # Flips an array left to right.\n",
        "print(flipped)\n"
      ],
      "metadata": {
        "colab": {
          "base_uri": "https://localhost:8080/"
        },
        "id": "WW3TXy6dZgl1",
        "outputId": "6b3f14c1-b232-486d-ec4d-ae190720e8fd"
      },
      "execution_count": 216,
      "outputs": [
        {
          "output_type": "stream",
          "name": "stdout",
          "text": [
            "[[2 3 6]\n",
            " [4 8 1]\n",
            " [6 2 6]]\n",
            "[[6 3 2]\n",
            " [1 8 4]\n",
            " [6 2 6]]\n",
            "[[6 3 2]\n",
            " [1 8 4]\n",
            " [6 2 6]]\n"
          ]
        }
      ]
    },
    {
      "cell_type": "code",
      "source": [
        "print(arr10)\n",
        "\n",
        "flipped = np.flip(arr10) # Reverses elements along a specified axis.\n",
        "print(flipped)"
      ],
      "metadata": {
        "colab": {
          "base_uri": "https://localhost:8080/"
        },
        "id": "hAkugeEnafKN",
        "outputId": "110f392e-b841-4e92-a3d0-727d9a2f3397"
      },
      "execution_count": 217,
      "outputs": [
        {
          "output_type": "stream",
          "name": "stdout",
          "text": [
            "[[2 3 6]\n",
            " [4 8 1]\n",
            " [6 2 6]]\n",
            "[[6 2 6]\n",
            " [1 8 4]\n",
            " [6 3 2]]\n"
          ]
        }
      ]
    },
    {
      "cell_type": "code",
      "source": [
        "print(arr10)\n",
        "flipped = np.flip(arr10, axis=0) # Flip the array along the specified axis\n",
        "print(flipped)\n",
        "flipped = np.flipud(arr10) # Flips an array upside down.\n",
        "print(flipped)"
      ],
      "metadata": {
        "colab": {
          "base_uri": "https://localhost:8080/"
        },
        "id": "VO6flsnTajLu",
        "outputId": "b97ee811-61a7-4779-aefa-336c73f6f6ec"
      },
      "execution_count": 218,
      "outputs": [
        {
          "output_type": "stream",
          "name": "stdout",
          "text": [
            "[[2 3 6]\n",
            " [4 8 1]\n",
            " [6 2 6]]\n",
            "[[6 2 6]\n",
            " [4 8 1]\n",
            " [2 3 6]]\n",
            "[[6 2 6]\n",
            " [4 8 1]\n",
            " [2 3 6]]\n"
          ]
        }
      ]
    },
    {
      "cell_type": "markdown",
      "source": [
        "# ***Universal Functions (ufuncs)***"
      ],
      "metadata": {
        "id": "OLoapV42bYsn"
      }
    },
    {
      "cell_type": "markdown",
      "source": [
        "# ***Trigonometric Functions***"
      ],
      "metadata": {
        "id": "Txvfw7bxbig9"
      }
    },
    {
      "cell_type": "code",
      "source": [
        "angles = np.array([0, np.pi/2, np.pi])\n",
        "print(angles)\n",
        "\n",
        "sines = np.sin(angles) # Calculate the sine values of the angles.\n",
        "print(sines)\n",
        "\n",
        "cossines = np.cos(angles) # Calculate the cosine values of the angles.\n",
        "print(cossines)\n",
        "\n",
        "tansines = np.tan(angles) # Calculate the tangent values of the angles.\n",
        "print(tansines)\n",
        "\n",
        "angles2 = np.array([0, 1])\n",
        "print(angles2)\n",
        "\n",
        "arcsines = np.arcsin(angles2) # Calculate the arcsine values of the angles.\n",
        "print(arcsines)\n",
        "\n",
        "arccossines = np.arccos(angles2) # Calculate the arccosine values of the angles.\n",
        "print(arccossines)\n",
        "\n",
        "arctansines = np.arctan(angles2) # Calculate the arctangent values of the angles.\n",
        "print(arctansines)\n",
        "\n",
        "degrees = np.degrees(angles) # Convert angles from radians to degrees.\n",
        "print(degrees)\n",
        "\n",
        "radians = np.radians(degrees) # Convert angles from degrees to radians.\n",
        "print(radians)"
      ],
      "metadata": {
        "colab": {
          "base_uri": "https://localhost:8080/"
        },
        "id": "uZtL0zj1bkox",
        "outputId": "719de4a8-f80f-420c-b752-8eda173c11dc"
      },
      "execution_count": 219,
      "outputs": [
        {
          "output_type": "stream",
          "name": "stdout",
          "text": [
            "[0.         1.57079633 3.14159265]\n",
            "[0.0000000e+00 1.0000000e+00 1.2246468e-16]\n",
            "[ 1.000000e+00  6.123234e-17 -1.000000e+00]\n",
            "[ 0.00000000e+00  1.63312394e+16 -1.22464680e-16]\n",
            "[0 1]\n",
            "[0.         1.57079633]\n",
            "[1.57079633 0.        ]\n",
            "[0.         0.78539816]\n",
            "[  0.  90. 180.]\n",
            "[0.         1.57079633 3.14159265]\n"
          ]
        }
      ]
    },
    {
      "cell_type": "code",
      "source": [],
      "metadata": {
        "id": "u_-WLmvcbage"
      },
      "execution_count": 219,
      "outputs": []
    },
    {
      "cell_type": "markdown",
      "source": [
        "# ***Exponential Functions***"
      ],
      "metadata": {
        "id": "axqjcB5MctuG"
      }
    },
    {
      "cell_type": "code",
      "source": [
        "print(arr)\n",
        "exp_values = np.exp(arr) # Calculates e^x for each element.\n",
        "print(exp_values)"
      ],
      "metadata": {
        "colab": {
          "base_uri": "https://localhost:8080/"
        },
        "id": "dUw_3ct_csBi",
        "outputId": "78b13488-4dcb-4e5d-b552-b66b9b95e450"
      },
      "execution_count": 220,
      "outputs": [
        {
          "output_type": "stream",
          "name": "stdout",
          "text": [
            "[1 2 3]\n",
            "[ 2.71828183  7.3890561  20.08553692]\n"
          ]
        }
      ]
    },
    {
      "cell_type": "code",
      "source": [
        "exp_values = np.expm1(arr) # Calculates e^x - 1 for each element.\n",
        "print(exp_values)"
      ],
      "metadata": {
        "colab": {
          "base_uri": "https://localhost:8080/"
        },
        "id": "Sv2ib0sZdMlI",
        "outputId": "da4e61c6-25b1-43ba-fe86-1afe2f88b7a2"
      },
      "execution_count": 221,
      "outputs": [
        {
          "output_type": "stream",
          "name": "stdout",
          "text": [
            "[ 1.71828183  6.3890561  19.08553692]\n"
          ]
        }
      ]
    },
    {
      "cell_type": "code",
      "source": [
        "exp_values = np.exp2(arr) # Calculates 2^x for each element.\n",
        "print(exp_values)"
      ],
      "metadata": {
        "colab": {
          "base_uri": "https://localhost:8080/"
        },
        "id": "t0r-nu9cdfAc",
        "outputId": "b6561ce5-e2c8-4e10-8f3a-10c56aa612d7"
      },
      "execution_count": 222,
      "outputs": [
        {
          "output_type": "stream",
          "name": "stdout",
          "text": [
            "[2. 4. 8.]\n"
          ]
        }
      ]
    },
    {
      "cell_type": "markdown",
      "source": [
        "# ***Logarithmic Functions***"
      ],
      "metadata": {
        "id": "kPwfkOeudydc"
      }
    },
    {
      "cell_type": "code",
      "source": [
        "print(arr)\n",
        "log_values = np.log(arr) # Calculates the natural logarithm for each element.\n",
        "print(log_values)\n",
        "\n",
        "log_values = np.log2(arr) # Calculates the base-2 logarithm for each element.\n",
        "print(log_values)\n",
        "\n",
        "log_values = np.log10(arr) # Calculates the base-10 logarithm for each element.\n",
        "print(log_values)\n",
        "\n",
        "log_values = np.log1p(arr) # Logarithm of 1+x1 + x for precision.\n",
        "print(log_values)"
      ],
      "metadata": {
        "colab": {
          "base_uri": "https://localhost:8080/"
        },
        "id": "gC58IYrbd0Qb",
        "outputId": "6a8f1e65-93d8-41e9-f89e-ef83ae91b1c0"
      },
      "execution_count": 223,
      "outputs": [
        {
          "output_type": "stream",
          "name": "stdout",
          "text": [
            "[1 2 3]\n",
            "[0.         0.69314718 1.09861229]\n",
            "[0.        1.        1.5849625]\n",
            "[0.         0.30103    0.47712125]\n",
            "[0.69314718 1.09861229 1.38629436]\n"
          ]
        }
      ]
    },
    {
      "cell_type": "markdown",
      "source": [
        "# ***Useful Mathematical Functions***"
      ],
      "metadata": {
        "id": "6DCcczpZeaXg"
      }
    },
    {
      "cell_type": "code",
      "source": [
        "matharr = np.array([1.2, -3.4, 5.6])\n",
        "print(matharr)\n",
        "absolute = np.abs(matharr) # Returns the absolute value of each element.\n",
        "print(absolute)\n",
        "ceiled = np.ceil(matharr) # Returns the smallest integer greater than or equal to each element.\n",
        "print(ceiled)\n",
        "floored = np.floor(matharr) # Returns the largest integer less than or equal to each element.\n",
        "print(floored)\n",
        "rounded = np.round(matharr) # Returns the element rounded to the nearest integer.\n",
        "print(rounded)\n",
        "truncated = np.trunc(matharr) # Returns the truncated value of each element.\n",
        "print(truncated)\n",
        "sign = np.sign(matharr) # Returns the sign of each element.\n",
        "print(sign)\n",
        "power = np.power(matharr, 2) # Raises each element to the power of 2.\n",
        "print(power)\n",
        "sqrt = np.sqrt(arr) # Returns the square root of each element.\n",
        "print(sqrt)\n",
        "\n"
      ],
      "metadata": {
        "colab": {
          "base_uri": "https://localhost:8080/"
        },
        "id": "RikU6epuecAS",
        "outputId": "cd426369-0965-4faf-ead2-353924c73e5e"
      },
      "execution_count": 224,
      "outputs": [
        {
          "output_type": "stream",
          "name": "stdout",
          "text": [
            "[ 1.2 -3.4  5.6]\n",
            "[1.2 3.4 5.6]\n",
            "[ 2. -3.  6.]\n",
            "[ 1. -4.  5.]\n",
            "[ 1. -3.  6.]\n",
            "[ 1. -3.  5.]\n",
            "[ 1. -1.  1.]\n",
            "[ 1.44 11.56 31.36]\n",
            "[1.         1.41421356 1.73205081]\n"
          ]
        }
      ]
    },
    {
      "cell_type": "markdown",
      "source": [
        "# ***Masking and Filtering***"
      ],
      "metadata": {
        "id": "h4qsBeVGfWyU"
      }
    },
    {
      "cell_type": "markdown",
      "source": [
        "# ***Masking***"
      ],
      "metadata": {
        "id": "aDPb6iEtfvwp"
      }
    },
    {
      "cell_type": "code",
      "source": [
        "mask = arr10 > 2\n",
        "print(mask)"
      ],
      "metadata": {
        "colab": {
          "base_uri": "https://localhost:8080/"
        },
        "id": "O755oWL7fzVd",
        "outputId": "ef790604-f535-49ad-bc46-c45fcaeb1d6e"
      },
      "execution_count": 225,
      "outputs": [
        {
          "output_type": "stream",
          "name": "stdout",
          "text": [
            "[[False  True  True]\n",
            " [ True  True False]\n",
            " [ True False  True]]\n"
          ]
        }
      ]
    },
    {
      "cell_type": "code",
      "source": [
        "mask = ((arr10 > 2) & (arr10 < 8))\n",
        "print(mask)"
      ],
      "metadata": {
        "colab": {
          "base_uri": "https://localhost:8080/"
        },
        "id": "vUAC6aXhfhSM",
        "outputId": "a7161030-8955-4f27-ecb1-197b1c3c8185"
      },
      "execution_count": 226,
      "outputs": [
        {
          "output_type": "stream",
          "name": "stdout",
          "text": [
            "[[False  True  True]\n",
            " [ True False False]\n",
            " [ True False  True]]\n"
          ]
        }
      ]
    },
    {
      "cell_type": "markdown",
      "source": [
        "# ***Filtering***"
      ],
      "metadata": {
        "id": "5AzarU63gfvQ"
      }
    },
    {
      "cell_type": "code",
      "source": [
        "print(arr)\n",
        "filtered_arr = arr[arr % 10 == 1]\n",
        "print(filtered_arr)"
      ],
      "metadata": {
        "colab": {
          "base_uri": "https://localhost:8080/"
        },
        "id": "aLfGhysugicU",
        "outputId": "98ec905e-cb08-4175-a04c-82288c87d5c7"
      },
      "execution_count": 227,
      "outputs": [
        {
          "output_type": "stream",
          "name": "stdout",
          "text": [
            "[1 2 3]\n",
            "[1]\n"
          ]
        }
      ]
    },
    {
      "cell_type": "code",
      "source": [
        "print(arr)\n",
        "filtered_arr = arr[(arr > 1) & (arr < 25)]\n",
        "print(filtered_arr)\n",
        "filtered_arr = arr[(arr > 1) | (arr < 25)]\n",
        "print(filtered_arr)\n",
        "filtered_arr = arr[(arr > 1) ^ (arr < 25)]\n",
        "print(filtered_arr)\n",
        "filtered_arr = arr[~(arr > 1)]\n",
        "print(filtered_arr)"
      ],
      "metadata": {
        "colab": {
          "base_uri": "https://localhost:8080/"
        },
        "id": "tc1LND7bgqNr",
        "outputId": "12fe8258-e7b7-4449-d2ee-f83f87b9f47c"
      },
      "execution_count": 228,
      "outputs": [
        {
          "output_type": "stream",
          "name": "stdout",
          "text": [
            "[1 2 3]\n",
            "[2 3]\n",
            "[1 2 3]\n",
            "[1]\n",
            "[1]\n"
          ]
        }
      ]
    },
    {
      "cell_type": "code",
      "source": [
        "print(arr10)\n",
        "mask = arr10 % 2 == 0\n",
        "filtered_arr = arr10[mask]\n",
        "print(filtered_arr)"
      ],
      "metadata": {
        "colab": {
          "base_uri": "https://localhost:8080/"
        },
        "id": "ybjTF_ILgxB-",
        "outputId": "c82288eb-fe1d-41dd-8a55-a6e3e23243c1"
      },
      "execution_count": 229,
      "outputs": [
        {
          "output_type": "stream",
          "name": "stdout",
          "text": [
            "[[2 3 6]\n",
            " [4 8 1]\n",
            " [6 2 6]]\n",
            "[2 6 4 8 6 2 6]\n"
          ]
        }
      ]
    },
    {
      "cell_type": "code",
      "source": [
        "print(arr10)\n",
        "result = np.where(arr10 > 3, -1, arr10) # Replaces elements greater than 3 with -1.\n",
        "print(result)"
      ],
      "metadata": {
        "colab": {
          "base_uri": "https://localhost:8080/"
        },
        "id": "-zRMDbq7hjsH",
        "outputId": "9b959df1-bee8-4b4d-a689-89c9456a239e"
      },
      "execution_count": 230,
      "outputs": [
        {
          "output_type": "stream",
          "name": "stdout",
          "text": [
            "[[2 3 6]\n",
            " [4 8 1]\n",
            " [6 2 6]]\n",
            "[[ 2  3 -1]\n",
            " [-1 -1  1]\n",
            " [-1  2 -1]]\n"
          ]
        }
      ]
    },
    {
      "cell_type": "markdown",
      "source": [
        "# ***Sorting and Searching***"
      ],
      "metadata": {
        "id": "fJKEnq-Sh2_P"
      }
    },
    {
      "cell_type": "markdown",
      "source": [
        "# ***Sorting in numpy***"
      ],
      "metadata": {
        "id": "IfnngHIch5LZ"
      }
    },
    {
      "cell_type": "code",
      "source": [
        "print(arr10)\n",
        "sorted_arr = np.sort(arr10)\n",
        "print(sorted_arr)\n",
        "sorted_arr = np.sort(arr10, axis=1)\n",
        "print(sorted_arr)\n",
        "# arr10.sort()  # orginal array is changed"
      ],
      "metadata": {
        "colab": {
          "base_uri": "https://localhost:8080/"
        },
        "id": "BhDjH3tlh9aB",
        "outputId": "19afb0d9-1d01-4628-c27f-804ab16734fe"
      },
      "execution_count": 231,
      "outputs": [
        {
          "output_type": "stream",
          "name": "stdout",
          "text": [
            "[[2 3 6]\n",
            " [4 8 1]\n",
            " [6 2 6]]\n",
            "[[2 3 6]\n",
            " [1 4 8]\n",
            " [2 6 6]]\n",
            "[[2 3 6]\n",
            " [1 4 8]\n",
            " [2 6 6]]\n"
          ]
        }
      ]
    },
    {
      "cell_type": "code",
      "source": [
        "print(arr10)\n",
        "sorted_arr = np.sort(arr10, axis=0)\n",
        "print(sorted_arr)"
      ],
      "metadata": {
        "colab": {
          "base_uri": "https://localhost:8080/"
        },
        "id": "B-pbnlX0iv5l",
        "outputId": "23d76184-38c8-47fd-c771-5d9a6e6cbde5"
      },
      "execution_count": 232,
      "outputs": [
        {
          "output_type": "stream",
          "name": "stdout",
          "text": [
            "[[2 3 6]\n",
            " [4 8 1]\n",
            " [6 2 6]]\n",
            "[[2 2 1]\n",
            " [4 3 6]\n",
            " [6 8 6]]\n"
          ]
        }
      ]
    },
    {
      "cell_type": "code",
      "source": [
        "print(arr10)\n",
        "indices = np.argsort(arr10) # Returns the indices of the sorted elements.\n",
        "print(indices)\n",
        "\n"
      ],
      "metadata": {
        "colab": {
          "base_uri": "https://localhost:8080/"
        },
        "id": "g9AIB9MgjJfn",
        "outputId": "f692388c-a514-453c-d4f7-646d9ae511d1"
      },
      "execution_count": 233,
      "outputs": [
        {
          "output_type": "stream",
          "name": "stdout",
          "text": [
            "[[2 3 6]\n",
            " [4 8 1]\n",
            " [6 2 6]]\n",
            "[[0 1 2]\n",
            " [2 0 1]\n",
            " [1 0 2]]\n"
          ]
        }
      ]
    },
    {
      "cell_type": "code",
      "source": [
        "sorted_arr2 = arr10[indices] # Sorts the array based on the indices.\n",
        "print(sorted_arr2)"
      ],
      "metadata": {
        "colab": {
          "base_uri": "https://localhost:8080/"
        },
        "id": "V3BFH0K0kNmX",
        "outputId": "debc4373-cbe8-4e2b-b243-13f169d4e90e"
      },
      "execution_count": 234,
      "outputs": [
        {
          "output_type": "stream",
          "name": "stdout",
          "text": [
            "[[[2 3 6]\n",
            "  [4 8 1]\n",
            "  [6 2 6]]\n",
            "\n",
            " [[6 2 6]\n",
            "  [2 3 6]\n",
            "  [4 8 1]]\n",
            "\n",
            " [[4 8 1]\n",
            "  [2 3 6]\n",
            "  [6 2 6]]]\n"
          ]
        }
      ]
    },
    {
      "cell_type": "markdown",
      "source": [
        "# ***Searching***"
      ],
      "metadata": {
        "id": "u5ID2j3pkdOb"
      }
    },
    {
      "cell_type": "code",
      "source": [
        "print(arr10)\n",
        "unique_elements = np.unique(arr10) # Returns the unique elements of the array.\n",
        "print(unique_elements)\n",
        "unique_with_counts = np.unique(arr10, return_counts=True) # Returns the unique elements of the array and their counts.\n",
        "print(unique_with_counts)\n",
        "unique_with_indices = np.unique(arr10, return_index=True) # Returns the unique elements of the array and their indices.\n",
        "print(unique_with_indices)\n",
        "unique_with_inverse = np.unique(arr10, return_inverse=True) # Returns the unique elements of the array and their inverse indices.\n",
        "print(unique_with_inverse)\n"
      ],
      "metadata": {
        "colab": {
          "base_uri": "https://localhost:8080/"
        },
        "id": "tqPgI9KBkmCo",
        "outputId": "6e9d8174-bb98-4ddf-bd55-19ec56b09306"
      },
      "execution_count": 235,
      "outputs": [
        {
          "output_type": "stream",
          "name": "stdout",
          "text": [
            "[[2 3 6]\n",
            " [4 8 1]\n",
            " [6 2 6]]\n",
            "[1 2 3 4 6 8]\n",
            "(array([1, 2, 3, 4, 6, 8]), array([1, 2, 1, 1, 3, 1]))\n",
            "(array([1, 2, 3, 4, 6, 8]), array([5, 0, 1, 3, 2, 4]))\n",
            "(array([1, 2, 3, 4, 6, 8]), array([1, 2, 4, 3, 5, 0, 4, 1, 4]))\n"
          ]
        }
      ]
    },
    {
      "cell_type": "code",
      "source": [
        "print(arr10)\n",
        "indices = np.where(arr10 > 2) # Returns the indices of the elements greater than 2.\n",
        "print(indices)"
      ],
      "metadata": {
        "colab": {
          "base_uri": "https://localhost:8080/"
        },
        "id": "ro1TvQzNl5KG",
        "outputId": "014fe855-f592-41ac-ee14-5a1f736b4d4c"
      },
      "execution_count": 236,
      "outputs": [
        {
          "output_type": "stream",
          "name": "stdout",
          "text": [
            "[[2 3 6]\n",
            " [4 8 1]\n",
            " [6 2 6]]\n",
            "(array([0, 0, 1, 1, 2, 2]), array([1, 2, 0, 1, 0, 2]))\n"
          ]
        }
      ]
    },
    {
      "cell_type": "markdown",
      "source": [
        "# Structured Arrays in NumPy"
      ],
      "metadata": {
        "id": "4Aek73o9mtnO"
      }
    },
    {
      "cell_type": "code",
      "source": [
        "dtype = [('name', 'U10'), ('age', 'i4'), ('height', 'f4')]\n",
        "\n",
        "# Create a structured array\n",
        "data = np.array([('Alice', 25, 5.5), ('Bob', 30, 6.0)], dtype=dtype)\n",
        "print(data)\n",
        "\n",
        "print(data['name'])   # ['Alice' 'Bob']\n",
        "print(data['age'])    # [25 30]\n",
        "\n",
        "# Accessing individual records\n",
        "print(data[0])  # ('Alice', 25, 5.5)\n",
        "\n",
        "data['name'] = ['Charlie' 'Dana', 'Eve']\n",
        "data['age'] = [2228, 24]\n",
        "data['height'] = [55.9, 5.6]\n",
        "print(data)"
      ],
      "metadata": {
        "colab": {
          "base_uri": "https://localhost:8080/"
        },
        "id": "ssJBf26tm17K",
        "outputId": "5d7d9be9-a618-43cf-934e-f08488656669"
      },
      "execution_count": 237,
      "outputs": [
        {
          "output_type": "stream",
          "name": "stdout",
          "text": [
            "[('Alice', 25, 5.5) ('Bob', 30, 6. )]\n",
            "['Alice' 'Bob']\n",
            "[25 30]\n",
            "('Alice', 25, 5.5)\n",
            "[('CharlieDan', 2228, 55.9) ('Eve',   24,  5.6)]\n"
          ]
        }
      ]
    },
    {
      "cell_type": "code",
      "source": [
        "nested_dtype = [('id', 'i4'), ('scores', '3f4')]  # Field 'scores' stores 3 floats\n",
        "nested_data = np.array([(1, (85.5, 90.0, 88.0)), (2, (75.0, 80.0, 82.5))], dtype=nested_dtype)\n",
        "print(nested_data)\n",
        "# [(1, [85.5, 90. , 88. ]) (2, [75. , 80. , 82.5])]"
      ],
      "metadata": {
        "colab": {
          "base_uri": "https://localhost:8080/"
        },
        "id": "ts1a9m6GogtF",
        "outputId": "1fbafaa5-b8cb-4a5d-99cb-9131f5acd98d"
      },
      "execution_count": 238,
      "outputs": [
        {
          "output_type": "stream",
          "name": "stdout",
          "text": [
            "[(1, [85.5, 90. , 88. ]) (2, [75. , 80. , 82.5])]\n"
          ]
        }
      ]
    },
    {
      "cell_type": "code",
      "source": [
        "employee_dtype = [('name', 'U10'), ('age', 'i4'), ('department', 'U10'), ('salary', 'f4')]\n",
        "\n",
        "# Create structured array\n",
        "employees = np.array([('Alice', 25, 'HR', 50000.0),\n",
        "                      ('Bob', 30, 'IT', 60000.0),\n",
        "                      ('Charlie', 28, 'Finance', 55000.0)], dtype=employee_dtype)\n",
        "\n",
        "# Filter employees with salary > 55000\n",
        "high_salary = employees[employees['salary'] > 55000]\n",
        "print(high_salary)"
      ],
      "metadata": {
        "colab": {
          "base_uri": "https://localhost:8080/"
        },
        "id": "gYicddjqoaWe",
        "outputId": "78b10e82-861d-4d3d-eb62-5a41be0198b0"
      },
      "execution_count": 239,
      "outputs": [
        {
          "output_type": "stream",
          "name": "stdout",
          "text": [
            "[('Bob', 30, 'IT', 60000.)]\n"
          ]
        }
      ]
    },
    {
      "cell_type": "markdown",
      "source": [
        "# ***Linear Algebra with NumPy***"
      ],
      "metadata": {
        "id": "mrawURU3oxxS"
      }
    },
    {
      "cell_type": "markdown",
      "source": [
        "# ***Matrices***"
      ],
      "metadata": {
        "id": "pWvaadK_oz0U"
      }
    },
    {
      "cell_type": "code",
      "source": [
        "matrix = np.matrix(arr10)\n",
        "print(matrix)"
      ],
      "metadata": {
        "colab": {
          "base_uri": "https://localhost:8080/"
        },
        "id": "4YVwaqTro7vI",
        "outputId": "bd0d7b0e-e2b1-49ab-9880-20af826a2f1f"
      },
      "execution_count": 240,
      "outputs": [
        {
          "output_type": "stream",
          "name": "stdout",
          "text": [
            "[[2 3 6]\n",
            " [4 8 1]\n",
            " [6 2 6]]\n"
          ]
        }
      ]
    },
    {
      "cell_type": "code",
      "source": [
        "print(matrix)\n",
        "transpose = matrix.T # Transpose the matrix\n",
        "print(transpose)"
      ],
      "metadata": {
        "colab": {
          "base_uri": "https://localhost:8080/"
        },
        "id": "QMb7IG1WoxZ7",
        "outputId": "7c509c40-bafc-4664-96fc-da071865afd9"
      },
      "execution_count": 241,
      "outputs": [
        {
          "output_type": "stream",
          "name": "stdout",
          "text": [
            "[[2 3 6]\n",
            " [4 8 1]\n",
            " [6 2 6]]\n",
            "[[2 4 6]\n",
            " [3 8 2]\n",
            " [6 1 6]]\n"
          ]
        }
      ]
    },
    {
      "cell_type": "code",
      "source": [
        "print(matrix)\n",
        "inverse = np.linalg.inv(matrix) # Calculate the inverse of the matrix\n",
        "print(inverse)"
      ],
      "metadata": {
        "colab": {
          "base_uri": "https://localhost:8080/"
        },
        "id": "_itBoW1Lp61n",
        "outputId": "95708859-c43f-41ef-ac70-c298768f6f84"
      },
      "execution_count": 242,
      "outputs": [
        {
          "output_type": "stream",
          "name": "stdout",
          "text": [
            "[[2 3 6]\n",
            " [4 8 1]\n",
            " [6 2 6]]\n",
            "[[-0.22772277  0.02970297  0.22277228]\n",
            " [ 0.08910891  0.11881188 -0.10891089]\n",
            " [ 0.1980198  -0.06930693 -0.01980198]]\n"
          ]
        }
      ]
    },
    {
      "cell_type": "code",
      "source": [
        "print(matrix)\n",
        "\n",
        "det = np.linalg.det(matrix) # Calculate the determinant of the matrix\n",
        "print(det)"
      ],
      "metadata": {
        "colab": {
          "base_uri": "https://localhost:8080/"
        },
        "id": "j4Y8_hD_pwa0",
        "outputId": "2790ac89-eea2-4d7d-a3f5-b362f53371f7"
      },
      "execution_count": 243,
      "outputs": [
        {
          "output_type": "stream",
          "name": "stdout",
          "text": [
            "[[2 3 6]\n",
            " [4 8 1]\n",
            " [6 2 6]]\n",
            "-201.9999999999999\n"
          ]
        }
      ]
    },
    {
      "cell_type": "code",
      "source": [
        "print(matrix)\n",
        "rank = np.linalg.matrix_rank(matrix) # Calculate the rank of the matrix\n",
        "print(rank)\n",
        "\n"
      ],
      "metadata": {
        "colab": {
          "base_uri": "https://localhost:8080/"
        },
        "id": "vFXt2X54p2SH",
        "outputId": "347f39eb-3388-460b-f762-b4059b527a21"
      },
      "execution_count": 244,
      "outputs": [
        {
          "output_type": "stream",
          "name": "stdout",
          "text": [
            "[[2 3 6]\n",
            " [4 8 1]\n",
            " [6 2 6]]\n",
            "3\n"
          ]
        }
      ]
    },
    {
      "cell_type": "code",
      "source": [
        "print(matrix)\n",
        "eigenvalues, eigenvectors = np.linalg.eig(matrix) # Calculate the eigenvalues and eigenvectors of the matrix\n",
        "print(eigenvalues)\n",
        "print(eigenvectors)"
      ],
      "metadata": {
        "colab": {
          "base_uri": "https://localhost:8080/"
        },
        "id": "R4JzW8-xqDt9",
        "outputId": "e3c240b4-8700-4ba7-c26f-d5aeacd2a6e9"
      },
      "execution_count": 245,
      "outputs": [
        {
          "output_type": "stream",
          "name": "stdout",
          "text": [
            "[[2 3 6]\n",
            " [4 8 1]\n",
            " [6 2 6]]\n",
            "[-2.66610826 12.70055082  5.96555744]\n",
            "[[ 0.82092007 -0.51686693  0.25839102]\n",
            " [-0.26020412 -0.57479703 -0.78487232]\n",
            " [-0.50831492 -0.63439495  0.56321357]]\n"
          ]
        }
      ]
    },
    {
      "cell_type": "code",
      "source": [
        "print(matrix)\n",
        "trace = np.trace(matrix)\n",
        "print(trace)\n"
      ],
      "metadata": {
        "colab": {
          "base_uri": "https://localhost:8080/"
        },
        "id": "n0pCcUbtqJNm",
        "outputId": "81a2c081-fd6f-423e-f059-e456244df8ef"
      },
      "execution_count": 246,
      "outputs": [
        {
          "output_type": "stream",
          "name": "stdout",
          "text": [
            "[[2 3 6]\n",
            " [4 8 1]\n",
            " [6 2 6]]\n",
            "16\n"
          ]
        }
      ]
    },
    {
      "cell_type": "markdown",
      "source": [
        "# ***Solving Linear Equations***"
      ],
      "metadata": {
        "id": "-_xxuGRWqjP4"
      }
    },
    {
      "cell_type": "code",
      "source": [
        "# 2x + y = 5\n",
        "# x + 3y = 7\n",
        "\n",
        "A = np.array([[2, 1], [1, 3]])\n",
        "b = np.array([5, 7])\n",
        "\n",
        "# Solve for x\n",
        "x = np.linalg.solve(A, b)\n",
        "print(\"Solution:\", x)"
      ],
      "metadata": {
        "colab": {
          "base_uri": "https://localhost:8080/"
        },
        "id": "FMgZPY44qmf2",
        "outputId": "2027660e-ed78-4f87-c01c-5844cf7f1c89"
      },
      "execution_count": 247,
      "outputs": [
        {
          "output_type": "stream",
          "name": "stdout",
          "text": [
            "Solution: [1.6 1.8]\n"
          ]
        }
      ]
    },
    {
      "cell_type": "markdown",
      "source": [
        "Using the Inverse Matrix"
      ],
      "metadata": {
        "id": "wBKpk0bWrWtC"
      }
    },
    {
      "cell_type": "code",
      "source": [
        "# x=A^(−1)⋅bx\n",
        "\n",
        "A_inv = np.linalg.inv(A)\n",
        "x = np.dot(A_inv, b) # Compute x using A_inv\n",
        "print(\"Solution using inverse:\", x)"
      ],
      "metadata": {
        "colab": {
          "base_uri": "https://localhost:8080/"
        },
        "id": "_I2K7QWQrZCL",
        "outputId": "258d7e14-f3ab-450b-bebf-df28a7c5d863"
      },
      "execution_count": 248,
      "outputs": [
        {
          "output_type": "stream",
          "name": "stdout",
          "text": [
            "Solution using inverse: [1.6 1.8]\n"
          ]
        }
      ]
    },
    {
      "cell_type": "markdown",
      "source": [
        "Using Matrix Multiplication"
      ],
      "metadata": {
        "id": "q9bOtClyrs5l"
      }
    },
    {
      "cell_type": "code",
      "source": [
        "x = np.dot(np.linalg.inv(A), b)  # Equivalent to A_inv @ b\n",
        "print(\"Solution using matrix multiplication:\", x)"
      ],
      "metadata": {
        "colab": {
          "base_uri": "https://localhost:8080/"
        },
        "id": "-p2yOGimrjwl",
        "outputId": "8c123591-31f5-415f-fb9e-26b33bf6ebc3"
      },
      "execution_count": 249,
      "outputs": [
        {
          "output_type": "stream",
          "name": "stdout",
          "text": [
            "Solution using matrix multiplication: [1.6 1.8]\n"
          ]
        }
      ]
    },
    {
      "cell_type": "markdown",
      "source": [
        "Verifying the Solution"
      ],
      "metadata": {
        "id": "1CmUaw9-sEHj"
      }
    },
    {
      "cell_type": "code",
      "source": [
        "is_correct = np.allclose(np.dot(A, x), b)\n",
        "print(\"Solution verified:\", is_correct)"
      ],
      "metadata": {
        "colab": {
          "base_uri": "https://localhost:8080/"
        },
        "id": "sd4jSFTDsEys",
        "outputId": "f99c94d5-872e-437d-fb5f-04c63030dd09"
      },
      "execution_count": 250,
      "outputs": [
        {
          "output_type": "stream",
          "name": "stdout",
          "text": [
            "Solution verified: True\n"
          ]
        }
      ]
    },
    {
      "cell_type": "markdown",
      "source": [
        "Handling Special Cases when determinant is 0, meaning it does not have an inverse"
      ],
      "metadata": {
        "id": "f3hDWGeusNRU"
      }
    },
    {
      "cell_type": "code",
      "source": [
        "singular_matrix = np.array([[1, 2], [2, 4]])  # Determinant = 0\n",
        "try:\n",
        "    x = np.linalg.solve(singular_matrix, b)\n",
        "except np.linalg.LinAlgError as e:\n",
        "    print(\"Error:\", e)"
      ],
      "metadata": {
        "colab": {
          "base_uri": "https://localhost:8080/"
        },
        "id": "4fZFUPz6sSXJ",
        "outputId": "ec0dc3ba-210a-481e-bf27-05f4593da584"
      },
      "execution_count": 251,
      "outputs": [
        {
          "output_type": "stream",
          "name": "stdout",
          "text": [
            "Error: Singular matrix\n"
          ]
        }
      ]
    },
    {
      "cell_type": "markdown",
      "source": [
        "# ***Singular Value Decomposition (SVD)***"
      ],
      "metadata": {
        "id": "sr2m3lr3siBM"
      }
    },
    {
      "cell_type": "code",
      "source": [],
      "metadata": {
        "id": "KvMZgV1XsrO4"
      },
      "execution_count": 251,
      "outputs": []
    },
    {
      "cell_type": "markdown",
      "source": [
        "# ***NumPy for Statistical and Mathematical Operations***"
      ],
      "metadata": {
        "id": "fW1kWHuKtG60"
      }
    },
    {
      "cell_type": "markdown",
      "source": [
        "# ***Descriptive Statistics***"
      ],
      "metadata": {
        "id": "Ex5aEcRytJEN"
      }
    },
    {
      "cell_type": "code",
      "source": [
        "print(arr10)\n",
        "mean = np.mean(arr10)\n",
        "median = np.median(arr10)\n",
        "variance = np.var(arr10)\n",
        "std_deviation = np.std(arr10)\n",
        "\n",
        "print(\"Mean:\", mean)\n",
        "print(\"Median:\", median)\n",
        "print(\"Variance:\", variance)\n",
        "print(\"Standard Deviation:\", std_deviation)"
      ],
      "metadata": {
        "colab": {
          "base_uri": "https://localhost:8080/"
        },
        "id": "frahMsjltMt3",
        "outputId": "7ca9a031-db35-4b2f-cdcc-f4dfa38decbf"
      },
      "execution_count": 252,
      "outputs": [
        {
          "output_type": "stream",
          "name": "stdout",
          "text": [
            "[[2 3 6]\n",
            " [4 8 1]\n",
            " [6 2 6]]\n",
            "Mean: 4.222222222222222\n",
            "Median: 4.0\n",
            "Variance: 5.061728395061729\n",
            "Standard Deviation: 2.249828525701843\n"
          ]
        }
      ]
    },
    {
      "cell_type": "code",
      "source": [
        "print(arr10)\n",
        "\n",
        "mean_rows = np.mean(arr10, axis=1)\n",
        "\n",
        "# Mean along columns\n",
        "mean_columns = np.mean(arr10, axis=0)\n",
        "\n",
        "print(\"Mean (rows):\", mean_rows)\n",
        "print(\"Mean (columns):\", mean_columns)\n",
        "\n",
        "median_rows = np.median(arr10, axis=1)\n",
        "\n",
        "# median along columns\n",
        "median_columns = np.median(arr10, axis=0)\n",
        "\n",
        "print(\"median (rows):\", median_rows)\n",
        "print(\"median (columns):\", median_columns)"
      ],
      "metadata": {
        "colab": {
          "base_uri": "https://localhost:8080/"
        },
        "id": "Gv2xi_h4thik",
        "outputId": "5f226038-36d6-4adf-edb1-bc0f42bed4e7"
      },
      "execution_count": 253,
      "outputs": [
        {
          "output_type": "stream",
          "name": "stdout",
          "text": [
            "[[2 3 6]\n",
            " [4 8 1]\n",
            " [6 2 6]]\n",
            "Mean (rows): [3.66666667 4.33333333 4.66666667]\n",
            "Mean (columns): [4.         4.33333333 4.33333333]\n",
            "median (rows): [3. 4. 6.]\n",
            "median (columns): [4. 3. 6.]\n"
          ]
        }
      ]
    },
    {
      "cell_type": "code",
      "source": [],
      "metadata": {
        "id": "BClIOn4XtjYq"
      },
      "execution_count": 253,
      "outputs": []
    },
    {
      "cell_type": "markdown",
      "source": [
        "# ***Random Number Generation***"
      ],
      "metadata": {
        "id": "-kE5beP1uKEr"
      }
    },
    {
      "cell_type": "code",
      "source": [
        "# Set seed for reproducibility\n",
        "np.random.seed(42)\n",
        "\n",
        "# Random float array (uniform distribution)\n",
        "random_floats = np.random.rand(3, 3)\n",
        "print(\"Random Floats:\\n\", random_floats)\n",
        "\n",
        "# Random integers between 10 and 50\n",
        "random_integers = np.random.randint(10, 50, size=(2, 3))\n",
        "print(\"Random Integers:\\n\", random_integers)\n",
        "\n",
        "# Random samples from a normal distribution\n",
        "random_normals = np.random.randn(5)\n",
        "print(\"Random Normals:\\n\", random_normals)\n",
        "\n",
        "# Random choice from a list\n",
        "choices = np.random.choice([1, 2, 3, 4, 5], size=4, replace=False)\n",
        "print(\"Random Choices:\\n\", choices)\n",
        "# Random choice from a list\n",
        "choices = np.random.choice([1, 2, 3, 4, 5], size=7, replace=True)\n",
        "print(\"Random Choices:\\n\", choices)"
      ],
      "metadata": {
        "colab": {
          "base_uri": "https://localhost:8080/"
        },
        "id": "q5nbKMHruLmZ",
        "outputId": "732b57f6-0dbc-40fe-d91c-654699b88373"
      },
      "execution_count": 254,
      "outputs": [
        {
          "output_type": "stream",
          "name": "stdout",
          "text": [
            "Random Floats:\n",
            " [[0.37454012 0.95071431 0.73199394]\n",
            " [0.59865848 0.15601864 0.15599452]\n",
            " [0.05808361 0.86617615 0.60111501]]\n",
            "Random Integers:\n",
            " [[33 12 31]\n",
            " [11 33 39]]\n",
            "Random Normals:\n",
            " [-0.58087813 -0.52516981 -0.57138017 -0.92408284 -2.61254901]\n",
            "Random Choices:\n",
            " [2 5 4 3]\n",
            "Random Choices:\n",
            " [2 4 4 3 4 4 1]\n"
          ]
        }
      ]
    },
    {
      "cell_type": "markdown",
      "source": [
        "**Monte Carlo Simulations**"
      ],
      "metadata": {
        "id": "-CJLmRWXvWUY"
      }
    },
    {
      "cell_type": "code",
      "source": [
        "# Monte Carlo Simulation: Estimate Pi\n",
        "n_points = 10000\n",
        "x = np.random.rand(n_points)\n",
        "y = np.random.rand(n_points)\n",
        "inside_circle = np.sum(x**2 + y**2 <= 1)\n",
        "\n",
        "# Estimate of Pi\n",
        "pi_estimate = (inside_circle / n_points) * 4\n",
        "print(\"Estimated Pi:\", pi_estimate)\n"
      ],
      "metadata": {
        "colab": {
          "base_uri": "https://localhost:8080/"
        },
        "id": "IqsZW5MSvXYJ",
        "outputId": "0372d361-eaf7-4046-9995-5978a6852257"
      },
      "execution_count": 255,
      "outputs": [
        {
          "output_type": "stream",
          "name": "stdout",
          "text": [
            "Estimated Pi: 3.1568\n"
          ]
        }
      ]
    }
  ]
}