{
  "nbformat": 4,
  "nbformat_minor": 0,
  "metadata": {
    "colab": {
      "provenance": [],
      "authorship_tag": "ABX9TyM1+WnC/FQ3Momifjo6QX1d",
      "include_colab_link": true
    },
    "kernelspec": {
      "name": "python3",
      "display_name": "Python 3"
    },
    "language_info": {
      "name": "python"
    }
  },
  "cells": [
    {
      "cell_type": "markdown",
      "metadata": {
        "id": "view-in-github",
        "colab_type": "text"
      },
      "source": [
        "<a href=\"https://colab.research.google.com/github/firojahmed1313/MlAITR/blob/main/PandasTvm.ipynb\" target=\"_parent\"><img src=\"https://colab.research.google.com/assets/colab-badge.svg\" alt=\"Open In Colab\"/></a>"
      ]
    },
    {
      "cell_type": "code",
      "execution_count": 1,
      "metadata": {
        "id": "KBFmLfLffmKL"
      },
      "outputs": [],
      "source": [
        "import pandas as pd\n"
      ]
    },
    {
      "cell_type": "markdown",
      "source": [
        "# ***Creating a Series***"
      ],
      "metadata": {
        "id": "BvSF8RhwgN0W"
      }
    },
    {
      "cell_type": "code",
      "source": [
        "data = [10, 20, 30, 40]\n",
        "series = pd.Series(data)\n",
        "print(series)\n",
        "series = pd.Series(data, index=['a', 'b', 'c', 'd'])\n",
        "print(series)"
      ],
      "metadata": {
        "colab": {
          "base_uri": "https://localhost:8080/"
        },
        "id": "kk2y7o9xgU0h",
        "outputId": "e36f1665-6507-4754-b385-4f6105d521cc"
      },
      "execution_count": 4,
      "outputs": [
        {
          "output_type": "stream",
          "name": "stdout",
          "text": [
            "0    10\n",
            "1    20\n",
            "2    30\n",
            "3    40\n",
            "dtype: int64\n",
            "a    10\n",
            "b    20\n",
            "c    30\n",
            "d    40\n",
            "dtype: int64\n"
          ]
        }
      ]
    },
    {
      "cell_type": "code",
      "source": [
        "data_dict = {'a': 1, 'b': 2, 'c': 3}\n",
        "series_dict = pd.Series(data_dict)\n",
        "print(series_dict)\n"
      ],
      "metadata": {
        "colab": {
          "base_uri": "https://localhost:8080/"
        },
        "id": "iNvYes71gpwL",
        "outputId": "6301e387-c54a-43e0-85d8-3161fe087941"
      },
      "execution_count": 5,
      "outputs": [
        {
          "output_type": "stream",
          "name": "stdout",
          "text": [
            "a    1\n",
            "b    2\n",
            "c    3\n",
            "dtype: int64\n"
          ]
        }
      ]
    },
    {
      "cell_type": "code",
      "source": [
        "import numpy as np\n",
        "\n",
        "data_array = np.array([100, 200, 300])\n",
        "series_array = pd.Series(data_array, index=['x', 'y', 'z'])\n",
        "print(series_array)\n"
      ],
      "metadata": {
        "colab": {
          "base_uri": "https://localhost:8080/"
        },
        "id": "EfRuKGV9g2ya",
        "outputId": "52b410ef-4b7e-4e9f-8b9c-90ab79980249"
      },
      "execution_count": 6,
      "outputs": [
        {
          "output_type": "stream",
          "name": "stdout",
          "text": [
            "x    100\n",
            "y    200\n",
            "z    300\n",
            "dtype: int64\n"
          ]
        }
      ]
    },
    {
      "cell_type": "markdown",
      "source": [
        "# ***Creating a DataFrame***"
      ],
      "metadata": {
        "id": "YVE4IgCrg90e"
      }
    },
    {
      "cell_type": "code",
      "source": [
        "data = {\n",
        "    'Name': ['Alice', 'Bob', 'Charlie'],\n",
        "    'Age': [25, 30, 35],\n",
        "    'Score': [85.5, 90.0, 95.5]\n",
        "}\n",
        "df = pd.DataFrame(data)\n",
        "print(df)"
      ],
      "metadata": {
        "colab": {
          "base_uri": "https://localhost:8080/"
        },
        "id": "tB1li_pVhACZ",
        "outputId": "f82b9af1-48f7-4a5d-8acd-1c472cc0160b"
      },
      "execution_count": 7,
      "outputs": [
        {
          "output_type": "stream",
          "name": "stdout",
          "text": [
            "      Name  Age  Score\n",
            "0    Alice   25   85.5\n",
            "1      Bob   30   90.0\n",
            "2  Charlie   35   95.5\n"
          ]
        }
      ]
    },
    {
      "cell_type": "code",
      "source": [
        "data_list = [\n",
        "    {'Name': 'Alice', 'Age': 25, 'Score': 85.5},\n",
        "    {'Name': 'Bob', 'Age': 30, 'Score': 90.0},\n",
        "    {'Name': 'Charlie', 'Age': 35, 'Score': 95.5}\n",
        "]\n",
        "df_list = pd.DataFrame(data_list)\n",
        "print(df_list)"
      ],
      "metadata": {
        "colab": {
          "base_uri": "https://localhost:8080/"
        },
        "id": "rRdsnHgshH-5",
        "outputId": "f3b9c26b-81fb-4346-dd3b-a356a1ce5078"
      },
      "execution_count": 8,
      "outputs": [
        {
          "output_type": "stream",
          "name": "stdout",
          "text": [
            "      Name  Age  Score\n",
            "0    Alice   25   85.5\n",
            "1      Bob   30   90.0\n",
            "2  Charlie   35   95.5\n"
          ]
        }
      ]
    },
    {
      "cell_type": "code",
      "source": [
        "data_array = np.array([[1, 2, 3], [4, 5, 6], [7, 8, 9]])\n",
        "df_array = pd.DataFrame(data_array, columns=['A', 'B', 'C'])\n",
        "print(df_array)\n"
      ],
      "metadata": {
        "colab": {
          "base_uri": "https://localhost:8080/"
        },
        "id": "xOkmiFXAhM0n",
        "outputId": "636b697e-49f6-4de3-aac1-81ce0186b5ea"
      },
      "execution_count": 9,
      "outputs": [
        {
          "output_type": "stream",
          "name": "stdout",
          "text": [
            "   A  B  C\n",
            "0  1  2  3\n",
            "1  4  5  6\n",
            "2  7  8  9\n"
          ]
        }
      ]
    },
    {
      "cell_type": "code",
      "source": [
        "new_data = {'Col1': [10, 20], 'Col2': [30, 40]}\n",
        "df1 = pd.DataFrame(new_data)\n",
        "df2 = pd.DataFrame(df1)\n",
        "print(df2)"
      ],
      "metadata": {
        "colab": {
          "base_uri": "https://localhost:8080/"
        },
        "id": "hw7_ZZxihSKl",
        "outputId": "50603c4c-f992-43fa-e123-3c2cf258a76a"
      },
      "execution_count": 10,
      "outputs": [
        {
          "output_type": "stream",
          "name": "stdout",
          "text": [
            "   Col1  Col2\n",
            "0    10    30\n",
            "1    20    40\n"
          ]
        }
      ]
    },
    {
      "cell_type": "code",
      "source": [
        "data = {\n",
        "    'A': [1, 2, 3],\n",
        "    'B': [4, 5, 6],\n",
        "    'C': [7, 8, 9]\n",
        "}\n",
        "df3 = pd.DataFrame(data, index=['Row1', 'Row2', 'Row3'], columns=['A', 'B', 'C']) # DataFrame with custom index and columns\n",
        "print(df3)\n"
      ],
      "metadata": {
        "colab": {
          "base_uri": "https://localhost:8080/"
        },
        "id": "QXKSlkLmhZG8",
        "outputId": "a61c9a81-28b0-4ffb-bea5-b9346722674d"
      },
      "execution_count": 12,
      "outputs": [
        {
          "output_type": "stream",
          "name": "stdout",
          "text": [
            "      A  B  C\n",
            "Row1  1  4  7\n",
            "Row2  2  5  8\n",
            "Row3  3  6  9\n"
          ]
        }
      ]
    },
    {
      "cell_type": "code",
      "source": [
        "empty_df = pd.DataFrame(columns=['Column1', 'Column2']) # Empty DataFrame\n",
        "print(empty_df)\n",
        "\n",
        "# Adding data\n",
        "empty_df.loc[0] = [1, 2]\n",
        "empty_df.loc[1] = [3, 4]\n",
        "print(empty_df)"
      ],
      "metadata": {
        "colab": {
          "base_uri": "https://localhost:8080/"
        },
        "id": "wo4FSK40hjAm",
        "outputId": "8babcef2-4a22-4d23-bf13-585b7069aa4c"
      },
      "execution_count": 13,
      "outputs": [
        {
          "output_type": "stream",
          "name": "stdout",
          "text": [
            "Empty DataFrame\n",
            "Columns: [Column1, Column2]\n",
            "Index: []\n",
            "   Column1  Column2\n",
            "0        1        2\n",
            "1        3        4\n"
          ]
        }
      ]
    },
    {
      "cell_type": "markdown",
      "source": [
        "# **Indexing and Slicing**"
      ],
      "metadata": {
        "id": "0xG-5Vy8hwgy"
      }
    },
    {
      "cell_type": "code",
      "source": [],
      "metadata": {
        "id": "9i7u5Z4Ah0lX"
      },
      "execution_count": null,
      "outputs": []
    },
    {
      "cell_type": "markdown",
      "source": [
        "## **Accessing Rows and Columns by Labels (.loc[])**"
      ],
      "metadata": {
        "id": "OoNfwD7Vh52N"
      }
    },
    {
      "cell_type": "code",
      "source": [
        "import pandas as pd\n",
        "\n",
        "# Sample DataFrame\n",
        "data = {\n",
        "    'Name': ['Alice', 'Bob', 'Charlie'],\n",
        "    'Age': [25, 30, 35],\n",
        "    'Score': [85.5, 90.0, 95.5]\n",
        "}\n",
        "df = pd.DataFrame(data, index=['A', 'B', 'C'])\n",
        "\n",
        "\n"
      ],
      "metadata": {
        "colab": {
          "base_uri": "https://localhost:8080/"
        },
        "id": "jWE1BHeph9-b",
        "outputId": "e434a836-b023-4057-af31-532a756047d4"
      },
      "execution_count": 15,
      "outputs": [
        {
          "output_type": "stream",
          "name": "stdout",
          "text": [
            "Name     Alice\n",
            "Age         25\n",
            "Score     85.5\n",
            "Name: A, dtype: object\n",
            "      Name  Age  Score\n",
            "A    Alice   25   85.5\n",
            "C  Charlie   35   95.5\n",
            "25\n",
            "      Name  Score\n",
            "A    Alice   85.5\n",
            "C  Charlie   95.5\n"
          ]
        }
      ]
    },
    {
      "cell_type": "code",
      "source": [
        "# Access a single row\n",
        "print(df.loc['A'])\n",
        "\n",
        "# Access multiple rows\n",
        "print(df.loc[['A', 'C']])\n",
        "\n",
        "# Specific rows and columns\n",
        "print(df.loc['A', 'Age'])  # Single value\n",
        "print(df.loc[['A', 'C'], ['Name', 'Score']])  # Subset"
      ],
      "metadata": {
        "colab": {
          "base_uri": "https://localhost:8080/"
        },
        "id": "u1QpnY2diyJF",
        "outputId": "be24cb82-a6cf-4167-d7b4-ce29afab2d6e"
      },
      "execution_count": 16,
      "outputs": [
        {
          "output_type": "stream",
          "name": "stdout",
          "text": [
            "Name     Alice\n",
            "Age         25\n",
            "Score     85.5\n",
            "Name: A, dtype: object\n",
            "      Name  Age  Score\n",
            "A    Alice   25   85.5\n",
            "C  Charlie   35   95.5\n",
            "25\n",
            "      Name  Score\n",
            "A    Alice   85.5\n",
            "C  Charlie   95.5\n"
          ]
        }
      ]
    },
    {
      "cell_type": "markdown",
      "source": [
        "## **Accessing Rows and Columns by Positions (.iloc[])**"
      ],
      "metadata": {
        "id": "6p305BZxing4"
      }
    },
    {
      "cell_type": "code",
      "source": [
        "# Positional access\n",
        "# Single row\n",
        "print(df.iloc[0])\n",
        "\n",
        "# Multiple rows\n",
        "print(df.iloc[[0, 2]])"
      ],
      "metadata": {
        "colab": {
          "base_uri": "https://localhost:8080/"
        },
        "id": "GXZtyKSjip8a",
        "outputId": "2a44f2a3-fba3-4d40-940c-223b59910176"
      },
      "execution_count": 17,
      "outputs": [
        {
          "output_type": "stream",
          "name": "stdout",
          "text": [
            "Name     Alice\n",
            "Age         25\n",
            "Score     85.5\n",
            "Name: A, dtype: object\n",
            "      Name  Age  Score\n",
            "A    Alice   25   85.5\n",
            "C  Charlie   35   95.5\n"
          ]
        }
      ]
    },
    {
      "cell_type": "code",
      "source": [
        "# Boolean indexing\n",
        "filtered = df[df['Age'] > 25]\n",
        "print(filtered)\n"
      ],
      "metadata": {
        "colab": {
          "base_uri": "https://localhost:8080/"
        },
        "id": "xpjBcc5SjDQQ",
        "outputId": "4d9d930e-2108-49f9-d645-41008c37aa9d"
      },
      "execution_count": 18,
      "outputs": [
        {
          "output_type": "stream",
          "name": "stdout",
          "text": [
            "      Name  Age  Score\n",
            "B      Bob   30   90.0\n",
            "C  Charlie   35   95.5\n"
          ]
        }
      ]
    },
    {
      "cell_type": "markdown",
      "source": [
        "### **Combining Conditions**"
      ],
      "metadata": {
        "id": "qOVcdoqjjKiN"
      }
    },
    {
      "cell_type": "code",
      "source": [
        "filtered = df[(df['Age'] > 25) & (df['Score'] > 90)]\n",
        "print(filtered)\n"
      ],
      "metadata": {
        "colab": {
          "base_uri": "https://localhost:8080/"
        },
        "id": "UDGiAHipjQ7w",
        "outputId": "65916009-c67c-470e-e209-a0da230810b0"
      },
      "execution_count": 19,
      "outputs": [
        {
          "output_type": "stream",
          "name": "stdout",
          "text": [
            "      Name  Age  Score\n",
            "C  Charlie   35   95.5\n"
          ]
        }
      ]
    },
    {
      "cell_type": "code",
      "source": [
        "filtered = df.loc[df['Age'] > 25, ['Name', 'Score']] # Select specific columns from filtered rows\n",
        "print(filtered)"
      ],
      "metadata": {
        "colab": {
          "base_uri": "https://localhost:8080/"
        },
        "id": "dGKToMLOjZnX",
        "outputId": "55a70d6b-e815-4fab-84c2-f6b42f5e6889"
      },
      "execution_count": 20,
      "outputs": [
        {
          "output_type": "stream",
          "name": "stdout",
          "text": [
            "      Name  Score\n",
            "B      Bob   90.0\n",
            "C  Charlie   95.5\n"
          ]
        }
      ]
    },
    {
      "cell_type": "markdown",
      "source": [
        "## **Slicing Rows and Columns**"
      ],
      "metadata": {
        "id": "UKchnnRxjhww"
      }
    },
    {
      "cell_type": "code",
      "source": [
        "# Rows from index 0 to 1 (inclusive)\n",
        "print(df.iloc[0:2])"
      ],
      "metadata": {
        "colab": {
          "base_uri": "https://localhost:8080/"
        },
        "id": "h-xuDTNFjr3P",
        "outputId": "769cb726-3b1e-409d-f585-627c60436d67"
      },
      "execution_count": 21,
      "outputs": [
        {
          "output_type": "stream",
          "name": "stdout",
          "text": [
            "    Name  Age  Score\n",
            "A  Alice   25   85.5\n",
            "B    Bob   30   90.0\n"
          ]
        }
      ]
    },
    {
      "cell_type": "code",
      "source": [
        "# Columns from index 1 to the end\n",
        "print(df.iloc[:, 1:])"
      ],
      "metadata": {
        "colab": {
          "base_uri": "https://localhost:8080/"
        },
        "id": "ktmeCRTwj1vb",
        "outputId": "a6e3bb0f-f259-44de-da06-da154731fa58"
      },
      "execution_count": 22,
      "outputs": [
        {
          "output_type": "stream",
          "name": "stdout",
          "text": [
            "   Age  Score\n",
            "A   25   85.5\n",
            "B   30   90.0\n",
            "C   35   95.5\n"
          ]
        }
      ]
    },
    {
      "cell_type": "markdown",
      "source": [],
      "metadata": {
        "id": "35qzAb4Pj8wf"
      }
    },
    {
      "cell_type": "markdown",
      "source": [
        "# **DataFrame Operations**"
      ],
      "metadata": {
        "id": "oYN9W_CTj-rv"
      }
    },
    {
      "cell_type": "code",
      "source": [],
      "metadata": {
        "id": "m7VdwioMkAq1"
      },
      "execution_count": null,
      "outputs": []
    },
    {
      "cell_type": "markdown",
      "source": [
        "## **Arithmetic Operations**"
      ],
      "metadata": {
        "id": "AjQhM7TYkGpm"
      }
    },
    {
      "cell_type": "code",
      "source": [
        "# Sample DataFrame\n",
        "data = {\n",
        "    'A': [1, 2, 3],\n",
        "    'B': [4, 5, 6]\n",
        "}\n",
        "df = pd.DataFrame(data)\n",
        "\n",
        "# Add 10 to each value in column A\n",
        "print(df)"
      ],
      "metadata": {
        "colab": {
          "base_uri": "https://localhost:8080/"
        },
        "id": "2Hgyd5TskJRP",
        "outputId": "d58ea98a-66e1-4647-fddf-b962d69e5cc3"
      },
      "execution_count": 80,
      "outputs": [
        {
          "output_type": "stream",
          "name": "stdout",
          "text": [
            "   A  B\n",
            "0  1  4\n",
            "1  2  5\n",
            "2  3  6\n"
          ]
        }
      ]
    },
    {
      "cell_type": "code",
      "source": [
        "print(df)\n",
        "df['A'] = df['A'] + 10\n",
        "print(df)"
      ],
      "metadata": {
        "colab": {
          "base_uri": "https://localhost:8080/"
        },
        "id": "QGKAkwzDkV_R",
        "outputId": "8e5a0f06-bd4a-47ab-a459-c3cb56ec6467"
      },
      "execution_count": 83,
      "outputs": [
        {
          "output_type": "stream",
          "name": "stdout",
          "text": [
            "   A  B\n",
            "0  1  4\n",
            "1  2  5\n",
            "2  3  6\n",
            "    A  B\n",
            "0  11  4\n",
            "1  12  5\n",
            "2  13  6\n"
          ]
        }
      ]
    },
    {
      "cell_type": "code",
      "source": [
        "# Multiply all elements by 2\n",
        "print(df)\n",
        "df = df * 2\n",
        "print(df)"
      ],
      "metadata": {
        "colab": {
          "base_uri": "https://localhost:8080/"
        },
        "id": "Ra6ngbe6kZit",
        "outputId": "70777c5e-7e07-4a42-89b1-2f8b4f3610a1"
      },
      "execution_count": 84,
      "outputs": [
        {
          "output_type": "stream",
          "name": "stdout",
          "text": [
            "    A  B\n",
            "0  11  4\n",
            "1  12  5\n",
            "2  13  6\n",
            "    A   B\n",
            "0  22   8\n",
            "1  24  10\n",
            "2  26  12\n"
          ]
        }
      ]
    },
    {
      "cell_type": "code",
      "source": [
        "# Add column A and B\n",
        "print(df)\n",
        "df['C'] = df['A'] + df['B']\n",
        "print(df)\n"
      ],
      "metadata": {
        "colab": {
          "base_uri": "https://localhost:8080/"
        },
        "id": "e_XwaU6wkdgl",
        "outputId": "18a9b567-938d-401d-ef5d-e10c0b490ac3"
      },
      "execution_count": 85,
      "outputs": [
        {
          "output_type": "stream",
          "name": "stdout",
          "text": [
            "    A   B\n",
            "0  22   8\n",
            "1  24  10\n",
            "2  26  12\n",
            "    A   B   C\n",
            "0  22   8  30\n",
            "1  24  10  34\n",
            "2  26  12  38\n"
          ]
        }
      ]
    },
    {
      "cell_type": "code",
      "source": [
        "print(df)\n",
        "df['D'] = df['A'].div(df['B']) # Divide column A by column B\n",
        "print(df)\n"
      ],
      "metadata": {
        "colab": {
          "base_uri": "https://localhost:8080/"
        },
        "id": "Tjub0BwBkiyI",
        "outputId": "3e9be28e-cd1b-437c-fcd4-ff19b30e8745"
      },
      "execution_count": 86,
      "outputs": [
        {
          "output_type": "stream",
          "name": "stdout",
          "text": [
            "    A   B   C\n",
            "0  22   8  30\n",
            "1  24  10  34\n",
            "2  26  12  38\n",
            "    A   B   C         D\n",
            "0  22   8  30  2.750000\n",
            "1  24  10  34  2.400000\n",
            "2  26  12  38  2.166667\n"
          ]
        }
      ]
    },
    {
      "cell_type": "markdown",
      "source": [
        "## **Filtering Data**"
      ],
      "metadata": {
        "id": "DHtGE2XGkoxS"
      }
    },
    {
      "cell_type": "code",
      "source": [
        "# Filter rows where column A > 23\n",
        "print(df)\n",
        "filtered = df[df['A'] > 23]\n",
        "print(filtered)"
      ],
      "metadata": {
        "colab": {
          "base_uri": "https://localhost:8080/"
        },
        "id": "S-a7l2p0kroh",
        "outputId": "a002bd22-8cf8-48ee-881b-a053a90c2dbd"
      },
      "execution_count": 87,
      "outputs": [
        {
          "output_type": "stream",
          "name": "stdout",
          "text": [
            "    A   B   C         D\n",
            "0  22   8  30  2.750000\n",
            "1  24  10  34  2.400000\n",
            "2  26  12  38  2.166667\n",
            "    A   B   C         D\n",
            "1  24  10  34  2.400000\n",
            "2  26  12  38  2.166667\n"
          ]
        }
      ]
    },
    {
      "cell_type": "code",
      "source": [
        "# Filter rows where A > 23 and B < 12\n",
        "print(df)\n",
        "filtered = df[(df['A'] > 23) & (df['B'] < 12)]\n",
        "print(filtered)\n"
      ],
      "metadata": {
        "colab": {
          "base_uri": "https://localhost:8080/"
        },
        "id": "WTDhpAWtkz1G",
        "outputId": "c5d17857-517c-406c-ab86-bfea8b9fb253"
      },
      "execution_count": 88,
      "outputs": [
        {
          "output_type": "stream",
          "name": "stdout",
          "text": [
            "    A   B   C         D\n",
            "0  22   8  30  2.750000\n",
            "1  24  10  34  2.400000\n",
            "2  26  12  38  2.166667\n",
            "    A   B   C    D\n",
            "1  24  10  34  2.4\n"
          ]
        }
      ]
    },
    {
      "cell_type": "code",
      "source": [
        "# Select rows where A > 23, but only display columns A and C\n",
        "print(df)\n",
        "filtered = df.loc[df['A'] > 23, ['A', 'C']]\n",
        "print(filtered)"
      ],
      "metadata": {
        "colab": {
          "base_uri": "https://localhost:8080/"
        },
        "id": "FJHzXMMrk5CM",
        "outputId": "c0d323b5-a85f-44e9-ed81-8f2a6c551d30"
      },
      "execution_count": 89,
      "outputs": [
        {
          "output_type": "stream",
          "name": "stdout",
          "text": [
            "    A   B   C         D\n",
            "0  22   8  30  2.750000\n",
            "1  24  10  34  2.400000\n",
            "2  26  12  38  2.166667\n",
            "    A   C\n",
            "1  24  34\n",
            "2  26  38\n"
          ]
        }
      ]
    },
    {
      "cell_type": "code",
      "source": [
        "# Filter rows where Age > 30 and Score < 90\n",
        "print(df)\n",
        "filtered_df = df.query('A > 20 & B < 12') # | for OR & for AND ~ for NOT\n",
        "print(filtered_df)\n",
        "filtered_df = df[~(df['A'] > 22)]\n",
        "print(filtered_df)"
      ],
      "metadata": {
        "colab": {
          "base_uri": "https://localhost:8080/"
        },
        "id": "35j13KrzrxKT",
        "outputId": "bbe6ddd1-9eeb-4ed4-a25d-022f610fe6c0"
      },
      "execution_count": 96,
      "outputs": [
        {
          "output_type": "stream",
          "name": "stdout",
          "text": [
            "    A   B   C         D\n",
            "0  22   8  30  2.750000\n",
            "1  24  10  34  2.400000\n",
            "2  26  12  38  2.166667\n",
            "    A   B   C     D\n",
            "0  22   8  30  2.75\n",
            "1  24  10  34  2.40\n",
            "    A  B   C     D\n",
            "0  22  8  30  2.75\n"
          ]
        }
      ]
    },
    {
      "cell_type": "code",
      "source": [
        "# Filter rows where Name is 'Alice' or 'Charlie'\n",
        "print(df)\n",
        "filtered_df = df[df['A'].isin([22, 26])]\n",
        "print(filtered_df)\n"
      ],
      "metadata": {
        "colab": {
          "base_uri": "https://localhost:8080/"
        },
        "id": "-rZabJjossSn",
        "outputId": "ae532508-32a6-4461-8383-7a03334c711f"
      },
      "execution_count": 94,
      "outputs": [
        {
          "output_type": "stream",
          "name": "stdout",
          "text": [
            "    A   B   C         D\n",
            "0  22   8  30  2.750000\n",
            "1  24  10  34  2.400000\n",
            "2  26  12  38  2.166667\n",
            "    A   B   C         D\n",
            "0  22   8  30  2.750000\n",
            "2  26  12  38  2.166667\n"
          ]
        }
      ]
    },
    {
      "cell_type": "code",
      "source": [
        "# Sample DataFrame\n",
        "data = {\n",
        "    'Name': ['Alice', 'Bob', 'Charlie', 'David'],\n",
        "    'Age': [25, 30, 35, 40],\n",
        "    'Score': [85, 90, 78, 88]\n",
        "}\n",
        "df3 = pd.DataFrame(data)\n",
        "print(df3)\n",
        "# Filter rows where Name starts with 'A'\n",
        "filtered_df = df3[df3['Name'].str.startswith('A')]\n",
        "print(filtered_df)\n",
        "# Filter rows where Name contains 'o'\n",
        "filtered_df = df3[df3['Name'].str.contains('o')]\n",
        "print(filtered_df)\n",
        "\n"
      ],
      "metadata": {
        "colab": {
          "base_uri": "https://localhost:8080/"
        },
        "id": "tfhWVgybtQyX",
        "outputId": "36d5cb64-3eff-46c7-8bc1-4460349ec354"
      },
      "execution_count": 98,
      "outputs": [
        {
          "output_type": "stream",
          "name": "stdout",
          "text": [
            "      Name  Age  Score\n",
            "0    Alice   25     85\n",
            "1      Bob   30     90\n",
            "2  Charlie   35     78\n",
            "3    David   40     88\n",
            "    Name  Age  Score\n",
            "0  Alice   25     85\n",
            "  Name  Age  Score\n",
            "1  Bob   30     90\n"
          ]
        }
      ]
    },
    {
      "cell_type": "code",
      "source": [
        "# Filter rows where Age is between 25 and 35\n",
        "print(df3)\n",
        "filtered_df = df3[df3['Age'].between(25, 35)]\n",
        "print(filtered_df)\n"
      ],
      "metadata": {
        "colab": {
          "base_uri": "https://localhost:8080/"
        },
        "id": "pejKbScztpTM",
        "outputId": "95b4eed4-3d8a-4385-a91b-97d3c59550ed"
      },
      "execution_count": 99,
      "outputs": [
        {
          "output_type": "stream",
          "name": "stdout",
          "text": [
            "      Name  Age  Score\n",
            "0    Alice   25     85\n",
            "1      Bob   30     90\n",
            "2  Charlie   35     78\n",
            "3    David   40     88\n",
            "      Name  Age  Score\n",
            "0    Alice   25     85\n",
            "1      Bob   30     90\n",
            "2  Charlie   35     78\n"
          ]
        }
      ]
    },
    {
      "cell_type": "code",
      "source": [
        "# Check if any row has a Score > 90\n",
        "has_high_score = (df3['Score'] > 90).any()\n",
        "print(has_high_score)  # Output: False\n",
        "\n",
        "# Check if all rows have Age > 20\n",
        "all_above_20 = (df3['Age'] > 20).all()\n",
        "print(all_above_20)  # Output: True\n"
      ],
      "metadata": {
        "colab": {
          "base_uri": "https://localhost:8080/"
        },
        "id": "E9K6lr_0t4mH",
        "outputId": "a70c4077-eb50-4cf5-c244-b80d92d83d22"
      },
      "execution_count": 101,
      "outputs": [
        {
          "output_type": "stream",
          "name": "stdout",
          "text": [
            "False\n",
            "True\n"
          ]
        }
      ]
    },
    {
      "cell_type": "code",
      "source": [
        "# Filter rows where Age > 25 and select only the Name and Score columns\n",
        "print(df3)\n",
        "filtered_df = df3[df3['Age'] > 25][['Name', 'Score']]\n",
        "print(filtered_df)"
      ],
      "metadata": {
        "colab": {
          "base_uri": "https://localhost:8080/"
        },
        "id": "E9VLwVuYublm",
        "outputId": "7817d3dd-c944-4579-8fc2-e512867682e3"
      },
      "execution_count": 104,
      "outputs": [
        {
          "output_type": "stream",
          "name": "stdout",
          "text": [
            "      Name  Age  Score\n",
            "0    Alice   25     85\n",
            "1      Bob   30     90\n",
            "2  Charlie   35     78\n",
            "3    David   40     88\n",
            "      Name  Score\n",
            "1      Bob     90\n",
            "2  Charlie     78\n",
            "3    David     88\n"
          ]
        }
      ]
    },
    {
      "cell_type": "markdown",
      "source": [
        "## **Applying Functions**"
      ],
      "metadata": {
        "id": "aUQNLukok9mo"
      }
    },
    {
      "cell_type": "code",
      "source": [
        "# Square each element in column A\n",
        "print(df)\n",
        "df['A'] = df['B'].apply(lambda x: x ** 2)\n",
        "print(df)"
      ],
      "metadata": {
        "colab": {
          "base_uri": "https://localhost:8080/"
        },
        "id": "QsRIxDlJlALI",
        "outputId": "7577fb4b-6a10-4a67-e180-5fc708ce8dad"
      },
      "execution_count": 34,
      "outputs": [
        {
          "output_type": "stream",
          "name": "stdout",
          "text": [
            "        A   B   C         D\n",
            "0  234256   8  30  2.750000\n",
            "1  331776  10  34  2.400000\n",
            "2  456976  12  38  2.166667\n",
            "     A   B   C         D\n",
            "0   64   8  30  2.750000\n",
            "1  100  10  34  2.400000\n",
            "2  144  12  38  2.166667\n"
          ]
        }
      ]
    },
    {
      "cell_type": "code",
      "source": [
        "# Multiply each element by 2\n",
        "print(df)\n",
        "df = df.map(lambda x: x * 2)\n",
        "print(df)\n"
      ],
      "metadata": {
        "colab": {
          "base_uri": "https://localhost:8080/"
        },
        "id": "6LePVpshlPvP",
        "outputId": "3b582bef-8634-43da-c2c2-dd0ebdfc4897"
      },
      "execution_count": 36,
      "outputs": [
        {
          "output_type": "stream",
          "name": "stdout",
          "text": [
            "     A   B   C         D\n",
            "0  128  16  60  5.500000\n",
            "1  200  20  68  4.800000\n",
            "2  288  24  76  4.333333\n",
            "     A   B    C          D\n",
            "0  256  32  120  11.000000\n",
            "1  400  40  136   9.600000\n",
            "2  576  48  152   8.666667\n"
          ]
        }
      ]
    },
    {
      "cell_type": "markdown",
      "source": [
        "## **Basic Statistics**"
      ],
      "metadata": {
        "id": "I09nqdKYlfYU"
      }
    },
    {
      "cell_type": "code",
      "source": [
        "print(df)\n",
        "print(df.describe())  # Summary statistics\n",
        "print(df['A'].mean())  # Mean of column A\n",
        "print(df['B'].sum())   # Sum of column B"
      ],
      "metadata": {
        "colab": {
          "base_uri": "https://localhost:8080/"
        },
        "id": "PTJ9LNkElh18",
        "outputId": "d4f38ace-6a39-474e-dad3-ccd9c4473f2a"
      },
      "execution_count": 37,
      "outputs": [
        {
          "output_type": "stream",
          "name": "stdout",
          "text": [
            "                A     B      C          D\n",
            "count    3.000000   3.0    3.0   3.000000\n",
            "mean   410.666667  40.0  136.0   9.755556\n",
            "std    160.266445   8.0   16.0   1.174419\n",
            "min    256.000000  32.0  120.0   8.666667\n",
            "25%    328.000000  36.0  128.0   9.133333\n",
            "50%    400.000000  40.0  136.0   9.600000\n",
            "75%    488.000000  44.0  144.0  10.300000\n",
            "max    576.000000  48.0  152.0  11.000000\n",
            "410.6666666666667\n",
            "120\n"
          ]
        }
      ]
    },
    {
      "cell_type": "markdown",
      "source": [
        "## **Sorting Data**"
      ],
      "metadata": {
        "id": "_8T9eGqslpFV"
      }
    },
    {
      "cell_type": "code",
      "source": [
        "print(df)\n",
        "sorted_df = df.sort_values(by='A', ascending=False)\n",
        "print(sorted_df)\n"
      ],
      "metadata": {
        "colab": {
          "base_uri": "https://localhost:8080/"
        },
        "id": "z2_19nK7lteB",
        "outputId": "7d4d6339-1aed-4f7f-c7e1-b6a2e9effb6e"
      },
      "execution_count": 39,
      "outputs": [
        {
          "output_type": "stream",
          "name": "stdout",
          "text": [
            "     A   B    C     D\n",
            "0  256  32  120   8.0\n",
            "1  400  40  136  10.0\n",
            "2  576  48  152  12.0\n",
            "     A   B    C     D\n",
            "2  576  48  152  12.0\n",
            "1  400  40  136  10.0\n",
            "0  256  32  120   8.0\n"
          ]
        }
      ]
    },
    {
      "cell_type": "code",
      "source": [
        "# Sort by 'A' (ascending) and 'B' (descending)\n",
        "print(df)\n",
        "sorted_df = df.sort_values(by=['A', 'B'], ascending=[True, False])\n",
        "print(sorted_df)\n"
      ],
      "metadata": {
        "colab": {
          "base_uri": "https://localhost:8080/"
        },
        "id": "Ze4o3igQu41n",
        "outputId": "7cfa570f-d903-4bb9-8a0b-050c60c6753a"
      },
      "execution_count": 106,
      "outputs": [
        {
          "output_type": "stream",
          "name": "stdout",
          "text": [
            "    A   B   C         D\n",
            "0  22   8  30  2.750000\n",
            "1  24  10  34  2.400000\n",
            "2  26  12  38  2.166667\n",
            "    A   B   C         D\n",
            "0  22   8  30  2.750000\n",
            "1  24  10  34  2.400000\n",
            "2  26  12  38  2.166667\n"
          ]
        }
      ]
    },
    {
      "cell_type": "code",
      "source": [
        "# Sort by 'Score' and reset the index\n",
        "print(df)\n",
        "sorted_df = df.sort_values(by='B', ascending=False)\n",
        "print(sorted_df)\n",
        "sorted_df = df.sort_values(by='B', ascending=False, ignore_index=True)\n",
        "print(sorted_df)\n"
      ],
      "metadata": {
        "colab": {
          "base_uri": "https://localhost:8080/"
        },
        "id": "ZYq2DhTKvFD0",
        "outputId": "df063b3c-4333-4bac-f78f-76f0ed0a71e9"
      },
      "execution_count": 108,
      "outputs": [
        {
          "output_type": "stream",
          "name": "stdout",
          "text": [
            "    A   B   C         D\n",
            "0  22   8  30  2.750000\n",
            "1  24  10  34  2.400000\n",
            "2  26  12  38  2.166667\n",
            "    A   B   C         D\n",
            "2  26  12  38  2.166667\n",
            "1  24  10  34  2.400000\n",
            "0  22   8  30  2.750000\n",
            "    A   B   C         D\n",
            "0  26  12  38  2.166667\n",
            "1  24  10  34  2.400000\n",
            "2  22   8  30  2.750000\n"
          ]
        }
      ]
    },
    {
      "cell_type": "code",
      "source": [
        "# Add missing values\n",
        "df.loc[3] = [23, None, None,2.34545]\n",
        "print(df)\n",
        "# Sort by 'B' with missing values last\n",
        "sorted_df = df.sort_values(by='B')\n",
        "print(sorted_df)\n",
        "sorted_df = df.sort_values(by='B', na_position='last')\n",
        "print(sorted_df)"
      ],
      "metadata": {
        "colab": {
          "base_uri": "https://localhost:8080/"
        },
        "id": "ZXeMuuFvvkx8",
        "outputId": "be0f8aff-a0d8-451c-9a71-e5f495453fb3"
      },
      "execution_count": 116,
      "outputs": [
        {
          "output_type": "stream",
          "name": "stdout",
          "text": [
            "      A     B     C         D\n",
            "0  22.0   8.0  30.0  2.750000\n",
            "1  24.0  10.0  34.0  2.400000\n",
            "2  26.0  12.0  38.0  2.166667\n",
            "3  23.0   NaN   NaN  2.345450\n",
            "      A     B     C         D\n",
            "0  22.0   8.0  30.0  2.750000\n",
            "1  24.0  10.0  34.0  2.400000\n",
            "2  26.0  12.0  38.0  2.166667\n",
            "3  23.0   NaN   NaN  2.345450\n",
            "      A     B     C         D\n",
            "2  26.0  12.0  38.0  2.166667\n",
            "1  24.0  10.0  34.0  2.400000\n",
            "0  22.0   8.0  30.0  2.750000\n",
            "3  23.0   NaN   NaN  2.345450\n"
          ]
        }
      ]
    },
    {
      "cell_type": "code",
      "source": [
        "print(df)\n",
        "sorted_df = df.sort_index()\n",
        "print(sorted_df)\n"
      ],
      "metadata": {
        "colab": {
          "base_uri": "https://localhost:8080/"
        },
        "id": "lYHor_SClx5e",
        "outputId": "c56455f1-c809-4724-aae9-7fe39d5a102b"
      },
      "execution_count": 112,
      "outputs": [
        {
          "output_type": "stream",
          "name": "stdout",
          "text": [
            "      A     B     C         D\n",
            "0  22.0   8.0  30.0  2.750000\n",
            "1  24.0  10.0  34.0  2.400000\n",
            "2  26.0  12.0  38.0  2.166667\n",
            "3  23.0   NaN   NaN  2.345450\n",
            "      A     B     C         D\n",
            "0  22.0   8.0  30.0  2.750000\n",
            "1  24.0  10.0  34.0  2.400000\n",
            "2  26.0  12.0  38.0  2.166667\n",
            "3  23.0   NaN   NaN  2.345450\n"
          ]
        }
      ]
    },
    {
      "cell_type": "code",
      "source": [
        "# Sort rows by index in descending order\n",
        "print(df)\n",
        "sorted_df = df.sort_index(ascending=False, ignore_index=True)\n",
        "print(sorted_df)"
      ],
      "metadata": {
        "colab": {
          "base_uri": "https://localhost:8080/"
        },
        "id": "2eHwsT0bwUqe",
        "outputId": "af091e88-5d80-470e-c66d-9de1e0c09840"
      },
      "execution_count": 115,
      "outputs": [
        {
          "output_type": "stream",
          "name": "stdout",
          "text": [
            "      A     B     C         D\n",
            "0  22.0   8.0  30.0  2.750000\n",
            "1  24.0  10.0  34.0  2.400000\n",
            "2  26.0  12.0  38.0  2.166667\n",
            "3  23.0   NaN   NaN  2.345450\n",
            "      A     B     C         D\n",
            "0  23.0   NaN   NaN  2.345450\n",
            "1  26.0  12.0  38.0  2.166667\n",
            "2  24.0  10.0  34.0  2.400000\n",
            "3  22.0   8.0  30.0  2.750000\n"
          ]
        }
      ]
    },
    {
      "cell_type": "code",
      "source": [
        "# Sort columns alphabetically\n",
        "print(df3)\n",
        "sorted_df = df3.sort_index(axis=1)\n",
        "print(sorted_df)"
      ],
      "metadata": {
        "colab": {
          "base_uri": "https://localhost:8080/"
        },
        "id": "I-K7fVu7wwG0",
        "outputId": "5bab1a70-a109-4a4c-b8e9-3747e1020d67"
      },
      "execution_count": 127,
      "outputs": [
        {
          "output_type": "stream",
          "name": "stdout",
          "text": [
            "      Name  Age  Score\n",
            "0  Charlie   25     85\n",
            "1      Bob   30     90\n",
            "2    Alice   35     78\n",
            "3    David   40     88\n",
            "   Age     Name  Score\n",
            "0   25  Charlie     85\n",
            "1   30      Bob     90\n",
            "2   35    Alice     78\n",
            "3   40    David     88\n"
          ]
        }
      ]
    },
    {
      "cell_type": "code",
      "source": [
        "data = {\n",
        "    'Name': ['Charlie', 'Bob', 'Alice', 'David'],\n",
        "    'Age': [25, 30, 35, 40],\n",
        "    'Score': [85, 90, 78, 88]\n",
        "}\n",
        "df3 = pd.DataFrame(data)\n",
        "print(df3)"
      ],
      "metadata": {
        "colab": {
          "base_uri": "https://localhost:8080/"
        },
        "id": "60K0oy4mxAVh",
        "outputId": "f6168fd6-c90d-4645-84a1-584948a536c8"
      },
      "execution_count": 122,
      "outputs": [
        {
          "output_type": "stream",
          "name": "stdout",
          "text": [
            "      Name  Age  Score\n",
            "0  Charlie   25     85\n",
            "1      Bob   30     90\n",
            "2    Alice   35     78\n",
            "3    David   40     88\n"
          ]
        }
      ]
    },
    {
      "cell_type": "code",
      "source": [
        "# Sort by the length of names\n",
        "print(df3)\n",
        "sorted_df = df3.sort_values(by='Name', key=lambda col: col.str.len())\n",
        "print(sorted_df)\n"
      ],
      "metadata": {
        "colab": {
          "base_uri": "https://localhost:8080/"
        },
        "id": "jYaCbNfexERC",
        "outputId": "3aecf21d-334b-48eb-b287-bac7582e6404"
      },
      "execution_count": 123,
      "outputs": [
        {
          "output_type": "stream",
          "name": "stdout",
          "text": [
            "      Name  Age  Score\n",
            "0  Charlie   25     85\n",
            "1      Bob   30     90\n",
            "2    Alice   35     78\n",
            "3    David   40     88\n",
            "      Name  Age  Score\n",
            "1      Bob   30     90\n",
            "2    Alice   35     78\n",
            "3    David   40     88\n",
            "0  Charlie   25     85\n"
          ]
        }
      ]
    },
    {
      "cell_type": "markdown",
      "source": [
        "# ***Data Cleaning and Manipulation***"
      ],
      "metadata": {
        "id": "mJ7tNThqmlRs"
      }
    },
    {
      "cell_type": "markdown",
      "source": [
        "# **Handling Missing Data in Pandas**"
      ],
      "metadata": {
        "id": "3E6gfr4nmndo"
      }
    },
    {
      "cell_type": "code",
      "source": [],
      "metadata": {
        "id": "uKiDNwVdmqrP"
      },
      "execution_count": null,
      "outputs": []
    },
    {
      "cell_type": "markdown",
      "source": [
        "## **Identifying Missing Data**"
      ],
      "metadata": {
        "id": "_NcApXygmvX1"
      }
    },
    {
      "cell_type": "code",
      "source": [
        "data = {\n",
        "    'Name': ['Alice', 'Bob', None],\n",
        "    'Age': [25, None, 30],\n",
        "    'Score': [85.5, 90.0, None]\n",
        "}\n",
        "df = pd.DataFrame(data)\n",
        "\n",
        "print(df)"
      ],
      "metadata": {
        "colab": {
          "base_uri": "https://localhost:8080/"
        },
        "id": "JD8mjBxDmyqB",
        "outputId": "900ddf7a-31b7-44b8-db81-a2c4af3ad8f2"
      },
      "execution_count": 59,
      "outputs": [
        {
          "output_type": "stream",
          "name": "stdout",
          "text": [
            "    Name   Age  Score\n",
            "0  Alice  25.0   85.5\n",
            "1    Bob   NaN   90.0\n",
            "2   None  30.0    NaN\n"
          ]
        }
      ]
    },
    {
      "cell_type": "code",
      "source": [
        "# Identify missing values\n",
        "print(df.isnull())"
      ],
      "metadata": {
        "colab": {
          "base_uri": "https://localhost:8080/"
        },
        "id": "8ppXITdwm_0e",
        "outputId": "92483c70-6718-4521-a55d-587db5c6e9c7"
      },
      "execution_count": 46,
      "outputs": [
        {
          "output_type": "stream",
          "name": "stdout",
          "text": [
            "    Name    Age  Score\n",
            "0  False  False  False\n",
            "1  False   True  False\n",
            "2   True  False   True\n"
          ]
        }
      ]
    },
    {
      "cell_type": "code",
      "source": [
        "print(df.notnull()) # Identify non-missing values\n"
      ],
      "metadata": {
        "colab": {
          "base_uri": "https://localhost:8080/"
        },
        "id": "knZJnEmBnFZO",
        "outputId": "3332aa85-d2df-4087-d5d6-3273864b7618"
      },
      "execution_count": 47,
      "outputs": [
        {
          "output_type": "stream",
          "name": "stdout",
          "text": [
            "    Name    Age  Score\n",
            "0   True   True   True\n",
            "1   True  False   True\n",
            "2  False   True  False\n"
          ]
        }
      ]
    },
    {
      "cell_type": "code",
      "source": [
        "print(df.isnull().sum()) # Count missing values in each column"
      ],
      "metadata": {
        "colab": {
          "base_uri": "https://localhost:8080/"
        },
        "id": "H_Gkb1YJnMKq",
        "outputId": "1aca542d-1dd6-4e3d-b69c-c3d8d96f3cc3"
      },
      "execution_count": 48,
      "outputs": [
        {
          "output_type": "stream",
          "name": "stdout",
          "text": [
            "Name     1\n",
            "Age      1\n",
            "Score    1\n",
            "dtype: int64\n"
          ]
        }
      ]
    },
    {
      "cell_type": "markdown",
      "source": [
        "## **Removing Missing Data**"
      ],
      "metadata": {
        "id": "UadIlVkgnR8v"
      }
    },
    {
      "cell_type": "code",
      "source": [
        "# Drop rows with any missing values\n",
        "print(df)\n",
        "cleaned_df = df.dropna()\n",
        "print(cleaned_df)"
      ],
      "metadata": {
        "colab": {
          "base_uri": "https://localhost:8080/"
        },
        "id": "_dfKOW-inUjy",
        "outputId": "e4f1f1b4-19bf-44d5-9a64-3be2f8819739"
      },
      "execution_count": 49,
      "outputs": [
        {
          "output_type": "stream",
          "name": "stdout",
          "text": [
            "    Name   Age  Score\n",
            "0  Alice  25.0   85.5\n"
          ]
        }
      ]
    },
    {
      "cell_type": "code",
      "source": [
        "print(df)\n",
        "cleaned_df = df.dropna(axis=1) # Drop columns with any missing values\n",
        "print(cleaned_df)"
      ],
      "metadata": {
        "colab": {
          "base_uri": "https://localhost:8080/"
        },
        "id": "kQYjWPYEneWY",
        "outputId": "98617557-f9cb-4b6a-ef7e-30e5cbd1570b"
      },
      "execution_count": 51,
      "outputs": [
        {
          "output_type": "stream",
          "name": "stdout",
          "text": [
            "    Name   Age  Score\n",
            "0  Alice  25.0   85.5\n",
            "1    Bob   NaN   90.0\n",
            "2   None  30.0    NaN\n",
            "Empty DataFrame\n",
            "Columns: []\n",
            "Index: [0, 1, 2]\n"
          ]
        }
      ]
    },
    {
      "cell_type": "code",
      "source": [
        "# Keep rows with at least 2 non-missing values4\n",
        "print(df)\n",
        "cleaned_df = df.dropna(thresh=2)\n",
        "print(cleaned_df)"
      ],
      "metadata": {
        "colab": {
          "base_uri": "https://localhost:8080/"
        },
        "id": "YzH_rngUn0Au",
        "outputId": "7ce4505a-c3d0-49fa-ed92-e4b8e26abff6"
      },
      "execution_count": 52,
      "outputs": [
        {
          "output_type": "stream",
          "name": "stdout",
          "text": [
            "    Name   Age  Score\n",
            "0  Alice  25.0   85.5\n",
            "1    Bob   NaN   90.0\n",
            "2   None  30.0    NaN\n",
            "    Name   Age  Score\n",
            "0  Alice  25.0   85.5\n",
            "1    Bob   NaN   90.0\n"
          ]
        }
      ]
    },
    {
      "cell_type": "markdown",
      "source": [
        "## **Filling Missing Data**"
      ],
      "metadata": {
        "id": "lPaO8fxHn9NB"
      }
    },
    {
      "cell_type": "code",
      "source": [
        "# Fill missing values with 0\n",
        "print(df)\n",
        "filled_df = df.fillna(0)\n",
        "print(filled_df)\n"
      ],
      "metadata": {
        "colab": {
          "base_uri": "https://localhost:8080/"
        },
        "id": "5TokPOOWn_86",
        "outputId": "b3ba9dcd-9e65-4850-b6b5-c5e0d26729a6"
      },
      "execution_count": 60,
      "outputs": [
        {
          "output_type": "stream",
          "name": "stdout",
          "text": [
            "    Name   Age  Score\n",
            "0  Alice  25.0   85.5\n",
            "1    Bob   NaN   90.0\n",
            "2   None  30.0    NaN\n",
            "    Name   Age  Score\n",
            "0  Alice  25.0   85.5\n",
            "1    Bob   0.0   90.0\n",
            "2      0  30.0    0.0\n"
          ]
        }
      ]
    },
    {
      "cell_type": "code",
      "source": [
        "print(df)\n",
        "# Fill missing values in Age with the mean\n",
        "df['Age'] = df['Age'].fillna(df['Age'].mean())\n",
        "\n",
        "# Fill missing values in Score with the median\n",
        "df['Score'] = df['Score'].fillna(df['Score'].median())\n",
        "print(df)\n"
      ],
      "metadata": {
        "colab": {
          "base_uri": "https://localhost:8080/"
        },
        "id": "9AN_zsGXoYL8",
        "outputId": "e55297a7-07ea-47d2-b70e-8aec7cc532fc"
      },
      "execution_count": 61,
      "outputs": [
        {
          "output_type": "stream",
          "name": "stdout",
          "text": [
            "    Name   Age  Score\n",
            "0  Alice  25.0   85.5\n",
            "1    Bob   NaN   90.0\n",
            "2   None  30.0    NaN\n",
            "    Name   Age  Score\n",
            "0  Alice  25.0  85.50\n",
            "1    Bob  27.5  90.00\n",
            "2   None  30.0  87.75\n"
          ]
        }
      ]
    },
    {
      "cell_type": "code",
      "source": [
        "df = pd.DataFrame(data)\n",
        "print(df)\n",
        "# Forward fill (propagate the last valid value forward)\n",
        "df['Name'] = df['Name'].ffill()\n",
        "print(df)\n"
      ],
      "metadata": {
        "colab": {
          "base_uri": "https://localhost:8080/"
        },
        "id": "RvfPIqoBokfF",
        "outputId": "c65562c7-c670-41d4-aff0-76321cd39069"
      },
      "execution_count": 64,
      "outputs": [
        {
          "output_type": "stream",
          "name": "stdout",
          "text": [
            "    Name   Age  Score\n",
            "0  Alice  25.0   85.5\n",
            "1    Bob   NaN   90.0\n",
            "2   None  30.0    NaN\n",
            "    Name   Age  Score\n",
            "0  Alice  25.0   85.5\n",
            "1    Bob   NaN   90.0\n",
            "2    Bob  30.0    NaN\n"
          ]
        }
      ]
    },
    {
      "cell_type": "code",
      "source": [
        "# Backward fill (propagate the next valid value backward)\n",
        "df = pd.DataFrame(data)\n",
        "print(df)\n",
        "df['Age'] = df['Age'].bfill()\n",
        "print(df)\n"
      ],
      "metadata": {
        "colab": {
          "base_uri": "https://localhost:8080/"
        },
        "id": "2BxTEQLJpPKa",
        "outputId": "fa47d1c3-3e69-471d-e869-3631cb0b094b"
      },
      "execution_count": 66,
      "outputs": [
        {
          "output_type": "stream",
          "name": "stdout",
          "text": [
            "    Name   Age  Score\n",
            "0  Alice  25.0   85.5\n",
            "1    Bob   NaN   90.0\n",
            "2   None  30.0    NaN\n",
            "    Name   Age  Score\n",
            "0  Alice  25.0   85.5\n",
            "1    Bob  30.0   90.0\n",
            "2   None  30.0    NaN\n"
          ]
        }
      ]
    },
    {
      "cell_type": "markdown",
      "source": [
        "## **Interpolating Missing Data**"
      ],
      "metadata": {
        "id": "ZZQiZX0KpsgO"
      }
    },
    {
      "cell_type": "code",
      "source": [
        "# Linear interpolation for numeric columns\n",
        "df = pd.DataFrame(data)\n",
        "print(df)\n",
        "df['Age'] = df['Age'].interpolate(method='linear')\n",
        "print(df)"
      ],
      "metadata": {
        "colab": {
          "base_uri": "https://localhost:8080/"
        },
        "id": "BQj4A_RapupC",
        "outputId": "86168456-a3ae-463f-ce9f-615390f848a8"
      },
      "execution_count": 68,
      "outputs": [
        {
          "output_type": "stream",
          "name": "stdout",
          "text": [
            "    Name   Age  Score\n",
            "0  Alice  25.0   85.5\n",
            "1    Bob   NaN   90.0\n",
            "2   None  30.0    NaN\n",
            "    Name   Age  Score\n",
            "0  Alice  25.0   85.5\n",
            "1    Bob  27.5   90.0\n",
            "2   None  30.0    NaN\n"
          ]
        }
      ]
    },
    {
      "cell_type": "markdown",
      "source": [
        "# **Renaming Columns and Index**"
      ],
      "metadata": {
        "id": "f31vgDL6qDdg"
      }
    },
    {
      "cell_type": "code",
      "source": [
        "data = {\n",
        "    'old_name1': [1, 2, 3],\n",
        "    'old_name2': [4, 5, 6]\n",
        "}\n",
        "df = pd.DataFrame(data)\n",
        "print(df)"
      ],
      "metadata": {
        "colab": {
          "base_uri": "https://localhost:8080/"
        },
        "id": "F_YEcHaHqFkM",
        "outputId": "f69ef4d2-f7da-428f-dcda-6994b0c25946"
      },
      "execution_count": 69,
      "outputs": [
        {
          "output_type": "stream",
          "name": "stdout",
          "text": [
            "   old_name1  old_name2\n",
            "0          1          4\n",
            "1          2          5\n",
            "2          3          6\n"
          ]
        }
      ]
    },
    {
      "cell_type": "code",
      "source": [
        "df = df.rename(columns={'old_name1': 'new_name1', 'old_name2': 'new_name2'})\n",
        "print(df)\n"
      ],
      "metadata": {
        "colab": {
          "base_uri": "https://localhost:8080/"
        },
        "id": "B0qtvCDuqUkL",
        "outputId": "9a04e617-e05f-45e3-bc62-be4690cc1d3c"
      },
      "execution_count": 70,
      "outputs": [
        {
          "output_type": "stream",
          "name": "stdout",
          "text": [
            "   new_name1  new_name2\n",
            "0          1          4\n",
            "1          2          5\n",
            "2          3          6\n"
          ]
        }
      ]
    },
    {
      "cell_type": "code",
      "source": [
        "# Rename index labels\n",
        "df = df.rename(index={0: 'first', 1: 'second', 2: 'third'})\n",
        "print(df)\n"
      ],
      "metadata": {
        "colab": {
          "base_uri": "https://localhost:8080/"
        },
        "id": "sqSw-vdFqadJ",
        "outputId": "8d149d2f-82b8-4d27-b0db-57b8c15b6513"
      },
      "execution_count": 71,
      "outputs": [
        {
          "output_type": "stream",
          "name": "stdout",
          "text": [
            "        new_name1  new_name2\n",
            "first           1          4\n",
            "second          2          5\n",
            "third           3          6\n"
          ]
        }
      ]
    },
    {
      "cell_type": "code",
      "source": [
        "# Convert column names to uppercase\n",
        "print(df)\n",
        "df = df.rename(columns=str.upper)\n",
        "print(df)"
      ],
      "metadata": {
        "colab": {
          "base_uri": "https://localhost:8080/"
        },
        "id": "iA8_FkPUqewd",
        "outputId": "cf7fb39b-ee62-4542-f3d7-f6a19d59bce0"
      },
      "execution_count": 72,
      "outputs": [
        {
          "output_type": "stream",
          "name": "stdout",
          "text": [
            "        new_name1  new_name2\n",
            "first           1          4\n",
            "second          2          5\n",
            "third           3          6\n",
            "        NEW_NAME1  NEW_NAME2\n",
            "first           1          4\n",
            "second          2          5\n",
            "third           3          6\n"
          ]
        }
      ]
    },
    {
      "cell_type": "code",
      "source": [
        "# Add a prefix to index labels\n",
        "print(df)\n",
        "df = df.rename(index=lambda x: f\"row_{x}\")\n",
        "print(df)\n"
      ],
      "metadata": {
        "colab": {
          "base_uri": "https://localhost:8080/"
        },
        "id": "noW0Q2Quqqru",
        "outputId": "3b2c61f4-6d48-4fd9-90e4-95c128f7e424"
      },
      "execution_count": 73,
      "outputs": [
        {
          "output_type": "stream",
          "name": "stdout",
          "text": [
            "        NEW_NAME1  NEW_NAME2\n",
            "first           1          4\n",
            "second          2          5\n",
            "third           3          6\n",
            "            NEW_NAME1  NEW_NAME2\n",
            "row_first           1          4\n",
            "row_second          2          5\n",
            "row_third           3          6\n"
          ]
        }
      ]
    },
    {
      "cell_type": "code",
      "source": [
        "# Rename all columns\n",
        "print(df)\n",
        "df.columns = ['Column1', 'Column2']\n",
        "print(df)\n"
      ],
      "metadata": {
        "colab": {
          "base_uri": "https://localhost:8080/"
        },
        "id": "G7oCekthqydQ",
        "outputId": "e4e3b7f9-ff7c-48ee-fe24-09aa72f8959b"
      },
      "execution_count": 74,
      "outputs": [
        {
          "output_type": "stream",
          "name": "stdout",
          "text": [
            "            NEW_NAME1  NEW_NAME2\n",
            "row_first           1          4\n",
            "row_second          2          5\n",
            "row_third           3          6\n",
            "            Column1  Column2\n",
            "row_first         1        4\n",
            "row_second        2        5\n",
            "row_third         3        6\n"
          ]
        }
      ]
    },
    {
      "cell_type": "code",
      "source": [
        "# Rename all index labels\n",
        "print(df)\n",
        "df.index = ['Index1', 'Index2', 'Index3']\n",
        "print(df)\n"
      ],
      "metadata": {
        "colab": {
          "base_uri": "https://localhost:8080/"
        },
        "id": "UUDfrXUmq5Qr",
        "outputId": "1a908b9c-8517-46b0-e85a-fffe66ce156d"
      },
      "execution_count": 75,
      "outputs": [
        {
          "output_type": "stream",
          "name": "stdout",
          "text": [
            "            Column1  Column2\n",
            "row_first         1        4\n",
            "row_second        2        5\n",
            "row_third         3        6\n",
            "        Column1  Column2\n",
            "Index1        1        4\n",
            "Index2        2        5\n",
            "Index3        3        6\n"
          ]
        }
      ]
    },
    {
      "cell_type": "code",
      "source": [
        "# Rename columns in place\n",
        "print(df)\n",
        "df.rename(columns={'Column1': 'C1', 'Column2': 'C2'}, inplace=True)\n",
        "print(df)\n"
      ],
      "metadata": {
        "colab": {
          "base_uri": "https://localhost:8080/"
        },
        "id": "BEHEo_TbrFHm",
        "outputId": "af4cb82d-f800-4c15-d80b-0c2a4dca3445"
      },
      "execution_count": 76,
      "outputs": [
        {
          "output_type": "stream",
          "name": "stdout",
          "text": [
            "        Column1  Column2\n",
            "Index1        1        4\n",
            "Index2        2        5\n",
            "Index3        3        6\n",
            "        C1  C2\n",
            "Index1   1   4\n",
            "Index2   2   5\n",
            "Index3   3   6\n"
          ]
        }
      ]
    },
    {
      "cell_type": "code",
      "source": [
        "print(df)\n",
        "df = df.reset_index() # Reset index labels\n",
        "print(df)\n"
      ],
      "metadata": {
        "colab": {
          "base_uri": "https://localhost:8080/"
        },
        "id": "T_562NfXrPeV",
        "outputId": "8a370bc6-e265-43a3-8ebb-3a96497ea571"
      },
      "execution_count": 77,
      "outputs": [
        {
          "output_type": "stream",
          "name": "stdout",
          "text": [
            "        C1  C2\n",
            "Index1   1   4\n",
            "Index2   2   5\n",
            "Index3   3   6\n",
            "    index  C1  C2\n",
            "0  Index1   1   4\n",
            "1  Index2   2   5\n",
            "2  Index3   3   6\n"
          ]
        }
      ]
    },
    {
      "cell_type": "markdown",
      "source": [
        "# **Aggregation and Grouping**\n"
      ],
      "metadata": {
        "id": "MwgK27jzrc-U"
      }
    },
    {
      "cell_type": "markdown",
      "source": [
        "# **Grouping Data**"
      ],
      "metadata": {
        "id": "I1mypiX_xzOK"
      }
    },
    {
      "cell_type": "code",
      "source": [
        "# Sample DataFrame\n",
        "data = {\n",
        "    'Category': ['A', 'B', 'A', 'B', 'C'],\n",
        "    'Value': [10, 20, 30, 40, 50],\n",
        "    'Quantity': [1, 2, 3, 4, 5]\n",
        "}\n",
        "df = pd.DataFrame(data)\n",
        "print(df)"
      ],
      "metadata": {
        "colab": {
          "base_uri": "https://localhost:8080/"
        },
        "id": "nqwtIUpex5OC",
        "outputId": "60666f3c-ff3a-4375-97af-ba2623f1689f"
      },
      "execution_count": 129,
      "outputs": [
        {
          "output_type": "stream",
          "name": "stdout",
          "text": [
            "  Category  Value  Quantity\n",
            "0        A     10         1\n",
            "1        B     20         2\n",
            "2        A     30         3\n",
            "3        B     40         4\n",
            "4        C     50         5\n"
          ]
        }
      ]
    },
    {
      "cell_type": "code",
      "source": [
        "# Group by 'Category' and calculate the sum of 'Value'\n",
        "print(df)\n",
        "grouped = df.groupby('Category')['Value'].sum()\n",
        "print(grouped)"
      ],
      "metadata": {
        "colab": {
          "base_uri": "https://localhost:8080/"
        },
        "id": "blaL2gG8rfhx",
        "outputId": "367c65a7-379b-4074-d015-5bfa9788ce84"
      },
      "execution_count": 130,
      "outputs": [
        {
          "output_type": "stream",
          "name": "stdout",
          "text": [
            "  Category  Value  Quantity\n",
            "0        A     10         1\n",
            "1        B     20         2\n",
            "2        A     30         3\n",
            "3        B     40         4\n",
            "4        C     50         5\n",
            "Category\n",
            "A    40\n",
            "B    60\n",
            "C    50\n",
            "Name: Value, dtype: int64\n"
          ]
        }
      ]
    },
    {
      "cell_type": "code",
      "source": [
        "# Group by 'Category' and 'Quantity' and calculate the sum of 'Value'\n",
        "print(df)\n",
        "grouped = df.groupby(['Category', 'Quantity'])['Value'].sum()\n",
        "print(grouped)"
      ],
      "metadata": {
        "colab": {
          "base_uri": "https://localhost:8080/"
        },
        "id": "QPmZjCcKyGoX",
        "outputId": "9cf8cb66-5872-4712-d2c8-9704e6722296"
      },
      "execution_count": 131,
      "outputs": [
        {
          "output_type": "stream",
          "name": "stdout",
          "text": [
            "  Category  Value  Quantity\n",
            "0        A     10         1\n",
            "1        B     20         2\n",
            "2        A     30         3\n",
            "3        B     40         4\n",
            "4        C     50         5\n",
            "Category  Quantity\n",
            "A         1           10\n",
            "          3           30\n",
            "B         2           20\n",
            "          4           40\n",
            "C         5           50\n",
            "Name: Value, dtype: int64\n"
          ]
        }
      ]
    },
    {
      "cell_type": "code",
      "source": [
        "# Add a column with the mean value of each group\n",
        "print(df)\n",
        "df['GroupMean'] = df.groupby('Category')['Value'].transform('mean')\n",
        "print(df)\n"
      ],
      "metadata": {
        "colab": {
          "base_uri": "https://localhost:8080/"
        },
        "id": "7bs97n7lznvF",
        "outputId": "6d0efeaa-8ed6-449a-ead5-3c7e320e9556"
      },
      "execution_count": 140,
      "outputs": [
        {
          "output_type": "stream",
          "name": "stdout",
          "text": [
            "  Category  Value  Quantity  GroupMean\n",
            "0        A     10         1       20.0\n",
            "1        B     20         2       30.0\n",
            "2        A     30         3       20.0\n",
            "3        B     40         4       30.0\n",
            "4        C     50         5       50.0\n",
            "  Category  Value  Quantity  GroupMean\n",
            "0        A     10         1       20.0\n",
            "1        B     20         2       30.0\n",
            "2        A     30         3       20.0\n",
            "3        B     40         4       30.0\n",
            "4        C     50         5       50.0\n"
          ]
        }
      ]
    },
    {
      "cell_type": "code",
      "source": [
        "# Keep only groups where the sum of 'Value' is greater than 50\n",
        "print(df)\n",
        "filtered = df.groupby('Category').filter(lambda group: group['Value'].sum() > 50)\n",
        "print(filtered)\n"
      ],
      "metadata": {
        "colab": {
          "base_uri": "https://localhost:8080/"
        },
        "id": "5whw8xuGzxyT",
        "outputId": "58baf3f0-153c-48f1-b49e-3b3e035a3a4d"
      },
      "execution_count": 141,
      "outputs": [
        {
          "output_type": "stream",
          "name": "stdout",
          "text": [
            "  Category  Value  Quantity  GroupMean\n",
            "0        A     10         1       20.0\n",
            "1        B     20         2       30.0\n",
            "2        A     30         3       20.0\n",
            "3        B     40         4       30.0\n",
            "4        C     50         5       50.0\n",
            "  Category  Value  Quantity  GroupMean\n",
            "1        B     20         2       30.0\n",
            "3        B     40         4       30.0\n"
          ]
        }
      ]
    },
    {
      "cell_type": "code",
      "source": [
        "# Set 'Category' as the index and group by it\n",
        "df = df.set_index('Category')\n",
        "grouped = df.groupby(level=0).sum()\n",
        "print(grouped)"
      ],
      "metadata": {
        "colab": {
          "base_uri": "https://localhost:8080/"
        },
        "id": "BFdvcXsAz6DV",
        "outputId": "47d80f0e-4a4c-43f0-9108-8b098ea3a3a7"
      },
      "execution_count": 142,
      "outputs": [
        {
          "output_type": "stream",
          "name": "stdout",
          "text": [
            "          Value  Quantity  GroupMean\n",
            "Category                            \n",
            "A            40         4       40.0\n",
            "B            60         6       60.0\n",
            "C            50         5       50.0\n"
          ]
        }
      ]
    },
    {
      "cell_type": "markdown",
      "source": [
        "# **Aggregation Functions**"
      ],
      "metadata": {
        "id": "0Z43sC6CySyA"
      }
    },
    {
      "cell_type": "code",
      "source": [
        "# Apply aggregations to the entire DataFrame\n",
        "print(df)\n",
        "print(df.sum())   # Sum of all numeric columns\n",
        "print(df.mean())  # Mean of all numeric columns\n",
        "print(df.median())  # Median of all numeric columns\n",
        "print(df.min())   # Min of all numeric columns\n",
        "print(df.max())   # Max of all numeric columns\n",
        "print(df.std())   # Standard deviation of all numeric columns\n",
        "print(df.count()) # Count of non-null values in all columns\n",
        "print(df.var()) # Variance of all numeric columns\n",
        "print(df.prod()) # Product of all numeric columns\n",
        "print(df['Value'].sum())  # Sum of 'Value' column\n",
        "print(df[['Value', 'Quantity']].mean())"
      ],
      "metadata": {
        "colab": {
          "base_uri": "https://localhost:8080/"
        },
        "id": "W2f1sKLh0NCq",
        "outputId": "787c3324-b1f0-4ba2-e7ca-c6d56d275872"
      },
      "execution_count": 148,
      "outputs": [
        {
          "output_type": "stream",
          "name": "stdout",
          "text": [
            "          Value  Quantity  GroupMean\n",
            "Category                            \n",
            "A            10         1       20.0\n",
            "B            20         2       30.0\n",
            "A            30         3       20.0\n",
            "B            40         4       30.0\n",
            "C            50         5       50.0\n",
            "Value        150.0\n",
            "Quantity      15.0\n",
            "GroupMean    150.0\n",
            "dtype: float64\n",
            "Value        30.0\n",
            "Quantity      3.0\n",
            "GroupMean    30.0\n",
            "dtype: float64\n",
            "Value        30.0\n",
            "Quantity      3.0\n",
            "GroupMean    30.0\n",
            "dtype: float64\n",
            "Value        10.0\n",
            "Quantity      1.0\n",
            "GroupMean    20.0\n",
            "dtype: float64\n",
            "Value        50.0\n",
            "Quantity      5.0\n",
            "GroupMean    50.0\n",
            "dtype: float64\n",
            "Value        15.811388\n",
            "Quantity      1.581139\n",
            "GroupMean    12.247449\n",
            "dtype: float64\n",
            "Value        5\n",
            "Quantity     5\n",
            "GroupMean    5\n",
            "dtype: int64\n",
            "Value        250.0\n",
            "Quantity       2.5\n",
            "GroupMean    150.0\n",
            "dtype: float64\n",
            "Value        12000000.0\n",
            "Quantity          120.0\n",
            "GroupMean    18000000.0\n",
            "dtype: float64\n",
            "150\n",
            "Value       30.0\n",
            "Quantity     3.0\n",
            "dtype: float64\n"
          ]
        }
      ]
    },
    {
      "cell_type": "code",
      "source": [
        "# Group by 'Category' and apply multiple aggregations to 'Value'\n",
        "print(df)\n",
        "grouped = df.groupby('Category')['Value'].agg(['sum', 'mean', 'count'])\n",
        "print(grouped)"
      ],
      "metadata": {
        "colab": {
          "base_uri": "https://localhost:8080/"
        },
        "id": "ZNBghQjmyUo5",
        "outputId": "74deb2ba-493c-45df-d700-66ca5fbcaa6e"
      },
      "execution_count": 132,
      "outputs": [
        {
          "output_type": "stream",
          "name": "stdout",
          "text": [
            "  Category  Value  Quantity\n",
            "0        A     10         1\n",
            "1        B     20         2\n",
            "2        A     30         3\n",
            "3        B     40         4\n",
            "4        C     50         5\n",
            "          sum  mean  count\n",
            "Category                  \n",
            "A          40  20.0      2\n",
            "B          60  30.0      2\n",
            "C          50  50.0      1\n"
          ]
        }
      ]
    },
    {
      "cell_type": "code",
      "source": [
        "# Group by 'Category' and calculate the range of 'Value'\n",
        "print(df)\n",
        "def value_range(series):\n",
        "    return series.max() - series.min()\n",
        "\n",
        "grouped = df.groupby('Category')['Value'].agg(value_range)\n",
        "print(grouped)"
      ],
      "metadata": {
        "colab": {
          "base_uri": "https://localhost:8080/"
        },
        "id": "sAvcCEi2yLK4",
        "outputId": "3d6a99f9-b146-4228-f191-1705734764a2"
      },
      "execution_count": 133,
      "outputs": [
        {
          "output_type": "stream",
          "name": "stdout",
          "text": [
            "  Category  Value  Quantity\n",
            "0        A     10         1\n",
            "1        B     20         2\n",
            "2        A     30         3\n",
            "3        B     40         4\n",
            "4        C     50         5\n",
            "Category\n",
            "A    20\n",
            "B    20\n",
            "C     0\n",
            "Name: Value, dtype: int64\n"
          ]
        }
      ]
    },
    {
      "cell_type": "code",
      "source": [
        "print(df)\n",
        "grouped = df.groupby('Category')\n",
        "for name, group in grouped:\n",
        "    print(f\"Group: {name}\")\n",
        "    print(group)\n"
      ],
      "metadata": {
        "colab": {
          "base_uri": "https://localhost:8080/"
        },
        "id": "jDyHNt8dyzmg",
        "outputId": "1b102bd8-e8e9-482c-b429-88a67d2a83b6"
      },
      "execution_count": 135,
      "outputs": [
        {
          "output_type": "stream",
          "name": "stdout",
          "text": [
            "  Category  Value  Quantity\n",
            "0        A     10         1\n",
            "1        B     20         2\n",
            "2        A     30         3\n",
            "3        B     40         4\n",
            "4        C     50         5\n",
            "Group: A\n",
            "  Category  Value  Quantity\n",
            "0        A     10         1\n",
            "2        A     30         3\n",
            "Group: B\n",
            "  Category  Value  Quantity\n",
            "1        B     20         2\n",
            "3        B     40         4\n",
            "Group: C\n",
            "  Category  Value  Quantity\n",
            "4        C     50         5\n"
          ]
        }
      ]
    },
    {
      "cell_type": "code",
      "source": [
        "# Group by 'Category' and reset the index\n",
        "print(df)\n",
        "grouped = df.groupby('Category')['Value'].sum().reset_index()\n",
        "print(grouped)\n"
      ],
      "metadata": {
        "colab": {
          "base_uri": "https://localhost:8080/"
        },
        "id": "_x-xbeTozAuD",
        "outputId": "80b9e875-9997-4e72-e786-4aac81723c2a"
      },
      "execution_count": 136,
      "outputs": [
        {
          "output_type": "stream",
          "name": "stdout",
          "text": [
            "  Category  Value  Quantity\n",
            "0        A     10         1\n",
            "1        B     20         2\n",
            "2        A     30         3\n",
            "3        B     40         4\n",
            "4        C     50         5\n",
            "  Category  Value\n",
            "0        A     40\n",
            "1        B     60\n",
            "2        C     50\n"
          ]
        }
      ]
    },
    {
      "cell_type": "code",
      "source": [
        "# Apply different aggregations to 'Value' and 'Quantity'\n",
        "print(df)\n",
        "grouped = df.groupby('Category').agg({\n",
        "    'Value': 'sum',\n",
        "    'Quantity': 'mean'\n",
        "})\n",
        "print(grouped)\n"
      ],
      "metadata": {
        "colab": {
          "base_uri": "https://localhost:8080/"
        },
        "id": "5YaJQ_PrzKiB",
        "outputId": "cd47ca58-4700-4f39-8a35-bf5a4143669e"
      },
      "execution_count": 137,
      "outputs": [
        {
          "output_type": "stream",
          "name": "stdout",
          "text": [
            "  Category  Value  Quantity\n",
            "0        A     10         1\n",
            "1        B     20         2\n",
            "2        A     30         3\n",
            "3        B     40         4\n",
            "4        C     50         5\n",
            "          Value  Quantity\n",
            "Category                 \n",
            "A            40       2.0\n",
            "B            60       3.0\n",
            "C            50       5.0\n"
          ]
        }
      ]
    },
    {
      "cell_type": "code",
      "source": [],
      "metadata": {
        "colab": {
          "base_uri": "https://localhost:8080/"
        },
        "id": "LKp3TXwmzS_A",
        "outputId": "3e25a522-20c1-4fd8-9804-939778e6901d"
      },
      "execution_count": 138,
      "outputs": [
        {
          "output_type": "stream",
          "name": "stdout",
          "text": [
            "  Category  Value  Quantity\n",
            "0        A     10         1\n",
            "1        B     20         2\n",
            "2        A     30         3\n",
            "3        B     40         4\n",
            "4        C     50         5\n",
            "  Category  Value  Quantity  GroupMean\n",
            "0        A     10         1       20.0\n",
            "1        B     20         2       30.0\n",
            "2        A     30         3       20.0\n",
            "3        B     40         4       30.0\n",
            "4        C     50         5       50.0\n"
          ]
        }
      ]
    },
    {
      "cell_type": "code",
      "source": [],
      "metadata": {
        "colab": {
          "base_uri": "https://localhost:8080/"
        },
        "id": "A27eRZH4ze2E",
        "outputId": "8b634d1f-bb5a-4c7d-cb4b-4fc900dcc8f8"
      },
      "execution_count": 139,
      "outputs": [
        {
          "output_type": "stream",
          "name": "stdout",
          "text": [
            "  Category  Value  Quantity  GroupMean\n",
            "0        A     10         1       20.0\n",
            "1        B     20         2       30.0\n",
            "2        A     30         3       20.0\n",
            "3        B     40         4       30.0\n",
            "4        C     50         5       50.0\n",
            "  Category  Value  Quantity  GroupMean\n",
            "1        B     20         2       30.0\n",
            "3        B     40         4       30.0\n"
          ]
        }
      ]
    },
    {
      "cell_type": "markdown",
      "source": [
        "# **Pivot Tables in Pandas**"
      ],
      "metadata": {
        "id": "Cgdg-alS1dfc"
      }
    },
    {
      "cell_type": "code",
      "source": [
        "# Sample DataFrame\n",
        "data = {\n",
        "    'Region': ['East', 'West', 'East', 'West', 'East', 'West'],\n",
        "    'Product': ['A', 'A', 'B', 'B', 'C', 'C'],\n",
        "    'Sales': [100, 150, 200, 250, 300, 350],\n",
        "}\n",
        "df = pd.DataFrame(data)\n",
        "print(df)\n",
        "# Create a pivot table\n",
        "pivot_table = df.pivot_table(\n",
        "    values='Sales',\n",
        "    index='Region',\n",
        "    columns='Product',\n",
        "    aggfunc='sum'\n",
        ")\n",
        "print(pivot_table)"
      ],
      "metadata": {
        "colab": {
          "base_uri": "https://localhost:8080/"
        },
        "id": "WGa2ADws1fo6",
        "outputId": "3288c5b0-55aa-450c-cf88-ca70265f7115"
      },
      "execution_count": 149,
      "outputs": [
        {
          "output_type": "stream",
          "name": "stdout",
          "text": [
            "  Region Product  Sales\n",
            "0   East       A    100\n",
            "1   West       A    150\n",
            "2   East       B    200\n",
            "3   West       B    250\n",
            "4   East       C    300\n",
            "5   West       C    350\n",
            "Product    A    B    C\n",
            "Region                \n",
            "East     100  200  300\n",
            "West     150  250  350\n"
          ]
        }
      ]
    },
    {
      "cell_type": "code",
      "source": [
        "# Create a pivot table with multiple aggregation functions\n",
        "pivot_table = df.pivot_table(\n",
        "    values='Sales',\n",
        "    index='Region',\n",
        "    columns='Product',\n",
        "    aggfunc=['sum', 'mean']\n",
        ")\n",
        "print(pivot_table)"
      ],
      "metadata": {
        "colab": {
          "base_uri": "https://localhost:8080/"
        },
        "id": "nFv-Ym8K11Di",
        "outputId": "8e42b9db-2a5e-4789-b055-9f9a7abcc020"
      },
      "execution_count": 150,
      "outputs": [
        {
          "output_type": "stream",
          "name": "stdout",
          "text": [
            "         sum             mean              \n",
            "Product    A    B    C      A      B      C\n",
            "Region                                     \n",
            "East     100  200  300  100.0  200.0  300.0\n",
            "West     150  250  350  150.0  250.0  350.0\n"
          ]
        }
      ]
    },
    {
      "cell_type": "code",
      "source": [
        "pivot_table = df.pivot_table(\n",
        "    values='Sales',\n",
        "    index='Region',\n",
        "    columns='Product',\n",
        "    aggfunc='sum',\n",
        "    fill_value=0\n",
        ") # Fill missing values with 0\n",
        "print(pivot_table)"
      ],
      "metadata": {
        "colab": {
          "base_uri": "https://localhost:8080/"
        },
        "id": "Qp6iHaxY180h",
        "outputId": "3c3a34c8-7dfd-488f-d342-f1c553695d1b"
      },
      "execution_count": 151,
      "outputs": [
        {
          "output_type": "stream",
          "name": "stdout",
          "text": [
            "Product    A    B    C\n",
            "Region                \n",
            "East     100  200  300\n",
            "West     150  250  350\n"
          ]
        }
      ]
    },
    {
      "cell_type": "code",
      "source": [
        "pivot_table = df.pivot_table(\n",
        "    values='Sales',\n",
        "    index='Region',\n",
        "    columns='Product',\n",
        "    aggfunc='sum',\n",
        "    margins=True\n",
        ") # Add row and column totals\n",
        "print(pivot_table)\n"
      ],
      "metadata": {
        "colab": {
          "base_uri": "https://localhost:8080/"
        },
        "id": "NngpTAMT2C0h",
        "outputId": "dd611f45-7499-4e5e-f306-7abce9c56c03"
      },
      "execution_count": 152,
      "outputs": [
        {
          "output_type": "stream",
          "name": "stdout",
          "text": [
            "Product    A    B    C   All\n",
            "Region                      \n",
            "East     100  200  300   600\n",
            "West     150  250  350   750\n",
            "All      250  450  650  1350\n"
          ]
        }
      ]
    },
    {
      "cell_type": "code",
      "source": [
        "# Sample DataFrame with additional grouping by Year\n",
        "data = {\n",
        "    'Year': [2020, 2020, 2021, 2021, 2021],\n",
        "    'Region': ['East', 'West', 'East', 'West', 'East'],\n",
        "    'Product': ['A', 'A', 'B', 'B', 'C'],\n",
        "    'Sales': [100, 150, 200, 250, 300],\n",
        "}\n",
        "df = pd.DataFrame(data)\n",
        "\n",
        "# Create a multi-level pivot table with both 'Year' and 'Region' as indexes\n",
        "pivot_table = df.pivot_table(\n",
        "    values='Sales',\n",
        "    index=['Year', 'Region'],\n",
        "    columns='Product',\n",
        "    aggfunc='sum'\n",
        ")\n",
        "print(pivot_table)\n"
      ],
      "metadata": {
        "colab": {
          "base_uri": "https://localhost:8080/"
        },
        "id": "61-l75_F2NHl",
        "outputId": "7a595f51-0bb0-4ee0-f866-60b060558997"
      },
      "execution_count": 153,
      "outputs": [
        {
          "output_type": "stream",
          "name": "stdout",
          "text": [
            "Product          A      B      C\n",
            "Year Region                     \n",
            "2020 East    100.0    NaN    NaN\n",
            "     West    150.0    NaN    NaN\n",
            "2021 East      NaN  200.0  300.0\n",
            "     West      NaN  250.0    NaN\n"
          ]
        }
      ]
    },
    {
      "cell_type": "code",
      "source": [
        "# Define a custom aggregation function to find the range (max - min)\n",
        "def value_range(series):\n",
        "    return series.max() - series.min()\n",
        "\n",
        "# Create a pivot table with custom aggregation\n",
        "pivot_table = df.pivot_table(\n",
        "    values='Sales',\n",
        "    index='Region',\n",
        "    columns='Product',\n",
        "    aggfunc=value_range\n",
        ")\n",
        "print(pivot_table)\n"
      ],
      "metadata": {
        "colab": {
          "base_uri": "https://localhost:8080/"
        },
        "id": "VAa5RQRd2VvR",
        "outputId": "3264154b-b5d8-4e47-e52e-7a38f5cb6073"
      },
      "execution_count": 154,
      "outputs": [
        {
          "output_type": "stream",
          "name": "stdout",
          "text": [
            "Product    A    B    C\n",
            "Region                \n",
            "East     0.0  0.0  0.0\n",
            "West     0.0  0.0  NaN\n"
          ]
        }
      ]
    },
    {
      "cell_type": "markdown",
      "source": [
        "# ***Merging and Joining***"
      ],
      "metadata": {
        "id": "nl_QjODq2e94"
      }
    },
    {
      "cell_type": "markdown",
      "source": [
        "# **Merging DataFrames**"
      ],
      "metadata": {
        "id": "UQ_2RFos2hWt"
      }
    },
    {
      "cell_type": "markdown",
      "source": [],
      "metadata": {
        "id": "XyxbbWA63KJ0"
      }
    },
    {
      "cell_type": "code",
      "source": [
        "df1 = pd.DataFrame({\n",
        "    'ID': [1, 2, 3],\n",
        "    'Name': ['Alice', 'Bob', 'Charlie']\n",
        "})\n",
        "\n",
        "df2 = pd.DataFrame({\n",
        "    'ID': [2, 3, 4],\n",
        "    'Score': [85, 90, 95]\n",
        "})\n",
        "\n"
      ],
      "metadata": {
        "colab": {
          "base_uri": "https://localhost:8080/"
        },
        "id": "fkMNb0Zg2k-f",
        "outputId": "239fca6e-d8b9-4741-be6b-55d3a5c44d26"
      },
      "execution_count": 155,
      "outputs": [
        {
          "output_type": "stream",
          "name": "stdout",
          "text": [
            "   ID     Name  Score\n",
            "0   2      Bob     85\n",
            "1   3  Charlie     90\n"
          ]
        }
      ]
    },
    {
      "cell_type": "code",
      "source": [
        "# Inner Join\n",
        "result = pd.merge(df1, df2, on='ID')\n",
        "print(result)"
      ],
      "metadata": {
        "colab": {
          "base_uri": "https://localhost:8080/"
        },
        "id": "h2_2KvEM21IG",
        "outputId": "8a94a00a-3c02-495f-81c7-8fb129ddf28b"
      },
      "execution_count": 156,
      "outputs": [
        {
          "output_type": "stream",
          "name": "stdout",
          "text": [
            "   ID     Name  Score\n",
            "0   2      Bob     85\n",
            "1   3  Charlie     90\n"
          ]
        }
      ]
    },
    {
      "cell_type": "code",
      "source": [
        "result = pd.merge(df1, df2, on='ID', how='outer') # Outer Join\n",
        "print(result)\n"
      ],
      "metadata": {
        "colab": {
          "base_uri": "https://localhost:8080/"
        },
        "id": "1S8XF9NV20XU",
        "outputId": "47b12ae6-b257-4df2-cff8-8d084bca04bf"
      },
      "execution_count": 157,
      "outputs": [
        {
          "output_type": "stream",
          "name": "stdout",
          "text": [
            "   ID     Name  Score\n",
            "0   1    Alice    NaN\n",
            "1   2      Bob   85.0\n",
            "2   3  Charlie   90.0\n",
            "3   4      NaN   95.0\n"
          ]
        }
      ]
    },
    {
      "cell_type": "code",
      "source": [
        "result = pd.merge(df1, df2, on='ID', how='left')\n",
        "print(result)\n"
      ],
      "metadata": {
        "colab": {
          "base_uri": "https://localhost:8080/"
        },
        "id": "-oIkP_AF26bt",
        "outputId": "6bf17deb-ff9e-406b-97f5-15dd522ca181"
      },
      "execution_count": 158,
      "outputs": [
        {
          "output_type": "stream",
          "name": "stdout",
          "text": [
            "   ID     Name  Score\n",
            "0   1    Alice    NaN\n",
            "1   2      Bob   85.0\n",
            "2   3  Charlie   90.0\n"
          ]
        }
      ]
    },
    {
      "cell_type": "code",
      "source": [
        "result = pd.merge(df1, df2, on='ID', how='right')\n",
        "print(result)\n"
      ],
      "metadata": {
        "colab": {
          "base_uri": "https://localhost:8080/"
        },
        "id": "6cV_TCxG285S",
        "outputId": "1ea62936-4f31-4965-9932-d030565d48bf"
      },
      "execution_count": 159,
      "outputs": [
        {
          "output_type": "stream",
          "name": "stdout",
          "text": [
            "   ID     Name  Score\n",
            "0   2      Bob     85\n",
            "1   3  Charlie     90\n",
            "2   4      NaN     95\n"
          ]
        }
      ]
    },
    {
      "cell_type": "code",
      "source": [
        "df3 = pd.DataFrame({\n",
        "    'User_ID': [2, 3, 4],\n",
        "    'Score': [85, 90, 95]\n",
        "})\n",
        "\n",
        "result = pd.merge(df1, df3, left_on='ID', right_on='User_ID') # Merge on 'ID' and 'User_ID'\n",
        "print(result)\n"
      ],
      "metadata": {
        "colab": {
          "base_uri": "https://localhost:8080/"
        },
        "id": "ytXkysDb3DVp",
        "outputId": "b74c2a49-7d2f-4cac-9c49-7e97732272ab"
      },
      "execution_count": 160,
      "outputs": [
        {
          "output_type": "stream",
          "name": "stdout",
          "text": [
            "   ID     Name  User_ID  Score\n",
            "0   2      Bob        2     85\n",
            "1   3  Charlie        3     90\n"
          ]
        }
      ]
    },
    {
      "cell_type": "code",
      "source": [
        "df4 = pd.DataFrame({\n",
        "    'Score': [85, 90, 95]\n",
        "}, index=[2, 3, 4])\n",
        "\n",
        "result = pd.merge(df1, df4, left_on='ID', right_index=True)\n",
        "print(result)"
      ],
      "metadata": {
        "colab": {
          "base_uri": "https://localhost:8080/"
        },
        "id": "Xrgamual3G36",
        "outputId": "a0aa1441-df39-4d7e-ce73-17e92faa5311"
      },
      "execution_count": 161,
      "outputs": [
        {
          "output_type": "stream",
          "name": "stdout",
          "text": [
            "   ID     Name  Score\n",
            "1   2      Bob     85\n",
            "2   3  Charlie     90\n"
          ]
        }
      ]
    },
    {
      "cell_type": "markdown",
      "source": [
        "# **The .join() Method**"
      ],
      "metadata": {
        "id": "MXOYhyEd3NUc"
      }
    },
    {
      "cell_type": "code",
      "source": [
        "df1 = pd.DataFrame({\n",
        "    'Name': ['Alice', 'Bob', 'Charlie'],\n",
        "    'Age': [25, 30, 35]\n",
        "}, index=[1, 2, 3])\n",
        "\n",
        "df2 = pd.DataFrame({\n",
        "    'Score': [85, 90, 95]\n",
        "}, index=[2, 3, 4])\n",
        "\n"
      ],
      "metadata": {
        "colab": {
          "base_uri": "https://localhost:8080/"
        },
        "id": "GGZ-tKet3Ukc",
        "outputId": "9c8d1e21-0f63-40a3-bfed-dbdf346a9825"
      },
      "execution_count": 163,
      "outputs": [
        {
          "output_type": "stream",
          "name": "stdout",
          "text": [
            "      Name  Age  Score\n",
            "1    Alice   25    NaN\n",
            "2      Bob   30   85.0\n",
            "3  Charlie   35   90.0\n"
          ]
        }
      ]
    },
    {
      "cell_type": "code",
      "source": [
        "result = df1.join(df2)\n",
        "print(result)\n"
      ],
      "metadata": {
        "colab": {
          "base_uri": "https://localhost:8080/"
        },
        "id": "9T11iNAD3h_x",
        "outputId": "dfca44ee-6500-4791-8bd9-9c6c038f9e3a"
      },
      "execution_count": 164,
      "outputs": [
        {
          "output_type": "stream",
          "name": "stdout",
          "text": [
            "      Name  Age  Score\n",
            "1    Alice   25    NaN\n",
            "2      Bob   30   85.0\n",
            "3  Charlie   35   90.0\n"
          ]
        }
      ]
    },
    {
      "cell_type": "code",
      "source": [
        "result = df1.join(df2, how='inner') # Inner join\n",
        "print(result)\n"
      ],
      "metadata": {
        "colab": {
          "base_uri": "https://localhost:8080/"
        },
        "id": "ZW1Y8_9X3gAq",
        "outputId": "151214c0-415f-4351-cfec-dbb6e81472f9"
      },
      "execution_count": 165,
      "outputs": [
        {
          "output_type": "stream",
          "name": "stdout",
          "text": [
            "      Name  Age  Score\n",
            "2      Bob   30     85\n",
            "3  Charlie   35     90\n"
          ]
        }
      ]
    },
    {
      "cell_type": "markdown",
      "source": [
        "# **Concatenation DataFrames**"
      ],
      "metadata": {
        "id": "ose8tSa33wjq"
      }
    },
    {
      "cell_type": "code",
      "source": [
        "# Sample DataFrames\n",
        "df1 = pd.DataFrame({\n",
        "    'A': [1, 2],\n",
        "    'B': [3, 4]\n",
        "})\n",
        "\n",
        "df2 = pd.DataFrame({\n",
        "    'A': [5, 6],\n",
        "    'B': [7, 8]\n",
        "})\n",
        "\n",
        "\n"
      ],
      "metadata": {
        "id": "D1MRRTqc346A"
      },
      "execution_count": 166,
      "outputs": []
    },
    {
      "cell_type": "code",
      "source": [
        "# Concatenate along rows\n",
        "result = pd.concat([df1, df2])\n",
        "print(result)"
      ],
      "metadata": {
        "colab": {
          "base_uri": "https://localhost:8080/"
        },
        "id": "mVjQgzEv39cT",
        "outputId": "1b6cd22e-770b-4ae9-ea3e-4c19bbf13c5d"
      },
      "execution_count": 167,
      "outputs": [
        {
          "output_type": "stream",
          "name": "stdout",
          "text": [
            "   A  B\n",
            "0  1  3\n",
            "1  2  4\n",
            "0  5  7\n",
            "1  6  8\n"
          ]
        }
      ]
    },
    {
      "cell_type": "code",
      "source": [
        "# Concatenate along columns\n",
        "result = pd.concat([df1, df2], axis=1)\n",
        "print(result)\n"
      ],
      "metadata": {
        "colab": {
          "base_uri": "https://localhost:8080/"
        },
        "id": "aa9HPsfD4A-9",
        "outputId": "f979ca7d-56ee-43a1-e8e2-2eab9f5f8342"
      },
      "execution_count": 168,
      "outputs": [
        {
          "output_type": "stream",
          "name": "stdout",
          "text": [
            "   A  B  A  B\n",
            "0  1  3  5  7\n",
            "1  2  4  6  8\n"
          ]
        }
      ]
    },
    {
      "cell_type": "code",
      "source": [
        "result = pd.concat([df1, df2], ignore_index=True)\n",
        "print(result)\n"
      ],
      "metadata": {
        "colab": {
          "base_uri": "https://localhost:8080/"
        },
        "id": "8qelbey_4D5T",
        "outputId": "4cfdb698-79ac-4ec8-cb4a-deec48e33b3c"
      },
      "execution_count": 169,
      "outputs": [
        {
          "output_type": "stream",
          "name": "stdout",
          "text": [
            "   A  B\n",
            "0  1  3\n",
            "1  2  4\n",
            "2  5  7\n",
            "3  6  8\n"
          ]
        }
      ]
    },
    {
      "cell_type": "code",
      "source": [
        "df3 = pd.DataFrame({\n",
        "    'A': [9, 10],\n",
        "    'C': [11, 12]\n",
        "})\n",
        "\n",
        "result = pd.concat([df1, df3])\n",
        "print(result)"
      ],
      "metadata": {
        "colab": {
          "base_uri": "https://localhost:8080/"
        },
        "id": "URQRiDYA4IOn",
        "outputId": "7d1c475d-5b42-4457-95f7-1014df0ad6ac"
      },
      "execution_count": 170,
      "outputs": [
        {
          "output_type": "stream",
          "name": "stdout",
          "text": [
            "    A    B     C\n",
            "0   1  3.0   NaN\n",
            "1   2  4.0   NaN\n",
            "0   9  NaN  11.0\n",
            "1  10  NaN  12.0\n"
          ]
        }
      ]
    },
    {
      "cell_type": "code",
      "source": [
        "result = pd.concat([df1, df3], join='inner')\n",
        "print(result)\n"
      ],
      "metadata": {
        "colab": {
          "base_uri": "https://localhost:8080/"
        },
        "id": "AC-6FHPV4Por",
        "outputId": "1ce203ce-4341-40c4-c602-2ed0ce7130da"
      },
      "execution_count": 171,
      "outputs": [
        {
          "output_type": "stream",
          "name": "stdout",
          "text": [
            "    A\n",
            "0   1\n",
            "1   2\n",
            "0   9\n",
            "1  10\n"
          ]
        }
      ]
    },
    {
      "cell_type": "code",
      "source": [
        "result = pd.concat([df1, df2], keys=['First', 'Second'])\n",
        "print(result)\n"
      ],
      "metadata": {
        "colab": {
          "base_uri": "https://localhost:8080/"
        },
        "id": "xfGamWvr4XRR",
        "outputId": "9a542878-b1a5-4fd3-d50a-3fdfd5cee37a"
      },
      "execution_count": 172,
      "outputs": [
        {
          "output_type": "stream",
          "name": "stdout",
          "text": [
            "          A  B\n",
            "First  0  1  3\n",
            "       1  2  4\n",
            "Second 0  5  7\n",
            "       1  6  8\n"
          ]
        }
      ]
    },
    {
      "cell_type": "code",
      "source": [
        "df4 = pd.DataFrame({\n",
        "    'C': [13, 14]\n",
        "}, index=[1, 2])\n",
        "\n",
        "result = pd.concat([df1, df4], axis=1)\n",
        "print(result)"
      ],
      "metadata": {
        "colab": {
          "base_uri": "https://localhost:8080/"
        },
        "id": "AdmQJZXl4aDB",
        "outputId": "858ced47-2cd9-4371-8287-451be0d150ee"
      },
      "execution_count": 173,
      "outputs": [
        {
          "output_type": "stream",
          "name": "stdout",
          "text": [
            "     A    B     C\n",
            "0  1.0  3.0   NaN\n",
            "1  2.0  4.0  13.0\n",
            "2  NaN  NaN  14.0\n"
          ]
        }
      ]
    },
    {
      "cell_type": "markdown",
      "source": [
        "# **Time Series Analysis**"
      ],
      "metadata": {
        "id": "KTNSbhdt4gI5"
      }
    },
    {
      "cell_type": "markdown",
      "source": [
        "# **Datetime Operations**"
      ],
      "metadata": {
        "id": "z_oTQZOV4iBL"
      }
    },
    {
      "cell_type": "code",
      "source": [
        "# Converting strings to datetime\n",
        "dates = ['2025-01-01', '2025-01-02', '2025-01-03']\n",
        "datetime_series = pd.to_datetime(dates)\n",
        "\n",
        "print(datetime_series)\n"
      ],
      "metadata": {
        "colab": {
          "base_uri": "https://localhost:8080/"
        },
        "id": "cne9wOoZ4lGu",
        "outputId": "7407269d-96f4-48bc-f3ca-ba709e9a9c44"
      },
      "execution_count": 174,
      "outputs": [
        {
          "output_type": "stream",
          "name": "stdout",
          "text": [
            "DatetimeIndex(['2025-01-01', '2025-01-02', '2025-01-03'], dtype='datetime64[ns]', freq=None)\n"
          ]
        }
      ]
    },
    {
      "cell_type": "code",
      "source": [
        "# Generate a daily date range\n",
        "date_range = pd.date_range(start='2025-01-01', end='2025-01-10', freq='D')\n",
        "print(date_range)"
      ],
      "metadata": {
        "colab": {
          "base_uri": "https://localhost:8080/"
        },
        "id": "kZFum_YA4qEM",
        "outputId": "a6a1e7b1-9b75-45c9-e1c3-a75851e1400c"
      },
      "execution_count": 175,
      "outputs": [
        {
          "output_type": "stream",
          "name": "stdout",
          "text": [
            "DatetimeIndex(['2025-01-01', '2025-01-02', '2025-01-03', '2025-01-04',\n",
            "               '2025-01-05', '2025-01-06', '2025-01-07', '2025-01-08',\n",
            "               '2025-01-09', '2025-01-10'],\n",
            "              dtype='datetime64[ns]', freq='D')\n"
          ]
        }
      ]
    },
    {
      "cell_type": "code",
      "source": [
        "# Sample datetime series\n",
        "data = pd.Series(pd.date_range('2025-01-01', periods=5, freq='D'))\n",
        "\n",
        "# Extracting components\n",
        "print(\"Year:\", data.dt.year)\n",
        "print(\"Month:\", data.dt.month)\n",
        "print(\"Day:\", data.dt.day)\n",
        "print(\"Weekday:\", data.dt.weekday)"
      ],
      "metadata": {
        "colab": {
          "base_uri": "https://localhost:8080/"
        },
        "id": "aZY3tTcH4wCV",
        "outputId": "ed01f634-402b-4caf-dc1b-3cc3e120db67"
      },
      "execution_count": 176,
      "outputs": [
        {
          "output_type": "stream",
          "name": "stdout",
          "text": [
            "Year: 0    2025\n",
            "1    2025\n",
            "2    2025\n",
            "3    2025\n",
            "4    2025\n",
            "dtype: int32\n",
            "Month: 0    1\n",
            "1    1\n",
            "2    1\n",
            "3    1\n",
            "4    1\n",
            "dtype: int32\n",
            "Day: 0    1\n",
            "1    2\n",
            "2    3\n",
            "3    4\n",
            "4    5\n",
            "dtype: int32\n",
            "Weekday: 0    2\n",
            "1    3\n",
            "2    4\n",
            "3    5\n",
            "4    6\n",
            "dtype: int32\n"
          ]
        }
      ]
    },
    {
      "cell_type": "code",
      "source": [
        "# Creating a DataFrame with datetime index\n",
        "df = pd.DataFrame({\n",
        "    'Value': [10, 20, 15, 25, 30]\n",
        "}, index=pd.date_range('2025-01-01', periods=5, freq='D'))\n",
        "\n",
        "print(df)"
      ],
      "metadata": {
        "colab": {
          "base_uri": "https://localhost:8080/"
        },
        "id": "uiWQpU7C40I-",
        "outputId": "359e8e33-0772-495f-9ec2-757cb666db0b"
      },
      "execution_count": 185,
      "outputs": [
        {
          "output_type": "stream",
          "name": "stdout",
          "text": [
            "            Value\n",
            "2025-01-01     10\n",
            "2025-01-02     20\n",
            "2025-01-03     15\n",
            "2025-01-04     25\n",
            "2025-01-05     30\n"
          ]
        }
      ]
    },
    {
      "cell_type": "code",
      "source": [
        "# Resample to calculate weekly sum\n",
        "weekly = df.resample('W').sum()\n",
        "print(weekly)\n"
      ],
      "metadata": {
        "colab": {
          "base_uri": "https://localhost:8080/"
        },
        "id": "xCKzZ5x544IW",
        "outputId": "f7a931cc-7f26-4021-c01f-dd0e4e8cab1c"
      },
      "execution_count": 178,
      "outputs": [
        {
          "output_type": "stream",
          "name": "stdout",
          "text": [
            "            Value\n",
            "2025-01-05    100\n"
          ]
        }
      ]
    },
    {
      "cell_type": "code",
      "source": [
        "df2 = pd.DataFrame({\n",
        "    'Value': [50, 60]\n",
        "}, index=pd.date_range('2025-01-03', periods=2, freq='D'))\n",
        "print(df)\n",
        "# Combine data\n",
        "combined = df.add(df2, fill_value=0)\n",
        "print(combined)\n"
      ],
      "metadata": {
        "id": "krLZff2l6eF9"
      },
      "execution_count": null,
      "outputs": []
    },
    {
      "cell_type": "code",
      "source": [
        "# Shifting values\n",
        "print(df)\n",
        "df['Shifted'] = df['Value'].shift(1)\n",
        "print(df)\n"
      ],
      "metadata": {
        "colab": {
          "base_uri": "https://localhost:8080/"
        },
        "id": "9SKqBNHs478y",
        "outputId": "1d67a784-c660-43b4-8ace-2e1d03e2040b"
      },
      "execution_count": 179,
      "outputs": [
        {
          "output_type": "stream",
          "name": "stdout",
          "text": [
            "            Value  Shifted\n",
            "2025-01-01     10      NaN\n",
            "2025-01-02     20     10.0\n",
            "2025-01-03     15     20.0\n",
            "2025-01-04     25     15.0\n",
            "2025-01-05     30     25.0\n"
          ]
        }
      ]
    },
    {
      "cell_type": "code",
      "source": [
        "# Calculate a rolling mean with a window of 2\n",
        "print(df)\n",
        "df['Rolling_Mean'] = df['Value'].rolling(window=2).mean()\n",
        "print(df)\n"
      ],
      "metadata": {
        "colab": {
          "base_uri": "https://localhost:8080/"
        },
        "id": "UzwaqgeT4_31",
        "outputId": "a0d5193b-26b3-4fea-f6b1-5fe8fcb8493d"
      },
      "execution_count": 180,
      "outputs": [
        {
          "output_type": "stream",
          "name": "stdout",
          "text": [
            "            Value  Shifted  Rolling_Mean\n",
            "2025-01-01     10      NaN           NaN\n",
            "2025-01-02     20     10.0          15.0\n",
            "2025-01-03     15     20.0          17.5\n",
            "2025-01-04     25     15.0          20.0\n",
            "2025-01-05     30     25.0          27.5\n"
          ]
        }
      ]
    },
    {
      "cell_type": "code",
      "source": [
        "# Reindexing with a full date range\n",
        "print(df)\n",
        "full_range = pd.date_range('2025-01-01', '2025-01-10', freq='D')\n",
        "df = df.reindex(full_range)\n",
        "df['Value'] = df['Value'].fillna(0)  # Fill missing values\n",
        "print(df)\n"
      ],
      "metadata": {
        "colab": {
          "base_uri": "https://localhost:8080/"
        },
        "id": "e4u9yx3w5Xso",
        "outputId": "636f3a1c-1014-4e7f-cf16-c7f0d139a2cf"
      },
      "execution_count": 182,
      "outputs": [
        {
          "output_type": "stream",
          "name": "stdout",
          "text": [
            "            Value  Shifted  Rolling_Mean\n",
            "2025-01-01   10.0      NaN           NaN\n",
            "2025-01-02   20.0     10.0          15.0\n",
            "2025-01-03   15.0     20.0          17.5\n",
            "2025-01-04   25.0     15.0          20.0\n",
            "2025-01-05   30.0     25.0          27.5\n",
            "2025-01-06    0.0      NaN           NaN\n",
            "2025-01-07    0.0      NaN           NaN\n",
            "2025-01-08    0.0      NaN           NaN\n",
            "2025-01-09    0.0      NaN           NaN\n",
            "2025-01-10    0.0      NaN           NaN\n"
          ]
        }
      ]
    },
    {
      "cell_type": "code",
      "source": [
        "# Localizing timezone\n",
        "print(df)\n",
        "df.index = df.index.tz_localize('UTC')\n",
        "print(df)\n",
        "# Converting timezone\n",
        "df.index = df.index.tz_convert('US/Eastern')\n",
        "print(df)"
      ],
      "metadata": {
        "colab": {
          "base_uri": "https://localhost:8080/"
        },
        "id": "lfsHIbzq5mP3",
        "outputId": "d8d97456-e75d-4d9c-9026-b43bcc75f780"
      },
      "execution_count": 183,
      "outputs": [
        {
          "output_type": "stream",
          "name": "stdout",
          "text": [
            "            Value  Shifted  Rolling_Mean\n",
            "2025-01-01   10.0      NaN           NaN\n",
            "2025-01-02   20.0     10.0          15.0\n",
            "2025-01-03   15.0     20.0          17.5\n",
            "2025-01-04   25.0     15.0          20.0\n",
            "2025-01-05   30.0     25.0          27.5\n",
            "2025-01-06    0.0      NaN           NaN\n",
            "2025-01-07    0.0      NaN           NaN\n",
            "2025-01-08    0.0      NaN           NaN\n",
            "2025-01-09    0.0      NaN           NaN\n",
            "2025-01-10    0.0      NaN           NaN\n",
            "                           Value  Shifted  Rolling_Mean\n",
            "2025-01-01 00:00:00+00:00   10.0      NaN           NaN\n",
            "2025-01-02 00:00:00+00:00   20.0     10.0          15.0\n",
            "2025-01-03 00:00:00+00:00   15.0     20.0          17.5\n",
            "2025-01-04 00:00:00+00:00   25.0     15.0          20.0\n",
            "2025-01-05 00:00:00+00:00   30.0     25.0          27.5\n",
            "2025-01-06 00:00:00+00:00    0.0      NaN           NaN\n",
            "2025-01-07 00:00:00+00:00    0.0      NaN           NaN\n",
            "2025-01-08 00:00:00+00:00    0.0      NaN           NaN\n",
            "2025-01-09 00:00:00+00:00    0.0      NaN           NaN\n",
            "2025-01-10 00:00:00+00:00    0.0      NaN           NaN\n",
            "                           Value  Shifted  Rolling_Mean\n",
            "2024-12-31 19:00:00-05:00   10.0      NaN           NaN\n",
            "2025-01-01 19:00:00-05:00   20.0     10.0          15.0\n",
            "2025-01-02 19:00:00-05:00   15.0     20.0          17.5\n",
            "2025-01-03 19:00:00-05:00   25.0     15.0          20.0\n",
            "2025-01-04 19:00:00-05:00   30.0     25.0          27.5\n",
            "2025-01-05 19:00:00-05:00    0.0      NaN           NaN\n",
            "2025-01-06 19:00:00-05:00    0.0      NaN           NaN\n",
            "2025-01-07 19:00:00-05:00    0.0      NaN           NaN\n",
            "2025-01-08 19:00:00-05:00    0.0      NaN           NaN\n",
            "2025-01-09 19:00:00-05:00    0.0      NaN           NaN\n"
          ]
        }
      ]
    },
    {
      "cell_type": "markdown",
      "source": [
        "# **Resampling and Shifting**"
      ],
      "metadata": {
        "id": "SyhIT2Ky6psT"
      }
    },
    {
      "cell_type": "code",
      "source": [
        "# Sample time-series data\n",
        "data = pd.DataFrame({\n",
        "    'Value': [10, 20, 30, 40, 50, 60]\n",
        "}, index=pd.date_range('2025-01-01', periods=6, freq='D'))\n",
        "\n",
        "# Downsample to weekly frequency and calculate the sum\n",
        "weekly = data.resample('W').sum()\n",
        "print(weekly)\n"
      ],
      "metadata": {
        "colab": {
          "base_uri": "https://localhost:8080/"
        },
        "id": "p_PsU0UK6rU8",
        "outputId": "91c3083f-f0a3-4cda-bdc1-a1de926d57b3"
      },
      "execution_count": 187,
      "outputs": [
        {
          "output_type": "stream",
          "name": "stdout",
          "text": [
            "            Value\n",
            "2025-01-05    150\n",
            "2025-01-12     60\n"
          ]
        }
      ]
    },
    {
      "cell_type": "code",
      "source": [
        "# Upsample to daily frequency (filling with NaN)\n",
        "print(weekly)\n",
        "upsampled = weekly.resample('D').asfreq()\n",
        "print(upsampled)\n"
      ],
      "metadata": {
        "colab": {
          "base_uri": "https://localhost:8080/"
        },
        "id": "TgKtfRX27Bl0",
        "outputId": "63e25e60-2f91-4f9f-a82a-bc7e66a5d8b4"
      },
      "execution_count": 189,
      "outputs": [
        {
          "output_type": "stream",
          "name": "stdout",
          "text": [
            "            Value\n",
            "2025-01-05    150\n",
            "2025-01-12     60\n",
            "            Value\n",
            "2025-01-05  150.0\n",
            "2025-01-06    NaN\n",
            "2025-01-07    NaN\n",
            "2025-01-08    NaN\n",
            "2025-01-09    NaN\n",
            "2025-01-10    NaN\n",
            "2025-01-11    NaN\n",
            "2025-01-12   60.0\n"
          ]
        }
      ]
    },
    {
      "cell_type": "code",
      "source": [
        "# Calculate the mean for weekly frequency\n",
        "weekly_mean = data.resample('W').mean()\n",
        "print(weekly_mean)\n"
      ],
      "metadata": {
        "colab": {
          "base_uri": "https://localhost:8080/"
        },
        "id": "Ak7yYoQ57XJk",
        "outputId": "a708f08f-0456-40f2-debd-4febf3816493"
      },
      "execution_count": 190,
      "outputs": [
        {
          "output_type": "stream",
          "name": "stdout",
          "text": [
            "            Value\n",
            "2025-01-05   30.0\n",
            "2025-01-12   60.0\n"
          ]
        }
      ]
    },
    {
      "cell_type": "code",
      "source": [
        "# Apply custom aggregation (e.g., sum of squares)\n",
        "custom = data.resample('W').apply(lambda x: (x**2).sum())\n",
        "print(custom)\n"
      ],
      "metadata": {
        "colab": {
          "base_uri": "https://localhost:8080/"
        },
        "id": "lXlpiXuW7a6I",
        "outputId": "473508b9-12b4-4bc5-fa91-37775ba1ee86"
      },
      "execution_count": 191,
      "outputs": [
        {
          "output_type": "stream",
          "name": "stdout",
          "text": [
            "            Value\n",
            "2025-01-05   5500\n",
            "2025-01-12   3600\n"
          ]
        }
      ]
    },
    {
      "cell_type": "code",
      "source": [
        "# Shift data forward by 1 period\n",
        "print(data)\n",
        "shifted_forward = data.shift(1)\n",
        "print(shifted_forward)\n"
      ],
      "metadata": {
        "colab": {
          "base_uri": "https://localhost:8080/"
        },
        "id": "8J1LGya87dj-",
        "outputId": "20a65941-2a2d-430a-d7d7-f9236a5f3c88"
      },
      "execution_count": 194,
      "outputs": [
        {
          "output_type": "stream",
          "name": "stdout",
          "text": [
            "            Value\n",
            "2025-01-01     10\n",
            "2025-01-02     20\n",
            "2025-01-03     30\n",
            "2025-01-04     40\n",
            "2025-01-05     50\n",
            "2025-01-06     60\n",
            "            Value\n",
            "2025-01-01    NaN\n",
            "2025-01-02   10.0\n",
            "2025-01-03   20.0\n",
            "2025-01-04   30.0\n",
            "2025-01-05   40.0\n",
            "2025-01-06   50.0\n"
          ]
        }
      ]
    }
  ]
}